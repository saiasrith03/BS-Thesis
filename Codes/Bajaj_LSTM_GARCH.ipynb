{
  "cells": [
    {
      "cell_type": "code",
      "execution_count": null,
      "metadata": {
        "colab": {
          "base_uri": "https://localhost:8080/"
        },
        "id": "K_lDYo2p75vV",
        "outputId": "3a841b53-9313-4896-defa-69b5306701bf"
      },
      "outputs": [
        {
          "output_type": "stream",
          "name": "stdout",
          "text": [
            "Collecting arch\n",
            "  Downloading arch-6.3.0-cp310-cp310-manylinux_2_17_x86_64.manylinux2014_x86_64.whl (982 kB)\n",
            "\u001b[?25l     \u001b[90m━━━━━━━━━━━━━━━━━━━━━━━━━━━━━━━━━━━━━━━━\u001b[0m \u001b[32m0.0/983.0 kB\u001b[0m \u001b[31m?\u001b[0m eta \u001b[36m-:--:--\u001b[0m\r\u001b[2K     \u001b[91m━━━━\u001b[0m\u001b[90m╺\u001b[0m\u001b[90m━━━━━━━━━━━━━━━━━━━━━━━━━━━━━━━━━━━\u001b[0m \u001b[32m102.4/983.0 kB\u001b[0m \u001b[31m2.9 MB/s\u001b[0m eta \u001b[36m0:00:01\u001b[0m\r\u001b[2K     \u001b[91m━━━━━━━━━━━━━━━━━━━\u001b[0m\u001b[90m╺\u001b[0m\u001b[90m━━━━━━━━━━━━━━━━━━━━\u001b[0m \u001b[32m471.0/983.0 kB\u001b[0m \u001b[31m6.8 MB/s\u001b[0m eta \u001b[36m0:00:01\u001b[0m\r\u001b[2K     \u001b[91m━━━━━━━━━━━━━━━━━━━━━━━━━━━━━━━━━\u001b[0m\u001b[91m╸\u001b[0m\u001b[90m━━━━━━\u001b[0m \u001b[32m829.4/983.0 kB\u001b[0m \u001b[31m7.9 MB/s\u001b[0m eta \u001b[36m0:00:01\u001b[0m\r\u001b[2K     \u001b[90m━━━━━━━━━━━━━━━━━━━━━━━━━━━━━━━━━━━━━━━━\u001b[0m \u001b[32m983.0/983.0 kB\u001b[0m \u001b[31m7.6 MB/s\u001b[0m eta \u001b[36m0:00:00\u001b[0m\n",
            "\u001b[?25hRequirement already satisfied: numpy>=1.19 in /usr/local/lib/python3.10/dist-packages (from arch) (1.25.2)\n",
            "Requirement already satisfied: scipy>=1.5 in /usr/local/lib/python3.10/dist-packages (from arch) (1.11.4)\n",
            "Requirement already satisfied: pandas>=1.1 in /usr/local/lib/python3.10/dist-packages (from arch) (1.5.3)\n",
            "Requirement already satisfied: statsmodels>=0.12 in /usr/local/lib/python3.10/dist-packages (from arch) (0.14.1)\n",
            "Requirement already satisfied: python-dateutil>=2.8.1 in /usr/local/lib/python3.10/dist-packages (from pandas>=1.1->arch) (2.8.2)\n",
            "Requirement already satisfied: pytz>=2020.1 in /usr/local/lib/python3.10/dist-packages (from pandas>=1.1->arch) (2023.4)\n",
            "Requirement already satisfied: patsy>=0.5.4 in /usr/local/lib/python3.10/dist-packages (from statsmodels>=0.12->arch) (0.5.6)\n",
            "Requirement already satisfied: packaging>=21.3 in /usr/local/lib/python3.10/dist-packages (from statsmodels>=0.12->arch) (23.2)\n",
            "Requirement already satisfied: six in /usr/local/lib/python3.10/dist-packages (from patsy>=0.5.4->statsmodels>=0.12->arch) (1.16.0)\n",
            "Installing collected packages: arch\n",
            "Successfully installed arch-6.3.0\n"
          ]
        }
      ],
      "source": [
        "!pip install arch"
      ]
    },
    {
      "cell_type": "code",
      "execution_count": null,
      "metadata": {
        "id": "hgQI4mE38H33"
      },
      "outputs": [],
      "source": [
        "import numpy as np\n",
        "import pandas as pd\n",
        "import seaborn as sns\n",
        "import math\n",
        "import matplotlib.pyplot as plt\n",
        "import plotly.express as px\n",
        "import plotly.graph_objects as go\n",
        "from datetime import timedelta\n",
        "from sklearn.metrics import mean_squared_error, mean_absolute_error\n",
        "plt.style.use('fivethirtyeight') # For plots"
      ]
    },
    {
      "cell_type": "code",
      "execution_count": null,
      "metadata": {
        "colab": {
          "base_uri": "https://localhost:8080/",
          "height": 423
        },
        "id": "pEXXu5mF8JnO",
        "outputId": "57a502a0-ae7b-4d44-82a1-adba34d34e73"
      },
      "outputs": [
        {
          "output_type": "execute_result",
          "data": {
            "text/plain": [
              "            Date     Price      Open      High       Low     Vol. Change %\n",
              "0     01/29/2024  1,637.00  1,631.05  1,640.80  1,618.55  940.17K    0.42%\n",
              "1     01/25/2024  1,630.15  1,621.75  1,635.00  1,613.70    1.74M    0.57%\n",
              "2     01/24/2024  1,620.85  1,594.70  1,622.85  1,578.35    1.39M    2.42%\n",
              "3     01/23/2024  1,582.50  1,597.45  1,615.25  1,575.00    3.03M    0.09%\n",
              "4     01/20/2024  1,581.00  1,600.50  1,610.95  1,577.75  404.13K   -1.22%\n",
              "...          ...       ...       ...       ...       ...      ...      ...\n",
              "3877  06/02/2008     67.49     63.86     68.67     61.11   22.88M    6.67%\n",
              "3878  05/30/2008     63.27     63.11     65.63     57.80   31.12M    1.83%\n",
              "3879  05/29/2008     62.13     64.51     69.07     59.73   46.03M   -1.33%\n",
              "3880  05/28/2008     62.97     55.41     65.39     55.41   46.71M   15.56%\n",
              "3881  05/27/2008     54.49     49.61     60.02     48.25   44.27M    8.94%\n",
              "\n",
              "[3882 rows x 7 columns]"
            ],
            "text/html": [
              "\n",
              "  <div id=\"df-46dd2735-c4ca-4c07-818d-5b0afe0a08b2\" class=\"colab-df-container\">\n",
              "    <div>\n",
              "<style scoped>\n",
              "    .dataframe tbody tr th:only-of-type {\n",
              "        vertical-align: middle;\n",
              "    }\n",
              "\n",
              "    .dataframe tbody tr th {\n",
              "        vertical-align: top;\n",
              "    }\n",
              "\n",
              "    .dataframe thead th {\n",
              "        text-align: right;\n",
              "    }\n",
              "</style>\n",
              "<table border=\"1\" class=\"dataframe\">\n",
              "  <thead>\n",
              "    <tr style=\"text-align: right;\">\n",
              "      <th></th>\n",
              "      <th>Date</th>\n",
              "      <th>Price</th>\n",
              "      <th>Open</th>\n",
              "      <th>High</th>\n",
              "      <th>Low</th>\n",
              "      <th>Vol.</th>\n",
              "      <th>Change %</th>\n",
              "    </tr>\n",
              "  </thead>\n",
              "  <tbody>\n",
              "    <tr>\n",
              "      <th>0</th>\n",
              "      <td>01/29/2024</td>\n",
              "      <td>1,637.00</td>\n",
              "      <td>1,631.05</td>\n",
              "      <td>1,640.80</td>\n",
              "      <td>1,618.55</td>\n",
              "      <td>940.17K</td>\n",
              "      <td>0.42%</td>\n",
              "    </tr>\n",
              "    <tr>\n",
              "      <th>1</th>\n",
              "      <td>01/25/2024</td>\n",
              "      <td>1,630.15</td>\n",
              "      <td>1,621.75</td>\n",
              "      <td>1,635.00</td>\n",
              "      <td>1,613.70</td>\n",
              "      <td>1.74M</td>\n",
              "      <td>0.57%</td>\n",
              "    </tr>\n",
              "    <tr>\n",
              "      <th>2</th>\n",
              "      <td>01/24/2024</td>\n",
              "      <td>1,620.85</td>\n",
              "      <td>1,594.70</td>\n",
              "      <td>1,622.85</td>\n",
              "      <td>1,578.35</td>\n",
              "      <td>1.39M</td>\n",
              "      <td>2.42%</td>\n",
              "    </tr>\n",
              "    <tr>\n",
              "      <th>3</th>\n",
              "      <td>01/23/2024</td>\n",
              "      <td>1,582.50</td>\n",
              "      <td>1,597.45</td>\n",
              "      <td>1,615.25</td>\n",
              "      <td>1,575.00</td>\n",
              "      <td>3.03M</td>\n",
              "      <td>0.09%</td>\n",
              "    </tr>\n",
              "    <tr>\n",
              "      <th>4</th>\n",
              "      <td>01/20/2024</td>\n",
              "      <td>1,581.00</td>\n",
              "      <td>1,600.50</td>\n",
              "      <td>1,610.95</td>\n",
              "      <td>1,577.75</td>\n",
              "      <td>404.13K</td>\n",
              "      <td>-1.22%</td>\n",
              "    </tr>\n",
              "    <tr>\n",
              "      <th>...</th>\n",
              "      <td>...</td>\n",
              "      <td>...</td>\n",
              "      <td>...</td>\n",
              "      <td>...</td>\n",
              "      <td>...</td>\n",
              "      <td>...</td>\n",
              "      <td>...</td>\n",
              "    </tr>\n",
              "    <tr>\n",
              "      <th>3877</th>\n",
              "      <td>06/02/2008</td>\n",
              "      <td>67.49</td>\n",
              "      <td>63.86</td>\n",
              "      <td>68.67</td>\n",
              "      <td>61.11</td>\n",
              "      <td>22.88M</td>\n",
              "      <td>6.67%</td>\n",
              "    </tr>\n",
              "    <tr>\n",
              "      <th>3878</th>\n",
              "      <td>05/30/2008</td>\n",
              "      <td>63.27</td>\n",
              "      <td>63.11</td>\n",
              "      <td>65.63</td>\n",
              "      <td>57.80</td>\n",
              "      <td>31.12M</td>\n",
              "      <td>1.83%</td>\n",
              "    </tr>\n",
              "    <tr>\n",
              "      <th>3879</th>\n",
              "      <td>05/29/2008</td>\n",
              "      <td>62.13</td>\n",
              "      <td>64.51</td>\n",
              "      <td>69.07</td>\n",
              "      <td>59.73</td>\n",
              "      <td>46.03M</td>\n",
              "      <td>-1.33%</td>\n",
              "    </tr>\n",
              "    <tr>\n",
              "      <th>3880</th>\n",
              "      <td>05/28/2008</td>\n",
              "      <td>62.97</td>\n",
              "      <td>55.41</td>\n",
              "      <td>65.39</td>\n",
              "      <td>55.41</td>\n",
              "      <td>46.71M</td>\n",
              "      <td>15.56%</td>\n",
              "    </tr>\n",
              "    <tr>\n",
              "      <th>3881</th>\n",
              "      <td>05/27/2008</td>\n",
              "      <td>54.49</td>\n",
              "      <td>49.61</td>\n",
              "      <td>60.02</td>\n",
              "      <td>48.25</td>\n",
              "      <td>44.27M</td>\n",
              "      <td>8.94%</td>\n",
              "    </tr>\n",
              "  </tbody>\n",
              "</table>\n",
              "<p>3882 rows × 7 columns</p>\n",
              "</div>\n",
              "    <div class=\"colab-df-buttons\">\n",
              "\n",
              "  <div class=\"colab-df-container\">\n",
              "    <button class=\"colab-df-convert\" onclick=\"convertToInteractive('df-46dd2735-c4ca-4c07-818d-5b0afe0a08b2')\"\n",
              "            title=\"Convert this dataframe to an interactive table.\"\n",
              "            style=\"display:none;\">\n",
              "\n",
              "  <svg xmlns=\"http://www.w3.org/2000/svg\" height=\"24px\" viewBox=\"0 -960 960 960\">\n",
              "    <path d=\"M120-120v-720h720v720H120Zm60-500h600v-160H180v160Zm220 220h160v-160H400v160Zm0 220h160v-160H400v160ZM180-400h160v-160H180v160Zm440 0h160v-160H620v160ZM180-180h160v-160H180v160Zm440 0h160v-160H620v160Z\"/>\n",
              "  </svg>\n",
              "    </button>\n",
              "\n",
              "  <style>\n",
              "    .colab-df-container {\n",
              "      display:flex;\n",
              "      gap: 12px;\n",
              "    }\n",
              "\n",
              "    .colab-df-convert {\n",
              "      background-color: #E8F0FE;\n",
              "      border: none;\n",
              "      border-radius: 50%;\n",
              "      cursor: pointer;\n",
              "      display: none;\n",
              "      fill: #1967D2;\n",
              "      height: 32px;\n",
              "      padding: 0 0 0 0;\n",
              "      width: 32px;\n",
              "    }\n",
              "\n",
              "    .colab-df-convert:hover {\n",
              "      background-color: #E2EBFA;\n",
              "      box-shadow: 0px 1px 2px rgba(60, 64, 67, 0.3), 0px 1px 3px 1px rgba(60, 64, 67, 0.15);\n",
              "      fill: #174EA6;\n",
              "    }\n",
              "\n",
              "    .colab-df-buttons div {\n",
              "      margin-bottom: 4px;\n",
              "    }\n",
              "\n",
              "    [theme=dark] .colab-df-convert {\n",
              "      background-color: #3B4455;\n",
              "      fill: #D2E3FC;\n",
              "    }\n",
              "\n",
              "    [theme=dark] .colab-df-convert:hover {\n",
              "      background-color: #434B5C;\n",
              "      box-shadow: 0px 1px 3px 1px rgba(0, 0, 0, 0.15);\n",
              "      filter: drop-shadow(0px 1px 2px rgba(0, 0, 0, 0.3));\n",
              "      fill: #FFFFFF;\n",
              "    }\n",
              "  </style>\n",
              "\n",
              "    <script>\n",
              "      const buttonEl =\n",
              "        document.querySelector('#df-46dd2735-c4ca-4c07-818d-5b0afe0a08b2 button.colab-df-convert');\n",
              "      buttonEl.style.display =\n",
              "        google.colab.kernel.accessAllowed ? 'block' : 'none';\n",
              "\n",
              "      async function convertToInteractive(key) {\n",
              "        const element = document.querySelector('#df-46dd2735-c4ca-4c07-818d-5b0afe0a08b2');\n",
              "        const dataTable =\n",
              "          await google.colab.kernel.invokeFunction('convertToInteractive',\n",
              "                                                    [key], {});\n",
              "        if (!dataTable) return;\n",
              "\n",
              "        const docLinkHtml = 'Like what you see? Visit the ' +\n",
              "          '<a target=\"_blank\" href=https://colab.research.google.com/notebooks/data_table.ipynb>data table notebook</a>'\n",
              "          + ' to learn more about interactive tables.';\n",
              "        element.innerHTML = '';\n",
              "        dataTable['output_type'] = 'display_data';\n",
              "        await google.colab.output.renderOutput(dataTable, element);\n",
              "        const docLink = document.createElement('div');\n",
              "        docLink.innerHTML = docLinkHtml;\n",
              "        element.appendChild(docLink);\n",
              "      }\n",
              "    </script>\n",
              "  </div>\n",
              "\n",
              "\n",
              "<div id=\"df-1e220a42-71e1-4f79-80f5-6f9aa6919572\">\n",
              "  <button class=\"colab-df-quickchart\" onclick=\"quickchart('df-1e220a42-71e1-4f79-80f5-6f9aa6919572')\"\n",
              "            title=\"Suggest charts\"\n",
              "            style=\"display:none;\">\n",
              "\n",
              "<svg xmlns=\"http://www.w3.org/2000/svg\" height=\"24px\"viewBox=\"0 0 24 24\"\n",
              "     width=\"24px\">\n",
              "    <g>\n",
              "        <path d=\"M19 3H5c-1.1 0-2 .9-2 2v14c0 1.1.9 2 2 2h14c1.1 0 2-.9 2-2V5c0-1.1-.9-2-2-2zM9 17H7v-7h2v7zm4 0h-2V7h2v10zm4 0h-2v-4h2v4z\"/>\n",
              "    </g>\n",
              "</svg>\n",
              "  </button>\n",
              "\n",
              "<style>\n",
              "  .colab-df-quickchart {\n",
              "      --bg-color: #E8F0FE;\n",
              "      --fill-color: #1967D2;\n",
              "      --hover-bg-color: #E2EBFA;\n",
              "      --hover-fill-color: #174EA6;\n",
              "      --disabled-fill-color: #AAA;\n",
              "      --disabled-bg-color: #DDD;\n",
              "  }\n",
              "\n",
              "  [theme=dark] .colab-df-quickchart {\n",
              "      --bg-color: #3B4455;\n",
              "      --fill-color: #D2E3FC;\n",
              "      --hover-bg-color: #434B5C;\n",
              "      --hover-fill-color: #FFFFFF;\n",
              "      --disabled-bg-color: #3B4455;\n",
              "      --disabled-fill-color: #666;\n",
              "  }\n",
              "\n",
              "  .colab-df-quickchart {\n",
              "    background-color: var(--bg-color);\n",
              "    border: none;\n",
              "    border-radius: 50%;\n",
              "    cursor: pointer;\n",
              "    display: none;\n",
              "    fill: var(--fill-color);\n",
              "    height: 32px;\n",
              "    padding: 0;\n",
              "    width: 32px;\n",
              "  }\n",
              "\n",
              "  .colab-df-quickchart:hover {\n",
              "    background-color: var(--hover-bg-color);\n",
              "    box-shadow: 0 1px 2px rgba(60, 64, 67, 0.3), 0 1px 3px 1px rgba(60, 64, 67, 0.15);\n",
              "    fill: var(--button-hover-fill-color);\n",
              "  }\n",
              "\n",
              "  .colab-df-quickchart-complete:disabled,\n",
              "  .colab-df-quickchart-complete:disabled:hover {\n",
              "    background-color: var(--disabled-bg-color);\n",
              "    fill: var(--disabled-fill-color);\n",
              "    box-shadow: none;\n",
              "  }\n",
              "\n",
              "  .colab-df-spinner {\n",
              "    border: 2px solid var(--fill-color);\n",
              "    border-color: transparent;\n",
              "    border-bottom-color: var(--fill-color);\n",
              "    animation:\n",
              "      spin 1s steps(1) infinite;\n",
              "  }\n",
              "\n",
              "  @keyframes spin {\n",
              "    0% {\n",
              "      border-color: transparent;\n",
              "      border-bottom-color: var(--fill-color);\n",
              "      border-left-color: var(--fill-color);\n",
              "    }\n",
              "    20% {\n",
              "      border-color: transparent;\n",
              "      border-left-color: var(--fill-color);\n",
              "      border-top-color: var(--fill-color);\n",
              "    }\n",
              "    30% {\n",
              "      border-color: transparent;\n",
              "      border-left-color: var(--fill-color);\n",
              "      border-top-color: var(--fill-color);\n",
              "      border-right-color: var(--fill-color);\n",
              "    }\n",
              "    40% {\n",
              "      border-color: transparent;\n",
              "      border-right-color: var(--fill-color);\n",
              "      border-top-color: var(--fill-color);\n",
              "    }\n",
              "    60% {\n",
              "      border-color: transparent;\n",
              "      border-right-color: var(--fill-color);\n",
              "    }\n",
              "    80% {\n",
              "      border-color: transparent;\n",
              "      border-right-color: var(--fill-color);\n",
              "      border-bottom-color: var(--fill-color);\n",
              "    }\n",
              "    90% {\n",
              "      border-color: transparent;\n",
              "      border-bottom-color: var(--fill-color);\n",
              "    }\n",
              "  }\n",
              "</style>\n",
              "\n",
              "  <script>\n",
              "    async function quickchart(key) {\n",
              "      const quickchartButtonEl =\n",
              "        document.querySelector('#' + key + ' button');\n",
              "      quickchartButtonEl.disabled = true;  // To prevent multiple clicks.\n",
              "      quickchartButtonEl.classList.add('colab-df-spinner');\n",
              "      try {\n",
              "        const charts = await google.colab.kernel.invokeFunction(\n",
              "            'suggestCharts', [key], {});\n",
              "      } catch (error) {\n",
              "        console.error('Error during call to suggestCharts:', error);\n",
              "      }\n",
              "      quickchartButtonEl.classList.remove('colab-df-spinner');\n",
              "      quickchartButtonEl.classList.add('colab-df-quickchart-complete');\n",
              "    }\n",
              "    (() => {\n",
              "      let quickchartButtonEl =\n",
              "        document.querySelector('#df-1e220a42-71e1-4f79-80f5-6f9aa6919572 button');\n",
              "      quickchartButtonEl.style.display =\n",
              "        google.colab.kernel.accessAllowed ? 'block' : 'none';\n",
              "    })();\n",
              "  </script>\n",
              "</div>\n",
              "\n",
              "  <div id=\"id_f418cde0-ea54-4da8-a966-ce516a157804\">\n",
              "    <style>\n",
              "      .colab-df-generate {\n",
              "        background-color: #E8F0FE;\n",
              "        border: none;\n",
              "        border-radius: 50%;\n",
              "        cursor: pointer;\n",
              "        display: none;\n",
              "        fill: #1967D2;\n",
              "        height: 32px;\n",
              "        padding: 0 0 0 0;\n",
              "        width: 32px;\n",
              "      }\n",
              "\n",
              "      .colab-df-generate:hover {\n",
              "        background-color: #E2EBFA;\n",
              "        box-shadow: 0px 1px 2px rgba(60, 64, 67, 0.3), 0px 1px 3px 1px rgba(60, 64, 67, 0.15);\n",
              "        fill: #174EA6;\n",
              "      }\n",
              "\n",
              "      [theme=dark] .colab-df-generate {\n",
              "        background-color: #3B4455;\n",
              "        fill: #D2E3FC;\n",
              "      }\n",
              "\n",
              "      [theme=dark] .colab-df-generate:hover {\n",
              "        background-color: #434B5C;\n",
              "        box-shadow: 0px 1px 3px 1px rgba(0, 0, 0, 0.15);\n",
              "        filter: drop-shadow(0px 1px 2px rgba(0, 0, 0, 0.3));\n",
              "        fill: #FFFFFF;\n",
              "      }\n",
              "    </style>\n",
              "    <button class=\"colab-df-generate\" onclick=\"generateWithVariable('bajaj_df')\"\n",
              "            title=\"Generate code using this dataframe.\"\n",
              "            style=\"display:none;\">\n",
              "\n",
              "  <svg xmlns=\"http://www.w3.org/2000/svg\" height=\"24px\"viewBox=\"0 0 24 24\"\n",
              "       width=\"24px\">\n",
              "    <path d=\"M7,19H8.4L18.45,9,17,7.55,7,17.6ZM5,21V16.75L18.45,3.32a2,2,0,0,1,2.83,0l1.4,1.43a1.91,1.91,0,0,1,.58,1.4,1.91,1.91,0,0,1-.58,1.4L9.25,21ZM18.45,9,17,7.55Zm-12,3A5.31,5.31,0,0,0,4.9,8.1,5.31,5.31,0,0,0,1,6.5,5.31,5.31,0,0,0,4.9,4.9,5.31,5.31,0,0,0,6.5,1,5.31,5.31,0,0,0,8.1,4.9,5.31,5.31,0,0,0,12,6.5,5.46,5.46,0,0,0,6.5,12Z\"/>\n",
              "  </svg>\n",
              "    </button>\n",
              "    <script>\n",
              "      (() => {\n",
              "      const buttonEl =\n",
              "        document.querySelector('#id_f418cde0-ea54-4da8-a966-ce516a157804 button.colab-df-generate');\n",
              "      buttonEl.style.display =\n",
              "        google.colab.kernel.accessAllowed ? 'block' : 'none';\n",
              "\n",
              "      buttonEl.onclick = () => {\n",
              "        google.colab.notebook.generateWithVariable('bajaj_df');\n",
              "      }\n",
              "      })();\n",
              "    </script>\n",
              "  </div>\n",
              "\n",
              "    </div>\n",
              "  </div>\n"
            ],
            "application/vnd.google.colaboratory.intrinsic+json": {
              "type": "dataframe",
              "variable_name": "bajaj_df",
              "repr_error": "'str' object has no attribute 'empty'"
            }
          },
          "metadata": {},
          "execution_count": 3
        }
      ],
      "source": [
        "bajaj_df = pd.read_csv('bajaj.csv')\n",
        "bajaj_df"
      ]
    },
    {
      "cell_type": "code",
      "execution_count": null,
      "metadata": {
        "colab": {
          "base_uri": "https://localhost:8080/",
          "height": 423
        },
        "id": "l3rzsbLh8M2H",
        "outputId": "412fb076-87d3-4bf8-c5f9-c0e1d0f2a4f3"
      },
      "outputs": [
        {
          "output_type": "execute_result",
          "data": {
            "text/plain": [
              "            Date     Price      Open      High       Low     Vol. Change %\n",
              "0     01/29/2024  1,637.00  1,631.05  1,640.80  1,618.55  940.17K    0.42%\n",
              "1     01/25/2024  1,630.15  1,621.75  1,635.00  1,613.70    1.74M    0.57%\n",
              "2     01/24/2024  1,620.85  1,594.70  1,622.85  1,578.35    1.39M    2.42%\n",
              "3     01/23/2024  1,582.50  1,597.45  1,615.25  1,575.00    3.03M    0.09%\n",
              "4     01/20/2024  1,581.00  1,600.50  1,610.95  1,577.75  404.13K   -1.22%\n",
              "...          ...       ...       ...       ...       ...      ...      ...\n",
              "3877  06/02/2008     67.49     63.86     68.67     61.11   22.88M    6.67%\n",
              "3878  05/30/2008     63.27     63.11     65.63     57.80   31.12M    1.83%\n",
              "3879  05/29/2008     62.13     64.51     69.07     59.73   46.03M   -1.33%\n",
              "3880  05/28/2008     62.97     55.41     65.39     55.41   46.71M   15.56%\n",
              "3881  05/27/2008     54.49     49.61     60.02     48.25   44.27M    8.94%\n",
              "\n",
              "[3882 rows x 7 columns]"
            ],
            "text/html": [
              "\n",
              "  <div id=\"df-33fbc091-6c55-4f59-944e-afdbf2fc1903\" class=\"colab-df-container\">\n",
              "    <div>\n",
              "<style scoped>\n",
              "    .dataframe tbody tr th:only-of-type {\n",
              "        vertical-align: middle;\n",
              "    }\n",
              "\n",
              "    .dataframe tbody tr th {\n",
              "        vertical-align: top;\n",
              "    }\n",
              "\n",
              "    .dataframe thead th {\n",
              "        text-align: right;\n",
              "    }\n",
              "</style>\n",
              "<table border=\"1\" class=\"dataframe\">\n",
              "  <thead>\n",
              "    <tr style=\"text-align: right;\">\n",
              "      <th></th>\n",
              "      <th>Date</th>\n",
              "      <th>Price</th>\n",
              "      <th>Open</th>\n",
              "      <th>High</th>\n",
              "      <th>Low</th>\n",
              "      <th>Vol.</th>\n",
              "      <th>Change %</th>\n",
              "    </tr>\n",
              "  </thead>\n",
              "  <tbody>\n",
              "    <tr>\n",
              "      <th>0</th>\n",
              "      <td>01/29/2024</td>\n",
              "      <td>1,637.00</td>\n",
              "      <td>1,631.05</td>\n",
              "      <td>1,640.80</td>\n",
              "      <td>1,618.55</td>\n",
              "      <td>940.17K</td>\n",
              "      <td>0.42%</td>\n",
              "    </tr>\n",
              "    <tr>\n",
              "      <th>1</th>\n",
              "      <td>01/25/2024</td>\n",
              "      <td>1,630.15</td>\n",
              "      <td>1,621.75</td>\n",
              "      <td>1,635.00</td>\n",
              "      <td>1,613.70</td>\n",
              "      <td>1.74M</td>\n",
              "      <td>0.57%</td>\n",
              "    </tr>\n",
              "    <tr>\n",
              "      <th>2</th>\n",
              "      <td>01/24/2024</td>\n",
              "      <td>1,620.85</td>\n",
              "      <td>1,594.70</td>\n",
              "      <td>1,622.85</td>\n",
              "      <td>1,578.35</td>\n",
              "      <td>1.39M</td>\n",
              "      <td>2.42%</td>\n",
              "    </tr>\n",
              "    <tr>\n",
              "      <th>3</th>\n",
              "      <td>01/23/2024</td>\n",
              "      <td>1,582.50</td>\n",
              "      <td>1,597.45</td>\n",
              "      <td>1,615.25</td>\n",
              "      <td>1,575.00</td>\n",
              "      <td>3.03M</td>\n",
              "      <td>0.09%</td>\n",
              "    </tr>\n",
              "    <tr>\n",
              "      <th>4</th>\n",
              "      <td>01/20/2024</td>\n",
              "      <td>1,581.00</td>\n",
              "      <td>1,600.50</td>\n",
              "      <td>1,610.95</td>\n",
              "      <td>1,577.75</td>\n",
              "      <td>404.13K</td>\n",
              "      <td>-1.22%</td>\n",
              "    </tr>\n",
              "    <tr>\n",
              "      <th>...</th>\n",
              "      <td>...</td>\n",
              "      <td>...</td>\n",
              "      <td>...</td>\n",
              "      <td>...</td>\n",
              "      <td>...</td>\n",
              "      <td>...</td>\n",
              "      <td>...</td>\n",
              "    </tr>\n",
              "    <tr>\n",
              "      <th>3877</th>\n",
              "      <td>06/02/2008</td>\n",
              "      <td>67.49</td>\n",
              "      <td>63.86</td>\n",
              "      <td>68.67</td>\n",
              "      <td>61.11</td>\n",
              "      <td>22.88M</td>\n",
              "      <td>6.67%</td>\n",
              "    </tr>\n",
              "    <tr>\n",
              "      <th>3878</th>\n",
              "      <td>05/30/2008</td>\n",
              "      <td>63.27</td>\n",
              "      <td>63.11</td>\n",
              "      <td>65.63</td>\n",
              "      <td>57.80</td>\n",
              "      <td>31.12M</td>\n",
              "      <td>1.83%</td>\n",
              "    </tr>\n",
              "    <tr>\n",
              "      <th>3879</th>\n",
              "      <td>05/29/2008</td>\n",
              "      <td>62.13</td>\n",
              "      <td>64.51</td>\n",
              "      <td>69.07</td>\n",
              "      <td>59.73</td>\n",
              "      <td>46.03M</td>\n",
              "      <td>-1.33%</td>\n",
              "    </tr>\n",
              "    <tr>\n",
              "      <th>3880</th>\n",
              "      <td>05/28/2008</td>\n",
              "      <td>62.97</td>\n",
              "      <td>55.41</td>\n",
              "      <td>65.39</td>\n",
              "      <td>55.41</td>\n",
              "      <td>46.71M</td>\n",
              "      <td>15.56%</td>\n",
              "    </tr>\n",
              "    <tr>\n",
              "      <th>3881</th>\n",
              "      <td>05/27/2008</td>\n",
              "      <td>54.49</td>\n",
              "      <td>49.61</td>\n",
              "      <td>60.02</td>\n",
              "      <td>48.25</td>\n",
              "      <td>44.27M</td>\n",
              "      <td>8.94%</td>\n",
              "    </tr>\n",
              "  </tbody>\n",
              "</table>\n",
              "<p>3882 rows × 7 columns</p>\n",
              "</div>\n",
              "    <div class=\"colab-df-buttons\">\n",
              "\n",
              "  <div class=\"colab-df-container\">\n",
              "    <button class=\"colab-df-convert\" onclick=\"convertToInteractive('df-33fbc091-6c55-4f59-944e-afdbf2fc1903')\"\n",
              "            title=\"Convert this dataframe to an interactive table.\"\n",
              "            style=\"display:none;\">\n",
              "\n",
              "  <svg xmlns=\"http://www.w3.org/2000/svg\" height=\"24px\" viewBox=\"0 -960 960 960\">\n",
              "    <path d=\"M120-120v-720h720v720H120Zm60-500h600v-160H180v160Zm220 220h160v-160H400v160Zm0 220h160v-160H400v160ZM180-400h160v-160H180v160Zm440 0h160v-160H620v160ZM180-180h160v-160H180v160Zm440 0h160v-160H620v160Z\"/>\n",
              "  </svg>\n",
              "    </button>\n",
              "\n",
              "  <style>\n",
              "    .colab-df-container {\n",
              "      display:flex;\n",
              "      gap: 12px;\n",
              "    }\n",
              "\n",
              "    .colab-df-convert {\n",
              "      background-color: #E8F0FE;\n",
              "      border: none;\n",
              "      border-radius: 50%;\n",
              "      cursor: pointer;\n",
              "      display: none;\n",
              "      fill: #1967D2;\n",
              "      height: 32px;\n",
              "      padding: 0 0 0 0;\n",
              "      width: 32px;\n",
              "    }\n",
              "\n",
              "    .colab-df-convert:hover {\n",
              "      background-color: #E2EBFA;\n",
              "      box-shadow: 0px 1px 2px rgba(60, 64, 67, 0.3), 0px 1px 3px 1px rgba(60, 64, 67, 0.15);\n",
              "      fill: #174EA6;\n",
              "    }\n",
              "\n",
              "    .colab-df-buttons div {\n",
              "      margin-bottom: 4px;\n",
              "    }\n",
              "\n",
              "    [theme=dark] .colab-df-convert {\n",
              "      background-color: #3B4455;\n",
              "      fill: #D2E3FC;\n",
              "    }\n",
              "\n",
              "    [theme=dark] .colab-df-convert:hover {\n",
              "      background-color: #434B5C;\n",
              "      box-shadow: 0px 1px 3px 1px rgba(0, 0, 0, 0.15);\n",
              "      filter: drop-shadow(0px 1px 2px rgba(0, 0, 0, 0.3));\n",
              "      fill: #FFFFFF;\n",
              "    }\n",
              "  </style>\n",
              "\n",
              "    <script>\n",
              "      const buttonEl =\n",
              "        document.querySelector('#df-33fbc091-6c55-4f59-944e-afdbf2fc1903 button.colab-df-convert');\n",
              "      buttonEl.style.display =\n",
              "        google.colab.kernel.accessAllowed ? 'block' : 'none';\n",
              "\n",
              "      async function convertToInteractive(key) {\n",
              "        const element = document.querySelector('#df-33fbc091-6c55-4f59-944e-afdbf2fc1903');\n",
              "        const dataTable =\n",
              "          await google.colab.kernel.invokeFunction('convertToInteractive',\n",
              "                                                    [key], {});\n",
              "        if (!dataTable) return;\n",
              "\n",
              "        const docLinkHtml = 'Like what you see? Visit the ' +\n",
              "          '<a target=\"_blank\" href=https://colab.research.google.com/notebooks/data_table.ipynb>data table notebook</a>'\n",
              "          + ' to learn more about interactive tables.';\n",
              "        element.innerHTML = '';\n",
              "        dataTable['output_type'] = 'display_data';\n",
              "        await google.colab.output.renderOutput(dataTable, element);\n",
              "        const docLink = document.createElement('div');\n",
              "        docLink.innerHTML = docLinkHtml;\n",
              "        element.appendChild(docLink);\n",
              "      }\n",
              "    </script>\n",
              "  </div>\n",
              "\n",
              "\n",
              "<div id=\"df-c29ee74f-d9da-4f97-9f67-f0b725d3ee31\">\n",
              "  <button class=\"colab-df-quickchart\" onclick=\"quickchart('df-c29ee74f-d9da-4f97-9f67-f0b725d3ee31')\"\n",
              "            title=\"Suggest charts\"\n",
              "            style=\"display:none;\">\n",
              "\n",
              "<svg xmlns=\"http://www.w3.org/2000/svg\" height=\"24px\"viewBox=\"0 0 24 24\"\n",
              "     width=\"24px\">\n",
              "    <g>\n",
              "        <path d=\"M19 3H5c-1.1 0-2 .9-2 2v14c0 1.1.9 2 2 2h14c1.1 0 2-.9 2-2V5c0-1.1-.9-2-2-2zM9 17H7v-7h2v7zm4 0h-2V7h2v10zm4 0h-2v-4h2v4z\"/>\n",
              "    </g>\n",
              "</svg>\n",
              "  </button>\n",
              "\n",
              "<style>\n",
              "  .colab-df-quickchart {\n",
              "      --bg-color: #E8F0FE;\n",
              "      --fill-color: #1967D2;\n",
              "      --hover-bg-color: #E2EBFA;\n",
              "      --hover-fill-color: #174EA6;\n",
              "      --disabled-fill-color: #AAA;\n",
              "      --disabled-bg-color: #DDD;\n",
              "  }\n",
              "\n",
              "  [theme=dark] .colab-df-quickchart {\n",
              "      --bg-color: #3B4455;\n",
              "      --fill-color: #D2E3FC;\n",
              "      --hover-bg-color: #434B5C;\n",
              "      --hover-fill-color: #FFFFFF;\n",
              "      --disabled-bg-color: #3B4455;\n",
              "      --disabled-fill-color: #666;\n",
              "  }\n",
              "\n",
              "  .colab-df-quickchart {\n",
              "    background-color: var(--bg-color);\n",
              "    border: none;\n",
              "    border-radius: 50%;\n",
              "    cursor: pointer;\n",
              "    display: none;\n",
              "    fill: var(--fill-color);\n",
              "    height: 32px;\n",
              "    padding: 0;\n",
              "    width: 32px;\n",
              "  }\n",
              "\n",
              "  .colab-df-quickchart:hover {\n",
              "    background-color: var(--hover-bg-color);\n",
              "    box-shadow: 0 1px 2px rgba(60, 64, 67, 0.3), 0 1px 3px 1px rgba(60, 64, 67, 0.15);\n",
              "    fill: var(--button-hover-fill-color);\n",
              "  }\n",
              "\n",
              "  .colab-df-quickchart-complete:disabled,\n",
              "  .colab-df-quickchart-complete:disabled:hover {\n",
              "    background-color: var(--disabled-bg-color);\n",
              "    fill: var(--disabled-fill-color);\n",
              "    box-shadow: none;\n",
              "  }\n",
              "\n",
              "  .colab-df-spinner {\n",
              "    border: 2px solid var(--fill-color);\n",
              "    border-color: transparent;\n",
              "    border-bottom-color: var(--fill-color);\n",
              "    animation:\n",
              "      spin 1s steps(1) infinite;\n",
              "  }\n",
              "\n",
              "  @keyframes spin {\n",
              "    0% {\n",
              "      border-color: transparent;\n",
              "      border-bottom-color: var(--fill-color);\n",
              "      border-left-color: var(--fill-color);\n",
              "    }\n",
              "    20% {\n",
              "      border-color: transparent;\n",
              "      border-left-color: var(--fill-color);\n",
              "      border-top-color: var(--fill-color);\n",
              "    }\n",
              "    30% {\n",
              "      border-color: transparent;\n",
              "      border-left-color: var(--fill-color);\n",
              "      border-top-color: var(--fill-color);\n",
              "      border-right-color: var(--fill-color);\n",
              "    }\n",
              "    40% {\n",
              "      border-color: transparent;\n",
              "      border-right-color: var(--fill-color);\n",
              "      border-top-color: var(--fill-color);\n",
              "    }\n",
              "    60% {\n",
              "      border-color: transparent;\n",
              "      border-right-color: var(--fill-color);\n",
              "    }\n",
              "    80% {\n",
              "      border-color: transparent;\n",
              "      border-right-color: var(--fill-color);\n",
              "      border-bottom-color: var(--fill-color);\n",
              "    }\n",
              "    90% {\n",
              "      border-color: transparent;\n",
              "      border-bottom-color: var(--fill-color);\n",
              "    }\n",
              "  }\n",
              "</style>\n",
              "\n",
              "  <script>\n",
              "    async function quickchart(key) {\n",
              "      const quickchartButtonEl =\n",
              "        document.querySelector('#' + key + ' button');\n",
              "      quickchartButtonEl.disabled = true;  // To prevent multiple clicks.\n",
              "      quickchartButtonEl.classList.add('colab-df-spinner');\n",
              "      try {\n",
              "        const charts = await google.colab.kernel.invokeFunction(\n",
              "            'suggestCharts', [key], {});\n",
              "      } catch (error) {\n",
              "        console.error('Error during call to suggestCharts:', error);\n",
              "      }\n",
              "      quickchartButtonEl.classList.remove('colab-df-spinner');\n",
              "      quickchartButtonEl.classList.add('colab-df-quickchart-complete');\n",
              "    }\n",
              "    (() => {\n",
              "      let quickchartButtonEl =\n",
              "        document.querySelector('#df-c29ee74f-d9da-4f97-9f67-f0b725d3ee31 button');\n",
              "      quickchartButtonEl.style.display =\n",
              "        google.colab.kernel.accessAllowed ? 'block' : 'none';\n",
              "    })();\n",
              "  </script>\n",
              "</div>\n",
              "\n",
              "  <div id=\"id_b6fffbb9-253d-415b-a382-380aa9c5c2e3\">\n",
              "    <style>\n",
              "      .colab-df-generate {\n",
              "        background-color: #E8F0FE;\n",
              "        border: none;\n",
              "        border-radius: 50%;\n",
              "        cursor: pointer;\n",
              "        display: none;\n",
              "        fill: #1967D2;\n",
              "        height: 32px;\n",
              "        padding: 0 0 0 0;\n",
              "        width: 32px;\n",
              "      }\n",
              "\n",
              "      .colab-df-generate:hover {\n",
              "        background-color: #E2EBFA;\n",
              "        box-shadow: 0px 1px 2px rgba(60, 64, 67, 0.3), 0px 1px 3px 1px rgba(60, 64, 67, 0.15);\n",
              "        fill: #174EA6;\n",
              "      }\n",
              "\n",
              "      [theme=dark] .colab-df-generate {\n",
              "        background-color: #3B4455;\n",
              "        fill: #D2E3FC;\n",
              "      }\n",
              "\n",
              "      [theme=dark] .colab-df-generate:hover {\n",
              "        background-color: #434B5C;\n",
              "        box-shadow: 0px 1px 3px 1px rgba(0, 0, 0, 0.15);\n",
              "        filter: drop-shadow(0px 1px 2px rgba(0, 0, 0, 0.3));\n",
              "        fill: #FFFFFF;\n",
              "      }\n",
              "    </style>\n",
              "    <button class=\"colab-df-generate\" onclick=\"generateWithVariable('bajaj_df')\"\n",
              "            title=\"Generate code using this dataframe.\"\n",
              "            style=\"display:none;\">\n",
              "\n",
              "  <svg xmlns=\"http://www.w3.org/2000/svg\" height=\"24px\"viewBox=\"0 0 24 24\"\n",
              "       width=\"24px\">\n",
              "    <path d=\"M7,19H8.4L18.45,9,17,7.55,7,17.6ZM5,21V16.75L18.45,3.32a2,2,0,0,1,2.83,0l1.4,1.43a1.91,1.91,0,0,1,.58,1.4,1.91,1.91,0,0,1-.58,1.4L9.25,21ZM18.45,9,17,7.55Zm-12,3A5.31,5.31,0,0,0,4.9,8.1,5.31,5.31,0,0,0,1,6.5,5.31,5.31,0,0,0,4.9,4.9,5.31,5.31,0,0,0,6.5,1,5.31,5.31,0,0,0,8.1,4.9,5.31,5.31,0,0,0,12,6.5,5.46,5.46,0,0,0,6.5,12Z\"/>\n",
              "  </svg>\n",
              "    </button>\n",
              "    <script>\n",
              "      (() => {\n",
              "      const buttonEl =\n",
              "        document.querySelector('#id_b6fffbb9-253d-415b-a382-380aa9c5c2e3 button.colab-df-generate');\n",
              "      buttonEl.style.display =\n",
              "        google.colab.kernel.accessAllowed ? 'block' : 'none';\n",
              "\n",
              "      buttonEl.onclick = () => {\n",
              "        google.colab.notebook.generateWithVariable('bajaj_df');\n",
              "      }\n",
              "      })();\n",
              "    </script>\n",
              "  </div>\n",
              "\n",
              "    </div>\n",
              "  </div>\n"
            ],
            "application/vnd.google.colaboratory.intrinsic+json": {
              "type": "dataframe",
              "variable_name": "bajaj_df",
              "repr_error": "'str' object has no attribute 'empty'"
            }
          },
          "metadata": {},
          "execution_count": 4
        }
      ],
      "source": [
        "bajaj_df = bajaj_df.drop_duplicates('Date', keep='last')\n",
        "bajaj_df"
      ]
    },
    {
      "cell_type": "code",
      "execution_count": null,
      "metadata": {
        "id": "DULjoE3p8QBM"
      },
      "outputs": [],
      "source": [
        "bajaj_df = bajaj_df.set_index('Date')\n",
        "bajaj_df.index = pd.to_datetime(bajaj_df.index)"
      ]
    },
    {
      "cell_type": "code",
      "execution_count": null,
      "metadata": {
        "id": "ZxdarFD28TFj"
      },
      "outputs": [],
      "source": [
        "bajaj_df.sort_index(inplace=True)"
      ]
    },
    {
      "cell_type": "code",
      "execution_count": null,
      "metadata": {
        "colab": {
          "base_uri": "https://localhost:8080/",
          "height": 455
        },
        "id": "hxGkJ-pH8U5e",
        "outputId": "67fbffab-727a-4888-949a-74a5e7cda1a7"
      },
      "outputs": [
        {
          "output_type": "execute_result",
          "data": {
            "text/plain": [
              "               Price      Open      High       Low     Vol. Change %\n",
              "Date                                                                \n",
              "2008-05-27     54.49     49.61     60.02     48.25   44.27M    8.94%\n",
              "2008-05-28     62.97     55.41     65.39     55.41   46.71M   15.56%\n",
              "2008-05-29     62.13     64.51     69.07     59.73   46.03M   -1.33%\n",
              "2008-05-30     63.27     63.11     65.63     57.80   31.12M    1.83%\n",
              "2008-06-02     67.49     63.86     68.67     61.11   22.88M    6.67%\n",
              "...              ...       ...       ...       ...      ...      ...\n",
              "2024-01-20  1,581.00  1,600.50  1,610.95  1,577.75  404.13K   -1.22%\n",
              "2024-01-23  1,582.50  1,597.45  1,615.25  1,575.00    3.03M    0.09%\n",
              "2024-01-24  1,620.85  1,594.70  1,622.85  1,578.35    1.39M    2.42%\n",
              "2024-01-25  1,630.15  1,621.75  1,635.00  1,613.70    1.74M    0.57%\n",
              "2024-01-29  1,637.00  1,631.05  1,640.80  1,618.55  940.17K    0.42%\n",
              "\n",
              "[3882 rows x 6 columns]"
            ],
            "text/html": [
              "\n",
              "  <div id=\"df-78c9a6de-8e8a-4cda-a4b4-6891523a7395\" class=\"colab-df-container\">\n",
              "    <div>\n",
              "<style scoped>\n",
              "    .dataframe tbody tr th:only-of-type {\n",
              "        vertical-align: middle;\n",
              "    }\n",
              "\n",
              "    .dataframe tbody tr th {\n",
              "        vertical-align: top;\n",
              "    }\n",
              "\n",
              "    .dataframe thead th {\n",
              "        text-align: right;\n",
              "    }\n",
              "</style>\n",
              "<table border=\"1\" class=\"dataframe\">\n",
              "  <thead>\n",
              "    <tr style=\"text-align: right;\">\n",
              "      <th></th>\n",
              "      <th>Price</th>\n",
              "      <th>Open</th>\n",
              "      <th>High</th>\n",
              "      <th>Low</th>\n",
              "      <th>Vol.</th>\n",
              "      <th>Change %</th>\n",
              "    </tr>\n",
              "    <tr>\n",
              "      <th>Date</th>\n",
              "      <th></th>\n",
              "      <th></th>\n",
              "      <th></th>\n",
              "      <th></th>\n",
              "      <th></th>\n",
              "      <th></th>\n",
              "    </tr>\n",
              "  </thead>\n",
              "  <tbody>\n",
              "    <tr>\n",
              "      <th>2008-05-27</th>\n",
              "      <td>54.49</td>\n",
              "      <td>49.61</td>\n",
              "      <td>60.02</td>\n",
              "      <td>48.25</td>\n",
              "      <td>44.27M</td>\n",
              "      <td>8.94%</td>\n",
              "    </tr>\n",
              "    <tr>\n",
              "      <th>2008-05-28</th>\n",
              "      <td>62.97</td>\n",
              "      <td>55.41</td>\n",
              "      <td>65.39</td>\n",
              "      <td>55.41</td>\n",
              "      <td>46.71M</td>\n",
              "      <td>15.56%</td>\n",
              "    </tr>\n",
              "    <tr>\n",
              "      <th>2008-05-29</th>\n",
              "      <td>62.13</td>\n",
              "      <td>64.51</td>\n",
              "      <td>69.07</td>\n",
              "      <td>59.73</td>\n",
              "      <td>46.03M</td>\n",
              "      <td>-1.33%</td>\n",
              "    </tr>\n",
              "    <tr>\n",
              "      <th>2008-05-30</th>\n",
              "      <td>63.27</td>\n",
              "      <td>63.11</td>\n",
              "      <td>65.63</td>\n",
              "      <td>57.80</td>\n",
              "      <td>31.12M</td>\n",
              "      <td>1.83%</td>\n",
              "    </tr>\n",
              "    <tr>\n",
              "      <th>2008-06-02</th>\n",
              "      <td>67.49</td>\n",
              "      <td>63.86</td>\n",
              "      <td>68.67</td>\n",
              "      <td>61.11</td>\n",
              "      <td>22.88M</td>\n",
              "      <td>6.67%</td>\n",
              "    </tr>\n",
              "    <tr>\n",
              "      <th>...</th>\n",
              "      <td>...</td>\n",
              "      <td>...</td>\n",
              "      <td>...</td>\n",
              "      <td>...</td>\n",
              "      <td>...</td>\n",
              "      <td>...</td>\n",
              "    </tr>\n",
              "    <tr>\n",
              "      <th>2024-01-20</th>\n",
              "      <td>1,581.00</td>\n",
              "      <td>1,600.50</td>\n",
              "      <td>1,610.95</td>\n",
              "      <td>1,577.75</td>\n",
              "      <td>404.13K</td>\n",
              "      <td>-1.22%</td>\n",
              "    </tr>\n",
              "    <tr>\n",
              "      <th>2024-01-23</th>\n",
              "      <td>1,582.50</td>\n",
              "      <td>1,597.45</td>\n",
              "      <td>1,615.25</td>\n",
              "      <td>1,575.00</td>\n",
              "      <td>3.03M</td>\n",
              "      <td>0.09%</td>\n",
              "    </tr>\n",
              "    <tr>\n",
              "      <th>2024-01-24</th>\n",
              "      <td>1,620.85</td>\n",
              "      <td>1,594.70</td>\n",
              "      <td>1,622.85</td>\n",
              "      <td>1,578.35</td>\n",
              "      <td>1.39M</td>\n",
              "      <td>2.42%</td>\n",
              "    </tr>\n",
              "    <tr>\n",
              "      <th>2024-01-25</th>\n",
              "      <td>1,630.15</td>\n",
              "      <td>1,621.75</td>\n",
              "      <td>1,635.00</td>\n",
              "      <td>1,613.70</td>\n",
              "      <td>1.74M</td>\n",
              "      <td>0.57%</td>\n",
              "    </tr>\n",
              "    <tr>\n",
              "      <th>2024-01-29</th>\n",
              "      <td>1,637.00</td>\n",
              "      <td>1,631.05</td>\n",
              "      <td>1,640.80</td>\n",
              "      <td>1,618.55</td>\n",
              "      <td>940.17K</td>\n",
              "      <td>0.42%</td>\n",
              "    </tr>\n",
              "  </tbody>\n",
              "</table>\n",
              "<p>3882 rows × 6 columns</p>\n",
              "</div>\n",
              "    <div class=\"colab-df-buttons\">\n",
              "\n",
              "  <div class=\"colab-df-container\">\n",
              "    <button class=\"colab-df-convert\" onclick=\"convertToInteractive('df-78c9a6de-8e8a-4cda-a4b4-6891523a7395')\"\n",
              "            title=\"Convert this dataframe to an interactive table.\"\n",
              "            style=\"display:none;\">\n",
              "\n",
              "  <svg xmlns=\"http://www.w3.org/2000/svg\" height=\"24px\" viewBox=\"0 -960 960 960\">\n",
              "    <path d=\"M120-120v-720h720v720H120Zm60-500h600v-160H180v160Zm220 220h160v-160H400v160Zm0 220h160v-160H400v160ZM180-400h160v-160H180v160Zm440 0h160v-160H620v160ZM180-180h160v-160H180v160Zm440 0h160v-160H620v160Z\"/>\n",
              "  </svg>\n",
              "    </button>\n",
              "\n",
              "  <style>\n",
              "    .colab-df-container {\n",
              "      display:flex;\n",
              "      gap: 12px;\n",
              "    }\n",
              "\n",
              "    .colab-df-convert {\n",
              "      background-color: #E8F0FE;\n",
              "      border: none;\n",
              "      border-radius: 50%;\n",
              "      cursor: pointer;\n",
              "      display: none;\n",
              "      fill: #1967D2;\n",
              "      height: 32px;\n",
              "      padding: 0 0 0 0;\n",
              "      width: 32px;\n",
              "    }\n",
              "\n",
              "    .colab-df-convert:hover {\n",
              "      background-color: #E2EBFA;\n",
              "      box-shadow: 0px 1px 2px rgba(60, 64, 67, 0.3), 0px 1px 3px 1px rgba(60, 64, 67, 0.15);\n",
              "      fill: #174EA6;\n",
              "    }\n",
              "\n",
              "    .colab-df-buttons div {\n",
              "      margin-bottom: 4px;\n",
              "    }\n",
              "\n",
              "    [theme=dark] .colab-df-convert {\n",
              "      background-color: #3B4455;\n",
              "      fill: #D2E3FC;\n",
              "    }\n",
              "\n",
              "    [theme=dark] .colab-df-convert:hover {\n",
              "      background-color: #434B5C;\n",
              "      box-shadow: 0px 1px 3px 1px rgba(0, 0, 0, 0.15);\n",
              "      filter: drop-shadow(0px 1px 2px rgba(0, 0, 0, 0.3));\n",
              "      fill: #FFFFFF;\n",
              "    }\n",
              "  </style>\n",
              "\n",
              "    <script>\n",
              "      const buttonEl =\n",
              "        document.querySelector('#df-78c9a6de-8e8a-4cda-a4b4-6891523a7395 button.colab-df-convert');\n",
              "      buttonEl.style.display =\n",
              "        google.colab.kernel.accessAllowed ? 'block' : 'none';\n",
              "\n",
              "      async function convertToInteractive(key) {\n",
              "        const element = document.querySelector('#df-78c9a6de-8e8a-4cda-a4b4-6891523a7395');\n",
              "        const dataTable =\n",
              "          await google.colab.kernel.invokeFunction('convertToInteractive',\n",
              "                                                    [key], {});\n",
              "        if (!dataTable) return;\n",
              "\n",
              "        const docLinkHtml = 'Like what you see? Visit the ' +\n",
              "          '<a target=\"_blank\" href=https://colab.research.google.com/notebooks/data_table.ipynb>data table notebook</a>'\n",
              "          + ' to learn more about interactive tables.';\n",
              "        element.innerHTML = '';\n",
              "        dataTable['output_type'] = 'display_data';\n",
              "        await google.colab.output.renderOutput(dataTable, element);\n",
              "        const docLink = document.createElement('div');\n",
              "        docLink.innerHTML = docLinkHtml;\n",
              "        element.appendChild(docLink);\n",
              "      }\n",
              "    </script>\n",
              "  </div>\n",
              "\n",
              "\n",
              "<div id=\"df-0db9df22-4e87-4e84-a608-58888763a66a\">\n",
              "  <button class=\"colab-df-quickchart\" onclick=\"quickchart('df-0db9df22-4e87-4e84-a608-58888763a66a')\"\n",
              "            title=\"Suggest charts\"\n",
              "            style=\"display:none;\">\n",
              "\n",
              "<svg xmlns=\"http://www.w3.org/2000/svg\" height=\"24px\"viewBox=\"0 0 24 24\"\n",
              "     width=\"24px\">\n",
              "    <g>\n",
              "        <path d=\"M19 3H5c-1.1 0-2 .9-2 2v14c0 1.1.9 2 2 2h14c1.1 0 2-.9 2-2V5c0-1.1-.9-2-2-2zM9 17H7v-7h2v7zm4 0h-2V7h2v10zm4 0h-2v-4h2v4z\"/>\n",
              "    </g>\n",
              "</svg>\n",
              "  </button>\n",
              "\n",
              "<style>\n",
              "  .colab-df-quickchart {\n",
              "      --bg-color: #E8F0FE;\n",
              "      --fill-color: #1967D2;\n",
              "      --hover-bg-color: #E2EBFA;\n",
              "      --hover-fill-color: #174EA6;\n",
              "      --disabled-fill-color: #AAA;\n",
              "      --disabled-bg-color: #DDD;\n",
              "  }\n",
              "\n",
              "  [theme=dark] .colab-df-quickchart {\n",
              "      --bg-color: #3B4455;\n",
              "      --fill-color: #D2E3FC;\n",
              "      --hover-bg-color: #434B5C;\n",
              "      --hover-fill-color: #FFFFFF;\n",
              "      --disabled-bg-color: #3B4455;\n",
              "      --disabled-fill-color: #666;\n",
              "  }\n",
              "\n",
              "  .colab-df-quickchart {\n",
              "    background-color: var(--bg-color);\n",
              "    border: none;\n",
              "    border-radius: 50%;\n",
              "    cursor: pointer;\n",
              "    display: none;\n",
              "    fill: var(--fill-color);\n",
              "    height: 32px;\n",
              "    padding: 0;\n",
              "    width: 32px;\n",
              "  }\n",
              "\n",
              "  .colab-df-quickchart:hover {\n",
              "    background-color: var(--hover-bg-color);\n",
              "    box-shadow: 0 1px 2px rgba(60, 64, 67, 0.3), 0 1px 3px 1px rgba(60, 64, 67, 0.15);\n",
              "    fill: var(--button-hover-fill-color);\n",
              "  }\n",
              "\n",
              "  .colab-df-quickchart-complete:disabled,\n",
              "  .colab-df-quickchart-complete:disabled:hover {\n",
              "    background-color: var(--disabled-bg-color);\n",
              "    fill: var(--disabled-fill-color);\n",
              "    box-shadow: none;\n",
              "  }\n",
              "\n",
              "  .colab-df-spinner {\n",
              "    border: 2px solid var(--fill-color);\n",
              "    border-color: transparent;\n",
              "    border-bottom-color: var(--fill-color);\n",
              "    animation:\n",
              "      spin 1s steps(1) infinite;\n",
              "  }\n",
              "\n",
              "  @keyframes spin {\n",
              "    0% {\n",
              "      border-color: transparent;\n",
              "      border-bottom-color: var(--fill-color);\n",
              "      border-left-color: var(--fill-color);\n",
              "    }\n",
              "    20% {\n",
              "      border-color: transparent;\n",
              "      border-left-color: var(--fill-color);\n",
              "      border-top-color: var(--fill-color);\n",
              "    }\n",
              "    30% {\n",
              "      border-color: transparent;\n",
              "      border-left-color: var(--fill-color);\n",
              "      border-top-color: var(--fill-color);\n",
              "      border-right-color: var(--fill-color);\n",
              "    }\n",
              "    40% {\n",
              "      border-color: transparent;\n",
              "      border-right-color: var(--fill-color);\n",
              "      border-top-color: var(--fill-color);\n",
              "    }\n",
              "    60% {\n",
              "      border-color: transparent;\n",
              "      border-right-color: var(--fill-color);\n",
              "    }\n",
              "    80% {\n",
              "      border-color: transparent;\n",
              "      border-right-color: var(--fill-color);\n",
              "      border-bottom-color: var(--fill-color);\n",
              "    }\n",
              "    90% {\n",
              "      border-color: transparent;\n",
              "      border-bottom-color: var(--fill-color);\n",
              "    }\n",
              "  }\n",
              "</style>\n",
              "\n",
              "  <script>\n",
              "    async function quickchart(key) {\n",
              "      const quickchartButtonEl =\n",
              "        document.querySelector('#' + key + ' button');\n",
              "      quickchartButtonEl.disabled = true;  // To prevent multiple clicks.\n",
              "      quickchartButtonEl.classList.add('colab-df-spinner');\n",
              "      try {\n",
              "        const charts = await google.colab.kernel.invokeFunction(\n",
              "            'suggestCharts', [key], {});\n",
              "      } catch (error) {\n",
              "        console.error('Error during call to suggestCharts:', error);\n",
              "      }\n",
              "      quickchartButtonEl.classList.remove('colab-df-spinner');\n",
              "      quickchartButtonEl.classList.add('colab-df-quickchart-complete');\n",
              "    }\n",
              "    (() => {\n",
              "      let quickchartButtonEl =\n",
              "        document.querySelector('#df-0db9df22-4e87-4e84-a608-58888763a66a button');\n",
              "      quickchartButtonEl.style.display =\n",
              "        google.colab.kernel.accessAllowed ? 'block' : 'none';\n",
              "    })();\n",
              "  </script>\n",
              "</div>\n",
              "\n",
              "  <div id=\"id_9a05d606-c4a9-427c-aa5a-2c908c5015a1\">\n",
              "    <style>\n",
              "      .colab-df-generate {\n",
              "        background-color: #E8F0FE;\n",
              "        border: none;\n",
              "        border-radius: 50%;\n",
              "        cursor: pointer;\n",
              "        display: none;\n",
              "        fill: #1967D2;\n",
              "        height: 32px;\n",
              "        padding: 0 0 0 0;\n",
              "        width: 32px;\n",
              "      }\n",
              "\n",
              "      .colab-df-generate:hover {\n",
              "        background-color: #E2EBFA;\n",
              "        box-shadow: 0px 1px 2px rgba(60, 64, 67, 0.3), 0px 1px 3px 1px rgba(60, 64, 67, 0.15);\n",
              "        fill: #174EA6;\n",
              "      }\n",
              "\n",
              "      [theme=dark] .colab-df-generate {\n",
              "        background-color: #3B4455;\n",
              "        fill: #D2E3FC;\n",
              "      }\n",
              "\n",
              "      [theme=dark] .colab-df-generate:hover {\n",
              "        background-color: #434B5C;\n",
              "        box-shadow: 0px 1px 3px 1px rgba(0, 0, 0, 0.15);\n",
              "        filter: drop-shadow(0px 1px 2px rgba(0, 0, 0, 0.3));\n",
              "        fill: #FFFFFF;\n",
              "      }\n",
              "    </style>\n",
              "    <button class=\"colab-df-generate\" onclick=\"generateWithVariable('bajaj_df')\"\n",
              "            title=\"Generate code using this dataframe.\"\n",
              "            style=\"display:none;\">\n",
              "\n",
              "  <svg xmlns=\"http://www.w3.org/2000/svg\" height=\"24px\"viewBox=\"0 0 24 24\"\n",
              "       width=\"24px\">\n",
              "    <path d=\"M7,19H8.4L18.45,9,17,7.55,7,17.6ZM5,21V16.75L18.45,3.32a2,2,0,0,1,2.83,0l1.4,1.43a1.91,1.91,0,0,1,.58,1.4,1.91,1.91,0,0,1-.58,1.4L9.25,21ZM18.45,9,17,7.55Zm-12,3A5.31,5.31,0,0,0,4.9,8.1,5.31,5.31,0,0,0,1,6.5,5.31,5.31,0,0,0,4.9,4.9,5.31,5.31,0,0,0,6.5,1,5.31,5.31,0,0,0,8.1,4.9,5.31,5.31,0,0,0,12,6.5,5.46,5.46,0,0,0,6.5,12Z\"/>\n",
              "  </svg>\n",
              "    </button>\n",
              "    <script>\n",
              "      (() => {\n",
              "      const buttonEl =\n",
              "        document.querySelector('#id_9a05d606-c4a9-427c-aa5a-2c908c5015a1 button.colab-df-generate');\n",
              "      buttonEl.style.display =\n",
              "        google.colab.kernel.accessAllowed ? 'block' : 'none';\n",
              "\n",
              "      buttonEl.onclick = () => {\n",
              "        google.colab.notebook.generateWithVariable('bajaj_df');\n",
              "      }\n",
              "      })();\n",
              "    </script>\n",
              "  </div>\n",
              "\n",
              "    </div>\n",
              "  </div>\n"
            ],
            "application/vnd.google.colaboratory.intrinsic+json": {
              "type": "dataframe",
              "variable_name": "bajaj_df",
              "summary": "{\n  \"name\": \"bajaj_df\",\n  \"rows\": 3882,\n  \"fields\": [\n    {\n      \"column\": \"Price\",\n      \"properties\": {\n        \"dtype\": \"string\",\n        \"num_unique_values\": 3687,\n        \"samples\": [\n          \"1,615.10\",\n          \"1,553.35\",\n          \"41.90\"\n        ],\n        \"semantic_type\": \"\",\n        \"description\": \"\"\n      }\n    },\n    {\n      \"column\": \"Open\",\n      \"properties\": {\n        \"dtype\": \"string\",\n        \"num_unique_values\": 3157,\n        \"samples\": [\n          \"1,618.35\",\n          \"1,362.00\",\n          \"1,337.45\"\n        ],\n        \"semantic_type\": \"\",\n        \"description\": \"\"\n      }\n    },\n    {\n      \"column\": \"High\",\n      \"properties\": {\n        \"dtype\": \"string\",\n        \"num_unique_values\": 3315,\n        \"samples\": [\n          \"967.37\",\n          \"415.00\",\n          \"34.19\"\n        ],\n        \"semantic_type\": \"\",\n        \"description\": \"\"\n      }\n    },\n    {\n      \"column\": \"Low\",\n      \"properties\": {\n        \"dtype\": \"string\",\n        \"num_unique_values\": 3359,\n        \"samples\": [\n          \"69.50\",\n          \"265.70\",\n          \"142.01\"\n        ],\n        \"semantic_type\": \"\",\n        \"description\": \"\"\n      }\n    },\n    {\n      \"column\": \"Vol.\",\n      \"properties\": {\n        \"dtype\": \"string\",\n        \"num_unique_values\": 2329,\n        \"samples\": [\n          \"739.12K\",\n          \"2.00M\",\n          \"288.05K\"\n        ],\n        \"semantic_type\": \"\",\n        \"description\": \"\"\n      }\n    },\n    {\n      \"column\": \"Change %\",\n      \"properties\": {\n        \"dtype\": \"category\",\n        \"num_unique_values\": 975,\n        \"samples\": [\n          \"4.37%\",\n          \"-2.56%\",\n          \"5.37%\"\n        ],\n        \"semantic_type\": \"\",\n        \"description\": \"\"\n      }\n    }\n  ]\n}"
            }
          },
          "metadata": {},
          "execution_count": 7
        }
      ],
      "source": [
        "bajaj_df"
      ]
    },
    {
      "cell_type": "code",
      "execution_count": null,
      "metadata": {
        "colab": {
          "base_uri": "https://localhost:8080/"
        },
        "id": "91BCgfHd8Wia",
        "outputId": "6fbb7085-2b27-4a5c-d6bd-369040ee8221"
      },
      "outputs": [
        {
          "output_type": "stream",
          "name": "stdout",
          "text": [
            "<class 'pandas.core.frame.DataFrame'>\n",
            "DatetimeIndex: 3882 entries, 2008-05-27 to 2024-01-29\n",
            "Data columns (total 6 columns):\n",
            " #   Column    Non-Null Count  Dtype \n",
            "---  ------    --------------  ----- \n",
            " 0   Price     3882 non-null   object\n",
            " 1   Open      3882 non-null   object\n",
            " 2   High      3882 non-null   object\n",
            " 3   Low       3882 non-null   object\n",
            " 4   Vol.      3882 non-null   object\n",
            " 5   Change %  3882 non-null   object\n",
            "dtypes: object(6)\n",
            "memory usage: 212.3+ KB\n"
          ]
        }
      ],
      "source": [
        "bajaj_df.info()"
      ]
    },
    {
      "cell_type": "code",
      "execution_count": null,
      "metadata": {
        "colab": {
          "base_uri": "https://localhost:8080/"
        },
        "id": "wlH0p9dF8YJY",
        "outputId": "b515df60-20b5-4cd8-9b85-06241753d0d3"
      },
      "outputs": [
        {
          "output_type": "stream",
          "name": "stdout",
          "text": [
            "<class 'pandas.core.frame.DataFrame'>\n",
            "DatetimeIndex: 3882 entries, 2008-05-27 to 2024-01-29\n",
            "Data columns (total 6 columns):\n",
            " #   Column    Non-Null Count  Dtype  \n",
            "---  ------    --------------  -----  \n",
            " 0   Price     3882 non-null   float64\n",
            " 1   Open      3882 non-null   float64\n",
            " 2   High      3882 non-null   float64\n",
            " 3   Low       3882 non-null   float64\n",
            " 4   Vol.      3882 non-null   object \n",
            " 5   Change %  3882 non-null   float64\n",
            "dtypes: float64(5), object(1)\n",
            "memory usage: 212.3+ KB\n"
          ]
        }
      ],
      "source": [
        "bajaj_df['Price'] = (bajaj_df['Price'].str.split()).apply(lambda x: float(x[0].replace(',', '')))\n",
        "bajaj_df['Open'] = (bajaj_df['Open'].str.split()).apply(lambda x: float(x[0].replace(',', '')))\n",
        "bajaj_df['High'] = (bajaj_df['High'].str.split()).apply(lambda x: float(x[0].replace(',', '')))\n",
        "bajaj_df['Low'] = (bajaj_df['Low'].str.split()).apply(lambda x: float(x[0].replace(',', '')))\n",
        "bajaj_df['Change %'] = (bajaj_df['Change %'].str.split()).apply(lambda x: float(x[0].replace('%', '')))\n",
        "bajaj_df.info()"
      ]
    },
    {
      "cell_type": "code",
      "execution_count": null,
      "metadata": {
        "colab": {
          "base_uri": "https://localhost:8080/",
          "height": 455
        },
        "id": "jDAMmP298Z0k",
        "outputId": "38993098-93c2-4555-a487-39d36ea1959b"
      },
      "outputs": [
        {
          "output_type": "execute_result",
          "data": {
            "text/plain": [
              "              Price     Open     High      Low\n",
              "Date                                          \n",
              "2008-05-27    54.49    49.61    60.02    48.25\n",
              "2008-05-28    62.97    55.41    65.39    55.41\n",
              "2008-05-29    62.13    64.51    69.07    59.73\n",
              "2008-05-30    63.27    63.11    65.63    57.80\n",
              "2008-06-02    67.49    63.86    68.67    61.11\n",
              "...             ...      ...      ...      ...\n",
              "2024-01-20  1581.00  1600.50  1610.95  1577.75\n",
              "2024-01-23  1582.50  1597.45  1615.25  1575.00\n",
              "2024-01-24  1620.85  1594.70  1622.85  1578.35\n",
              "2024-01-25  1630.15  1621.75  1635.00  1613.70\n",
              "2024-01-29  1637.00  1631.05  1640.80  1618.55\n",
              "\n",
              "[3882 rows x 4 columns]"
            ],
            "text/html": [
              "\n",
              "  <div id=\"df-e5ed6e0e-6c32-4f76-8dd0-36eeb7eab985\" class=\"colab-df-container\">\n",
              "    <div>\n",
              "<style scoped>\n",
              "    .dataframe tbody tr th:only-of-type {\n",
              "        vertical-align: middle;\n",
              "    }\n",
              "\n",
              "    .dataframe tbody tr th {\n",
              "        vertical-align: top;\n",
              "    }\n",
              "\n",
              "    .dataframe thead th {\n",
              "        text-align: right;\n",
              "    }\n",
              "</style>\n",
              "<table border=\"1\" class=\"dataframe\">\n",
              "  <thead>\n",
              "    <tr style=\"text-align: right;\">\n",
              "      <th></th>\n",
              "      <th>Price</th>\n",
              "      <th>Open</th>\n",
              "      <th>High</th>\n",
              "      <th>Low</th>\n",
              "    </tr>\n",
              "    <tr>\n",
              "      <th>Date</th>\n",
              "      <th></th>\n",
              "      <th></th>\n",
              "      <th></th>\n",
              "      <th></th>\n",
              "    </tr>\n",
              "  </thead>\n",
              "  <tbody>\n",
              "    <tr>\n",
              "      <th>2008-05-27</th>\n",
              "      <td>54.49</td>\n",
              "      <td>49.61</td>\n",
              "      <td>60.02</td>\n",
              "      <td>48.25</td>\n",
              "    </tr>\n",
              "    <tr>\n",
              "      <th>2008-05-28</th>\n",
              "      <td>62.97</td>\n",
              "      <td>55.41</td>\n",
              "      <td>65.39</td>\n",
              "      <td>55.41</td>\n",
              "    </tr>\n",
              "    <tr>\n",
              "      <th>2008-05-29</th>\n",
              "      <td>62.13</td>\n",
              "      <td>64.51</td>\n",
              "      <td>69.07</td>\n",
              "      <td>59.73</td>\n",
              "    </tr>\n",
              "    <tr>\n",
              "      <th>2008-05-30</th>\n",
              "      <td>63.27</td>\n",
              "      <td>63.11</td>\n",
              "      <td>65.63</td>\n",
              "      <td>57.80</td>\n",
              "    </tr>\n",
              "    <tr>\n",
              "      <th>2008-06-02</th>\n",
              "      <td>67.49</td>\n",
              "      <td>63.86</td>\n",
              "      <td>68.67</td>\n",
              "      <td>61.11</td>\n",
              "    </tr>\n",
              "    <tr>\n",
              "      <th>...</th>\n",
              "      <td>...</td>\n",
              "      <td>...</td>\n",
              "      <td>...</td>\n",
              "      <td>...</td>\n",
              "    </tr>\n",
              "    <tr>\n",
              "      <th>2024-01-20</th>\n",
              "      <td>1581.00</td>\n",
              "      <td>1600.50</td>\n",
              "      <td>1610.95</td>\n",
              "      <td>1577.75</td>\n",
              "    </tr>\n",
              "    <tr>\n",
              "      <th>2024-01-23</th>\n",
              "      <td>1582.50</td>\n",
              "      <td>1597.45</td>\n",
              "      <td>1615.25</td>\n",
              "      <td>1575.00</td>\n",
              "    </tr>\n",
              "    <tr>\n",
              "      <th>2024-01-24</th>\n",
              "      <td>1620.85</td>\n",
              "      <td>1594.70</td>\n",
              "      <td>1622.85</td>\n",
              "      <td>1578.35</td>\n",
              "    </tr>\n",
              "    <tr>\n",
              "      <th>2024-01-25</th>\n",
              "      <td>1630.15</td>\n",
              "      <td>1621.75</td>\n",
              "      <td>1635.00</td>\n",
              "      <td>1613.70</td>\n",
              "    </tr>\n",
              "    <tr>\n",
              "      <th>2024-01-29</th>\n",
              "      <td>1637.00</td>\n",
              "      <td>1631.05</td>\n",
              "      <td>1640.80</td>\n",
              "      <td>1618.55</td>\n",
              "    </tr>\n",
              "  </tbody>\n",
              "</table>\n",
              "<p>3882 rows × 4 columns</p>\n",
              "</div>\n",
              "    <div class=\"colab-df-buttons\">\n",
              "\n",
              "  <div class=\"colab-df-container\">\n",
              "    <button class=\"colab-df-convert\" onclick=\"convertToInteractive('df-e5ed6e0e-6c32-4f76-8dd0-36eeb7eab985')\"\n",
              "            title=\"Convert this dataframe to an interactive table.\"\n",
              "            style=\"display:none;\">\n",
              "\n",
              "  <svg xmlns=\"http://www.w3.org/2000/svg\" height=\"24px\" viewBox=\"0 -960 960 960\">\n",
              "    <path d=\"M120-120v-720h720v720H120Zm60-500h600v-160H180v160Zm220 220h160v-160H400v160Zm0 220h160v-160H400v160ZM180-400h160v-160H180v160Zm440 0h160v-160H620v160ZM180-180h160v-160H180v160Zm440 0h160v-160H620v160Z\"/>\n",
              "  </svg>\n",
              "    </button>\n",
              "\n",
              "  <style>\n",
              "    .colab-df-container {\n",
              "      display:flex;\n",
              "      gap: 12px;\n",
              "    }\n",
              "\n",
              "    .colab-df-convert {\n",
              "      background-color: #E8F0FE;\n",
              "      border: none;\n",
              "      border-radius: 50%;\n",
              "      cursor: pointer;\n",
              "      display: none;\n",
              "      fill: #1967D2;\n",
              "      height: 32px;\n",
              "      padding: 0 0 0 0;\n",
              "      width: 32px;\n",
              "    }\n",
              "\n",
              "    .colab-df-convert:hover {\n",
              "      background-color: #E2EBFA;\n",
              "      box-shadow: 0px 1px 2px rgba(60, 64, 67, 0.3), 0px 1px 3px 1px rgba(60, 64, 67, 0.15);\n",
              "      fill: #174EA6;\n",
              "    }\n",
              "\n",
              "    .colab-df-buttons div {\n",
              "      margin-bottom: 4px;\n",
              "    }\n",
              "\n",
              "    [theme=dark] .colab-df-convert {\n",
              "      background-color: #3B4455;\n",
              "      fill: #D2E3FC;\n",
              "    }\n",
              "\n",
              "    [theme=dark] .colab-df-convert:hover {\n",
              "      background-color: #434B5C;\n",
              "      box-shadow: 0px 1px 3px 1px rgba(0, 0, 0, 0.15);\n",
              "      filter: drop-shadow(0px 1px 2px rgba(0, 0, 0, 0.3));\n",
              "      fill: #FFFFFF;\n",
              "    }\n",
              "  </style>\n",
              "\n",
              "    <script>\n",
              "      const buttonEl =\n",
              "        document.querySelector('#df-e5ed6e0e-6c32-4f76-8dd0-36eeb7eab985 button.colab-df-convert');\n",
              "      buttonEl.style.display =\n",
              "        google.colab.kernel.accessAllowed ? 'block' : 'none';\n",
              "\n",
              "      async function convertToInteractive(key) {\n",
              "        const element = document.querySelector('#df-e5ed6e0e-6c32-4f76-8dd0-36eeb7eab985');\n",
              "        const dataTable =\n",
              "          await google.colab.kernel.invokeFunction('convertToInteractive',\n",
              "                                                    [key], {});\n",
              "        if (!dataTable) return;\n",
              "\n",
              "        const docLinkHtml = 'Like what you see? Visit the ' +\n",
              "          '<a target=\"_blank\" href=https://colab.research.google.com/notebooks/data_table.ipynb>data table notebook</a>'\n",
              "          + ' to learn more about interactive tables.';\n",
              "        element.innerHTML = '';\n",
              "        dataTable['output_type'] = 'display_data';\n",
              "        await google.colab.output.renderOutput(dataTable, element);\n",
              "        const docLink = document.createElement('div');\n",
              "        docLink.innerHTML = docLinkHtml;\n",
              "        element.appendChild(docLink);\n",
              "      }\n",
              "    </script>\n",
              "  </div>\n",
              "\n",
              "\n",
              "<div id=\"df-7299d56b-b2d3-4d3c-915c-5c2173ed5a0a\">\n",
              "  <button class=\"colab-df-quickchart\" onclick=\"quickchart('df-7299d56b-b2d3-4d3c-915c-5c2173ed5a0a')\"\n",
              "            title=\"Suggest charts\"\n",
              "            style=\"display:none;\">\n",
              "\n",
              "<svg xmlns=\"http://www.w3.org/2000/svg\" height=\"24px\"viewBox=\"0 0 24 24\"\n",
              "     width=\"24px\">\n",
              "    <g>\n",
              "        <path d=\"M19 3H5c-1.1 0-2 .9-2 2v14c0 1.1.9 2 2 2h14c1.1 0 2-.9 2-2V5c0-1.1-.9-2-2-2zM9 17H7v-7h2v7zm4 0h-2V7h2v10zm4 0h-2v-4h2v4z\"/>\n",
              "    </g>\n",
              "</svg>\n",
              "  </button>\n",
              "\n",
              "<style>\n",
              "  .colab-df-quickchart {\n",
              "      --bg-color: #E8F0FE;\n",
              "      --fill-color: #1967D2;\n",
              "      --hover-bg-color: #E2EBFA;\n",
              "      --hover-fill-color: #174EA6;\n",
              "      --disabled-fill-color: #AAA;\n",
              "      --disabled-bg-color: #DDD;\n",
              "  }\n",
              "\n",
              "  [theme=dark] .colab-df-quickchart {\n",
              "      --bg-color: #3B4455;\n",
              "      --fill-color: #D2E3FC;\n",
              "      --hover-bg-color: #434B5C;\n",
              "      --hover-fill-color: #FFFFFF;\n",
              "      --disabled-bg-color: #3B4455;\n",
              "      --disabled-fill-color: #666;\n",
              "  }\n",
              "\n",
              "  .colab-df-quickchart {\n",
              "    background-color: var(--bg-color);\n",
              "    border: none;\n",
              "    border-radius: 50%;\n",
              "    cursor: pointer;\n",
              "    display: none;\n",
              "    fill: var(--fill-color);\n",
              "    height: 32px;\n",
              "    padding: 0;\n",
              "    width: 32px;\n",
              "  }\n",
              "\n",
              "  .colab-df-quickchart:hover {\n",
              "    background-color: var(--hover-bg-color);\n",
              "    box-shadow: 0 1px 2px rgba(60, 64, 67, 0.3), 0 1px 3px 1px rgba(60, 64, 67, 0.15);\n",
              "    fill: var(--button-hover-fill-color);\n",
              "  }\n",
              "\n",
              "  .colab-df-quickchart-complete:disabled,\n",
              "  .colab-df-quickchart-complete:disabled:hover {\n",
              "    background-color: var(--disabled-bg-color);\n",
              "    fill: var(--disabled-fill-color);\n",
              "    box-shadow: none;\n",
              "  }\n",
              "\n",
              "  .colab-df-spinner {\n",
              "    border: 2px solid var(--fill-color);\n",
              "    border-color: transparent;\n",
              "    border-bottom-color: var(--fill-color);\n",
              "    animation:\n",
              "      spin 1s steps(1) infinite;\n",
              "  }\n",
              "\n",
              "  @keyframes spin {\n",
              "    0% {\n",
              "      border-color: transparent;\n",
              "      border-bottom-color: var(--fill-color);\n",
              "      border-left-color: var(--fill-color);\n",
              "    }\n",
              "    20% {\n",
              "      border-color: transparent;\n",
              "      border-left-color: var(--fill-color);\n",
              "      border-top-color: var(--fill-color);\n",
              "    }\n",
              "    30% {\n",
              "      border-color: transparent;\n",
              "      border-left-color: var(--fill-color);\n",
              "      border-top-color: var(--fill-color);\n",
              "      border-right-color: var(--fill-color);\n",
              "    }\n",
              "    40% {\n",
              "      border-color: transparent;\n",
              "      border-right-color: var(--fill-color);\n",
              "      border-top-color: var(--fill-color);\n",
              "    }\n",
              "    60% {\n",
              "      border-color: transparent;\n",
              "      border-right-color: var(--fill-color);\n",
              "    }\n",
              "    80% {\n",
              "      border-color: transparent;\n",
              "      border-right-color: var(--fill-color);\n",
              "      border-bottom-color: var(--fill-color);\n",
              "    }\n",
              "    90% {\n",
              "      border-color: transparent;\n",
              "      border-bottom-color: var(--fill-color);\n",
              "    }\n",
              "  }\n",
              "</style>\n",
              "\n",
              "  <script>\n",
              "    async function quickchart(key) {\n",
              "      const quickchartButtonEl =\n",
              "        document.querySelector('#' + key + ' button');\n",
              "      quickchartButtonEl.disabled = true;  // To prevent multiple clicks.\n",
              "      quickchartButtonEl.classList.add('colab-df-spinner');\n",
              "      try {\n",
              "        const charts = await google.colab.kernel.invokeFunction(\n",
              "            'suggestCharts', [key], {});\n",
              "      } catch (error) {\n",
              "        console.error('Error during call to suggestCharts:', error);\n",
              "      }\n",
              "      quickchartButtonEl.classList.remove('colab-df-spinner');\n",
              "      quickchartButtonEl.classList.add('colab-df-quickchart-complete');\n",
              "    }\n",
              "    (() => {\n",
              "      let quickchartButtonEl =\n",
              "        document.querySelector('#df-7299d56b-b2d3-4d3c-915c-5c2173ed5a0a button');\n",
              "      quickchartButtonEl.style.display =\n",
              "        google.colab.kernel.accessAllowed ? 'block' : 'none';\n",
              "    })();\n",
              "  </script>\n",
              "</div>\n",
              "\n",
              "  <div id=\"id_9a5c88be-0c75-404f-b3e3-7117b4ce5254\">\n",
              "    <style>\n",
              "      .colab-df-generate {\n",
              "        background-color: #E8F0FE;\n",
              "        border: none;\n",
              "        border-radius: 50%;\n",
              "        cursor: pointer;\n",
              "        display: none;\n",
              "        fill: #1967D2;\n",
              "        height: 32px;\n",
              "        padding: 0 0 0 0;\n",
              "        width: 32px;\n",
              "      }\n",
              "\n",
              "      .colab-df-generate:hover {\n",
              "        background-color: #E2EBFA;\n",
              "        box-shadow: 0px 1px 2px rgba(60, 64, 67, 0.3), 0px 1px 3px 1px rgba(60, 64, 67, 0.15);\n",
              "        fill: #174EA6;\n",
              "      }\n",
              "\n",
              "      [theme=dark] .colab-df-generate {\n",
              "        background-color: #3B4455;\n",
              "        fill: #D2E3FC;\n",
              "      }\n",
              "\n",
              "      [theme=dark] .colab-df-generate:hover {\n",
              "        background-color: #434B5C;\n",
              "        box-shadow: 0px 1px 3px 1px rgba(0, 0, 0, 0.15);\n",
              "        filter: drop-shadow(0px 1px 2px rgba(0, 0, 0, 0.3));\n",
              "        fill: #FFFFFF;\n",
              "      }\n",
              "    </style>\n",
              "    <button class=\"colab-df-generate\" onclick=\"generateWithVariable('df')\"\n",
              "            title=\"Generate code using this dataframe.\"\n",
              "            style=\"display:none;\">\n",
              "\n",
              "  <svg xmlns=\"http://www.w3.org/2000/svg\" height=\"24px\"viewBox=\"0 0 24 24\"\n",
              "       width=\"24px\">\n",
              "    <path d=\"M7,19H8.4L18.45,9,17,7.55,7,17.6ZM5,21V16.75L18.45,3.32a2,2,0,0,1,2.83,0l1.4,1.43a1.91,1.91,0,0,1,.58,1.4,1.91,1.91,0,0,1-.58,1.4L9.25,21ZM18.45,9,17,7.55Zm-12,3A5.31,5.31,0,0,0,4.9,8.1,5.31,5.31,0,0,0,1,6.5,5.31,5.31,0,0,0,4.9,4.9,5.31,5.31,0,0,0,6.5,1,5.31,5.31,0,0,0,8.1,4.9,5.31,5.31,0,0,0,12,6.5,5.46,5.46,0,0,0,6.5,12Z\"/>\n",
              "  </svg>\n",
              "    </button>\n",
              "    <script>\n",
              "      (() => {\n",
              "      const buttonEl =\n",
              "        document.querySelector('#id_9a5c88be-0c75-404f-b3e3-7117b4ce5254 button.colab-df-generate');\n",
              "      buttonEl.style.display =\n",
              "        google.colab.kernel.accessAllowed ? 'block' : 'none';\n",
              "\n",
              "      buttonEl.onclick = () => {\n",
              "        google.colab.notebook.generateWithVariable('df');\n",
              "      }\n",
              "      })();\n",
              "    </script>\n",
              "  </div>\n",
              "\n",
              "    </div>\n",
              "  </div>\n"
            ],
            "application/vnd.google.colaboratory.intrinsic+json": {
              "type": "dataframe",
              "variable_name": "df",
              "summary": "{\n  \"name\": \"df\",\n  \"rows\": 3882,\n  \"fields\": [\n    {\n      \"column\": \"Price\",\n      \"properties\": {\n        \"dtype\": \"number\",\n        \"std\": 546.1055112562867,\n        \"min\": 8.92,\n        \"max\": 1907.66,\n        \"num_unique_values\": 3687,\n        \"samples\": [\n          1615.1,\n          1553.35,\n          41.9\n        ],\n        \"semantic_type\": \"\",\n        \"description\": \"\"\n      }\n    },\n    {\n      \"column\": \"Open\",\n      \"properties\": {\n        \"dtype\": \"number\",\n        \"std\": 546.9546853483572,\n        \"min\": 8.66,\n        \"max\": 1906.3,\n        \"num_unique_values\": 3157,\n        \"samples\": [\n          1618.35,\n          1362.0,\n          1337.45\n        ],\n        \"semantic_type\": \"\",\n        \"description\": \"\"\n      }\n    },\n    {\n      \"column\": \"High\",\n      \"properties\": {\n        \"dtype\": \"number\",\n        \"std\": 553.1520660507557,\n        \"min\": 9.15,\n        \"max\": 1932.5,\n        \"num_unique_values\": 3315,\n        \"samples\": [\n          967.37,\n          415.0,\n          34.19\n        ],\n        \"semantic_type\": \"\",\n        \"description\": \"\"\n      }\n    },\n    {\n      \"column\": \"Low\",\n      \"properties\": {\n        \"dtype\": \"number\",\n        \"std\": 539.6213164321306,\n        \"min\": 8.66,\n        \"max\": 1860.05,\n        \"num_unique_values\": 3359,\n        \"samples\": [\n          69.5,\n          265.7,\n          142.01\n        ],\n        \"semantic_type\": \"\",\n        \"description\": \"\"\n      }\n    }\n  ]\n}"
            }
          },
          "metadata": {},
          "execution_count": 10
        }
      ],
      "source": [
        "df = bajaj_df[['Price', 'Open', 'High', 'Low']].copy()\n",
        "df"
      ]
    },
    {
      "cell_type": "code",
      "execution_count": null,
      "metadata": {
        "colab": {
          "base_uri": "https://localhost:8080/",
          "height": 455
        },
        "id": "2RiKvgdK8b6i",
        "outputId": "94b51cec-8f63-409f-91f0-d3061fd597ed"
      },
      "outputs": [
        {
          "output_type": "execute_result",
          "data": {
            "text/plain": [
              "              Price     Open     High      Low\n",
              "Date                                          \n",
              "2008-05-27    54.49    49.61    60.02    48.25\n",
              "2008-05-28    62.97    55.41    65.39    55.41\n",
              "2008-05-29    62.13    64.51    69.07    59.73\n",
              "2008-05-30    63.27    63.11    65.63    57.80\n",
              "2008-06-02    67.49    63.86    68.67    61.11\n",
              "...             ...      ...      ...      ...\n",
              "2024-01-20  1581.00  1600.50  1610.95  1577.75\n",
              "2024-01-23  1582.50  1597.45  1615.25  1575.00\n",
              "2024-01-24  1620.85  1594.70  1622.85  1578.35\n",
              "2024-01-25  1630.15  1621.75  1635.00  1613.70\n",
              "2024-01-29  1637.00  1631.05  1640.80  1618.55\n",
              "\n",
              "[3882 rows x 4 columns]"
            ],
            "text/html": [
              "\n",
              "  <div id=\"df-2706b2b4-e01d-4f93-b775-b693136db5da\" class=\"colab-df-container\">\n",
              "    <div>\n",
              "<style scoped>\n",
              "    .dataframe tbody tr th:only-of-type {\n",
              "        vertical-align: middle;\n",
              "    }\n",
              "\n",
              "    .dataframe tbody tr th {\n",
              "        vertical-align: top;\n",
              "    }\n",
              "\n",
              "    .dataframe thead th {\n",
              "        text-align: right;\n",
              "    }\n",
              "</style>\n",
              "<table border=\"1\" class=\"dataframe\">\n",
              "  <thead>\n",
              "    <tr style=\"text-align: right;\">\n",
              "      <th></th>\n",
              "      <th>Price</th>\n",
              "      <th>Open</th>\n",
              "      <th>High</th>\n",
              "      <th>Low</th>\n",
              "    </tr>\n",
              "    <tr>\n",
              "      <th>Date</th>\n",
              "      <th></th>\n",
              "      <th></th>\n",
              "      <th></th>\n",
              "      <th></th>\n",
              "    </tr>\n",
              "  </thead>\n",
              "  <tbody>\n",
              "    <tr>\n",
              "      <th>2008-05-27</th>\n",
              "      <td>54.49</td>\n",
              "      <td>49.61</td>\n",
              "      <td>60.02</td>\n",
              "      <td>48.25</td>\n",
              "    </tr>\n",
              "    <tr>\n",
              "      <th>2008-05-28</th>\n",
              "      <td>62.97</td>\n",
              "      <td>55.41</td>\n",
              "      <td>65.39</td>\n",
              "      <td>55.41</td>\n",
              "    </tr>\n",
              "    <tr>\n",
              "      <th>2008-05-29</th>\n",
              "      <td>62.13</td>\n",
              "      <td>64.51</td>\n",
              "      <td>69.07</td>\n",
              "      <td>59.73</td>\n",
              "    </tr>\n",
              "    <tr>\n",
              "      <th>2008-05-30</th>\n",
              "      <td>63.27</td>\n",
              "      <td>63.11</td>\n",
              "      <td>65.63</td>\n",
              "      <td>57.80</td>\n",
              "    </tr>\n",
              "    <tr>\n",
              "      <th>2008-06-02</th>\n",
              "      <td>67.49</td>\n",
              "      <td>63.86</td>\n",
              "      <td>68.67</td>\n",
              "      <td>61.11</td>\n",
              "    </tr>\n",
              "    <tr>\n",
              "      <th>...</th>\n",
              "      <td>...</td>\n",
              "      <td>...</td>\n",
              "      <td>...</td>\n",
              "      <td>...</td>\n",
              "    </tr>\n",
              "    <tr>\n",
              "      <th>2024-01-20</th>\n",
              "      <td>1581.00</td>\n",
              "      <td>1600.50</td>\n",
              "      <td>1610.95</td>\n",
              "      <td>1577.75</td>\n",
              "    </tr>\n",
              "    <tr>\n",
              "      <th>2024-01-23</th>\n",
              "      <td>1582.50</td>\n",
              "      <td>1597.45</td>\n",
              "      <td>1615.25</td>\n",
              "      <td>1575.00</td>\n",
              "    </tr>\n",
              "    <tr>\n",
              "      <th>2024-01-24</th>\n",
              "      <td>1620.85</td>\n",
              "      <td>1594.70</td>\n",
              "      <td>1622.85</td>\n",
              "      <td>1578.35</td>\n",
              "    </tr>\n",
              "    <tr>\n",
              "      <th>2024-01-25</th>\n",
              "      <td>1630.15</td>\n",
              "      <td>1621.75</td>\n",
              "      <td>1635.00</td>\n",
              "      <td>1613.70</td>\n",
              "    </tr>\n",
              "    <tr>\n",
              "      <th>2024-01-29</th>\n",
              "      <td>1637.00</td>\n",
              "      <td>1631.05</td>\n",
              "      <td>1640.80</td>\n",
              "      <td>1618.55</td>\n",
              "    </tr>\n",
              "  </tbody>\n",
              "</table>\n",
              "<p>3882 rows × 4 columns</p>\n",
              "</div>\n",
              "    <div class=\"colab-df-buttons\">\n",
              "\n",
              "  <div class=\"colab-df-container\">\n",
              "    <button class=\"colab-df-convert\" onclick=\"convertToInteractive('df-2706b2b4-e01d-4f93-b775-b693136db5da')\"\n",
              "            title=\"Convert this dataframe to an interactive table.\"\n",
              "            style=\"display:none;\">\n",
              "\n",
              "  <svg xmlns=\"http://www.w3.org/2000/svg\" height=\"24px\" viewBox=\"0 -960 960 960\">\n",
              "    <path d=\"M120-120v-720h720v720H120Zm60-500h600v-160H180v160Zm220 220h160v-160H400v160Zm0 220h160v-160H400v160ZM180-400h160v-160H180v160Zm440 0h160v-160H620v160ZM180-180h160v-160H180v160Zm440 0h160v-160H620v160Z\"/>\n",
              "  </svg>\n",
              "    </button>\n",
              "\n",
              "  <style>\n",
              "    .colab-df-container {\n",
              "      display:flex;\n",
              "      gap: 12px;\n",
              "    }\n",
              "\n",
              "    .colab-df-convert {\n",
              "      background-color: #E8F0FE;\n",
              "      border: none;\n",
              "      border-radius: 50%;\n",
              "      cursor: pointer;\n",
              "      display: none;\n",
              "      fill: #1967D2;\n",
              "      height: 32px;\n",
              "      padding: 0 0 0 0;\n",
              "      width: 32px;\n",
              "    }\n",
              "\n",
              "    .colab-df-convert:hover {\n",
              "      background-color: #E2EBFA;\n",
              "      box-shadow: 0px 1px 2px rgba(60, 64, 67, 0.3), 0px 1px 3px 1px rgba(60, 64, 67, 0.15);\n",
              "      fill: #174EA6;\n",
              "    }\n",
              "\n",
              "    .colab-df-buttons div {\n",
              "      margin-bottom: 4px;\n",
              "    }\n",
              "\n",
              "    [theme=dark] .colab-df-convert {\n",
              "      background-color: #3B4455;\n",
              "      fill: #D2E3FC;\n",
              "    }\n",
              "\n",
              "    [theme=dark] .colab-df-convert:hover {\n",
              "      background-color: #434B5C;\n",
              "      box-shadow: 0px 1px 3px 1px rgba(0, 0, 0, 0.15);\n",
              "      filter: drop-shadow(0px 1px 2px rgba(0, 0, 0, 0.3));\n",
              "      fill: #FFFFFF;\n",
              "    }\n",
              "  </style>\n",
              "\n",
              "    <script>\n",
              "      const buttonEl =\n",
              "        document.querySelector('#df-2706b2b4-e01d-4f93-b775-b693136db5da button.colab-df-convert');\n",
              "      buttonEl.style.display =\n",
              "        google.colab.kernel.accessAllowed ? 'block' : 'none';\n",
              "\n",
              "      async function convertToInteractive(key) {\n",
              "        const element = document.querySelector('#df-2706b2b4-e01d-4f93-b775-b693136db5da');\n",
              "        const dataTable =\n",
              "          await google.colab.kernel.invokeFunction('convertToInteractive',\n",
              "                                                    [key], {});\n",
              "        if (!dataTable) return;\n",
              "\n",
              "        const docLinkHtml = 'Like what you see? Visit the ' +\n",
              "          '<a target=\"_blank\" href=https://colab.research.google.com/notebooks/data_table.ipynb>data table notebook</a>'\n",
              "          + ' to learn more about interactive tables.';\n",
              "        element.innerHTML = '';\n",
              "        dataTable['output_type'] = 'display_data';\n",
              "        await google.colab.output.renderOutput(dataTable, element);\n",
              "        const docLink = document.createElement('div');\n",
              "        docLink.innerHTML = docLinkHtml;\n",
              "        element.appendChild(docLink);\n",
              "      }\n",
              "    </script>\n",
              "  </div>\n",
              "\n",
              "\n",
              "<div id=\"df-4ad94a84-63fb-4f7c-b223-3a5a32adfe7d\">\n",
              "  <button class=\"colab-df-quickchart\" onclick=\"quickchart('df-4ad94a84-63fb-4f7c-b223-3a5a32adfe7d')\"\n",
              "            title=\"Suggest charts\"\n",
              "            style=\"display:none;\">\n",
              "\n",
              "<svg xmlns=\"http://www.w3.org/2000/svg\" height=\"24px\"viewBox=\"0 0 24 24\"\n",
              "     width=\"24px\">\n",
              "    <g>\n",
              "        <path d=\"M19 3H5c-1.1 0-2 .9-2 2v14c0 1.1.9 2 2 2h14c1.1 0 2-.9 2-2V5c0-1.1-.9-2-2-2zM9 17H7v-7h2v7zm4 0h-2V7h2v10zm4 0h-2v-4h2v4z\"/>\n",
              "    </g>\n",
              "</svg>\n",
              "  </button>\n",
              "\n",
              "<style>\n",
              "  .colab-df-quickchart {\n",
              "      --bg-color: #E8F0FE;\n",
              "      --fill-color: #1967D2;\n",
              "      --hover-bg-color: #E2EBFA;\n",
              "      --hover-fill-color: #174EA6;\n",
              "      --disabled-fill-color: #AAA;\n",
              "      --disabled-bg-color: #DDD;\n",
              "  }\n",
              "\n",
              "  [theme=dark] .colab-df-quickchart {\n",
              "      --bg-color: #3B4455;\n",
              "      --fill-color: #D2E3FC;\n",
              "      --hover-bg-color: #434B5C;\n",
              "      --hover-fill-color: #FFFFFF;\n",
              "      --disabled-bg-color: #3B4455;\n",
              "      --disabled-fill-color: #666;\n",
              "  }\n",
              "\n",
              "  .colab-df-quickchart {\n",
              "    background-color: var(--bg-color);\n",
              "    border: none;\n",
              "    border-radius: 50%;\n",
              "    cursor: pointer;\n",
              "    display: none;\n",
              "    fill: var(--fill-color);\n",
              "    height: 32px;\n",
              "    padding: 0;\n",
              "    width: 32px;\n",
              "  }\n",
              "\n",
              "  .colab-df-quickchart:hover {\n",
              "    background-color: var(--hover-bg-color);\n",
              "    box-shadow: 0 1px 2px rgba(60, 64, 67, 0.3), 0 1px 3px 1px rgba(60, 64, 67, 0.15);\n",
              "    fill: var(--button-hover-fill-color);\n",
              "  }\n",
              "\n",
              "  .colab-df-quickchart-complete:disabled,\n",
              "  .colab-df-quickchart-complete:disabled:hover {\n",
              "    background-color: var(--disabled-bg-color);\n",
              "    fill: var(--disabled-fill-color);\n",
              "    box-shadow: none;\n",
              "  }\n",
              "\n",
              "  .colab-df-spinner {\n",
              "    border: 2px solid var(--fill-color);\n",
              "    border-color: transparent;\n",
              "    border-bottom-color: var(--fill-color);\n",
              "    animation:\n",
              "      spin 1s steps(1) infinite;\n",
              "  }\n",
              "\n",
              "  @keyframes spin {\n",
              "    0% {\n",
              "      border-color: transparent;\n",
              "      border-bottom-color: var(--fill-color);\n",
              "      border-left-color: var(--fill-color);\n",
              "    }\n",
              "    20% {\n",
              "      border-color: transparent;\n",
              "      border-left-color: var(--fill-color);\n",
              "      border-top-color: var(--fill-color);\n",
              "    }\n",
              "    30% {\n",
              "      border-color: transparent;\n",
              "      border-left-color: var(--fill-color);\n",
              "      border-top-color: var(--fill-color);\n",
              "      border-right-color: var(--fill-color);\n",
              "    }\n",
              "    40% {\n",
              "      border-color: transparent;\n",
              "      border-right-color: var(--fill-color);\n",
              "      border-top-color: var(--fill-color);\n",
              "    }\n",
              "    60% {\n",
              "      border-color: transparent;\n",
              "      border-right-color: var(--fill-color);\n",
              "    }\n",
              "    80% {\n",
              "      border-color: transparent;\n",
              "      border-right-color: var(--fill-color);\n",
              "      border-bottom-color: var(--fill-color);\n",
              "    }\n",
              "    90% {\n",
              "      border-color: transparent;\n",
              "      border-bottom-color: var(--fill-color);\n",
              "    }\n",
              "  }\n",
              "</style>\n",
              "\n",
              "  <script>\n",
              "    async function quickchart(key) {\n",
              "      const quickchartButtonEl =\n",
              "        document.querySelector('#' + key + ' button');\n",
              "      quickchartButtonEl.disabled = true;  // To prevent multiple clicks.\n",
              "      quickchartButtonEl.classList.add('colab-df-spinner');\n",
              "      try {\n",
              "        const charts = await google.colab.kernel.invokeFunction(\n",
              "            'suggestCharts', [key], {});\n",
              "      } catch (error) {\n",
              "        console.error('Error during call to suggestCharts:', error);\n",
              "      }\n",
              "      quickchartButtonEl.classList.remove('colab-df-spinner');\n",
              "      quickchartButtonEl.classList.add('colab-df-quickchart-complete');\n",
              "    }\n",
              "    (() => {\n",
              "      let quickchartButtonEl =\n",
              "        document.querySelector('#df-4ad94a84-63fb-4f7c-b223-3a5a32adfe7d button');\n",
              "      quickchartButtonEl.style.display =\n",
              "        google.colab.kernel.accessAllowed ? 'block' : 'none';\n",
              "    })();\n",
              "  </script>\n",
              "</div>\n",
              "\n",
              "  <div id=\"id_d2ec0b1d-e13b-438a-b0a2-af1236567fc7\">\n",
              "    <style>\n",
              "      .colab-df-generate {\n",
              "        background-color: #E8F0FE;\n",
              "        border: none;\n",
              "        border-radius: 50%;\n",
              "        cursor: pointer;\n",
              "        display: none;\n",
              "        fill: #1967D2;\n",
              "        height: 32px;\n",
              "        padding: 0 0 0 0;\n",
              "        width: 32px;\n",
              "      }\n",
              "\n",
              "      .colab-df-generate:hover {\n",
              "        background-color: #E2EBFA;\n",
              "        box-shadow: 0px 1px 2px rgba(60, 64, 67, 0.3), 0px 1px 3px 1px rgba(60, 64, 67, 0.15);\n",
              "        fill: #174EA6;\n",
              "      }\n",
              "\n",
              "      [theme=dark] .colab-df-generate {\n",
              "        background-color: #3B4455;\n",
              "        fill: #D2E3FC;\n",
              "      }\n",
              "\n",
              "      [theme=dark] .colab-df-generate:hover {\n",
              "        background-color: #434B5C;\n",
              "        box-shadow: 0px 1px 3px 1px rgba(0, 0, 0, 0.15);\n",
              "        filter: drop-shadow(0px 1px 2px rgba(0, 0, 0, 0.3));\n",
              "        fill: #FFFFFF;\n",
              "      }\n",
              "    </style>\n",
              "    <button class=\"colab-df-generate\" onclick=\"generateWithVariable('df')\"\n",
              "            title=\"Generate code using this dataframe.\"\n",
              "            style=\"display:none;\">\n",
              "\n",
              "  <svg xmlns=\"http://www.w3.org/2000/svg\" height=\"24px\"viewBox=\"0 0 24 24\"\n",
              "       width=\"24px\">\n",
              "    <path d=\"M7,19H8.4L18.45,9,17,7.55,7,17.6ZM5,21V16.75L18.45,3.32a2,2,0,0,1,2.83,0l1.4,1.43a1.91,1.91,0,0,1,.58,1.4,1.91,1.91,0,0,1-.58,1.4L9.25,21ZM18.45,9,17,7.55Zm-12,3A5.31,5.31,0,0,0,4.9,8.1,5.31,5.31,0,0,0,1,6.5,5.31,5.31,0,0,0,4.9,4.9,5.31,5.31,0,0,0,6.5,1,5.31,5.31,0,0,0,8.1,4.9,5.31,5.31,0,0,0,12,6.5,5.46,5.46,0,0,0,6.5,12Z\"/>\n",
              "  </svg>\n",
              "    </button>\n",
              "    <script>\n",
              "      (() => {\n",
              "      const buttonEl =\n",
              "        document.querySelector('#id_d2ec0b1d-e13b-438a-b0a2-af1236567fc7 button.colab-df-generate');\n",
              "      buttonEl.style.display =\n",
              "        google.colab.kernel.accessAllowed ? 'block' : 'none';\n",
              "\n",
              "      buttonEl.onclick = () => {\n",
              "        google.colab.notebook.generateWithVariable('df');\n",
              "      }\n",
              "      })();\n",
              "    </script>\n",
              "  </div>\n",
              "\n",
              "    </div>\n",
              "  </div>\n"
            ],
            "application/vnd.google.colaboratory.intrinsic+json": {
              "type": "dataframe",
              "variable_name": "df",
              "summary": "{\n  \"name\": \"df\",\n  \"rows\": 3882,\n  \"fields\": [\n    {\n      \"column\": \"Price\",\n      \"properties\": {\n        \"dtype\": \"number\",\n        \"std\": 546.1055112562867,\n        \"min\": 8.92,\n        \"max\": 1907.66,\n        \"num_unique_values\": 3687,\n        \"samples\": [\n          1615.1,\n          1553.35,\n          41.9\n        ],\n        \"semantic_type\": \"\",\n        \"description\": \"\"\n      }\n    },\n    {\n      \"column\": \"Open\",\n      \"properties\": {\n        \"dtype\": \"number\",\n        \"std\": 546.9546853483572,\n        \"min\": 8.66,\n        \"max\": 1906.3,\n        \"num_unique_values\": 3157,\n        \"samples\": [\n          1618.35,\n          1362.0,\n          1337.45\n        ],\n        \"semantic_type\": \"\",\n        \"description\": \"\"\n      }\n    },\n    {\n      \"column\": \"High\",\n      \"properties\": {\n        \"dtype\": \"number\",\n        \"std\": 553.1520660507557,\n        \"min\": 9.15,\n        \"max\": 1932.5,\n        \"num_unique_values\": 3315,\n        \"samples\": [\n          967.37,\n          415.0,\n          34.19\n        ],\n        \"semantic_type\": \"\",\n        \"description\": \"\"\n      }\n    },\n    {\n      \"column\": \"Low\",\n      \"properties\": {\n        \"dtype\": \"number\",\n        \"std\": 539.6213164321306,\n        \"min\": 8.66,\n        \"max\": 1860.05,\n        \"num_unique_values\": 3359,\n        \"samples\": [\n          69.5,\n          265.7,\n          142.01\n        ],\n        \"semantic_type\": \"\",\n        \"description\": \"\"\n      }\n    }\n  ]\n}"
            }
          },
          "metadata": {},
          "execution_count": 11
        }
      ],
      "source": [
        "df = df.dropna()\n",
        "df"
      ]
    },
    {
      "cell_type": "code",
      "execution_count": null,
      "metadata": {
        "colab": {
          "base_uri": "https://localhost:8080/"
        },
        "id": "RX6tJaRS8gMa",
        "outputId": "abffde24-cb44-43b7-8bc9-756ad64ca032"
      },
      "outputs": [
        {
          "output_type": "stream",
          "name": "stdout",
          "text": [
            "Collecting ta\n",
            "  Downloading ta-0.11.0.tar.gz (25 kB)\n",
            "  Preparing metadata (setup.py) ... \u001b[?25l\u001b[?25hdone\n",
            "Requirement already satisfied: numpy in /usr/local/lib/python3.10/dist-packages (from ta) (1.25.2)\n",
            "Requirement already satisfied: pandas in /usr/local/lib/python3.10/dist-packages (from ta) (1.5.3)\n",
            "Requirement already satisfied: python-dateutil>=2.8.1 in /usr/local/lib/python3.10/dist-packages (from pandas->ta) (2.8.2)\n",
            "Requirement already satisfied: pytz>=2020.1 in /usr/local/lib/python3.10/dist-packages (from pandas->ta) (2023.4)\n",
            "Requirement already satisfied: six>=1.5 in /usr/local/lib/python3.10/dist-packages (from python-dateutil>=2.8.1->pandas->ta) (1.16.0)\n",
            "Building wheels for collected packages: ta\n",
            "  Building wheel for ta (setup.py) ... \u001b[?25l\u001b[?25hdone\n",
            "  Created wheel for ta: filename=ta-0.11.0-py3-none-any.whl size=29413 sha256=95019ced0bb2e7de974b0b4f840cbb6b967e899170f8b7cb20cd7cc58ed0e9e3\n",
            "  Stored in directory: /root/.cache/pip/wheels/5f/67/4f/8a9f252836e053e532c6587a3230bc72a4deb16b03a829610b\n",
            "Successfully built ta\n",
            "Installing collected packages: ta\n",
            "Successfully installed ta-0.11.0\n"
          ]
        }
      ],
      "source": [
        "!pip install ta"
      ]
    },
    {
      "cell_type": "code",
      "execution_count": null,
      "metadata": {
        "id": "HWwMYLtW8mky"
      },
      "outputs": [],
      "source": [
        "import pandas as pd\n",
        "import numpy as np\n",
        "# python -m pip install yahoo-finance; pip install yahoo-finance; pip install yfinance --upgrade --no-cache-dir\n",
        "# import yfinance as yf\n",
        "# pip install --upgrade ta; pip install ta\n",
        "import ta as ta\n",
        "import sklearn as sk\n",
        "from sklearn import preprocessing\n",
        "from scipy.stats import t\n",
        "import tensorflow as tf\n",
        "from datetime import date, datetime, timedelta\n",
        "from arch import arch_model\n",
        "import matplotlib.pyplot as plt\n",
        "import time\n",
        "from tqdm import tqdm"
      ]
    },
    {
      "cell_type": "code",
      "execution_count": null,
      "metadata": {
        "id": "QII9hjUUhq4H"
      },
      "outputs": [],
      "source": [
        "import gc"
      ]
    },
    {
      "cell_type": "code",
      "execution_count": null,
      "metadata": {
        "id": "496e0rAA8xip"
      },
      "outputs": [],
      "source": [
        "#Return calculation\n",
        "def ReturnCalculation (Database,lag):\n",
        "    dimension=Database.shape[0];dif=lag;Out=np.zeros([dimension-dif])\n",
        "    for i in range(dimension-dif):\n",
        "        Out[i]=(np.log(Database['Price'][i+dif])-np.log(Database['Price'][i]))\n",
        "    return np.append(np.repeat(np.nan, dif),Out), Database.index\n",
        "\n",
        "#STD Calculation\n",
        "def SDCalculation (DailyReturns, LagSD):\n",
        "    dimension=DailyReturns.shape[0]; dif=LagSD; Out=np.zeros([dimension-dif])\n",
        "    for i in range (dimension-dif):\n",
        "        Out[i]=np.std(DailyReturns[i:i+LagSD],ddof=1)\n",
        "    return np.append(np.repeat(np.nan, dif),Out)\n",
        "\n",
        "#STD Calculation\n",
        "def TrueSDCalculation (DailyReturns, LagSD):\n",
        "    dimension=DailyReturns.shape[0]; dif=LagSD; Out=np.zeros([dimension-dif+1])\n",
        "    for i in range (dimension-dif+1):\n",
        "        Out[i]=np.std(DailyReturns[i:i+LagSD],ddof=1)\n",
        "    return np.append(Out,np.repeat(np.nan, dif-1))\n",
        "\n",
        "#Database is calculated\n",
        "def DatabaseGeneration (Database, Lag, LagSD):\n",
        "    DailyReturns, Index = ReturnCalculation(Database,Lag)\n",
        "    DailyReturnsOld =  np.append(np.repeat(np.nan, 1),DailyReturns[0:(DailyReturns.shape[0]-1)])\n",
        "    SD = SDCalculation (DailyReturns, LagSD)\n",
        "    TrueSD = TrueSDCalculation(DailyReturns, LagSD)\n",
        "    Data = pd.DataFrame({'DailyReturns': DailyReturns, 'SD': SD, 'TrueSD': TrueSD, 'DailyReturnsOld': DailyReturnsOld})\n",
        "    Data = Data.set_index(Index)\n",
        "    return Data.dropna()\n",
        "\n",
        "#Fitting of GARCH(1,1)\n",
        "def GARCH_Model_Student (Data):\n",
        "    AR_Data=Data['DailyReturns']*100\n",
        "    GARCH11 = arch_model(AR_Data, dist ='t')\n",
        "    res_GARCH11 = GARCH11.fit(disp='off')\n",
        "    CV_GARCH11 = res_GARCH11.conditional_volatility\n",
        "    For_CV_GARCH11 = np.array(res_GARCH11.forecast(horizon=1).variance.dropna())[0][0]\n",
        "    return GARCH11, res_GARCH11, CV_GARCH11, For_CV_GARCH11\n",
        "\n",
        "#Fitting of GJR_GARCH(1,1)\n",
        "def GJR_GARCH_Model_Student (Data):\n",
        "    AR_Data=Data['DailyReturns']*100\n",
        "    GJR_GARCH11 = arch_model(AR_Data, p=1, o=1, q=1, dist ='t')\n",
        "    res_GJR_GARCH11 = GJR_GARCH11.fit(disp='off')\n",
        "    CV_GJR_GARCH11 = res_GJR_GARCH11.conditional_volatility\n",
        "    For_CV_GJR_GARCH11 = np.array(res_GJR_GARCH11.forecast(horizon=1).variance.dropna())[0][0]\n",
        "    return GJR_GARCH11, res_GJR_GARCH11, CV_GJR_GARCH11, For_CV_GJR_GARCH11\n",
        "\n",
        "#Fitting of TARCH(1,1)\n",
        "def TARCH_Model_Student(Data):\n",
        "    AR_Data=Data['DailyReturns']*100\n",
        "    TARCH11 = arch_model(AR_Data, p=1, o=1, q=1, power=1.0, dist ='t')\n",
        "    res_TARCH11 = TARCH11.fit(disp='off')\n",
        "    CV_TARCH11 = res_TARCH11.conditional_volatility\n",
        "    For_CV_TARCH11 = np.array(res_TARCH11.forecast(horizon=1).variance.dropna())[0][0]\n",
        "    return TARCH11, res_TARCH11, CV_TARCH11, For_CV_TARCH11\n",
        "\n",
        "#Fitting of EGARCH(1,1)\n",
        "def EGARCH_Model_Student(Data):\n",
        "    AR_Data=Data['DailyReturns']*100\n",
        "    EGARCH11 = arch_model(AR_Data, dist ='t', vol=\"EGARCH\")\n",
        "    res_EGARCH11 = EGARCH11.fit(disp='off')\n",
        "    CV_EGARCH11 = res_EGARCH11.conditional_volatility\n",
        "    For_CV_EGARCH11 = np.array(res_EGARCH11.forecast(horizon=1).variance.dropna())[0][0]\n",
        "    return EGARCH11, res_EGARCH11,CV_EGARCH11, For_CV_EGARCH11\n",
        "\n",
        "#Fitting of Absolute Value GARCH(1,1)\n",
        "def AVGARCH_Model_Student(Data):\n",
        "    AR_Data=Data['DailyReturns']*100\n",
        "    AVGARCH11 = arch_model(AR_Data, dist ='t', power=1)\n",
        "    res_AVGARCH11 = AVGARCH11.fit(disp='off',options={'maxiter': 1000})\n",
        "    CV_AVGARCH11 = res_AVGARCH11.conditional_volatility\n",
        "    For_CV_AVGARCH11 = np.array(res_AVGARCH11.forecast(horizon=1).variance.dropna())[0][0]\n",
        "    return AVGARCH11, res_AVGARCH11, CV_AVGARCH11, For_CV_AVGARCH11\n",
        "\n",
        "#Fitting of FIGARCH11(1,1)\n",
        "def FIGARCH_Model_Student(Data):\n",
        "    AR_Data=Data['DailyReturns']*100\n",
        "    FIGARCH11 = arch_model(AR_Data, dist ='t', vol=\"FIGARCH\")\n",
        "    res_FIGARCH11 = FIGARCH11.fit(disp='off')\n",
        "    CV_FIGARCH11 = res_FIGARCH11.conditional_volatility\n",
        "    For_CV_FIGARCH11 = np.array(res_FIGARCH11.forecast(horizon=1).variance.dropna())[0][0]\n",
        "    return FIGARCH11, res_FIGARCH11, CV_FIGARCH11, For_CV_FIGARCH11\n",
        "\n",
        "#AR models are fitted. As requested by arma package, returns are multiplied by 100 in order to improve the fitting process.\n",
        "#GARCH(1,1), GJR_GARCH(1,1), TARCH(1,1), EGARCH(1,1), AVGARCH(1,1) and FIGARCH(1,1) volatility models are fitted.\n",
        "#T student is assumed as distribution.\n",
        "def AR_Models (Data):\n",
        "    GARCH, GARCH_Parameters, CV_GARCH, For_CV_GARCH = GARCH_Model_Student(Data)\n",
        "    GJR_GARCH, GJR_GARCH_Parameters, CV_GJR_GARCH, For_CV_GJR_GARCH = GJR_GARCH_Model_Student(Data)\n",
        "    TARCH, TARCH_Parameters, CV_TARCH, For_CV_TARCH = TARCH_Model_Student(Data)\n",
        "    EGARCH, EGARCH_Parameters,CV_EGARCH, For_CV_EGARCH = EGARCH_Model_Student(Data)\n",
        "    AVGARCH, AVGARCH_Parameters,CV_AVGARCH, For_CV_AVGARCH = AVGARCH_Model_Student(Data)\n",
        "    FIGARCH, FIGARCH_Parameters,CV_FIGARCH, For_CV_FIGARCH  = FIGARCH_Model_Student(Data)\n",
        "    return GARCH_Parameters, CV_GARCH, For_CV_GARCH, GJR_GARCH_Parameters, CV_GJR_GARCH, For_CV_GJR_GARCH, TARCH_Parameters, CV_TARCH, For_CV_TARCH, EGARCH_Parameters,CV_EGARCH, For_CV_EGARCH, AVGARCH_Parameters,CV_AVGARCH, For_CV_AVGARCH, FIGARCH_Parameters,CV_FIGARCH, For_CV_FIGARCH\n",
        "\n",
        "#LSTM model is created\n",
        "def LSTM_Model (Shape1, Shape2, Dropout, LearningRate):\n",
        "    #Model struture is defined\n",
        "    Inputs = tf.keras.Input(shape=(Shape1,Shape2), name=\"Input\")\n",
        "    X = tf.keras.layers.LSTM(units=32, dropout=Dropout, return_sequences=False) (Inputs)\n",
        "#     X = tf.keras.layers.RepeatVector(Shape1) (X)\n",
        "#     X = tf.keras.layers.LSTM(units=8, dropout=Dropout) (X)\n",
        "    X = tf.keras.layers.Dense(8, activation=tf.nn.sigmoid) (X)\n",
        "    X = tf.keras.layers.Dropout(Dropout) (X)\n",
        "    Output = tf.keras.layers.Dense(1, activation=tf.nn.sigmoid, name=\"Output\") (X)\n",
        "    #Output = tf.keras.layers.Dropout(Dropout) (X)\n",
        "    model = tf.keras.Model(inputs=Inputs, outputs=Output)\n",
        "    #Optimizer is defined\n",
        "    Opt = tf.keras.optimizers.Adam(learning_rate=LearningRate, beta_1=0.9, beta_2=0.999, epsilon=1e-07, amsgrad=False,name='Adam')\n",
        "    #Model is compiled\n",
        "    model.compile(optimizer=Opt, loss='mean_squared_error', metrics=['mean_squared_error'])\n",
        "    return model\n",
        "\n",
        "#It generates the database for fitting LSTM\n",
        "def LSTM_Database (Timestep, XData_AR, YData_AR):\n",
        "    Features = XData_AR.shape[1]; Sample = XData_AR.shape[0]-Timestep+1\n",
        "    XDataTrainScaledRNN=np.zeros([Sample, Timestep, Features]); YDataTrainRNN=np.zeros([Sample])\n",
        "    for i in range(Sample):\n",
        "        XDataTrainScaledRNN[i,:,:] = XData_AR[i:(Timestep+i)]\n",
        "        YDataTrainRNN[i] = YData_AR[Timestep+i-1]\n",
        "    return XDataTrainScaledRNN, YDataTrainRNN\n",
        "\n",
        "#Database is calculated\n",
        "def DatabaseGenerationForecast (Database, Lag, LagSD):\n",
        "    DailyReturns, Index = ReturnCalculation(Database,Lag)\n",
        "    DailyReturnsOld =  np.append(np.repeat(np.nan, 1),DailyReturns[0:(DailyReturns.shape[0]-1)])\n",
        "    SD = SDCalculation (DailyReturns, LagSD)\n",
        "    TrueSD = TrueSDCalculation(DailyReturns, LagSD)\n",
        "    Data = pd.DataFrame({'DailyReturns': DailyReturns, 'SD': SD, 'TrueSD': TrueSD, 'DailyReturnsOld': DailyReturnsOld})\n",
        "    Data = Data.set_index(Index)\n",
        "    return Data\n",
        "\n",
        "#Final AR database for forcasting is generated\n",
        "def DatabaseGenerationForecast_AR (Database, Lag, LagSD, For_CV_GARCH, For_CV_GJR_GARCH, For_CV_TARCH, For_CV_EGARCH, For_CV_AVGARCH, For_CV_FIGARCH):\n",
        "    Data_Forecast=DatabaseGenerationForecast(Database, Lag, LagSD).iloc[(-LagSD+1)]\n",
        "    Index_Forecast=DatabaseGenerationForecast(Database, Lag, LagSD).index[(-LagSD+1)]\n",
        "    XDataForecast={'SD': Data_Forecast['SD'], 'DailyReturnsOld': Data_Forecast['DailyReturnsOld'],\n",
        "               'CV_GARCH' : For_CV_GARCH/100, 'CV_GJR_GARCH' : For_CV_GJR_GARCH/100, 'CV_TARCH' : For_CV_TARCH/100,\n",
        "               'CV_EGARCH' : For_CV_EGARCH/100, 'CV_AVGARCH' : For_CV_AVGARCH/100, 'CV_FIGARCH' : For_CV_FIGARCH/100}\n",
        "    return pd.DataFrame([XDataForecast], index=[Index_Forecast]), Data_Forecast['DailyReturns']\n",
        "\n",
        "#LSTM-ARCH model forecast\n",
        "def LSTM_ARCH_Forecast (Database, Lag, LagSD, For_CV_GARCH, For_CV_GJR_GARCH, For_CV_TARCH, For_CV_EGARCH, For_CV_AVGARCH, For_CV_FIGARCH,Scaled_Norm, XData_AR, model):\n",
        "    XDataForecast, ReturnForecast = DatabaseGenerationForecast_AR (Database, Lag, LagSD, For_CV_GARCH, For_CV_GJR_GARCH, For_CV_TARCH, For_CV_EGARCH, For_CV_AVGARCH, For_CV_FIGARCH)\n",
        "    XDataForecast = pd.concat([XData_AR,XDataForecast])\n",
        "    XDataForecastTotalScaled = Scaled_Norm.transform(XDataForecast)\n",
        "    XDataForecastTotalScaled_T, Y_T = LSTM_Database(Timestep, XDataForecastTotalScaled, np.zeros(XDataForecastTotalScaled.shape[0]))\n",
        "    TransformerPrediction = model.predict(XDataForecastTotalScaled_T)\n",
        "    return TransformerPrediction[-1][0], XDataForecast.index[-1], TransformerPrediction[0:(XDataForecastTotalScaled_T.shape[0]-1)], ReturnForecast\n",
        "\n",
        "#It calculates VaR taking into consideration the forecasted sigma to calculate the scale parameter\n",
        "def LSTM_ARCH_VaR (Alpha, HistoricalReturns, ForecastedSigma, DF):\n",
        "    HistoricalMean = np.mean(HistoricalReturns)\n",
        "    ScaleParameter = np.sqrt((ForecastedSigma**2)*((DF-2)/DF))\n",
        "    VaR = -t.ppf(Alpha, DF, loc=HistoricalMean, scale=ScaleParameter)\n",
        "    return VaR\n",
        "\n",
        "#Formula to calculate the VaR of ARCH models\n",
        "def VaR_AR_Model (AR_Model,AR_Model_Results,Alpha):\n",
        "    Cond_Var=AR_Model_Results.forecast(horizon=1).variance.dropna()\n",
        "    Cond_Mean=AR_Model_Results.forecast(horizon=1).mean.dropna()\n",
        "    Quantile_Dist=AR_Model.distribution.ppf([Alpha], AR_Model_Results.params[-1:])\n",
        "    VaR=(-Cond_Mean-np.sqrt(Cond_Var)*Quantile_Dist)/100\n",
        "    return VaR.values\n",
        "\n",
        "#Formula to calculate the VaR of all the ARCH models\n",
        "def VaR_AR_Total(Alpha, GARCH_fit, GJR_GARCH_fit, TARCH_fit, EGARCH_fit, AVGARCH_fit, FIGARCH_fit,GARCH, GJR_GARCH, TARCH, EGARCH, AVGARCH, FIGARCH):\n",
        "    VaR_GARCH = VaR_AR_Model (GARCH,GARCH_fit,Alpha)\n",
        "    VaR_GJR_GARCH = VaR_AR_Model (GJR_GARCH,GJR_GARCH_fit,Alpha)\n",
        "    VaR_TARCH = VaR_AR_Model (TARCH,TARCH_fit,Alpha)\n",
        "    VaR_EGARCH = VaR_AR_Model (EGARCH,EGARCH_fit,Alpha)\n",
        "    VaR_AVGARCH = VaR_AR_Model (AVGARCH,AVGARCH_fit,Alpha)\n",
        "    VaR_FIGARCH = VaR_AR_Model (FIGARCH,FIGARCH_fit,Alpha)\n",
        "    return {'VaR_GARCH':VaR_GARCH, 'VaR_GJR_GARCH':VaR_GJR_GARCH, 'VaR_TARCH':VaR_TARCH, 'VaR_EGARCH':VaR_EGARCH, 'VaR_AVGARCH':VaR_AVGARCH, 'VaR_FIGARCH':VaR_FIGARCH}\n",
        "\n",
        "#Fitting of LSTM-ARCH model and forecasting of the next volatility value\n",
        "def LSTM_ARCH_Fit (Data, Lag=1, LagSD=5, Timestep=10, Dropout=0.05, LearningRate=0.001, Epochs=10000, Alpha=0.005, DF=4, BatchSize=64):\n",
        "    #AR Models are fitted\n",
        "    GARCH, GARCH_Parameters, CV_GARCH, For_CV_GARCH = GARCH_Model_Student(Data)\n",
        "    GJR_GARCH, GJR_GARCH_Parameters, CV_GJR_GARCH, For_CV_GJR_GARCH = GJR_GARCH_Model_Student(Data)\n",
        "    TARCH, TARCH_Parameters, CV_TARCH, For_CV_TARCH = TARCH_Model_Student(Data)\n",
        "    EGARCH, EGARCH_Parameters,CV_EGARCH, For_CV_EGARCH = EGARCH_Model_Student(Data)\n",
        "    AVGARCH, AVGARCH_Parameters,CV_AVGARCH, For_CV_AVGARCH = AVGARCH_Model_Student(Data)\n",
        "    FIGARCH, FIGARCH_Parameters,CV_FIGARCH, For_CV_FIGARCH  = FIGARCH_Model_Student(Data)\n",
        "    #Database contaning AR models is generated\n",
        "    Data_AR=pd.concat([Data, CV_GARCH.rename('CV_GARCH')/100, CV_GJR_GARCH.rename('CV_GJR_GARCH')/100, CV_TARCH.rename('CV_TARCH')/100,\n",
        "                     CV_EGARCH.rename('CV_EGARCH')/100, CV_AVGARCH.rename('CV_AVGARCH')/100, CV_FIGARCH.rename('CV_FIGARCH')/100], axis=1)\n",
        "    if Data_AR.shape[0]!=Data.shape[0]: print(\"Error in DB Generation\")\n",
        "    #Original explanatory and response variables are generated\n",
        "    XData_AR = Data_AR.drop(Data_AR.columns[[0,2]], axis=1);YData_AR = Data_AR['TrueSD']\n",
        "    #Data is normalized\n",
        "    Scaled_Norm = preprocessing.StandardScaler().fit(XData_AR); XData_AR_Norm = Scaled_Norm.transform(XData_AR)\n",
        "    #Data for fitting the LSTM model is generated\n",
        "    XData_AR_Norm_T, YData_AR_Norm_T= LSTM_Database(Timestep, XData_AR_Norm, YData_AR)\n",
        "    #Model with LSTM layers is defined\n",
        "    model = LSTM_Model(XData_AR_Norm_T.shape[1], XData_AR_Norm_T.shape[2], Dropout=Dropout, LearningRate=LearningRate)\n",
        "    model.fit(XData_AR_Norm_T, YData_AR_Norm_T, epochs=Epochs, verbose=0, batch_size=BatchSize); tf.keras.backend.clear_session()\n",
        "    Forecast, Date_Forecast, TrainPrediction, ReturnForecast = LSTM_ARCH_Forecast (Database, Lag, LagSD, For_CV_GARCH, For_CV_GJR_GARCH, For_CV_TARCH, For_CV_EGARCH, For_CV_AVGARCH, For_CV_FIGARCH,Scaled_Norm, XData_AR, model)\n",
        "    VaR = LSTM_ARCH_VaR(Alpha, Data['DailyReturnsOld'], Forecast,DF)\n",
        "    return {'LSTM_ARCH_model':model, 'Forecast_LSTM_ARCH':Forecast, 'Date_Forecast':Date_Forecast, 'TrainPrediction': TrainPrediction, 'Scaler':Scaled_Norm, 'Forecast_GARCH':For_CV_GARCH, 'Forecast_GJR_GARCH':For_CV_GJR_GARCH, 'Forecast_TARCH':For_CV_TARCH, 'Forecast_EGARCH':For_CV_EGARCH, 'Forecast_AVGARCH':For_CV_AVGARCH, 'Forecast_FIGARCH':For_CV_FIGARCH, 'ReturnForecast':ReturnForecast, 'GARCH_fit': GARCH_Parameters, 'GJR_GARCH_fit':GJR_GARCH_Parameters, 'TARCH_fit':TARCH_Parameters, 'EGARCH_fit':EGARCH_Parameters, 'AVGARCH_fit':AVGARCH_Parameters, 'FIGARCH_fit':FIGARCH_Parameters, 'GARCH': GARCH, 'GJR_GARCH':GJR_GARCH, 'TARCH':TARCH, 'EGARCH':EGARCH, 'AVGARCH':AVGARCH, 'FIGARCH':FIGARCH, 'YData_Train':YData_AR_Norm_T, 'VaR': VaR}\n",
        "#     return (model, Forecast, Date_Forecast, TrainPrediction, Scaled_Norm, For_CV_GARCH, For_CV_GJR_GARCH, For_CV_TARCH, For_CV_EGARCH, For_CV_AVGARCH, For_CV_FIGARCH, ReturnForecast, GARCH_Parameters, GJR_GARCH_Parameters, TARCH_Parameters, EGARCH_Parameters, AVGARCH_Parameters, FIGARCH_Parameters, GARCH, GJR_GARCH, TARCH, EGARCH, AVGARCH, FIGARCH, YData_AR_Norm_T)"
      ]
    },
    {
      "cell_type": "code",
      "execution_count": null,
      "metadata": {
        "colab": {
          "base_uri": "https://localhost:8080/",
          "height": 455
        },
        "id": "pdspp8U39bPc",
        "outputId": "c9d735cf-f567-493c-d9f7-4d10ddbee51b"
      },
      "outputs": [
        {
          "output_type": "execute_result",
          "data": {
            "text/plain": [
              "              Price     Open     High      Low\n",
              "Date                                          \n",
              "2008-05-27    54.49    49.61    60.02    48.25\n",
              "2008-05-28    62.97    55.41    65.39    55.41\n",
              "2008-05-29    62.13    64.51    69.07    59.73\n",
              "2008-05-30    63.27    63.11    65.63    57.80\n",
              "2008-06-02    67.49    63.86    68.67    61.11\n",
              "...             ...      ...      ...      ...\n",
              "2024-01-20  1581.00  1600.50  1610.95  1577.75\n",
              "2024-01-23  1582.50  1597.45  1615.25  1575.00\n",
              "2024-01-24  1620.85  1594.70  1622.85  1578.35\n",
              "2024-01-25  1630.15  1621.75  1635.00  1613.70\n",
              "2024-01-29  1637.00  1631.05  1640.80  1618.55\n",
              "\n",
              "[3882 rows x 4 columns]"
            ],
            "text/html": [
              "\n",
              "  <div id=\"df-f98ff19b-d767-4f69-b256-c97bfb1f553e\" class=\"colab-df-container\">\n",
              "    <div>\n",
              "<style scoped>\n",
              "    .dataframe tbody tr th:only-of-type {\n",
              "        vertical-align: middle;\n",
              "    }\n",
              "\n",
              "    .dataframe tbody tr th {\n",
              "        vertical-align: top;\n",
              "    }\n",
              "\n",
              "    .dataframe thead th {\n",
              "        text-align: right;\n",
              "    }\n",
              "</style>\n",
              "<table border=\"1\" class=\"dataframe\">\n",
              "  <thead>\n",
              "    <tr style=\"text-align: right;\">\n",
              "      <th></th>\n",
              "      <th>Price</th>\n",
              "      <th>Open</th>\n",
              "      <th>High</th>\n",
              "      <th>Low</th>\n",
              "    </tr>\n",
              "    <tr>\n",
              "      <th>Date</th>\n",
              "      <th></th>\n",
              "      <th></th>\n",
              "      <th></th>\n",
              "      <th></th>\n",
              "    </tr>\n",
              "  </thead>\n",
              "  <tbody>\n",
              "    <tr>\n",
              "      <th>2008-05-27</th>\n",
              "      <td>54.49</td>\n",
              "      <td>49.61</td>\n",
              "      <td>60.02</td>\n",
              "      <td>48.25</td>\n",
              "    </tr>\n",
              "    <tr>\n",
              "      <th>2008-05-28</th>\n",
              "      <td>62.97</td>\n",
              "      <td>55.41</td>\n",
              "      <td>65.39</td>\n",
              "      <td>55.41</td>\n",
              "    </tr>\n",
              "    <tr>\n",
              "      <th>2008-05-29</th>\n",
              "      <td>62.13</td>\n",
              "      <td>64.51</td>\n",
              "      <td>69.07</td>\n",
              "      <td>59.73</td>\n",
              "    </tr>\n",
              "    <tr>\n",
              "      <th>2008-05-30</th>\n",
              "      <td>63.27</td>\n",
              "      <td>63.11</td>\n",
              "      <td>65.63</td>\n",
              "      <td>57.80</td>\n",
              "    </tr>\n",
              "    <tr>\n",
              "      <th>2008-06-02</th>\n",
              "      <td>67.49</td>\n",
              "      <td>63.86</td>\n",
              "      <td>68.67</td>\n",
              "      <td>61.11</td>\n",
              "    </tr>\n",
              "    <tr>\n",
              "      <th>...</th>\n",
              "      <td>...</td>\n",
              "      <td>...</td>\n",
              "      <td>...</td>\n",
              "      <td>...</td>\n",
              "    </tr>\n",
              "    <tr>\n",
              "      <th>2024-01-20</th>\n",
              "      <td>1581.00</td>\n",
              "      <td>1600.50</td>\n",
              "      <td>1610.95</td>\n",
              "      <td>1577.75</td>\n",
              "    </tr>\n",
              "    <tr>\n",
              "      <th>2024-01-23</th>\n",
              "      <td>1582.50</td>\n",
              "      <td>1597.45</td>\n",
              "      <td>1615.25</td>\n",
              "      <td>1575.00</td>\n",
              "    </tr>\n",
              "    <tr>\n",
              "      <th>2024-01-24</th>\n",
              "      <td>1620.85</td>\n",
              "      <td>1594.70</td>\n",
              "      <td>1622.85</td>\n",
              "      <td>1578.35</td>\n",
              "    </tr>\n",
              "    <tr>\n",
              "      <th>2024-01-25</th>\n",
              "      <td>1630.15</td>\n",
              "      <td>1621.75</td>\n",
              "      <td>1635.00</td>\n",
              "      <td>1613.70</td>\n",
              "    </tr>\n",
              "    <tr>\n",
              "      <th>2024-01-29</th>\n",
              "      <td>1637.00</td>\n",
              "      <td>1631.05</td>\n",
              "      <td>1640.80</td>\n",
              "      <td>1618.55</td>\n",
              "    </tr>\n",
              "  </tbody>\n",
              "</table>\n",
              "<p>3882 rows × 4 columns</p>\n",
              "</div>\n",
              "    <div class=\"colab-df-buttons\">\n",
              "\n",
              "  <div class=\"colab-df-container\">\n",
              "    <button class=\"colab-df-convert\" onclick=\"convertToInteractive('df-f98ff19b-d767-4f69-b256-c97bfb1f553e')\"\n",
              "            title=\"Convert this dataframe to an interactive table.\"\n",
              "            style=\"display:none;\">\n",
              "\n",
              "  <svg xmlns=\"http://www.w3.org/2000/svg\" height=\"24px\" viewBox=\"0 -960 960 960\">\n",
              "    <path d=\"M120-120v-720h720v720H120Zm60-500h600v-160H180v160Zm220 220h160v-160H400v160Zm0 220h160v-160H400v160ZM180-400h160v-160H180v160Zm440 0h160v-160H620v160ZM180-180h160v-160H180v160Zm440 0h160v-160H620v160Z\"/>\n",
              "  </svg>\n",
              "    </button>\n",
              "\n",
              "  <style>\n",
              "    .colab-df-container {\n",
              "      display:flex;\n",
              "      gap: 12px;\n",
              "    }\n",
              "\n",
              "    .colab-df-convert {\n",
              "      background-color: #E8F0FE;\n",
              "      border: none;\n",
              "      border-radius: 50%;\n",
              "      cursor: pointer;\n",
              "      display: none;\n",
              "      fill: #1967D2;\n",
              "      height: 32px;\n",
              "      padding: 0 0 0 0;\n",
              "      width: 32px;\n",
              "    }\n",
              "\n",
              "    .colab-df-convert:hover {\n",
              "      background-color: #E2EBFA;\n",
              "      box-shadow: 0px 1px 2px rgba(60, 64, 67, 0.3), 0px 1px 3px 1px rgba(60, 64, 67, 0.15);\n",
              "      fill: #174EA6;\n",
              "    }\n",
              "\n",
              "    .colab-df-buttons div {\n",
              "      margin-bottom: 4px;\n",
              "    }\n",
              "\n",
              "    [theme=dark] .colab-df-convert {\n",
              "      background-color: #3B4455;\n",
              "      fill: #D2E3FC;\n",
              "    }\n",
              "\n",
              "    [theme=dark] .colab-df-convert:hover {\n",
              "      background-color: #434B5C;\n",
              "      box-shadow: 0px 1px 3px 1px rgba(0, 0, 0, 0.15);\n",
              "      filter: drop-shadow(0px 1px 2px rgba(0, 0, 0, 0.3));\n",
              "      fill: #FFFFFF;\n",
              "    }\n",
              "  </style>\n",
              "\n",
              "    <script>\n",
              "      const buttonEl =\n",
              "        document.querySelector('#df-f98ff19b-d767-4f69-b256-c97bfb1f553e button.colab-df-convert');\n",
              "      buttonEl.style.display =\n",
              "        google.colab.kernel.accessAllowed ? 'block' : 'none';\n",
              "\n",
              "      async function convertToInteractive(key) {\n",
              "        const element = document.querySelector('#df-f98ff19b-d767-4f69-b256-c97bfb1f553e');\n",
              "        const dataTable =\n",
              "          await google.colab.kernel.invokeFunction('convertToInteractive',\n",
              "                                                    [key], {});\n",
              "        if (!dataTable) return;\n",
              "\n",
              "        const docLinkHtml = 'Like what you see? Visit the ' +\n",
              "          '<a target=\"_blank\" href=https://colab.research.google.com/notebooks/data_table.ipynb>data table notebook</a>'\n",
              "          + ' to learn more about interactive tables.';\n",
              "        element.innerHTML = '';\n",
              "        dataTable['output_type'] = 'display_data';\n",
              "        await google.colab.output.renderOutput(dataTable, element);\n",
              "        const docLink = document.createElement('div');\n",
              "        docLink.innerHTML = docLinkHtml;\n",
              "        element.appendChild(docLink);\n",
              "      }\n",
              "    </script>\n",
              "  </div>\n",
              "\n",
              "\n",
              "<div id=\"df-91dd468f-218a-4504-80ea-9dba5a0b897d\">\n",
              "  <button class=\"colab-df-quickchart\" onclick=\"quickchart('df-91dd468f-218a-4504-80ea-9dba5a0b897d')\"\n",
              "            title=\"Suggest charts\"\n",
              "            style=\"display:none;\">\n",
              "\n",
              "<svg xmlns=\"http://www.w3.org/2000/svg\" height=\"24px\"viewBox=\"0 0 24 24\"\n",
              "     width=\"24px\">\n",
              "    <g>\n",
              "        <path d=\"M19 3H5c-1.1 0-2 .9-2 2v14c0 1.1.9 2 2 2h14c1.1 0 2-.9 2-2V5c0-1.1-.9-2-2-2zM9 17H7v-7h2v7zm4 0h-2V7h2v10zm4 0h-2v-4h2v4z\"/>\n",
              "    </g>\n",
              "</svg>\n",
              "  </button>\n",
              "\n",
              "<style>\n",
              "  .colab-df-quickchart {\n",
              "      --bg-color: #E8F0FE;\n",
              "      --fill-color: #1967D2;\n",
              "      --hover-bg-color: #E2EBFA;\n",
              "      --hover-fill-color: #174EA6;\n",
              "      --disabled-fill-color: #AAA;\n",
              "      --disabled-bg-color: #DDD;\n",
              "  }\n",
              "\n",
              "  [theme=dark] .colab-df-quickchart {\n",
              "      --bg-color: #3B4455;\n",
              "      --fill-color: #D2E3FC;\n",
              "      --hover-bg-color: #434B5C;\n",
              "      --hover-fill-color: #FFFFFF;\n",
              "      --disabled-bg-color: #3B4455;\n",
              "      --disabled-fill-color: #666;\n",
              "  }\n",
              "\n",
              "  .colab-df-quickchart {\n",
              "    background-color: var(--bg-color);\n",
              "    border: none;\n",
              "    border-radius: 50%;\n",
              "    cursor: pointer;\n",
              "    display: none;\n",
              "    fill: var(--fill-color);\n",
              "    height: 32px;\n",
              "    padding: 0;\n",
              "    width: 32px;\n",
              "  }\n",
              "\n",
              "  .colab-df-quickchart:hover {\n",
              "    background-color: var(--hover-bg-color);\n",
              "    box-shadow: 0 1px 2px rgba(60, 64, 67, 0.3), 0 1px 3px 1px rgba(60, 64, 67, 0.15);\n",
              "    fill: var(--button-hover-fill-color);\n",
              "  }\n",
              "\n",
              "  .colab-df-quickchart-complete:disabled,\n",
              "  .colab-df-quickchart-complete:disabled:hover {\n",
              "    background-color: var(--disabled-bg-color);\n",
              "    fill: var(--disabled-fill-color);\n",
              "    box-shadow: none;\n",
              "  }\n",
              "\n",
              "  .colab-df-spinner {\n",
              "    border: 2px solid var(--fill-color);\n",
              "    border-color: transparent;\n",
              "    border-bottom-color: var(--fill-color);\n",
              "    animation:\n",
              "      spin 1s steps(1) infinite;\n",
              "  }\n",
              "\n",
              "  @keyframes spin {\n",
              "    0% {\n",
              "      border-color: transparent;\n",
              "      border-bottom-color: var(--fill-color);\n",
              "      border-left-color: var(--fill-color);\n",
              "    }\n",
              "    20% {\n",
              "      border-color: transparent;\n",
              "      border-left-color: var(--fill-color);\n",
              "      border-top-color: var(--fill-color);\n",
              "    }\n",
              "    30% {\n",
              "      border-color: transparent;\n",
              "      border-left-color: var(--fill-color);\n",
              "      border-top-color: var(--fill-color);\n",
              "      border-right-color: var(--fill-color);\n",
              "    }\n",
              "    40% {\n",
              "      border-color: transparent;\n",
              "      border-right-color: var(--fill-color);\n",
              "      border-top-color: var(--fill-color);\n",
              "    }\n",
              "    60% {\n",
              "      border-color: transparent;\n",
              "      border-right-color: var(--fill-color);\n",
              "    }\n",
              "    80% {\n",
              "      border-color: transparent;\n",
              "      border-right-color: var(--fill-color);\n",
              "      border-bottom-color: var(--fill-color);\n",
              "    }\n",
              "    90% {\n",
              "      border-color: transparent;\n",
              "      border-bottom-color: var(--fill-color);\n",
              "    }\n",
              "  }\n",
              "</style>\n",
              "\n",
              "  <script>\n",
              "    async function quickchart(key) {\n",
              "      const quickchartButtonEl =\n",
              "        document.querySelector('#' + key + ' button');\n",
              "      quickchartButtonEl.disabled = true;  // To prevent multiple clicks.\n",
              "      quickchartButtonEl.classList.add('colab-df-spinner');\n",
              "      try {\n",
              "        const charts = await google.colab.kernel.invokeFunction(\n",
              "            'suggestCharts', [key], {});\n",
              "      } catch (error) {\n",
              "        console.error('Error during call to suggestCharts:', error);\n",
              "      }\n",
              "      quickchartButtonEl.classList.remove('colab-df-spinner');\n",
              "      quickchartButtonEl.classList.add('colab-df-quickchart-complete');\n",
              "    }\n",
              "    (() => {\n",
              "      let quickchartButtonEl =\n",
              "        document.querySelector('#df-91dd468f-218a-4504-80ea-9dba5a0b897d button');\n",
              "      quickchartButtonEl.style.display =\n",
              "        google.colab.kernel.accessAllowed ? 'block' : 'none';\n",
              "    })();\n",
              "  </script>\n",
              "</div>\n",
              "\n",
              "  <div id=\"id_ff6450e7-5d25-4b26-a256-fb35637bc1dd\">\n",
              "    <style>\n",
              "      .colab-df-generate {\n",
              "        background-color: #E8F0FE;\n",
              "        border: none;\n",
              "        border-radius: 50%;\n",
              "        cursor: pointer;\n",
              "        display: none;\n",
              "        fill: #1967D2;\n",
              "        height: 32px;\n",
              "        padding: 0 0 0 0;\n",
              "        width: 32px;\n",
              "      }\n",
              "\n",
              "      .colab-df-generate:hover {\n",
              "        background-color: #E2EBFA;\n",
              "        box-shadow: 0px 1px 2px rgba(60, 64, 67, 0.3), 0px 1px 3px 1px rgba(60, 64, 67, 0.15);\n",
              "        fill: #174EA6;\n",
              "      }\n",
              "\n",
              "      [theme=dark] .colab-df-generate {\n",
              "        background-color: #3B4455;\n",
              "        fill: #D2E3FC;\n",
              "      }\n",
              "\n",
              "      [theme=dark] .colab-df-generate:hover {\n",
              "        background-color: #434B5C;\n",
              "        box-shadow: 0px 1px 3px 1px rgba(0, 0, 0, 0.15);\n",
              "        filter: drop-shadow(0px 1px 2px rgba(0, 0, 0, 0.3));\n",
              "        fill: #FFFFFF;\n",
              "      }\n",
              "    </style>\n",
              "    <button class=\"colab-df-generate\" onclick=\"generateWithVariable('df')\"\n",
              "            title=\"Generate code using this dataframe.\"\n",
              "            style=\"display:none;\">\n",
              "\n",
              "  <svg xmlns=\"http://www.w3.org/2000/svg\" height=\"24px\"viewBox=\"0 0 24 24\"\n",
              "       width=\"24px\">\n",
              "    <path d=\"M7,19H8.4L18.45,9,17,7.55,7,17.6ZM5,21V16.75L18.45,3.32a2,2,0,0,1,2.83,0l1.4,1.43a1.91,1.91,0,0,1,.58,1.4,1.91,1.91,0,0,1-.58,1.4L9.25,21ZM18.45,9,17,7.55Zm-12,3A5.31,5.31,0,0,0,4.9,8.1,5.31,5.31,0,0,0,1,6.5,5.31,5.31,0,0,0,4.9,4.9,5.31,5.31,0,0,0,6.5,1,5.31,5.31,0,0,0,8.1,4.9,5.31,5.31,0,0,0,12,6.5,5.46,5.46,0,0,0,6.5,12Z\"/>\n",
              "  </svg>\n",
              "    </button>\n",
              "    <script>\n",
              "      (() => {\n",
              "      const buttonEl =\n",
              "        document.querySelector('#id_ff6450e7-5d25-4b26-a256-fb35637bc1dd button.colab-df-generate');\n",
              "      buttonEl.style.display =\n",
              "        google.colab.kernel.accessAllowed ? 'block' : 'none';\n",
              "\n",
              "      buttonEl.onclick = () => {\n",
              "        google.colab.notebook.generateWithVariable('df');\n",
              "      }\n",
              "      })();\n",
              "    </script>\n",
              "  </div>\n",
              "\n",
              "    </div>\n",
              "  </div>\n"
            ],
            "application/vnd.google.colaboratory.intrinsic+json": {
              "type": "dataframe",
              "variable_name": "df",
              "summary": "{\n  \"name\": \"df\",\n  \"rows\": 3882,\n  \"fields\": [\n    {\n      \"column\": \"Price\",\n      \"properties\": {\n        \"dtype\": \"number\",\n        \"std\": 546.1055112562867,\n        \"min\": 8.92,\n        \"max\": 1907.66,\n        \"num_unique_values\": 3687,\n        \"samples\": [\n          1615.1,\n          1553.35,\n          41.9\n        ],\n        \"semantic_type\": \"\",\n        \"description\": \"\"\n      }\n    },\n    {\n      \"column\": \"Open\",\n      \"properties\": {\n        \"dtype\": \"number\",\n        \"std\": 546.9546853483572,\n        \"min\": 8.66,\n        \"max\": 1906.3,\n        \"num_unique_values\": 3157,\n        \"samples\": [\n          1618.35,\n          1362.0,\n          1337.45\n        ],\n        \"semantic_type\": \"\",\n        \"description\": \"\"\n      }\n    },\n    {\n      \"column\": \"High\",\n      \"properties\": {\n        \"dtype\": \"number\",\n        \"std\": 553.1520660507557,\n        \"min\": 9.15,\n        \"max\": 1932.5,\n        \"num_unique_values\": 3315,\n        \"samples\": [\n          967.37,\n          415.0,\n          34.19\n        ],\n        \"semantic_type\": \"\",\n        \"description\": \"\"\n      }\n    },\n    {\n      \"column\": \"Low\",\n      \"properties\": {\n        \"dtype\": \"number\",\n        \"std\": 539.6213164321306,\n        \"min\": 8.66,\n        \"max\": 1860.05,\n        \"num_unique_values\": 3359,\n        \"samples\": [\n          69.5,\n          265.7,\n          142.01\n        ],\n        \"semantic_type\": \"\",\n        \"description\": \"\"\n      }\n    }\n  ]\n}"
            }
          },
          "metadata": {},
          "execution_count": 16
        }
      ],
      "source": [
        "df"
      ]
    },
    {
      "cell_type": "code",
      "source": [
        "train_df = df.loc[:'2022-12-30'].reset_index(drop=False)\n",
        "test_df = df.loc['2023-01-02':].reset_index(drop=False)"
      ],
      "metadata": {
        "id": "DqR_0JanbnwQ"
      },
      "execution_count": null,
      "outputs": []
    },
    {
      "cell_type": "code",
      "source": [
        "train_df = train_df.set_index('Date')\n",
        "test_df = test_df.set_index('Date')"
      ],
      "metadata": {
        "id": "7sFvXMlWbnto"
      },
      "execution_count": null,
      "outputs": []
    },
    {
      "cell_type": "code",
      "source": [
        "train_df"
      ],
      "metadata": {
        "colab": {
          "base_uri": "https://localhost:8080/",
          "height": 455
        },
        "id": "0CHDKs25bnpY",
        "outputId": "b4441bbe-14dd-4731-8f8f-63dd260affb1"
      },
      "execution_count": null,
      "outputs": [
        {
          "output_type": "execute_result",
          "data": {
            "text/plain": [
              "              Price     Open     High      Low\n",
              "Date                                          \n",
              "2008-05-27    54.49    49.61    60.02    48.25\n",
              "2008-05-28    62.97    55.41    65.39    55.41\n",
              "2008-05-29    62.13    64.51    69.07    59.73\n",
              "2008-05-30    63.27    63.11    65.63    57.80\n",
              "2008-06-02    67.49    63.86    68.67    61.11\n",
              "...             ...      ...      ...      ...\n",
              "2022-12-26  1535.00  1496.90  1544.95  1483.15\n",
              "2022-12-27  1537.70  1545.00  1551.40  1518.00\n",
              "2022-12-28  1522.70  1534.70  1534.70  1513.00\n",
              "2022-12-29  1511.70  1515.00  1522.00  1503.05\n",
              "2022-12-30  1547.85  1528.00  1573.00  1525.85\n",
              "\n",
              "[3616 rows x 4 columns]"
            ],
            "text/html": [
              "\n",
              "  <div id=\"df-a58cb8fa-26e1-40f0-b4a0-34f551933cf8\" class=\"colab-df-container\">\n",
              "    <div>\n",
              "<style scoped>\n",
              "    .dataframe tbody tr th:only-of-type {\n",
              "        vertical-align: middle;\n",
              "    }\n",
              "\n",
              "    .dataframe tbody tr th {\n",
              "        vertical-align: top;\n",
              "    }\n",
              "\n",
              "    .dataframe thead th {\n",
              "        text-align: right;\n",
              "    }\n",
              "</style>\n",
              "<table border=\"1\" class=\"dataframe\">\n",
              "  <thead>\n",
              "    <tr style=\"text-align: right;\">\n",
              "      <th></th>\n",
              "      <th>Price</th>\n",
              "      <th>Open</th>\n",
              "      <th>High</th>\n",
              "      <th>Low</th>\n",
              "    </tr>\n",
              "    <tr>\n",
              "      <th>Date</th>\n",
              "      <th></th>\n",
              "      <th></th>\n",
              "      <th></th>\n",
              "      <th></th>\n",
              "    </tr>\n",
              "  </thead>\n",
              "  <tbody>\n",
              "    <tr>\n",
              "      <th>2008-05-27</th>\n",
              "      <td>54.49</td>\n",
              "      <td>49.61</td>\n",
              "      <td>60.02</td>\n",
              "      <td>48.25</td>\n",
              "    </tr>\n",
              "    <tr>\n",
              "      <th>2008-05-28</th>\n",
              "      <td>62.97</td>\n",
              "      <td>55.41</td>\n",
              "      <td>65.39</td>\n",
              "      <td>55.41</td>\n",
              "    </tr>\n",
              "    <tr>\n",
              "      <th>2008-05-29</th>\n",
              "      <td>62.13</td>\n",
              "      <td>64.51</td>\n",
              "      <td>69.07</td>\n",
              "      <td>59.73</td>\n",
              "    </tr>\n",
              "    <tr>\n",
              "      <th>2008-05-30</th>\n",
              "      <td>63.27</td>\n",
              "      <td>63.11</td>\n",
              "      <td>65.63</td>\n",
              "      <td>57.80</td>\n",
              "    </tr>\n",
              "    <tr>\n",
              "      <th>2008-06-02</th>\n",
              "      <td>67.49</td>\n",
              "      <td>63.86</td>\n",
              "      <td>68.67</td>\n",
              "      <td>61.11</td>\n",
              "    </tr>\n",
              "    <tr>\n",
              "      <th>...</th>\n",
              "      <td>...</td>\n",
              "      <td>...</td>\n",
              "      <td>...</td>\n",
              "      <td>...</td>\n",
              "    </tr>\n",
              "    <tr>\n",
              "      <th>2022-12-26</th>\n",
              "      <td>1535.00</td>\n",
              "      <td>1496.90</td>\n",
              "      <td>1544.95</td>\n",
              "      <td>1483.15</td>\n",
              "    </tr>\n",
              "    <tr>\n",
              "      <th>2022-12-27</th>\n",
              "      <td>1537.70</td>\n",
              "      <td>1545.00</td>\n",
              "      <td>1551.40</td>\n",
              "      <td>1518.00</td>\n",
              "    </tr>\n",
              "    <tr>\n",
              "      <th>2022-12-28</th>\n",
              "      <td>1522.70</td>\n",
              "      <td>1534.70</td>\n",
              "      <td>1534.70</td>\n",
              "      <td>1513.00</td>\n",
              "    </tr>\n",
              "    <tr>\n",
              "      <th>2022-12-29</th>\n",
              "      <td>1511.70</td>\n",
              "      <td>1515.00</td>\n",
              "      <td>1522.00</td>\n",
              "      <td>1503.05</td>\n",
              "    </tr>\n",
              "    <tr>\n",
              "      <th>2022-12-30</th>\n",
              "      <td>1547.85</td>\n",
              "      <td>1528.00</td>\n",
              "      <td>1573.00</td>\n",
              "      <td>1525.85</td>\n",
              "    </tr>\n",
              "  </tbody>\n",
              "</table>\n",
              "<p>3616 rows × 4 columns</p>\n",
              "</div>\n",
              "    <div class=\"colab-df-buttons\">\n",
              "\n",
              "  <div class=\"colab-df-container\">\n",
              "    <button class=\"colab-df-convert\" onclick=\"convertToInteractive('df-a58cb8fa-26e1-40f0-b4a0-34f551933cf8')\"\n",
              "            title=\"Convert this dataframe to an interactive table.\"\n",
              "            style=\"display:none;\">\n",
              "\n",
              "  <svg xmlns=\"http://www.w3.org/2000/svg\" height=\"24px\" viewBox=\"0 -960 960 960\">\n",
              "    <path d=\"M120-120v-720h720v720H120Zm60-500h600v-160H180v160Zm220 220h160v-160H400v160Zm0 220h160v-160H400v160ZM180-400h160v-160H180v160Zm440 0h160v-160H620v160ZM180-180h160v-160H180v160Zm440 0h160v-160H620v160Z\"/>\n",
              "  </svg>\n",
              "    </button>\n",
              "\n",
              "  <style>\n",
              "    .colab-df-container {\n",
              "      display:flex;\n",
              "      gap: 12px;\n",
              "    }\n",
              "\n",
              "    .colab-df-convert {\n",
              "      background-color: #E8F0FE;\n",
              "      border: none;\n",
              "      border-radius: 50%;\n",
              "      cursor: pointer;\n",
              "      display: none;\n",
              "      fill: #1967D2;\n",
              "      height: 32px;\n",
              "      padding: 0 0 0 0;\n",
              "      width: 32px;\n",
              "    }\n",
              "\n",
              "    .colab-df-convert:hover {\n",
              "      background-color: #E2EBFA;\n",
              "      box-shadow: 0px 1px 2px rgba(60, 64, 67, 0.3), 0px 1px 3px 1px rgba(60, 64, 67, 0.15);\n",
              "      fill: #174EA6;\n",
              "    }\n",
              "\n",
              "    .colab-df-buttons div {\n",
              "      margin-bottom: 4px;\n",
              "    }\n",
              "\n",
              "    [theme=dark] .colab-df-convert {\n",
              "      background-color: #3B4455;\n",
              "      fill: #D2E3FC;\n",
              "    }\n",
              "\n",
              "    [theme=dark] .colab-df-convert:hover {\n",
              "      background-color: #434B5C;\n",
              "      box-shadow: 0px 1px 3px 1px rgba(0, 0, 0, 0.15);\n",
              "      filter: drop-shadow(0px 1px 2px rgba(0, 0, 0, 0.3));\n",
              "      fill: #FFFFFF;\n",
              "    }\n",
              "  </style>\n",
              "\n",
              "    <script>\n",
              "      const buttonEl =\n",
              "        document.querySelector('#df-a58cb8fa-26e1-40f0-b4a0-34f551933cf8 button.colab-df-convert');\n",
              "      buttonEl.style.display =\n",
              "        google.colab.kernel.accessAllowed ? 'block' : 'none';\n",
              "\n",
              "      async function convertToInteractive(key) {\n",
              "        const element = document.querySelector('#df-a58cb8fa-26e1-40f0-b4a0-34f551933cf8');\n",
              "        const dataTable =\n",
              "          await google.colab.kernel.invokeFunction('convertToInteractive',\n",
              "                                                    [key], {});\n",
              "        if (!dataTable) return;\n",
              "\n",
              "        const docLinkHtml = 'Like what you see? Visit the ' +\n",
              "          '<a target=\"_blank\" href=https://colab.research.google.com/notebooks/data_table.ipynb>data table notebook</a>'\n",
              "          + ' to learn more about interactive tables.';\n",
              "        element.innerHTML = '';\n",
              "        dataTable['output_type'] = 'display_data';\n",
              "        await google.colab.output.renderOutput(dataTable, element);\n",
              "        const docLink = document.createElement('div');\n",
              "        docLink.innerHTML = docLinkHtml;\n",
              "        element.appendChild(docLink);\n",
              "      }\n",
              "    </script>\n",
              "  </div>\n",
              "\n",
              "\n",
              "<div id=\"df-45111077-3baf-4a4f-9160-8626d0892b2c\">\n",
              "  <button class=\"colab-df-quickchart\" onclick=\"quickchart('df-45111077-3baf-4a4f-9160-8626d0892b2c')\"\n",
              "            title=\"Suggest charts\"\n",
              "            style=\"display:none;\">\n",
              "\n",
              "<svg xmlns=\"http://www.w3.org/2000/svg\" height=\"24px\"viewBox=\"0 0 24 24\"\n",
              "     width=\"24px\">\n",
              "    <g>\n",
              "        <path d=\"M19 3H5c-1.1 0-2 .9-2 2v14c0 1.1.9 2 2 2h14c1.1 0 2-.9 2-2V5c0-1.1-.9-2-2-2zM9 17H7v-7h2v7zm4 0h-2V7h2v10zm4 0h-2v-4h2v4z\"/>\n",
              "    </g>\n",
              "</svg>\n",
              "  </button>\n",
              "\n",
              "<style>\n",
              "  .colab-df-quickchart {\n",
              "      --bg-color: #E8F0FE;\n",
              "      --fill-color: #1967D2;\n",
              "      --hover-bg-color: #E2EBFA;\n",
              "      --hover-fill-color: #174EA6;\n",
              "      --disabled-fill-color: #AAA;\n",
              "      --disabled-bg-color: #DDD;\n",
              "  }\n",
              "\n",
              "  [theme=dark] .colab-df-quickchart {\n",
              "      --bg-color: #3B4455;\n",
              "      --fill-color: #D2E3FC;\n",
              "      --hover-bg-color: #434B5C;\n",
              "      --hover-fill-color: #FFFFFF;\n",
              "      --disabled-bg-color: #3B4455;\n",
              "      --disabled-fill-color: #666;\n",
              "  }\n",
              "\n",
              "  .colab-df-quickchart {\n",
              "    background-color: var(--bg-color);\n",
              "    border: none;\n",
              "    border-radius: 50%;\n",
              "    cursor: pointer;\n",
              "    display: none;\n",
              "    fill: var(--fill-color);\n",
              "    height: 32px;\n",
              "    padding: 0;\n",
              "    width: 32px;\n",
              "  }\n",
              "\n",
              "  .colab-df-quickchart:hover {\n",
              "    background-color: var(--hover-bg-color);\n",
              "    box-shadow: 0 1px 2px rgba(60, 64, 67, 0.3), 0 1px 3px 1px rgba(60, 64, 67, 0.15);\n",
              "    fill: var(--button-hover-fill-color);\n",
              "  }\n",
              "\n",
              "  .colab-df-quickchart-complete:disabled,\n",
              "  .colab-df-quickchart-complete:disabled:hover {\n",
              "    background-color: var(--disabled-bg-color);\n",
              "    fill: var(--disabled-fill-color);\n",
              "    box-shadow: none;\n",
              "  }\n",
              "\n",
              "  .colab-df-spinner {\n",
              "    border: 2px solid var(--fill-color);\n",
              "    border-color: transparent;\n",
              "    border-bottom-color: var(--fill-color);\n",
              "    animation:\n",
              "      spin 1s steps(1) infinite;\n",
              "  }\n",
              "\n",
              "  @keyframes spin {\n",
              "    0% {\n",
              "      border-color: transparent;\n",
              "      border-bottom-color: var(--fill-color);\n",
              "      border-left-color: var(--fill-color);\n",
              "    }\n",
              "    20% {\n",
              "      border-color: transparent;\n",
              "      border-left-color: var(--fill-color);\n",
              "      border-top-color: var(--fill-color);\n",
              "    }\n",
              "    30% {\n",
              "      border-color: transparent;\n",
              "      border-left-color: var(--fill-color);\n",
              "      border-top-color: var(--fill-color);\n",
              "      border-right-color: var(--fill-color);\n",
              "    }\n",
              "    40% {\n",
              "      border-color: transparent;\n",
              "      border-right-color: var(--fill-color);\n",
              "      border-top-color: var(--fill-color);\n",
              "    }\n",
              "    60% {\n",
              "      border-color: transparent;\n",
              "      border-right-color: var(--fill-color);\n",
              "    }\n",
              "    80% {\n",
              "      border-color: transparent;\n",
              "      border-right-color: var(--fill-color);\n",
              "      border-bottom-color: var(--fill-color);\n",
              "    }\n",
              "    90% {\n",
              "      border-color: transparent;\n",
              "      border-bottom-color: var(--fill-color);\n",
              "    }\n",
              "  }\n",
              "</style>\n",
              "\n",
              "  <script>\n",
              "    async function quickchart(key) {\n",
              "      const quickchartButtonEl =\n",
              "        document.querySelector('#' + key + ' button');\n",
              "      quickchartButtonEl.disabled = true;  // To prevent multiple clicks.\n",
              "      quickchartButtonEl.classList.add('colab-df-spinner');\n",
              "      try {\n",
              "        const charts = await google.colab.kernel.invokeFunction(\n",
              "            'suggestCharts', [key], {});\n",
              "      } catch (error) {\n",
              "        console.error('Error during call to suggestCharts:', error);\n",
              "      }\n",
              "      quickchartButtonEl.classList.remove('colab-df-spinner');\n",
              "      quickchartButtonEl.classList.add('colab-df-quickchart-complete');\n",
              "    }\n",
              "    (() => {\n",
              "      let quickchartButtonEl =\n",
              "        document.querySelector('#df-45111077-3baf-4a4f-9160-8626d0892b2c button');\n",
              "      quickchartButtonEl.style.display =\n",
              "        google.colab.kernel.accessAllowed ? 'block' : 'none';\n",
              "    })();\n",
              "  </script>\n",
              "</div>\n",
              "\n",
              "  <div id=\"id_7072143d-f261-4cf9-93e5-aa283b676930\">\n",
              "    <style>\n",
              "      .colab-df-generate {\n",
              "        background-color: #E8F0FE;\n",
              "        border: none;\n",
              "        border-radius: 50%;\n",
              "        cursor: pointer;\n",
              "        display: none;\n",
              "        fill: #1967D2;\n",
              "        height: 32px;\n",
              "        padding: 0 0 0 0;\n",
              "        width: 32px;\n",
              "      }\n",
              "\n",
              "      .colab-df-generate:hover {\n",
              "        background-color: #E2EBFA;\n",
              "        box-shadow: 0px 1px 2px rgba(60, 64, 67, 0.3), 0px 1px 3px 1px rgba(60, 64, 67, 0.15);\n",
              "        fill: #174EA6;\n",
              "      }\n",
              "\n",
              "      [theme=dark] .colab-df-generate {\n",
              "        background-color: #3B4455;\n",
              "        fill: #D2E3FC;\n",
              "      }\n",
              "\n",
              "      [theme=dark] .colab-df-generate:hover {\n",
              "        background-color: #434B5C;\n",
              "        box-shadow: 0px 1px 3px 1px rgba(0, 0, 0, 0.15);\n",
              "        filter: drop-shadow(0px 1px 2px rgba(0, 0, 0, 0.3));\n",
              "        fill: #FFFFFF;\n",
              "      }\n",
              "    </style>\n",
              "    <button class=\"colab-df-generate\" onclick=\"generateWithVariable('train_df')\"\n",
              "            title=\"Generate code using this dataframe.\"\n",
              "            style=\"display:none;\">\n",
              "\n",
              "  <svg xmlns=\"http://www.w3.org/2000/svg\" height=\"24px\"viewBox=\"0 0 24 24\"\n",
              "       width=\"24px\">\n",
              "    <path d=\"M7,19H8.4L18.45,9,17,7.55,7,17.6ZM5,21V16.75L18.45,3.32a2,2,0,0,1,2.83,0l1.4,1.43a1.91,1.91,0,0,1,.58,1.4,1.91,1.91,0,0,1-.58,1.4L9.25,21ZM18.45,9,17,7.55Zm-12,3A5.31,5.31,0,0,0,4.9,8.1,5.31,5.31,0,0,0,1,6.5,5.31,5.31,0,0,0,4.9,4.9,5.31,5.31,0,0,0,6.5,1,5.31,5.31,0,0,0,8.1,4.9,5.31,5.31,0,0,0,12,6.5,5.46,5.46,0,0,0,6.5,12Z\"/>\n",
              "  </svg>\n",
              "    </button>\n",
              "    <script>\n",
              "      (() => {\n",
              "      const buttonEl =\n",
              "        document.querySelector('#id_7072143d-f261-4cf9-93e5-aa283b676930 button.colab-df-generate');\n",
              "      buttonEl.style.display =\n",
              "        google.colab.kernel.accessAllowed ? 'block' : 'none';\n",
              "\n",
              "      buttonEl.onclick = () => {\n",
              "        google.colab.notebook.generateWithVariable('train_df');\n",
              "      }\n",
              "      })();\n",
              "    </script>\n",
              "  </div>\n",
              "\n",
              "    </div>\n",
              "  </div>\n"
            ],
            "application/vnd.google.colaboratory.intrinsic+json": {
              "type": "dataframe",
              "variable_name": "train_df",
              "summary": "{\n  \"name\": \"train_df\",\n  \"rows\": 3616,\n  \"fields\": [\n    {\n      \"column\": \"Price\",\n      \"properties\": {\n        \"dtype\": \"number\",\n        \"std\": 488.8061971565583,\n        \"min\": 8.92,\n        \"max\": 1907.66,\n        \"num_unique_values\": 3428,\n        \"samples\": [\n          45.11,\n          77.89,\n          45.46\n        ],\n        \"semantic_type\": \"\",\n        \"description\": \"\"\n      }\n    },\n    {\n      \"column\": \"Open\",\n      \"properties\": {\n        \"dtype\": \"number\",\n        \"std\": 489.4884788505901,\n        \"min\": 8.66,\n        \"max\": 1906.3,\n        \"num_unique_values\": 2936,\n        \"samples\": [\n          193.9,\n          196.59,\n          127.29\n        ],\n        \"semantic_type\": \"\",\n        \"description\": \"\"\n      }\n    },\n    {\n      \"column\": \"High\",\n      \"properties\": {\n        \"dtype\": \"number\",\n        \"std\": 495.8104694439983,\n        \"min\": 9.15,\n        \"max\": 1932.5,\n        \"num_unique_values\": 3085,\n        \"samples\": [\n          191.93,\n          950.46,\n          418.9\n        ],\n        \"semantic_type\": \"\",\n        \"description\": \"\"\n      }\n    },\n    {\n      \"column\": \"Low\",\n      \"properties\": {\n        \"dtype\": \"number\",\n        \"std\": 482.290824528034,\n        \"min\": 8.66,\n        \"max\": 1860.05,\n        \"num_unique_values\": 3121,\n        \"samples\": [\n          289.5,\n          1126.51,\n          649.5\n        ],\n        \"semantic_type\": \"\",\n        \"description\": \"\"\n      }\n    }\n  ]\n}"
            }
          },
          "metadata": {},
          "execution_count": 19
        }
      ]
    },
    {
      "cell_type": "code",
      "source": [
        "test_df"
      ],
      "metadata": {
        "colab": {
          "base_uri": "https://localhost:8080/",
          "height": 455
        },
        "id": "MGEQ4eXVbnmq",
        "outputId": "e0cf2c80-a0f4-445a-deb8-c120bc9b329c"
      },
      "execution_count": null,
      "outputs": [
        {
          "output_type": "execute_result",
          "data": {
            "text/plain": [
              "              Price     Open     High      Low\n",
              "Date                                          \n",
              "2023-01-02  1552.50  1550.00  1560.00  1528.55\n",
              "2023-01-03  1563.00  1549.00  1570.00  1544.05\n",
              "2023-01-04  1547.85  1562.00  1567.35  1540.40\n",
              "2023-01-05  1468.85  1548.00  1548.00  1454.70\n",
              "2023-01-06  1430.35  1473.55  1473.55  1423.00\n",
              "...             ...      ...      ...      ...\n",
              "2024-01-20  1581.00  1600.50  1610.95  1577.75\n",
              "2024-01-23  1582.50  1597.45  1615.25  1575.00\n",
              "2024-01-24  1620.85  1594.70  1622.85  1578.35\n",
              "2024-01-25  1630.15  1621.75  1635.00  1613.70\n",
              "2024-01-29  1637.00  1631.05  1640.80  1618.55\n",
              "\n",
              "[266 rows x 4 columns]"
            ],
            "text/html": [
              "\n",
              "  <div id=\"df-a5dcf632-de5e-496c-ac47-4f225d1efc37\" class=\"colab-df-container\">\n",
              "    <div>\n",
              "<style scoped>\n",
              "    .dataframe tbody tr th:only-of-type {\n",
              "        vertical-align: middle;\n",
              "    }\n",
              "\n",
              "    .dataframe tbody tr th {\n",
              "        vertical-align: top;\n",
              "    }\n",
              "\n",
              "    .dataframe thead th {\n",
              "        text-align: right;\n",
              "    }\n",
              "</style>\n",
              "<table border=\"1\" class=\"dataframe\">\n",
              "  <thead>\n",
              "    <tr style=\"text-align: right;\">\n",
              "      <th></th>\n",
              "      <th>Price</th>\n",
              "      <th>Open</th>\n",
              "      <th>High</th>\n",
              "      <th>Low</th>\n",
              "    </tr>\n",
              "    <tr>\n",
              "      <th>Date</th>\n",
              "      <th></th>\n",
              "      <th></th>\n",
              "      <th></th>\n",
              "      <th></th>\n",
              "    </tr>\n",
              "  </thead>\n",
              "  <tbody>\n",
              "    <tr>\n",
              "      <th>2023-01-02</th>\n",
              "      <td>1552.50</td>\n",
              "      <td>1550.00</td>\n",
              "      <td>1560.00</td>\n",
              "      <td>1528.55</td>\n",
              "    </tr>\n",
              "    <tr>\n",
              "      <th>2023-01-03</th>\n",
              "      <td>1563.00</td>\n",
              "      <td>1549.00</td>\n",
              "      <td>1570.00</td>\n",
              "      <td>1544.05</td>\n",
              "    </tr>\n",
              "    <tr>\n",
              "      <th>2023-01-04</th>\n",
              "      <td>1547.85</td>\n",
              "      <td>1562.00</td>\n",
              "      <td>1567.35</td>\n",
              "      <td>1540.40</td>\n",
              "    </tr>\n",
              "    <tr>\n",
              "      <th>2023-01-05</th>\n",
              "      <td>1468.85</td>\n",
              "      <td>1548.00</td>\n",
              "      <td>1548.00</td>\n",
              "      <td>1454.70</td>\n",
              "    </tr>\n",
              "    <tr>\n",
              "      <th>2023-01-06</th>\n",
              "      <td>1430.35</td>\n",
              "      <td>1473.55</td>\n",
              "      <td>1473.55</td>\n",
              "      <td>1423.00</td>\n",
              "    </tr>\n",
              "    <tr>\n",
              "      <th>...</th>\n",
              "      <td>...</td>\n",
              "      <td>...</td>\n",
              "      <td>...</td>\n",
              "      <td>...</td>\n",
              "    </tr>\n",
              "    <tr>\n",
              "      <th>2024-01-20</th>\n",
              "      <td>1581.00</td>\n",
              "      <td>1600.50</td>\n",
              "      <td>1610.95</td>\n",
              "      <td>1577.75</td>\n",
              "    </tr>\n",
              "    <tr>\n",
              "      <th>2024-01-23</th>\n",
              "      <td>1582.50</td>\n",
              "      <td>1597.45</td>\n",
              "      <td>1615.25</td>\n",
              "      <td>1575.00</td>\n",
              "    </tr>\n",
              "    <tr>\n",
              "      <th>2024-01-24</th>\n",
              "      <td>1620.85</td>\n",
              "      <td>1594.70</td>\n",
              "      <td>1622.85</td>\n",
              "      <td>1578.35</td>\n",
              "    </tr>\n",
              "    <tr>\n",
              "      <th>2024-01-25</th>\n",
              "      <td>1630.15</td>\n",
              "      <td>1621.75</td>\n",
              "      <td>1635.00</td>\n",
              "      <td>1613.70</td>\n",
              "    </tr>\n",
              "    <tr>\n",
              "      <th>2024-01-29</th>\n",
              "      <td>1637.00</td>\n",
              "      <td>1631.05</td>\n",
              "      <td>1640.80</td>\n",
              "      <td>1618.55</td>\n",
              "    </tr>\n",
              "  </tbody>\n",
              "</table>\n",
              "<p>266 rows × 4 columns</p>\n",
              "</div>\n",
              "    <div class=\"colab-df-buttons\">\n",
              "\n",
              "  <div class=\"colab-df-container\">\n",
              "    <button class=\"colab-df-convert\" onclick=\"convertToInteractive('df-a5dcf632-de5e-496c-ac47-4f225d1efc37')\"\n",
              "            title=\"Convert this dataframe to an interactive table.\"\n",
              "            style=\"display:none;\">\n",
              "\n",
              "  <svg xmlns=\"http://www.w3.org/2000/svg\" height=\"24px\" viewBox=\"0 -960 960 960\">\n",
              "    <path d=\"M120-120v-720h720v720H120Zm60-500h600v-160H180v160Zm220 220h160v-160H400v160Zm0 220h160v-160H400v160ZM180-400h160v-160H180v160Zm440 0h160v-160H620v160ZM180-180h160v-160H180v160Zm440 0h160v-160H620v160Z\"/>\n",
              "  </svg>\n",
              "    </button>\n",
              "\n",
              "  <style>\n",
              "    .colab-df-container {\n",
              "      display:flex;\n",
              "      gap: 12px;\n",
              "    }\n",
              "\n",
              "    .colab-df-convert {\n",
              "      background-color: #E8F0FE;\n",
              "      border: none;\n",
              "      border-radius: 50%;\n",
              "      cursor: pointer;\n",
              "      display: none;\n",
              "      fill: #1967D2;\n",
              "      height: 32px;\n",
              "      padding: 0 0 0 0;\n",
              "      width: 32px;\n",
              "    }\n",
              "\n",
              "    .colab-df-convert:hover {\n",
              "      background-color: #E2EBFA;\n",
              "      box-shadow: 0px 1px 2px rgba(60, 64, 67, 0.3), 0px 1px 3px 1px rgba(60, 64, 67, 0.15);\n",
              "      fill: #174EA6;\n",
              "    }\n",
              "\n",
              "    .colab-df-buttons div {\n",
              "      margin-bottom: 4px;\n",
              "    }\n",
              "\n",
              "    [theme=dark] .colab-df-convert {\n",
              "      background-color: #3B4455;\n",
              "      fill: #D2E3FC;\n",
              "    }\n",
              "\n",
              "    [theme=dark] .colab-df-convert:hover {\n",
              "      background-color: #434B5C;\n",
              "      box-shadow: 0px 1px 3px 1px rgba(0, 0, 0, 0.15);\n",
              "      filter: drop-shadow(0px 1px 2px rgba(0, 0, 0, 0.3));\n",
              "      fill: #FFFFFF;\n",
              "    }\n",
              "  </style>\n",
              "\n",
              "    <script>\n",
              "      const buttonEl =\n",
              "        document.querySelector('#df-a5dcf632-de5e-496c-ac47-4f225d1efc37 button.colab-df-convert');\n",
              "      buttonEl.style.display =\n",
              "        google.colab.kernel.accessAllowed ? 'block' : 'none';\n",
              "\n",
              "      async function convertToInteractive(key) {\n",
              "        const element = document.querySelector('#df-a5dcf632-de5e-496c-ac47-4f225d1efc37');\n",
              "        const dataTable =\n",
              "          await google.colab.kernel.invokeFunction('convertToInteractive',\n",
              "                                                    [key], {});\n",
              "        if (!dataTable) return;\n",
              "\n",
              "        const docLinkHtml = 'Like what you see? Visit the ' +\n",
              "          '<a target=\"_blank\" href=https://colab.research.google.com/notebooks/data_table.ipynb>data table notebook</a>'\n",
              "          + ' to learn more about interactive tables.';\n",
              "        element.innerHTML = '';\n",
              "        dataTable['output_type'] = 'display_data';\n",
              "        await google.colab.output.renderOutput(dataTable, element);\n",
              "        const docLink = document.createElement('div');\n",
              "        docLink.innerHTML = docLinkHtml;\n",
              "        element.appendChild(docLink);\n",
              "      }\n",
              "    </script>\n",
              "  </div>\n",
              "\n",
              "\n",
              "<div id=\"df-3cd3549d-21e0-45a5-8d24-40545b66862e\">\n",
              "  <button class=\"colab-df-quickchart\" onclick=\"quickchart('df-3cd3549d-21e0-45a5-8d24-40545b66862e')\"\n",
              "            title=\"Suggest charts\"\n",
              "            style=\"display:none;\">\n",
              "\n",
              "<svg xmlns=\"http://www.w3.org/2000/svg\" height=\"24px\"viewBox=\"0 0 24 24\"\n",
              "     width=\"24px\">\n",
              "    <g>\n",
              "        <path d=\"M19 3H5c-1.1 0-2 .9-2 2v14c0 1.1.9 2 2 2h14c1.1 0 2-.9 2-2V5c0-1.1-.9-2-2-2zM9 17H7v-7h2v7zm4 0h-2V7h2v10zm4 0h-2v-4h2v4z\"/>\n",
              "    </g>\n",
              "</svg>\n",
              "  </button>\n",
              "\n",
              "<style>\n",
              "  .colab-df-quickchart {\n",
              "      --bg-color: #E8F0FE;\n",
              "      --fill-color: #1967D2;\n",
              "      --hover-bg-color: #E2EBFA;\n",
              "      --hover-fill-color: #174EA6;\n",
              "      --disabled-fill-color: #AAA;\n",
              "      --disabled-bg-color: #DDD;\n",
              "  }\n",
              "\n",
              "  [theme=dark] .colab-df-quickchart {\n",
              "      --bg-color: #3B4455;\n",
              "      --fill-color: #D2E3FC;\n",
              "      --hover-bg-color: #434B5C;\n",
              "      --hover-fill-color: #FFFFFF;\n",
              "      --disabled-bg-color: #3B4455;\n",
              "      --disabled-fill-color: #666;\n",
              "  }\n",
              "\n",
              "  .colab-df-quickchart {\n",
              "    background-color: var(--bg-color);\n",
              "    border: none;\n",
              "    border-radius: 50%;\n",
              "    cursor: pointer;\n",
              "    display: none;\n",
              "    fill: var(--fill-color);\n",
              "    height: 32px;\n",
              "    padding: 0;\n",
              "    width: 32px;\n",
              "  }\n",
              "\n",
              "  .colab-df-quickchart:hover {\n",
              "    background-color: var(--hover-bg-color);\n",
              "    box-shadow: 0 1px 2px rgba(60, 64, 67, 0.3), 0 1px 3px 1px rgba(60, 64, 67, 0.15);\n",
              "    fill: var(--button-hover-fill-color);\n",
              "  }\n",
              "\n",
              "  .colab-df-quickchart-complete:disabled,\n",
              "  .colab-df-quickchart-complete:disabled:hover {\n",
              "    background-color: var(--disabled-bg-color);\n",
              "    fill: var(--disabled-fill-color);\n",
              "    box-shadow: none;\n",
              "  }\n",
              "\n",
              "  .colab-df-spinner {\n",
              "    border: 2px solid var(--fill-color);\n",
              "    border-color: transparent;\n",
              "    border-bottom-color: var(--fill-color);\n",
              "    animation:\n",
              "      spin 1s steps(1) infinite;\n",
              "  }\n",
              "\n",
              "  @keyframes spin {\n",
              "    0% {\n",
              "      border-color: transparent;\n",
              "      border-bottom-color: var(--fill-color);\n",
              "      border-left-color: var(--fill-color);\n",
              "    }\n",
              "    20% {\n",
              "      border-color: transparent;\n",
              "      border-left-color: var(--fill-color);\n",
              "      border-top-color: var(--fill-color);\n",
              "    }\n",
              "    30% {\n",
              "      border-color: transparent;\n",
              "      border-left-color: var(--fill-color);\n",
              "      border-top-color: var(--fill-color);\n",
              "      border-right-color: var(--fill-color);\n",
              "    }\n",
              "    40% {\n",
              "      border-color: transparent;\n",
              "      border-right-color: var(--fill-color);\n",
              "      border-top-color: var(--fill-color);\n",
              "    }\n",
              "    60% {\n",
              "      border-color: transparent;\n",
              "      border-right-color: var(--fill-color);\n",
              "    }\n",
              "    80% {\n",
              "      border-color: transparent;\n",
              "      border-right-color: var(--fill-color);\n",
              "      border-bottom-color: var(--fill-color);\n",
              "    }\n",
              "    90% {\n",
              "      border-color: transparent;\n",
              "      border-bottom-color: var(--fill-color);\n",
              "    }\n",
              "  }\n",
              "</style>\n",
              "\n",
              "  <script>\n",
              "    async function quickchart(key) {\n",
              "      const quickchartButtonEl =\n",
              "        document.querySelector('#' + key + ' button');\n",
              "      quickchartButtonEl.disabled = true;  // To prevent multiple clicks.\n",
              "      quickchartButtonEl.classList.add('colab-df-spinner');\n",
              "      try {\n",
              "        const charts = await google.colab.kernel.invokeFunction(\n",
              "            'suggestCharts', [key], {});\n",
              "      } catch (error) {\n",
              "        console.error('Error during call to suggestCharts:', error);\n",
              "      }\n",
              "      quickchartButtonEl.classList.remove('colab-df-spinner');\n",
              "      quickchartButtonEl.classList.add('colab-df-quickchart-complete');\n",
              "    }\n",
              "    (() => {\n",
              "      let quickchartButtonEl =\n",
              "        document.querySelector('#df-3cd3549d-21e0-45a5-8d24-40545b66862e button');\n",
              "      quickchartButtonEl.style.display =\n",
              "        google.colab.kernel.accessAllowed ? 'block' : 'none';\n",
              "    })();\n",
              "  </script>\n",
              "</div>\n",
              "\n",
              "  <div id=\"id_1c6709a1-8848-4505-88b8-a38f944ecfd6\">\n",
              "    <style>\n",
              "      .colab-df-generate {\n",
              "        background-color: #E8F0FE;\n",
              "        border: none;\n",
              "        border-radius: 50%;\n",
              "        cursor: pointer;\n",
              "        display: none;\n",
              "        fill: #1967D2;\n",
              "        height: 32px;\n",
              "        padding: 0 0 0 0;\n",
              "        width: 32px;\n",
              "      }\n",
              "\n",
              "      .colab-df-generate:hover {\n",
              "        background-color: #E2EBFA;\n",
              "        box-shadow: 0px 1px 2px rgba(60, 64, 67, 0.3), 0px 1px 3px 1px rgba(60, 64, 67, 0.15);\n",
              "        fill: #174EA6;\n",
              "      }\n",
              "\n",
              "      [theme=dark] .colab-df-generate {\n",
              "        background-color: #3B4455;\n",
              "        fill: #D2E3FC;\n",
              "      }\n",
              "\n",
              "      [theme=dark] .colab-df-generate:hover {\n",
              "        background-color: #434B5C;\n",
              "        box-shadow: 0px 1px 3px 1px rgba(0, 0, 0, 0.15);\n",
              "        filter: drop-shadow(0px 1px 2px rgba(0, 0, 0, 0.3));\n",
              "        fill: #FFFFFF;\n",
              "      }\n",
              "    </style>\n",
              "    <button class=\"colab-df-generate\" onclick=\"generateWithVariable('test_df')\"\n",
              "            title=\"Generate code using this dataframe.\"\n",
              "            style=\"display:none;\">\n",
              "\n",
              "  <svg xmlns=\"http://www.w3.org/2000/svg\" height=\"24px\"viewBox=\"0 0 24 24\"\n",
              "       width=\"24px\">\n",
              "    <path d=\"M7,19H8.4L18.45,9,17,7.55,7,17.6ZM5,21V16.75L18.45,3.32a2,2,0,0,1,2.83,0l1.4,1.43a1.91,1.91,0,0,1,.58,1.4,1.91,1.91,0,0,1-.58,1.4L9.25,21ZM18.45,9,17,7.55Zm-12,3A5.31,5.31,0,0,0,4.9,8.1,5.31,5.31,0,0,0,1,6.5,5.31,5.31,0,0,0,4.9,4.9,5.31,5.31,0,0,0,6.5,1,5.31,5.31,0,0,0,8.1,4.9,5.31,5.31,0,0,0,12,6.5,5.46,5.46,0,0,0,6.5,12Z\"/>\n",
              "  </svg>\n",
              "    </button>\n",
              "    <script>\n",
              "      (() => {\n",
              "      const buttonEl =\n",
              "        document.querySelector('#id_1c6709a1-8848-4505-88b8-a38f944ecfd6 button.colab-df-generate');\n",
              "      buttonEl.style.display =\n",
              "        google.colab.kernel.accessAllowed ? 'block' : 'none';\n",
              "\n",
              "      buttonEl.onclick = () => {\n",
              "        google.colab.notebook.generateWithVariable('test_df');\n",
              "      }\n",
              "      })();\n",
              "    </script>\n",
              "  </div>\n",
              "\n",
              "    </div>\n",
              "  </div>\n"
            ],
            "application/vnd.google.colaboratory.intrinsic+json": {
              "type": "dataframe",
              "variable_name": "test_df",
              "summary": "{\n  \"name\": \"test_df\",\n  \"rows\": 266,\n  \"fields\": [\n    {\n      \"column\": \"Price\",\n      \"properties\": {\n        \"dtype\": \"number\",\n        \"std\": 128.97859668427847,\n        \"min\": 1223.15,\n        \"max\": 1733.15,\n        \"num_unique_values\": 265,\n        \"samples\": [\n          1577.4,\n          1507.65,\n          1439.15\n        ],\n        \"semantic_type\": \"\",\n        \"description\": \"\"\n      }\n    },\n    {\n      \"column\": \"Open\",\n      \"properties\": {\n        \"dtype\": \"number\",\n        \"std\": 127.93776810793955,\n        \"min\": 1229.3,\n        \"max\": 1738.95,\n        \"num_unique_values\": 245,\n        \"samples\": [\n          1337.45,\n          1429.0,\n          1501.05\n        ],\n        \"semantic_type\": \"\",\n        \"description\": \"\"\n      }\n    },\n    {\n      \"column\": \"High\",\n      \"properties\": {\n        \"dtype\": \"number\",\n        \"std\": 128.54307499264337,\n        \"min\": 1247.85,\n        \"max\": 1741.0,\n        \"num_unique_values\": 246,\n        \"samples\": [\n          1409.4,\n          1429.0,\n          1649.4\n        ],\n        \"semantic_type\": \"\",\n        \"description\": \"\"\n      }\n    },\n    {\n      \"column\": \"Low\",\n      \"properties\": {\n        \"dtype\": \"number\",\n        \"std\": 128.4043469344999,\n        \"min\": 1215.0,\n        \"max\": 1718.75,\n        \"num_unique_values\": 254,\n        \"samples\": [\n          1605.5,\n          1391.0,\n          1355.4\n        ],\n        \"semantic_type\": \"\",\n        \"description\": \"\"\n      }\n    }\n  ]\n}"
            }
          },
          "metadata": {},
          "execution_count": 20
        }
      ]
    },
    {
      "cell_type": "code",
      "source": [
        "trIndexEndDays = train_df.index"
      ],
      "metadata": {
        "id": "m6N5GrOqbvWQ"
      },
      "execution_count": null,
      "outputs": []
    },
    {
      "cell_type": "code",
      "source": [
        "trIndexEndDays[650]"
      ],
      "metadata": {
        "colab": {
          "base_uri": "https://localhost:8080/"
        },
        "id": "tFp9VhAFbvR6",
        "outputId": "2757fc00-587a-4167-b45e-68b92b11371c"
      },
      "execution_count": null,
      "outputs": [
        {
          "output_type": "execute_result",
          "data": {
            "text/plain": [
              "Timestamp('2011-01-13 00:00:00')"
            ]
          },
          "metadata": {},
          "execution_count": 22
        }
      ]
    },
    {
      "cell_type": "code",
      "source": [
        "trIndexDates = trIndexEndDays[650:]"
      ],
      "metadata": {
        "id": "ucj2IukRbvPC"
      },
      "execution_count": null,
      "outputs": []
    },
    {
      "cell_type": "code",
      "source": [
        "trIndexDates.shape[0]"
      ],
      "metadata": {
        "colab": {
          "base_uri": "https://localhost:8080/"
        },
        "id": "JT2Lu3o_b090",
        "outputId": "0075b5c6-0741-4b7c-c1f3-206d410659cb"
      },
      "execution_count": null,
      "outputs": [
        {
          "output_type": "execute_result",
          "data": {
            "text/plain": [
              "2966"
            ]
          },
          "metadata": {},
          "execution_count": 24
        }
      ]
    },
    {
      "cell_type": "code",
      "source": [
        "trIndexDates[1954]"
      ],
      "metadata": {
        "colab": {
          "base_uri": "https://localhost:8080/"
        },
        "id": "o9ruOIs81GJD",
        "outputId": "61ff9c07-ca8c-4610-932e-5f342efe0893"
      },
      "execution_count": null,
      "outputs": [
        {
          "output_type": "execute_result",
          "data": {
            "text/plain": [
              "Timestamp('2018-12-04 00:00:00')"
            ]
          },
          "metadata": {},
          "execution_count": 28
        }
      ]
    },
    {
      "cell_type": "code",
      "source": [
        "Lag=1; LagSD=5; Timestep=10; Dropout=0.15; LearningRate=0.01; Epochs=50; Alpha=0.005; DF=4\n",
        "DataValidation = DatabaseGeneration(df, Lag, LagSD)\n",
        "ResultsCollection=pd.DataFrame({'Date_Forecast': [], 'Forecast_LSTM_ARCH': [],'Forecast_GARCH':[],'Forecast_GJR_GARCH':[], 'Forecast_TARCH':[],'Forecast_EGARCH':[],'Forecast_AVGARCH':[],'Forecast_FIGARCH':[],'ReturnForecast':[],'TrueSD':[], 'VaR_LSTM_ARCH':[], 'VaR_GARCH':[], 'VaR_GJR_GARCH':[], 'VaR_TARCH':[], 'VaR_EGARCH':[], 'VaR_AVGARCH':[], 'VaR_FIGARCH':[]})\n"
      ],
      "metadata": {
        "id": "_5Q8JA7RqhEt"
      },
      "execution_count": null,
      "outputs": []
    },
    {
      "cell_type": "code",
      "source": [
        "for i in tqdm(range(trIndexDates.shape[0])):\n",
        "    #Database is downloaded from yahoo finance and lag of returns defined\n",
        "    Database=df.loc[(pd.to_datetime(df.index).date >= trIndexDates[i].date()-timedelta(days=650)) & (pd.to_datetime(df.index).date <= trIndexDates[i].date())]\n",
        "    #Database for fitting the models is generated\n",
        "    Data = DatabaseGeneration (Database, Lag, LagSD)\n",
        "    #Fitting of LSTM-ARCH model, ARCH models and forecasting of the next volatility value\n",
        "    LSTM_ARCH_Model = LSTM_ARCH_Fit (Data, Lag, LagSD, Timestep, Dropout, LearningRate, Epochs, Alpha, DF)\n",
        "\n",
        "    #VaR of ARCH models is computed\n",
        "    VaR_ARCH_Models=VaR_AR_Total(Alpha, LSTM_ARCH_Model['GARCH_fit'], LSTM_ARCH_Model['GJR_GARCH_fit'], LSTM_ARCH_Model['TARCH_fit'], LSTM_ARCH_Model['EGARCH_fit'], LSTM_ARCH_Model['AVGARCH_fit'], LSTM_ARCH_Model['FIGARCH_fit'],LSTM_ARCH_Model['GARCH'], LSTM_ARCH_Model['GJR_GARCH'], LSTM_ARCH_Model['TARCH'], LSTM_ARCH_Model['EGARCH'], LSTM_ARCH_Model['AVGARCH'], LSTM_ARCH_Model['FIGARCH'])\n",
        "    #Results are collected\n",
        "    gc.collect()\n",
        "    IterResults={'Date_Forecast': LSTM_ARCH_Model['Date_Forecast'].date(), 'Forecast_LSTM_ARCH': LSTM_ARCH_Model['Forecast_LSTM_ARCH'],'Forecast_GARCH':LSTM_ARCH_Model['Forecast_GARCH']/100,'Forecast_GJR_GARCH':LSTM_ARCH_Model['Forecast_GJR_GARCH']/100, 'Forecast_TARCH':LSTM_ARCH_Model['Forecast_TARCH']/100,'Forecast_EGARCH':LSTM_ARCH_Model['Forecast_EGARCH']/100,'Forecast_AVGARCH':LSTM_ARCH_Model['Forecast_AVGARCH']/100,'Forecast_FIGARCH':LSTM_ARCH_Model['Forecast_FIGARCH']/100,'ReturnForecast':LSTM_ARCH_Model['ReturnForecast'],'TrueSD':DataValidation[DataValidation.index==pd.to_datetime(LSTM_ARCH_Model['Date_Forecast'].date())]['TrueSD'][0], 'VaR_LSTM_ARCH': LSTM_ARCH_Model['VaR'], 'VaR_GARCH':VaR_ARCH_Models['VaR_GARCH'][0][0], 'VaR_GJR_GARCH':VaR_ARCH_Models['VaR_GJR_GARCH'][0][0], 'VaR_TARCH':VaR_ARCH_Models['VaR_TARCH'][0][0], 'VaR_EGARCH':VaR_ARCH_Models['VaR_EGARCH'][0][0], 'VaR_AVGARCH':VaR_ARCH_Models['VaR_AVGARCH'][0][0], 'VaR_FIGARCH':VaR_ARCH_Models['VaR_FIGARCH'][0][0]}\n",
        "    ResultsCollection=ResultsCollection.append(IterResults, ignore_index=True)\n",
        "    #Results are saved\n",
        "    ResultsCollection.to_csv('2_LSTM_GARCH.csv',index=False)"
      ],
      "metadata": {
        "colab": {
          "base_uri": "https://localhost:8080/"
        },
        "id": "d5yudrNFQa2b",
        "outputId": "cf6e738f-5a9c-433c-fddd-b98a0ed06bb6"
      },
      "execution_count": null,
      "outputs": [
        {
          "metadata": {
            "tags": null
          },
          "name": "stderr",
          "output_type": "stream",
          "text": [
            "\r  0%|          | 0/1012 [00:00<?, ?it/s]"
          ]
        },
        {
          "metadata": {
            "tags": null
          },
          "name": "stdout",
          "output_type": "stream",
          "text": [
            "14/14 [==============================] - 1s 3ms/step\n"
          ]
        },
        {
          "metadata": {
            "tags": null
          },
          "name": "stderr",
          "output_type": "stream",
          "text": [
            "<ipython-input-30-84f19216e9c9>:14: FutureWarning: The frame.append method is deprecated and will be removed from pandas in a future version. Use pandas.concat instead.\n",
            "  ResultsCollection=ResultsCollection.append(IterResults, ignore_index=True)\n",
            "\r  0%|          | 1/1012 [00:06<1:55:35,  6.86s/it]"
          ]
        },
        {
          "metadata": {
            "tags": null
          },
          "name": "stdout",
          "output_type": "stream",
          "text": [
            "14/14 [==============================] - 0s 3ms/step\n"
          ]
        },
        {
          "metadata": {
            "tags": null
          },
          "name": "stderr",
          "output_type": "stream",
          "text": [
            "<ipython-input-30-84f19216e9c9>:14: FutureWarning: The frame.append method is deprecated and will be removed from pandas in a future version. Use pandas.concat instead.\n",
            "  ResultsCollection=ResultsCollection.append(IterResults, ignore_index=True)\n",
            "\r  0%|          | 2/1012 [00:12<1:47:29,  6.39s/it]"
          ]
        },
        {
          "metadata": {
            "tags": null
          },
          "name": "stdout",
          "output_type": "stream",
          "text": [
            "14/14 [==============================] - 0s 3ms/step\n"
          ]
        },
        {
          "metadata": {
            "tags": null
          },
          "name": "stderr",
          "output_type": "stream",
          "text": [
            "<ipython-input-30-84f19216e9c9>:14: FutureWarning: The frame.append method is deprecated and will be removed from pandas in a future version. Use pandas.concat instead.\n",
            "  ResultsCollection=ResultsCollection.append(IterResults, ignore_index=True)\n",
            "\r  0%|          | 3/1012 [00:19<1:45:59,  6.30s/it]"
          ]
        },
        {
          "metadata": {
            "tags": null
          },
          "name": "stdout",
          "output_type": "stream",
          "text": [
            "14/14 [==============================] - 0s 3ms/step\n"
          ]
        },
        {
          "metadata": {
            "tags": null
          },
          "name": "stderr",
          "output_type": "stream",
          "text": [
            "<ipython-input-30-84f19216e9c9>:14: FutureWarning: The frame.append method is deprecated and will be removed from pandas in a future version. Use pandas.concat instead.\n",
            "  ResultsCollection=ResultsCollection.append(IterResults, ignore_index=True)\n",
            "\r  0%|          | 4/1012 [00:25<1:44:33,  6.22s/it]"
          ]
        },
        {
          "metadata": {
            "tags": null
          },
          "name": "stdout",
          "output_type": "stream",
          "text": [
            "14/14 [==============================] - 0s 3ms/step\n"
          ]
        },
        {
          "metadata": {
            "tags": null
          },
          "name": "stderr",
          "output_type": "stream",
          "text": [
            "<ipython-input-30-84f19216e9c9>:14: FutureWarning: The frame.append method is deprecated and will be removed from pandas in a future version. Use pandas.concat instead.\n",
            "  ResultsCollection=ResultsCollection.append(IterResults, ignore_index=True)\n",
            "\r  0%|          | 5/1012 [00:31<1:45:14,  6.27s/it]"
          ]
        },
        {
          "metadata": {
            "tags": null
          },
          "name": "stdout",
          "output_type": "stream",
          "text": [
            "14/14 [==============================] - 0s 3ms/step\n"
          ]
        },
        {
          "metadata": {
            "tags": null
          },
          "name": "stderr",
          "output_type": "stream",
          "text": [
            "<ipython-input-30-84f19216e9c9>:14: FutureWarning: The frame.append method is deprecated and will be removed from pandas in a future version. Use pandas.concat instead.\n",
            "  ResultsCollection=ResultsCollection.append(IterResults, ignore_index=True)\n",
            "\r  1%|          | 6/1012 [00:38<1:46:07,  6.33s/it]"
          ]
        },
        {
          "metadata": {
            "tags": null
          },
          "name": "stdout",
          "output_type": "stream",
          "text": [
            "14/14 [==============================] - 0s 3ms/step\n"
          ]
        },
        {
          "metadata": {
            "tags": null
          },
          "name": "stderr",
          "output_type": "stream",
          "text": [
            "<ipython-input-30-84f19216e9c9>:14: FutureWarning: The frame.append method is deprecated and will be removed from pandas in a future version. Use pandas.concat instead.\n",
            "  ResultsCollection=ResultsCollection.append(IterResults, ignore_index=True)\n",
            "\r  1%|          | 7/1012 [00:44<1:46:42,  6.37s/it]"
          ]
        },
        {
          "metadata": {
            "tags": null
          },
          "name": "stdout",
          "output_type": "stream",
          "text": [
            "14/14 [==============================] - 0s 5ms/step\n"
          ]
        },
        {
          "metadata": {
            "tags": null
          },
          "name": "stderr",
          "output_type": "stream",
          "text": [
            "<ipython-input-30-84f19216e9c9>:14: FutureWarning: The frame.append method is deprecated and will be removed from pandas in a future version. Use pandas.concat instead.\n",
            "  ResultsCollection=ResultsCollection.append(IterResults, ignore_index=True)\n",
            "\r  1%|          | 8/1012 [00:50<1:47:10,  6.40s/it]"
          ]
        },
        {
          "metadata": {
            "tags": null
          },
          "name": "stdout",
          "output_type": "stream",
          "text": [
            "14/14 [==============================] - 0s 3ms/step\n"
          ]
        },
        {
          "metadata": {
            "tags": null
          },
          "name": "stderr",
          "output_type": "stream",
          "text": [
            "<ipython-input-30-84f19216e9c9>:14: FutureWarning: The frame.append method is deprecated and will be removed from pandas in a future version. Use pandas.concat instead.\n",
            "  ResultsCollection=ResultsCollection.append(IterResults, ignore_index=True)\n",
            "\r  1%|          | 9/1012 [00:57<1:46:07,  6.35s/it]"
          ]
        },
        {
          "metadata": {
            "tags": null
          },
          "name": "stdout",
          "output_type": "stream",
          "text": [
            "14/14 [==============================] - 0s 3ms/step\n"
          ]
        },
        {
          "metadata": {
            "tags": null
          },
          "name": "stderr",
          "output_type": "stream",
          "text": [
            "<ipython-input-30-84f19216e9c9>:14: FutureWarning: The frame.append method is deprecated and will be removed from pandas in a future version. Use pandas.concat instead.\n",
            "  ResultsCollection=ResultsCollection.append(IterResults, ignore_index=True)\n",
            "\r  1%|          | 10/1012 [01:03<1:46:22,  6.37s/it]"
          ]
        },
        {
          "metadata": {
            "tags": null
          },
          "name": "stdout",
          "output_type": "stream",
          "text": [
            "14/14 [==============================] - 0s 3ms/step\n"
          ]
        },
        {
          "metadata": {
            "tags": null
          },
          "name": "stderr",
          "output_type": "stream",
          "text": [
            "<ipython-input-30-84f19216e9c9>:14: FutureWarning: The frame.append method is deprecated and will be removed from pandas in a future version. Use pandas.concat instead.\n",
            "  ResultsCollection=ResultsCollection.append(IterResults, ignore_index=True)\n",
            "\r  1%|          | 11/1012 [01:10<1:47:04,  6.42s/it]"
          ]
        },
        {
          "metadata": {
            "tags": null
          },
          "name": "stdout",
          "output_type": "stream",
          "text": [
            "14/14 [==============================] - 0s 3ms/step\n"
          ]
        },
        {
          "metadata": {
            "tags": null
          },
          "name": "stderr",
          "output_type": "stream",
          "text": [
            "<ipython-input-30-84f19216e9c9>:14: FutureWarning: The frame.append method is deprecated and will be removed from pandas in a future version. Use pandas.concat instead.\n",
            "  ResultsCollection=ResultsCollection.append(IterResults, ignore_index=True)\n",
            "\r  1%|          | 12/1012 [01:16<1:46:23,  6.38s/it]"
          ]
        },
        {
          "metadata": {
            "tags": null
          },
          "name": "stdout",
          "output_type": "stream",
          "text": [
            "14/14 [==============================] - 0s 3ms/step\n"
          ]
        },
        {
          "metadata": {
            "tags": null
          },
          "name": "stderr",
          "output_type": "stream",
          "text": [
            "<ipython-input-30-84f19216e9c9>:14: FutureWarning: The frame.append method is deprecated and will be removed from pandas in a future version. Use pandas.concat instead.\n",
            "  ResultsCollection=ResultsCollection.append(IterResults, ignore_index=True)\n",
            "\r  1%|▏         | 13/1012 [01:22<1:46:00,  6.37s/it]"
          ]
        },
        {
          "metadata": {
            "tags": null
          },
          "name": "stdout",
          "output_type": "stream",
          "text": [
            "14/14 [==============================] - 0s 3ms/step\n"
          ]
        },
        {
          "metadata": {
            "tags": null
          },
          "name": "stderr",
          "output_type": "stream",
          "text": [
            "<ipython-input-30-84f19216e9c9>:14: FutureWarning: The frame.append method is deprecated and will be removed from pandas in a future version. Use pandas.concat instead.\n",
            "  ResultsCollection=ResultsCollection.append(IterResults, ignore_index=True)\n",
            "\r  1%|▏         | 14/1012 [01:29<1:46:06,  6.38s/it]"
          ]
        },
        {
          "metadata": {
            "tags": null
          },
          "name": "stdout",
          "output_type": "stream",
          "text": [
            "14/14 [==============================] - 0s 3ms/step\n"
          ]
        },
        {
          "metadata": {
            "tags": null
          },
          "name": "stderr",
          "output_type": "stream",
          "text": [
            "<ipython-input-30-84f19216e9c9>:14: FutureWarning: The frame.append method is deprecated and will be removed from pandas in a future version. Use pandas.concat instead.\n",
            "  ResultsCollection=ResultsCollection.append(IterResults, ignore_index=True)\n",
            "\r  1%|▏         | 15/1012 [01:35<1:45:20,  6.34s/it]"
          ]
        },
        {
          "metadata": {
            "tags": null
          },
          "name": "stdout",
          "output_type": "stream",
          "text": [
            "14/14 [==============================] - 0s 3ms/step\n"
          ]
        },
        {
          "metadata": {
            "tags": null
          },
          "name": "stderr",
          "output_type": "stream",
          "text": [
            "<ipython-input-30-84f19216e9c9>:14: FutureWarning: The frame.append method is deprecated and will be removed from pandas in a future version. Use pandas.concat instead.\n",
            "  ResultsCollection=ResultsCollection.append(IterResults, ignore_index=True)\n",
            "\r  2%|▏         | 16/1012 [01:41<1:46:08,  6.39s/it]"
          ]
        },
        {
          "metadata": {
            "tags": null
          },
          "name": "stdout",
          "output_type": "stream",
          "text": [
            "14/14 [==============================] - 0s 3ms/step\n"
          ]
        },
        {
          "metadata": {
            "tags": null
          },
          "name": "stderr",
          "output_type": "stream",
          "text": [
            "<ipython-input-30-84f19216e9c9>:14: FutureWarning: The frame.append method is deprecated and will be removed from pandas in a future version. Use pandas.concat instead.\n",
            "  ResultsCollection=ResultsCollection.append(IterResults, ignore_index=True)\n",
            "\r  2%|▏         | 17/1012 [01:48<1:45:15,  6.35s/it]"
          ]
        },
        {
          "metadata": {
            "tags": null
          },
          "name": "stdout",
          "output_type": "stream",
          "text": [
            "14/14 [==============================] - 0s 3ms/step\n"
          ]
        },
        {
          "metadata": {
            "tags": null
          },
          "name": "stderr",
          "output_type": "stream",
          "text": [
            "<ipython-input-30-84f19216e9c9>:14: FutureWarning: The frame.append method is deprecated and will be removed from pandas in a future version. Use pandas.concat instead.\n",
            "  ResultsCollection=ResultsCollection.append(IterResults, ignore_index=True)\n",
            "\r  2%|▏         | 18/1012 [01:54<1:44:43,  6.32s/it]"
          ]
        },
        {
          "metadata": {
            "tags": null
          },
          "name": "stdout",
          "output_type": "stream",
          "text": [
            "14/14 [==============================] - 0s 3ms/step\n"
          ]
        },
        {
          "metadata": {
            "tags": null
          },
          "name": "stderr",
          "output_type": "stream",
          "text": [
            "<ipython-input-30-84f19216e9c9>:14: FutureWarning: The frame.append method is deprecated and will be removed from pandas in a future version. Use pandas.concat instead.\n",
            "  ResultsCollection=ResultsCollection.append(IterResults, ignore_index=True)\n",
            "\r  2%|▏         | 19/1012 [02:00<1:45:39,  6.38s/it]"
          ]
        },
        {
          "metadata": {
            "tags": null
          },
          "name": "stdout",
          "output_type": "stream",
          "text": [
            "14/14 [==============================] - 0s 3ms/step\n"
          ]
        },
        {
          "metadata": {
            "tags": null
          },
          "name": "stderr",
          "output_type": "stream",
          "text": [
            "<ipython-input-30-84f19216e9c9>:14: FutureWarning: The frame.append method is deprecated and will be removed from pandas in a future version. Use pandas.concat instead.\n",
            "  ResultsCollection=ResultsCollection.append(IterResults, ignore_index=True)\n",
            "\r  2%|▏         | 20/1012 [02:07<1:45:43,  6.39s/it]"
          ]
        },
        {
          "metadata": {
            "tags": null
          },
          "name": "stdout",
          "output_type": "stream",
          "text": [
            "14/14 [==============================] - 0s 3ms/step\n"
          ]
        },
        {
          "metadata": {
            "tags": null
          },
          "name": "stderr",
          "output_type": "stream",
          "text": [
            "<ipython-input-30-84f19216e9c9>:14: FutureWarning: The frame.append method is deprecated and will be removed from pandas in a future version. Use pandas.concat instead.\n",
            "  ResultsCollection=ResultsCollection.append(IterResults, ignore_index=True)\n",
            "\r  2%|▏         | 21/1012 [02:13<1:46:18,  6.44s/it]"
          ]
        },
        {
          "metadata": {
            "tags": null
          },
          "name": "stdout",
          "output_type": "stream",
          "text": [
            "14/14 [==============================] - 0s 3ms/step\n"
          ]
        },
        {
          "metadata": {
            "tags": null
          },
          "name": "stderr",
          "output_type": "stream",
          "text": [
            "<ipython-input-30-84f19216e9c9>:14: FutureWarning: The frame.append method is deprecated and will be removed from pandas in a future version. Use pandas.concat instead.\n",
            "  ResultsCollection=ResultsCollection.append(IterResults, ignore_index=True)\n",
            "\r  2%|▏         | 22/1012 [02:20<1:46:52,  6.48s/it]"
          ]
        },
        {
          "metadata": {
            "tags": null
          },
          "name": "stdout",
          "output_type": "stream",
          "text": [
            "14/14 [==============================] - 0s 3ms/step\n"
          ]
        },
        {
          "metadata": {
            "tags": null
          },
          "name": "stderr",
          "output_type": "stream",
          "text": [
            "<ipython-input-30-84f19216e9c9>:14: FutureWarning: The frame.append method is deprecated and will be removed from pandas in a future version. Use pandas.concat instead.\n",
            "  ResultsCollection=ResultsCollection.append(IterResults, ignore_index=True)\n",
            "\r  2%|▏         | 23/1012 [02:27<1:47:06,  6.50s/it]"
          ]
        },
        {
          "metadata": {
            "tags": null
          },
          "name": "stdout",
          "output_type": "stream",
          "text": [
            "14/14 [==============================] - 0s 3ms/step\n"
          ]
        },
        {
          "metadata": {
            "tags": null
          },
          "name": "stderr",
          "output_type": "stream",
          "text": [
            "<ipython-input-30-84f19216e9c9>:14: FutureWarning: The frame.append method is deprecated and will be removed from pandas in a future version. Use pandas.concat instead.\n",
            "  ResultsCollection=ResultsCollection.append(IterResults, ignore_index=True)\n",
            "\r  2%|▏         | 24/1012 [02:33<1:47:23,  6.52s/it]"
          ]
        },
        {
          "metadata": {
            "tags": null
          },
          "name": "stdout",
          "output_type": "stream",
          "text": [
            "14/14 [==============================] - 0s 3ms/step\n"
          ]
        },
        {
          "metadata": {
            "tags": null
          },
          "name": "stderr",
          "output_type": "stream",
          "text": [
            "<ipython-input-30-84f19216e9c9>:14: FutureWarning: The frame.append method is deprecated and will be removed from pandas in a future version. Use pandas.concat instead.\n",
            "  ResultsCollection=ResultsCollection.append(IterResults, ignore_index=True)\n",
            "\r  2%|▏         | 25/1012 [02:39<1:46:26,  6.47s/it]"
          ]
        },
        {
          "metadata": {
            "tags": null
          },
          "name": "stdout",
          "output_type": "stream",
          "text": [
            "14/14 [==============================] - 0s 3ms/step\n"
          ]
        },
        {
          "metadata": {
            "tags": null
          },
          "name": "stderr",
          "output_type": "stream",
          "text": [
            "<ipython-input-30-84f19216e9c9>:14: FutureWarning: The frame.append method is deprecated and will be removed from pandas in a future version. Use pandas.concat instead.\n",
            "  ResultsCollection=ResultsCollection.append(IterResults, ignore_index=True)\n",
            "\r  3%|▎         | 26/1012 [02:46<1:46:12,  6.46s/it]"
          ]
        },
        {
          "metadata": {
            "tags": null
          },
          "name": "stdout",
          "output_type": "stream",
          "text": [
            "14/14 [==============================] - 0s 3ms/step\n"
          ]
        },
        {
          "metadata": {
            "tags": null
          },
          "name": "stderr",
          "output_type": "stream",
          "text": [
            "<ipython-input-30-84f19216e9c9>:14: FutureWarning: The frame.append method is deprecated and will be removed from pandas in a future version. Use pandas.concat instead.\n",
            "  ResultsCollection=ResultsCollection.append(IterResults, ignore_index=True)\n",
            "\r  3%|▎         | 27/1012 [02:53<1:47:00,  6.52s/it]"
          ]
        },
        {
          "metadata": {
            "tags": null
          },
          "name": "stdout",
          "output_type": "stream",
          "text": [
            "14/14 [==============================] - 0s 3ms/step\n"
          ]
        },
        {
          "metadata": {
            "tags": null
          },
          "name": "stderr",
          "output_type": "stream",
          "text": [
            "<ipython-input-30-84f19216e9c9>:14: FutureWarning: The frame.append method is deprecated and will be removed from pandas in a future version. Use pandas.concat instead.\n",
            "  ResultsCollection=ResultsCollection.append(IterResults, ignore_index=True)\n",
            "\r  3%|▎         | 28/1012 [02:59<1:46:34,  6.50s/it]"
          ]
        },
        {
          "metadata": {
            "tags": null
          },
          "name": "stdout",
          "output_type": "stream",
          "text": [
            "14/14 [==============================] - 0s 3ms/step\n"
          ]
        },
        {
          "metadata": {
            "tags": null
          },
          "name": "stderr",
          "output_type": "stream",
          "text": [
            "<ipython-input-30-84f19216e9c9>:14: FutureWarning: The frame.append method is deprecated and will be removed from pandas in a future version. Use pandas.concat instead.\n",
            "  ResultsCollection=ResultsCollection.append(IterResults, ignore_index=True)\n",
            "\r  3%|▎         | 29/1012 [03:06<1:46:49,  6.52s/it]"
          ]
        },
        {
          "metadata": {
            "tags": null
          },
          "name": "stdout",
          "output_type": "stream",
          "text": [
            "14/14 [==============================] - 0s 3ms/step\n"
          ]
        },
        {
          "metadata": {
            "tags": null
          },
          "name": "stderr",
          "output_type": "stream",
          "text": [
            "<ipython-input-30-84f19216e9c9>:14: FutureWarning: The frame.append method is deprecated and will be removed from pandas in a future version. Use pandas.concat instead.\n",
            "  ResultsCollection=ResultsCollection.append(IterResults, ignore_index=True)\n",
            "\r  3%|▎         | 30/1012 [03:12<1:47:15,  6.55s/it]"
          ]
        },
        {
          "metadata": {
            "tags": null
          },
          "name": "stdout",
          "output_type": "stream",
          "text": [
            "14/14 [==============================] - 0s 3ms/step\n"
          ]
        },
        {
          "metadata": {
            "tags": null
          },
          "name": "stderr",
          "output_type": "stream",
          "text": [
            "<ipython-input-30-84f19216e9c9>:14: FutureWarning: The frame.append method is deprecated and will be removed from pandas in a future version. Use pandas.concat instead.\n",
            "  ResultsCollection=ResultsCollection.append(IterResults, ignore_index=True)\n",
            "\r  3%|▎         | 31/1012 [03:19<1:46:14,  6.50s/it]"
          ]
        },
        {
          "metadata": {
            "tags": null
          },
          "name": "stdout",
          "output_type": "stream",
          "text": [
            "14/14 [==============================] - 0s 3ms/step\n"
          ]
        },
        {
          "metadata": {
            "tags": null
          },
          "name": "stderr",
          "output_type": "stream",
          "text": [
            "<ipython-input-30-84f19216e9c9>:14: FutureWarning: The frame.append method is deprecated and will be removed from pandas in a future version. Use pandas.concat instead.\n",
            "  ResultsCollection=ResultsCollection.append(IterResults, ignore_index=True)\n",
            "\r  3%|▎         | 32/1012 [03:25<1:47:09,  6.56s/it]"
          ]
        },
        {
          "metadata": {
            "tags": null
          },
          "name": "stdout",
          "output_type": "stream",
          "text": [
            "14/14 [==============================] - 0s 3ms/step\n"
          ]
        },
        {
          "metadata": {
            "tags": null
          },
          "name": "stderr",
          "output_type": "stream",
          "text": [
            "<ipython-input-30-84f19216e9c9>:14: FutureWarning: The frame.append method is deprecated and will be removed from pandas in a future version. Use pandas.concat instead.\n",
            "  ResultsCollection=ResultsCollection.append(IterResults, ignore_index=True)\n",
            "\r  3%|▎         | 33/1012 [03:32<1:47:00,  6.56s/it]"
          ]
        },
        {
          "metadata": {
            "tags": null
          },
          "name": "stdout",
          "output_type": "stream",
          "text": [
            "14/14 [==============================] - 0s 3ms/step\n"
          ]
        },
        {
          "metadata": {
            "tags": null
          },
          "name": "stderr",
          "output_type": "stream",
          "text": [
            "<ipython-input-30-84f19216e9c9>:14: FutureWarning: The frame.append method is deprecated and will be removed from pandas in a future version. Use pandas.concat instead.\n",
            "  ResultsCollection=ResultsCollection.append(IterResults, ignore_index=True)\n",
            "\r  3%|▎         | 34/1012 [03:38<1:47:02,  6.57s/it]"
          ]
        },
        {
          "metadata": {
            "tags": null
          },
          "name": "stdout",
          "output_type": "stream",
          "text": [
            "14/14 [==============================] - 0s 3ms/step\n"
          ]
        },
        {
          "metadata": {
            "tags": null
          },
          "name": "stderr",
          "output_type": "stream",
          "text": [
            "<ipython-input-30-84f19216e9c9>:14: FutureWarning: The frame.append method is deprecated and will be removed from pandas in a future version. Use pandas.concat instead.\n",
            "  ResultsCollection=ResultsCollection.append(IterResults, ignore_index=True)\n",
            "\r  3%|▎         | 35/1012 [03:45<1:46:44,  6.56s/it]"
          ]
        },
        {
          "metadata": {
            "tags": null
          },
          "name": "stdout",
          "output_type": "stream",
          "text": [
            "14/14 [==============================] - 0s 3ms/step\n"
          ]
        },
        {
          "metadata": {
            "tags": null
          },
          "name": "stderr",
          "output_type": "stream",
          "text": [
            "<ipython-input-30-84f19216e9c9>:14: FutureWarning: The frame.append method is deprecated and will be removed from pandas in a future version. Use pandas.concat instead.\n",
            "  ResultsCollection=ResultsCollection.append(IterResults, ignore_index=True)\n",
            "\r  4%|▎         | 36/1012 [03:52<1:47:25,  6.60s/it]"
          ]
        },
        {
          "metadata": {
            "tags": null
          },
          "name": "stdout",
          "output_type": "stream",
          "text": [
            "14/14 [==============================] - 0s 3ms/step\n"
          ]
        },
        {
          "metadata": {
            "tags": null
          },
          "name": "stderr",
          "output_type": "stream",
          "text": [
            "<ipython-input-30-84f19216e9c9>:14: FutureWarning: The frame.append method is deprecated and will be removed from pandas in a future version. Use pandas.concat instead.\n",
            "  ResultsCollection=ResultsCollection.append(IterResults, ignore_index=True)\n",
            "\r  4%|▎         | 37/1012 [03:58<1:47:58,  6.64s/it]"
          ]
        },
        {
          "metadata": {
            "tags": null
          },
          "name": "stdout",
          "output_type": "stream",
          "text": [
            "14/14 [==============================] - 0s 3ms/step\n"
          ]
        },
        {
          "metadata": {
            "tags": null
          },
          "name": "stderr",
          "output_type": "stream",
          "text": [
            "<ipython-input-30-84f19216e9c9>:14: FutureWarning: The frame.append method is deprecated and will be removed from pandas in a future version. Use pandas.concat instead.\n",
            "  ResultsCollection=ResultsCollection.append(IterResults, ignore_index=True)\n",
            "\r  4%|▍         | 38/1012 [04:05<1:47:30,  6.62s/it]"
          ]
        },
        {
          "metadata": {
            "tags": null
          },
          "name": "stdout",
          "output_type": "stream",
          "text": [
            "14/14 [==============================] - 0s 3ms/step\n"
          ]
        },
        {
          "metadata": {
            "tags": null
          },
          "name": "stderr",
          "output_type": "stream",
          "text": [
            "<ipython-input-30-84f19216e9c9>:14: FutureWarning: The frame.append method is deprecated and will be removed from pandas in a future version. Use pandas.concat instead.\n",
            "  ResultsCollection=ResultsCollection.append(IterResults, ignore_index=True)\n",
            "\r  4%|▍         | 39/1012 [04:14<2:01:16,  7.48s/it]"
          ]
        },
        {
          "metadata": {
            "tags": null
          },
          "name": "stdout",
          "output_type": "stream",
          "text": [
            "14/14 [==============================] - 0s 3ms/step\n"
          ]
        },
        {
          "metadata": {
            "tags": null
          },
          "name": "stderr",
          "output_type": "stream",
          "text": [
            "<ipython-input-30-84f19216e9c9>:14: FutureWarning: The frame.append method is deprecated and will be removed from pandas in a future version. Use pandas.concat instead.\n",
            "  ResultsCollection=ResultsCollection.append(IterResults, ignore_index=True)\n",
            "\r  4%|▍         | 40/1012 [04:21<1:57:39,  7.26s/it]"
          ]
        },
        {
          "metadata": {
            "tags": null
          },
          "name": "stdout",
          "output_type": "stream",
          "text": [
            "14/14 [==============================] - 0s 3ms/step\n"
          ]
        },
        {
          "metadata": {
            "tags": null
          },
          "name": "stderr",
          "output_type": "stream",
          "text": [
            "<ipython-input-30-84f19216e9c9>:14: FutureWarning: The frame.append method is deprecated and will be removed from pandas in a future version. Use pandas.concat instead.\n",
            "  ResultsCollection=ResultsCollection.append(IterResults, ignore_index=True)\n",
            "\r  4%|▍         | 41/1012 [04:28<1:54:25,  7.07s/it]"
          ]
        },
        {
          "metadata": {
            "tags": null
          },
          "name": "stdout",
          "output_type": "stream",
          "text": [
            "14/14 [==============================] - 0s 3ms/step\n"
          ]
        },
        {
          "metadata": {
            "tags": null
          },
          "name": "stderr",
          "output_type": "stream",
          "text": [
            "<ipython-input-30-84f19216e9c9>:14: FutureWarning: The frame.append method is deprecated and will be removed from pandas in a future version. Use pandas.concat instead.\n",
            "  ResultsCollection=ResultsCollection.append(IterResults, ignore_index=True)\n",
            "\r  4%|▍         | 42/1012 [04:37<2:05:45,  7.78s/it]"
          ]
        },
        {
          "metadata": {
            "tags": null
          },
          "name": "stdout",
          "output_type": "stream",
          "text": [
            "14/14 [==============================] - 0s 3ms/step\n"
          ]
        },
        {
          "metadata": {
            "tags": null
          },
          "name": "stderr",
          "output_type": "stream",
          "text": [
            "<ipython-input-30-84f19216e9c9>:14: FutureWarning: The frame.append method is deprecated and will be removed from pandas in a future version. Use pandas.concat instead.\n",
            "  ResultsCollection=ResultsCollection.append(IterResults, ignore_index=True)\n",
            "\r  4%|▍         | 43/1012 [04:44<2:00:28,  7.46s/it]"
          ]
        },
        {
          "metadata": {
            "tags": null
          },
          "name": "stdout",
          "output_type": "stream",
          "text": [
            "14/14 [==============================] - 0s 3ms/step\n"
          ]
        },
        {
          "metadata": {
            "tags": null
          },
          "name": "stderr",
          "output_type": "stream",
          "text": [
            "<ipython-input-30-84f19216e9c9>:14: FutureWarning: The frame.append method is deprecated and will be removed from pandas in a future version. Use pandas.concat instead.\n",
            "  ResultsCollection=ResultsCollection.append(IterResults, ignore_index=True)\n",
            "\r  4%|▍         | 44/1012 [04:51<1:56:26,  7.22s/it]"
          ]
        },
        {
          "metadata": {
            "tags": null
          },
          "name": "stdout",
          "output_type": "stream",
          "text": [
            "14/14 [==============================] - 0s 3ms/step\n"
          ]
        },
        {
          "metadata": {
            "tags": null
          },
          "name": "stderr",
          "output_type": "stream",
          "text": [
            "<ipython-input-30-84f19216e9c9>:14: FutureWarning: The frame.append method is deprecated and will be removed from pandas in a future version. Use pandas.concat instead.\n",
            "  ResultsCollection=ResultsCollection.append(IterResults, ignore_index=True)\n",
            "\r  4%|▍         | 45/1012 [04:57<1:53:56,  7.07s/it]"
          ]
        },
        {
          "metadata": {
            "tags": null
          },
          "name": "stdout",
          "output_type": "stream",
          "text": [
            "14/14 [==============================] - 0s 3ms/step\n"
          ]
        },
        {
          "metadata": {
            "tags": null
          },
          "name": "stderr",
          "output_type": "stream",
          "text": [
            "<ipython-input-30-84f19216e9c9>:14: FutureWarning: The frame.append method is deprecated and will be removed from pandas in a future version. Use pandas.concat instead.\n",
            "  ResultsCollection=ResultsCollection.append(IterResults, ignore_index=True)\n",
            "\r  5%|▍         | 46/1012 [05:04<1:53:06,  7.03s/it]"
          ]
        },
        {
          "metadata": {
            "tags": null
          },
          "name": "stdout",
          "output_type": "stream",
          "text": [
            "14/14 [==============================] - 0s 3ms/step\n"
          ]
        },
        {
          "metadata": {
            "tags": null
          },
          "name": "stderr",
          "output_type": "stream",
          "text": [
            "<ipython-input-30-84f19216e9c9>:14: FutureWarning: The frame.append method is deprecated and will be removed from pandas in a future version. Use pandas.concat instead.\n",
            "  ResultsCollection=ResultsCollection.append(IterResults, ignore_index=True)\n",
            "\r  5%|▍         | 47/1012 [05:11<1:51:35,  6.94s/it]"
          ]
        },
        {
          "metadata": {
            "tags": null
          },
          "name": "stdout",
          "output_type": "stream",
          "text": [
            "14/14 [==============================] - 0s 3ms/step\n"
          ]
        },
        {
          "metadata": {
            "tags": null
          },
          "name": "stderr",
          "output_type": "stream",
          "text": [
            "<ipython-input-30-84f19216e9c9>:14: FutureWarning: The frame.append method is deprecated and will be removed from pandas in a future version. Use pandas.concat instead.\n",
            "  ResultsCollection=ResultsCollection.append(IterResults, ignore_index=True)\n",
            "\r  5%|▍         | 48/1012 [05:18<1:50:06,  6.85s/it]"
          ]
        },
        {
          "metadata": {
            "tags": null
          },
          "name": "stdout",
          "output_type": "stream",
          "text": [
            "14/14 [==============================] - 0s 3ms/step\n"
          ]
        },
        {
          "metadata": {
            "tags": null
          },
          "name": "stderr",
          "output_type": "stream",
          "text": [
            "<ipython-input-30-84f19216e9c9>:14: FutureWarning: The frame.append method is deprecated and will be removed from pandas in a future version. Use pandas.concat instead.\n",
            "  ResultsCollection=ResultsCollection.append(IterResults, ignore_index=True)\n",
            "\r  5%|▍         | 49/1012 [05:24<1:49:25,  6.82s/it]"
          ]
        },
        {
          "metadata": {
            "tags": null
          },
          "name": "stdout",
          "output_type": "stream",
          "text": [
            "14/14 [==============================] - 0s 3ms/step\n"
          ]
        },
        {
          "metadata": {
            "tags": null
          },
          "name": "stderr",
          "output_type": "stream",
          "text": [
            "<ipython-input-30-84f19216e9c9>:14: FutureWarning: The frame.append method is deprecated and will be removed from pandas in a future version. Use pandas.concat instead.\n",
            "  ResultsCollection=ResultsCollection.append(IterResults, ignore_index=True)\n",
            "\r  5%|▍         | 50/1012 [05:31<1:49:25,  6.83s/it]"
          ]
        },
        {
          "metadata": {
            "tags": null
          },
          "name": "stdout",
          "output_type": "stream",
          "text": [
            "14/14 [==============================] - 0s 3ms/step\n"
          ]
        },
        {
          "metadata": {
            "tags": null
          },
          "name": "stderr",
          "output_type": "stream",
          "text": [
            "<ipython-input-30-84f19216e9c9>:14: FutureWarning: The frame.append method is deprecated and will be removed from pandas in a future version. Use pandas.concat instead.\n",
            "  ResultsCollection=ResultsCollection.append(IterResults, ignore_index=True)\n",
            "\r  5%|▌         | 51/1012 [05:38<1:48:53,  6.80s/it]"
          ]
        },
        {
          "metadata": {
            "tags": null
          },
          "name": "stdout",
          "output_type": "stream",
          "text": [
            "14/14 [==============================] - 0s 3ms/step\n"
          ]
        },
        {
          "metadata": {
            "tags": null
          },
          "name": "stderr",
          "output_type": "stream",
          "text": [
            "<ipython-input-30-84f19216e9c9>:14: FutureWarning: The frame.append method is deprecated and will be removed from pandas in a future version. Use pandas.concat instead.\n",
            "  ResultsCollection=ResultsCollection.append(IterResults, ignore_index=True)\n",
            "\r  5%|▌         | 52/1012 [05:45<1:49:01,  6.81s/it]"
          ]
        },
        {
          "metadata": {
            "tags": null
          },
          "name": "stdout",
          "output_type": "stream",
          "text": [
            "14/14 [==============================] - 0s 3ms/step\n"
          ]
        },
        {
          "metadata": {
            "tags": null
          },
          "name": "stderr",
          "output_type": "stream",
          "text": [
            "<ipython-input-30-84f19216e9c9>:14: FutureWarning: The frame.append method is deprecated and will be removed from pandas in a future version. Use pandas.concat instead.\n",
            "  ResultsCollection=ResultsCollection.append(IterResults, ignore_index=True)\n",
            "\r  5%|▌         | 53/1012 [05:52<1:49:14,  6.83s/it]"
          ]
        },
        {
          "metadata": {
            "tags": null
          },
          "name": "stdout",
          "output_type": "stream",
          "text": [
            "14/14 [==============================] - 0s 4ms/step\n"
          ]
        },
        {
          "metadata": {
            "tags": null
          },
          "name": "stderr",
          "output_type": "stream",
          "text": [
            "<ipython-input-30-84f19216e9c9>:14: FutureWarning: The frame.append method is deprecated and will be removed from pandas in a future version. Use pandas.concat instead.\n",
            "  ResultsCollection=ResultsCollection.append(IterResults, ignore_index=True)\n",
            "\r  5%|▌         | 54/1012 [05:59<1:49:17,  6.85s/it]"
          ]
        },
        {
          "metadata": {
            "tags": null
          },
          "name": "stdout",
          "output_type": "stream",
          "text": [
            "14/14 [==============================] - 0s 3ms/step\n"
          ]
        },
        {
          "metadata": {
            "tags": null
          },
          "name": "stderr",
          "output_type": "stream",
          "text": [
            "<ipython-input-30-84f19216e9c9>:14: FutureWarning: The frame.append method is deprecated and will be removed from pandas in a future version. Use pandas.concat instead.\n",
            "  ResultsCollection=ResultsCollection.append(IterResults, ignore_index=True)\n",
            "\r  5%|▌         | 55/1012 [06:06<1:50:03,  6.90s/it]"
          ]
        },
        {
          "metadata": {
            "tags": null
          },
          "name": "stdout",
          "output_type": "stream",
          "text": [
            "14/14 [==============================] - 0s 3ms/step\n"
          ]
        },
        {
          "metadata": {
            "tags": null
          },
          "name": "stderr",
          "output_type": "stream",
          "text": [
            "<ipython-input-30-84f19216e9c9>:14: FutureWarning: The frame.append method is deprecated and will be removed from pandas in a future version. Use pandas.concat instead.\n",
            "  ResultsCollection=ResultsCollection.append(IterResults, ignore_index=True)\n",
            "\r  6%|▌         | 56/1012 [06:12<1:49:37,  6.88s/it]"
          ]
        },
        {
          "metadata": {
            "tags": null
          },
          "name": "stdout",
          "output_type": "stream",
          "text": [
            "14/14 [==============================] - 0s 3ms/step\n"
          ]
        },
        {
          "metadata": {
            "tags": null
          },
          "name": "stderr",
          "output_type": "stream",
          "text": [
            "<ipython-input-30-84f19216e9c9>:14: FutureWarning: The frame.append method is deprecated and will be removed from pandas in a future version. Use pandas.concat instead.\n",
            "  ResultsCollection=ResultsCollection.append(IterResults, ignore_index=True)\n",
            "\r  6%|▌         | 57/1012 [06:19<1:49:21,  6.87s/it]"
          ]
        },
        {
          "metadata": {
            "tags": null
          },
          "name": "stdout",
          "output_type": "stream",
          "text": [
            "14/14 [==============================] - 0s 3ms/step\n"
          ]
        },
        {
          "metadata": {
            "tags": null
          },
          "name": "stderr",
          "output_type": "stream",
          "text": [
            "<ipython-input-30-84f19216e9c9>:14: FutureWarning: The frame.append method is deprecated and will be removed from pandas in a future version. Use pandas.concat instead.\n",
            "  ResultsCollection=ResultsCollection.append(IterResults, ignore_index=True)\n",
            "\r  6%|▌         | 58/1012 [06:26<1:49:18,  6.87s/it]"
          ]
        },
        {
          "metadata": {
            "tags": null
          },
          "name": "stdout",
          "output_type": "stream",
          "text": [
            "14/14 [==============================] - 0s 3ms/step\n"
          ]
        },
        {
          "metadata": {
            "tags": null
          },
          "name": "stderr",
          "output_type": "stream",
          "text": [
            "<ipython-input-30-84f19216e9c9>:14: FutureWarning: The frame.append method is deprecated and will be removed from pandas in a future version. Use pandas.concat instead.\n",
            "  ResultsCollection=ResultsCollection.append(IterResults, ignore_index=True)\n",
            "\r  6%|▌         | 59/1012 [06:33<1:49:33,  6.90s/it]"
          ]
        },
        {
          "metadata": {
            "tags": null
          },
          "name": "stdout",
          "output_type": "stream",
          "text": [
            "14/14 [==============================] - 0s 3ms/step\n"
          ]
        },
        {
          "metadata": {
            "tags": null
          },
          "name": "stderr",
          "output_type": "stream",
          "text": [
            "<ipython-input-30-84f19216e9c9>:14: FutureWarning: The frame.append method is deprecated and will be removed from pandas in a future version. Use pandas.concat instead.\n",
            "  ResultsCollection=ResultsCollection.append(IterResults, ignore_index=True)\n",
            "\r  6%|▌         | 60/1012 [06:40<1:50:08,  6.94s/it]"
          ]
        },
        {
          "metadata": {
            "tags": null
          },
          "name": "stdout",
          "output_type": "stream",
          "text": [
            "14/14 [==============================] - 0s 3ms/step\n"
          ]
        },
        {
          "metadata": {
            "tags": null
          },
          "name": "stderr",
          "output_type": "stream",
          "text": [
            "<ipython-input-30-84f19216e9c9>:14: FutureWarning: The frame.append method is deprecated and will be removed from pandas in a future version. Use pandas.concat instead.\n",
            "  ResultsCollection=ResultsCollection.append(IterResults, ignore_index=True)\n",
            "\r  6%|▌         | 61/1012 [06:47<1:50:18,  6.96s/it]"
          ]
        },
        {
          "metadata": {
            "tags": null
          },
          "name": "stdout",
          "output_type": "stream",
          "text": [
            "14/14 [==============================] - 0s 3ms/step\n"
          ]
        },
        {
          "metadata": {
            "tags": null
          },
          "name": "stderr",
          "output_type": "stream",
          "text": [
            "<ipython-input-30-84f19216e9c9>:14: FutureWarning: The frame.append method is deprecated and will be removed from pandas in a future version. Use pandas.concat instead.\n",
            "  ResultsCollection=ResultsCollection.append(IterResults, ignore_index=True)\n",
            "\r  6%|▌         | 62/1012 [06:54<1:50:11,  6.96s/it]"
          ]
        },
        {
          "metadata": {
            "tags": null
          },
          "name": "stdout",
          "output_type": "stream",
          "text": [
            "14/14 [==============================] - 0s 3ms/step\n"
          ]
        },
        {
          "metadata": {
            "tags": null
          },
          "name": "stderr",
          "output_type": "stream",
          "text": [
            "<ipython-input-30-84f19216e9c9>:14: FutureWarning: The frame.append method is deprecated and will be removed from pandas in a future version. Use pandas.concat instead.\n",
            "  ResultsCollection=ResultsCollection.append(IterResults, ignore_index=True)\n",
            "\r  6%|▌         | 63/1012 [07:01<1:50:03,  6.96s/it]"
          ]
        },
        {
          "metadata": {
            "tags": null
          },
          "name": "stdout",
          "output_type": "stream",
          "text": [
            "14/14 [==============================] - 0s 3ms/step\n"
          ]
        },
        {
          "metadata": {
            "tags": null
          },
          "name": "stderr",
          "output_type": "stream",
          "text": [
            "<ipython-input-30-84f19216e9c9>:14: FutureWarning: The frame.append method is deprecated and will be removed from pandas in a future version. Use pandas.concat instead.\n",
            "  ResultsCollection=ResultsCollection.append(IterResults, ignore_index=True)\n",
            "\r  6%|▋         | 64/1012 [07:08<1:50:08,  6.97s/it]"
          ]
        },
        {
          "metadata": {
            "tags": null
          },
          "name": "stdout",
          "output_type": "stream",
          "text": [
            "14/14 [==============================] - 0s 3ms/step\n"
          ]
        },
        {
          "metadata": {
            "tags": null
          },
          "name": "stderr",
          "output_type": "stream",
          "text": [
            "<ipython-input-30-84f19216e9c9>:14: FutureWarning: The frame.append method is deprecated and will be removed from pandas in a future version. Use pandas.concat instead.\n",
            "  ResultsCollection=ResultsCollection.append(IterResults, ignore_index=True)\n",
            "\r  6%|▋         | 65/1012 [07:15<1:50:40,  7.01s/it]"
          ]
        },
        {
          "metadata": {
            "tags": null
          },
          "name": "stdout",
          "output_type": "stream",
          "text": [
            "14/14 [==============================] - 0s 3ms/step\n"
          ]
        },
        {
          "metadata": {
            "tags": null
          },
          "name": "stderr",
          "output_type": "stream",
          "text": [
            "<ipython-input-30-84f19216e9c9>:14: FutureWarning: The frame.append method is deprecated and will be removed from pandas in a future version. Use pandas.concat instead.\n",
            "  ResultsCollection=ResultsCollection.append(IterResults, ignore_index=True)\n",
            "\r  7%|▋         | 66/1012 [07:22<1:51:05,  7.05s/it]"
          ]
        },
        {
          "metadata": {
            "tags": null
          },
          "name": "stdout",
          "output_type": "stream",
          "text": [
            "14/14 [==============================] - 0s 3ms/step\n"
          ]
        },
        {
          "metadata": {
            "tags": null
          },
          "name": "stderr",
          "output_type": "stream",
          "text": [
            "<ipython-input-30-84f19216e9c9>:14: FutureWarning: The frame.append method is deprecated and will be removed from pandas in a future version. Use pandas.concat instead.\n",
            "  ResultsCollection=ResultsCollection.append(IterResults, ignore_index=True)\n",
            "\r  7%|▋         | 67/1012 [07:30<1:51:50,  7.10s/it]"
          ]
        },
        {
          "metadata": {
            "tags": null
          },
          "name": "stdout",
          "output_type": "stream",
          "text": [
            "14/14 [==============================] - 0s 3ms/step\n"
          ]
        },
        {
          "metadata": {
            "tags": null
          },
          "name": "stderr",
          "output_type": "stream",
          "text": [
            "<ipython-input-30-84f19216e9c9>:14: FutureWarning: The frame.append method is deprecated and will be removed from pandas in a future version. Use pandas.concat instead.\n",
            "  ResultsCollection=ResultsCollection.append(IterResults, ignore_index=True)\n",
            "\r  7%|▋         | 68/1012 [07:37<1:52:31,  7.15s/it]"
          ]
        },
        {
          "metadata": {
            "tags": null
          },
          "name": "stdout",
          "output_type": "stream",
          "text": [
            "14/14 [==============================] - 0s 3ms/step\n"
          ]
        },
        {
          "metadata": {
            "tags": null
          },
          "name": "stderr",
          "output_type": "stream",
          "text": [
            "<ipython-input-30-84f19216e9c9>:14: FutureWarning: The frame.append method is deprecated and will be removed from pandas in a future version. Use pandas.concat instead.\n",
            "  ResultsCollection=ResultsCollection.append(IterResults, ignore_index=True)\n",
            "\r  7%|▋         | 69/1012 [07:44<1:52:56,  7.19s/it]"
          ]
        },
        {
          "metadata": {
            "tags": null
          },
          "name": "stdout",
          "output_type": "stream",
          "text": [
            "14/14 [==============================] - 0s 4ms/step\n"
          ]
        },
        {
          "metadata": {
            "tags": null
          },
          "name": "stderr",
          "output_type": "stream",
          "text": [
            "<ipython-input-30-84f19216e9c9>:14: FutureWarning: The frame.append method is deprecated and will be removed from pandas in a future version. Use pandas.concat instead.\n",
            "  ResultsCollection=ResultsCollection.append(IterResults, ignore_index=True)\n",
            "\r  7%|▋         | 70/1012 [07:51<1:53:13,  7.21s/it]"
          ]
        },
        {
          "metadata": {
            "tags": null
          },
          "name": "stdout",
          "output_type": "stream",
          "text": [
            "14/14 [==============================] - 0s 3ms/step\n"
          ]
        },
        {
          "metadata": {
            "tags": null
          },
          "name": "stderr",
          "output_type": "stream",
          "text": [
            "<ipython-input-30-84f19216e9c9>:14: FutureWarning: The frame.append method is deprecated and will be removed from pandas in a future version. Use pandas.concat instead.\n",
            "  ResultsCollection=ResultsCollection.append(IterResults, ignore_index=True)\n",
            "\r  7%|▋         | 71/1012 [07:58<1:52:44,  7.19s/it]"
          ]
        },
        {
          "metadata": {
            "tags": null
          },
          "name": "stdout",
          "output_type": "stream",
          "text": [
            "14/14 [==============================] - 0s 3ms/step\n"
          ]
        },
        {
          "metadata": {
            "tags": null
          },
          "name": "stderr",
          "output_type": "stream",
          "text": [
            "<ipython-input-30-84f19216e9c9>:14: FutureWarning: The frame.append method is deprecated and will be removed from pandas in a future version. Use pandas.concat instead.\n",
            "  ResultsCollection=ResultsCollection.append(IterResults, ignore_index=True)\n",
            "\r  7%|▋         | 72/1012 [08:06<1:53:25,  7.24s/it]"
          ]
        },
        {
          "metadata": {
            "tags": null
          },
          "name": "stdout",
          "output_type": "stream",
          "text": [
            "14/14 [==============================] - 0s 3ms/step\n"
          ]
        },
        {
          "metadata": {
            "tags": null
          },
          "name": "stderr",
          "output_type": "stream",
          "text": [
            "<ipython-input-30-84f19216e9c9>:14: FutureWarning: The frame.append method is deprecated and will be removed from pandas in a future version. Use pandas.concat instead.\n",
            "  ResultsCollection=ResultsCollection.append(IterResults, ignore_index=True)\n",
            "\r  7%|▋         | 73/1012 [08:13<1:53:38,  7.26s/it]"
          ]
        },
        {
          "metadata": {
            "tags": null
          },
          "name": "stdout",
          "output_type": "stream",
          "text": [
            "14/14 [==============================] - 0s 3ms/step\n"
          ]
        },
        {
          "metadata": {
            "tags": null
          },
          "name": "stderr",
          "output_type": "stream",
          "text": [
            "<ipython-input-30-84f19216e9c9>:14: FutureWarning: The frame.append method is deprecated and will be removed from pandas in a future version. Use pandas.concat instead.\n",
            "  ResultsCollection=ResultsCollection.append(IterResults, ignore_index=True)\n",
            "\r  7%|▋         | 74/1012 [08:20<1:53:40,  7.27s/it]"
          ]
        },
        {
          "metadata": {
            "tags": null
          },
          "name": "stdout",
          "output_type": "stream",
          "text": [
            "14/14 [==============================] - 0s 3ms/step\n"
          ]
        },
        {
          "metadata": {
            "tags": null
          },
          "name": "stderr",
          "output_type": "stream",
          "text": [
            "<ipython-input-30-84f19216e9c9>:14: FutureWarning: The frame.append method is deprecated and will be removed from pandas in a future version. Use pandas.concat instead.\n",
            "  ResultsCollection=ResultsCollection.append(IterResults, ignore_index=True)\n",
            "\r  7%|▋         | 75/1012 [08:28<1:53:04,  7.24s/it]"
          ]
        },
        {
          "metadata": {
            "tags": null
          },
          "name": "stdout",
          "output_type": "stream",
          "text": [
            "14/14 [==============================] - 0s 3ms/step\n"
          ]
        },
        {
          "metadata": {
            "tags": null
          },
          "name": "stderr",
          "output_type": "stream",
          "text": [
            "<ipython-input-30-84f19216e9c9>:14: FutureWarning: The frame.append method is deprecated and will be removed from pandas in a future version. Use pandas.concat instead.\n",
            "  ResultsCollection=ResultsCollection.append(IterResults, ignore_index=True)\n",
            "\r  8%|▊         | 76/1012 [08:38<2:05:23,  8.04s/it]"
          ]
        },
        {
          "metadata": {
            "tags": null
          },
          "name": "stdout",
          "output_type": "stream",
          "text": [
            "14/14 [==============================] - 0s 3ms/step\n"
          ]
        },
        {
          "metadata": {
            "tags": null
          },
          "name": "stderr",
          "output_type": "stream",
          "text": [
            "<ipython-input-30-84f19216e9c9>:14: FutureWarning: The frame.append method is deprecated and will be removed from pandas in a future version. Use pandas.concat instead.\n",
            "  ResultsCollection=ResultsCollection.append(IterResults, ignore_index=True)\n",
            "\r  8%|▊         | 77/1012 [08:45<2:01:23,  7.79s/it]"
          ]
        },
        {
          "metadata": {
            "tags": null
          },
          "name": "stdout",
          "output_type": "stream",
          "text": [
            "14/14 [==============================] - 0s 3ms/step\n"
          ]
        },
        {
          "metadata": {
            "tags": null
          },
          "name": "stderr",
          "output_type": "stream",
          "text": [
            "<ipython-input-30-84f19216e9c9>:14: FutureWarning: The frame.append method is deprecated and will be removed from pandas in a future version. Use pandas.concat instead.\n",
            "  ResultsCollection=ResultsCollection.append(IterResults, ignore_index=True)\n",
            "\r  8%|▊         | 78/1012 [08:52<1:58:21,  7.60s/it]"
          ]
        },
        {
          "metadata": {
            "tags": null
          },
          "name": "stdout",
          "output_type": "stream",
          "text": [
            "14/14 [==============================] - 0s 3ms/step\n"
          ]
        },
        {
          "metadata": {
            "tags": null
          },
          "name": "stderr",
          "output_type": "stream",
          "text": [
            "<ipython-input-30-84f19216e9c9>:14: FutureWarning: The frame.append method is deprecated and will be removed from pandas in a future version. Use pandas.concat instead.\n",
            "  ResultsCollection=ResultsCollection.append(IterResults, ignore_index=True)\n",
            "\r  8%|▊         | 79/1012 [08:59<1:56:08,  7.47s/it]"
          ]
        },
        {
          "metadata": {
            "tags": null
          },
          "name": "stdout",
          "output_type": "stream",
          "text": [
            "14/14 [==============================] - 0s 3ms/step\n"
          ]
        },
        {
          "metadata": {
            "tags": null
          },
          "name": "stderr",
          "output_type": "stream",
          "text": [
            "<ipython-input-30-84f19216e9c9>:14: FutureWarning: The frame.append method is deprecated and will be removed from pandas in a future version. Use pandas.concat instead.\n",
            "  ResultsCollection=ResultsCollection.append(IterResults, ignore_index=True)\n",
            "\r  8%|▊         | 80/1012 [09:06<1:55:08,  7.41s/it]"
          ]
        },
        {
          "metadata": {
            "tags": null
          },
          "name": "stdout",
          "output_type": "stream",
          "text": [
            "14/14 [==============================] - 0s 3ms/step\n"
          ]
        },
        {
          "metadata": {
            "tags": null
          },
          "name": "stderr",
          "output_type": "stream",
          "text": [
            "<ipython-input-30-84f19216e9c9>:14: FutureWarning: The frame.append method is deprecated and will be removed from pandas in a future version. Use pandas.concat instead.\n",
            "  ResultsCollection=ResultsCollection.append(IterResults, ignore_index=True)\n",
            "\r  8%|▊         | 81/1012 [09:14<1:54:39,  7.39s/it]"
          ]
        },
        {
          "metadata": {
            "tags": null
          },
          "name": "stdout",
          "output_type": "stream",
          "text": [
            "14/14 [==============================] - 0s 4ms/step\n"
          ]
        },
        {
          "metadata": {
            "tags": null
          },
          "name": "stderr",
          "output_type": "stream",
          "text": [
            "<ipython-input-30-84f19216e9c9>:14: FutureWarning: The frame.append method is deprecated and will be removed from pandas in a future version. Use pandas.concat instead.\n",
            "  ResultsCollection=ResultsCollection.append(IterResults, ignore_index=True)\n",
            "\r  8%|▊         | 82/1012 [09:21<1:54:21,  7.38s/it]"
          ]
        },
        {
          "metadata": {
            "tags": null
          },
          "name": "stdout",
          "output_type": "stream",
          "text": [
            "14/14 [==============================] - 0s 3ms/step\n"
          ]
        },
        {
          "metadata": {
            "tags": null
          },
          "name": "stderr",
          "output_type": "stream",
          "text": [
            "<ipython-input-30-84f19216e9c9>:14: FutureWarning: The frame.append method is deprecated and will be removed from pandas in a future version. Use pandas.concat instead.\n",
            "  ResultsCollection=ResultsCollection.append(IterResults, ignore_index=True)\n",
            "\r  8%|▊         | 83/1012 [09:28<1:53:25,  7.33s/it]"
          ]
        },
        {
          "metadata": {
            "tags": null
          },
          "name": "stdout",
          "output_type": "stream",
          "text": [
            "14/14 [==============================] - 0s 3ms/step\n"
          ]
        },
        {
          "metadata": {
            "tags": null
          },
          "name": "stderr",
          "output_type": "stream",
          "text": [
            "<ipython-input-30-84f19216e9c9>:14: FutureWarning: The frame.append method is deprecated and will be removed from pandas in a future version. Use pandas.concat instead.\n",
            "  ResultsCollection=ResultsCollection.append(IterResults, ignore_index=True)\n",
            "\r  8%|▊         | 84/1012 [09:36<1:53:32,  7.34s/it]"
          ]
        },
        {
          "metadata": {
            "tags": null
          },
          "name": "stdout",
          "output_type": "stream",
          "text": [
            "14/14 [==============================] - 0s 4ms/step\n"
          ]
        },
        {
          "metadata": {
            "tags": null
          },
          "name": "stderr",
          "output_type": "stream",
          "text": [
            "<ipython-input-30-84f19216e9c9>:14: FutureWarning: The frame.append method is deprecated and will be removed from pandas in a future version. Use pandas.concat instead.\n",
            "  ResultsCollection=ResultsCollection.append(IterResults, ignore_index=True)\n",
            "\r  8%|▊         | 85/1012 [09:43<1:53:55,  7.37s/it]"
          ]
        },
        {
          "metadata": {
            "tags": null
          },
          "name": "stdout",
          "output_type": "stream",
          "text": [
            "14/14 [==============================] - 0s 3ms/step\n"
          ]
        },
        {
          "metadata": {
            "tags": null
          },
          "name": "stderr",
          "output_type": "stream",
          "text": [
            "<ipython-input-30-84f19216e9c9>:14: FutureWarning: The frame.append method is deprecated and will be removed from pandas in a future version. Use pandas.concat instead.\n",
            "  ResultsCollection=ResultsCollection.append(IterResults, ignore_index=True)\n",
            "\r  8%|▊         | 86/1012 [09:50<1:53:26,  7.35s/it]"
          ]
        },
        {
          "metadata": {
            "tags": null
          },
          "name": "stdout",
          "output_type": "stream",
          "text": [
            "14/14 [==============================] - 0s 3ms/step\n"
          ]
        },
        {
          "metadata": {
            "tags": null
          },
          "name": "stderr",
          "output_type": "stream",
          "text": [
            "<ipython-input-30-84f19216e9c9>:14: FutureWarning: The frame.append method is deprecated and will be removed from pandas in a future version. Use pandas.concat instead.\n",
            "  ResultsCollection=ResultsCollection.append(IterResults, ignore_index=True)\n",
            "\r  9%|▊         | 87/1012 [09:58<1:54:01,  7.40s/it]"
          ]
        },
        {
          "metadata": {
            "tags": null
          },
          "name": "stdout",
          "output_type": "stream",
          "text": [
            "14/14 [==============================] - 0s 3ms/step\n"
          ]
        },
        {
          "metadata": {
            "tags": null
          },
          "name": "stderr",
          "output_type": "stream",
          "text": [
            "<ipython-input-30-84f19216e9c9>:14: FutureWarning: The frame.append method is deprecated and will be removed from pandas in a future version. Use pandas.concat instead.\n",
            "  ResultsCollection=ResultsCollection.append(IterResults, ignore_index=True)\n",
            "\r  9%|▊         | 88/1012 [10:05<1:53:55,  7.40s/it]"
          ]
        },
        {
          "metadata": {
            "tags": null
          },
          "name": "stdout",
          "output_type": "stream",
          "text": [
            "14/14 [==============================] - 0s 3ms/step\n"
          ]
        },
        {
          "metadata": {
            "tags": null
          },
          "name": "stderr",
          "output_type": "stream",
          "text": [
            "<ipython-input-30-84f19216e9c9>:14: FutureWarning: The frame.append method is deprecated and will be removed from pandas in a future version. Use pandas.concat instead.\n",
            "  ResultsCollection=ResultsCollection.append(IterResults, ignore_index=True)\n",
            "\r  9%|▉         | 89/1012 [10:13<1:53:24,  7.37s/it]"
          ]
        },
        {
          "metadata": {
            "tags": null
          },
          "name": "stdout",
          "output_type": "stream",
          "text": [
            "14/14 [==============================] - 0s 3ms/step\n"
          ]
        },
        {
          "metadata": {
            "tags": null
          },
          "name": "stderr",
          "output_type": "stream",
          "text": [
            "<ipython-input-30-84f19216e9c9>:14: FutureWarning: The frame.append method is deprecated and will be removed from pandas in a future version. Use pandas.concat instead.\n",
            "  ResultsCollection=ResultsCollection.append(IterResults, ignore_index=True)\n",
            "\r  9%|▉         | 90/1012 [10:20<1:53:26,  7.38s/it]"
          ]
        },
        {
          "metadata": {
            "tags": null
          },
          "name": "stdout",
          "output_type": "stream",
          "text": [
            "14/14 [==============================] - 0s 3ms/step\n"
          ]
        },
        {
          "metadata": {
            "tags": null
          },
          "name": "stderr",
          "output_type": "stream",
          "text": [
            "<ipython-input-30-84f19216e9c9>:14: FutureWarning: The frame.append method is deprecated and will be removed from pandas in a future version. Use pandas.concat instead.\n",
            "  ResultsCollection=ResultsCollection.append(IterResults, ignore_index=True)\n",
            "\r  9%|▉         | 91/1012 [10:27<1:52:37,  7.34s/it]"
          ]
        },
        {
          "metadata": {
            "tags": null
          },
          "name": "stdout",
          "output_type": "stream",
          "text": [
            "14/14 [==============================] - 0s 3ms/step\n"
          ]
        },
        {
          "metadata": {
            "tags": null
          },
          "name": "stderr",
          "output_type": "stream",
          "text": [
            "<ipython-input-30-84f19216e9c9>:14: FutureWarning: The frame.append method is deprecated and will be removed from pandas in a future version. Use pandas.concat instead.\n",
            "  ResultsCollection=ResultsCollection.append(IterResults, ignore_index=True)\n",
            "\r  9%|▉         | 92/1012 [10:35<1:52:31,  7.34s/it]"
          ]
        },
        {
          "metadata": {
            "tags": null
          },
          "name": "stdout",
          "output_type": "stream",
          "text": [
            "14/14 [==============================] - 0s 3ms/step\n"
          ]
        },
        {
          "metadata": {
            "tags": null
          },
          "name": "stderr",
          "output_type": "stream",
          "text": [
            "<ipython-input-30-84f19216e9c9>:14: FutureWarning: The frame.append method is deprecated and will be removed from pandas in a future version. Use pandas.concat instead.\n",
            "  ResultsCollection=ResultsCollection.append(IterResults, ignore_index=True)\n",
            "\r  9%|▉         | 93/1012 [10:42<1:52:26,  7.34s/it]"
          ]
        },
        {
          "metadata": {
            "tags": null
          },
          "name": "stdout",
          "output_type": "stream",
          "text": [
            "14/14 [==============================] - 0s 3ms/step\n"
          ]
        },
        {
          "metadata": {
            "tags": null
          },
          "name": "stderr",
          "output_type": "stream",
          "text": [
            "<ipython-input-30-84f19216e9c9>:14: FutureWarning: The frame.append method is deprecated and will be removed from pandas in a future version. Use pandas.concat instead.\n",
            "  ResultsCollection=ResultsCollection.append(IterResults, ignore_index=True)\n",
            "\r  9%|▉         | 94/1012 [10:49<1:52:01,  7.32s/it]"
          ]
        },
        {
          "metadata": {
            "tags": null
          },
          "name": "stdout",
          "output_type": "stream",
          "text": [
            "14/14 [==============================] - 0s 4ms/step\n"
          ]
        },
        {
          "metadata": {
            "tags": null
          },
          "name": "stderr",
          "output_type": "stream",
          "text": [
            "<ipython-input-30-84f19216e9c9>:14: FutureWarning: The frame.append method is deprecated and will be removed from pandas in a future version. Use pandas.concat instead.\n",
            "  ResultsCollection=ResultsCollection.append(IterResults, ignore_index=True)\n",
            "\r  9%|▉         | 95/1012 [10:57<1:52:48,  7.38s/it]"
          ]
        },
        {
          "metadata": {
            "tags": null
          },
          "name": "stdout",
          "output_type": "stream",
          "text": [
            "14/14 [==============================] - 0s 3ms/step\n"
          ]
        },
        {
          "metadata": {
            "tags": null
          },
          "name": "stderr",
          "output_type": "stream",
          "text": [
            "<ipython-input-30-84f19216e9c9>:14: FutureWarning: The frame.append method is deprecated and will be removed from pandas in a future version. Use pandas.concat instead.\n",
            "  ResultsCollection=ResultsCollection.append(IterResults, ignore_index=True)\n",
            "\r  9%|▉         | 96/1012 [11:04<1:52:22,  7.36s/it]"
          ]
        },
        {
          "metadata": {
            "tags": null
          },
          "name": "stdout",
          "output_type": "stream",
          "text": [
            "14/14 [==============================] - 0s 3ms/step\n"
          ]
        },
        {
          "metadata": {
            "tags": null
          },
          "name": "stderr",
          "output_type": "stream",
          "text": [
            "<ipython-input-30-84f19216e9c9>:14: FutureWarning: The frame.append method is deprecated and will be removed from pandas in a future version. Use pandas.concat instead.\n",
            "  ResultsCollection=ResultsCollection.append(IterResults, ignore_index=True)\n",
            "\r 10%|▉         | 97/1012 [11:11<1:52:03,  7.35s/it]"
          ]
        },
        {
          "metadata": {
            "tags": null
          },
          "name": "stdout",
          "output_type": "stream",
          "text": [
            "14/14 [==============================] - 0s 3ms/step\n"
          ]
        },
        {
          "metadata": {
            "tags": null
          },
          "name": "stderr",
          "output_type": "stream",
          "text": [
            "<ipython-input-30-84f19216e9c9>:14: FutureWarning: The frame.append method is deprecated and will be removed from pandas in a future version. Use pandas.concat instead.\n",
            "  ResultsCollection=ResultsCollection.append(IterResults, ignore_index=True)\n",
            "\r 10%|▉         | 98/1012 [11:19<1:52:39,  7.40s/it]"
          ]
        },
        {
          "metadata": {
            "tags": null
          },
          "name": "stdout",
          "output_type": "stream",
          "text": [
            "14/14 [==============================] - 0s 3ms/step\n"
          ]
        },
        {
          "metadata": {
            "tags": null
          },
          "name": "stderr",
          "output_type": "stream",
          "text": [
            "<ipython-input-30-84f19216e9c9>:14: FutureWarning: The frame.append method is deprecated and will be removed from pandas in a future version. Use pandas.concat instead.\n",
            "  ResultsCollection=ResultsCollection.append(IterResults, ignore_index=True)\n",
            "\r 10%|▉         | 99/1012 [11:26<1:52:18,  7.38s/it]"
          ]
        },
        {
          "metadata": {
            "tags": null
          },
          "name": "stdout",
          "output_type": "stream",
          "text": [
            "14/14 [==============================] - 0s 3ms/step\n"
          ]
        },
        {
          "metadata": {
            "tags": null
          },
          "name": "stderr",
          "output_type": "stream",
          "text": [
            "<ipython-input-30-84f19216e9c9>:14: FutureWarning: The frame.append method is deprecated and will be removed from pandas in a future version. Use pandas.concat instead.\n",
            "  ResultsCollection=ResultsCollection.append(IterResults, ignore_index=True)\n",
            "\r 10%|▉         | 100/1012 [11:34<1:53:11,  7.45s/it]"
          ]
        },
        {
          "metadata": {
            "tags": null
          },
          "name": "stdout",
          "output_type": "stream",
          "text": [
            "14/14 [==============================] - 0s 3ms/step\n"
          ]
        },
        {
          "metadata": {
            "tags": null
          },
          "name": "stderr",
          "output_type": "stream",
          "text": [
            "<ipython-input-30-84f19216e9c9>:14: FutureWarning: The frame.append method is deprecated and will be removed from pandas in a future version. Use pandas.concat instead.\n",
            "  ResultsCollection=ResultsCollection.append(IterResults, ignore_index=True)\n",
            "\r 10%|▉         | 101/1012 [11:41<1:53:04,  7.45s/it]"
          ]
        },
        {
          "metadata": {
            "tags": null
          },
          "name": "stdout",
          "output_type": "stream",
          "text": [
            "14/14 [==============================] - 0s 3ms/step\n"
          ]
        },
        {
          "metadata": {
            "tags": null
          },
          "name": "stderr",
          "output_type": "stream",
          "text": [
            "<ipython-input-30-84f19216e9c9>:14: FutureWarning: The frame.append method is deprecated and will be removed from pandas in a future version. Use pandas.concat instead.\n",
            "  ResultsCollection=ResultsCollection.append(IterResults, ignore_index=True)\n",
            "\r 10%|█         | 102/1012 [11:49<1:52:38,  7.43s/it]"
          ]
        },
        {
          "metadata": {
            "tags": null
          },
          "name": "stdout",
          "output_type": "stream",
          "text": [
            "14/14 [==============================] - 0s 3ms/step\n"
          ]
        },
        {
          "metadata": {
            "tags": null
          },
          "name": "stderr",
          "output_type": "stream",
          "text": [
            "<ipython-input-30-84f19216e9c9>:14: FutureWarning: The frame.append method is deprecated and will be removed from pandas in a future version. Use pandas.concat instead.\n",
            "  ResultsCollection=ResultsCollection.append(IterResults, ignore_index=True)\n",
            "\r 10%|█         | 103/1012 [11:56<1:52:47,  7.45s/it]"
          ]
        },
        {
          "metadata": {
            "tags": null
          },
          "name": "stdout",
          "output_type": "stream",
          "text": [
            "14/14 [==============================] - 0s 3ms/step\n"
          ]
        },
        {
          "metadata": {
            "tags": null
          },
          "name": "stderr",
          "output_type": "stream",
          "text": [
            "<ipython-input-30-84f19216e9c9>:14: FutureWarning: The frame.append method is deprecated and will be removed from pandas in a future version. Use pandas.concat instead.\n",
            "  ResultsCollection=ResultsCollection.append(IterResults, ignore_index=True)\n",
            "\r 10%|█         | 104/1012 [12:04<1:53:33,  7.50s/it]"
          ]
        },
        {
          "metadata": {
            "tags": null
          },
          "name": "stdout",
          "output_type": "stream",
          "text": [
            "14/14 [==============================] - 0s 3ms/step\n"
          ]
        },
        {
          "metadata": {
            "tags": null
          },
          "name": "stderr",
          "output_type": "stream",
          "text": [
            "<ipython-input-30-84f19216e9c9>:14: FutureWarning: The frame.append method is deprecated and will be removed from pandas in a future version. Use pandas.concat instead.\n",
            "  ResultsCollection=ResultsCollection.append(IterResults, ignore_index=True)\n",
            "\r 10%|█         | 105/1012 [12:11<1:53:13,  7.49s/it]"
          ]
        },
        {
          "metadata": {
            "tags": null
          },
          "name": "stdout",
          "output_type": "stream",
          "text": [
            "14/14 [==============================] - 0s 3ms/step\n"
          ]
        },
        {
          "metadata": {
            "tags": null
          },
          "name": "stderr",
          "output_type": "stream",
          "text": [
            "<ipython-input-30-84f19216e9c9>:14: FutureWarning: The frame.append method is deprecated and will be removed from pandas in a future version. Use pandas.concat instead.\n",
            "  ResultsCollection=ResultsCollection.append(IterResults, ignore_index=True)\n",
            "\r 10%|█         | 106/1012 [12:19<1:53:10,  7.49s/it]"
          ]
        },
        {
          "metadata": {
            "tags": null
          },
          "name": "stdout",
          "output_type": "stream",
          "text": [
            "14/14 [==============================] - 0s 3ms/step\n"
          ]
        },
        {
          "metadata": {
            "tags": null
          },
          "name": "stderr",
          "output_type": "stream",
          "text": [
            "<ipython-input-30-84f19216e9c9>:14: FutureWarning: The frame.append method is deprecated and will be removed from pandas in a future version. Use pandas.concat instead.\n",
            "  ResultsCollection=ResultsCollection.append(IterResults, ignore_index=True)\n",
            "\r 11%|█         | 107/1012 [12:26<1:53:17,  7.51s/it]"
          ]
        },
        {
          "metadata": {
            "tags": null
          },
          "name": "stdout",
          "output_type": "stream",
          "text": [
            "14/14 [==============================] - 0s 3ms/step\n"
          ]
        },
        {
          "metadata": {
            "tags": null
          },
          "name": "stderr",
          "output_type": "stream",
          "text": [
            "<ipython-input-30-84f19216e9c9>:14: FutureWarning: The frame.append method is deprecated and will be removed from pandas in a future version. Use pandas.concat instead.\n",
            "  ResultsCollection=ResultsCollection.append(IterResults, ignore_index=True)\n",
            "\r 11%|█         | 108/1012 [12:34<1:53:04,  7.50s/it]"
          ]
        },
        {
          "metadata": {
            "tags": null
          },
          "name": "stdout",
          "output_type": "stream",
          "text": [
            "14/14 [==============================] - 0s 3ms/step\n"
          ]
        },
        {
          "metadata": {
            "tags": null
          },
          "name": "stderr",
          "output_type": "stream",
          "text": [
            "<ipython-input-30-84f19216e9c9>:14: FutureWarning: The frame.append method is deprecated and will be removed from pandas in a future version. Use pandas.concat instead.\n",
            "  ResultsCollection=ResultsCollection.append(IterResults, ignore_index=True)\n",
            "\r 11%|█         | 109/1012 [12:41<1:52:44,  7.49s/it]"
          ]
        },
        {
          "metadata": {
            "tags": null
          },
          "name": "stdout",
          "output_type": "stream",
          "text": [
            "14/14 [==============================] - 0s 3ms/step\n"
          ]
        },
        {
          "metadata": {
            "tags": null
          },
          "name": "stderr",
          "output_type": "stream",
          "text": [
            "<ipython-input-30-84f19216e9c9>:14: FutureWarning: The frame.append method is deprecated and will be removed from pandas in a future version. Use pandas.concat instead.\n",
            "  ResultsCollection=ResultsCollection.append(IterResults, ignore_index=True)\n",
            "\r 11%|█         | 110/1012 [12:49<1:53:07,  7.53s/it]"
          ]
        },
        {
          "metadata": {
            "tags": null
          },
          "name": "stdout",
          "output_type": "stream",
          "text": [
            "14/14 [==============================] - 0s 3ms/step\n"
          ]
        },
        {
          "metadata": {
            "tags": null
          },
          "name": "stderr",
          "output_type": "stream",
          "text": [
            "<ipython-input-30-84f19216e9c9>:14: FutureWarning: The frame.append method is deprecated and will be removed from pandas in a future version. Use pandas.concat instead.\n",
            "  ResultsCollection=ResultsCollection.append(IterResults, ignore_index=True)\n",
            "\r 11%|█         | 111/1012 [12:56<1:52:42,  7.51s/it]"
          ]
        },
        {
          "metadata": {
            "tags": null
          },
          "name": "stdout",
          "output_type": "stream",
          "text": [
            "14/14 [==============================] - 0s 3ms/step\n"
          ]
        },
        {
          "metadata": {
            "tags": null
          },
          "name": "stderr",
          "output_type": "stream",
          "text": [
            "<ipython-input-30-84f19216e9c9>:14: FutureWarning: The frame.append method is deprecated and will be removed from pandas in a future version. Use pandas.concat instead.\n",
            "  ResultsCollection=ResultsCollection.append(IterResults, ignore_index=True)\n",
            "\r 11%|█         | 112/1012 [13:04<1:52:31,  7.50s/it]"
          ]
        },
        {
          "metadata": {
            "tags": null
          },
          "name": "stdout",
          "output_type": "stream",
          "text": [
            "14/14 [==============================] - 0s 3ms/step\n"
          ]
        },
        {
          "metadata": {
            "tags": null
          },
          "name": "stderr",
          "output_type": "stream",
          "text": [
            "<ipython-input-30-84f19216e9c9>:14: FutureWarning: The frame.append method is deprecated and will be removed from pandas in a future version. Use pandas.concat instead.\n",
            "  ResultsCollection=ResultsCollection.append(IterResults, ignore_index=True)\n",
            "\r 11%|█         | 113/1012 [13:11<1:52:39,  7.52s/it]"
          ]
        },
        {
          "metadata": {
            "tags": null
          },
          "name": "stdout",
          "output_type": "stream",
          "text": [
            "14/14 [==============================] - 0s 3ms/step\n"
          ]
        },
        {
          "metadata": {
            "tags": null
          },
          "name": "stderr",
          "output_type": "stream",
          "text": [
            "<ipython-input-30-84f19216e9c9>:14: FutureWarning: The frame.append method is deprecated and will be removed from pandas in a future version. Use pandas.concat instead.\n",
            "  ResultsCollection=ResultsCollection.append(IterResults, ignore_index=True)\n",
            "\r 11%|█▏        | 114/1012 [13:19<1:52:22,  7.51s/it]"
          ]
        },
        {
          "metadata": {
            "tags": null
          },
          "name": "stdout",
          "output_type": "stream",
          "text": [
            "14/14 [==============================] - 0s 3ms/step\n"
          ]
        },
        {
          "metadata": {
            "tags": null
          },
          "name": "stderr",
          "output_type": "stream",
          "text": [
            "<ipython-input-30-84f19216e9c9>:14: FutureWarning: The frame.append method is deprecated and will be removed from pandas in a future version. Use pandas.concat instead.\n",
            "  ResultsCollection=ResultsCollection.append(IterResults, ignore_index=True)\n",
            "\r 11%|█▏        | 115/1012 [13:26<1:52:52,  7.55s/it]"
          ]
        },
        {
          "metadata": {
            "tags": null
          },
          "name": "stdout",
          "output_type": "stream",
          "text": [
            "14/14 [==============================] - 0s 3ms/step\n"
          ]
        },
        {
          "metadata": {
            "tags": null
          },
          "name": "stderr",
          "output_type": "stream",
          "text": [
            "<ipython-input-30-84f19216e9c9>:14: FutureWarning: The frame.append method is deprecated and will be removed from pandas in a future version. Use pandas.concat instead.\n",
            "  ResultsCollection=ResultsCollection.append(IterResults, ignore_index=True)\n",
            "\r 11%|█▏        | 116/1012 [13:34<1:52:31,  7.54s/it]"
          ]
        },
        {
          "metadata": {
            "tags": null
          },
          "name": "stdout",
          "output_type": "stream",
          "text": [
            "14/14 [==============================] - 0s 3ms/step\n"
          ]
        },
        {
          "metadata": {
            "tags": null
          },
          "name": "stderr",
          "output_type": "stream",
          "text": [
            "<ipython-input-30-84f19216e9c9>:14: FutureWarning: The frame.append method is deprecated and will be removed from pandas in a future version. Use pandas.concat instead.\n",
            "  ResultsCollection=ResultsCollection.append(IterResults, ignore_index=True)\n",
            "\r 12%|█▏        | 117/1012 [13:41<1:52:25,  7.54s/it]"
          ]
        },
        {
          "metadata": {
            "tags": null
          },
          "name": "stdout",
          "output_type": "stream",
          "text": [
            "14/14 [==============================] - 0s 3ms/step\n"
          ]
        },
        {
          "metadata": {
            "tags": null
          },
          "name": "stderr",
          "output_type": "stream",
          "text": [
            "<ipython-input-30-84f19216e9c9>:14: FutureWarning: The frame.append method is deprecated and will be removed from pandas in a future version. Use pandas.concat instead.\n",
            "  ResultsCollection=ResultsCollection.append(IterResults, ignore_index=True)\n",
            "\r 12%|█▏        | 118/1012 [13:49<1:52:44,  7.57s/it]"
          ]
        },
        {
          "metadata": {
            "tags": null
          },
          "name": "stdout",
          "output_type": "stream",
          "text": [
            "14/14 [==============================] - 0s 4ms/step\n"
          ]
        },
        {
          "metadata": {
            "tags": null
          },
          "name": "stderr",
          "output_type": "stream",
          "text": [
            "<ipython-input-30-84f19216e9c9>:14: FutureWarning: The frame.append method is deprecated and will be removed from pandas in a future version. Use pandas.concat instead.\n",
            "  ResultsCollection=ResultsCollection.append(IterResults, ignore_index=True)\n",
            "\r 12%|█▏        | 119/1012 [13:57<1:52:43,  7.57s/it]"
          ]
        },
        {
          "metadata": {
            "tags": null
          },
          "name": "stdout",
          "output_type": "stream",
          "text": [
            "14/14 [==============================] - 0s 3ms/step\n"
          ]
        },
        {
          "metadata": {
            "tags": null
          },
          "name": "stderr",
          "output_type": "stream",
          "text": [
            "<ipython-input-30-84f19216e9c9>:14: FutureWarning: The frame.append method is deprecated and will be removed from pandas in a future version. Use pandas.concat instead.\n",
            "  ResultsCollection=ResultsCollection.append(IterResults, ignore_index=True)\n",
            "\r 12%|█▏        | 120/1012 [14:04<1:52:31,  7.57s/it]"
          ]
        },
        {
          "metadata": {
            "tags": null
          },
          "name": "stdout",
          "output_type": "stream",
          "text": [
            "14/14 [==============================] - 0s 3ms/step\n"
          ]
        },
        {
          "metadata": {
            "tags": null
          },
          "name": "stderr",
          "output_type": "stream",
          "text": [
            "<ipython-input-30-84f19216e9c9>:14: FutureWarning: The frame.append method is deprecated and will be removed from pandas in a future version. Use pandas.concat instead.\n",
            "  ResultsCollection=ResultsCollection.append(IterResults, ignore_index=True)\n",
            "\r 12%|█▏        | 121/1012 [14:12<1:52:54,  7.60s/it]"
          ]
        },
        {
          "metadata": {
            "tags": null
          },
          "name": "stdout",
          "output_type": "stream",
          "text": [
            "14/14 [==============================] - 0s 3ms/step\n"
          ]
        },
        {
          "metadata": {
            "tags": null
          },
          "name": "stderr",
          "output_type": "stream",
          "text": [
            "<ipython-input-30-84f19216e9c9>:14: FutureWarning: The frame.append method is deprecated and will be removed from pandas in a future version. Use pandas.concat instead.\n",
            "  ResultsCollection=ResultsCollection.append(IterResults, ignore_index=True)\n",
            "\r 12%|█▏        | 122/1012 [14:20<1:52:45,  7.60s/it]"
          ]
        },
        {
          "metadata": {
            "tags": null
          },
          "name": "stdout",
          "output_type": "stream",
          "text": [
            "14/14 [==============================] - 0s 3ms/step\n"
          ]
        },
        {
          "metadata": {
            "tags": null
          },
          "name": "stderr",
          "output_type": "stream",
          "text": [
            "<ipython-input-30-84f19216e9c9>:14: FutureWarning: The frame.append method is deprecated and will be removed from pandas in a future version. Use pandas.concat instead.\n",
            "  ResultsCollection=ResultsCollection.append(IterResults, ignore_index=True)\n",
            "\r 12%|█▏        | 123/1012 [14:27<1:52:31,  7.59s/it]"
          ]
        },
        {
          "metadata": {
            "tags": null
          },
          "name": "stdout",
          "output_type": "stream",
          "text": [
            "14/14 [==============================] - 0s 3ms/step\n"
          ]
        },
        {
          "metadata": {
            "tags": null
          },
          "name": "stderr",
          "output_type": "stream",
          "text": [
            "<ipython-input-30-84f19216e9c9>:14: FutureWarning: The frame.append method is deprecated and will be removed from pandas in a future version. Use pandas.concat instead.\n",
            "  ResultsCollection=ResultsCollection.append(IterResults, ignore_index=True)\n",
            "\r 12%|█▏        | 124/1012 [14:35<1:53:36,  7.68s/it]"
          ]
        },
        {
          "metadata": {
            "tags": null
          },
          "name": "stdout",
          "output_type": "stream",
          "text": [
            "14/14 [==============================] - 0s 3ms/step\n"
          ]
        },
        {
          "metadata": {
            "tags": null
          },
          "name": "stderr",
          "output_type": "stream",
          "text": [
            "<ipython-input-30-84f19216e9c9>:14: FutureWarning: The frame.append method is deprecated and will be removed from pandas in a future version. Use pandas.concat instead.\n",
            "  ResultsCollection=ResultsCollection.append(IterResults, ignore_index=True)\n",
            "\r 12%|█▏        | 125/1012 [14:43<1:53:26,  7.67s/it]"
          ]
        },
        {
          "metadata": {
            "tags": null
          },
          "name": "stdout",
          "output_type": "stream",
          "text": [
            "14/14 [==============================] - 0s 3ms/step\n"
          ]
        },
        {
          "metadata": {
            "tags": null
          },
          "name": "stderr",
          "output_type": "stream",
          "text": [
            "<ipython-input-30-84f19216e9c9>:14: FutureWarning: The frame.append method is deprecated and will be removed from pandas in a future version. Use pandas.concat instead.\n",
            "  ResultsCollection=ResultsCollection.append(IterResults, ignore_index=True)\n",
            "\r 12%|█▏        | 126/1012 [14:50<1:53:52,  7.71s/it]"
          ]
        },
        {
          "metadata": {
            "tags": null
          },
          "name": "stdout",
          "output_type": "stream",
          "text": [
            "14/14 [==============================] - 0s 3ms/step\n"
          ]
        },
        {
          "metadata": {
            "tags": null
          },
          "name": "stderr",
          "output_type": "stream",
          "text": [
            "<ipython-input-30-84f19216e9c9>:14: FutureWarning: The frame.append method is deprecated and will be removed from pandas in a future version. Use pandas.concat instead.\n",
            "  ResultsCollection=ResultsCollection.append(IterResults, ignore_index=True)\n",
            "\r 13%|█▎        | 127/1012 [14:58<1:53:30,  7.70s/it]"
          ]
        },
        {
          "metadata": {
            "tags": null
          },
          "name": "stdout",
          "output_type": "stream",
          "text": [
            "14/14 [==============================] - 0s 3ms/step\n"
          ]
        },
        {
          "metadata": {
            "tags": null
          },
          "name": "stderr",
          "output_type": "stream",
          "text": [
            "<ipython-input-30-84f19216e9c9>:14: FutureWarning: The frame.append method is deprecated and will be removed from pandas in a future version. Use pandas.concat instead.\n",
            "  ResultsCollection=ResultsCollection.append(IterResults, ignore_index=True)\n",
            "\r 13%|█▎        | 128/1012 [15:06<1:54:22,  7.76s/it]"
          ]
        },
        {
          "metadata": {
            "tags": null
          },
          "name": "stdout",
          "output_type": "stream",
          "text": [
            "14/14 [==============================] - 0s 3ms/step\n"
          ]
        },
        {
          "metadata": {
            "tags": null
          },
          "name": "stderr",
          "output_type": "stream",
          "text": [
            "<ipython-input-30-84f19216e9c9>:14: FutureWarning: The frame.append method is deprecated and will be removed from pandas in a future version. Use pandas.concat instead.\n",
            "  ResultsCollection=ResultsCollection.append(IterResults, ignore_index=True)\n",
            "\r 13%|█▎        | 129/1012 [15:14<1:53:43,  7.73s/it]"
          ]
        },
        {
          "metadata": {
            "tags": null
          },
          "name": "stdout",
          "output_type": "stream",
          "text": [
            "14/14 [==============================] - 0s 3ms/step\n"
          ]
        },
        {
          "metadata": {
            "tags": null
          },
          "name": "stderr",
          "output_type": "stream",
          "text": [
            "<ipython-input-30-84f19216e9c9>:14: FutureWarning: The frame.append method is deprecated and will be removed from pandas in a future version. Use pandas.concat instead.\n",
            "  ResultsCollection=ResultsCollection.append(IterResults, ignore_index=True)\n",
            "\r 13%|█▎        | 130/1012 [15:22<1:54:11,  7.77s/it]"
          ]
        },
        {
          "metadata": {
            "tags": null
          },
          "name": "stdout",
          "output_type": "stream",
          "text": [
            "14/14 [==============================] - 0s 3ms/step\n"
          ]
        },
        {
          "metadata": {
            "tags": null
          },
          "name": "stderr",
          "output_type": "stream",
          "text": [
            "<ipython-input-30-84f19216e9c9>:14: FutureWarning: The frame.append method is deprecated and will be removed from pandas in a future version. Use pandas.concat instead.\n",
            "  ResultsCollection=ResultsCollection.append(IterResults, ignore_index=True)\n",
            "\r 13%|█▎        | 131/1012 [15:29<1:54:47,  7.82s/it]"
          ]
        },
        {
          "metadata": {
            "tags": null
          },
          "name": "stdout",
          "output_type": "stream",
          "text": [
            "14/14 [==============================] - 0s 3ms/step\n"
          ]
        },
        {
          "metadata": {
            "tags": null
          },
          "name": "stderr",
          "output_type": "stream",
          "text": [
            "<ipython-input-30-84f19216e9c9>:14: FutureWarning: The frame.append method is deprecated and will be removed from pandas in a future version. Use pandas.concat instead.\n",
            "  ResultsCollection=ResultsCollection.append(IterResults, ignore_index=True)\n",
            "\r 13%|█▎        | 132/1012 [15:37<1:54:20,  7.80s/it]"
          ]
        },
        {
          "metadata": {
            "tags": null
          },
          "name": "stdout",
          "output_type": "stream",
          "text": [
            "14/14 [==============================] - 0s 3ms/step\n"
          ]
        },
        {
          "metadata": {
            "tags": null
          },
          "name": "stderr",
          "output_type": "stream",
          "text": [
            "<ipython-input-30-84f19216e9c9>:14: FutureWarning: The frame.append method is deprecated and will be removed from pandas in a future version. Use pandas.concat instead.\n",
            "  ResultsCollection=ResultsCollection.append(IterResults, ignore_index=True)\n",
            "\r 13%|█▎        | 133/1012 [15:45<1:54:57,  7.85s/it]"
          ]
        },
        {
          "metadata": {
            "tags": null
          },
          "name": "stdout",
          "output_type": "stream",
          "text": [
            "14/14 [==============================] - 0s 3ms/step\n"
          ]
        },
        {
          "metadata": {
            "tags": null
          },
          "name": "stderr",
          "output_type": "stream",
          "text": [
            "<ipython-input-30-84f19216e9c9>:14: FutureWarning: The frame.append method is deprecated and will be removed from pandas in a future version. Use pandas.concat instead.\n",
            "  ResultsCollection=ResultsCollection.append(IterResults, ignore_index=True)\n",
            "\r 13%|█▎        | 134/1012 [15:53<1:54:36,  7.83s/it]"
          ]
        },
        {
          "metadata": {
            "tags": null
          },
          "name": "stdout",
          "output_type": "stream",
          "text": [
            "14/14 [==============================] - 0s 3ms/step\n"
          ]
        },
        {
          "metadata": {
            "tags": null
          },
          "name": "stderr",
          "output_type": "stream",
          "text": [
            "<ipython-input-30-84f19216e9c9>:14: FutureWarning: The frame.append method is deprecated and will be removed from pandas in a future version. Use pandas.concat instead.\n",
            "  ResultsCollection=ResultsCollection.append(IterResults, ignore_index=True)\n",
            "\r 13%|█▎        | 135/1012 [16:01<1:55:02,  7.87s/it]"
          ]
        },
        {
          "metadata": {
            "tags": null
          },
          "name": "stdout",
          "output_type": "stream",
          "text": [
            "14/14 [==============================] - 0s 3ms/step\n"
          ]
        },
        {
          "metadata": {
            "tags": null
          },
          "name": "stderr",
          "output_type": "stream",
          "text": [
            "<ipython-input-30-84f19216e9c9>:14: FutureWarning: The frame.append method is deprecated and will be removed from pandas in a future version. Use pandas.concat instead.\n",
            "  ResultsCollection=ResultsCollection.append(IterResults, ignore_index=True)\n",
            "\r 13%|█▎        | 136/1012 [16:09<1:54:32,  7.85s/it]"
          ]
        },
        {
          "metadata": {
            "tags": null
          },
          "name": "stdout",
          "output_type": "stream",
          "text": [
            "14/14 [==============================] - 0s 3ms/step\n"
          ]
        },
        {
          "metadata": {
            "tags": null
          },
          "name": "stderr",
          "output_type": "stream",
          "text": [
            "<ipython-input-30-84f19216e9c9>:14: FutureWarning: The frame.append method is deprecated and will be removed from pandas in a future version. Use pandas.concat instead.\n",
            "  ResultsCollection=ResultsCollection.append(IterResults, ignore_index=True)\n",
            "\r 14%|█▎        | 137/1012 [16:17<1:54:57,  7.88s/it]"
          ]
        },
        {
          "metadata": {
            "tags": null
          },
          "name": "stdout",
          "output_type": "stream",
          "text": [
            "14/14 [==============================] - 0s 3ms/step\n"
          ]
        },
        {
          "metadata": {
            "tags": null
          },
          "name": "stderr",
          "output_type": "stream",
          "text": [
            "<ipython-input-30-84f19216e9c9>:14: FutureWarning: The frame.append method is deprecated and will be removed from pandas in a future version. Use pandas.concat instead.\n",
            "  ResultsCollection=ResultsCollection.append(IterResults, ignore_index=True)\n",
            "\r 14%|█▎        | 138/1012 [16:25<1:54:34,  7.87s/it]"
          ]
        },
        {
          "metadata": {
            "tags": null
          },
          "name": "stdout",
          "output_type": "stream",
          "text": [
            "14/14 [==============================] - 0s 3ms/step\n"
          ]
        },
        {
          "metadata": {
            "tags": null
          },
          "name": "stderr",
          "output_type": "stream",
          "text": [
            "<ipython-input-30-84f19216e9c9>:14: FutureWarning: The frame.append method is deprecated and will be removed from pandas in a future version. Use pandas.concat instead.\n",
            "  ResultsCollection=ResultsCollection.append(IterResults, ignore_index=True)\n",
            "\r 14%|█▎        | 139/1012 [16:32<1:54:13,  7.85s/it]"
          ]
        },
        {
          "metadata": {
            "tags": null
          },
          "name": "stdout",
          "output_type": "stream",
          "text": [
            "14/14 [==============================] - 0s 3ms/step\n"
          ]
        },
        {
          "metadata": {
            "tags": null
          },
          "name": "stderr",
          "output_type": "stream",
          "text": [
            "<ipython-input-30-84f19216e9c9>:14: FutureWarning: The frame.append method is deprecated and will be removed from pandas in a future version. Use pandas.concat instead.\n",
            "  ResultsCollection=ResultsCollection.append(IterResults, ignore_index=True)\n",
            "\r 14%|█▍        | 140/1012 [16:40<1:54:35,  7.88s/it]"
          ]
        },
        {
          "metadata": {
            "tags": null
          },
          "name": "stdout",
          "output_type": "stream",
          "text": [
            "14/14 [==============================] - 0s 3ms/step\n"
          ]
        },
        {
          "metadata": {
            "tags": null
          },
          "name": "stderr",
          "output_type": "stream",
          "text": [
            "<ipython-input-30-84f19216e9c9>:14: FutureWarning: The frame.append method is deprecated and will be removed from pandas in a future version. Use pandas.concat instead.\n",
            "  ResultsCollection=ResultsCollection.append(IterResults, ignore_index=True)\n",
            "\r 14%|█▍        | 141/1012 [16:48<1:54:18,  7.87s/it]"
          ]
        },
        {
          "metadata": {
            "tags": null
          },
          "name": "stdout",
          "output_type": "stream",
          "text": [
            "14/14 [==============================] - 0s 3ms/step\n"
          ]
        },
        {
          "metadata": {
            "tags": null
          },
          "name": "stderr",
          "output_type": "stream",
          "text": [
            "<ipython-input-30-84f19216e9c9>:14: FutureWarning: The frame.append method is deprecated and will be removed from pandas in a future version. Use pandas.concat instead.\n",
            "  ResultsCollection=ResultsCollection.append(IterResults, ignore_index=True)\n",
            "\r 14%|█▍        | 142/1012 [16:56<1:54:21,  7.89s/it]"
          ]
        },
        {
          "metadata": {
            "tags": null
          },
          "name": "stdout",
          "output_type": "stream",
          "text": [
            "14/14 [==============================] - 0s 3ms/step\n"
          ]
        },
        {
          "metadata": {
            "tags": null
          },
          "name": "stderr",
          "output_type": "stream",
          "text": [
            "<ipython-input-30-84f19216e9c9>:14: FutureWarning: The frame.append method is deprecated and will be removed from pandas in a future version. Use pandas.concat instead.\n",
            "  ResultsCollection=ResultsCollection.append(IterResults, ignore_index=True)\n",
            "\r 14%|█▍        | 143/1012 [17:04<1:54:13,  7.89s/it]"
          ]
        },
        {
          "metadata": {
            "tags": null
          },
          "name": "stdout",
          "output_type": "stream",
          "text": [
            "14/14 [==============================] - 0s 3ms/step\n"
          ]
        },
        {
          "metadata": {
            "tags": null
          },
          "name": "stderr",
          "output_type": "stream",
          "text": [
            "<ipython-input-30-84f19216e9c9>:14: FutureWarning: The frame.append method is deprecated and will be removed from pandas in a future version. Use pandas.concat instead.\n",
            "  ResultsCollection=ResultsCollection.append(IterResults, ignore_index=True)\n",
            "\r 14%|█▍        | 144/1012 [17:12<1:53:42,  7.86s/it]"
          ]
        },
        {
          "metadata": {
            "tags": null
          },
          "name": "stdout",
          "output_type": "stream",
          "text": [
            "14/14 [==============================] - 0s 3ms/step\n"
          ]
        },
        {
          "metadata": {
            "tags": null
          },
          "name": "stderr",
          "output_type": "stream",
          "text": [
            "<ipython-input-30-84f19216e9c9>:14: FutureWarning: The frame.append method is deprecated and will be removed from pandas in a future version. Use pandas.concat instead.\n",
            "  ResultsCollection=ResultsCollection.append(IterResults, ignore_index=True)\n",
            "\r 14%|█▍        | 145/1012 [17:20<1:53:41,  7.87s/it]"
          ]
        },
        {
          "metadata": {
            "tags": null
          },
          "name": "stdout",
          "output_type": "stream",
          "text": [
            "14/14 [==============================] - 0s 3ms/step\n"
          ]
        },
        {
          "metadata": {
            "tags": null
          },
          "name": "stderr",
          "output_type": "stream",
          "text": [
            "<ipython-input-30-84f19216e9c9>:14: FutureWarning: The frame.append method is deprecated and will be removed from pandas in a future version. Use pandas.concat instead.\n",
            "  ResultsCollection=ResultsCollection.append(IterResults, ignore_index=True)\n",
            "\r 14%|█▍        | 146/1012 [17:28<1:53:41,  7.88s/it]"
          ]
        },
        {
          "metadata": {
            "tags": null
          },
          "name": "stdout",
          "output_type": "stream",
          "text": [
            "14/14 [==============================] - 0s 3ms/step\n"
          ]
        },
        {
          "metadata": {
            "tags": null
          },
          "name": "stderr",
          "output_type": "stream",
          "text": [
            "<ipython-input-30-84f19216e9c9>:14: FutureWarning: The frame.append method is deprecated and will be removed from pandas in a future version. Use pandas.concat instead.\n",
            "  ResultsCollection=ResultsCollection.append(IterResults, ignore_index=True)\n",
            "\r 15%|█▍        | 147/1012 [17:35<1:53:42,  7.89s/it]"
          ]
        },
        {
          "metadata": {
            "tags": null
          },
          "name": "stdout",
          "output_type": "stream",
          "text": [
            "14/14 [==============================] - 0s 3ms/step\n"
          ]
        },
        {
          "metadata": {
            "tags": null
          },
          "name": "stderr",
          "output_type": "stream",
          "text": [
            "<ipython-input-30-84f19216e9c9>:14: FutureWarning: The frame.append method is deprecated and will be removed from pandas in a future version. Use pandas.concat instead.\n",
            "  ResultsCollection=ResultsCollection.append(IterResults, ignore_index=True)\n",
            "\r 15%|█▍        | 148/1012 [17:43<1:53:49,  7.90s/it]"
          ]
        },
        {
          "metadata": {
            "tags": null
          },
          "name": "stdout",
          "output_type": "stream",
          "text": [
            "14/14 [==============================] - 0s 3ms/step\n"
          ]
        },
        {
          "metadata": {
            "tags": null
          },
          "name": "stderr",
          "output_type": "stream",
          "text": [
            "<ipython-input-30-84f19216e9c9>:14: FutureWarning: The frame.append method is deprecated and will be removed from pandas in a future version. Use pandas.concat instead.\n",
            "  ResultsCollection=ResultsCollection.append(IterResults, ignore_index=True)\n",
            "\r 15%|█▍        | 149/1012 [17:51<1:54:00,  7.93s/it]"
          ]
        },
        {
          "metadata": {
            "tags": null
          },
          "name": "stdout",
          "output_type": "stream",
          "text": [
            "14/14 [==============================] - 0s 4ms/step\n"
          ]
        },
        {
          "metadata": {
            "tags": null
          },
          "name": "stderr",
          "output_type": "stream",
          "text": [
            "<ipython-input-30-84f19216e9c9>:14: FutureWarning: The frame.append method is deprecated and will be removed from pandas in a future version. Use pandas.concat instead.\n",
            "  ResultsCollection=ResultsCollection.append(IterResults, ignore_index=True)\n",
            "\r 15%|█▍        | 150/1012 [17:59<1:54:02,  7.94s/it]"
          ]
        },
        {
          "metadata": {
            "tags": null
          },
          "name": "stdout",
          "output_type": "stream",
          "text": [
            "14/14 [==============================] - 0s 3ms/step\n"
          ]
        },
        {
          "metadata": {
            "tags": null
          },
          "name": "stderr",
          "output_type": "stream",
          "text": [
            "<ipython-input-30-84f19216e9c9>:14: FutureWarning: The frame.append method is deprecated and will be removed from pandas in a future version. Use pandas.concat instead.\n",
            "  ResultsCollection=ResultsCollection.append(IterResults, ignore_index=True)\n",
            "\r 15%|█▍        | 151/1012 [18:07<1:54:38,  7.99s/it]"
          ]
        },
        {
          "metadata": {
            "tags": null
          },
          "name": "stdout",
          "output_type": "stream",
          "text": [
            "14/14 [==============================] - 1s 5ms/step\n"
          ]
        },
        {
          "metadata": {
            "tags": null
          },
          "name": "stderr",
          "output_type": "stream",
          "text": [
            "<ipython-input-30-84f19216e9c9>:14: FutureWarning: The frame.append method is deprecated and will be removed from pandas in a future version. Use pandas.concat instead.\n",
            "  ResultsCollection=ResultsCollection.append(IterResults, ignore_index=True)\n",
            "\r 15%|█▌        | 152/1012 [18:16<1:56:40,  8.14s/it]"
          ]
        },
        {
          "metadata": {
            "tags": null
          },
          "name": "stdout",
          "output_type": "stream",
          "text": [
            "14/14 [==============================] - 1s 4ms/step\n"
          ]
        },
        {
          "metadata": {
            "tags": null
          },
          "name": "stderr",
          "output_type": "stream",
          "text": [
            "<ipython-input-30-84f19216e9c9>:14: FutureWarning: The frame.append method is deprecated and will be removed from pandas in a future version. Use pandas.concat instead.\n",
            "  ResultsCollection=ResultsCollection.append(IterResults, ignore_index=True)\n",
            "\r 15%|█▌        | 153/1012 [18:27<2:08:58,  9.01s/it]"
          ]
        },
        {
          "metadata": {
            "tags": null
          },
          "name": "stdout",
          "output_type": "stream",
          "text": [
            "14/14 [==============================] - 0s 3ms/step\n"
          ]
        },
        {
          "metadata": {
            "tags": null
          },
          "name": "stderr",
          "output_type": "stream",
          "text": [
            "<ipython-input-30-84f19216e9c9>:14: FutureWarning: The frame.append method is deprecated and will be removed from pandas in a future version. Use pandas.concat instead.\n",
            "  ResultsCollection=ResultsCollection.append(IterResults, ignore_index=True)\n",
            "\r 15%|█▌        | 154/1012 [18:35<2:06:36,  8.85s/it]"
          ]
        },
        {
          "metadata": {
            "tags": null
          },
          "name": "stdout",
          "output_type": "stream",
          "text": [
            "14/14 [==============================] - 0s 4ms/step\n"
          ]
        },
        {
          "metadata": {
            "tags": null
          },
          "name": "stderr",
          "output_type": "stream",
          "text": [
            "<ipython-input-30-84f19216e9c9>:14: FutureWarning: The frame.append method is deprecated and will be removed from pandas in a future version. Use pandas.concat instead.\n",
            "  ResultsCollection=ResultsCollection.append(IterResults, ignore_index=True)\n",
            "\r 15%|█▌        | 155/1012 [18:44<2:03:53,  8.67s/it]"
          ]
        },
        {
          "metadata": {
            "tags": null
          },
          "name": "stdout",
          "output_type": "stream",
          "text": [
            "14/14 [==============================] - 0s 3ms/step\n"
          ]
        },
        {
          "metadata": {
            "tags": null
          },
          "name": "stderr",
          "output_type": "stream",
          "text": [
            "<ipython-input-30-84f19216e9c9>:14: FutureWarning: The frame.append method is deprecated and will be removed from pandas in a future version. Use pandas.concat instead.\n",
            "  ResultsCollection=ResultsCollection.append(IterResults, ignore_index=True)\n",
            "\r 15%|█▌        | 156/1012 [18:55<2:13:14,  9.34s/it]"
          ]
        },
        {
          "metadata": {
            "tags": null
          },
          "name": "stdout",
          "output_type": "stream",
          "text": [
            "14/14 [==============================] - 1s 3ms/step\n"
          ]
        },
        {
          "metadata": {
            "tags": null
          },
          "name": "stderr",
          "output_type": "stream",
          "text": [
            "<ipython-input-30-84f19216e9c9>:14: FutureWarning: The frame.append method is deprecated and will be removed from pandas in a future version. Use pandas.concat instead.\n",
            "  ResultsCollection=ResultsCollection.append(IterResults, ignore_index=True)\n",
            "\r 16%|█▌        | 157/1012 [19:03<2:08:45,  9.04s/it]"
          ]
        },
        {
          "metadata": {
            "tags": null
          },
          "name": "stdout",
          "output_type": "stream",
          "text": [
            "14/14 [==============================] - 0s 4ms/step\n"
          ]
        },
        {
          "metadata": {
            "tags": null
          },
          "name": "stderr",
          "output_type": "stream",
          "text": [
            "<ipython-input-30-84f19216e9c9>:14: FutureWarning: The frame.append method is deprecated and will be removed from pandas in a future version. Use pandas.concat instead.\n",
            "  ResultsCollection=ResultsCollection.append(IterResults, ignore_index=True)\n",
            "\r 16%|█▌        | 158/1012 [19:11<2:06:26,  8.88s/it]"
          ]
        },
        {
          "metadata": {
            "tags": null
          },
          "name": "stdout",
          "output_type": "stream",
          "text": [
            "14/14 [==============================] - 0s 4ms/step\n"
          ]
        },
        {
          "metadata": {
            "tags": null
          },
          "name": "stderr",
          "output_type": "stream",
          "text": [
            "<ipython-input-30-84f19216e9c9>:14: FutureWarning: The frame.append method is deprecated and will be removed from pandas in a future version. Use pandas.concat instead.\n",
            "  ResultsCollection=ResultsCollection.append(IterResults, ignore_index=True)\n",
            "\r 16%|█▌        | 159/1012 [19:20<2:03:54,  8.72s/it]"
          ]
        },
        {
          "metadata": {
            "tags": null
          },
          "name": "stdout",
          "output_type": "stream",
          "text": [
            "14/14 [==============================] - 0s 3ms/step\n"
          ]
        },
        {
          "metadata": {
            "tags": null
          },
          "name": "stderr",
          "output_type": "stream",
          "text": [
            "<ipython-input-30-84f19216e9c9>:14: FutureWarning: The frame.append method is deprecated and will be removed from pandas in a future version. Use pandas.concat instead.\n",
            "  ResultsCollection=ResultsCollection.append(IterResults, ignore_index=True)\n",
            "\r 16%|█▌        | 160/1012 [19:28<2:02:19,  8.61s/it]"
          ]
        },
        {
          "metadata": {
            "tags": null
          },
          "name": "stdout",
          "output_type": "stream",
          "text": [
            "14/14 [==============================] - 0s 3ms/step\n"
          ]
        },
        {
          "metadata": {
            "tags": null
          },
          "name": "stderr",
          "output_type": "stream",
          "text": [
            "<ipython-input-30-84f19216e9c9>:14: FutureWarning: The frame.append method is deprecated and will be removed from pandas in a future version. Use pandas.concat instead.\n",
            "  ResultsCollection=ResultsCollection.append(IterResults, ignore_index=True)\n",
            "\r 16%|█▌        | 161/1012 [19:37<2:01:09,  8.54s/it]"
          ]
        },
        {
          "metadata": {
            "tags": null
          },
          "name": "stdout",
          "output_type": "stream",
          "text": [
            "14/14 [==============================] - 0s 3ms/step\n"
          ]
        },
        {
          "metadata": {
            "tags": null
          },
          "name": "stderr",
          "output_type": "stream",
          "text": [
            "<ipython-input-30-84f19216e9c9>:14: FutureWarning: The frame.append method is deprecated and will be removed from pandas in a future version. Use pandas.concat instead.\n",
            "  ResultsCollection=ResultsCollection.append(IterResults, ignore_index=True)\n",
            "\r 16%|█▌        | 162/1012 [19:45<1:59:51,  8.46s/it]"
          ]
        },
        {
          "metadata": {
            "tags": null
          },
          "name": "stdout",
          "output_type": "stream",
          "text": [
            "14/14 [==============================] - 0s 3ms/step\n"
          ]
        },
        {
          "metadata": {
            "tags": null
          },
          "name": "stderr",
          "output_type": "stream",
          "text": [
            "<ipython-input-30-84f19216e9c9>:14: FutureWarning: The frame.append method is deprecated and will be removed from pandas in a future version. Use pandas.concat instead.\n",
            "  ResultsCollection=ResultsCollection.append(IterResults, ignore_index=True)\n",
            "\r 16%|█▌        | 163/1012 [19:53<1:58:12,  8.35s/it]"
          ]
        },
        {
          "metadata": {
            "tags": null
          },
          "name": "stdout",
          "output_type": "stream",
          "text": [
            "14/14 [==============================] - 0s 3ms/step\n"
          ]
        },
        {
          "metadata": {
            "tags": null
          },
          "name": "stderr",
          "output_type": "stream",
          "text": [
            "<ipython-input-30-84f19216e9c9>:14: FutureWarning: The frame.append method is deprecated and will be removed from pandas in a future version. Use pandas.concat instead.\n",
            "  ResultsCollection=ResultsCollection.append(IterResults, ignore_index=True)\n",
            "\r 16%|█▌        | 164/1012 [20:01<1:57:40,  8.33s/it]"
          ]
        },
        {
          "metadata": {
            "tags": null
          },
          "name": "stdout",
          "output_type": "stream",
          "text": [
            "14/14 [==============================] - 0s 3ms/step\n"
          ]
        },
        {
          "metadata": {
            "tags": null
          },
          "name": "stderr",
          "output_type": "stream",
          "text": [
            "<ipython-input-30-84f19216e9c9>:14: FutureWarning: The frame.append method is deprecated and will be removed from pandas in a future version. Use pandas.concat instead.\n",
            "  ResultsCollection=ResultsCollection.append(IterResults, ignore_index=True)\n",
            "\r 16%|█▋        | 165/1012 [20:10<1:58:07,  8.37s/it]"
          ]
        },
        {
          "metadata": {
            "tags": null
          },
          "name": "stdout",
          "output_type": "stream",
          "text": [
            "14/14 [==============================] - 0s 4ms/step\n"
          ]
        },
        {
          "metadata": {
            "tags": null
          },
          "name": "stderr",
          "output_type": "stream",
          "text": [
            "<ipython-input-30-84f19216e9c9>:14: FutureWarning: The frame.append method is deprecated and will be removed from pandas in a future version. Use pandas.concat instead.\n",
            "  ResultsCollection=ResultsCollection.append(IterResults, ignore_index=True)\n",
            "\r 16%|█▋        | 166/1012 [20:18<1:58:03,  8.37s/it]"
          ]
        },
        {
          "metadata": {
            "tags": null
          },
          "name": "stdout",
          "output_type": "stream",
          "text": [
            "14/14 [==============================] - 0s 3ms/step\n"
          ]
        },
        {
          "metadata": {
            "tags": null
          },
          "name": "stderr",
          "output_type": "stream",
          "text": [
            "<ipython-input-30-84f19216e9c9>:14: FutureWarning: The frame.append method is deprecated and will be removed from pandas in a future version. Use pandas.concat instead.\n",
            "  ResultsCollection=ResultsCollection.append(IterResults, ignore_index=True)\n",
            "\r 17%|█▋        | 167/1012 [20:26<1:57:14,  8.32s/it]"
          ]
        },
        {
          "metadata": {
            "tags": null
          },
          "name": "stdout",
          "output_type": "stream",
          "text": [
            "14/14 [==============================] - 1s 4ms/step\n"
          ]
        },
        {
          "metadata": {
            "tags": null
          },
          "name": "stderr",
          "output_type": "stream",
          "text": [
            "<ipython-input-30-84f19216e9c9>:14: FutureWarning: The frame.append method is deprecated and will be removed from pandas in a future version. Use pandas.concat instead.\n",
            "  ResultsCollection=ResultsCollection.append(IterResults, ignore_index=True)\n",
            "\r 17%|█▋        | 168/1012 [20:35<1:58:14,  8.41s/it]"
          ]
        },
        {
          "metadata": {
            "tags": null
          },
          "name": "stdout",
          "output_type": "stream",
          "text": [
            "14/14 [==============================] - 1s 3ms/step\n"
          ]
        },
        {
          "metadata": {
            "tags": null
          },
          "name": "stderr",
          "output_type": "stream",
          "text": [
            "<ipython-input-30-84f19216e9c9>:14: FutureWarning: The frame.append method is deprecated and will be removed from pandas in a future version. Use pandas.concat instead.\n",
            "  ResultsCollection=ResultsCollection.append(IterResults, ignore_index=True)\n",
            "\r 17%|█▋        | 169/1012 [20:43<1:58:05,  8.40s/it]"
          ]
        },
        {
          "metadata": {
            "tags": null
          },
          "name": "stdout",
          "output_type": "stream",
          "text": [
            "14/14 [==============================] - 0s 3ms/step\n"
          ]
        },
        {
          "metadata": {
            "tags": null
          },
          "name": "stderr",
          "output_type": "stream",
          "text": [
            "<ipython-input-30-84f19216e9c9>:14: FutureWarning: The frame.append method is deprecated and will be removed from pandas in a future version. Use pandas.concat instead.\n",
            "  ResultsCollection=ResultsCollection.append(IterResults, ignore_index=True)\n",
            "\r 17%|█▋        | 170/1012 [20:52<1:58:06,  8.42s/it]"
          ]
        },
        {
          "metadata": {
            "tags": null
          },
          "name": "stdout",
          "output_type": "stream",
          "text": [
            "14/14 [==============================] - 0s 3ms/step\n"
          ]
        },
        {
          "metadata": {
            "tags": null
          },
          "name": "stderr",
          "output_type": "stream",
          "text": [
            "<ipython-input-30-84f19216e9c9>:14: FutureWarning: The frame.append method is deprecated and will be removed from pandas in a future version. Use pandas.concat instead.\n",
            "  ResultsCollection=ResultsCollection.append(IterResults, ignore_index=True)\n",
            "\r 17%|█▋        | 171/1012 [21:00<1:58:13,  8.43s/it]"
          ]
        },
        {
          "metadata": {
            "tags": null
          },
          "name": "stdout",
          "output_type": "stream",
          "text": [
            "14/14 [==============================] - 1s 4ms/step\n"
          ]
        },
        {
          "metadata": {
            "tags": null
          },
          "name": "stderr",
          "output_type": "stream",
          "text": [
            "<ipython-input-30-84f19216e9c9>:14: FutureWarning: The frame.append method is deprecated and will be removed from pandas in a future version. Use pandas.concat instead.\n",
            "  ResultsCollection=ResultsCollection.append(IterResults, ignore_index=True)\n",
            "\r 17%|█▋        | 172/1012 [21:09<1:58:29,  8.46s/it]"
          ]
        },
        {
          "metadata": {
            "tags": null
          },
          "name": "stdout",
          "output_type": "stream",
          "text": [
            "14/14 [==============================] - 0s 3ms/step\n"
          ]
        },
        {
          "metadata": {
            "tags": null
          },
          "name": "stderr",
          "output_type": "stream",
          "text": [
            "<ipython-input-30-84f19216e9c9>:14: FutureWarning: The frame.append method is deprecated and will be removed from pandas in a future version. Use pandas.concat instead.\n",
            "  ResultsCollection=ResultsCollection.append(IterResults, ignore_index=True)\n",
            "\r 17%|█▋        | 173/1012 [21:17<1:58:31,  8.48s/it]"
          ]
        },
        {
          "metadata": {
            "tags": null
          },
          "name": "stdout",
          "output_type": "stream",
          "text": [
            "14/14 [==============================] - 0s 3ms/step\n"
          ]
        },
        {
          "metadata": {
            "tags": null
          },
          "name": "stderr",
          "output_type": "stream",
          "text": [
            "<ipython-input-30-84f19216e9c9>:14: FutureWarning: The frame.append method is deprecated and will be removed from pandas in a future version. Use pandas.concat instead.\n",
            "  ResultsCollection=ResultsCollection.append(IterResults, ignore_index=True)\n",
            "\r 17%|█▋        | 174/1012 [21:26<1:57:47,  8.43s/it]"
          ]
        },
        {
          "metadata": {
            "tags": null
          },
          "name": "stdout",
          "output_type": "stream",
          "text": [
            "14/14 [==============================] - 0s 3ms/step\n"
          ]
        },
        {
          "metadata": {
            "tags": null
          },
          "name": "stderr",
          "output_type": "stream",
          "text": [
            "<ipython-input-30-84f19216e9c9>:14: FutureWarning: The frame.append method is deprecated and will be removed from pandas in a future version. Use pandas.concat instead.\n",
            "  ResultsCollection=ResultsCollection.append(IterResults, ignore_index=True)\n",
            "\r 17%|█▋        | 175/1012 [21:34<1:57:45,  8.44s/it]"
          ]
        },
        {
          "metadata": {
            "tags": null
          },
          "name": "stdout",
          "output_type": "stream",
          "text": [
            "14/14 [==============================] - 0s 3ms/step\n"
          ]
        },
        {
          "metadata": {
            "tags": null
          },
          "name": "stderr",
          "output_type": "stream",
          "text": [
            "<ipython-input-30-84f19216e9c9>:14: FutureWarning: The frame.append method is deprecated and will be removed from pandas in a future version. Use pandas.concat instead.\n",
            "  ResultsCollection=ResultsCollection.append(IterResults, ignore_index=True)\n",
            "\r 17%|█▋        | 176/1012 [21:42<1:57:31,  8.43s/it]"
          ]
        },
        {
          "metadata": {
            "tags": null
          },
          "name": "stdout",
          "output_type": "stream",
          "text": [
            "14/14 [==============================] - 0s 4ms/step\n"
          ]
        },
        {
          "metadata": {
            "tags": null
          },
          "name": "stderr",
          "output_type": "stream",
          "text": [
            "<ipython-input-30-84f19216e9c9>:14: FutureWarning: The frame.append method is deprecated and will be removed from pandas in a future version. Use pandas.concat instead.\n",
            "  ResultsCollection=ResultsCollection.append(IterResults, ignore_index=True)\n",
            "\r 17%|█▋        | 177/1012 [21:51<1:57:47,  8.46s/it]"
          ]
        },
        {
          "metadata": {
            "tags": null
          },
          "name": "stdout",
          "output_type": "stream",
          "text": [
            "14/14 [==============================] - 0s 3ms/step\n"
          ]
        },
        {
          "metadata": {
            "tags": null
          },
          "name": "stderr",
          "output_type": "stream",
          "text": [
            "<ipython-input-30-84f19216e9c9>:14: FutureWarning: The frame.append method is deprecated and will be removed from pandas in a future version. Use pandas.concat instead.\n",
            "  ResultsCollection=ResultsCollection.append(IterResults, ignore_index=True)\n",
            "\r 18%|█▊        | 178/1012 [22:00<1:58:16,  8.51s/it]"
          ]
        },
        {
          "metadata": {
            "tags": null
          },
          "name": "stdout",
          "output_type": "stream",
          "text": [
            "14/14 [==============================] - 0s 3ms/step\n"
          ]
        },
        {
          "metadata": {
            "tags": null
          },
          "name": "stderr",
          "output_type": "stream",
          "text": [
            "<ipython-input-30-84f19216e9c9>:14: FutureWarning: The frame.append method is deprecated and will be removed from pandas in a future version. Use pandas.concat instead.\n",
            "  ResultsCollection=ResultsCollection.append(IterResults, ignore_index=True)\n",
            "\r 18%|█▊        | 179/1012 [22:08<1:58:27,  8.53s/it]"
          ]
        },
        {
          "metadata": {
            "tags": null
          },
          "name": "stdout",
          "output_type": "stream",
          "text": [
            "14/14 [==============================] - 0s 4ms/step\n"
          ]
        },
        {
          "metadata": {
            "tags": null
          },
          "name": "stderr",
          "output_type": "stream",
          "text": [
            "<ipython-input-30-84f19216e9c9>:14: FutureWarning: The frame.append method is deprecated and will be removed from pandas in a future version. Use pandas.concat instead.\n",
            "  ResultsCollection=ResultsCollection.append(IterResults, ignore_index=True)\n",
            "\r 18%|█▊        | 180/1012 [22:17<1:57:59,  8.51s/it]"
          ]
        },
        {
          "metadata": {
            "tags": null
          },
          "name": "stdout",
          "output_type": "stream",
          "text": [
            "14/14 [==============================] - 0s 3ms/step\n"
          ]
        },
        {
          "metadata": {
            "tags": null
          },
          "name": "stderr",
          "output_type": "stream",
          "text": [
            "<ipython-input-30-84f19216e9c9>:14: FutureWarning: The frame.append method is deprecated and will be removed from pandas in a future version. Use pandas.concat instead.\n",
            "  ResultsCollection=ResultsCollection.append(IterResults, ignore_index=True)\n",
            "\r 18%|█▊        | 181/1012 [22:25<1:58:03,  8.52s/it]"
          ]
        },
        {
          "metadata": {
            "tags": null
          },
          "name": "stdout",
          "output_type": "stream",
          "text": [
            "14/14 [==============================] - 0s 3ms/step\n"
          ]
        },
        {
          "metadata": {
            "tags": null
          },
          "name": "stderr",
          "output_type": "stream",
          "text": [
            "<ipython-input-30-84f19216e9c9>:14: FutureWarning: The frame.append method is deprecated and will be removed from pandas in a future version. Use pandas.concat instead.\n",
            "  ResultsCollection=ResultsCollection.append(IterResults, ignore_index=True)\n",
            "\r 18%|█▊        | 182/1012 [22:34<1:58:18,  8.55s/it]"
          ]
        },
        {
          "metadata": {
            "tags": null
          },
          "name": "stdout",
          "output_type": "stream",
          "text": [
            "14/14 [==============================] - 0s 3ms/step\n"
          ]
        },
        {
          "metadata": {
            "tags": null
          },
          "name": "stderr",
          "output_type": "stream",
          "text": [
            "<ipython-input-30-84f19216e9c9>:14: FutureWarning: The frame.append method is deprecated and will be removed from pandas in a future version. Use pandas.concat instead.\n",
            "  ResultsCollection=ResultsCollection.append(IterResults, ignore_index=True)\n",
            "\r 18%|█▊        | 183/1012 [22:42<1:57:36,  8.51s/it]"
          ]
        },
        {
          "metadata": {
            "tags": null
          },
          "name": "stdout",
          "output_type": "stream",
          "text": [
            "14/14 [==============================] - 0s 3ms/step\n"
          ]
        },
        {
          "metadata": {
            "tags": null
          },
          "name": "stderr",
          "output_type": "stream",
          "text": [
            "<ipython-input-30-84f19216e9c9>:14: FutureWarning: The frame.append method is deprecated and will be removed from pandas in a future version. Use pandas.concat instead.\n",
            "  ResultsCollection=ResultsCollection.append(IterResults, ignore_index=True)\n",
            "\r 18%|█▊        | 184/1012 [22:51<1:56:58,  8.48s/it]"
          ]
        },
        {
          "metadata": {
            "tags": null
          },
          "name": "stdout",
          "output_type": "stream",
          "text": [
            "14/14 [==============================] - 0s 4ms/step\n"
          ]
        },
        {
          "metadata": {
            "tags": null
          },
          "name": "stderr",
          "output_type": "stream",
          "text": [
            "<ipython-input-30-84f19216e9c9>:14: FutureWarning: The frame.append method is deprecated and will be removed from pandas in a future version. Use pandas.concat instead.\n",
            "  ResultsCollection=ResultsCollection.append(IterResults, ignore_index=True)\n",
            "\r 18%|█▊        | 185/1012 [22:59<1:57:29,  8.52s/it]"
          ]
        },
        {
          "metadata": {
            "tags": null
          },
          "name": "stdout",
          "output_type": "stream",
          "text": [
            "14/14 [==============================] - 0s 3ms/step\n"
          ]
        },
        {
          "metadata": {
            "tags": null
          },
          "name": "stderr",
          "output_type": "stream",
          "text": [
            "<ipython-input-30-84f19216e9c9>:14: FutureWarning: The frame.append method is deprecated and will be removed from pandas in a future version. Use pandas.concat instead.\n",
            "  ResultsCollection=ResultsCollection.append(IterResults, ignore_index=True)\n",
            "\r 18%|█▊        | 186/1012 [23:08<1:57:30,  8.54s/it]"
          ]
        },
        {
          "metadata": {
            "tags": null
          },
          "name": "stdout",
          "output_type": "stream",
          "text": [
            "14/14 [==============================] - 0s 3ms/step\n"
          ]
        },
        {
          "metadata": {
            "tags": null
          },
          "name": "stderr",
          "output_type": "stream",
          "text": [
            "<ipython-input-30-84f19216e9c9>:14: FutureWarning: The frame.append method is deprecated and will be removed from pandas in a future version. Use pandas.concat instead.\n",
            "  ResultsCollection=ResultsCollection.append(IterResults, ignore_index=True)\n",
            "\r 18%|█▊        | 187/1012 [23:16<1:57:01,  8.51s/it]"
          ]
        },
        {
          "metadata": {
            "tags": null
          },
          "name": "stdout",
          "output_type": "stream",
          "text": [
            "14/14 [==============================] - 0s 3ms/step\n"
          ]
        },
        {
          "metadata": {
            "tags": null
          },
          "name": "stderr",
          "output_type": "stream",
          "text": [
            "<ipython-input-30-84f19216e9c9>:14: FutureWarning: The frame.append method is deprecated and will be removed from pandas in a future version. Use pandas.concat instead.\n",
            "  ResultsCollection=ResultsCollection.append(IterResults, ignore_index=True)\n",
            "\r 19%|█▊        | 188/1012 [23:25<1:57:31,  8.56s/it]"
          ]
        },
        {
          "metadata": {
            "tags": null
          },
          "name": "stdout",
          "output_type": "stream",
          "text": [
            "14/14 [==============================] - 0s 3ms/step\n"
          ]
        },
        {
          "metadata": {
            "tags": null
          },
          "name": "stderr",
          "output_type": "stream",
          "text": [
            "<ipython-input-30-84f19216e9c9>:14: FutureWarning: The frame.append method is deprecated and will be removed from pandas in a future version. Use pandas.concat instead.\n",
            "  ResultsCollection=ResultsCollection.append(IterResults, ignore_index=True)\n",
            "\r 19%|█▊        | 189/1012 [23:34<1:57:37,  8.58s/it]"
          ]
        },
        {
          "metadata": {
            "tags": null
          },
          "name": "stdout",
          "output_type": "stream",
          "text": [
            "14/14 [==============================] - 0s 3ms/step\n"
          ]
        },
        {
          "metadata": {
            "tags": null
          },
          "name": "stderr",
          "output_type": "stream",
          "text": [
            "<ipython-input-30-84f19216e9c9>:14: FutureWarning: The frame.append method is deprecated and will be removed from pandas in a future version. Use pandas.concat instead.\n",
            "  ResultsCollection=ResultsCollection.append(IterResults, ignore_index=True)\n",
            "\r 19%|█▉        | 190/1012 [23:42<1:58:59,  8.69s/it]"
          ]
        },
        {
          "metadata": {
            "tags": null
          },
          "name": "stdout",
          "output_type": "stream",
          "text": [
            "14/14 [==============================] - 0s 3ms/step\n"
          ]
        },
        {
          "metadata": {
            "tags": null
          },
          "name": "stderr",
          "output_type": "stream",
          "text": [
            "<ipython-input-30-84f19216e9c9>:14: FutureWarning: The frame.append method is deprecated and will be removed from pandas in a future version. Use pandas.concat instead.\n",
            "  ResultsCollection=ResultsCollection.append(IterResults, ignore_index=True)\n",
            "\r 19%|█▉        | 191/1012 [23:51<1:59:24,  8.73s/it]"
          ]
        },
        {
          "metadata": {
            "tags": null
          },
          "name": "stdout",
          "output_type": "stream",
          "text": [
            "14/14 [==============================] - 1s 4ms/step\n"
          ]
        },
        {
          "metadata": {
            "tags": null
          },
          "name": "stderr",
          "output_type": "stream",
          "text": [
            "<ipython-input-30-84f19216e9c9>:14: FutureWarning: The frame.append method is deprecated and will be removed from pandas in a future version. Use pandas.concat instead.\n",
            "  ResultsCollection=ResultsCollection.append(IterResults, ignore_index=True)\n",
            "\r 19%|█▉        | 192/1012 [24:01<2:01:19,  8.88s/it]"
          ]
        },
        {
          "metadata": {
            "tags": null
          },
          "name": "stdout",
          "output_type": "stream",
          "text": [
            "14/14 [==============================] - 1s 4ms/step\n"
          ]
        },
        {
          "metadata": {
            "tags": null
          },
          "name": "stderr",
          "output_type": "stream",
          "text": [
            "<ipython-input-30-84f19216e9c9>:14: FutureWarning: The frame.append method is deprecated and will be removed from pandas in a future version. Use pandas.concat instead.\n",
            "  ResultsCollection=ResultsCollection.append(IterResults, ignore_index=True)\n",
            "\r 19%|█▉        | 193/1012 [24:10<2:04:14,  9.10s/it]"
          ]
        },
        {
          "metadata": {
            "tags": null
          },
          "name": "stdout",
          "output_type": "stream",
          "text": [
            "14/14 [==============================] - 1s 4ms/step\n"
          ]
        },
        {
          "metadata": {
            "tags": null
          },
          "name": "stderr",
          "output_type": "stream",
          "text": [
            "<ipython-input-30-84f19216e9c9>:14: FutureWarning: The frame.append method is deprecated and will be removed from pandas in a future version. Use pandas.concat instead.\n",
            "  ResultsCollection=ResultsCollection.append(IterResults, ignore_index=True)\n",
            "\r 19%|█▉        | 194/1012 [24:20<2:05:16,  9.19s/it]"
          ]
        },
        {
          "metadata": {
            "tags": null
          },
          "name": "stdout",
          "output_type": "stream",
          "text": [
            "14/14 [==============================] - 0s 3ms/step\n"
          ]
        },
        {
          "metadata": {
            "tags": null
          },
          "name": "stderr",
          "output_type": "stream",
          "text": [
            "<ipython-input-30-84f19216e9c9>:14: FutureWarning: The frame.append method is deprecated and will be removed from pandas in a future version. Use pandas.concat instead.\n",
            "  ResultsCollection=ResultsCollection.append(IterResults, ignore_index=True)\n",
            "\r 19%|█▉        | 195/1012 [24:29<2:04:54,  9.17s/it]"
          ]
        },
        {
          "metadata": {
            "tags": null
          },
          "name": "stdout",
          "output_type": "stream",
          "text": [
            "14/14 [==============================] - 0s 3ms/step\n"
          ]
        },
        {
          "metadata": {
            "tags": null
          },
          "name": "stderr",
          "output_type": "stream",
          "text": [
            "<ipython-input-30-84f19216e9c9>:14: FutureWarning: The frame.append method is deprecated and will be removed from pandas in a future version. Use pandas.concat instead.\n",
            "  ResultsCollection=ResultsCollection.append(IterResults, ignore_index=True)\n",
            "\r 19%|█▉        | 196/1012 [24:38<2:04:44,  9.17s/it]"
          ]
        },
        {
          "metadata": {
            "tags": null
          },
          "name": "stdout",
          "output_type": "stream",
          "text": [
            "14/14 [==============================] - 0s 3ms/step\n"
          ]
        },
        {
          "metadata": {
            "tags": null
          },
          "name": "stderr",
          "output_type": "stream",
          "text": [
            "<ipython-input-30-84f19216e9c9>:14: FutureWarning: The frame.append method is deprecated and will be removed from pandas in a future version. Use pandas.concat instead.\n",
            "  ResultsCollection=ResultsCollection.append(IterResults, ignore_index=True)\n",
            "\r 19%|█▉        | 197/1012 [24:47<2:03:52,  9.12s/it]"
          ]
        },
        {
          "metadata": {
            "tags": null
          },
          "name": "stdout",
          "output_type": "stream",
          "text": [
            "14/14 [==============================] - 0s 4ms/step\n"
          ]
        },
        {
          "metadata": {
            "tags": null
          },
          "name": "stderr",
          "output_type": "stream",
          "text": [
            "<ipython-input-30-84f19216e9c9>:14: FutureWarning: The frame.append method is deprecated and will be removed from pandas in a future version. Use pandas.concat instead.\n",
            "  ResultsCollection=ResultsCollection.append(IterResults, ignore_index=True)\n",
            "\r 20%|█▉        | 198/1012 [24:56<2:02:23,  9.02s/it]"
          ]
        },
        {
          "metadata": {
            "tags": null
          },
          "name": "stdout",
          "output_type": "stream",
          "text": [
            "14/14 [==============================] - 0s 3ms/step\n"
          ]
        },
        {
          "metadata": {
            "tags": null
          },
          "name": "stderr",
          "output_type": "stream",
          "text": [
            "<ipython-input-30-84f19216e9c9>:14: FutureWarning: The frame.append method is deprecated and will be removed from pandas in a future version. Use pandas.concat instead.\n",
            "  ResultsCollection=ResultsCollection.append(IterResults, ignore_index=True)\n",
            "\r 20%|█▉        | 199/1012 [25:04<2:01:27,  8.96s/it]"
          ]
        },
        {
          "metadata": {
            "tags": null
          },
          "name": "stdout",
          "output_type": "stream",
          "text": [
            "14/14 [==============================] - 0s 3ms/step\n"
          ]
        },
        {
          "metadata": {
            "tags": null
          },
          "name": "stderr",
          "output_type": "stream",
          "text": [
            "<ipython-input-30-84f19216e9c9>:14: FutureWarning: The frame.append method is deprecated and will be removed from pandas in a future version. Use pandas.concat instead.\n",
            "  ResultsCollection=ResultsCollection.append(IterResults, ignore_index=True)\n",
            "\r 20%|█▉        | 200/1012 [25:13<2:00:17,  8.89s/it]"
          ]
        },
        {
          "metadata": {
            "tags": null
          },
          "name": "stdout",
          "output_type": "stream",
          "text": [
            "14/14 [==============================] - 1s 4ms/step\n"
          ]
        },
        {
          "metadata": {
            "tags": null
          },
          "name": "stderr",
          "output_type": "stream",
          "text": [
            "<ipython-input-30-84f19216e9c9>:14: FutureWarning: The frame.append method is deprecated and will be removed from pandas in a future version. Use pandas.concat instead.\n",
            "  ResultsCollection=ResultsCollection.append(IterResults, ignore_index=True)\n",
            "\r 20%|█▉        | 201/1012 [25:22<1:59:39,  8.85s/it]"
          ]
        },
        {
          "metadata": {
            "tags": null
          },
          "name": "stdout",
          "output_type": "stream",
          "text": [
            "14/14 [==============================] - 0s 3ms/step\n"
          ]
        },
        {
          "metadata": {
            "tags": null
          },
          "name": "stderr",
          "output_type": "stream",
          "text": [
            "<ipython-input-30-84f19216e9c9>:14: FutureWarning: The frame.append method is deprecated and will be removed from pandas in a future version. Use pandas.concat instead.\n",
            "  ResultsCollection=ResultsCollection.append(IterResults, ignore_index=True)\n",
            "\r 20%|█▉        | 202/1012 [25:31<1:59:10,  8.83s/it]"
          ]
        },
        {
          "metadata": {
            "tags": null
          },
          "name": "stdout",
          "output_type": "stream",
          "text": [
            "14/14 [==============================] - 0s 3ms/step\n"
          ]
        },
        {
          "metadata": {
            "tags": null
          },
          "name": "stderr",
          "output_type": "stream",
          "text": [
            "<ipython-input-30-84f19216e9c9>:14: FutureWarning: The frame.append method is deprecated and will be removed from pandas in a future version. Use pandas.concat instead.\n",
            "  ResultsCollection=ResultsCollection.append(IterResults, ignore_index=True)\n",
            "\r 20%|██        | 203/1012 [25:39<1:58:32,  8.79s/it]"
          ]
        },
        {
          "metadata": {
            "tags": null
          },
          "name": "stdout",
          "output_type": "stream",
          "text": [
            "14/14 [==============================] - 0s 3ms/step\n"
          ]
        },
        {
          "metadata": {
            "tags": null
          },
          "name": "stderr",
          "output_type": "stream",
          "text": [
            "<ipython-input-30-84f19216e9c9>:14: FutureWarning: The frame.append method is deprecated and will be removed from pandas in a future version. Use pandas.concat instead.\n",
            "  ResultsCollection=ResultsCollection.append(IterResults, ignore_index=True)\n",
            "\r 20%|██        | 204/1012 [25:48<1:58:05,  8.77s/it]"
          ]
        },
        {
          "metadata": {
            "tags": null
          },
          "name": "stdout",
          "output_type": "stream",
          "text": [
            "14/14 [==============================] - 0s 3ms/step\n"
          ]
        },
        {
          "metadata": {
            "tags": null
          },
          "name": "stderr",
          "output_type": "stream",
          "text": [
            "<ipython-input-30-84f19216e9c9>:14: FutureWarning: The frame.append method is deprecated and will be removed from pandas in a future version. Use pandas.concat instead.\n",
            "  ResultsCollection=ResultsCollection.append(IterResults, ignore_index=True)\n",
            "\r 20%|██        | 205/1012 [25:57<1:57:19,  8.72s/it]"
          ]
        },
        {
          "metadata": {
            "tags": null
          },
          "name": "stdout",
          "output_type": "stream",
          "text": [
            "14/14 [==============================] - 0s 3ms/step\n"
          ]
        },
        {
          "metadata": {
            "tags": null
          },
          "name": "stderr",
          "output_type": "stream",
          "text": [
            "<ipython-input-30-84f19216e9c9>:14: FutureWarning: The frame.append method is deprecated and will be removed from pandas in a future version. Use pandas.concat instead.\n",
            "  ResultsCollection=ResultsCollection.append(IterResults, ignore_index=True)\n",
            "\r 20%|██        | 206/1012 [26:06<1:57:21,  8.74s/it]"
          ]
        },
        {
          "metadata": {
            "tags": null
          },
          "name": "stdout",
          "output_type": "stream",
          "text": [
            "14/14 [==============================] - 0s 3ms/step\n"
          ]
        },
        {
          "metadata": {
            "tags": null
          },
          "name": "stderr",
          "output_type": "stream",
          "text": [
            "<ipython-input-30-84f19216e9c9>:14: FutureWarning: The frame.append method is deprecated and will be removed from pandas in a future version. Use pandas.concat instead.\n",
            "  ResultsCollection=ResultsCollection.append(IterResults, ignore_index=True)\n",
            "\r 20%|██        | 207/1012 [26:14<1:56:48,  8.71s/it]"
          ]
        },
        {
          "metadata": {
            "tags": null
          },
          "name": "stdout",
          "output_type": "stream",
          "text": [
            "14/14 [==============================] - 0s 3ms/step\n"
          ]
        },
        {
          "metadata": {
            "tags": null
          },
          "name": "stderr",
          "output_type": "stream",
          "text": [
            "<ipython-input-30-84f19216e9c9>:14: FutureWarning: The frame.append method is deprecated and will be removed from pandas in a future version. Use pandas.concat instead.\n",
            "  ResultsCollection=ResultsCollection.append(IterResults, ignore_index=True)\n",
            "\r 21%|██        | 208/1012 [26:23<1:56:59,  8.73s/it]"
          ]
        },
        {
          "metadata": {
            "tags": null
          },
          "name": "stdout",
          "output_type": "stream",
          "text": [
            "14/14 [==============================] - 0s 3ms/step\n"
          ]
        },
        {
          "metadata": {
            "tags": null
          },
          "name": "stderr",
          "output_type": "stream",
          "text": [
            "<ipython-input-30-84f19216e9c9>:14: FutureWarning: The frame.append method is deprecated and will be removed from pandas in a future version. Use pandas.concat instead.\n",
            "  ResultsCollection=ResultsCollection.append(IterResults, ignore_index=True)\n",
            "\r 21%|██        | 209/1012 [26:32<1:56:10,  8.68s/it]"
          ]
        },
        {
          "metadata": {
            "tags": null
          },
          "name": "stdout",
          "output_type": "stream",
          "text": [
            "14/14 [==============================] - 0s 3ms/step\n"
          ]
        },
        {
          "metadata": {
            "tags": null
          },
          "name": "stderr",
          "output_type": "stream",
          "text": [
            "<ipython-input-30-84f19216e9c9>:14: FutureWarning: The frame.append method is deprecated and will be removed from pandas in a future version. Use pandas.concat instead.\n",
            "  ResultsCollection=ResultsCollection.append(IterResults, ignore_index=True)\n",
            "\r 21%|██        | 210/1012 [26:40<1:56:22,  8.71s/it]"
          ]
        },
        {
          "metadata": {
            "tags": null
          },
          "name": "stdout",
          "output_type": "stream",
          "text": [
            "14/14 [==============================] - 0s 3ms/step\n"
          ]
        },
        {
          "metadata": {
            "tags": null
          },
          "name": "stderr",
          "output_type": "stream",
          "text": [
            "<ipython-input-30-84f19216e9c9>:14: FutureWarning: The frame.append method is deprecated and will be removed from pandas in a future version. Use pandas.concat instead.\n",
            "  ResultsCollection=ResultsCollection.append(IterResults, ignore_index=True)\n",
            "\r 21%|██        | 211/1012 [26:49<1:56:04,  8.70s/it]"
          ]
        },
        {
          "metadata": {
            "tags": null
          },
          "name": "stdout",
          "output_type": "stream",
          "text": [
            "14/14 [==============================] - 0s 3ms/step\n"
          ]
        },
        {
          "metadata": {
            "tags": null
          },
          "name": "stderr",
          "output_type": "stream",
          "text": [
            "<ipython-input-30-84f19216e9c9>:14: FutureWarning: The frame.append method is deprecated and will be removed from pandas in a future version. Use pandas.concat instead.\n",
            "  ResultsCollection=ResultsCollection.append(IterResults, ignore_index=True)\n",
            "\r 21%|██        | 212/1012 [26:58<1:55:56,  8.70s/it]"
          ]
        },
        {
          "metadata": {
            "tags": null
          },
          "name": "stdout",
          "output_type": "stream",
          "text": [
            "14/14 [==============================] - 0s 3ms/step\n"
          ]
        },
        {
          "metadata": {
            "tags": null
          },
          "name": "stderr",
          "output_type": "stream",
          "text": [
            "<ipython-input-30-84f19216e9c9>:14: FutureWarning: The frame.append method is deprecated and will be removed from pandas in a future version. Use pandas.concat instead.\n",
            "  ResultsCollection=ResultsCollection.append(IterResults, ignore_index=True)\n",
            "\r 21%|██        | 213/1012 [27:06<1:56:17,  8.73s/it]"
          ]
        },
        {
          "metadata": {
            "tags": null
          },
          "name": "stdout",
          "output_type": "stream",
          "text": [
            "14/14 [==============================] - 0s 3ms/step\n"
          ]
        },
        {
          "metadata": {
            "tags": null
          },
          "name": "stderr",
          "output_type": "stream",
          "text": [
            "<ipython-input-30-84f19216e9c9>:14: FutureWarning: The frame.append method is deprecated and will be removed from pandas in a future version. Use pandas.concat instead.\n",
            "  ResultsCollection=ResultsCollection.append(IterResults, ignore_index=True)\n",
            "\r 21%|██        | 214/1012 [27:15<1:56:37,  8.77s/it]"
          ]
        },
        {
          "metadata": {
            "tags": null
          },
          "name": "stdout",
          "output_type": "stream",
          "text": [
            "14/14 [==============================] - 0s 3ms/step\n"
          ]
        },
        {
          "metadata": {
            "tags": null
          },
          "name": "stderr",
          "output_type": "stream",
          "text": [
            "<ipython-input-30-84f19216e9c9>:14: FutureWarning: The frame.append method is deprecated and will be removed from pandas in a future version. Use pandas.concat instead.\n",
            "  ResultsCollection=ResultsCollection.append(IterResults, ignore_index=True)\n",
            "\r 21%|██        | 215/1012 [27:24<1:57:13,  8.82s/it]"
          ]
        },
        {
          "metadata": {
            "tags": null
          },
          "name": "stdout",
          "output_type": "stream",
          "text": [
            "14/14 [==============================] - 0s 3ms/step\n"
          ]
        },
        {
          "metadata": {
            "tags": null
          },
          "name": "stderr",
          "output_type": "stream",
          "text": [
            "<ipython-input-30-84f19216e9c9>:14: FutureWarning: The frame.append method is deprecated and will be removed from pandas in a future version. Use pandas.concat instead.\n",
            "  ResultsCollection=ResultsCollection.append(IterResults, ignore_index=True)\n",
            "\r 21%|██▏       | 216/1012 [27:33<1:57:23,  8.85s/it]"
          ]
        },
        {
          "metadata": {
            "tags": null
          },
          "name": "stdout",
          "output_type": "stream",
          "text": [
            "14/14 [==============================] - 0s 3ms/step\n"
          ]
        },
        {
          "metadata": {
            "tags": null
          },
          "name": "stderr",
          "output_type": "stream",
          "text": [
            "<ipython-input-30-84f19216e9c9>:14: FutureWarning: The frame.append method is deprecated and will be removed from pandas in a future version. Use pandas.concat instead.\n",
            "  ResultsCollection=ResultsCollection.append(IterResults, ignore_index=True)\n",
            "\r 21%|██▏       | 217/1012 [27:42<1:57:05,  8.84s/it]"
          ]
        },
        {
          "metadata": {
            "tags": null
          },
          "name": "stdout",
          "output_type": "stream",
          "text": [
            "14/14 [==============================] - 0s 3ms/step\n"
          ]
        },
        {
          "metadata": {
            "tags": null
          },
          "name": "stderr",
          "output_type": "stream",
          "text": [
            "<ipython-input-30-84f19216e9c9>:14: FutureWarning: The frame.append method is deprecated and will be removed from pandas in a future version. Use pandas.concat instead.\n",
            "  ResultsCollection=ResultsCollection.append(IterResults, ignore_index=True)\n",
            "\r 22%|██▏       | 218/1012 [27:51<1:57:16,  8.86s/it]"
          ]
        },
        {
          "metadata": {
            "tags": null
          },
          "name": "stdout",
          "output_type": "stream",
          "text": [
            "14/14 [==============================] - 0s 3ms/step\n"
          ]
        },
        {
          "metadata": {
            "tags": null
          },
          "name": "stderr",
          "output_type": "stream",
          "text": [
            "<ipython-input-30-84f19216e9c9>:14: FutureWarning: The frame.append method is deprecated and will be removed from pandas in a future version. Use pandas.concat instead.\n",
            "  ResultsCollection=ResultsCollection.append(IterResults, ignore_index=True)\n",
            "\r 22%|██▏       | 219/1012 [28:00<1:57:27,  8.89s/it]"
          ]
        },
        {
          "metadata": {
            "tags": null
          },
          "name": "stdout",
          "output_type": "stream",
          "text": [
            "14/14 [==============================] - 0s 3ms/step\n"
          ]
        },
        {
          "metadata": {
            "tags": null
          },
          "name": "stderr",
          "output_type": "stream",
          "text": [
            "<ipython-input-30-84f19216e9c9>:14: FutureWarning: The frame.append method is deprecated and will be removed from pandas in a future version. Use pandas.concat instead.\n",
            "  ResultsCollection=ResultsCollection.append(IterResults, ignore_index=True)\n",
            "\r 22%|██▏       | 220/1012 [28:09<1:57:02,  8.87s/it]"
          ]
        },
        {
          "metadata": {
            "tags": null
          },
          "name": "stdout",
          "output_type": "stream",
          "text": [
            "14/14 [==============================] - 0s 3ms/step\n"
          ]
        },
        {
          "metadata": {
            "tags": null
          },
          "name": "stderr",
          "output_type": "stream",
          "text": [
            "<ipython-input-30-84f19216e9c9>:14: FutureWarning: The frame.append method is deprecated and will be removed from pandas in a future version. Use pandas.concat instead.\n",
            "  ResultsCollection=ResultsCollection.append(IterResults, ignore_index=True)\n",
            "\r 22%|██▏       | 221/1012 [28:17<1:56:42,  8.85s/it]"
          ]
        },
        {
          "metadata": {
            "tags": null
          },
          "name": "stdout",
          "output_type": "stream",
          "text": [
            "14/14 [==============================] - 0s 3ms/step\n"
          ]
        },
        {
          "metadata": {
            "tags": null
          },
          "name": "stderr",
          "output_type": "stream",
          "text": [
            "<ipython-input-30-84f19216e9c9>:14: FutureWarning: The frame.append method is deprecated and will be removed from pandas in a future version. Use pandas.concat instead.\n",
            "  ResultsCollection=ResultsCollection.append(IterResults, ignore_index=True)\n",
            "\r 22%|██▏       | 222/1012 [28:26<1:56:22,  8.84s/it]"
          ]
        },
        {
          "metadata": {
            "tags": null
          },
          "name": "stdout",
          "output_type": "stream",
          "text": [
            "14/14 [==============================] - 0s 3ms/step\n"
          ]
        },
        {
          "metadata": {
            "tags": null
          },
          "name": "stderr",
          "output_type": "stream",
          "text": [
            "<ipython-input-30-84f19216e9c9>:14: FutureWarning: The frame.append method is deprecated and will be removed from pandas in a future version. Use pandas.concat instead.\n",
            "  ResultsCollection=ResultsCollection.append(IterResults, ignore_index=True)\n",
            "\r 22%|██▏       | 223/1012 [28:35<1:56:35,  8.87s/it]"
          ]
        },
        {
          "metadata": {
            "tags": null
          },
          "name": "stdout",
          "output_type": "stream",
          "text": [
            "14/14 [==============================] - 0s 3ms/step\n"
          ]
        },
        {
          "metadata": {
            "tags": null
          },
          "name": "stderr",
          "output_type": "stream",
          "text": [
            "<ipython-input-30-84f19216e9c9>:14: FutureWarning: The frame.append method is deprecated and will be removed from pandas in a future version. Use pandas.concat instead.\n",
            "  ResultsCollection=ResultsCollection.append(IterResults, ignore_index=True)\n",
            "\r 22%|██▏       | 224/1012 [28:44<1:56:35,  8.88s/it]"
          ]
        },
        {
          "metadata": {
            "tags": null
          },
          "name": "stdout",
          "output_type": "stream",
          "text": [
            "14/14 [==============================] - 0s 3ms/step\n"
          ]
        },
        {
          "metadata": {
            "tags": null
          },
          "name": "stderr",
          "output_type": "stream",
          "text": [
            "<ipython-input-30-84f19216e9c9>:14: FutureWarning: The frame.append method is deprecated and will be removed from pandas in a future version. Use pandas.concat instead.\n",
            "  ResultsCollection=ResultsCollection.append(IterResults, ignore_index=True)\n",
            "\r 22%|██▏       | 225/1012 [28:53<1:57:01,  8.92s/it]"
          ]
        },
        {
          "metadata": {
            "tags": null
          },
          "name": "stdout",
          "output_type": "stream",
          "text": [
            "14/14 [==============================] - 0s 3ms/step\n"
          ]
        },
        {
          "metadata": {
            "tags": null
          },
          "name": "stderr",
          "output_type": "stream",
          "text": [
            "<ipython-input-30-84f19216e9c9>:14: FutureWarning: The frame.append method is deprecated and will be removed from pandas in a future version. Use pandas.concat instead.\n",
            "  ResultsCollection=ResultsCollection.append(IterResults, ignore_index=True)\n",
            "\r 22%|██▏       | 226/1012 [29:02<1:56:03,  8.86s/it]"
          ]
        },
        {
          "metadata": {
            "tags": null
          },
          "name": "stdout",
          "output_type": "stream",
          "text": [
            "14/14 [==============================] - 0s 3ms/step\n"
          ]
        },
        {
          "metadata": {
            "tags": null
          },
          "name": "stderr",
          "output_type": "stream",
          "text": [
            "<ipython-input-30-84f19216e9c9>:14: FutureWarning: The frame.append method is deprecated and will be removed from pandas in a future version. Use pandas.concat instead.\n",
            "  ResultsCollection=ResultsCollection.append(IterResults, ignore_index=True)\n",
            "\r 22%|██▏       | 227/1012 [29:11<1:55:42,  8.84s/it]"
          ]
        },
        {
          "metadata": {
            "tags": null
          },
          "name": "stdout",
          "output_type": "stream",
          "text": [
            "14/14 [==============================] - 0s 4ms/step\n"
          ]
        },
        {
          "metadata": {
            "tags": null
          },
          "name": "stderr",
          "output_type": "stream",
          "text": [
            "<ipython-input-30-84f19216e9c9>:14: FutureWarning: The frame.append method is deprecated and will be removed from pandas in a future version. Use pandas.concat instead.\n",
            "  ResultsCollection=ResultsCollection.append(IterResults, ignore_index=True)\n",
            "\r 23%|██▎       | 228/1012 [29:20<1:55:46,  8.86s/it]"
          ]
        },
        {
          "metadata": {
            "tags": null
          },
          "name": "stdout",
          "output_type": "stream",
          "text": [
            "14/14 [==============================] - 0s 3ms/step\n"
          ]
        },
        {
          "metadata": {
            "tags": null
          },
          "name": "stderr",
          "output_type": "stream",
          "text": [
            "<ipython-input-30-84f19216e9c9>:14: FutureWarning: The frame.append method is deprecated and will be removed from pandas in a future version. Use pandas.concat instead.\n",
            "  ResultsCollection=ResultsCollection.append(IterResults, ignore_index=True)\n",
            "\r 23%|██▎       | 229/1012 [29:28<1:55:22,  8.84s/it]"
          ]
        },
        {
          "metadata": {
            "tags": null
          },
          "name": "stdout",
          "output_type": "stream",
          "text": [
            "14/14 [==============================] - 0s 3ms/step\n"
          ]
        },
        {
          "metadata": {
            "tags": null
          },
          "name": "stderr",
          "output_type": "stream",
          "text": [
            "<ipython-input-30-84f19216e9c9>:14: FutureWarning: The frame.append method is deprecated and will be removed from pandas in a future version. Use pandas.concat instead.\n",
            "  ResultsCollection=ResultsCollection.append(IterResults, ignore_index=True)\n",
            "\r 23%|██▎       | 230/1012 [29:37<1:55:33,  8.87s/it]"
          ]
        },
        {
          "metadata": {
            "tags": null
          },
          "name": "stdout",
          "output_type": "stream",
          "text": [
            "14/14 [==============================] - 0s 3ms/step\n"
          ]
        },
        {
          "metadata": {
            "tags": null
          },
          "name": "stderr",
          "output_type": "stream",
          "text": [
            "<ipython-input-30-84f19216e9c9>:14: FutureWarning: The frame.append method is deprecated and will be removed from pandas in a future version. Use pandas.concat instead.\n",
            "  ResultsCollection=ResultsCollection.append(IterResults, ignore_index=True)\n",
            "\r 23%|██▎       | 231/1012 [29:46<1:55:05,  8.84s/it]"
          ]
        },
        {
          "metadata": {
            "tags": null
          },
          "name": "stdout",
          "output_type": "stream",
          "text": [
            "14/14 [==============================] - 0s 3ms/step\n"
          ]
        },
        {
          "metadata": {
            "tags": null
          },
          "name": "stderr",
          "output_type": "stream",
          "text": [
            "<ipython-input-30-84f19216e9c9>:14: FutureWarning: The frame.append method is deprecated and will be removed from pandas in a future version. Use pandas.concat instead.\n",
            "  ResultsCollection=ResultsCollection.append(IterResults, ignore_index=True)\n",
            "\r 23%|██▎       | 232/1012 [29:55<1:55:11,  8.86s/it]"
          ]
        },
        {
          "metadata": {
            "tags": null
          },
          "name": "stdout",
          "output_type": "stream",
          "text": [
            "14/14 [==============================] - 0s 3ms/step\n"
          ]
        },
        {
          "metadata": {
            "tags": null
          },
          "name": "stderr",
          "output_type": "stream",
          "text": [
            "<ipython-input-30-84f19216e9c9>:14: FutureWarning: The frame.append method is deprecated and will be removed from pandas in a future version. Use pandas.concat instead.\n",
            "  ResultsCollection=ResultsCollection.append(IterResults, ignore_index=True)\n",
            "\r 23%|██▎       | 233/1012 [30:04<1:54:42,  8.84s/it]"
          ]
        },
        {
          "metadata": {
            "tags": null
          },
          "name": "stdout",
          "output_type": "stream",
          "text": [
            "14/14 [==============================] - 0s 3ms/step\n"
          ]
        },
        {
          "metadata": {
            "tags": null
          },
          "name": "stderr",
          "output_type": "stream",
          "text": [
            "<ipython-input-30-84f19216e9c9>:14: FutureWarning: The frame.append method is deprecated and will be removed from pandas in a future version. Use pandas.concat instead.\n",
            "  ResultsCollection=ResultsCollection.append(IterResults, ignore_index=True)\n",
            "\r 23%|██▎       | 234/1012 [30:13<1:54:22,  8.82s/it]"
          ]
        },
        {
          "metadata": {
            "tags": null
          },
          "name": "stdout",
          "output_type": "stream",
          "text": [
            "14/14 [==============================] - 0s 3ms/step\n"
          ]
        },
        {
          "metadata": {
            "tags": null
          },
          "name": "stderr",
          "output_type": "stream",
          "text": [
            "<ipython-input-30-84f19216e9c9>:14: FutureWarning: The frame.append method is deprecated and will be removed from pandas in a future version. Use pandas.concat instead.\n",
            "  ResultsCollection=ResultsCollection.append(IterResults, ignore_index=True)\n",
            "\r 23%|██▎       | 235/1012 [30:21<1:54:34,  8.85s/it]"
          ]
        },
        {
          "metadata": {
            "tags": null
          },
          "name": "stdout",
          "output_type": "stream",
          "text": [
            "14/14 [==============================] - 0s 3ms/step\n"
          ]
        },
        {
          "metadata": {
            "tags": null
          },
          "name": "stderr",
          "output_type": "stream",
          "text": [
            "<ipython-input-30-84f19216e9c9>:14: FutureWarning: The frame.append method is deprecated and will be removed from pandas in a future version. Use pandas.concat instead.\n",
            "  ResultsCollection=ResultsCollection.append(IterResults, ignore_index=True)\n",
            "\r 23%|██▎       | 236/1012 [30:30<1:54:43,  8.87s/it]"
          ]
        },
        {
          "metadata": {
            "tags": null
          },
          "name": "stdout",
          "output_type": "stream",
          "text": [
            "14/14 [==============================] - 0s 3ms/step\n"
          ]
        },
        {
          "metadata": {
            "tags": null
          },
          "name": "stderr",
          "output_type": "stream",
          "text": [
            "<ipython-input-30-84f19216e9c9>:14: FutureWarning: The frame.append method is deprecated and will be removed from pandas in a future version. Use pandas.concat instead.\n",
            "  ResultsCollection=ResultsCollection.append(IterResults, ignore_index=True)\n",
            "\r 23%|██▎       | 237/1012 [30:39<1:55:20,  8.93s/it]"
          ]
        },
        {
          "metadata": {
            "tags": null
          },
          "name": "stdout",
          "output_type": "stream",
          "text": [
            "14/14 [==============================] - 0s 3ms/step\n"
          ]
        },
        {
          "metadata": {
            "tags": null
          },
          "name": "stderr",
          "output_type": "stream",
          "text": [
            "<ipython-input-30-84f19216e9c9>:14: FutureWarning: The frame.append method is deprecated and will be removed from pandas in a future version. Use pandas.concat instead.\n",
            "  ResultsCollection=ResultsCollection.append(IterResults, ignore_index=True)\n",
            "\r 24%|██▎       | 238/1012 [30:48<1:54:45,  8.90s/it]"
          ]
        },
        {
          "metadata": {
            "tags": null
          },
          "name": "stdout",
          "output_type": "stream",
          "text": [
            "14/14 [==============================] - 0s 3ms/step\n"
          ]
        },
        {
          "metadata": {
            "tags": null
          },
          "name": "stderr",
          "output_type": "stream",
          "text": [
            "<ipython-input-30-84f19216e9c9>:14: FutureWarning: The frame.append method is deprecated and will be removed from pandas in a future version. Use pandas.concat instead.\n",
            "  ResultsCollection=ResultsCollection.append(IterResults, ignore_index=True)\n",
            "\r 24%|██▎       | 239/1012 [30:57<1:54:27,  8.88s/it]"
          ]
        },
        {
          "metadata": {
            "tags": null
          },
          "name": "stdout",
          "output_type": "stream",
          "text": [
            "14/14 [==============================] - 0s 3ms/step\n"
          ]
        },
        {
          "metadata": {
            "tags": null
          },
          "name": "stderr",
          "output_type": "stream",
          "text": [
            "<ipython-input-30-84f19216e9c9>:14: FutureWarning: The frame.append method is deprecated and will be removed from pandas in a future version. Use pandas.concat instead.\n",
            "  ResultsCollection=ResultsCollection.append(IterResults, ignore_index=True)\n",
            "\r 24%|██▎       | 240/1012 [31:06<1:54:29,  8.90s/it]"
          ]
        },
        {
          "metadata": {
            "tags": null
          },
          "name": "stdout",
          "output_type": "stream",
          "text": [
            "14/14 [==============================] - 0s 3ms/step\n"
          ]
        },
        {
          "metadata": {
            "tags": null
          },
          "name": "stderr",
          "output_type": "stream",
          "text": [
            "<ipython-input-30-84f19216e9c9>:14: FutureWarning: The frame.append method is deprecated and will be removed from pandas in a future version. Use pandas.concat instead.\n",
            "  ResultsCollection=ResultsCollection.append(IterResults, ignore_index=True)\n",
            "\r 24%|██▍       | 241/1012 [31:15<1:55:17,  8.97s/it]"
          ]
        },
        {
          "metadata": {
            "tags": null
          },
          "name": "stdout",
          "output_type": "stream",
          "text": [
            "14/14 [==============================] - 0s 3ms/step\n"
          ]
        },
        {
          "metadata": {
            "tags": null
          },
          "name": "stderr",
          "output_type": "stream",
          "text": [
            "<ipython-input-30-84f19216e9c9>:14: FutureWarning: The frame.append method is deprecated and will be removed from pandas in a future version. Use pandas.concat instead.\n",
            "  ResultsCollection=ResultsCollection.append(IterResults, ignore_index=True)\n",
            "\r 24%|██▍       | 242/1012 [31:24<1:56:06,  9.05s/it]"
          ]
        },
        {
          "metadata": {
            "tags": null
          },
          "name": "stdout",
          "output_type": "stream",
          "text": [
            "14/14 [==============================] - 0s 3ms/step\n"
          ]
        },
        {
          "metadata": {
            "tags": null
          },
          "name": "stderr",
          "output_type": "stream",
          "text": [
            "<ipython-input-30-84f19216e9c9>:14: FutureWarning: The frame.append method is deprecated and will be removed from pandas in a future version. Use pandas.concat instead.\n",
            "  ResultsCollection=ResultsCollection.append(IterResults, ignore_index=True)\n",
            "\r 24%|██▍       | 243/1012 [31:33<1:55:33,  9.02s/it]"
          ]
        },
        {
          "metadata": {
            "tags": null
          },
          "name": "stdout",
          "output_type": "stream",
          "text": [
            "14/14 [==============================] - 0s 3ms/step\n"
          ]
        },
        {
          "metadata": {
            "tags": null
          },
          "name": "stderr",
          "output_type": "stream",
          "text": [
            "<ipython-input-30-84f19216e9c9>:14: FutureWarning: The frame.append method is deprecated and will be removed from pandas in a future version. Use pandas.concat instead.\n",
            "  ResultsCollection=ResultsCollection.append(IterResults, ignore_index=True)\n",
            "\r 24%|██▍       | 244/1012 [31:42<1:55:09,  9.00s/it]"
          ]
        },
        {
          "metadata": {
            "tags": null
          },
          "name": "stdout",
          "output_type": "stream",
          "text": [
            "14/14 [==============================] - 0s 3ms/step\n"
          ]
        },
        {
          "metadata": {
            "tags": null
          },
          "name": "stderr",
          "output_type": "stream",
          "text": [
            "<ipython-input-30-84f19216e9c9>:14: FutureWarning: The frame.append method is deprecated and will be removed from pandas in a future version. Use pandas.concat instead.\n",
            "  ResultsCollection=ResultsCollection.append(IterResults, ignore_index=True)\n",
            "\r 24%|██▍       | 245/1012 [31:51<1:55:10,  9.01s/it]"
          ]
        },
        {
          "metadata": {
            "tags": null
          },
          "name": "stdout",
          "output_type": "stream",
          "text": [
            "14/14 [==============================] - 0s 3ms/step\n"
          ]
        },
        {
          "metadata": {
            "tags": null
          },
          "name": "stderr",
          "output_type": "stream",
          "text": [
            "<ipython-input-30-84f19216e9c9>:14: FutureWarning: The frame.append method is deprecated and will be removed from pandas in a future version. Use pandas.concat instead.\n",
            "  ResultsCollection=ResultsCollection.append(IterResults, ignore_index=True)\n",
            "\r 24%|██▍       | 246/1012 [32:00<1:54:51,  9.00s/it]"
          ]
        },
        {
          "metadata": {
            "tags": null
          },
          "name": "stdout",
          "output_type": "stream",
          "text": [
            "14/14 [==============================] - 0s 3ms/step\n"
          ]
        },
        {
          "metadata": {
            "tags": null
          },
          "name": "stderr",
          "output_type": "stream",
          "text": [
            "<ipython-input-30-84f19216e9c9>:14: FutureWarning: The frame.append method is deprecated and will be removed from pandas in a future version. Use pandas.concat instead.\n",
            "  ResultsCollection=ResultsCollection.append(IterResults, ignore_index=True)\n",
            "\r 24%|██▍       | 247/1012 [32:10<1:55:24,  9.05s/it]"
          ]
        },
        {
          "metadata": {
            "tags": null
          },
          "name": "stdout",
          "output_type": "stream",
          "text": [
            "14/14 [==============================] - 0s 3ms/step\n"
          ]
        },
        {
          "metadata": {
            "tags": null
          },
          "name": "stderr",
          "output_type": "stream",
          "text": [
            "<ipython-input-30-84f19216e9c9>:14: FutureWarning: The frame.append method is deprecated and will be removed from pandas in a future version. Use pandas.concat instead.\n",
            "  ResultsCollection=ResultsCollection.append(IterResults, ignore_index=True)\n",
            "\r 25%|██▍       | 248/1012 [32:19<1:55:46,  9.09s/it]"
          ]
        },
        {
          "metadata": {
            "tags": null
          },
          "name": "stdout",
          "output_type": "stream",
          "text": [
            "14/14 [==============================] - 0s 3ms/step\n"
          ]
        },
        {
          "metadata": {
            "tags": null
          },
          "name": "stderr",
          "output_type": "stream",
          "text": [
            "<ipython-input-30-84f19216e9c9>:14: FutureWarning: The frame.append method is deprecated and will be removed from pandas in a future version. Use pandas.concat instead.\n",
            "  ResultsCollection=ResultsCollection.append(IterResults, ignore_index=True)\n",
            "\r 25%|██▍       | 249/1012 [32:28<1:55:14,  9.06s/it]"
          ]
        },
        {
          "metadata": {
            "tags": null
          },
          "name": "stdout",
          "output_type": "stream",
          "text": [
            "14/14 [==============================] - 0s 3ms/step\n"
          ]
        },
        {
          "metadata": {
            "tags": null
          },
          "name": "stderr",
          "output_type": "stream",
          "text": [
            "<ipython-input-30-84f19216e9c9>:14: FutureWarning: The frame.append method is deprecated and will be removed from pandas in a future version. Use pandas.concat instead.\n",
            "  ResultsCollection=ResultsCollection.append(IterResults, ignore_index=True)\n",
            "\r 25%|██▍       | 250/1012 [32:37<1:54:56,  9.05s/it]"
          ]
        },
        {
          "metadata": {
            "tags": null
          },
          "name": "stdout",
          "output_type": "stream",
          "text": [
            "14/14 [==============================] - 0s 3ms/step\n"
          ]
        },
        {
          "metadata": {
            "tags": null
          },
          "name": "stderr",
          "output_type": "stream",
          "text": [
            "<ipython-input-30-84f19216e9c9>:14: FutureWarning: The frame.append method is deprecated and will be removed from pandas in a future version. Use pandas.concat instead.\n",
            "  ResultsCollection=ResultsCollection.append(IterResults, ignore_index=True)\n",
            "\r 25%|██▍       | 251/1012 [32:46<1:55:35,  9.11s/it]"
          ]
        },
        {
          "metadata": {
            "tags": null
          },
          "name": "stdout",
          "output_type": "stream",
          "text": [
            "14/14 [==============================] - 0s 3ms/step\n"
          ]
        },
        {
          "metadata": {
            "tags": null
          },
          "name": "stderr",
          "output_type": "stream",
          "text": [
            "<ipython-input-30-84f19216e9c9>:14: FutureWarning: The frame.append method is deprecated and will be removed from pandas in a future version. Use pandas.concat instead.\n",
            "  ResultsCollection=ResultsCollection.append(IterResults, ignore_index=True)\n",
            "\r 25%|██▍       | 252/1012 [32:55<1:55:17,  9.10s/it]"
          ]
        },
        {
          "metadata": {
            "tags": null
          },
          "name": "stdout",
          "output_type": "stream",
          "text": [
            "14/14 [==============================] - 0s 3ms/step\n"
          ]
        },
        {
          "metadata": {
            "tags": null
          },
          "name": "stderr",
          "output_type": "stream",
          "text": [
            "<ipython-input-30-84f19216e9c9>:14: FutureWarning: The frame.append method is deprecated and will be removed from pandas in a future version. Use pandas.concat instead.\n",
            "  ResultsCollection=ResultsCollection.append(IterResults, ignore_index=True)\n",
            "\r 25%|██▌       | 253/1012 [33:04<1:54:47,  9.07s/it]"
          ]
        },
        {
          "metadata": {
            "tags": null
          },
          "name": "stdout",
          "output_type": "stream",
          "text": [
            "14/14 [==============================] - 0s 3ms/step\n"
          ]
        },
        {
          "metadata": {
            "tags": null
          },
          "name": "stderr",
          "output_type": "stream",
          "text": [
            "<ipython-input-30-84f19216e9c9>:14: FutureWarning: The frame.append method is deprecated and will be removed from pandas in a future version. Use pandas.concat instead.\n",
            "  ResultsCollection=ResultsCollection.append(IterResults, ignore_index=True)\n",
            "\r 25%|██▌       | 254/1012 [33:13<1:55:14,  9.12s/it]"
          ]
        },
        {
          "metadata": {
            "tags": null
          },
          "name": "stdout",
          "output_type": "stream",
          "text": [
            "14/14 [==============================] - 0s 3ms/step\n"
          ]
        },
        {
          "metadata": {
            "tags": null
          },
          "name": "stderr",
          "output_type": "stream",
          "text": [
            "<ipython-input-30-84f19216e9c9>:14: FutureWarning: The frame.append method is deprecated and will be removed from pandas in a future version. Use pandas.concat instead.\n",
            "  ResultsCollection=ResultsCollection.append(IterResults, ignore_index=True)\n",
            "\r 25%|██▌       | 255/1012 [33:22<1:55:10,  9.13s/it]"
          ]
        },
        {
          "metadata": {
            "tags": null
          },
          "name": "stdout",
          "output_type": "stream",
          "text": [
            "14/14 [==============================] - 0s 3ms/step\n"
          ]
        },
        {
          "metadata": {
            "tags": null
          },
          "name": "stderr",
          "output_type": "stream",
          "text": [
            "<ipython-input-30-84f19216e9c9>:14: FutureWarning: The frame.append method is deprecated and will be removed from pandas in a future version. Use pandas.concat instead.\n",
            "  ResultsCollection=ResultsCollection.append(IterResults, ignore_index=True)\n",
            "\r 25%|██▌       | 256/1012 [33:32<1:54:56,  9.12s/it]"
          ]
        },
        {
          "metadata": {
            "tags": null
          },
          "name": "stdout",
          "output_type": "stream",
          "text": [
            "14/14 [==============================] - 0s 3ms/step\n"
          ]
        },
        {
          "metadata": {
            "tags": null
          },
          "name": "stderr",
          "output_type": "stream",
          "text": [
            "<ipython-input-30-84f19216e9c9>:14: FutureWarning: The frame.append method is deprecated and will be removed from pandas in a future version. Use pandas.concat instead.\n",
            "  ResultsCollection=ResultsCollection.append(IterResults, ignore_index=True)\n",
            "\r 25%|██▌       | 257/1012 [33:41<1:55:29,  9.18s/it]"
          ]
        },
        {
          "metadata": {
            "tags": null
          },
          "name": "stdout",
          "output_type": "stream",
          "text": [
            "14/14 [==============================] - 0s 3ms/step\n"
          ]
        },
        {
          "metadata": {
            "tags": null
          },
          "name": "stderr",
          "output_type": "stream",
          "text": [
            "<ipython-input-30-84f19216e9c9>:14: FutureWarning: The frame.append method is deprecated and will be removed from pandas in a future version. Use pandas.concat instead.\n",
            "  ResultsCollection=ResultsCollection.append(IterResults, ignore_index=True)\n",
            "\r 25%|██▌       | 258/1012 [33:50<1:55:10,  9.17s/it]"
          ]
        },
        {
          "metadata": {
            "tags": null
          },
          "name": "stdout",
          "output_type": "stream",
          "text": [
            "14/14 [==============================] - 0s 3ms/step\n"
          ]
        },
        {
          "metadata": {
            "tags": null
          },
          "name": "stderr",
          "output_type": "stream",
          "text": [
            "<ipython-input-30-84f19216e9c9>:14: FutureWarning: The frame.append method is deprecated and will be removed from pandas in a future version. Use pandas.concat instead.\n",
            "  ResultsCollection=ResultsCollection.append(IterResults, ignore_index=True)\n",
            "\r 26%|██▌       | 259/1012 [33:59<1:55:08,  9.17s/it]"
          ]
        },
        {
          "metadata": {
            "tags": null
          },
          "name": "stdout",
          "output_type": "stream",
          "text": [
            "14/14 [==============================] - 0s 3ms/step\n"
          ]
        },
        {
          "metadata": {
            "tags": null
          },
          "name": "stderr",
          "output_type": "stream",
          "text": [
            "<ipython-input-30-84f19216e9c9>:14: FutureWarning: The frame.append method is deprecated and will be removed from pandas in a future version. Use pandas.concat instead.\n",
            "  ResultsCollection=ResultsCollection.append(IterResults, ignore_index=True)\n",
            "\r 26%|██▌       | 260/1012 [34:08<1:55:20,  9.20s/it]"
          ]
        },
        {
          "metadata": {
            "tags": null
          },
          "name": "stdout",
          "output_type": "stream",
          "text": [
            "14/14 [==============================] - 0s 3ms/step\n"
          ]
        },
        {
          "metadata": {
            "tags": null
          },
          "name": "stderr",
          "output_type": "stream",
          "text": [
            "<ipython-input-30-84f19216e9c9>:14: FutureWarning: The frame.append method is deprecated and will be removed from pandas in a future version. Use pandas.concat instead.\n",
            "  ResultsCollection=ResultsCollection.append(IterResults, ignore_index=True)\n",
            "\r 26%|██▌       | 261/1012 [34:18<1:55:40,  9.24s/it]"
          ]
        },
        {
          "metadata": {
            "tags": null
          },
          "name": "stdout",
          "output_type": "stream",
          "text": [
            "14/14 [==============================] - 0s 3ms/step\n"
          ]
        },
        {
          "metadata": {
            "tags": null
          },
          "name": "stderr",
          "output_type": "stream",
          "text": [
            "<ipython-input-30-84f19216e9c9>:14: FutureWarning: The frame.append method is deprecated and will be removed from pandas in a future version. Use pandas.concat instead.\n",
            "  ResultsCollection=ResultsCollection.append(IterResults, ignore_index=True)\n",
            "\r 26%|██▌       | 262/1012 [34:27<1:56:09,  9.29s/it]"
          ]
        },
        {
          "metadata": {
            "tags": null
          },
          "name": "stdout",
          "output_type": "stream",
          "text": [
            "14/14 [==============================] - 0s 3ms/step\n"
          ]
        },
        {
          "metadata": {
            "tags": null
          },
          "name": "stderr",
          "output_type": "stream",
          "text": [
            "<ipython-input-30-84f19216e9c9>:14: FutureWarning: The frame.append method is deprecated and will be removed from pandas in a future version. Use pandas.concat instead.\n",
            "  ResultsCollection=ResultsCollection.append(IterResults, ignore_index=True)\n",
            "\r 26%|██▌       | 263/1012 [34:36<1:55:53,  9.28s/it]"
          ]
        },
        {
          "metadata": {
            "tags": null
          },
          "name": "stdout",
          "output_type": "stream",
          "text": [
            "14/14 [==============================] - 0s 3ms/step\n"
          ]
        },
        {
          "metadata": {
            "tags": null
          },
          "name": "stderr",
          "output_type": "stream",
          "text": [
            "<ipython-input-30-84f19216e9c9>:14: FutureWarning: The frame.append method is deprecated and will be removed from pandas in a future version. Use pandas.concat instead.\n",
            "  ResultsCollection=ResultsCollection.append(IterResults, ignore_index=True)\n",
            "\r 26%|██▌       | 264/1012 [34:46<1:55:45,  9.29s/it]"
          ]
        },
        {
          "metadata": {
            "tags": null
          },
          "name": "stdout",
          "output_type": "stream",
          "text": [
            "14/14 [==============================] - 0s 3ms/step\n"
          ]
        },
        {
          "metadata": {
            "tags": null
          },
          "name": "stderr",
          "output_type": "stream",
          "text": [
            "<ipython-input-30-84f19216e9c9>:14: FutureWarning: The frame.append method is deprecated and will be removed from pandas in a future version. Use pandas.concat instead.\n",
            "  ResultsCollection=ResultsCollection.append(IterResults, ignore_index=True)\n",
            "\r 26%|██▌       | 265/1012 [34:55<1:56:03,  9.32s/it]"
          ]
        },
        {
          "metadata": {
            "tags": null
          },
          "name": "stdout",
          "output_type": "stream",
          "text": [
            "14/14 [==============================] - 1s 4ms/step\n"
          ]
        },
        {
          "metadata": {
            "tags": null
          },
          "name": "stderr",
          "output_type": "stream",
          "text": [
            "<ipython-input-30-84f19216e9c9>:14: FutureWarning: The frame.append method is deprecated and will be removed from pandas in a future version. Use pandas.concat instead.\n",
            "  ResultsCollection=ResultsCollection.append(IterResults, ignore_index=True)\n",
            "\r 26%|██▋       | 266/1012 [35:05<1:56:58,  9.41s/it]"
          ]
        },
        {
          "metadata": {
            "tags": null
          },
          "name": "stdout",
          "output_type": "stream",
          "text": [
            "14/14 [==============================] - 0s 3ms/step\n"
          ]
        },
        {
          "metadata": {
            "tags": null
          },
          "name": "stderr",
          "output_type": "stream",
          "text": [
            "<ipython-input-30-84f19216e9c9>:14: FutureWarning: The frame.append method is deprecated and will be removed from pandas in a future version. Use pandas.concat instead.\n",
            "  ResultsCollection=ResultsCollection.append(IterResults, ignore_index=True)\n",
            "\r 26%|██▋       | 267/1012 [35:14<1:57:47,  9.49s/it]"
          ]
        },
        {
          "metadata": {
            "tags": null
          },
          "name": "stdout",
          "output_type": "stream",
          "text": [
            "14/14 [==============================] - 0s 3ms/step\n"
          ]
        },
        {
          "metadata": {
            "tags": null
          },
          "name": "stderr",
          "output_type": "stream",
          "text": [
            "<ipython-input-30-84f19216e9c9>:14: FutureWarning: The frame.append method is deprecated and will be removed from pandas in a future version. Use pandas.concat instead.\n",
            "  ResultsCollection=ResultsCollection.append(IterResults, ignore_index=True)\n",
            "\r 26%|██▋       | 268/1012 [35:24<1:58:07,  9.53s/it]"
          ]
        },
        {
          "metadata": {
            "tags": null
          },
          "name": "stdout",
          "output_type": "stream",
          "text": [
            "14/14 [==============================] - 0s 3ms/step\n"
          ]
        },
        {
          "metadata": {
            "tags": null
          },
          "name": "stderr",
          "output_type": "stream",
          "text": [
            "<ipython-input-30-84f19216e9c9>:14: FutureWarning: The frame.append method is deprecated and will be removed from pandas in a future version. Use pandas.concat instead.\n",
            "  ResultsCollection=ResultsCollection.append(IterResults, ignore_index=True)\n",
            "\r 27%|██▋       | 269/1012 [35:33<1:57:24,  9.48s/it]"
          ]
        },
        {
          "metadata": {
            "tags": null
          },
          "name": "stdout",
          "output_type": "stream",
          "text": [
            "14/14 [==============================] - 0s 3ms/step\n"
          ]
        },
        {
          "metadata": {
            "tags": null
          },
          "name": "stderr",
          "output_type": "stream",
          "text": [
            "<ipython-input-30-84f19216e9c9>:14: FutureWarning: The frame.append method is deprecated and will be removed from pandas in a future version. Use pandas.concat instead.\n",
            "  ResultsCollection=ResultsCollection.append(IterResults, ignore_index=True)\n",
            "\r 27%|██▋       | 270/1012 [35:43<1:57:30,  9.50s/it]"
          ]
        },
        {
          "metadata": {
            "tags": null
          },
          "name": "stdout",
          "output_type": "stream",
          "text": [
            "14/14 [==============================] - 0s 3ms/step\n"
          ]
        },
        {
          "metadata": {
            "tags": null
          },
          "name": "stderr",
          "output_type": "stream",
          "text": [
            "<ipython-input-30-84f19216e9c9>:14: FutureWarning: The frame.append method is deprecated and will be removed from pandas in a future version. Use pandas.concat instead.\n",
            "  ResultsCollection=ResultsCollection.append(IterResults, ignore_index=True)\n",
            "\r 27%|██▋       | 271/1012 [35:52<1:57:14,  9.49s/it]"
          ]
        },
        {
          "metadata": {
            "tags": null
          },
          "name": "stdout",
          "output_type": "stream",
          "text": [
            "14/14 [==============================] - 0s 3ms/step\n"
          ]
        },
        {
          "metadata": {
            "tags": null
          },
          "name": "stderr",
          "output_type": "stream",
          "text": [
            "<ipython-input-30-84f19216e9c9>:14: FutureWarning: The frame.append method is deprecated and will be removed from pandas in a future version. Use pandas.concat instead.\n",
            "  ResultsCollection=ResultsCollection.append(IterResults, ignore_index=True)\n",
            "\r 27%|██▋       | 272/1012 [36:02<1:57:23,  9.52s/it]"
          ]
        },
        {
          "metadata": {
            "tags": null
          },
          "name": "stdout",
          "output_type": "stream",
          "text": [
            "14/14 [==============================] - 0s 3ms/step\n"
          ]
        },
        {
          "metadata": {
            "tags": null
          },
          "name": "stderr",
          "output_type": "stream",
          "text": [
            "<ipython-input-30-84f19216e9c9>:14: FutureWarning: The frame.append method is deprecated and will be removed from pandas in a future version. Use pandas.concat instead.\n",
            "  ResultsCollection=ResultsCollection.append(IterResults, ignore_index=True)\n",
            "\r 27%|██▋       | 273/1012 [36:11<1:56:35,  9.47s/it]"
          ]
        },
        {
          "metadata": {
            "tags": null
          },
          "name": "stdout",
          "output_type": "stream",
          "text": [
            "14/14 [==============================] - 0s 3ms/step\n"
          ]
        },
        {
          "metadata": {
            "tags": null
          },
          "name": "stderr",
          "output_type": "stream",
          "text": [
            "<ipython-input-30-84f19216e9c9>:14: FutureWarning: The frame.append method is deprecated and will be removed from pandas in a future version. Use pandas.concat instead.\n",
            "  ResultsCollection=ResultsCollection.append(IterResults, ignore_index=True)\n",
            "\r 27%|██▋       | 274/1012 [36:21<1:56:15,  9.45s/it]"
          ]
        },
        {
          "metadata": {
            "tags": null
          },
          "name": "stdout",
          "output_type": "stream",
          "text": [
            "14/14 [==============================] - 0s 3ms/step\n"
          ]
        },
        {
          "metadata": {
            "tags": null
          },
          "name": "stderr",
          "output_type": "stream",
          "text": [
            "<ipython-input-30-84f19216e9c9>:14: FutureWarning: The frame.append method is deprecated and will be removed from pandas in a future version. Use pandas.concat instead.\n",
            "  ResultsCollection=ResultsCollection.append(IterResults, ignore_index=True)\n",
            "\r 27%|██▋       | 275/1012 [36:30<1:56:06,  9.45s/it]"
          ]
        },
        {
          "metadata": {
            "tags": null
          },
          "name": "stdout",
          "output_type": "stream",
          "text": [
            "14/14 [==============================] - 0s 3ms/step\n"
          ]
        },
        {
          "metadata": {
            "tags": null
          },
          "name": "stderr",
          "output_type": "stream",
          "text": [
            "<ipython-input-30-84f19216e9c9>:14: FutureWarning: The frame.append method is deprecated and will be removed from pandas in a future version. Use pandas.concat instead.\n",
            "  ResultsCollection=ResultsCollection.append(IterResults, ignore_index=True)\n",
            "\r 27%|██▋       | 276/1012 [36:40<1:55:57,  9.45s/it]"
          ]
        },
        {
          "metadata": {
            "tags": null
          },
          "name": "stdout",
          "output_type": "stream",
          "text": [
            "14/14 [==============================] - 0s 3ms/step\n"
          ]
        },
        {
          "metadata": {
            "tags": null
          },
          "name": "stderr",
          "output_type": "stream",
          "text": [
            "<ipython-input-30-84f19216e9c9>:14: FutureWarning: The frame.append method is deprecated and will be removed from pandas in a future version. Use pandas.concat instead.\n",
            "  ResultsCollection=ResultsCollection.append(IterResults, ignore_index=True)\n",
            "\r 27%|██▋       | 277/1012 [36:49<1:56:05,  9.48s/it]"
          ]
        },
        {
          "metadata": {
            "tags": null
          },
          "name": "stdout",
          "output_type": "stream",
          "text": [
            "14/14 [==============================] - 0s 3ms/step\n"
          ]
        },
        {
          "metadata": {
            "tags": null
          },
          "name": "stderr",
          "output_type": "stream",
          "text": [
            "<ipython-input-30-84f19216e9c9>:14: FutureWarning: The frame.append method is deprecated and will be removed from pandas in a future version. Use pandas.concat instead.\n",
            "  ResultsCollection=ResultsCollection.append(IterResults, ignore_index=True)\n",
            "\r 27%|██▋       | 278/1012 [36:59<1:55:56,  9.48s/it]"
          ]
        },
        {
          "metadata": {
            "tags": null
          },
          "name": "stdout",
          "output_type": "stream",
          "text": [
            "14/14 [==============================] - 0s 3ms/step\n"
          ]
        },
        {
          "metadata": {
            "tags": null
          },
          "name": "stderr",
          "output_type": "stream",
          "text": [
            "<ipython-input-30-84f19216e9c9>:14: FutureWarning: The frame.append method is deprecated and will be removed from pandas in a future version. Use pandas.concat instead.\n",
            "  ResultsCollection=ResultsCollection.append(IterResults, ignore_index=True)\n",
            "\r 28%|██▊       | 279/1012 [37:08<1:55:45,  9.48s/it]"
          ]
        },
        {
          "metadata": {
            "tags": null
          },
          "name": "stdout",
          "output_type": "stream",
          "text": [
            "14/14 [==============================] - 0s 3ms/step\n"
          ]
        },
        {
          "metadata": {
            "tags": null
          },
          "name": "stderr",
          "output_type": "stream",
          "text": [
            "<ipython-input-30-84f19216e9c9>:14: FutureWarning: The frame.append method is deprecated and will be removed from pandas in a future version. Use pandas.concat instead.\n",
            "  ResultsCollection=ResultsCollection.append(IterResults, ignore_index=True)\n",
            "\r 28%|██▊       | 280/1012 [37:18<1:55:32,  9.47s/it]"
          ]
        },
        {
          "metadata": {
            "tags": null
          },
          "name": "stdout",
          "output_type": "stream",
          "text": [
            "14/14 [==============================] - 0s 3ms/step\n"
          ]
        },
        {
          "metadata": {
            "tags": null
          },
          "name": "stderr",
          "output_type": "stream",
          "text": [
            "<ipython-input-30-84f19216e9c9>:14: FutureWarning: The frame.append method is deprecated and will be removed from pandas in a future version. Use pandas.concat instead.\n",
            "  ResultsCollection=ResultsCollection.append(IterResults, ignore_index=True)\n",
            "\r 28%|██▊       | 281/1012 [37:27<1:55:45,  9.50s/it]"
          ]
        },
        {
          "metadata": {
            "tags": null
          },
          "name": "stdout",
          "output_type": "stream",
          "text": [
            "14/14 [==============================] - 0s 3ms/step\n"
          ]
        },
        {
          "metadata": {
            "tags": null
          },
          "name": "stderr",
          "output_type": "stream",
          "text": [
            "<ipython-input-30-84f19216e9c9>:14: FutureWarning: The frame.append method is deprecated and will be removed from pandas in a future version. Use pandas.concat instead.\n",
            "  ResultsCollection=ResultsCollection.append(IterResults, ignore_index=True)\n",
            "\r 28%|██▊       | 282/1012 [37:37<1:55:49,  9.52s/it]"
          ]
        },
        {
          "metadata": {
            "tags": null
          },
          "name": "stdout",
          "output_type": "stream",
          "text": [
            "14/14 [==============================] - 0s 3ms/step\n"
          ]
        },
        {
          "metadata": {
            "tags": null
          },
          "name": "stderr",
          "output_type": "stream",
          "text": [
            "<ipython-input-30-84f19216e9c9>:14: FutureWarning: The frame.append method is deprecated and will be removed from pandas in a future version. Use pandas.concat instead.\n",
            "  ResultsCollection=ResultsCollection.append(IterResults, ignore_index=True)\n",
            "\r 28%|██▊       | 283/1012 [37:46<1:56:08,  9.56s/it]"
          ]
        },
        {
          "metadata": {
            "tags": null
          },
          "name": "stdout",
          "output_type": "stream",
          "text": [
            "14/14 [==============================] - 0s 4ms/step\n"
          ]
        },
        {
          "metadata": {
            "tags": null
          },
          "name": "stderr",
          "output_type": "stream",
          "text": [
            "<ipython-input-30-84f19216e9c9>:14: FutureWarning: The frame.append method is deprecated and will be removed from pandas in a future version. Use pandas.concat instead.\n",
            "  ResultsCollection=ResultsCollection.append(IterResults, ignore_index=True)\n",
            "\r 28%|██▊       | 284/1012 [37:56<1:55:39,  9.53s/it]"
          ]
        },
        {
          "metadata": {
            "tags": null
          },
          "name": "stdout",
          "output_type": "stream",
          "text": [
            "14/14 [==============================] - 0s 3ms/step\n"
          ]
        },
        {
          "metadata": {
            "tags": null
          },
          "name": "stderr",
          "output_type": "stream",
          "text": [
            "<ipython-input-30-84f19216e9c9>:14: FutureWarning: The frame.append method is deprecated and will be removed from pandas in a future version. Use pandas.concat instead.\n",
            "  ResultsCollection=ResultsCollection.append(IterResults, ignore_index=True)\n",
            "\r 28%|██▊       | 285/1012 [38:05<1:55:25,  9.53s/it]"
          ]
        },
        {
          "metadata": {
            "tags": null
          },
          "name": "stdout",
          "output_type": "stream",
          "text": [
            "14/14 [==============================] - 0s 3ms/step\n"
          ]
        },
        {
          "metadata": {
            "tags": null
          },
          "name": "stderr",
          "output_type": "stream",
          "text": [
            "<ipython-input-30-84f19216e9c9>:14: FutureWarning: The frame.append method is deprecated and will be removed from pandas in a future version. Use pandas.concat instead.\n",
            "  ResultsCollection=ResultsCollection.append(IterResults, ignore_index=True)\n",
            "\r 28%|██▊       | 286/1012 [38:15<1:56:25,  9.62s/it]"
          ]
        },
        {
          "metadata": {
            "tags": null
          },
          "name": "stdout",
          "output_type": "stream",
          "text": [
            "14/14 [==============================] - 0s 3ms/step\n"
          ]
        },
        {
          "metadata": {
            "tags": null
          },
          "name": "stderr",
          "output_type": "stream",
          "text": [
            "<ipython-input-30-84f19216e9c9>:14: FutureWarning: The frame.append method is deprecated and will be removed from pandas in a future version. Use pandas.concat instead.\n",
            "  ResultsCollection=ResultsCollection.append(IterResults, ignore_index=True)\n",
            "\r 28%|██▊       | 287/1012 [38:25<1:56:52,  9.67s/it]"
          ]
        },
        {
          "metadata": {
            "tags": null
          },
          "name": "stdout",
          "output_type": "stream",
          "text": [
            "14/14 [==============================] - 0s 3ms/step\n"
          ]
        },
        {
          "metadata": {
            "tags": null
          },
          "name": "stderr",
          "output_type": "stream",
          "text": [
            "<ipython-input-30-84f19216e9c9>:14: FutureWarning: The frame.append method is deprecated and will be removed from pandas in a future version. Use pandas.concat instead.\n",
            "  ResultsCollection=ResultsCollection.append(IterResults, ignore_index=True)\n",
            "\r 28%|██▊       | 288/1012 [38:35<1:56:28,  9.65s/it]"
          ]
        },
        {
          "metadata": {
            "tags": null
          },
          "name": "stdout",
          "output_type": "stream",
          "text": [
            "14/14 [==============================] - 0s 3ms/step\n"
          ]
        },
        {
          "metadata": {
            "tags": null
          },
          "name": "stderr",
          "output_type": "stream",
          "text": [
            "<ipython-input-30-84f19216e9c9>:14: FutureWarning: The frame.append method is deprecated and will be removed from pandas in a future version. Use pandas.concat instead.\n",
            "  ResultsCollection=ResultsCollection.append(IterResults, ignore_index=True)\n",
            "\r 29%|██▊       | 289/1012 [38:44<1:56:13,  9.65s/it]"
          ]
        },
        {
          "metadata": {
            "tags": null
          },
          "name": "stdout",
          "output_type": "stream",
          "text": [
            "14/14 [==============================] - 0s 3ms/step\n"
          ]
        },
        {
          "metadata": {
            "tags": null
          },
          "name": "stderr",
          "output_type": "stream",
          "text": [
            "<ipython-input-30-84f19216e9c9>:14: FutureWarning: The frame.append method is deprecated and will be removed from pandas in a future version. Use pandas.concat instead.\n",
            "  ResultsCollection=ResultsCollection.append(IterResults, ignore_index=True)\n",
            "\r 29%|██▊       | 290/1012 [38:54<1:56:27,  9.68s/it]"
          ]
        },
        {
          "metadata": {
            "tags": null
          },
          "name": "stdout",
          "output_type": "stream",
          "text": [
            "14/14 [==============================] - 0s 3ms/step\n"
          ]
        },
        {
          "metadata": {
            "tags": null
          },
          "name": "stderr",
          "output_type": "stream",
          "text": [
            "<ipython-input-30-84f19216e9c9>:14: FutureWarning: The frame.append method is deprecated and will be removed from pandas in a future version. Use pandas.concat instead.\n",
            "  ResultsCollection=ResultsCollection.append(IterResults, ignore_index=True)\n",
            "\r 29%|██▉       | 291/1012 [39:04<1:56:29,  9.69s/it]"
          ]
        },
        {
          "metadata": {
            "tags": null
          },
          "name": "stdout",
          "output_type": "stream",
          "text": [
            "14/14 [==============================] - 0s 4ms/step\n"
          ]
        },
        {
          "metadata": {
            "tags": null
          },
          "name": "stderr",
          "output_type": "stream",
          "text": [
            "<ipython-input-30-84f19216e9c9>:14: FutureWarning: The frame.append method is deprecated and will be removed from pandas in a future version. Use pandas.concat instead.\n",
            "  ResultsCollection=ResultsCollection.append(IterResults, ignore_index=True)\n",
            "\r 29%|██▉       | 292/1012 [39:13<1:56:21,  9.70s/it]"
          ]
        },
        {
          "metadata": {
            "tags": null
          },
          "name": "stdout",
          "output_type": "stream",
          "text": [
            "14/14 [==============================] - 0s 3ms/step\n"
          ]
        },
        {
          "metadata": {
            "tags": null
          },
          "name": "stderr",
          "output_type": "stream",
          "text": [
            "<ipython-input-30-84f19216e9c9>:14: FutureWarning: The frame.append method is deprecated and will be removed from pandas in a future version. Use pandas.concat instead.\n",
            "  ResultsCollection=ResultsCollection.append(IterResults, ignore_index=True)\n",
            "\r 29%|██▉       | 293/1012 [39:23<1:56:16,  9.70s/it]"
          ]
        },
        {
          "metadata": {
            "tags": null
          },
          "name": "stdout",
          "output_type": "stream",
          "text": [
            "14/14 [==============================] - 0s 3ms/step\n"
          ]
        },
        {
          "metadata": {
            "tags": null
          },
          "name": "stderr",
          "output_type": "stream",
          "text": [
            "<ipython-input-30-84f19216e9c9>:14: FutureWarning: The frame.append method is deprecated and will be removed from pandas in a future version. Use pandas.concat instead.\n",
            "  ResultsCollection=ResultsCollection.append(IterResults, ignore_index=True)\n",
            "\r 29%|██▉       | 294/1012 [39:33<1:55:43,  9.67s/it]"
          ]
        },
        {
          "metadata": {
            "tags": null
          },
          "name": "stdout",
          "output_type": "stream",
          "text": [
            "14/14 [==============================] - 0s 3ms/step\n"
          ]
        },
        {
          "metadata": {
            "tags": null
          },
          "name": "stderr",
          "output_type": "stream",
          "text": [
            "<ipython-input-30-84f19216e9c9>:14: FutureWarning: The frame.append method is deprecated and will be removed from pandas in a future version. Use pandas.concat instead.\n",
            "  ResultsCollection=ResultsCollection.append(IterResults, ignore_index=True)\n",
            "\r 29%|██▉       | 295/1012 [39:42<1:55:32,  9.67s/it]"
          ]
        },
        {
          "metadata": {
            "tags": null
          },
          "name": "stdout",
          "output_type": "stream",
          "text": [
            "14/14 [==============================] - 0s 3ms/step\n"
          ]
        },
        {
          "metadata": {
            "tags": null
          },
          "name": "stderr",
          "output_type": "stream",
          "text": [
            "<ipython-input-30-84f19216e9c9>:14: FutureWarning: The frame.append method is deprecated and will be removed from pandas in a future version. Use pandas.concat instead.\n",
            "  ResultsCollection=ResultsCollection.append(IterResults, ignore_index=True)\n",
            "\r 29%|██▉       | 296/1012 [39:52<1:55:44,  9.70s/it]"
          ]
        },
        {
          "metadata": {
            "tags": null
          },
          "name": "stdout",
          "output_type": "stream",
          "text": [
            "14/14 [==============================] - 0s 3ms/step\n"
          ]
        },
        {
          "metadata": {
            "tags": null
          },
          "name": "stderr",
          "output_type": "stream",
          "text": [
            "<ipython-input-30-84f19216e9c9>:14: FutureWarning: The frame.append method is deprecated and will be removed from pandas in a future version. Use pandas.concat instead.\n",
            "  ResultsCollection=ResultsCollection.append(IterResults, ignore_index=True)\n",
            "\r 29%|██▉       | 297/1012 [40:02<1:55:43,  9.71s/it]"
          ]
        },
        {
          "metadata": {
            "tags": null
          },
          "name": "stdout",
          "output_type": "stream",
          "text": [
            "14/14 [==============================] - 0s 3ms/step\n"
          ]
        },
        {
          "metadata": {
            "tags": null
          },
          "name": "stderr",
          "output_type": "stream",
          "text": [
            "<ipython-input-30-84f19216e9c9>:14: FutureWarning: The frame.append method is deprecated and will be removed from pandas in a future version. Use pandas.concat instead.\n",
            "  ResultsCollection=ResultsCollection.append(IterResults, ignore_index=True)\n",
            "\r 29%|██▉       | 298/1012 [40:12<1:55:32,  9.71s/it]"
          ]
        },
        {
          "metadata": {
            "tags": null
          },
          "name": "stdout",
          "output_type": "stream",
          "text": [
            "14/14 [==============================] - 0s 3ms/step\n"
          ]
        },
        {
          "metadata": {
            "tags": null
          },
          "name": "stderr",
          "output_type": "stream",
          "text": [
            "<ipython-input-30-84f19216e9c9>:14: FutureWarning: The frame.append method is deprecated and will be removed from pandas in a future version. Use pandas.concat instead.\n",
            "  ResultsCollection=ResultsCollection.append(IterResults, ignore_index=True)\n",
            "\r 30%|██▉       | 299/1012 [40:21<1:55:13,  9.70s/it]"
          ]
        },
        {
          "metadata": {
            "tags": null
          },
          "name": "stdout",
          "output_type": "stream",
          "text": [
            "14/14 [==============================] - 0s 3ms/step\n"
          ]
        },
        {
          "metadata": {
            "tags": null
          },
          "name": "stderr",
          "output_type": "stream",
          "text": [
            "<ipython-input-30-84f19216e9c9>:14: FutureWarning: The frame.append method is deprecated and will be removed from pandas in a future version. Use pandas.concat instead.\n",
            "  ResultsCollection=ResultsCollection.append(IterResults, ignore_index=True)\n",
            "\r 30%|██▉       | 300/1012 [40:31<1:55:50,  9.76s/it]"
          ]
        },
        {
          "metadata": {
            "tags": null
          },
          "name": "stdout",
          "output_type": "stream",
          "text": [
            "14/14 [==============================] - 0s 3ms/step\n"
          ]
        },
        {
          "metadata": {
            "tags": null
          },
          "name": "stderr",
          "output_type": "stream",
          "text": [
            "<ipython-input-30-84f19216e9c9>:14: FutureWarning: The frame.append method is deprecated and will be removed from pandas in a future version. Use pandas.concat instead.\n",
            "  ResultsCollection=ResultsCollection.append(IterResults, ignore_index=True)\n",
            "\r 30%|██▉       | 301/1012 [40:41<1:56:32,  9.83s/it]"
          ]
        },
        {
          "metadata": {
            "tags": null
          },
          "name": "stdout",
          "output_type": "stream",
          "text": [
            "14/14 [==============================] - 0s 3ms/step\n"
          ]
        },
        {
          "metadata": {
            "tags": null
          },
          "name": "stderr",
          "output_type": "stream",
          "text": [
            "<ipython-input-30-84f19216e9c9>:14: FutureWarning: The frame.append method is deprecated and will be removed from pandas in a future version. Use pandas.concat instead.\n",
            "  ResultsCollection=ResultsCollection.append(IterResults, ignore_index=True)\n",
            "\r 30%|██▉       | 302/1012 [40:51<1:56:06,  9.81s/it]"
          ]
        },
        {
          "metadata": {
            "tags": null
          },
          "name": "stdout",
          "output_type": "stream",
          "text": [
            "14/14 [==============================] - 0s 4ms/step\n"
          ]
        },
        {
          "metadata": {
            "tags": null
          },
          "name": "stderr",
          "output_type": "stream",
          "text": [
            "<ipython-input-30-84f19216e9c9>:14: FutureWarning: The frame.append method is deprecated and will be removed from pandas in a future version. Use pandas.concat instead.\n",
            "  ResultsCollection=ResultsCollection.append(IterResults, ignore_index=True)\n",
            "\r 30%|██▉       | 303/1012 [41:01<1:55:30,  9.77s/it]"
          ]
        },
        {
          "metadata": {
            "tags": null
          },
          "name": "stdout",
          "output_type": "stream",
          "text": [
            "14/14 [==============================] - 0s 3ms/step\n"
          ]
        },
        {
          "metadata": {
            "tags": null
          },
          "name": "stderr",
          "output_type": "stream",
          "text": [
            "<ipython-input-30-84f19216e9c9>:14: FutureWarning: The frame.append method is deprecated and will be removed from pandas in a future version. Use pandas.concat instead.\n",
            "  ResultsCollection=ResultsCollection.append(IterResults, ignore_index=True)\n",
            "\r 30%|███       | 304/1012 [41:11<1:55:30,  9.79s/it]"
          ]
        },
        {
          "metadata": {
            "tags": null
          },
          "name": "stdout",
          "output_type": "stream",
          "text": [
            "14/14 [==============================] - 0s 3ms/step\n"
          ]
        },
        {
          "metadata": {
            "tags": null
          },
          "name": "stderr",
          "output_type": "stream",
          "text": [
            "<ipython-input-30-84f19216e9c9>:14: FutureWarning: The frame.append method is deprecated and will be removed from pandas in a future version. Use pandas.concat instead.\n",
            "  ResultsCollection=ResultsCollection.append(IterResults, ignore_index=True)\n",
            "\r 30%|███       | 305/1012 [41:21<1:56:43,  9.91s/it]"
          ]
        },
        {
          "metadata": {
            "tags": null
          },
          "name": "stdout",
          "output_type": "stream",
          "text": [
            "14/14 [==============================] - 0s 3ms/step\n"
          ]
        },
        {
          "metadata": {
            "tags": null
          },
          "name": "stderr",
          "output_type": "stream",
          "text": [
            "<ipython-input-30-84f19216e9c9>:14: FutureWarning: The frame.append method is deprecated and will be removed from pandas in a future version. Use pandas.concat instead.\n",
            "  ResultsCollection=ResultsCollection.append(IterResults, ignore_index=True)\n",
            "\r 30%|███       | 306/1012 [41:31<1:57:28,  9.98s/it]"
          ]
        },
        {
          "metadata": {
            "tags": null
          },
          "name": "stdout",
          "output_type": "stream",
          "text": [
            "14/14 [==============================] - 1s 4ms/step\n"
          ]
        },
        {
          "metadata": {
            "tags": null
          },
          "name": "stderr",
          "output_type": "stream",
          "text": [
            "<ipython-input-30-84f19216e9c9>:14: FutureWarning: The frame.append method is deprecated and will be removed from pandas in a future version. Use pandas.concat instead.\n",
            "  ResultsCollection=ResultsCollection.append(IterResults, ignore_index=True)\n",
            "\r 30%|███       | 307/1012 [41:41<1:59:12, 10.15s/it]"
          ]
        },
        {
          "metadata": {
            "tags": null
          },
          "name": "stdout",
          "output_type": "stream",
          "text": [
            "14/14 [==============================] - 0s 4ms/step\n"
          ]
        },
        {
          "metadata": {
            "tags": null
          },
          "name": "stderr",
          "output_type": "stream",
          "text": [
            "<ipython-input-30-84f19216e9c9>:14: FutureWarning: The frame.append method is deprecated and will be removed from pandas in a future version. Use pandas.concat instead.\n",
            "  ResultsCollection=ResultsCollection.append(IterResults, ignore_index=True)\n",
            "\r 30%|███       | 308/1012 [41:51<1:58:29, 10.10s/it]"
          ]
        },
        {
          "metadata": {
            "tags": null
          },
          "name": "stdout",
          "output_type": "stream",
          "text": [
            "14/14 [==============================] - 0s 3ms/step\n"
          ]
        },
        {
          "metadata": {
            "tags": null
          },
          "name": "stderr",
          "output_type": "stream",
          "text": [
            "<ipython-input-30-84f19216e9c9>:14: FutureWarning: The frame.append method is deprecated and will be removed from pandas in a future version. Use pandas.concat instead.\n",
            "  ResultsCollection=ResultsCollection.append(IterResults, ignore_index=True)\n",
            "\r 31%|███       | 309/1012 [42:01<1:57:53, 10.06s/it]"
          ]
        },
        {
          "metadata": {
            "tags": null
          },
          "name": "stdout",
          "output_type": "stream",
          "text": [
            "14/14 [==============================] - 0s 3ms/step\n"
          ]
        },
        {
          "metadata": {
            "tags": null
          },
          "name": "stderr",
          "output_type": "stream",
          "text": [
            "<ipython-input-30-84f19216e9c9>:14: FutureWarning: The frame.append method is deprecated and will be removed from pandas in a future version. Use pandas.concat instead.\n",
            "  ResultsCollection=ResultsCollection.append(IterResults, ignore_index=True)\n",
            "\r 31%|███       | 310/1012 [42:11<1:57:42, 10.06s/it]"
          ]
        },
        {
          "metadata": {
            "tags": null
          },
          "name": "stdout",
          "output_type": "stream",
          "text": [
            "14/14 [==============================] - 0s 4ms/step\n"
          ]
        },
        {
          "metadata": {
            "tags": null
          },
          "name": "stderr",
          "output_type": "stream",
          "text": [
            "<ipython-input-30-84f19216e9c9>:14: FutureWarning: The frame.append method is deprecated and will be removed from pandas in a future version. Use pandas.concat instead.\n",
            "  ResultsCollection=ResultsCollection.append(IterResults, ignore_index=True)\n",
            "\r 31%|███       | 311/1012 [42:22<1:57:48, 10.08s/it]"
          ]
        },
        {
          "metadata": {
            "tags": null
          },
          "name": "stdout",
          "output_type": "stream",
          "text": [
            "14/14 [==============================] - 0s 3ms/step\n"
          ]
        },
        {
          "metadata": {
            "tags": null
          },
          "name": "stderr",
          "output_type": "stream",
          "text": [
            "<ipython-input-30-84f19216e9c9>:14: FutureWarning: The frame.append method is deprecated and will be removed from pandas in a future version. Use pandas.concat instead.\n",
            "  ResultsCollection=ResultsCollection.append(IterResults, ignore_index=True)\n",
            "\r 31%|███       | 312/1012 [42:31<1:57:00, 10.03s/it]"
          ]
        },
        {
          "metadata": {
            "tags": null
          },
          "name": "stdout",
          "output_type": "stream",
          "text": [
            "14/14 [==============================] - 0s 3ms/step\n"
          ]
        },
        {
          "metadata": {
            "tags": null
          },
          "name": "stderr",
          "output_type": "stream",
          "text": [
            "<ipython-input-30-84f19216e9c9>:14: FutureWarning: The frame.append method is deprecated and will be removed from pandas in a future version. Use pandas.concat instead.\n",
            "  ResultsCollection=ResultsCollection.append(IterResults, ignore_index=True)\n",
            "\r 31%|███       | 313/1012 [42:41<1:56:20,  9.99s/it]"
          ]
        },
        {
          "metadata": {
            "tags": null
          },
          "name": "stdout",
          "output_type": "stream",
          "text": [
            "14/14 [==============================] - 0s 4ms/step\n"
          ]
        },
        {
          "metadata": {
            "tags": null
          },
          "name": "stderr",
          "output_type": "stream",
          "text": [
            "<ipython-input-30-84f19216e9c9>:14: FutureWarning: The frame.append method is deprecated and will be removed from pandas in a future version. Use pandas.concat instead.\n",
            "  ResultsCollection=ResultsCollection.append(IterResults, ignore_index=True)\n",
            "\r 31%|███       | 314/1012 [42:51<1:55:57,  9.97s/it]"
          ]
        },
        {
          "metadata": {
            "tags": null
          },
          "name": "stdout",
          "output_type": "stream",
          "text": [
            "14/14 [==============================] - 0s 3ms/step\n"
          ]
        },
        {
          "metadata": {
            "tags": null
          },
          "name": "stderr",
          "output_type": "stream",
          "text": [
            "<ipython-input-30-84f19216e9c9>:14: FutureWarning: The frame.append method is deprecated and will be removed from pandas in a future version. Use pandas.concat instead.\n",
            "  ResultsCollection=ResultsCollection.append(IterResults, ignore_index=True)\n",
            "\r 31%|███       | 315/1012 [43:01<1:55:16,  9.92s/it]"
          ]
        },
        {
          "metadata": {
            "tags": null
          },
          "name": "stdout",
          "output_type": "stream",
          "text": [
            "14/14 [==============================] - 0s 3ms/step\n"
          ]
        },
        {
          "metadata": {
            "tags": null
          },
          "name": "stderr",
          "output_type": "stream",
          "text": [
            "<ipython-input-30-84f19216e9c9>:14: FutureWarning: The frame.append method is deprecated and will be removed from pandas in a future version. Use pandas.concat instead.\n",
            "  ResultsCollection=ResultsCollection.append(IterResults, ignore_index=True)\n",
            "\r 31%|███       | 316/1012 [43:11<1:55:02,  9.92s/it]"
          ]
        },
        {
          "metadata": {
            "tags": null
          },
          "name": "stdout",
          "output_type": "stream",
          "text": [
            "14/14 [==============================] - 0s 3ms/step\n"
          ]
        },
        {
          "metadata": {
            "tags": null
          },
          "name": "stderr",
          "output_type": "stream",
          "text": [
            "<ipython-input-30-84f19216e9c9>:14: FutureWarning: The frame.append method is deprecated and will be removed from pandas in a future version. Use pandas.concat instead.\n",
            "  ResultsCollection=ResultsCollection.append(IterResults, ignore_index=True)\n",
            "\r 31%|███▏      | 317/1012 [43:21<1:54:42,  9.90s/it]"
          ]
        },
        {
          "metadata": {
            "tags": null
          },
          "name": "stdout",
          "output_type": "stream",
          "text": [
            "14/14 [==============================] - 0s 3ms/step\n"
          ]
        },
        {
          "metadata": {
            "tags": null
          },
          "name": "stderr",
          "output_type": "stream",
          "text": [
            "<ipython-input-30-84f19216e9c9>:14: FutureWarning: The frame.append method is deprecated and will be removed from pandas in a future version. Use pandas.concat instead.\n",
            "  ResultsCollection=ResultsCollection.append(IterResults, ignore_index=True)\n",
            "\r 31%|███▏      | 318/1012 [43:31<1:55:16,  9.97s/it]"
          ]
        },
        {
          "metadata": {
            "tags": null
          },
          "name": "stdout",
          "output_type": "stream",
          "text": [
            "14/14 [==============================] - 0s 3ms/step\n"
          ]
        },
        {
          "metadata": {
            "tags": null
          },
          "name": "stderr",
          "output_type": "stream",
          "text": [
            "<ipython-input-30-84f19216e9c9>:14: FutureWarning: The frame.append method is deprecated and will be removed from pandas in a future version. Use pandas.concat instead.\n",
            "  ResultsCollection=ResultsCollection.append(IterResults, ignore_index=True)\n",
            "\r 32%|███▏      | 319/1012 [43:41<1:55:48, 10.03s/it]"
          ]
        },
        {
          "metadata": {
            "tags": null
          },
          "name": "stdout",
          "output_type": "stream",
          "text": [
            "14/14 [==============================] - 0s 3ms/step\n"
          ]
        },
        {
          "metadata": {
            "tags": null
          },
          "name": "stderr",
          "output_type": "stream",
          "text": [
            "<ipython-input-30-84f19216e9c9>:14: FutureWarning: The frame.append method is deprecated and will be removed from pandas in a future version. Use pandas.concat instead.\n",
            "  ResultsCollection=ResultsCollection.append(IterResults, ignore_index=True)\n",
            "\r 32%|███▏      | 320/1012 [43:51<1:55:13,  9.99s/it]"
          ]
        },
        {
          "metadata": {
            "tags": null
          },
          "name": "stdout",
          "output_type": "stream",
          "text": [
            "14/14 [==============================] - 0s 3ms/step\n"
          ]
        },
        {
          "metadata": {
            "tags": null
          },
          "name": "stderr",
          "output_type": "stream",
          "text": [
            "<ipython-input-30-84f19216e9c9>:14: FutureWarning: The frame.append method is deprecated and will be removed from pandas in a future version. Use pandas.concat instead.\n",
            "  ResultsCollection=ResultsCollection.append(IterResults, ignore_index=True)\n",
            "\r 32%|███▏      | 321/1012 [44:01<1:54:38,  9.95s/it]"
          ]
        },
        {
          "metadata": {
            "tags": null
          },
          "name": "stdout",
          "output_type": "stream",
          "text": [
            "14/14 [==============================] - 0s 3ms/step\n"
          ]
        },
        {
          "metadata": {
            "tags": null
          },
          "name": "stderr",
          "output_type": "stream",
          "text": [
            "<ipython-input-30-84f19216e9c9>:14: FutureWarning: The frame.append method is deprecated and will be removed from pandas in a future version. Use pandas.concat instead.\n",
            "  ResultsCollection=ResultsCollection.append(IterResults, ignore_index=True)\n",
            "\r 32%|███▏      | 322/1012 [44:11<1:54:59, 10.00s/it]"
          ]
        },
        {
          "metadata": {
            "tags": null
          },
          "name": "stdout",
          "output_type": "stream",
          "text": [
            "14/14 [==============================] - 0s 3ms/step\n"
          ]
        },
        {
          "metadata": {
            "tags": null
          },
          "name": "stderr",
          "output_type": "stream",
          "text": [
            "<ipython-input-30-84f19216e9c9>:14: FutureWarning: The frame.append method is deprecated and will be removed from pandas in a future version. Use pandas.concat instead.\n",
            "  ResultsCollection=ResultsCollection.append(IterResults, ignore_index=True)\n",
            "\r 32%|███▏      | 323/1012 [44:21<1:54:39,  9.98s/it]"
          ]
        },
        {
          "metadata": {
            "tags": null
          },
          "name": "stdout",
          "output_type": "stream",
          "text": [
            "14/14 [==============================] - 0s 3ms/step\n"
          ]
        },
        {
          "metadata": {
            "tags": null
          },
          "name": "stderr",
          "output_type": "stream",
          "text": [
            "<ipython-input-30-84f19216e9c9>:14: FutureWarning: The frame.append method is deprecated and will be removed from pandas in a future version. Use pandas.concat instead.\n",
            "  ResultsCollection=ResultsCollection.append(IterResults, ignore_index=True)\n",
            "\r 32%|███▏      | 324/1012 [44:31<1:56:04, 10.12s/it]"
          ]
        },
        {
          "metadata": {
            "tags": null
          },
          "name": "stdout",
          "output_type": "stream",
          "text": [
            "14/14 [==============================] - 0s 3ms/step\n"
          ]
        },
        {
          "metadata": {
            "tags": null
          },
          "name": "stderr",
          "output_type": "stream",
          "text": [
            "<ipython-input-30-84f19216e9c9>:14: FutureWarning: The frame.append method is deprecated and will be removed from pandas in a future version. Use pandas.concat instead.\n",
            "  ResultsCollection=ResultsCollection.append(IterResults, ignore_index=True)\n",
            "\r 32%|███▏      | 325/1012 [44:42<1:56:03, 10.14s/it]"
          ]
        },
        {
          "metadata": {
            "tags": null
          },
          "name": "stdout",
          "output_type": "stream",
          "text": [
            "14/14 [==============================] - 0s 3ms/step\n"
          ]
        },
        {
          "metadata": {
            "tags": null
          },
          "name": "stderr",
          "output_type": "stream",
          "text": [
            "<ipython-input-30-84f19216e9c9>:14: FutureWarning: The frame.append method is deprecated and will be removed from pandas in a future version. Use pandas.concat instead.\n",
            "  ResultsCollection=ResultsCollection.append(IterResults, ignore_index=True)\n",
            "\r 32%|███▏      | 326/1012 [44:52<1:56:10, 10.16s/it]"
          ]
        },
        {
          "metadata": {
            "tags": null
          },
          "name": "stdout",
          "output_type": "stream",
          "text": [
            "14/14 [==============================] - 0s 3ms/step\n"
          ]
        },
        {
          "metadata": {
            "tags": null
          },
          "name": "stderr",
          "output_type": "stream",
          "text": [
            "<ipython-input-30-84f19216e9c9>:14: FutureWarning: The frame.append method is deprecated and will be removed from pandas in a future version. Use pandas.concat instead.\n",
            "  ResultsCollection=ResultsCollection.append(IterResults, ignore_index=True)\n",
            "\r 32%|███▏      | 327/1012 [45:02<1:56:01, 10.16s/it]"
          ]
        },
        {
          "metadata": {
            "tags": null
          },
          "name": "stdout",
          "output_type": "stream",
          "text": [
            "14/14 [==============================] - 0s 3ms/step\n"
          ]
        },
        {
          "metadata": {
            "tags": null
          },
          "name": "stderr",
          "output_type": "stream",
          "text": [
            "<ipython-input-30-84f19216e9c9>:14: FutureWarning: The frame.append method is deprecated and will be removed from pandas in a future version. Use pandas.concat instead.\n",
            "  ResultsCollection=ResultsCollection.append(IterResults, ignore_index=True)\n",
            "\r 32%|███▏      | 328/1012 [45:12<1:55:48, 10.16s/it]"
          ]
        },
        {
          "metadata": {
            "tags": null
          },
          "name": "stdout",
          "output_type": "stream",
          "text": [
            "14/14 [==============================] - 0s 3ms/step\n"
          ]
        },
        {
          "metadata": {
            "tags": null
          },
          "name": "stderr",
          "output_type": "stream",
          "text": [
            "<ipython-input-30-84f19216e9c9>:14: FutureWarning: The frame.append method is deprecated and will be removed from pandas in a future version. Use pandas.concat instead.\n",
            "  ResultsCollection=ResultsCollection.append(IterResults, ignore_index=True)\n",
            "\r 33%|███▎      | 329/1012 [45:22<1:55:49, 10.17s/it]"
          ]
        },
        {
          "metadata": {
            "tags": null
          },
          "name": "stdout",
          "output_type": "stream",
          "text": [
            "14/14 [==============================] - 0s 3ms/step\n"
          ]
        },
        {
          "metadata": {
            "tags": null
          },
          "name": "stderr",
          "output_type": "stream",
          "text": [
            "<ipython-input-30-84f19216e9c9>:14: FutureWarning: The frame.append method is deprecated and will be removed from pandas in a future version. Use pandas.concat instead.\n",
            "  ResultsCollection=ResultsCollection.append(IterResults, ignore_index=True)\n",
            "\r 33%|███▎      | 330/1012 [45:32<1:55:15, 10.14s/it]"
          ]
        },
        {
          "metadata": {
            "tags": null
          },
          "name": "stdout",
          "output_type": "stream",
          "text": [
            "14/14 [==============================] - 0s 3ms/step\n"
          ]
        },
        {
          "metadata": {
            "tags": null
          },
          "name": "stderr",
          "output_type": "stream",
          "text": [
            "<ipython-input-30-84f19216e9c9>:14: FutureWarning: The frame.append method is deprecated and will be removed from pandas in a future version. Use pandas.concat instead.\n",
            "  ResultsCollection=ResultsCollection.append(IterResults, ignore_index=True)\n",
            "\r 33%|███▎      | 331/1012 [45:42<1:54:51, 10.12s/it]"
          ]
        },
        {
          "metadata": {
            "tags": null
          },
          "name": "stdout",
          "output_type": "stream",
          "text": [
            "14/14 [==============================] - 0s 3ms/step\n"
          ]
        },
        {
          "metadata": {
            "tags": null
          },
          "name": "stderr",
          "output_type": "stream",
          "text": [
            "<ipython-input-30-84f19216e9c9>:14: FutureWarning: The frame.append method is deprecated and will be removed from pandas in a future version. Use pandas.concat instead.\n",
            "  ResultsCollection=ResultsCollection.append(IterResults, ignore_index=True)\n",
            "\r 33%|███▎      | 332/1012 [45:53<1:55:09, 10.16s/it]"
          ]
        },
        {
          "metadata": {
            "tags": null
          },
          "name": "stdout",
          "output_type": "stream",
          "text": [
            "14/14 [==============================] - 0s 3ms/step\n"
          ]
        },
        {
          "metadata": {
            "tags": null
          },
          "name": "stderr",
          "output_type": "stream",
          "text": [
            "<ipython-input-30-84f19216e9c9>:14: FutureWarning: The frame.append method is deprecated and will be removed from pandas in a future version. Use pandas.concat instead.\n",
            "  ResultsCollection=ResultsCollection.append(IterResults, ignore_index=True)\n",
            "\r 33%|███▎      | 333/1012 [46:03<1:56:10, 10.27s/it]"
          ]
        },
        {
          "metadata": {
            "tags": null
          },
          "name": "stdout",
          "output_type": "stream",
          "text": [
            "14/14 [==============================] - 0s 3ms/step\n"
          ]
        },
        {
          "metadata": {
            "tags": null
          },
          "name": "stderr",
          "output_type": "stream",
          "text": [
            "<ipython-input-30-84f19216e9c9>:14: FutureWarning: The frame.append method is deprecated and will be removed from pandas in a future version. Use pandas.concat instead.\n",
            "  ResultsCollection=ResultsCollection.append(IterResults, ignore_index=True)\n",
            "\r 33%|███▎      | 334/1012 [46:16<2:05:10, 11.08s/it]"
          ]
        },
        {
          "metadata": {
            "tags": null
          },
          "name": "stdout",
          "output_type": "stream",
          "text": [
            "14/14 [==============================] - 0s 3ms/step\n"
          ]
        },
        {
          "metadata": {
            "tags": null
          },
          "name": "stderr",
          "output_type": "stream",
          "text": [
            "<ipython-input-30-84f19216e9c9>:14: FutureWarning: The frame.append method is deprecated and will be removed from pandas in a future version. Use pandas.concat instead.\n",
            "  ResultsCollection=ResultsCollection.append(IterResults, ignore_index=True)\n",
            "\r 33%|███▎      | 335/1012 [46:26<2:02:16, 10.84s/it]"
          ]
        },
        {
          "metadata": {
            "tags": null
          },
          "name": "stdout",
          "output_type": "stream",
          "text": [
            "14/14 [==============================] - 0s 3ms/step\n"
          ]
        },
        {
          "metadata": {
            "tags": null
          },
          "name": "stderr",
          "output_type": "stream",
          "text": [
            "<ipython-input-30-84f19216e9c9>:14: FutureWarning: The frame.append method is deprecated and will be removed from pandas in a future version. Use pandas.concat instead.\n",
            "  ResultsCollection=ResultsCollection.append(IterResults, ignore_index=True)\n",
            "\r 33%|███▎      | 336/1012 [46:37<2:00:38, 10.71s/it]"
          ]
        },
        {
          "metadata": {
            "tags": null
          },
          "name": "stdout",
          "output_type": "stream",
          "text": [
            "14/14 [==============================] - 0s 3ms/step\n"
          ]
        },
        {
          "metadata": {
            "tags": null
          },
          "name": "stderr",
          "output_type": "stream",
          "text": [
            "<ipython-input-30-84f19216e9c9>:14: FutureWarning: The frame.append method is deprecated and will be removed from pandas in a future version. Use pandas.concat instead.\n",
            "  ResultsCollection=ResultsCollection.append(IterResults, ignore_index=True)\n",
            "\r 33%|███▎      | 337/1012 [46:47<1:58:48, 10.56s/it]"
          ]
        },
        {
          "metadata": {
            "tags": null
          },
          "name": "stdout",
          "output_type": "stream",
          "text": [
            "14/14 [==============================] - 0s 3ms/step\n"
          ]
        },
        {
          "metadata": {
            "tags": null
          },
          "name": "stderr",
          "output_type": "stream",
          "text": [
            "<ipython-input-30-84f19216e9c9>:14: FutureWarning: The frame.append method is deprecated and will be removed from pandas in a future version. Use pandas.concat instead.\n",
            "  ResultsCollection=ResultsCollection.append(IterResults, ignore_index=True)\n",
            "\r 33%|███▎      | 338/1012 [46:57<1:58:00, 10.51s/it]"
          ]
        },
        {
          "metadata": {
            "tags": null
          },
          "name": "stdout",
          "output_type": "stream",
          "text": [
            "14/14 [==============================] - 0s 3ms/step\n"
          ]
        },
        {
          "metadata": {
            "tags": null
          },
          "name": "stderr",
          "output_type": "stream",
          "text": [
            "<ipython-input-30-84f19216e9c9>:14: FutureWarning: The frame.append method is deprecated and will be removed from pandas in a future version. Use pandas.concat instead.\n",
            "  ResultsCollection=ResultsCollection.append(IterResults, ignore_index=True)\n",
            "\r 33%|███▎      | 339/1012 [47:08<1:56:49, 10.42s/it]"
          ]
        },
        {
          "metadata": {
            "tags": null
          },
          "name": "stdout",
          "output_type": "stream",
          "text": [
            "14/14 [==============================] - 0s 3ms/step\n"
          ]
        },
        {
          "metadata": {
            "tags": null
          },
          "name": "stderr",
          "output_type": "stream",
          "text": [
            "<ipython-input-30-84f19216e9c9>:14: FutureWarning: The frame.append method is deprecated and will be removed from pandas in a future version. Use pandas.concat instead.\n",
            "  ResultsCollection=ResultsCollection.append(IterResults, ignore_index=True)\n",
            "\r 34%|███▎      | 340/1012 [47:18<1:55:45, 10.34s/it]"
          ]
        },
        {
          "metadata": {
            "tags": null
          },
          "name": "stdout",
          "output_type": "stream",
          "text": [
            "14/14 [==============================] - 0s 3ms/step\n"
          ]
        },
        {
          "metadata": {
            "tags": null
          },
          "name": "stderr",
          "output_type": "stream",
          "text": [
            "<ipython-input-30-84f19216e9c9>:14: FutureWarning: The frame.append method is deprecated and will be removed from pandas in a future version. Use pandas.concat instead.\n",
            "  ResultsCollection=ResultsCollection.append(IterResults, ignore_index=True)\n",
            "\r 34%|███▎      | 341/1012 [47:28<1:55:55, 10.37s/it]"
          ]
        },
        {
          "metadata": {
            "tags": null
          },
          "name": "stdout",
          "output_type": "stream",
          "text": [
            "14/14 [==============================] - 0s 3ms/step\n"
          ]
        },
        {
          "metadata": {
            "tags": null
          },
          "name": "stderr",
          "output_type": "stream",
          "text": [
            "<ipython-input-30-84f19216e9c9>:14: FutureWarning: The frame.append method is deprecated and will be removed from pandas in a future version. Use pandas.concat instead.\n",
            "  ResultsCollection=ResultsCollection.append(IterResults, ignore_index=True)\n",
            "\r 34%|███▍      | 342/1012 [47:38<1:55:15, 10.32s/it]"
          ]
        },
        {
          "metadata": {
            "tags": null
          },
          "name": "stdout",
          "output_type": "stream",
          "text": [
            "14/14 [==============================] - 0s 3ms/step\n"
          ]
        },
        {
          "metadata": {
            "tags": null
          },
          "name": "stderr",
          "output_type": "stream",
          "text": [
            "<ipython-input-30-84f19216e9c9>:14: FutureWarning: The frame.append method is deprecated and will be removed from pandas in a future version. Use pandas.concat instead.\n",
            "  ResultsCollection=ResultsCollection.append(IterResults, ignore_index=True)\n",
            "\r 34%|███▍      | 343/1012 [47:49<1:54:35, 10.28s/it]"
          ]
        },
        {
          "metadata": {
            "tags": null
          },
          "name": "stdout",
          "output_type": "stream",
          "text": [
            "14/14 [==============================] - 0s 3ms/step\n"
          ]
        },
        {
          "metadata": {
            "tags": null
          },
          "name": "stderr",
          "output_type": "stream",
          "text": [
            "<ipython-input-30-84f19216e9c9>:14: FutureWarning: The frame.append method is deprecated and will be removed from pandas in a future version. Use pandas.concat instead.\n",
            "  ResultsCollection=ResultsCollection.append(IterResults, ignore_index=True)\n",
            "\r 34%|███▍      | 344/1012 [47:59<1:54:54, 10.32s/it]"
          ]
        },
        {
          "metadata": {
            "tags": null
          },
          "name": "stdout",
          "output_type": "stream",
          "text": [
            "14/14 [==============================] - 0s 3ms/step\n"
          ]
        },
        {
          "metadata": {
            "tags": null
          },
          "name": "stderr",
          "output_type": "stream",
          "text": [
            "<ipython-input-30-84f19216e9c9>:14: FutureWarning: The frame.append method is deprecated and will be removed from pandas in a future version. Use pandas.concat instead.\n",
            "  ResultsCollection=ResultsCollection.append(IterResults, ignore_index=True)\n",
            "\r 34%|███▍      | 345/1012 [48:09<1:54:40, 10.32s/it]"
          ]
        },
        {
          "metadata": {
            "tags": null
          },
          "name": "stdout",
          "output_type": "stream",
          "text": [
            "14/14 [==============================] - 0s 3ms/step\n"
          ]
        },
        {
          "metadata": {
            "tags": null
          },
          "name": "stderr",
          "output_type": "stream",
          "text": [
            "<ipython-input-30-84f19216e9c9>:14: FutureWarning: The frame.append method is deprecated and will be removed from pandas in a future version. Use pandas.concat instead.\n",
            "  ResultsCollection=ResultsCollection.append(IterResults, ignore_index=True)\n",
            "\r 34%|███▍      | 346/1012 [48:20<1:54:27, 10.31s/it]"
          ]
        },
        {
          "metadata": {
            "tags": null
          },
          "name": "stdout",
          "output_type": "stream",
          "text": [
            "13/13 [==============================] - 0s 3ms/step\n"
          ]
        },
        {
          "metadata": {
            "tags": null
          },
          "name": "stderr",
          "output_type": "stream",
          "text": [
            "<ipython-input-30-84f19216e9c9>:14: FutureWarning: The frame.append method is deprecated and will be removed from pandas in a future version. Use pandas.concat instead.\n",
            "  ResultsCollection=ResultsCollection.append(IterResults, ignore_index=True)\n",
            "\r 34%|███▍      | 347/1012 [48:30<1:54:13, 10.31s/it]"
          ]
        },
        {
          "metadata": {
            "tags": null
          },
          "name": "stdout",
          "output_type": "stream",
          "text": [
            "13/13 [==============================] - 0s 3ms/step\n"
          ]
        },
        {
          "metadata": {
            "tags": null
          },
          "name": "stderr",
          "output_type": "stream",
          "text": [
            "<ipython-input-30-84f19216e9c9>:14: FutureWarning: The frame.append method is deprecated and will be removed from pandas in a future version. Use pandas.concat instead.\n",
            "  ResultsCollection=ResultsCollection.append(IterResults, ignore_index=True)\n",
            "\r 34%|███▍      | 348/1012 [48:40<1:54:15, 10.32s/it]"
          ]
        },
        {
          "metadata": {
            "tags": null
          },
          "name": "stdout",
          "output_type": "stream",
          "text": [
            "13/13 [==============================] - 0s 3ms/step\n"
          ]
        },
        {
          "metadata": {
            "tags": null
          },
          "name": "stderr",
          "output_type": "stream",
          "text": [
            "<ipython-input-30-84f19216e9c9>:14: FutureWarning: The frame.append method is deprecated and will be removed from pandas in a future version. Use pandas.concat instead.\n",
            "  ResultsCollection=ResultsCollection.append(IterResults, ignore_index=True)\n",
            "\r 34%|███▍      | 349/1012 [48:51<1:53:40, 10.29s/it]"
          ]
        },
        {
          "metadata": {
            "tags": null
          },
          "name": "stdout",
          "output_type": "stream",
          "text": [
            "13/13 [==============================] - 0s 3ms/step\n"
          ]
        },
        {
          "metadata": {
            "tags": null
          },
          "name": "stderr",
          "output_type": "stream",
          "text": [
            "<ipython-input-30-84f19216e9c9>:14: FutureWarning: The frame.append method is deprecated and will be removed from pandas in a future version. Use pandas.concat instead.\n",
            "  ResultsCollection=ResultsCollection.append(IterResults, ignore_index=True)\n",
            "\r 35%|███▍      | 350/1012 [49:01<1:53:21, 10.27s/it]"
          ]
        },
        {
          "metadata": {
            "tags": null
          },
          "name": "stdout",
          "output_type": "stream",
          "text": [
            "13/13 [==============================] - 0s 3ms/step\n"
          ]
        },
        {
          "metadata": {
            "tags": null
          },
          "name": "stderr",
          "output_type": "stream",
          "text": [
            "<ipython-input-30-84f19216e9c9>:14: FutureWarning: The frame.append method is deprecated and will be removed from pandas in a future version. Use pandas.concat instead.\n",
            "  ResultsCollection=ResultsCollection.append(IterResults, ignore_index=True)\n",
            "\r 35%|███▍      | 351/1012 [49:11<1:53:21, 10.29s/it]"
          ]
        },
        {
          "metadata": {
            "tags": null
          },
          "name": "stdout",
          "output_type": "stream",
          "text": [
            "13/13 [==============================] - 0s 3ms/step\n"
          ]
        },
        {
          "metadata": {
            "tags": null
          },
          "name": "stderr",
          "output_type": "stream",
          "text": [
            "<ipython-input-30-84f19216e9c9>:14: FutureWarning: The frame.append method is deprecated and will be removed from pandas in a future version. Use pandas.concat instead.\n",
            "  ResultsCollection=ResultsCollection.append(IterResults, ignore_index=True)\n",
            "\r 35%|███▍      | 352/1012 [49:21<1:53:07, 10.28s/it]"
          ]
        },
        {
          "metadata": {
            "tags": null
          },
          "name": "stdout",
          "output_type": "stream",
          "text": [
            "13/13 [==============================] - 0s 3ms/step\n"
          ]
        },
        {
          "metadata": {
            "tags": null
          },
          "name": "stderr",
          "output_type": "stream",
          "text": [
            "<ipython-input-30-84f19216e9c9>:14: FutureWarning: The frame.append method is deprecated and will be removed from pandas in a future version. Use pandas.concat instead.\n",
            "  ResultsCollection=ResultsCollection.append(IterResults, ignore_index=True)\n",
            "\r 35%|███▍      | 353/1012 [49:32<1:52:56, 10.28s/it]"
          ]
        },
        {
          "metadata": {
            "tags": null
          },
          "name": "stdout",
          "output_type": "stream",
          "text": [
            "13/13 [==============================] - 0s 3ms/step\n"
          ]
        },
        {
          "metadata": {
            "tags": null
          },
          "name": "stderr",
          "output_type": "stream",
          "text": [
            "<ipython-input-30-84f19216e9c9>:14: FutureWarning: The frame.append method is deprecated and will be removed from pandas in a future version. Use pandas.concat instead.\n",
            "  ResultsCollection=ResultsCollection.append(IterResults, ignore_index=True)\n",
            "\r 35%|███▍      | 354/1012 [49:42<1:52:51, 10.29s/it]"
          ]
        },
        {
          "metadata": {
            "tags": null
          },
          "name": "stdout",
          "output_type": "stream",
          "text": [
            "13/13 [==============================] - 0s 3ms/step\n"
          ]
        },
        {
          "metadata": {
            "tags": null
          },
          "name": "stderr",
          "output_type": "stream",
          "text": [
            "<ipython-input-30-84f19216e9c9>:14: FutureWarning: The frame.append method is deprecated and will be removed from pandas in a future version. Use pandas.concat instead.\n",
            "  ResultsCollection=ResultsCollection.append(IterResults, ignore_index=True)\n",
            "\r 35%|███▌      | 355/1012 [49:52<1:52:43, 10.29s/it]"
          ]
        },
        {
          "metadata": {
            "tags": null
          },
          "name": "stdout",
          "output_type": "stream",
          "text": [
            "13/13 [==============================] - 0s 3ms/step\n"
          ]
        },
        {
          "metadata": {
            "tags": null
          },
          "name": "stderr",
          "output_type": "stream",
          "text": [
            "<ipython-input-30-84f19216e9c9>:14: FutureWarning: The frame.append method is deprecated and will be removed from pandas in a future version. Use pandas.concat instead.\n",
            "  ResultsCollection=ResultsCollection.append(IterResults, ignore_index=True)\n",
            "\r 35%|███▌      | 356/1012 [50:03<1:52:47, 10.32s/it]"
          ]
        },
        {
          "metadata": {
            "tags": null
          },
          "name": "stdout",
          "output_type": "stream",
          "text": [
            "13/13 [==============================] - 0s 3ms/step\n"
          ]
        },
        {
          "metadata": {
            "tags": null
          },
          "name": "stderr",
          "output_type": "stream",
          "text": [
            "<ipython-input-30-84f19216e9c9>:14: FutureWarning: The frame.append method is deprecated and will be removed from pandas in a future version. Use pandas.concat instead.\n",
            "  ResultsCollection=ResultsCollection.append(IterResults, ignore_index=True)\n",
            "\r 35%|███▌      | 357/1012 [50:13<1:53:12, 10.37s/it]"
          ]
        },
        {
          "metadata": {
            "tags": null
          },
          "name": "stdout",
          "output_type": "stream",
          "text": [
            "13/13 [==============================] - 0s 3ms/step\n"
          ]
        },
        {
          "metadata": {
            "tags": null
          },
          "name": "stderr",
          "output_type": "stream",
          "text": [
            "<ipython-input-30-84f19216e9c9>:14: FutureWarning: The frame.append method is deprecated and will be removed from pandas in a future version. Use pandas.concat instead.\n",
            "  ResultsCollection=ResultsCollection.append(IterResults, ignore_index=True)\n",
            "\r 35%|███▌      | 358/1012 [50:23<1:52:58, 10.37s/it]"
          ]
        },
        {
          "metadata": {
            "tags": null
          },
          "name": "stdout",
          "output_type": "stream",
          "text": [
            "13/13 [==============================] - 0s 3ms/step\n"
          ]
        },
        {
          "metadata": {
            "tags": null
          },
          "name": "stderr",
          "output_type": "stream",
          "text": [
            "<ipython-input-30-84f19216e9c9>:14: FutureWarning: The frame.append method is deprecated and will be removed from pandas in a future version. Use pandas.concat instead.\n",
            "  ResultsCollection=ResultsCollection.append(IterResults, ignore_index=True)\n",
            "\r 35%|███▌      | 359/1012 [50:34<1:52:56, 10.38s/it]"
          ]
        },
        {
          "metadata": {
            "tags": null
          },
          "name": "stdout",
          "output_type": "stream",
          "text": [
            "13/13 [==============================] - 0s 3ms/step\n"
          ]
        },
        {
          "metadata": {
            "tags": null
          },
          "name": "stderr",
          "output_type": "stream",
          "text": [
            "<ipython-input-30-84f19216e9c9>:14: FutureWarning: The frame.append method is deprecated and will be removed from pandas in a future version. Use pandas.concat instead.\n",
            "  ResultsCollection=ResultsCollection.append(IterResults, ignore_index=True)\n",
            "\r 36%|███▌      | 360/1012 [50:44<1:52:48, 10.38s/it]"
          ]
        },
        {
          "metadata": {
            "tags": null
          },
          "name": "stdout",
          "output_type": "stream",
          "text": [
            "13/13 [==============================] - 0s 3ms/step\n"
          ]
        },
        {
          "metadata": {
            "tags": null
          },
          "name": "stderr",
          "output_type": "stream",
          "text": [
            "<ipython-input-30-84f19216e9c9>:14: FutureWarning: The frame.append method is deprecated and will be removed from pandas in a future version. Use pandas.concat instead.\n",
            "  ResultsCollection=ResultsCollection.append(IterResults, ignore_index=True)\n",
            "\r 36%|███▌      | 361/1012 [50:55<1:52:47, 10.40s/it]"
          ]
        },
        {
          "metadata": {
            "tags": null
          },
          "name": "stdout",
          "output_type": "stream",
          "text": [
            "13/13 [==============================] - 0s 3ms/step\n"
          ]
        },
        {
          "metadata": {
            "tags": null
          },
          "name": "stderr",
          "output_type": "stream",
          "text": [
            "<ipython-input-30-84f19216e9c9>:14: FutureWarning: The frame.append method is deprecated and will be removed from pandas in a future version. Use pandas.concat instead.\n",
            "  ResultsCollection=ResultsCollection.append(IterResults, ignore_index=True)\n",
            "\r 36%|███▌      | 362/1012 [51:05<1:52:36, 10.39s/it]"
          ]
        },
        {
          "metadata": {
            "tags": null
          },
          "name": "stdout",
          "output_type": "stream",
          "text": [
            "13/13 [==============================] - 0s 3ms/step\n"
          ]
        },
        {
          "metadata": {
            "tags": null
          },
          "name": "stderr",
          "output_type": "stream",
          "text": [
            "<ipython-input-30-84f19216e9c9>:14: FutureWarning: The frame.append method is deprecated and will be removed from pandas in a future version. Use pandas.concat instead.\n",
            "  ResultsCollection=ResultsCollection.append(IterResults, ignore_index=True)\n",
            "\r 36%|███▌      | 363/1012 [51:16<1:53:07, 10.46s/it]"
          ]
        },
        {
          "metadata": {
            "tags": null
          },
          "name": "stdout",
          "output_type": "stream",
          "text": [
            "13/13 [==============================] - 0s 3ms/step\n"
          ]
        },
        {
          "metadata": {
            "tags": null
          },
          "name": "stderr",
          "output_type": "stream",
          "text": [
            "<ipython-input-30-84f19216e9c9>:14: FutureWarning: The frame.append method is deprecated and will be removed from pandas in a future version. Use pandas.concat instead.\n",
            "  ResultsCollection=ResultsCollection.append(IterResults, ignore_index=True)\n",
            "\r 36%|███▌      | 364/1012 [51:26<1:52:49, 10.45s/it]"
          ]
        },
        {
          "metadata": {
            "tags": null
          },
          "name": "stdout",
          "output_type": "stream",
          "text": [
            "13/13 [==============================] - 0s 3ms/step\n"
          ]
        },
        {
          "metadata": {
            "tags": null
          },
          "name": "stderr",
          "output_type": "stream",
          "text": [
            "<ipython-input-30-84f19216e9c9>:14: FutureWarning: The frame.append method is deprecated and will be removed from pandas in a future version. Use pandas.concat instead.\n",
            "  ResultsCollection=ResultsCollection.append(IterResults, ignore_index=True)\n",
            "\r 36%|███▌      | 365/1012 [51:37<1:53:05, 10.49s/it]"
          ]
        },
        {
          "metadata": {
            "tags": null
          },
          "name": "stdout",
          "output_type": "stream",
          "text": [
            "13/13 [==============================] - 0s 3ms/step\n"
          ]
        },
        {
          "metadata": {
            "tags": null
          },
          "name": "stderr",
          "output_type": "stream",
          "text": [
            "<ipython-input-30-84f19216e9c9>:14: FutureWarning: The frame.append method is deprecated and will be removed from pandas in a future version. Use pandas.concat instead.\n",
            "  ResultsCollection=ResultsCollection.append(IterResults, ignore_index=True)\n",
            "\r 36%|███▌      | 366/1012 [51:47<1:52:51, 10.48s/it]"
          ]
        },
        {
          "metadata": {
            "tags": null
          },
          "name": "stdout",
          "output_type": "stream",
          "text": [
            "13/13 [==============================] - 0s 3ms/step\n"
          ]
        },
        {
          "metadata": {
            "tags": null
          },
          "name": "stderr",
          "output_type": "stream",
          "text": [
            "<ipython-input-30-84f19216e9c9>:14: FutureWarning: The frame.append method is deprecated and will be removed from pandas in a future version. Use pandas.concat instead.\n",
            "  ResultsCollection=ResultsCollection.append(IterResults, ignore_index=True)\n",
            "\r 36%|███▋      | 367/1012 [51:58<1:53:10, 10.53s/it]"
          ]
        },
        {
          "metadata": {
            "tags": null
          },
          "name": "stdout",
          "output_type": "stream",
          "text": [
            "14/14 [==============================] - 0s 3ms/step\n"
          ]
        },
        {
          "metadata": {
            "tags": null
          },
          "name": "stderr",
          "output_type": "stream",
          "text": [
            "<ipython-input-30-84f19216e9c9>:14: FutureWarning: The frame.append method is deprecated and will be removed from pandas in a future version. Use pandas.concat instead.\n",
            "  ResultsCollection=ResultsCollection.append(IterResults, ignore_index=True)\n",
            "\r 36%|███▋      | 368/1012 [52:08<1:52:56, 10.52s/it]"
          ]
        },
        {
          "metadata": {
            "tags": null
          },
          "name": "stdout",
          "output_type": "stream",
          "text": [
            "14/14 [==============================] - 0s 3ms/step\n"
          ]
        },
        {
          "metadata": {
            "tags": null
          },
          "name": "stderr",
          "output_type": "stream",
          "text": [
            "<ipython-input-30-84f19216e9c9>:14: FutureWarning: The frame.append method is deprecated and will be removed from pandas in a future version. Use pandas.concat instead.\n",
            "  ResultsCollection=ResultsCollection.append(IterResults, ignore_index=True)\n",
            "\r 36%|███▋      | 369/1012 [52:19<1:52:37, 10.51s/it]"
          ]
        },
        {
          "metadata": {
            "tags": null
          },
          "name": "stdout",
          "output_type": "stream",
          "text": [
            "14/14 [==============================] - 0s 3ms/step\n"
          ]
        },
        {
          "metadata": {
            "tags": null
          },
          "name": "stderr",
          "output_type": "stream",
          "text": [
            "<ipython-input-30-84f19216e9c9>:14: FutureWarning: The frame.append method is deprecated and will be removed from pandas in a future version. Use pandas.concat instead.\n",
            "  ResultsCollection=ResultsCollection.append(IterResults, ignore_index=True)\n",
            "\r 37%|███▋      | 370/1012 [52:29<1:52:06, 10.48s/it]"
          ]
        },
        {
          "metadata": {
            "tags": null
          },
          "name": "stdout",
          "output_type": "stream",
          "text": [
            "14/14 [==============================] - 0s 3ms/step\n"
          ]
        },
        {
          "metadata": {
            "tags": null
          },
          "name": "stderr",
          "output_type": "stream",
          "text": [
            "<ipython-input-30-84f19216e9c9>:14: FutureWarning: The frame.append method is deprecated and will be removed from pandas in a future version. Use pandas.concat instead.\n",
            "  ResultsCollection=ResultsCollection.append(IterResults, ignore_index=True)\n",
            "\r 37%|███▋      | 371/1012 [52:40<1:52:00, 10.48s/it]"
          ]
        },
        {
          "metadata": {
            "tags": null
          },
          "name": "stdout",
          "output_type": "stream",
          "text": [
            "14/14 [==============================] - 0s 3ms/step\n"
          ]
        },
        {
          "metadata": {
            "tags": null
          },
          "name": "stderr",
          "output_type": "stream",
          "text": [
            "<ipython-input-30-84f19216e9c9>:14: FutureWarning: The frame.append method is deprecated and will be removed from pandas in a future version. Use pandas.concat instead.\n",
            "  ResultsCollection=ResultsCollection.append(IterResults, ignore_index=True)\n",
            "\r 37%|███▋      | 372/1012 [52:50<1:51:57, 10.50s/it]"
          ]
        },
        {
          "metadata": {
            "tags": null
          },
          "name": "stdout",
          "output_type": "stream",
          "text": [
            "14/14 [==============================] - 0s 3ms/step\n"
          ]
        },
        {
          "metadata": {
            "tags": null
          },
          "name": "stderr",
          "output_type": "stream",
          "text": [
            "<ipython-input-30-84f19216e9c9>:14: FutureWarning: The frame.append method is deprecated and will be removed from pandas in a future version. Use pandas.concat instead.\n",
            "  ResultsCollection=ResultsCollection.append(IterResults, ignore_index=True)\n",
            "\r 37%|███▋      | 373/1012 [53:01<1:52:17, 10.54s/it]"
          ]
        },
        {
          "metadata": {
            "tags": null
          },
          "name": "stdout",
          "output_type": "stream",
          "text": [
            "14/14 [==============================] - 0s 3ms/step\n"
          ]
        },
        {
          "metadata": {
            "tags": null
          },
          "name": "stderr",
          "output_type": "stream",
          "text": [
            "<ipython-input-30-84f19216e9c9>:14: FutureWarning: The frame.append method is deprecated and will be removed from pandas in a future version. Use pandas.concat instead.\n",
            "  ResultsCollection=ResultsCollection.append(IterResults, ignore_index=True)\n",
            "\r 37%|███▋      | 374/1012 [53:12<1:52:31, 10.58s/it]"
          ]
        },
        {
          "metadata": {
            "tags": null
          },
          "name": "stdout",
          "output_type": "stream",
          "text": [
            "14/14 [==============================] - 0s 3ms/step\n"
          ]
        },
        {
          "metadata": {
            "tags": null
          },
          "name": "stderr",
          "output_type": "stream",
          "text": [
            "<ipython-input-30-84f19216e9c9>:14: FutureWarning: The frame.append method is deprecated and will be removed from pandas in a future version. Use pandas.concat instead.\n",
            "  ResultsCollection=ResultsCollection.append(IterResults, ignore_index=True)\n",
            "\r 37%|███▋      | 375/1012 [53:22<1:52:17, 10.58s/it]"
          ]
        },
        {
          "metadata": {
            "tags": null
          },
          "name": "stdout",
          "output_type": "stream",
          "text": [
            "14/14 [==============================] - 0s 3ms/step\n"
          ]
        },
        {
          "metadata": {
            "tags": null
          },
          "name": "stderr",
          "output_type": "stream",
          "text": [
            "<ipython-input-30-84f19216e9c9>:14: FutureWarning: The frame.append method is deprecated and will be removed from pandas in a future version. Use pandas.concat instead.\n",
            "  ResultsCollection=ResultsCollection.append(IterResults, ignore_index=True)\n",
            "\r 37%|███▋      | 376/1012 [53:33<1:52:37, 10.62s/it]"
          ]
        },
        {
          "metadata": {
            "tags": null
          },
          "name": "stdout",
          "output_type": "stream",
          "text": [
            "14/14 [==============================] - 0s 3ms/step\n"
          ]
        },
        {
          "metadata": {
            "tags": null
          },
          "name": "stderr",
          "output_type": "stream",
          "text": [
            "<ipython-input-30-84f19216e9c9>:14: FutureWarning: The frame.append method is deprecated and will be removed from pandas in a future version. Use pandas.concat instead.\n",
            "  ResultsCollection=ResultsCollection.append(IterResults, ignore_index=True)\n",
            "\r 37%|███▋      | 377/1012 [53:44<1:52:33, 10.64s/it]"
          ]
        },
        {
          "metadata": {
            "tags": null
          },
          "name": "stdout",
          "output_type": "stream",
          "text": [
            "14/14 [==============================] - 0s 3ms/step\n"
          ]
        },
        {
          "metadata": {
            "tags": null
          },
          "name": "stderr",
          "output_type": "stream",
          "text": [
            "<ipython-input-30-84f19216e9c9>:14: FutureWarning: The frame.append method is deprecated and will be removed from pandas in a future version. Use pandas.concat instead.\n",
            "  ResultsCollection=ResultsCollection.append(IterResults, ignore_index=True)\n",
            "\r 37%|███▋      | 378/1012 [53:54<1:52:31, 10.65s/it]"
          ]
        },
        {
          "metadata": {
            "tags": null
          },
          "name": "stdout",
          "output_type": "stream",
          "text": [
            "14/14 [==============================] - 0s 3ms/step\n"
          ]
        },
        {
          "metadata": {
            "tags": null
          },
          "name": "stderr",
          "output_type": "stream",
          "text": [
            "<ipython-input-30-84f19216e9c9>:14: FutureWarning: The frame.append method is deprecated and will be removed from pandas in a future version. Use pandas.concat instead.\n",
            "  ResultsCollection=ResultsCollection.append(IterResults, ignore_index=True)\n",
            "\r 37%|███▋      | 379/1012 [54:05<1:52:38, 10.68s/it]"
          ]
        },
        {
          "metadata": {
            "tags": null
          },
          "name": "stdout",
          "output_type": "stream",
          "text": [
            "14/14 [==============================] - 0s 3ms/step\n"
          ]
        },
        {
          "metadata": {
            "tags": null
          },
          "name": "stderr",
          "output_type": "stream",
          "text": [
            "<ipython-input-30-84f19216e9c9>:14: FutureWarning: The frame.append method is deprecated and will be removed from pandas in a future version. Use pandas.concat instead.\n",
            "  ResultsCollection=ResultsCollection.append(IterResults, ignore_index=True)\n",
            "\r 38%|███▊      | 380/1012 [54:16<1:52:35, 10.69s/it]"
          ]
        },
        {
          "metadata": {
            "tags": null
          },
          "name": "stdout",
          "output_type": "stream",
          "text": [
            "14/14 [==============================] - 0s 3ms/step\n"
          ]
        },
        {
          "metadata": {
            "tags": null
          },
          "name": "stderr",
          "output_type": "stream",
          "text": [
            "<ipython-input-30-84f19216e9c9>:14: FutureWarning: The frame.append method is deprecated and will be removed from pandas in a future version. Use pandas.concat instead.\n",
            "  ResultsCollection=ResultsCollection.append(IterResults, ignore_index=True)\n",
            "\r 38%|███▊      | 381/1012 [54:26<1:52:23, 10.69s/it]"
          ]
        },
        {
          "metadata": {
            "tags": null
          },
          "name": "stdout",
          "output_type": "stream",
          "text": [
            "14/14 [==============================] - 1s 4ms/step\n"
          ]
        },
        {
          "metadata": {
            "tags": null
          },
          "name": "stderr",
          "output_type": "stream",
          "text": [
            "<ipython-input-30-84f19216e9c9>:14: FutureWarning: The frame.append method is deprecated and will be removed from pandas in a future version. Use pandas.concat instead.\n",
            "  ResultsCollection=ResultsCollection.append(IterResults, ignore_index=True)\n",
            "\r 38%|███▊      | 382/1012 [54:37<1:52:13, 10.69s/it]"
          ]
        },
        {
          "metadata": {
            "tags": null
          },
          "name": "stdout",
          "output_type": "stream",
          "text": [
            "14/14 [==============================] - 0s 4ms/step\n"
          ]
        },
        {
          "metadata": {
            "tags": null
          },
          "name": "stderr",
          "output_type": "stream",
          "text": [
            "<ipython-input-30-84f19216e9c9>:14: FutureWarning: The frame.append method is deprecated and will be removed from pandas in a future version. Use pandas.concat instead.\n",
            "  ResultsCollection=ResultsCollection.append(IterResults, ignore_index=True)\n",
            "\r 38%|███▊      | 383/1012 [54:48<1:52:25, 10.72s/it]"
          ]
        },
        {
          "metadata": {
            "tags": null
          },
          "name": "stdout",
          "output_type": "stream",
          "text": [
            "14/14 [==============================] - 0s 4ms/step\n"
          ]
        },
        {
          "metadata": {
            "tags": null
          },
          "name": "stderr",
          "output_type": "stream",
          "text": [
            "<ipython-input-30-84f19216e9c9>:14: FutureWarning: The frame.append method is deprecated and will be removed from pandas in a future version. Use pandas.concat instead.\n",
            "  ResultsCollection=ResultsCollection.append(IterResults, ignore_index=True)\n",
            "\r 38%|███▊      | 384/1012 [54:58<1:51:45, 10.68s/it]"
          ]
        },
        {
          "metadata": {
            "tags": null
          },
          "name": "stdout",
          "output_type": "stream",
          "text": [
            "14/14 [==============================] - 0s 3ms/step\n"
          ]
        },
        {
          "metadata": {
            "tags": null
          },
          "name": "stderr",
          "output_type": "stream",
          "text": [
            "<ipython-input-30-84f19216e9c9>:14: FutureWarning: The frame.append method is deprecated and will be removed from pandas in a future version. Use pandas.concat instead.\n",
            "  ResultsCollection=ResultsCollection.append(IterResults, ignore_index=True)\n",
            "\r 38%|███▊      | 385/1012 [55:09<1:51:30, 10.67s/it]"
          ]
        },
        {
          "metadata": {
            "tags": null
          },
          "name": "stdout",
          "output_type": "stream",
          "text": [
            "14/14 [==============================] - 0s 3ms/step\n"
          ]
        },
        {
          "metadata": {
            "tags": null
          },
          "name": "stderr",
          "output_type": "stream",
          "text": [
            "<ipython-input-30-84f19216e9c9>:14: FutureWarning: The frame.append method is deprecated and will be removed from pandas in a future version. Use pandas.concat instead.\n",
            "  ResultsCollection=ResultsCollection.append(IterResults, ignore_index=True)\n",
            "\r 38%|███▊      | 386/1012 [55:20<1:51:26, 10.68s/it]"
          ]
        },
        {
          "metadata": {
            "tags": null
          },
          "name": "stdout",
          "output_type": "stream",
          "text": [
            "14/14 [==============================] - 0s 3ms/step\n"
          ]
        },
        {
          "metadata": {
            "tags": null
          },
          "name": "stderr",
          "output_type": "stream",
          "text": [
            "<ipython-input-30-84f19216e9c9>:14: FutureWarning: The frame.append method is deprecated and will be removed from pandas in a future version. Use pandas.concat instead.\n",
            "  ResultsCollection=ResultsCollection.append(IterResults, ignore_index=True)\n",
            "\r 38%|███▊      | 387/1012 [55:30<1:51:09, 10.67s/it]"
          ]
        },
        {
          "metadata": {
            "tags": null
          },
          "name": "stdout",
          "output_type": "stream",
          "text": [
            "14/14 [==============================] - 0s 3ms/step\n"
          ]
        },
        {
          "metadata": {
            "tags": null
          },
          "name": "stderr",
          "output_type": "stream",
          "text": [
            "<ipython-input-30-84f19216e9c9>:14: FutureWarning: The frame.append method is deprecated and will be removed from pandas in a future version. Use pandas.concat instead.\n",
            "  ResultsCollection=ResultsCollection.append(IterResults, ignore_index=True)\n",
            "\r 38%|███▊      | 388/1012 [55:41<1:50:49, 10.66s/it]"
          ]
        },
        {
          "metadata": {
            "tags": null
          },
          "name": "stdout",
          "output_type": "stream",
          "text": [
            "14/14 [==============================] - 0s 3ms/step\n"
          ]
        },
        {
          "metadata": {
            "tags": null
          },
          "name": "stderr",
          "output_type": "stream",
          "text": [
            "<ipython-input-30-84f19216e9c9>:14: FutureWarning: The frame.append method is deprecated and will be removed from pandas in a future version. Use pandas.concat instead.\n",
            "  ResultsCollection=ResultsCollection.append(IterResults, ignore_index=True)\n",
            "\r 38%|███▊      | 389/1012 [55:52<1:50:39, 10.66s/it]"
          ]
        },
        {
          "metadata": {
            "tags": null
          },
          "name": "stdout",
          "output_type": "stream",
          "text": [
            "14/14 [==============================] - 0s 3ms/step\n"
          ]
        },
        {
          "metadata": {
            "tags": null
          },
          "name": "stderr",
          "output_type": "stream",
          "text": [
            "<ipython-input-30-84f19216e9c9>:14: FutureWarning: The frame.append method is deprecated and will be removed from pandas in a future version. Use pandas.concat instead.\n",
            "  ResultsCollection=ResultsCollection.append(IterResults, ignore_index=True)\n",
            "\r 39%|███▊      | 390/1012 [56:02<1:50:24, 10.65s/it]"
          ]
        },
        {
          "metadata": {
            "tags": null
          },
          "name": "stdout",
          "output_type": "stream",
          "text": [
            "14/14 [==============================] - 0s 3ms/step\n"
          ]
        },
        {
          "metadata": {
            "tags": null
          },
          "name": "stderr",
          "output_type": "stream",
          "text": [
            "<ipython-input-30-84f19216e9c9>:14: FutureWarning: The frame.append method is deprecated and will be removed from pandas in a future version. Use pandas.concat instead.\n",
            "  ResultsCollection=ResultsCollection.append(IterResults, ignore_index=True)\n",
            "\r 39%|███▊      | 391/1012 [56:13<1:50:59, 10.72s/it]"
          ]
        },
        {
          "metadata": {
            "tags": null
          },
          "name": "stdout",
          "output_type": "stream",
          "text": [
            "14/14 [==============================] - 0s 3ms/step\n"
          ]
        },
        {
          "metadata": {
            "tags": null
          },
          "name": "stderr",
          "output_type": "stream",
          "text": [
            "<ipython-input-30-84f19216e9c9>:14: FutureWarning: The frame.append method is deprecated and will be removed from pandas in a future version. Use pandas.concat instead.\n",
            "  ResultsCollection=ResultsCollection.append(IterResults, ignore_index=True)\n",
            "\r 39%|███▊      | 392/1012 [56:24<1:50:40, 10.71s/it]"
          ]
        },
        {
          "metadata": {
            "tags": null
          },
          "name": "stdout",
          "output_type": "stream",
          "text": [
            "14/14 [==============================] - 0s 3ms/step\n"
          ]
        },
        {
          "metadata": {
            "tags": null
          },
          "name": "stderr",
          "output_type": "stream",
          "text": [
            "<ipython-input-30-84f19216e9c9>:14: FutureWarning: The frame.append method is deprecated and will be removed from pandas in a future version. Use pandas.concat instead.\n",
            "  ResultsCollection=ResultsCollection.append(IterResults, ignore_index=True)\n",
            "\r 39%|███▉      | 393/1012 [56:35<1:50:44, 10.73s/it]"
          ]
        },
        {
          "metadata": {
            "tags": null
          },
          "name": "stdout",
          "output_type": "stream",
          "text": [
            "14/14 [==============================] - 0s 3ms/step\n"
          ]
        },
        {
          "metadata": {
            "tags": null
          },
          "name": "stderr",
          "output_type": "stream",
          "text": [
            "<ipython-input-30-84f19216e9c9>:14: FutureWarning: The frame.append method is deprecated and will be removed from pandas in a future version. Use pandas.concat instead.\n",
            "  ResultsCollection=ResultsCollection.append(IterResults, ignore_index=True)\n",
            "\r 39%|███▉      | 394/1012 [56:46<1:50:56, 10.77s/it]"
          ]
        },
        {
          "metadata": {
            "tags": null
          },
          "name": "stdout",
          "output_type": "stream",
          "text": [
            "14/14 [==============================] - 0s 3ms/step\n"
          ]
        },
        {
          "metadata": {
            "tags": null
          },
          "name": "stderr",
          "output_type": "stream",
          "text": [
            "<ipython-input-30-84f19216e9c9>:14: FutureWarning: The frame.append method is deprecated and will be removed from pandas in a future version. Use pandas.concat instead.\n",
            "  ResultsCollection=ResultsCollection.append(IterResults, ignore_index=True)\n",
            "\r 39%|███▉      | 395/1012 [56:57<1:51:34, 10.85s/it]"
          ]
        },
        {
          "metadata": {
            "tags": null
          },
          "name": "stdout",
          "output_type": "stream",
          "text": [
            "14/14 [==============================] - 0s 3ms/step\n"
          ]
        },
        {
          "metadata": {
            "tags": null
          },
          "name": "stderr",
          "output_type": "stream",
          "text": [
            "<ipython-input-30-84f19216e9c9>:14: FutureWarning: The frame.append method is deprecated and will be removed from pandas in a future version. Use pandas.concat instead.\n",
            "  ResultsCollection=ResultsCollection.append(IterResults, ignore_index=True)\n",
            "\r 39%|███▉      | 396/1012 [57:08<1:51:50, 10.89s/it]"
          ]
        },
        {
          "metadata": {
            "tags": null
          },
          "name": "stdout",
          "output_type": "stream",
          "text": [
            "14/14 [==============================] - 0s 3ms/step\n"
          ]
        },
        {
          "metadata": {
            "tags": null
          },
          "name": "stderr",
          "output_type": "stream",
          "text": [
            "<ipython-input-30-84f19216e9c9>:14: FutureWarning: The frame.append method is deprecated and will be removed from pandas in a future version. Use pandas.concat instead.\n",
            "  ResultsCollection=ResultsCollection.append(IterResults, ignore_index=True)\n",
            "\r 39%|███▉      | 397/1012 [57:18<1:51:35, 10.89s/it]"
          ]
        },
        {
          "metadata": {
            "tags": null
          },
          "name": "stdout",
          "output_type": "stream",
          "text": [
            "14/14 [==============================] - 0s 3ms/step\n"
          ]
        },
        {
          "metadata": {
            "tags": null
          },
          "name": "stderr",
          "output_type": "stream",
          "text": [
            "<ipython-input-30-84f19216e9c9>:14: FutureWarning: The frame.append method is deprecated and will be removed from pandas in a future version. Use pandas.concat instead.\n",
            "  ResultsCollection=ResultsCollection.append(IterResults, ignore_index=True)\n",
            "\r 39%|███▉      | 398/1012 [57:30<1:52:10, 10.96s/it]"
          ]
        },
        {
          "metadata": {
            "tags": null
          },
          "name": "stdout",
          "output_type": "stream",
          "text": [
            "14/14 [==============================] - 0s 3ms/step\n"
          ]
        },
        {
          "metadata": {
            "tags": null
          },
          "name": "stderr",
          "output_type": "stream",
          "text": [
            "<ipython-input-30-84f19216e9c9>:14: FutureWarning: The frame.append method is deprecated and will be removed from pandas in a future version. Use pandas.concat instead.\n",
            "  ResultsCollection=ResultsCollection.append(IterResults, ignore_index=True)\n",
            "\r 39%|███▉      | 399/1012 [57:41<1:51:58, 10.96s/it]"
          ]
        },
        {
          "metadata": {
            "tags": null
          },
          "name": "stdout",
          "output_type": "stream",
          "text": [
            "14/14 [==============================] - 0s 3ms/step\n"
          ]
        },
        {
          "metadata": {
            "tags": null
          },
          "name": "stderr",
          "output_type": "stream",
          "text": [
            "<ipython-input-30-84f19216e9c9>:14: FutureWarning: The frame.append method is deprecated and will be removed from pandas in a future version. Use pandas.concat instead.\n",
            "  ResultsCollection=ResultsCollection.append(IterResults, ignore_index=True)\n",
            "\r 40%|███▉      | 400/1012 [57:52<1:52:06, 10.99s/it]"
          ]
        },
        {
          "metadata": {
            "tags": null
          },
          "name": "stdout",
          "output_type": "stream",
          "text": [
            "14/14 [==============================] - 0s 3ms/step\n"
          ]
        },
        {
          "metadata": {
            "tags": null
          },
          "name": "stderr",
          "output_type": "stream",
          "text": [
            "<ipython-input-30-84f19216e9c9>:14: FutureWarning: The frame.append method is deprecated and will be removed from pandas in a future version. Use pandas.concat instead.\n",
            "  ResultsCollection=ResultsCollection.append(IterResults, ignore_index=True)\n",
            "\r 40%|███▉      | 401/1012 [58:03<1:51:48, 10.98s/it]"
          ]
        },
        {
          "metadata": {
            "tags": null
          },
          "name": "stdout",
          "output_type": "stream",
          "text": [
            "14/14 [==============================] - 0s 3ms/step\n"
          ]
        },
        {
          "metadata": {
            "tags": null
          },
          "name": "stderr",
          "output_type": "stream",
          "text": [
            "<ipython-input-30-84f19216e9c9>:14: FutureWarning: The frame.append method is deprecated and will be removed from pandas in a future version. Use pandas.concat instead.\n",
            "  ResultsCollection=ResultsCollection.append(IterResults, ignore_index=True)\n",
            "\r 40%|███▉      | 402/1012 [58:13<1:51:16, 10.94s/it]"
          ]
        },
        {
          "metadata": {
            "tags": null
          },
          "name": "stdout",
          "output_type": "stream",
          "text": [
            "14/14 [==============================] - 0s 3ms/step\n"
          ]
        },
        {
          "metadata": {
            "tags": null
          },
          "name": "stderr",
          "output_type": "stream",
          "text": [
            "<ipython-input-30-84f19216e9c9>:14: FutureWarning: The frame.append method is deprecated and will be removed from pandas in a future version. Use pandas.concat instead.\n",
            "  ResultsCollection=ResultsCollection.append(IterResults, ignore_index=True)\n",
            "\r 40%|███▉      | 403/1012 [58:24<1:51:14, 10.96s/it]"
          ]
        },
        {
          "metadata": {
            "tags": null
          },
          "name": "stdout",
          "output_type": "stream",
          "text": [
            "14/14 [==============================] - 0s 3ms/step\n"
          ]
        },
        {
          "metadata": {
            "tags": null
          },
          "name": "stderr",
          "output_type": "stream",
          "text": [
            "<ipython-input-30-84f19216e9c9>:14: FutureWarning: The frame.append method is deprecated and will be removed from pandas in a future version. Use pandas.concat instead.\n",
            "  ResultsCollection=ResultsCollection.append(IterResults, ignore_index=True)\n",
            "\r 40%|███▉      | 404/1012 [58:35<1:51:05, 10.96s/it]"
          ]
        },
        {
          "metadata": {
            "tags": null
          },
          "name": "stdout",
          "output_type": "stream",
          "text": [
            "14/14 [==============================] - 0s 3ms/step\n"
          ]
        },
        {
          "metadata": {
            "tags": null
          },
          "name": "stderr",
          "output_type": "stream",
          "text": [
            "<ipython-input-30-84f19216e9c9>:14: FutureWarning: The frame.append method is deprecated and will be removed from pandas in a future version. Use pandas.concat instead.\n",
            "  ResultsCollection=ResultsCollection.append(IterResults, ignore_index=True)\n",
            "\r 40%|████      | 405/1012 [58:47<1:51:40, 11.04s/it]"
          ]
        },
        {
          "metadata": {
            "tags": null
          },
          "name": "stdout",
          "output_type": "stream",
          "text": [
            "14/14 [==============================] - 0s 3ms/step\n"
          ]
        },
        {
          "metadata": {
            "tags": null
          },
          "name": "stderr",
          "output_type": "stream",
          "text": [
            "<ipython-input-30-84f19216e9c9>:14: FutureWarning: The frame.append method is deprecated and will be removed from pandas in a future version. Use pandas.concat instead.\n",
            "  ResultsCollection=ResultsCollection.append(IterResults, ignore_index=True)\n",
            "\r 40%|████      | 406/1012 [58:58<1:51:18, 11.02s/it]"
          ]
        },
        {
          "metadata": {
            "tags": null
          },
          "name": "stdout",
          "output_type": "stream",
          "text": [
            "14/14 [==============================] - 0s 3ms/step\n"
          ]
        },
        {
          "metadata": {
            "tags": null
          },
          "name": "stderr",
          "output_type": "stream",
          "text": [
            "<ipython-input-30-84f19216e9c9>:14: FutureWarning: The frame.append method is deprecated and will be removed from pandas in a future version. Use pandas.concat instead.\n",
            "  ResultsCollection=ResultsCollection.append(IterResults, ignore_index=True)\n",
            "\r 40%|████      | 407/1012 [59:09<1:50:57, 11.00s/it]"
          ]
        },
        {
          "metadata": {
            "tags": null
          },
          "name": "stdout",
          "output_type": "stream",
          "text": [
            "14/14 [==============================] - 0s 3ms/step\n"
          ]
        },
        {
          "metadata": {
            "tags": null
          },
          "name": "stderr",
          "output_type": "stream",
          "text": [
            "<ipython-input-30-84f19216e9c9>:14: FutureWarning: The frame.append method is deprecated and will be removed from pandas in a future version. Use pandas.concat instead.\n",
            "  ResultsCollection=ResultsCollection.append(IterResults, ignore_index=True)\n",
            "\r 40%|████      | 408/1012 [59:20<1:50:36, 10.99s/it]"
          ]
        },
        {
          "metadata": {
            "tags": null
          },
          "name": "stdout",
          "output_type": "stream",
          "text": [
            "14/14 [==============================] - 0s 3ms/step\n"
          ]
        },
        {
          "metadata": {
            "tags": null
          },
          "name": "stderr",
          "output_type": "stream",
          "text": [
            "<ipython-input-30-84f19216e9c9>:14: FutureWarning: The frame.append method is deprecated and will be removed from pandas in a future version. Use pandas.concat instead.\n",
            "  ResultsCollection=ResultsCollection.append(IterResults, ignore_index=True)\n",
            "\r 40%|████      | 409/1012 [59:30<1:50:15, 10.97s/it]"
          ]
        },
        {
          "metadata": {
            "tags": null
          },
          "name": "stdout",
          "output_type": "stream",
          "text": [
            "14/14 [==============================] - 0s 3ms/step\n"
          ]
        },
        {
          "metadata": {
            "tags": null
          },
          "name": "stderr",
          "output_type": "stream",
          "text": [
            "<ipython-input-30-84f19216e9c9>:14: FutureWarning: The frame.append method is deprecated and will be removed from pandas in a future version. Use pandas.concat instead.\n",
            "  ResultsCollection=ResultsCollection.append(IterResults, ignore_index=True)\n",
            "\r 41%|████      | 410/1012 [59:41<1:49:59, 10.96s/it]"
          ]
        },
        {
          "metadata": {
            "tags": null
          },
          "name": "stdout",
          "output_type": "stream",
          "text": [
            "14/14 [==============================] - 0s 3ms/step\n"
          ]
        },
        {
          "metadata": {
            "tags": null
          },
          "name": "stderr",
          "output_type": "stream",
          "text": [
            "<ipython-input-30-84f19216e9c9>:14: FutureWarning: The frame.append method is deprecated and will be removed from pandas in a future version. Use pandas.concat instead.\n",
            "  ResultsCollection=ResultsCollection.append(IterResults, ignore_index=True)\n",
            "\r 41%|████      | 411/1012 [59:52<1:49:49, 10.96s/it]"
          ]
        },
        {
          "metadata": {
            "tags": null
          },
          "name": "stdout",
          "output_type": "stream",
          "text": [
            "14/14 [==============================] - 0s 3ms/step\n"
          ]
        },
        {
          "metadata": {
            "tags": null
          },
          "name": "stderr",
          "output_type": "stream",
          "text": [
            "<ipython-input-30-84f19216e9c9>:14: FutureWarning: The frame.append method is deprecated and will be removed from pandas in a future version. Use pandas.concat instead.\n",
            "  ResultsCollection=ResultsCollection.append(IterResults, ignore_index=True)\n",
            "\r 41%|████      | 412/1012 [1:00:03<1:49:42, 10.97s/it]"
          ]
        },
        {
          "metadata": {
            "tags": null
          },
          "name": "stdout",
          "output_type": "stream",
          "text": [
            "14/14 [==============================] - 0s 3ms/step\n"
          ]
        },
        {
          "metadata": {
            "tags": null
          },
          "name": "stderr",
          "output_type": "stream",
          "text": [
            "<ipython-input-30-84f19216e9c9>:14: FutureWarning: The frame.append method is deprecated and will be removed from pandas in a future version. Use pandas.concat instead.\n",
            "  ResultsCollection=ResultsCollection.append(IterResults, ignore_index=True)\n",
            "\r 41%|████      | 413/1012 [1:00:14<1:49:49, 11.00s/it]"
          ]
        },
        {
          "metadata": {
            "tags": null
          },
          "name": "stdout",
          "output_type": "stream",
          "text": [
            "14/14 [==============================] - 0s 3ms/step\n"
          ]
        },
        {
          "metadata": {
            "tags": null
          },
          "name": "stderr",
          "output_type": "stream",
          "text": [
            "<ipython-input-30-84f19216e9c9>:14: FutureWarning: The frame.append method is deprecated and will be removed from pandas in a future version. Use pandas.concat instead.\n",
            "  ResultsCollection=ResultsCollection.append(IterResults, ignore_index=True)\n",
            "\r 41%|████      | 414/1012 [1:00:25<1:49:47, 11.02s/it]"
          ]
        },
        {
          "metadata": {
            "tags": null
          },
          "name": "stdout",
          "output_type": "stream",
          "text": [
            "14/14 [==============================] - 0s 3ms/step\n"
          ]
        },
        {
          "metadata": {
            "tags": null
          },
          "name": "stderr",
          "output_type": "stream",
          "text": [
            "<ipython-input-30-84f19216e9c9>:14: FutureWarning: The frame.append method is deprecated and will be removed from pandas in a future version. Use pandas.concat instead.\n",
            "  ResultsCollection=ResultsCollection.append(IterResults, ignore_index=True)\n",
            "\r 41%|████      | 415/1012 [1:00:36<1:49:33, 11.01s/it]"
          ]
        },
        {
          "metadata": {
            "tags": null
          },
          "name": "stdout",
          "output_type": "stream",
          "text": [
            "14/14 [==============================] - 0s 3ms/step\n"
          ]
        },
        {
          "metadata": {
            "tags": null
          },
          "name": "stderr",
          "output_type": "stream",
          "text": [
            "<ipython-input-30-84f19216e9c9>:14: FutureWarning: The frame.append method is deprecated and will be removed from pandas in a future version. Use pandas.concat instead.\n",
            "  ResultsCollection=ResultsCollection.append(IterResults, ignore_index=True)\n",
            "\r 41%|████      | 416/1012 [1:00:47<1:49:24, 11.01s/it]"
          ]
        },
        {
          "metadata": {
            "tags": null
          },
          "name": "stdout",
          "output_type": "stream",
          "text": [
            "14/14 [==============================] - 0s 3ms/step\n"
          ]
        },
        {
          "metadata": {
            "tags": null
          },
          "name": "stderr",
          "output_type": "stream",
          "text": [
            "<ipython-input-30-84f19216e9c9>:14: FutureWarning: The frame.append method is deprecated and will be removed from pandas in a future version. Use pandas.concat instead.\n",
            "  ResultsCollection=ResultsCollection.append(IterResults, ignore_index=True)\n",
            "\r 41%|████      | 417/1012 [1:00:59<1:49:58, 11.09s/it]"
          ]
        },
        {
          "metadata": {
            "tags": null
          },
          "name": "stdout",
          "output_type": "stream",
          "text": [
            "14/14 [==============================] - 0s 3ms/step\n"
          ]
        },
        {
          "metadata": {
            "tags": null
          },
          "name": "stderr",
          "output_type": "stream",
          "text": [
            "<ipython-input-30-84f19216e9c9>:14: FutureWarning: The frame.append method is deprecated and will be removed from pandas in a future version. Use pandas.concat instead.\n",
            "  ResultsCollection=ResultsCollection.append(IterResults, ignore_index=True)\n",
            "\r 41%|████▏     | 418/1012 [1:01:10<1:49:48, 11.09s/it]"
          ]
        },
        {
          "metadata": {
            "tags": null
          },
          "name": "stdout",
          "output_type": "stream",
          "text": [
            "14/14 [==============================] - 0s 3ms/step\n"
          ]
        },
        {
          "metadata": {
            "tags": null
          },
          "name": "stderr",
          "output_type": "stream",
          "text": [
            "<ipython-input-30-84f19216e9c9>:14: FutureWarning: The frame.append method is deprecated and will be removed from pandas in a future version. Use pandas.concat instead.\n",
            "  ResultsCollection=ResultsCollection.append(IterResults, ignore_index=True)\n",
            "\r 41%|████▏     | 419/1012 [1:01:21<1:49:31, 11.08s/it]"
          ]
        },
        {
          "metadata": {
            "tags": null
          },
          "name": "stdout",
          "output_type": "stream",
          "text": [
            "14/14 [==============================] - 0s 3ms/step\n"
          ]
        },
        {
          "metadata": {
            "tags": null
          },
          "name": "stderr",
          "output_type": "stream",
          "text": [
            "<ipython-input-30-84f19216e9c9>:14: FutureWarning: The frame.append method is deprecated and will be removed from pandas in a future version. Use pandas.concat instead.\n",
            "  ResultsCollection=ResultsCollection.append(IterResults, ignore_index=True)\n",
            "\r 42%|████▏     | 420/1012 [1:01:32<1:49:23, 11.09s/it]"
          ]
        },
        {
          "metadata": {
            "tags": null
          },
          "name": "stdout",
          "output_type": "stream",
          "text": [
            "14/14 [==============================] - 0s 3ms/step\n"
          ]
        },
        {
          "metadata": {
            "tags": null
          },
          "name": "stderr",
          "output_type": "stream",
          "text": [
            "<ipython-input-30-84f19216e9c9>:14: FutureWarning: The frame.append method is deprecated and will be removed from pandas in a future version. Use pandas.concat instead.\n",
            "  ResultsCollection=ResultsCollection.append(IterResults, ignore_index=True)\n",
            "\r 42%|████▏     | 421/1012 [1:01:43<1:49:10, 11.08s/it]"
          ]
        },
        {
          "metadata": {
            "tags": null
          },
          "name": "stdout",
          "output_type": "stream",
          "text": [
            "14/14 [==============================] - 0s 3ms/step\n"
          ]
        },
        {
          "metadata": {
            "tags": null
          },
          "name": "stderr",
          "output_type": "stream",
          "text": [
            "<ipython-input-30-84f19216e9c9>:14: FutureWarning: The frame.append method is deprecated and will be removed from pandas in a future version. Use pandas.concat instead.\n",
            "  ResultsCollection=ResultsCollection.append(IterResults, ignore_index=True)\n",
            "\r 42%|████▏     | 422/1012 [1:01:54<1:49:18, 11.12s/it]"
          ]
        },
        {
          "metadata": {
            "tags": null
          },
          "name": "stdout",
          "output_type": "stream",
          "text": [
            "14/14 [==============================] - 0s 3ms/step\n"
          ]
        },
        {
          "metadata": {
            "tags": null
          },
          "name": "stderr",
          "output_type": "stream",
          "text": [
            "<ipython-input-30-84f19216e9c9>:14: FutureWarning: The frame.append method is deprecated and will be removed from pandas in a future version. Use pandas.concat instead.\n",
            "  ResultsCollection=ResultsCollection.append(IterResults, ignore_index=True)\n",
            "\r 42%|████▏     | 423/1012 [1:02:05<1:49:09, 11.12s/it]"
          ]
        },
        {
          "metadata": {
            "tags": null
          },
          "name": "stdout",
          "output_type": "stream",
          "text": [
            "14/14 [==============================] - 0s 3ms/step\n"
          ]
        },
        {
          "metadata": {
            "tags": null
          },
          "name": "stderr",
          "output_type": "stream",
          "text": [
            "<ipython-input-30-84f19216e9c9>:14: FutureWarning: The frame.append method is deprecated and will be removed from pandas in a future version. Use pandas.concat instead.\n",
            "  ResultsCollection=ResultsCollection.append(IterResults, ignore_index=True)\n",
            "\r 42%|████▏     | 424/1012 [1:02:17<1:49:29, 11.17s/it]"
          ]
        },
        {
          "metadata": {
            "tags": null
          },
          "name": "stdout",
          "output_type": "stream",
          "text": [
            "14/14 [==============================] - 0s 3ms/step\n"
          ]
        },
        {
          "metadata": {
            "tags": null
          },
          "name": "stderr",
          "output_type": "stream",
          "text": [
            "<ipython-input-30-84f19216e9c9>:14: FutureWarning: The frame.append method is deprecated and will be removed from pandas in a future version. Use pandas.concat instead.\n",
            "  ResultsCollection=ResultsCollection.append(IterResults, ignore_index=True)\n",
            "\r 42%|████▏     | 425/1012 [1:02:28<1:49:20, 11.18s/it]"
          ]
        },
        {
          "metadata": {
            "tags": null
          },
          "name": "stdout",
          "output_type": "stream",
          "text": [
            "14/14 [==============================] - 0s 3ms/step\n"
          ]
        },
        {
          "metadata": {
            "tags": null
          },
          "name": "stderr",
          "output_type": "stream",
          "text": [
            "<ipython-input-30-84f19216e9c9>:14: FutureWarning: The frame.append method is deprecated and will be removed from pandas in a future version. Use pandas.concat instead.\n",
            "  ResultsCollection=ResultsCollection.append(IterResults, ignore_index=True)\n",
            "\r 42%|████▏     | 426/1012 [1:02:39<1:49:05, 11.17s/it]"
          ]
        },
        {
          "metadata": {
            "tags": null
          },
          "name": "stdout",
          "output_type": "stream",
          "text": [
            "14/14 [==============================] - 0s 3ms/step\n"
          ]
        },
        {
          "metadata": {
            "tags": null
          },
          "name": "stderr",
          "output_type": "stream",
          "text": [
            "<ipython-input-30-84f19216e9c9>:14: FutureWarning: The frame.append method is deprecated and will be removed from pandas in a future version. Use pandas.concat instead.\n",
            "  ResultsCollection=ResultsCollection.append(IterResults, ignore_index=True)\n",
            "\r 42%|████▏     | 427/1012 [1:02:50<1:48:58, 11.18s/it]"
          ]
        },
        {
          "metadata": {
            "tags": null
          },
          "name": "stdout",
          "output_type": "stream",
          "text": [
            "14/14 [==============================] - 0s 3ms/step\n"
          ]
        },
        {
          "metadata": {
            "tags": null
          },
          "name": "stderr",
          "output_type": "stream",
          "text": [
            "<ipython-input-30-84f19216e9c9>:14: FutureWarning: The frame.append method is deprecated and will be removed from pandas in a future version. Use pandas.concat instead.\n",
            "  ResultsCollection=ResultsCollection.append(IterResults, ignore_index=True)\n",
            "\r 42%|████▏     | 428/1012 [1:03:02<1:49:26, 11.24s/it]"
          ]
        },
        {
          "metadata": {
            "tags": null
          },
          "name": "stdout",
          "output_type": "stream",
          "text": [
            "14/14 [==============================] - 0s 3ms/step\n"
          ]
        },
        {
          "metadata": {
            "tags": null
          },
          "name": "stderr",
          "output_type": "stream",
          "text": [
            "<ipython-input-30-84f19216e9c9>:14: FutureWarning: The frame.append method is deprecated and will be removed from pandas in a future version. Use pandas.concat instead.\n",
            "  ResultsCollection=ResultsCollection.append(IterResults, ignore_index=True)\n",
            "\r 42%|████▏     | 429/1012 [1:03:13<1:48:59, 11.22s/it]"
          ]
        },
        {
          "metadata": {
            "tags": null
          },
          "name": "stdout",
          "output_type": "stream",
          "text": [
            "14/14 [==============================] - 0s 3ms/step\n"
          ]
        },
        {
          "metadata": {
            "tags": null
          },
          "name": "stderr",
          "output_type": "stream",
          "text": [
            "<ipython-input-30-84f19216e9c9>:14: FutureWarning: The frame.append method is deprecated and will be removed from pandas in a future version. Use pandas.concat instead.\n",
            "  ResultsCollection=ResultsCollection.append(IterResults, ignore_index=True)\n",
            "\r 42%|████▏     | 430/1012 [1:03:24<1:48:46, 11.21s/it]"
          ]
        },
        {
          "metadata": {
            "tags": null
          },
          "name": "stdout",
          "output_type": "stream",
          "text": [
            "14/14 [==============================] - 0s 4ms/step\n"
          ]
        },
        {
          "metadata": {
            "tags": null
          },
          "name": "stderr",
          "output_type": "stream",
          "text": [
            "<ipython-input-30-84f19216e9c9>:14: FutureWarning: The frame.append method is deprecated and will be removed from pandas in a future version. Use pandas.concat instead.\n",
            "  ResultsCollection=ResultsCollection.append(IterResults, ignore_index=True)\n",
            "\r 43%|████▎     | 431/1012 [1:03:35<1:48:28, 11.20s/it]"
          ]
        },
        {
          "metadata": {
            "tags": null
          },
          "name": "stdout",
          "output_type": "stream",
          "text": [
            "14/14 [==============================] - 0s 3ms/step\n"
          ]
        },
        {
          "metadata": {
            "tags": null
          },
          "name": "stderr",
          "output_type": "stream",
          "text": [
            "<ipython-input-30-84f19216e9c9>:14: FutureWarning: The frame.append method is deprecated and will be removed from pandas in a future version. Use pandas.concat instead.\n",
            "  ResultsCollection=ResultsCollection.append(IterResults, ignore_index=True)\n",
            "\r 43%|████▎     | 432/1012 [1:03:46<1:48:14, 11.20s/it]"
          ]
        },
        {
          "metadata": {
            "tags": null
          },
          "name": "stdout",
          "output_type": "stream",
          "text": [
            "14/14 [==============================] - 0s 3ms/step\n"
          ]
        },
        {
          "metadata": {
            "tags": null
          },
          "name": "stderr",
          "output_type": "stream",
          "text": [
            "<ipython-input-30-84f19216e9c9>:14: FutureWarning: The frame.append method is deprecated and will be removed from pandas in a future version. Use pandas.concat instead.\n",
            "  ResultsCollection=ResultsCollection.append(IterResults, ignore_index=True)\n",
            "\r 43%|████▎     | 433/1012 [1:03:58<1:48:06, 11.20s/it]"
          ]
        },
        {
          "metadata": {
            "tags": null
          },
          "name": "stdout",
          "output_type": "stream",
          "text": [
            "14/14 [==============================] - 0s 3ms/step\n"
          ]
        },
        {
          "metadata": {
            "tags": null
          },
          "name": "stderr",
          "output_type": "stream",
          "text": [
            "<ipython-input-30-84f19216e9c9>:14: FutureWarning: The frame.append method is deprecated and will be removed from pandas in a future version. Use pandas.concat instead.\n",
            "  ResultsCollection=ResultsCollection.append(IterResults, ignore_index=True)\n",
            "\r 43%|████▎     | 434/1012 [1:04:09<1:48:15, 11.24s/it]"
          ]
        },
        {
          "metadata": {
            "tags": null
          },
          "name": "stdout",
          "output_type": "stream",
          "text": [
            "14/14 [==============================] - 0s 3ms/step\n"
          ]
        },
        {
          "metadata": {
            "tags": null
          },
          "name": "stderr",
          "output_type": "stream",
          "text": [
            "<ipython-input-30-84f19216e9c9>:14: FutureWarning: The frame.append method is deprecated and will be removed from pandas in a future version. Use pandas.concat instead.\n",
            "  ResultsCollection=ResultsCollection.append(IterResults, ignore_index=True)\n",
            "\r 43%|████▎     | 435/1012 [1:04:20<1:47:56, 11.22s/it]"
          ]
        },
        {
          "metadata": {
            "tags": null
          },
          "name": "stdout",
          "output_type": "stream",
          "text": [
            "14/14 [==============================] - 0s 3ms/step\n"
          ]
        },
        {
          "metadata": {
            "tags": null
          },
          "name": "stderr",
          "output_type": "stream",
          "text": [
            "<ipython-input-30-84f19216e9c9>:14: FutureWarning: The frame.append method is deprecated and will be removed from pandas in a future version. Use pandas.concat instead.\n",
            "  ResultsCollection=ResultsCollection.append(IterResults, ignore_index=True)\n",
            "\r 43%|████▎     | 436/1012 [1:04:31<1:47:54, 11.24s/it]"
          ]
        },
        {
          "metadata": {
            "tags": null
          },
          "name": "stdout",
          "output_type": "stream",
          "text": [
            "14/14 [==============================] - 0s 3ms/step\n"
          ]
        },
        {
          "metadata": {
            "tags": null
          },
          "name": "stderr",
          "output_type": "stream",
          "text": [
            "<ipython-input-30-84f19216e9c9>:14: FutureWarning: The frame.append method is deprecated and will be removed from pandas in a future version. Use pandas.concat instead.\n",
            "  ResultsCollection=ResultsCollection.append(IterResults, ignore_index=True)\n",
            "\r 43%|████▎     | 437/1012 [1:04:43<1:47:50, 11.25s/it]"
          ]
        },
        {
          "metadata": {
            "tags": null
          },
          "name": "stdout",
          "output_type": "stream",
          "text": [
            "14/14 [==============================] - 0s 3ms/step\n"
          ]
        },
        {
          "metadata": {
            "tags": null
          },
          "name": "stderr",
          "output_type": "stream",
          "text": [
            "<ipython-input-30-84f19216e9c9>:14: FutureWarning: The frame.append method is deprecated and will be removed from pandas in a future version. Use pandas.concat instead.\n",
            "  ResultsCollection=ResultsCollection.append(IterResults, ignore_index=True)\n",
            "\r 43%|████▎     | 438/1012 [1:04:54<1:47:42, 11.26s/it]"
          ]
        },
        {
          "metadata": {
            "tags": null
          },
          "name": "stdout",
          "output_type": "stream",
          "text": [
            "14/14 [==============================] - 0s 3ms/step\n"
          ]
        },
        {
          "metadata": {
            "tags": null
          },
          "name": "stderr",
          "output_type": "stream",
          "text": [
            "<ipython-input-30-84f19216e9c9>:14: FutureWarning: The frame.append method is deprecated and will be removed from pandas in a future version. Use pandas.concat instead.\n",
            "  ResultsCollection=ResultsCollection.append(IterResults, ignore_index=True)\n",
            "\r 43%|████▎     | 439/1012 [1:05:05<1:47:27, 11.25s/it]"
          ]
        },
        {
          "metadata": {
            "tags": null
          },
          "name": "stdout",
          "output_type": "stream",
          "text": [
            "14/14 [==============================] - 0s 3ms/step\n"
          ]
        },
        {
          "metadata": {
            "tags": null
          },
          "name": "stderr",
          "output_type": "stream",
          "text": [
            "<ipython-input-30-84f19216e9c9>:14: FutureWarning: The frame.append method is deprecated and will be removed from pandas in a future version. Use pandas.concat instead.\n",
            "  ResultsCollection=ResultsCollection.append(IterResults, ignore_index=True)\n",
            "\r 43%|████▎     | 440/1012 [1:05:17<1:47:34, 11.28s/it]"
          ]
        },
        {
          "metadata": {
            "tags": null
          },
          "name": "stdout",
          "output_type": "stream",
          "text": [
            "14/14 [==============================] - 0s 3ms/step\n"
          ]
        },
        {
          "metadata": {
            "tags": null
          },
          "name": "stderr",
          "output_type": "stream",
          "text": [
            "<ipython-input-30-84f19216e9c9>:14: FutureWarning: The frame.append method is deprecated and will be removed from pandas in a future version. Use pandas.concat instead.\n",
            "  ResultsCollection=ResultsCollection.append(IterResults, ignore_index=True)\n",
            "\r 44%|████▎     | 441/1012 [1:05:28<1:47:39, 11.31s/it]"
          ]
        },
        {
          "metadata": {
            "tags": null
          },
          "name": "stdout",
          "output_type": "stream",
          "text": [
            "14/14 [==============================] - 0s 3ms/step\n"
          ]
        },
        {
          "metadata": {
            "tags": null
          },
          "name": "stderr",
          "output_type": "stream",
          "text": [
            "<ipython-input-30-84f19216e9c9>:14: FutureWarning: The frame.append method is deprecated and will be removed from pandas in a future version. Use pandas.concat instead.\n",
            "  ResultsCollection=ResultsCollection.append(IterResults, ignore_index=True)\n",
            "\r 44%|████▎     | 442/1012 [1:05:39<1:48:06, 11.38s/it]"
          ]
        },
        {
          "metadata": {
            "tags": null
          },
          "name": "stdout",
          "output_type": "stream",
          "text": [
            "14/14 [==============================] - 0s 3ms/step\n"
          ]
        },
        {
          "metadata": {
            "tags": null
          },
          "name": "stderr",
          "output_type": "stream",
          "text": [
            "<ipython-input-30-84f19216e9c9>:14: FutureWarning: The frame.append method is deprecated and will be removed from pandas in a future version. Use pandas.concat instead.\n",
            "  ResultsCollection=ResultsCollection.append(IterResults, ignore_index=True)\n",
            "\r 44%|████▍     | 443/1012 [1:05:51<1:47:57, 11.38s/it]"
          ]
        },
        {
          "metadata": {
            "tags": null
          },
          "name": "stdout",
          "output_type": "stream",
          "text": [
            "14/14 [==============================] - 0s 3ms/step\n"
          ]
        },
        {
          "metadata": {
            "tags": null
          },
          "name": "stderr",
          "output_type": "stream",
          "text": [
            "<ipython-input-30-84f19216e9c9>:14: FutureWarning: The frame.append method is deprecated and will be removed from pandas in a future version. Use pandas.concat instead.\n",
            "  ResultsCollection=ResultsCollection.append(IterResults, ignore_index=True)\n",
            "\r 44%|████▍     | 444/1012 [1:06:02<1:47:56, 11.40s/it]"
          ]
        },
        {
          "metadata": {
            "tags": null
          },
          "name": "stdout",
          "output_type": "stream",
          "text": [
            "14/14 [==============================] - 0s 3ms/step\n"
          ]
        },
        {
          "metadata": {
            "tags": null
          },
          "name": "stderr",
          "output_type": "stream",
          "text": [
            "<ipython-input-30-84f19216e9c9>:14: FutureWarning: The frame.append method is deprecated and will be removed from pandas in a future version. Use pandas.concat instead.\n",
            "  ResultsCollection=ResultsCollection.append(IterResults, ignore_index=True)\n",
            "\r 44%|████▍     | 445/1012 [1:06:14<1:48:40, 11.50s/it]"
          ]
        },
        {
          "metadata": {
            "tags": null
          },
          "name": "stdout",
          "output_type": "stream",
          "text": [
            "14/14 [==============================] - 0s 3ms/step\n"
          ]
        },
        {
          "metadata": {
            "tags": null
          },
          "name": "stderr",
          "output_type": "stream",
          "text": [
            "<ipython-input-30-84f19216e9c9>:14: FutureWarning: The frame.append method is deprecated and will be removed from pandas in a future version. Use pandas.concat instead.\n",
            "  ResultsCollection=ResultsCollection.append(IterResults, ignore_index=True)\n",
            "\r 44%|████▍     | 446/1012 [1:06:25<1:48:08, 11.46s/it]"
          ]
        },
        {
          "metadata": {
            "tags": null
          },
          "name": "stdout",
          "output_type": "stream",
          "text": [
            "14/14 [==============================] - 0s 3ms/step\n"
          ]
        },
        {
          "metadata": {
            "tags": null
          },
          "name": "stderr",
          "output_type": "stream",
          "text": [
            "<ipython-input-30-84f19216e9c9>:14: FutureWarning: The frame.append method is deprecated and will be removed from pandas in a future version. Use pandas.concat instead.\n",
            "  ResultsCollection=ResultsCollection.append(IterResults, ignore_index=True)\n",
            "\r 44%|████▍     | 447/1012 [1:06:37<1:47:49, 11.45s/it]"
          ]
        },
        {
          "metadata": {
            "tags": null
          },
          "name": "stdout",
          "output_type": "stream",
          "text": [
            "14/14 [==============================] - 0s 3ms/step\n"
          ]
        },
        {
          "metadata": {
            "tags": null
          },
          "name": "stderr",
          "output_type": "stream",
          "text": [
            "<ipython-input-30-84f19216e9c9>:14: FutureWarning: The frame.append method is deprecated and will be removed from pandas in a future version. Use pandas.concat instead.\n",
            "  ResultsCollection=ResultsCollection.append(IterResults, ignore_index=True)\n",
            "\r 44%|████▍     | 448/1012 [1:06:48<1:47:22, 11.42s/it]"
          ]
        },
        {
          "metadata": {
            "tags": null
          },
          "name": "stdout",
          "output_type": "stream",
          "text": [
            "14/14 [==============================] - 0s 3ms/step\n"
          ]
        },
        {
          "metadata": {
            "tags": null
          },
          "name": "stderr",
          "output_type": "stream",
          "text": [
            "<ipython-input-30-84f19216e9c9>:14: FutureWarning: The frame.append method is deprecated and will be removed from pandas in a future version. Use pandas.concat instead.\n",
            "  ResultsCollection=ResultsCollection.append(IterResults, ignore_index=True)\n",
            "\r 44%|████▍     | 449/1012 [1:07:00<1:47:13, 11.43s/it]"
          ]
        },
        {
          "metadata": {
            "tags": null
          },
          "name": "stdout",
          "output_type": "stream",
          "text": [
            "14/14 [==============================] - 0s 3ms/step\n"
          ]
        },
        {
          "metadata": {
            "tags": null
          },
          "name": "stderr",
          "output_type": "stream",
          "text": [
            "<ipython-input-30-84f19216e9c9>:14: FutureWarning: The frame.append method is deprecated and will be removed from pandas in a future version. Use pandas.concat instead.\n",
            "  ResultsCollection=ResultsCollection.append(IterResults, ignore_index=True)\n",
            "\r 44%|████▍     | 450/1012 [1:07:11<1:47:06, 11.44s/it]"
          ]
        },
        {
          "metadata": {
            "tags": null
          },
          "name": "stdout",
          "output_type": "stream",
          "text": [
            "14/14 [==============================] - 0s 3ms/step\n"
          ]
        },
        {
          "metadata": {
            "tags": null
          },
          "name": "stderr",
          "output_type": "stream",
          "text": [
            "<ipython-input-30-84f19216e9c9>:14: FutureWarning: The frame.append method is deprecated and will be removed from pandas in a future version. Use pandas.concat instead.\n",
            "  ResultsCollection=ResultsCollection.append(IterResults, ignore_index=True)\n",
            "\r 45%|████▍     | 451/1012 [1:07:23<1:47:04, 11.45s/it]"
          ]
        },
        {
          "metadata": {
            "tags": null
          },
          "name": "stdout",
          "output_type": "stream",
          "text": [
            "14/14 [==============================] - 0s 3ms/step\n"
          ]
        },
        {
          "metadata": {
            "tags": null
          },
          "name": "stderr",
          "output_type": "stream",
          "text": [
            "<ipython-input-30-84f19216e9c9>:14: FutureWarning: The frame.append method is deprecated and will be removed from pandas in a future version. Use pandas.concat instead.\n",
            "  ResultsCollection=ResultsCollection.append(IterResults, ignore_index=True)\n",
            "\r 45%|████▍     | 452/1012 [1:07:34<1:47:01, 11.47s/it]"
          ]
        },
        {
          "metadata": {
            "tags": null
          },
          "name": "stdout",
          "output_type": "stream",
          "text": [
            "14/14 [==============================] - 0s 3ms/step\n"
          ]
        },
        {
          "metadata": {
            "tags": null
          },
          "name": "stderr",
          "output_type": "stream",
          "text": [
            "<ipython-input-30-84f19216e9c9>:14: FutureWarning: The frame.append method is deprecated and will be removed from pandas in a future version. Use pandas.concat instead.\n",
            "  ResultsCollection=ResultsCollection.append(IterResults, ignore_index=True)\n",
            "\r 45%|████▍     | 453/1012 [1:07:46<1:47:06, 11.50s/it]"
          ]
        },
        {
          "metadata": {
            "tags": null
          },
          "name": "stdout",
          "output_type": "stream",
          "text": [
            "14/14 [==============================] - 0s 3ms/step\n"
          ]
        },
        {
          "metadata": {
            "tags": null
          },
          "name": "stderr",
          "output_type": "stream",
          "text": [
            "<ipython-input-30-84f19216e9c9>:14: FutureWarning: The frame.append method is deprecated and will be removed from pandas in a future version. Use pandas.concat instead.\n",
            "  ResultsCollection=ResultsCollection.append(IterResults, ignore_index=True)\n",
            "\r 45%|████▍     | 454/1012 [1:07:57<1:46:47, 11.48s/it]"
          ]
        },
        {
          "metadata": {
            "tags": null
          },
          "name": "stdout",
          "output_type": "stream",
          "text": [
            "14/14 [==============================] - 0s 3ms/step\n"
          ]
        },
        {
          "metadata": {
            "tags": null
          },
          "name": "stderr",
          "output_type": "stream",
          "text": [
            "<ipython-input-30-84f19216e9c9>:14: FutureWarning: The frame.append method is deprecated and will be removed from pandas in a future version. Use pandas.concat instead.\n",
            "  ResultsCollection=ResultsCollection.append(IterResults, ignore_index=True)\n",
            "\r 45%|████▍     | 455/1012 [1:08:09<1:46:35, 11.48s/it]"
          ]
        },
        {
          "metadata": {
            "tags": null
          },
          "name": "stdout",
          "output_type": "stream",
          "text": [
            "14/14 [==============================] - 0s 3ms/step\n"
          ]
        },
        {
          "metadata": {
            "tags": null
          },
          "name": "stderr",
          "output_type": "stream",
          "text": [
            "<ipython-input-30-84f19216e9c9>:14: FutureWarning: The frame.append method is deprecated and will be removed from pandas in a future version. Use pandas.concat instead.\n",
            "  ResultsCollection=ResultsCollection.append(IterResults, ignore_index=True)\n",
            "\r 45%|████▌     | 456/1012 [1:08:20<1:46:25, 11.48s/it]"
          ]
        },
        {
          "metadata": {
            "tags": null
          },
          "name": "stdout",
          "output_type": "stream",
          "text": [
            "14/14 [==============================] - 0s 3ms/step\n"
          ]
        },
        {
          "metadata": {
            "tags": null
          },
          "name": "stderr",
          "output_type": "stream",
          "text": [
            "<ipython-input-30-84f19216e9c9>:14: FutureWarning: The frame.append method is deprecated and will be removed from pandas in a future version. Use pandas.concat instead.\n",
            "  ResultsCollection=ResultsCollection.append(IterResults, ignore_index=True)\n",
            "\r 45%|████▌     | 457/1012 [1:08:31<1:46:07, 11.47s/it]"
          ]
        },
        {
          "metadata": {
            "tags": null
          },
          "name": "stdout",
          "output_type": "stream",
          "text": [
            "14/14 [==============================] - 0s 3ms/step\n"
          ]
        },
        {
          "metadata": {
            "tags": null
          },
          "name": "stderr",
          "output_type": "stream",
          "text": [
            "<ipython-input-30-84f19216e9c9>:14: FutureWarning: The frame.append method is deprecated and will be removed from pandas in a future version. Use pandas.concat instead.\n",
            "  ResultsCollection=ResultsCollection.append(IterResults, ignore_index=True)\n",
            "\r 45%|████▌     | 458/1012 [1:08:43<1:46:46, 11.56s/it]"
          ]
        },
        {
          "metadata": {
            "tags": null
          },
          "name": "stdout",
          "output_type": "stream",
          "text": [
            "14/14 [==============================] - 0s 3ms/step\n"
          ]
        },
        {
          "metadata": {
            "tags": null
          },
          "name": "stderr",
          "output_type": "stream",
          "text": [
            "<ipython-input-30-84f19216e9c9>:14: FutureWarning: The frame.append method is deprecated and will be removed from pandas in a future version. Use pandas.concat instead.\n",
            "  ResultsCollection=ResultsCollection.append(IterResults, ignore_index=True)\n",
            "\r 45%|████▌     | 459/1012 [1:08:55<1:46:37, 11.57s/it]"
          ]
        },
        {
          "metadata": {
            "tags": null
          },
          "name": "stdout",
          "output_type": "stream",
          "text": [
            "14/14 [==============================] - 0s 3ms/step\n"
          ]
        },
        {
          "metadata": {
            "tags": null
          },
          "name": "stderr",
          "output_type": "stream",
          "text": [
            "<ipython-input-30-84f19216e9c9>:14: FutureWarning: The frame.append method is deprecated and will be removed from pandas in a future version. Use pandas.concat instead.\n",
            "  ResultsCollection=ResultsCollection.append(IterResults, ignore_index=True)\n",
            "\r 45%|████▌     | 460/1012 [1:09:06<1:46:27, 11.57s/it]"
          ]
        },
        {
          "metadata": {
            "tags": null
          },
          "name": "stdout",
          "output_type": "stream",
          "text": [
            "14/14 [==============================] - 0s 3ms/step\n"
          ]
        },
        {
          "metadata": {
            "tags": null
          },
          "name": "stderr",
          "output_type": "stream",
          "text": [
            "<ipython-input-30-84f19216e9c9>:14: FutureWarning: The frame.append method is deprecated and will be removed from pandas in a future version. Use pandas.concat instead.\n",
            "  ResultsCollection=ResultsCollection.append(IterResults, ignore_index=True)\n",
            "\r 46%|████▌     | 461/1012 [1:09:18<1:45:59, 11.54s/it]"
          ]
        },
        {
          "metadata": {
            "tags": null
          },
          "name": "stdout",
          "output_type": "stream",
          "text": [
            "14/14 [==============================] - 0s 3ms/step\n"
          ]
        },
        {
          "metadata": {
            "tags": null
          },
          "name": "stderr",
          "output_type": "stream",
          "text": [
            "<ipython-input-30-84f19216e9c9>:14: FutureWarning: The frame.append method is deprecated and will be removed from pandas in a future version. Use pandas.concat instead.\n",
            "  ResultsCollection=ResultsCollection.append(IterResults, ignore_index=True)\n",
            "\r 46%|████▌     | 462/1012 [1:09:29<1:45:54, 11.55s/it]"
          ]
        },
        {
          "metadata": {
            "tags": null
          },
          "name": "stdout",
          "output_type": "stream",
          "text": [
            "14/14 [==============================] - 0s 3ms/step\n"
          ]
        },
        {
          "metadata": {
            "tags": null
          },
          "name": "stderr",
          "output_type": "stream",
          "text": [
            "<ipython-input-30-84f19216e9c9>:14: FutureWarning: The frame.append method is deprecated and will be removed from pandas in a future version. Use pandas.concat instead.\n",
            "  ResultsCollection=ResultsCollection.append(IterResults, ignore_index=True)\n",
            "\r 46%|████▌     | 463/1012 [1:09:41<1:46:25, 11.63s/it]"
          ]
        },
        {
          "metadata": {
            "tags": null
          },
          "name": "stdout",
          "output_type": "stream",
          "text": [
            "14/14 [==============================] - 0s 3ms/step\n"
          ]
        },
        {
          "metadata": {
            "tags": null
          },
          "name": "stderr",
          "output_type": "stream",
          "text": [
            "<ipython-input-30-84f19216e9c9>:14: FutureWarning: The frame.append method is deprecated and will be removed from pandas in a future version. Use pandas.concat instead.\n",
            "  ResultsCollection=ResultsCollection.append(IterResults, ignore_index=True)\n",
            "\r 46%|████▌     | 464/1012 [1:09:53<1:46:10, 11.62s/it]"
          ]
        },
        {
          "metadata": {
            "tags": null
          },
          "name": "stdout",
          "output_type": "stream",
          "text": [
            "14/14 [==============================] - 0s 3ms/step\n"
          ]
        },
        {
          "metadata": {
            "tags": null
          },
          "name": "stderr",
          "output_type": "stream",
          "text": [
            "<ipython-input-30-84f19216e9c9>:14: FutureWarning: The frame.append method is deprecated and will be removed from pandas in a future version. Use pandas.concat instead.\n",
            "  ResultsCollection=ResultsCollection.append(IterResults, ignore_index=True)\n",
            "\r 46%|████▌     | 465/1012 [1:10:05<1:46:07, 11.64s/it]"
          ]
        },
        {
          "metadata": {
            "tags": null
          },
          "name": "stdout",
          "output_type": "stream",
          "text": [
            "14/14 [==============================] - 0s 3ms/step\n"
          ]
        },
        {
          "metadata": {
            "tags": null
          },
          "name": "stderr",
          "output_type": "stream",
          "text": [
            "<ipython-input-30-84f19216e9c9>:14: FutureWarning: The frame.append method is deprecated and will be removed from pandas in a future version. Use pandas.concat instead.\n",
            "  ResultsCollection=ResultsCollection.append(IterResults, ignore_index=True)\n",
            "\r 46%|████▌     | 466/1012 [1:10:16<1:46:00, 11.65s/it]"
          ]
        },
        {
          "metadata": {
            "tags": null
          },
          "name": "stdout",
          "output_type": "stream",
          "text": [
            "14/14 [==============================] - 0s 3ms/step\n"
          ]
        },
        {
          "metadata": {
            "tags": null
          },
          "name": "stderr",
          "output_type": "stream",
          "text": [
            "<ipython-input-30-84f19216e9c9>:14: FutureWarning: The frame.append method is deprecated and will be removed from pandas in a future version. Use pandas.concat instead.\n",
            "  ResultsCollection=ResultsCollection.append(IterResults, ignore_index=True)\n",
            "\r 46%|████▌     | 467/1012 [1:10:28<1:46:05, 11.68s/it]"
          ]
        },
        {
          "metadata": {
            "tags": null
          },
          "name": "stdout",
          "output_type": "stream",
          "text": [
            "14/14 [==============================] - 0s 3ms/step\n"
          ]
        },
        {
          "metadata": {
            "tags": null
          },
          "name": "stderr",
          "output_type": "stream",
          "text": [
            "<ipython-input-30-84f19216e9c9>:14: FutureWarning: The frame.append method is deprecated and will be removed from pandas in a future version. Use pandas.concat instead.\n",
            "  ResultsCollection=ResultsCollection.append(IterResults, ignore_index=True)\n",
            "\r 46%|████▌     | 468/1012 [1:10:40<1:47:03, 11.81s/it]"
          ]
        },
        {
          "metadata": {
            "tags": null
          },
          "name": "stdout",
          "output_type": "stream",
          "text": [
            "14/14 [==============================] - 0s 3ms/step\n"
          ]
        },
        {
          "metadata": {
            "tags": null
          },
          "name": "stderr",
          "output_type": "stream",
          "text": [
            "<ipython-input-30-84f19216e9c9>:14: FutureWarning: The frame.append method is deprecated and will be removed from pandas in a future version. Use pandas.concat instead.\n",
            "  ResultsCollection=ResultsCollection.append(IterResults, ignore_index=True)\n",
            "\r 46%|████▋     | 469/1012 [1:10:52<1:46:47, 11.80s/it]"
          ]
        },
        {
          "metadata": {
            "tags": null
          },
          "name": "stdout",
          "output_type": "stream",
          "text": [
            "14/14 [==============================] - 0s 3ms/step\n"
          ]
        },
        {
          "metadata": {
            "tags": null
          },
          "name": "stderr",
          "output_type": "stream",
          "text": [
            "<ipython-input-30-84f19216e9c9>:14: FutureWarning: The frame.append method is deprecated and will be removed from pandas in a future version. Use pandas.concat instead.\n",
            "  ResultsCollection=ResultsCollection.append(IterResults, ignore_index=True)\n",
            "\r 46%|████▋     | 470/1012 [1:11:04<1:46:25, 11.78s/it]"
          ]
        },
        {
          "metadata": {
            "tags": null
          },
          "name": "stdout",
          "output_type": "stream",
          "text": [
            "14/14 [==============================] - 0s 3ms/step\n"
          ]
        },
        {
          "metadata": {
            "tags": null
          },
          "name": "stderr",
          "output_type": "stream",
          "text": [
            "<ipython-input-30-84f19216e9c9>:14: FutureWarning: The frame.append method is deprecated and will be removed from pandas in a future version. Use pandas.concat instead.\n",
            "  ResultsCollection=ResultsCollection.append(IterResults, ignore_index=True)\n",
            "\r 47%|████▋     | 471/1012 [1:11:15<1:46:04, 11.76s/it]"
          ]
        },
        {
          "metadata": {
            "tags": null
          },
          "name": "stdout",
          "output_type": "stream",
          "text": [
            "14/14 [==============================] - 0s 3ms/step\n"
          ]
        },
        {
          "metadata": {
            "tags": null
          },
          "name": "stderr",
          "output_type": "stream",
          "text": [
            "<ipython-input-30-84f19216e9c9>:14: FutureWarning: The frame.append method is deprecated and will be removed from pandas in a future version. Use pandas.concat instead.\n",
            "  ResultsCollection=ResultsCollection.append(IterResults, ignore_index=True)\n",
            "\r 47%|████▋     | 472/1012 [1:11:27<1:46:26, 11.83s/it]"
          ]
        },
        {
          "metadata": {
            "tags": null
          },
          "name": "stdout",
          "output_type": "stream",
          "text": [
            "14/14 [==============================] - 0s 3ms/step\n"
          ]
        },
        {
          "metadata": {
            "tags": null
          },
          "name": "stderr",
          "output_type": "stream",
          "text": [
            "<ipython-input-30-84f19216e9c9>:14: FutureWarning: The frame.append method is deprecated and will be removed from pandas in a future version. Use pandas.concat instead.\n",
            "  ResultsCollection=ResultsCollection.append(IterResults, ignore_index=True)\n",
            "\r 47%|████▋     | 473/1012 [1:11:39<1:46:19, 11.83s/it]"
          ]
        },
        {
          "metadata": {
            "tags": null
          },
          "name": "stdout",
          "output_type": "stream",
          "text": [
            "14/14 [==============================] - 0s 3ms/step\n"
          ]
        },
        {
          "metadata": {
            "tags": null
          },
          "name": "stderr",
          "output_type": "stream",
          "text": [
            "<ipython-input-30-84f19216e9c9>:14: FutureWarning: The frame.append method is deprecated and will be removed from pandas in a future version. Use pandas.concat instead.\n",
            "  ResultsCollection=ResultsCollection.append(IterResults, ignore_index=True)\n",
            "\r 47%|████▋     | 474/1012 [1:11:51<1:45:59, 11.82s/it]"
          ]
        },
        {
          "metadata": {
            "tags": null
          },
          "name": "stdout",
          "output_type": "stream",
          "text": [
            "14/14 [==============================] - 0s 3ms/step\n"
          ]
        },
        {
          "metadata": {
            "tags": null
          },
          "name": "stderr",
          "output_type": "stream",
          "text": [
            "<ipython-input-30-84f19216e9c9>:14: FutureWarning: The frame.append method is deprecated and will be removed from pandas in a future version. Use pandas.concat instead.\n",
            "  ResultsCollection=ResultsCollection.append(IterResults, ignore_index=True)\n",
            "\r 47%|████▋     | 475/1012 [1:12:03<1:46:02, 11.85s/it]"
          ]
        },
        {
          "metadata": {
            "tags": null
          },
          "name": "stdout",
          "output_type": "stream",
          "text": [
            "14/14 [==============================] - 0s 3ms/step\n"
          ]
        },
        {
          "metadata": {
            "tags": null
          },
          "name": "stderr",
          "output_type": "stream",
          "text": [
            "<ipython-input-30-84f19216e9c9>:14: FutureWarning: The frame.append method is deprecated and will be removed from pandas in a future version. Use pandas.concat instead.\n",
            "  ResultsCollection=ResultsCollection.append(IterResults, ignore_index=True)\n",
            "\r 47%|████▋     | 476/1012 [1:12:15<1:45:40, 11.83s/it]"
          ]
        },
        {
          "metadata": {
            "tags": null
          },
          "name": "stdout",
          "output_type": "stream",
          "text": [
            "14/14 [==============================] - 0s 3ms/step\n"
          ]
        },
        {
          "metadata": {
            "tags": null
          },
          "name": "stderr",
          "output_type": "stream",
          "text": [
            "<ipython-input-30-84f19216e9c9>:14: FutureWarning: The frame.append method is deprecated and will be removed from pandas in a future version. Use pandas.concat instead.\n",
            "  ResultsCollection=ResultsCollection.append(IterResults, ignore_index=True)\n",
            "\r 47%|████▋     | 477/1012 [1:12:27<1:45:46, 11.86s/it]"
          ]
        },
        {
          "metadata": {
            "tags": null
          },
          "name": "stdout",
          "output_type": "stream",
          "text": [
            "14/14 [==============================] - 0s 3ms/step\n"
          ]
        },
        {
          "metadata": {
            "tags": null
          },
          "name": "stderr",
          "output_type": "stream",
          "text": [
            "<ipython-input-30-84f19216e9c9>:14: FutureWarning: The frame.append method is deprecated and will be removed from pandas in a future version. Use pandas.concat instead.\n",
            "  ResultsCollection=ResultsCollection.append(IterResults, ignore_index=True)\n",
            "\r 47%|████▋     | 478/1012 [1:12:38<1:45:42, 11.88s/it]"
          ]
        },
        {
          "metadata": {
            "tags": null
          },
          "name": "stdout",
          "output_type": "stream",
          "text": [
            "14/14 [==============================] - 0s 3ms/step\n"
          ]
        },
        {
          "metadata": {
            "tags": null
          },
          "name": "stderr",
          "output_type": "stream",
          "text": [
            "<ipython-input-30-84f19216e9c9>:14: FutureWarning: The frame.append method is deprecated and will be removed from pandas in a future version. Use pandas.concat instead.\n",
            "  ResultsCollection=ResultsCollection.append(IterResults, ignore_index=True)\n",
            "\r 47%|████▋     | 479/1012 [1:12:50<1:45:34, 11.88s/it]"
          ]
        },
        {
          "metadata": {
            "tags": null
          },
          "name": "stdout",
          "output_type": "stream",
          "text": [
            "14/14 [==============================] - 0s 3ms/step\n"
          ]
        },
        {
          "metadata": {
            "tags": null
          },
          "name": "stderr",
          "output_type": "stream",
          "text": [
            "<ipython-input-30-84f19216e9c9>:14: FutureWarning: The frame.append method is deprecated and will be removed from pandas in a future version. Use pandas.concat instead.\n",
            "  ResultsCollection=ResultsCollection.append(IterResults, ignore_index=True)\n",
            "\r 47%|████▋     | 480/1012 [1:13:03<1:46:04, 11.96s/it]"
          ]
        },
        {
          "metadata": {
            "tags": null
          },
          "name": "stdout",
          "output_type": "stream",
          "text": [
            "14/14 [==============================] - 0s 3ms/step\n"
          ]
        },
        {
          "metadata": {
            "tags": null
          },
          "name": "stderr",
          "output_type": "stream",
          "text": [
            "<ipython-input-30-84f19216e9c9>:14: FutureWarning: The frame.append method is deprecated and will be removed from pandas in a future version. Use pandas.concat instead.\n",
            "  ResultsCollection=ResultsCollection.append(IterResults, ignore_index=True)\n",
            "\r 48%|████▊     | 481/1012 [1:13:14<1:45:30, 11.92s/it]"
          ]
        },
        {
          "metadata": {
            "tags": null
          },
          "name": "stdout",
          "output_type": "stream",
          "text": [
            "14/14 [==============================] - 0s 3ms/step\n"
          ]
        },
        {
          "metadata": {
            "tags": null
          },
          "name": "stderr",
          "output_type": "stream",
          "text": [
            "<ipython-input-30-84f19216e9c9>:14: FutureWarning: The frame.append method is deprecated and will be removed from pandas in a future version. Use pandas.concat instead.\n",
            "  ResultsCollection=ResultsCollection.append(IterResults, ignore_index=True)\n",
            "\r 48%|████▊     | 482/1012 [1:13:26<1:44:49, 11.87s/it]"
          ]
        },
        {
          "metadata": {
            "tags": null
          },
          "name": "stdout",
          "output_type": "stream",
          "text": [
            "14/14 [==============================] - 0s 3ms/step\n"
          ]
        },
        {
          "metadata": {
            "tags": null
          },
          "name": "stderr",
          "output_type": "stream",
          "text": [
            "<ipython-input-30-84f19216e9c9>:14: FutureWarning: The frame.append method is deprecated and will be removed from pandas in a future version. Use pandas.concat instead.\n",
            "  ResultsCollection=ResultsCollection.append(IterResults, ignore_index=True)\n",
            "\r 48%|████▊     | 483/1012 [1:13:38<1:44:36, 11.86s/it]"
          ]
        },
        {
          "metadata": {
            "tags": null
          },
          "name": "stdout",
          "output_type": "stream",
          "text": [
            "14/14 [==============================] - 0s 3ms/step\n"
          ]
        },
        {
          "metadata": {
            "tags": null
          },
          "name": "stderr",
          "output_type": "stream",
          "text": [
            "<ipython-input-30-84f19216e9c9>:14: FutureWarning: The frame.append method is deprecated and will be removed from pandas in a future version. Use pandas.concat instead.\n",
            "  ResultsCollection=ResultsCollection.append(IterResults, ignore_index=True)\n",
            "\r 48%|████▊     | 484/1012 [1:13:50<1:44:17, 11.85s/it]"
          ]
        },
        {
          "metadata": {
            "tags": null
          },
          "name": "stdout",
          "output_type": "stream",
          "text": [
            "14/14 [==============================] - 0s 3ms/step\n"
          ]
        },
        {
          "metadata": {
            "tags": null
          },
          "name": "stderr",
          "output_type": "stream",
          "text": [
            "<ipython-input-30-84f19216e9c9>:14: FutureWarning: The frame.append method is deprecated and will be removed from pandas in a future version. Use pandas.concat instead.\n",
            "  ResultsCollection=ResultsCollection.append(IterResults, ignore_index=True)\n",
            "\r 48%|████▊     | 485/1012 [1:14:02<1:44:47, 11.93s/it]"
          ]
        },
        {
          "metadata": {
            "tags": null
          },
          "name": "stdout",
          "output_type": "stream",
          "text": [
            "14/14 [==============================] - 0s 3ms/step\n"
          ]
        },
        {
          "metadata": {
            "tags": null
          },
          "name": "stderr",
          "output_type": "stream",
          "text": [
            "<ipython-input-30-84f19216e9c9>:14: FutureWarning: The frame.append method is deprecated and will be removed from pandas in a future version. Use pandas.concat instead.\n",
            "  ResultsCollection=ResultsCollection.append(IterResults, ignore_index=True)\n",
            "\r 48%|████▊     | 486/1012 [1:14:14<1:44:27, 11.92s/it]"
          ]
        },
        {
          "metadata": {
            "tags": null
          },
          "name": "stdout",
          "output_type": "stream",
          "text": [
            "14/14 [==============================] - 0s 3ms/step\n"
          ]
        },
        {
          "metadata": {
            "tags": null
          },
          "name": "stderr",
          "output_type": "stream",
          "text": [
            "<ipython-input-30-84f19216e9c9>:14: FutureWarning: The frame.append method is deprecated and will be removed from pandas in a future version. Use pandas.concat instead.\n",
            "  ResultsCollection=ResultsCollection.append(IterResults, ignore_index=True)\n",
            "\r 48%|████▊     | 487/1012 [1:14:26<1:44:37, 11.96s/it]"
          ]
        },
        {
          "metadata": {
            "tags": null
          },
          "name": "stdout",
          "output_type": "stream",
          "text": [
            "14/14 [==============================] - 0s 3ms/step\n"
          ]
        },
        {
          "metadata": {
            "tags": null
          },
          "name": "stderr",
          "output_type": "stream",
          "text": [
            "<ipython-input-30-84f19216e9c9>:14: FutureWarning: The frame.append method is deprecated and will be removed from pandas in a future version. Use pandas.concat instead.\n",
            "  ResultsCollection=ResultsCollection.append(IterResults, ignore_index=True)\n",
            "\r 48%|████▊     | 488/1012 [1:14:38<1:44:36, 11.98s/it]"
          ]
        },
        {
          "metadata": {
            "tags": null
          },
          "name": "stdout",
          "output_type": "stream",
          "text": [
            "14/14 [==============================] - 0s 3ms/step\n"
          ]
        },
        {
          "metadata": {
            "tags": null
          },
          "name": "stderr",
          "output_type": "stream",
          "text": [
            "<ipython-input-30-84f19216e9c9>:14: FutureWarning: The frame.append method is deprecated and will be removed from pandas in a future version. Use pandas.concat instead.\n",
            "  ResultsCollection=ResultsCollection.append(IterResults, ignore_index=True)\n",
            "\r 48%|████▊     | 489/1012 [1:14:50<1:44:49, 12.03s/it]"
          ]
        },
        {
          "metadata": {
            "tags": null
          },
          "name": "stdout",
          "output_type": "stream",
          "text": [
            "14/14 [==============================] - 0s 3ms/step\n"
          ]
        },
        {
          "metadata": {
            "tags": null
          },
          "name": "stderr",
          "output_type": "stream",
          "text": [
            "<ipython-input-30-84f19216e9c9>:14: FutureWarning: The frame.append method is deprecated and will be removed from pandas in a future version. Use pandas.concat instead.\n",
            "  ResultsCollection=ResultsCollection.append(IterResults, ignore_index=True)\n",
            "\r 48%|████▊     | 490/1012 [1:15:02<1:44:16, 11.99s/it]"
          ]
        },
        {
          "metadata": {
            "tags": null
          },
          "name": "stdout",
          "output_type": "stream",
          "text": [
            "14/14 [==============================] - 0s 3ms/step\n"
          ]
        },
        {
          "metadata": {
            "tags": null
          },
          "name": "stderr",
          "output_type": "stream",
          "text": [
            "<ipython-input-30-84f19216e9c9>:14: FutureWarning: The frame.append method is deprecated and will be removed from pandas in a future version. Use pandas.concat instead.\n",
            "  ResultsCollection=ResultsCollection.append(IterResults, ignore_index=True)\n",
            "\r 49%|████▊     | 491/1012 [1:15:14<1:43:46, 11.95s/it]"
          ]
        },
        {
          "metadata": {
            "tags": null
          },
          "name": "stdout",
          "output_type": "stream",
          "text": [
            "14/14 [==============================] - 0s 3ms/step\n"
          ]
        },
        {
          "metadata": {
            "tags": null
          },
          "name": "stderr",
          "output_type": "stream",
          "text": [
            "<ipython-input-30-84f19216e9c9>:14: FutureWarning: The frame.append method is deprecated and will be removed from pandas in a future version. Use pandas.concat instead.\n",
            "  ResultsCollection=ResultsCollection.append(IterResults, ignore_index=True)\n",
            "\r 49%|████▊     | 492/1012 [1:15:26<1:43:25, 11.93s/it]"
          ]
        },
        {
          "metadata": {
            "tags": null
          },
          "name": "stdout",
          "output_type": "stream",
          "text": [
            "14/14 [==============================] - 0s 3ms/step\n"
          ]
        },
        {
          "metadata": {
            "tags": null
          },
          "name": "stderr",
          "output_type": "stream",
          "text": [
            "<ipython-input-30-84f19216e9c9>:14: FutureWarning: The frame.append method is deprecated and will be removed from pandas in a future version. Use pandas.concat instead.\n",
            "  ResultsCollection=ResultsCollection.append(IterResults, ignore_index=True)\n",
            "\r 49%|████▊     | 493/1012 [1:15:38<1:43:09, 11.93s/it]"
          ]
        },
        {
          "metadata": {
            "tags": null
          },
          "name": "stdout",
          "output_type": "stream",
          "text": [
            "14/14 [==============================] - 0s 3ms/step\n"
          ]
        },
        {
          "metadata": {
            "tags": null
          },
          "name": "stderr",
          "output_type": "stream",
          "text": [
            "<ipython-input-30-84f19216e9c9>:14: FutureWarning: The frame.append method is deprecated and will be removed from pandas in a future version. Use pandas.concat instead.\n",
            "  ResultsCollection=ResultsCollection.append(IterResults, ignore_index=True)\n",
            "\r 49%|████▉     | 494/1012 [1:15:49<1:42:59, 11.93s/it]"
          ]
        },
        {
          "metadata": {
            "tags": null
          },
          "name": "stdout",
          "output_type": "stream",
          "text": [
            "14/14 [==============================] - 1s 4ms/step\n"
          ]
        },
        {
          "metadata": {
            "tags": null
          },
          "name": "stderr",
          "output_type": "stream",
          "text": [
            "<ipython-input-30-84f19216e9c9>:14: FutureWarning: The frame.append method is deprecated and will be removed from pandas in a future version. Use pandas.concat instead.\n",
            "  ResultsCollection=ResultsCollection.append(IterResults, ignore_index=True)\n",
            "\r 49%|████▉     | 495/1012 [1:16:02<1:43:28, 12.01s/it]"
          ]
        },
        {
          "metadata": {
            "tags": null
          },
          "name": "stdout",
          "output_type": "stream",
          "text": [
            "14/14 [==============================] - 0s 3ms/step\n"
          ]
        },
        {
          "metadata": {
            "tags": null
          },
          "name": "stderr",
          "output_type": "stream",
          "text": [
            "<ipython-input-30-84f19216e9c9>:14: FutureWarning: The frame.append method is deprecated and will be removed from pandas in a future version. Use pandas.concat instead.\n",
            "  ResultsCollection=ResultsCollection.append(IterResults, ignore_index=True)\n",
            "\r 49%|████▉     | 496/1012 [1:16:14<1:43:48, 12.07s/it]"
          ]
        },
        {
          "metadata": {
            "tags": null
          },
          "name": "stdout",
          "output_type": "stream",
          "text": [
            "14/14 [==============================] - 0s 3ms/step\n"
          ]
        },
        {
          "metadata": {
            "tags": null
          },
          "name": "stderr",
          "output_type": "stream",
          "text": [
            "<ipython-input-30-84f19216e9c9>:14: FutureWarning: The frame.append method is deprecated and will be removed from pandas in a future version. Use pandas.concat instead.\n",
            "  ResultsCollection=ResultsCollection.append(IterResults, ignore_index=True)\n",
            "\r 49%|████▉     | 497/1012 [1:16:26<1:43:34, 12.07s/it]"
          ]
        },
        {
          "metadata": {
            "tags": null
          },
          "name": "stdout",
          "output_type": "stream",
          "text": [
            "14/14 [==============================] - 0s 3ms/step\n"
          ]
        },
        {
          "metadata": {
            "tags": null
          },
          "name": "stderr",
          "output_type": "stream",
          "text": [
            "<ipython-input-30-84f19216e9c9>:14: FutureWarning: The frame.append method is deprecated and will be removed from pandas in a future version. Use pandas.concat instead.\n",
            "  ResultsCollection=ResultsCollection.append(IterResults, ignore_index=True)\n",
            "\r 49%|████▉     | 498/1012 [1:16:38<1:43:24, 12.07s/it]"
          ]
        },
        {
          "metadata": {
            "tags": null
          },
          "name": "stdout",
          "output_type": "stream",
          "text": [
            "14/14 [==============================] - 0s 3ms/step\n"
          ]
        },
        {
          "metadata": {
            "tags": null
          },
          "name": "stderr",
          "output_type": "stream",
          "text": [
            "<ipython-input-30-84f19216e9c9>:14: FutureWarning: The frame.append method is deprecated and will be removed from pandas in a future version. Use pandas.concat instead.\n",
            "  ResultsCollection=ResultsCollection.append(IterResults, ignore_index=True)\n",
            "\r 49%|████▉     | 499/1012 [1:16:50<1:43:16, 12.08s/it]"
          ]
        },
        {
          "metadata": {
            "tags": null
          },
          "name": "stdout",
          "output_type": "stream",
          "text": [
            "14/14 [==============================] - 0s 3ms/step\n"
          ]
        },
        {
          "metadata": {
            "tags": null
          },
          "name": "stderr",
          "output_type": "stream",
          "text": [
            "<ipython-input-30-84f19216e9c9>:14: FutureWarning: The frame.append method is deprecated and will be removed from pandas in a future version. Use pandas.concat instead.\n",
            "  ResultsCollection=ResultsCollection.append(IterResults, ignore_index=True)\n",
            "\r 49%|████▉     | 500/1012 [1:17:02<1:42:58, 12.07s/it]"
          ]
        },
        {
          "metadata": {
            "tags": null
          },
          "name": "stdout",
          "output_type": "stream",
          "text": [
            "14/14 [==============================] - 0s 3ms/step\n"
          ]
        },
        {
          "metadata": {
            "tags": null
          },
          "name": "stderr",
          "output_type": "stream",
          "text": [
            "<ipython-input-30-84f19216e9c9>:14: FutureWarning: The frame.append method is deprecated and will be removed from pandas in a future version. Use pandas.concat instead.\n",
            "  ResultsCollection=ResultsCollection.append(IterResults, ignore_index=True)\n",
            "\r 50%|████▉     | 501/1012 [1:17:14<1:43:00, 12.09s/it]"
          ]
        },
        {
          "metadata": {
            "tags": null
          },
          "name": "stdout",
          "output_type": "stream",
          "text": [
            "14/14 [==============================] - 0s 3ms/step\n"
          ]
        },
        {
          "metadata": {
            "tags": null
          },
          "name": "stderr",
          "output_type": "stream",
          "text": [
            "<ipython-input-30-84f19216e9c9>:14: FutureWarning: The frame.append method is deprecated and will be removed from pandas in a future version. Use pandas.concat instead.\n",
            "  ResultsCollection=ResultsCollection.append(IterResults, ignore_index=True)\n",
            "\r 50%|████▉     | 502/1012 [1:17:26<1:42:25, 12.05s/it]"
          ]
        },
        {
          "metadata": {
            "tags": null
          },
          "name": "stdout",
          "output_type": "stream",
          "text": [
            "14/14 [==============================] - 0s 3ms/step\n"
          ]
        },
        {
          "metadata": {
            "tags": null
          },
          "name": "stderr",
          "output_type": "stream",
          "text": [
            "<ipython-input-30-84f19216e9c9>:14: FutureWarning: The frame.append method is deprecated and will be removed from pandas in a future version. Use pandas.concat instead.\n",
            "  ResultsCollection=ResultsCollection.append(IterResults, ignore_index=True)\n",
            "\r 50%|████▉     | 503/1012 [1:17:38<1:42:32, 12.09s/it]"
          ]
        },
        {
          "metadata": {
            "tags": null
          },
          "name": "stdout",
          "output_type": "stream",
          "text": [
            "14/14 [==============================] - 0s 3ms/step\n"
          ]
        },
        {
          "metadata": {
            "tags": null
          },
          "name": "stderr",
          "output_type": "stream",
          "text": [
            "<ipython-input-30-84f19216e9c9>:14: FutureWarning: The frame.append method is deprecated and will be removed from pandas in a future version. Use pandas.concat instead.\n",
            "  ResultsCollection=ResultsCollection.append(IterResults, ignore_index=True)\n",
            "\r 50%|████▉     | 504/1012 [1:17:51<1:43:02, 12.17s/it]"
          ]
        },
        {
          "metadata": {
            "tags": null
          },
          "name": "stdout",
          "output_type": "stream",
          "text": [
            "14/14 [==============================] - 0s 3ms/step\n"
          ]
        },
        {
          "metadata": {
            "tags": null
          },
          "name": "stderr",
          "output_type": "stream",
          "text": [
            "<ipython-input-30-84f19216e9c9>:14: FutureWarning: The frame.append method is deprecated and will be removed from pandas in a future version. Use pandas.concat instead.\n",
            "  ResultsCollection=ResultsCollection.append(IterResults, ignore_index=True)\n",
            "\r 50%|████▉     | 505/1012 [1:18:03<1:42:32, 12.13s/it]"
          ]
        },
        {
          "metadata": {
            "tags": null
          },
          "name": "stdout",
          "output_type": "stream",
          "text": [
            "14/14 [==============================] - 0s 3ms/step\n"
          ]
        },
        {
          "metadata": {
            "tags": null
          },
          "name": "stderr",
          "output_type": "stream",
          "text": [
            "<ipython-input-30-84f19216e9c9>:14: FutureWarning: The frame.append method is deprecated and will be removed from pandas in a future version. Use pandas.concat instead.\n",
            "  ResultsCollection=ResultsCollection.append(IterResults, ignore_index=True)\n",
            "\r 50%|█████     | 506/1012 [1:18:15<1:42:05, 12.10s/it]"
          ]
        },
        {
          "metadata": {
            "tags": null
          },
          "name": "stdout",
          "output_type": "stream",
          "text": [
            "14/14 [==============================] - 0s 3ms/step\n"
          ]
        },
        {
          "metadata": {
            "tags": null
          },
          "name": "stderr",
          "output_type": "stream",
          "text": [
            "<ipython-input-30-84f19216e9c9>:14: FutureWarning: The frame.append method is deprecated and will be removed from pandas in a future version. Use pandas.concat instead.\n",
            "  ResultsCollection=ResultsCollection.append(IterResults, ignore_index=True)\n",
            "\r 50%|█████     | 507/1012 [1:18:27<1:41:38, 12.08s/it]"
          ]
        },
        {
          "metadata": {
            "tags": null
          },
          "name": "stdout",
          "output_type": "stream",
          "text": [
            "14/14 [==============================] - 0s 3ms/step\n"
          ]
        },
        {
          "metadata": {
            "tags": null
          },
          "name": "stderr",
          "output_type": "stream",
          "text": [
            "<ipython-input-30-84f19216e9c9>:14: FutureWarning: The frame.append method is deprecated and will be removed from pandas in a future version. Use pandas.concat instead.\n",
            "  ResultsCollection=ResultsCollection.append(IterResults, ignore_index=True)\n",
            "\r 50%|█████     | 508/1012 [1:18:39<1:41:55, 12.13s/it]"
          ]
        },
        {
          "metadata": {
            "tags": null
          },
          "name": "stdout",
          "output_type": "stream",
          "text": [
            "14/14 [==============================] - 0s 3ms/step\n"
          ]
        },
        {
          "metadata": {
            "tags": null
          },
          "name": "stderr",
          "output_type": "stream",
          "text": [
            "<ipython-input-30-84f19216e9c9>:14: FutureWarning: The frame.append method is deprecated and will be removed from pandas in a future version. Use pandas.concat instead.\n",
            "  ResultsCollection=ResultsCollection.append(IterResults, ignore_index=True)\n",
            "\r 50%|█████     | 509/1012 [1:18:51<1:41:42, 12.13s/it]"
          ]
        },
        {
          "metadata": {
            "tags": null
          },
          "name": "stdout",
          "output_type": "stream",
          "text": [
            "14/14 [==============================] - 0s 3ms/step\n"
          ]
        },
        {
          "metadata": {
            "tags": null
          },
          "name": "stderr",
          "output_type": "stream",
          "text": [
            "<ipython-input-30-84f19216e9c9>:14: FutureWarning: The frame.append method is deprecated and will be removed from pandas in a future version. Use pandas.concat instead.\n",
            "  ResultsCollection=ResultsCollection.append(IterResults, ignore_index=True)\n",
            "\r 50%|█████     | 510/1012 [1:19:03<1:41:33, 12.14s/it]"
          ]
        },
        {
          "metadata": {
            "tags": null
          },
          "name": "stdout",
          "output_type": "stream",
          "text": [
            "14/14 [==============================] - 0s 3ms/step\n"
          ]
        },
        {
          "metadata": {
            "tags": null
          },
          "name": "stderr",
          "output_type": "stream",
          "text": [
            "<ipython-input-30-84f19216e9c9>:14: FutureWarning: The frame.append method is deprecated and will be removed from pandas in a future version. Use pandas.concat instead.\n",
            "  ResultsCollection=ResultsCollection.append(IterResults, ignore_index=True)\n",
            "\r 50%|█████     | 511/1012 [1:19:16<1:41:22, 12.14s/it]"
          ]
        },
        {
          "metadata": {
            "tags": null
          },
          "name": "stdout",
          "output_type": "stream",
          "text": [
            "14/14 [==============================] - 0s 3ms/step\n"
          ]
        },
        {
          "metadata": {
            "tags": null
          },
          "name": "stderr",
          "output_type": "stream",
          "text": [
            "<ipython-input-30-84f19216e9c9>:14: FutureWarning: The frame.append method is deprecated and will be removed from pandas in a future version. Use pandas.concat instead.\n",
            "  ResultsCollection=ResultsCollection.append(IterResults, ignore_index=True)\n",
            "\r 51%|█████     | 512/1012 [1:19:28<1:41:09, 12.14s/it]"
          ]
        },
        {
          "metadata": {
            "tags": null
          },
          "name": "stdout",
          "output_type": "stream",
          "text": [
            "14/14 [==============================] - 0s 3ms/step\n"
          ]
        },
        {
          "metadata": {
            "tags": null
          },
          "name": "stderr",
          "output_type": "stream",
          "text": [
            "<ipython-input-30-84f19216e9c9>:14: FutureWarning: The frame.append method is deprecated and will be removed from pandas in a future version. Use pandas.concat instead.\n",
            "  ResultsCollection=ResultsCollection.append(IterResults, ignore_index=True)\n",
            "\r 51%|█████     | 513/1012 [1:19:40<1:41:15, 12.18s/it]"
          ]
        },
        {
          "metadata": {
            "tags": null
          },
          "name": "stdout",
          "output_type": "stream",
          "text": [
            "14/14 [==============================] - 0s 3ms/step\n"
          ]
        },
        {
          "metadata": {
            "tags": null
          },
          "name": "stderr",
          "output_type": "stream",
          "text": [
            "<ipython-input-30-84f19216e9c9>:14: FutureWarning: The frame.append method is deprecated and will be removed from pandas in a future version. Use pandas.concat instead.\n",
            "  ResultsCollection=ResultsCollection.append(IterResults, ignore_index=True)\n",
            "\r 51%|█████     | 514/1012 [1:19:52<1:41:26, 12.22s/it]"
          ]
        },
        {
          "metadata": {
            "tags": null
          },
          "name": "stdout",
          "output_type": "stream",
          "text": [
            "14/14 [==============================] - 0s 3ms/step\n"
          ]
        },
        {
          "metadata": {
            "tags": null
          },
          "name": "stderr",
          "output_type": "stream",
          "text": [
            "<ipython-input-30-84f19216e9c9>:14: FutureWarning: The frame.append method is deprecated and will be removed from pandas in a future version. Use pandas.concat instead.\n",
            "  ResultsCollection=ResultsCollection.append(IterResults, ignore_index=True)\n",
            "\r 51%|█████     | 515/1012 [1:20:04<1:41:03, 12.20s/it]"
          ]
        },
        {
          "metadata": {
            "tags": null
          },
          "name": "stdout",
          "output_type": "stream",
          "text": [
            "14/14 [==============================] - 0s 3ms/step\n"
          ]
        },
        {
          "metadata": {
            "tags": null
          },
          "name": "stderr",
          "output_type": "stream",
          "text": [
            "<ipython-input-30-84f19216e9c9>:14: FutureWarning: The frame.append method is deprecated and will be removed from pandas in a future version. Use pandas.concat instead.\n",
            "  ResultsCollection=ResultsCollection.append(IterResults, ignore_index=True)\n",
            "\r 51%|█████     | 516/1012 [1:20:17<1:40:59, 12.22s/it]"
          ]
        },
        {
          "metadata": {
            "tags": null
          },
          "name": "stdout",
          "output_type": "stream",
          "text": [
            "14/14 [==============================] - 0s 3ms/step\n"
          ]
        },
        {
          "metadata": {
            "tags": null
          },
          "name": "stderr",
          "output_type": "stream",
          "text": [
            "<ipython-input-30-84f19216e9c9>:14: FutureWarning: The frame.append method is deprecated and will be removed from pandas in a future version. Use pandas.concat instead.\n",
            "  ResultsCollection=ResultsCollection.append(IterResults, ignore_index=True)\n",
            "\r 51%|█████     | 517/1012 [1:20:29<1:40:30, 12.18s/it]"
          ]
        },
        {
          "metadata": {
            "tags": null
          },
          "name": "stdout",
          "output_type": "stream",
          "text": [
            "14/14 [==============================] - 0s 3ms/step\n"
          ]
        },
        {
          "metadata": {
            "tags": null
          },
          "name": "stderr",
          "output_type": "stream",
          "text": [
            "<ipython-input-30-84f19216e9c9>:14: FutureWarning: The frame.append method is deprecated and will be removed from pandas in a future version. Use pandas.concat instead.\n",
            "  ResultsCollection=ResultsCollection.append(IterResults, ignore_index=True)\n",
            "\r 51%|█████     | 518/1012 [1:20:41<1:41:10, 12.29s/it]"
          ]
        },
        {
          "metadata": {
            "tags": null
          },
          "name": "stdout",
          "output_type": "stream",
          "text": [
            "14/14 [==============================] - 0s 3ms/step\n"
          ]
        },
        {
          "metadata": {
            "tags": null
          },
          "name": "stderr",
          "output_type": "stream",
          "text": [
            "<ipython-input-30-84f19216e9c9>:14: FutureWarning: The frame.append method is deprecated and will be removed from pandas in a future version. Use pandas.concat instead.\n",
            "  ResultsCollection=ResultsCollection.append(IterResults, ignore_index=True)\n",
            "\r 51%|█████▏    | 519/1012 [1:20:54<1:41:02, 12.30s/it]"
          ]
        },
        {
          "metadata": {
            "tags": null
          },
          "name": "stdout",
          "output_type": "stream",
          "text": [
            "14/14 [==============================] - 0s 3ms/step\n"
          ]
        },
        {
          "metadata": {
            "tags": null
          },
          "name": "stderr",
          "output_type": "stream",
          "text": [
            "<ipython-input-30-84f19216e9c9>:14: FutureWarning: The frame.append method is deprecated and will be removed from pandas in a future version. Use pandas.concat instead.\n",
            "  ResultsCollection=ResultsCollection.append(IterResults, ignore_index=True)\n",
            "\r 51%|█████▏    | 520/1012 [1:21:07<1:42:23, 12.49s/it]"
          ]
        },
        {
          "metadata": {
            "tags": null
          },
          "name": "stdout",
          "output_type": "stream",
          "text": [
            "14/14 [==============================] - 0s 3ms/step\n"
          ]
        },
        {
          "metadata": {
            "tags": null
          },
          "name": "stderr",
          "output_type": "stream",
          "text": [
            "<ipython-input-30-84f19216e9c9>:14: FutureWarning: The frame.append method is deprecated and will be removed from pandas in a future version. Use pandas.concat instead.\n",
            "  ResultsCollection=ResultsCollection.append(IterResults, ignore_index=True)\n",
            "\r 51%|█████▏    | 521/1012 [1:21:20<1:43:46, 12.68s/it]"
          ]
        },
        {
          "metadata": {
            "tags": null
          },
          "name": "stdout",
          "output_type": "stream",
          "text": [
            "14/14 [==============================] - 0s 3ms/step\n"
          ]
        },
        {
          "metadata": {
            "tags": null
          },
          "name": "stderr",
          "output_type": "stream",
          "text": [
            "<ipython-input-30-84f19216e9c9>:14: FutureWarning: The frame.append method is deprecated and will be removed from pandas in a future version. Use pandas.concat instead.\n",
            "  ResultsCollection=ResultsCollection.append(IterResults, ignore_index=True)\n",
            "\r 52%|█████▏    | 522/1012 [1:21:32<1:42:52, 12.60s/it]"
          ]
        },
        {
          "metadata": {
            "tags": null
          },
          "name": "stdout",
          "output_type": "stream",
          "text": [
            "14/14 [==============================] - 0s 3ms/step\n"
          ]
        },
        {
          "metadata": {
            "tags": null
          },
          "name": "stderr",
          "output_type": "stream",
          "text": [
            "<ipython-input-30-84f19216e9c9>:14: FutureWarning: The frame.append method is deprecated and will be removed from pandas in a future version. Use pandas.concat instead.\n",
            "  ResultsCollection=ResultsCollection.append(IterResults, ignore_index=True)\n",
            "\r 52%|█████▏    | 523/1012 [1:21:45<1:42:23, 12.56s/it]"
          ]
        },
        {
          "metadata": {
            "tags": null
          },
          "name": "stdout",
          "output_type": "stream",
          "text": [
            "14/14 [==============================] - 0s 3ms/step\n"
          ]
        },
        {
          "metadata": {
            "tags": null
          },
          "name": "stderr",
          "output_type": "stream",
          "text": [
            "<ipython-input-30-84f19216e9c9>:14: FutureWarning: The frame.append method is deprecated and will be removed from pandas in a future version. Use pandas.concat instead.\n",
            "  ResultsCollection=ResultsCollection.append(IterResults, ignore_index=True)\n",
            "\r 52%|█████▏    | 524/1012 [1:22:00<1:48:53, 13.39s/it]"
          ]
        },
        {
          "metadata": {
            "tags": null
          },
          "name": "stdout",
          "output_type": "stream",
          "text": [
            "14/14 [==============================] - 0s 3ms/step\n"
          ]
        },
        {
          "metadata": {
            "tags": null
          },
          "name": "stderr",
          "output_type": "stream",
          "text": [
            "<ipython-input-30-84f19216e9c9>:14: FutureWarning: The frame.append method is deprecated and will be removed from pandas in a future version. Use pandas.concat instead.\n",
            "  ResultsCollection=ResultsCollection.append(IterResults, ignore_index=True)\n",
            "\r 52%|█████▏    | 525/1012 [1:22:12<1:46:23, 13.11s/it]"
          ]
        },
        {
          "metadata": {
            "tags": null
          },
          "name": "stdout",
          "output_type": "stream",
          "text": [
            "14/14 [==============================] - 0s 3ms/step\n"
          ]
        },
        {
          "metadata": {
            "tags": null
          },
          "name": "stderr",
          "output_type": "stream",
          "text": [
            "<ipython-input-30-84f19216e9c9>:14: FutureWarning: The frame.append method is deprecated and will be removed from pandas in a future version. Use pandas.concat instead.\n",
            "  ResultsCollection=ResultsCollection.append(IterResults, ignore_index=True)\n",
            "\r 52%|█████▏    | 526/1012 [1:22:25<1:44:52, 12.95s/it]"
          ]
        },
        {
          "metadata": {
            "tags": null
          },
          "name": "stdout",
          "output_type": "stream",
          "text": [
            "14/14 [==============================] - 0s 3ms/step\n"
          ]
        },
        {
          "metadata": {
            "tags": null
          },
          "name": "stderr",
          "output_type": "stream",
          "text": [
            "<ipython-input-30-84f19216e9c9>:14: FutureWarning: The frame.append method is deprecated and will be removed from pandas in a future version. Use pandas.concat instead.\n",
            "  ResultsCollection=ResultsCollection.append(IterResults, ignore_index=True)\n",
            "\r 52%|█████▏    | 527/1012 [1:22:38<1:44:05, 12.88s/it]"
          ]
        },
        {
          "metadata": {
            "tags": null
          },
          "name": "stdout",
          "output_type": "stream",
          "text": [
            "14/14 [==============================] - 0s 3ms/step\n"
          ]
        },
        {
          "metadata": {
            "tags": null
          },
          "name": "stderr",
          "output_type": "stream",
          "text": [
            "<ipython-input-30-84f19216e9c9>:14: FutureWarning: The frame.append method is deprecated and will be removed from pandas in a future version. Use pandas.concat instead.\n",
            "  ResultsCollection=ResultsCollection.append(IterResults, ignore_index=True)\n",
            "\r 52%|█████▏    | 528/1012 [1:22:50<1:43:09, 12.79s/it]"
          ]
        },
        {
          "metadata": {
            "tags": null
          },
          "name": "stdout",
          "output_type": "stream",
          "text": [
            "14/14 [==============================] - 0s 3ms/step\n"
          ]
        },
        {
          "metadata": {
            "tags": null
          },
          "name": "stderr",
          "output_type": "stream",
          "text": [
            "<ipython-input-30-84f19216e9c9>:14: FutureWarning: The frame.append method is deprecated and will be removed from pandas in a future version. Use pandas.concat instead.\n",
            "  ResultsCollection=ResultsCollection.append(IterResults, ignore_index=True)\n",
            "\r 52%|█████▏    | 529/1012 [1:23:03<1:42:53, 12.78s/it]"
          ]
        },
        {
          "metadata": {
            "tags": null
          },
          "name": "stdout",
          "output_type": "stream",
          "text": [
            "14/14 [==============================] - 0s 3ms/step\n"
          ]
        },
        {
          "metadata": {
            "tags": null
          },
          "name": "stderr",
          "output_type": "stream",
          "text": [
            "<ipython-input-30-84f19216e9c9>:14: FutureWarning: The frame.append method is deprecated and will be removed from pandas in a future version. Use pandas.concat instead.\n",
            "  ResultsCollection=ResultsCollection.append(IterResults, ignore_index=True)\n",
            "\r 52%|█████▏    | 530/1012 [1:23:16<1:42:15, 12.73s/it]"
          ]
        },
        {
          "metadata": {
            "tags": null
          },
          "name": "stdout",
          "output_type": "stream",
          "text": [
            "14/14 [==============================] - 0s 3ms/step\n"
          ]
        },
        {
          "metadata": {
            "tags": null
          },
          "name": "stderr",
          "output_type": "stream",
          "text": [
            "<ipython-input-30-84f19216e9c9>:14: FutureWarning: The frame.append method is deprecated and will be removed from pandas in a future version. Use pandas.concat instead.\n",
            "  ResultsCollection=ResultsCollection.append(IterResults, ignore_index=True)\n",
            "\r 52%|█████▏    | 531/1012 [1:23:28<1:42:13, 12.75s/it]"
          ]
        },
        {
          "metadata": {
            "tags": null
          },
          "name": "stdout",
          "output_type": "stream",
          "text": [
            "14/14 [==============================] - 1s 3ms/step\n"
          ]
        },
        {
          "metadata": {
            "tags": null
          },
          "name": "stderr",
          "output_type": "stream",
          "text": [
            "<ipython-input-30-84f19216e9c9>:14: FutureWarning: The frame.append method is deprecated and will be removed from pandas in a future version. Use pandas.concat instead.\n",
            "  ResultsCollection=ResultsCollection.append(IterResults, ignore_index=True)\n",
            "\r 53%|█████▎    | 532/1012 [1:23:41<1:41:48, 12.73s/it]"
          ]
        },
        {
          "metadata": {
            "tags": null
          },
          "name": "stdout",
          "output_type": "stream",
          "text": [
            "14/14 [==============================] - 0s 3ms/step\n"
          ]
        },
        {
          "metadata": {
            "tags": null
          },
          "name": "stderr",
          "output_type": "stream",
          "text": [
            "<ipython-input-30-84f19216e9c9>:14: FutureWarning: The frame.append method is deprecated and will be removed from pandas in a future version. Use pandas.concat instead.\n",
            "  ResultsCollection=ResultsCollection.append(IterResults, ignore_index=True)\n",
            "\r 53%|█████▎    | 533/1012 [1:23:54<1:41:34, 12.72s/it]"
          ]
        },
        {
          "metadata": {
            "tags": null
          },
          "name": "stdout",
          "output_type": "stream",
          "text": [
            "14/14 [==============================] - 0s 3ms/step\n"
          ]
        },
        {
          "metadata": {
            "tags": null
          },
          "name": "stderr",
          "output_type": "stream",
          "text": [
            "<ipython-input-30-84f19216e9c9>:14: FutureWarning: The frame.append method is deprecated and will be removed from pandas in a future version. Use pandas.concat instead.\n",
            "  ResultsCollection=ResultsCollection.append(IterResults, ignore_index=True)\n",
            "\r 53%|█████▎    | 534/1012 [1:24:07<1:41:43, 12.77s/it]"
          ]
        },
        {
          "metadata": {
            "tags": null
          },
          "name": "stdout",
          "output_type": "stream",
          "text": [
            "14/14 [==============================] - 0s 3ms/step\n"
          ]
        },
        {
          "metadata": {
            "tags": null
          },
          "name": "stderr",
          "output_type": "stream",
          "text": [
            "<ipython-input-30-84f19216e9c9>:14: FutureWarning: The frame.append method is deprecated and will be removed from pandas in a future version. Use pandas.concat instead.\n",
            "  ResultsCollection=ResultsCollection.append(IterResults, ignore_index=True)\n",
            "\r 53%|█████▎    | 535/1012 [1:24:19<1:41:19, 12.75s/it]"
          ]
        },
        {
          "metadata": {
            "tags": null
          },
          "name": "stdout",
          "output_type": "stream",
          "text": [
            "14/14 [==============================] - 0s 3ms/step\n"
          ]
        },
        {
          "metadata": {
            "tags": null
          },
          "name": "stderr",
          "output_type": "stream",
          "text": [
            "<ipython-input-30-84f19216e9c9>:14: FutureWarning: The frame.append method is deprecated and will be removed from pandas in a future version. Use pandas.concat instead.\n",
            "  ResultsCollection=ResultsCollection.append(IterResults, ignore_index=True)\n",
            "\r 53%|█████▎    | 536/1012 [1:24:32<1:40:36, 12.68s/it]"
          ]
        },
        {
          "metadata": {
            "tags": null
          },
          "name": "stdout",
          "output_type": "stream",
          "text": [
            "14/14 [==============================] - 0s 3ms/step\n"
          ]
        },
        {
          "metadata": {
            "tags": null
          },
          "name": "stderr",
          "output_type": "stream",
          "text": [
            "<ipython-input-30-84f19216e9c9>:14: FutureWarning: The frame.append method is deprecated and will be removed from pandas in a future version. Use pandas.concat instead.\n",
            "  ResultsCollection=ResultsCollection.append(IterResults, ignore_index=True)\n",
            "\r 53%|█████▎    | 537/1012 [1:24:44<1:40:01, 12.64s/it]"
          ]
        },
        {
          "metadata": {
            "tags": null
          },
          "name": "stdout",
          "output_type": "stream",
          "text": [
            "14/14 [==============================] - 0s 3ms/step\n"
          ]
        },
        {
          "metadata": {
            "tags": null
          },
          "name": "stderr",
          "output_type": "stream",
          "text": [
            "<ipython-input-30-84f19216e9c9>:14: FutureWarning: The frame.append method is deprecated and will be removed from pandas in a future version. Use pandas.concat instead.\n",
            "  ResultsCollection=ResultsCollection.append(IterResults, ignore_index=True)\n",
            "\r 53%|█████▎    | 538/1012 [1:24:57<1:39:43, 12.62s/it]"
          ]
        },
        {
          "metadata": {
            "tags": null
          },
          "name": "stdout",
          "output_type": "stream",
          "text": [
            "14/14 [==============================] - 0s 3ms/step\n"
          ]
        },
        {
          "metadata": {
            "tags": null
          },
          "name": "stderr",
          "output_type": "stream",
          "text": [
            "<ipython-input-30-84f19216e9c9>:14: FutureWarning: The frame.append method is deprecated and will be removed from pandas in a future version. Use pandas.concat instead.\n",
            "  ResultsCollection=ResultsCollection.append(IterResults, ignore_index=True)\n",
            "\r 53%|█████▎    | 539/1012 [1:25:10<1:39:30, 12.62s/it]"
          ]
        },
        {
          "metadata": {
            "tags": null
          },
          "name": "stdout",
          "output_type": "stream",
          "text": [
            "14/14 [==============================] - 0s 3ms/step\n"
          ]
        },
        {
          "metadata": {
            "tags": null
          },
          "name": "stderr",
          "output_type": "stream",
          "text": [
            "<ipython-input-30-84f19216e9c9>:14: FutureWarning: The frame.append method is deprecated and will be removed from pandas in a future version. Use pandas.concat instead.\n",
            "  ResultsCollection=ResultsCollection.append(IterResults, ignore_index=True)\n",
            "\r 53%|█████▎    | 540/1012 [1:25:22<1:39:18, 12.62s/it]"
          ]
        },
        {
          "metadata": {
            "tags": null
          },
          "name": "stdout",
          "output_type": "stream",
          "text": [
            "14/14 [==============================] - 1s 4ms/step\n"
          ]
        },
        {
          "metadata": {
            "tags": null
          },
          "name": "stderr",
          "output_type": "stream",
          "text": [
            "<ipython-input-30-84f19216e9c9>:14: FutureWarning: The frame.append method is deprecated and will be removed from pandas in a future version. Use pandas.concat instead.\n",
            "  ResultsCollection=ResultsCollection.append(IterResults, ignore_index=True)\n",
            "\r 53%|█████▎    | 541/1012 [1:25:35<1:39:00, 12.61s/it]"
          ]
        },
        {
          "metadata": {
            "tags": null
          },
          "name": "stdout",
          "output_type": "stream",
          "text": [
            "14/14 [==============================] - 1s 3ms/step\n"
          ]
        },
        {
          "metadata": {
            "tags": null
          },
          "name": "stderr",
          "output_type": "stream",
          "text": [
            "<ipython-input-30-84f19216e9c9>:14: FutureWarning: The frame.append method is deprecated and will be removed from pandas in a future version. Use pandas.concat instead.\n",
            "  ResultsCollection=ResultsCollection.append(IterResults, ignore_index=True)\n",
            "\r 54%|█████▎    | 542/1012 [1:25:48<1:38:58, 12.63s/it]"
          ]
        },
        {
          "metadata": {
            "tags": null
          },
          "name": "stdout",
          "output_type": "stream",
          "text": [
            "14/14 [==============================] - 0s 3ms/step\n"
          ]
        },
        {
          "metadata": {
            "tags": null
          },
          "name": "stderr",
          "output_type": "stream",
          "text": [
            "<ipython-input-30-84f19216e9c9>:14: FutureWarning: The frame.append method is deprecated and will be removed from pandas in a future version. Use pandas.concat instead.\n",
            "  ResultsCollection=ResultsCollection.append(IterResults, ignore_index=True)\n",
            "\r 54%|█████▎    | 543/1012 [1:26:00<1:39:14, 12.70s/it]"
          ]
        },
        {
          "metadata": {
            "tags": null
          },
          "name": "stdout",
          "output_type": "stream",
          "text": [
            "14/14 [==============================] - 0s 3ms/step\n"
          ]
        },
        {
          "metadata": {
            "tags": null
          },
          "name": "stderr",
          "output_type": "stream",
          "text": [
            "<ipython-input-30-84f19216e9c9>:14: FutureWarning: The frame.append method is deprecated and will be removed from pandas in a future version. Use pandas.concat instead.\n",
            "  ResultsCollection=ResultsCollection.append(IterResults, ignore_index=True)\n",
            "\r 54%|█████▍    | 544/1012 [1:26:13<1:39:36, 12.77s/it]"
          ]
        },
        {
          "metadata": {
            "tags": null
          },
          "name": "stdout",
          "output_type": "stream",
          "text": [
            "14/14 [==============================] - 0s 3ms/step\n"
          ]
        },
        {
          "metadata": {
            "tags": null
          },
          "name": "stderr",
          "output_type": "stream",
          "text": [
            "<ipython-input-30-84f19216e9c9>:14: FutureWarning: The frame.append method is deprecated and will be removed from pandas in a future version. Use pandas.concat instead.\n",
            "  ResultsCollection=ResultsCollection.append(IterResults, ignore_index=True)\n",
            "\r 54%|█████▍    | 545/1012 [1:26:26<1:39:40, 12.81s/it]"
          ]
        },
        {
          "metadata": {
            "tags": null
          },
          "name": "stdout",
          "output_type": "stream",
          "text": [
            "14/14 [==============================] - 0s 3ms/step\n"
          ]
        },
        {
          "metadata": {
            "tags": null
          },
          "name": "stderr",
          "output_type": "stream",
          "text": [
            "<ipython-input-30-84f19216e9c9>:14: FutureWarning: The frame.append method is deprecated and will be removed from pandas in a future version. Use pandas.concat instead.\n",
            "  ResultsCollection=ResultsCollection.append(IterResults, ignore_index=True)\n",
            "\r 54%|█████▍    | 546/1012 [1:26:39<1:39:30, 12.81s/it]"
          ]
        },
        {
          "metadata": {
            "tags": null
          },
          "name": "stdout",
          "output_type": "stream",
          "text": [
            "14/14 [==============================] - 0s 3ms/step\n"
          ]
        },
        {
          "metadata": {
            "tags": null
          },
          "name": "stderr",
          "output_type": "stream",
          "text": [
            "<ipython-input-30-84f19216e9c9>:14: FutureWarning: The frame.append method is deprecated and will be removed from pandas in a future version. Use pandas.concat instead.\n",
            "  ResultsCollection=ResultsCollection.append(IterResults, ignore_index=True)\n",
            "\r 54%|█████▍    | 547/1012 [1:26:52<1:38:42, 12.74s/it]"
          ]
        },
        {
          "metadata": {
            "tags": null
          },
          "name": "stdout",
          "output_type": "stream",
          "text": [
            "14/14 [==============================] - 0s 3ms/step\n"
          ]
        },
        {
          "metadata": {
            "tags": null
          },
          "name": "stderr",
          "output_type": "stream",
          "text": [
            "<ipython-input-30-84f19216e9c9>:14: FutureWarning: The frame.append method is deprecated and will be removed from pandas in a future version. Use pandas.concat instead.\n",
            "  ResultsCollection=ResultsCollection.append(IterResults, ignore_index=True)\n",
            "\r 54%|█████▍    | 548/1012 [1:27:04<1:38:13, 12.70s/it]"
          ]
        },
        {
          "metadata": {
            "tags": null
          },
          "name": "stdout",
          "output_type": "stream",
          "text": [
            "14/14 [==============================] - 0s 3ms/step\n"
          ]
        },
        {
          "metadata": {
            "tags": null
          },
          "name": "stderr",
          "output_type": "stream",
          "text": [
            "<ipython-input-30-84f19216e9c9>:14: FutureWarning: The frame.append method is deprecated and will be removed from pandas in a future version. Use pandas.concat instead.\n",
            "  ResultsCollection=ResultsCollection.append(IterResults, ignore_index=True)\n",
            "\r 54%|█████▍    | 549/1012 [1:27:17<1:38:01, 12.70s/it]"
          ]
        },
        {
          "metadata": {
            "tags": null
          },
          "name": "stdout",
          "output_type": "stream",
          "text": [
            "14/14 [==============================] - 0s 3ms/step\n"
          ]
        },
        {
          "metadata": {
            "tags": null
          },
          "name": "stderr",
          "output_type": "stream",
          "text": [
            "<ipython-input-30-84f19216e9c9>:14: FutureWarning: The frame.append method is deprecated and will be removed from pandas in a future version. Use pandas.concat instead.\n",
            "  ResultsCollection=ResultsCollection.append(IterResults, ignore_index=True)\n",
            "\r 54%|█████▍    | 550/1012 [1:27:30<1:37:47, 12.70s/it]"
          ]
        },
        {
          "metadata": {
            "tags": null
          },
          "name": "stdout",
          "output_type": "stream",
          "text": [
            "14/14 [==============================] - 0s 3ms/step\n"
          ]
        },
        {
          "metadata": {
            "tags": null
          },
          "name": "stderr",
          "output_type": "stream",
          "text": [
            "<ipython-input-30-84f19216e9c9>:14: FutureWarning: The frame.append method is deprecated and will be removed from pandas in a future version. Use pandas.concat instead.\n",
            "  ResultsCollection=ResultsCollection.append(IterResults, ignore_index=True)\n",
            "\r 54%|█████▍    | 551/1012 [1:27:43<1:37:58, 12.75s/it]"
          ]
        },
        {
          "metadata": {
            "tags": null
          },
          "name": "stdout",
          "output_type": "stream",
          "text": [
            "14/14 [==============================] - 0s 3ms/step\n"
          ]
        },
        {
          "metadata": {
            "tags": null
          },
          "name": "stderr",
          "output_type": "stream",
          "text": [
            "<ipython-input-30-84f19216e9c9>:14: FutureWarning: The frame.append method is deprecated and will be removed from pandas in a future version. Use pandas.concat instead.\n",
            "  ResultsCollection=ResultsCollection.append(IterResults, ignore_index=True)\n",
            "\r 55%|█████▍    | 552/1012 [1:27:55<1:37:58, 12.78s/it]"
          ]
        },
        {
          "metadata": {
            "tags": null
          },
          "name": "stdout",
          "output_type": "stream",
          "text": [
            "14/14 [==============================] - 0s 3ms/step\n"
          ]
        },
        {
          "metadata": {
            "tags": null
          },
          "name": "stderr",
          "output_type": "stream",
          "text": [
            "<ipython-input-30-84f19216e9c9>:14: FutureWarning: The frame.append method is deprecated and will be removed from pandas in a future version. Use pandas.concat instead.\n",
            "  ResultsCollection=ResultsCollection.append(IterResults, ignore_index=True)\n",
            "\r 55%|█████▍    | 553/1012 [1:28:08<1:37:40, 12.77s/it]"
          ]
        },
        {
          "metadata": {
            "tags": null
          },
          "name": "stdout",
          "output_type": "stream",
          "text": [
            "14/14 [==============================] - 0s 3ms/step\n"
          ]
        },
        {
          "metadata": {
            "tags": null
          },
          "name": "stderr",
          "output_type": "stream",
          "text": [
            "<ipython-input-30-84f19216e9c9>:14: FutureWarning: The frame.append method is deprecated and will be removed from pandas in a future version. Use pandas.concat instead.\n",
            "  ResultsCollection=ResultsCollection.append(IterResults, ignore_index=True)\n",
            "\r 55%|█████▍    | 554/1012 [1:28:21<1:37:40, 12.80s/it]"
          ]
        },
        {
          "metadata": {
            "tags": null
          },
          "name": "stdout",
          "output_type": "stream",
          "text": [
            "14/14 [==============================] - 0s 3ms/step\n"
          ]
        },
        {
          "metadata": {
            "tags": null
          },
          "name": "stderr",
          "output_type": "stream",
          "text": [
            "<ipython-input-30-84f19216e9c9>:14: FutureWarning: The frame.append method is deprecated and will be removed from pandas in a future version. Use pandas.concat instead.\n",
            "  ResultsCollection=ResultsCollection.append(IterResults, ignore_index=True)\n",
            "\r 55%|█████▍    | 555/1012 [1:28:34<1:37:21, 12.78s/it]"
          ]
        },
        {
          "metadata": {
            "tags": null
          },
          "name": "stdout",
          "output_type": "stream",
          "text": [
            "14/14 [==============================] - 0s 3ms/step\n"
          ]
        },
        {
          "metadata": {
            "tags": null
          },
          "name": "stderr",
          "output_type": "stream",
          "text": [
            "<ipython-input-30-84f19216e9c9>:14: FutureWarning: The frame.append method is deprecated and will be removed from pandas in a future version. Use pandas.concat instead.\n",
            "  ResultsCollection=ResultsCollection.append(IterResults, ignore_index=True)\n",
            "\r 55%|█████▍    | 556/1012 [1:28:47<1:37:25, 12.82s/it]"
          ]
        },
        {
          "metadata": {
            "tags": null
          },
          "name": "stdout",
          "output_type": "stream",
          "text": [
            "14/14 [==============================] - 0s 3ms/step\n"
          ]
        },
        {
          "metadata": {
            "tags": null
          },
          "name": "stderr",
          "output_type": "stream",
          "text": [
            "<ipython-input-30-84f19216e9c9>:14: FutureWarning: The frame.append method is deprecated and will be removed from pandas in a future version. Use pandas.concat instead.\n",
            "  ResultsCollection=ResultsCollection.append(IterResults, ignore_index=True)\n",
            "\r 55%|█████▌    | 557/1012 [1:28:59<1:37:02, 12.80s/it]"
          ]
        },
        {
          "metadata": {
            "tags": null
          },
          "name": "stdout",
          "output_type": "stream",
          "text": [
            "14/14 [==============================] - 0s 3ms/step\n"
          ]
        },
        {
          "metadata": {
            "tags": null
          },
          "name": "stderr",
          "output_type": "stream",
          "text": [
            "<ipython-input-30-84f19216e9c9>:14: FutureWarning: The frame.append method is deprecated and will be removed from pandas in a future version. Use pandas.concat instead.\n",
            "  ResultsCollection=ResultsCollection.append(IterResults, ignore_index=True)\n",
            "\r 55%|█████▌    | 558/1012 [1:29:12<1:36:38, 12.77s/it]"
          ]
        },
        {
          "metadata": {
            "tags": null
          },
          "name": "stdout",
          "output_type": "stream",
          "text": [
            "14/14 [==============================] - 0s 3ms/step\n"
          ]
        },
        {
          "metadata": {
            "tags": null
          },
          "name": "stderr",
          "output_type": "stream",
          "text": [
            "<ipython-input-30-84f19216e9c9>:14: FutureWarning: The frame.append method is deprecated and will be removed from pandas in a future version. Use pandas.concat instead.\n",
            "  ResultsCollection=ResultsCollection.append(IterResults, ignore_index=True)\n",
            "\r 55%|█████▌    | 559/1012 [1:29:25<1:36:29, 12.78s/it]"
          ]
        },
        {
          "metadata": {
            "tags": null
          },
          "name": "stdout",
          "output_type": "stream",
          "text": [
            "14/14 [==============================] - 0s 3ms/step\n"
          ]
        },
        {
          "metadata": {
            "tags": null
          },
          "name": "stderr",
          "output_type": "stream",
          "text": [
            "<ipython-input-30-84f19216e9c9>:14: FutureWarning: The frame.append method is deprecated and will be removed from pandas in a future version. Use pandas.concat instead.\n",
            "  ResultsCollection=ResultsCollection.append(IterResults, ignore_index=True)\n",
            "\r 55%|█████▌    | 560/1012 [1:29:38<1:36:18, 12.78s/it]"
          ]
        },
        {
          "metadata": {
            "tags": null
          },
          "name": "stdout",
          "output_type": "stream",
          "text": [
            "14/14 [==============================] - 0s 3ms/step\n"
          ]
        },
        {
          "metadata": {
            "tags": null
          },
          "name": "stderr",
          "output_type": "stream",
          "text": [
            "<ipython-input-30-84f19216e9c9>:14: FutureWarning: The frame.append method is deprecated and will be removed from pandas in a future version. Use pandas.concat instead.\n",
            "  ResultsCollection=ResultsCollection.append(IterResults, ignore_index=True)\n",
            "\r 55%|█████▌    | 561/1012 [1:29:51<1:36:16, 12.81s/it]"
          ]
        },
        {
          "metadata": {
            "tags": null
          },
          "name": "stdout",
          "output_type": "stream",
          "text": [
            "14/14 [==============================] - 0s 3ms/step\n"
          ]
        },
        {
          "metadata": {
            "tags": null
          },
          "name": "stderr",
          "output_type": "stream",
          "text": [
            "<ipython-input-30-84f19216e9c9>:14: FutureWarning: The frame.append method is deprecated and will be removed from pandas in a future version. Use pandas.concat instead.\n",
            "  ResultsCollection=ResultsCollection.append(IterResults, ignore_index=True)\n",
            "\r 56%|█████▌    | 562/1012 [1:30:03<1:36:05, 12.81s/it]"
          ]
        },
        {
          "metadata": {
            "tags": null
          },
          "name": "stdout",
          "output_type": "stream",
          "text": [
            "14/14 [==============================] - 0s 3ms/step\n"
          ]
        },
        {
          "metadata": {
            "tags": null
          },
          "name": "stderr",
          "output_type": "stream",
          "text": [
            "<ipython-input-30-84f19216e9c9>:14: FutureWarning: The frame.append method is deprecated and will be removed from pandas in a future version. Use pandas.concat instead.\n",
            "  ResultsCollection=ResultsCollection.append(IterResults, ignore_index=True)\n",
            "\r 56%|█████▌    | 563/1012 [1:30:16<1:35:52, 12.81s/it]"
          ]
        },
        {
          "metadata": {
            "tags": null
          },
          "name": "stdout",
          "output_type": "stream",
          "text": [
            "14/14 [==============================] - 0s 3ms/step\n"
          ]
        },
        {
          "metadata": {
            "tags": null
          },
          "name": "stderr",
          "output_type": "stream",
          "text": [
            "<ipython-input-30-84f19216e9c9>:14: FutureWarning: The frame.append method is deprecated and will be removed from pandas in a future version. Use pandas.concat instead.\n",
            "  ResultsCollection=ResultsCollection.append(IterResults, ignore_index=True)\n",
            "\r 56%|█████▌    | 564/1012 [1:30:29<1:35:59, 12.86s/it]"
          ]
        },
        {
          "metadata": {
            "tags": null
          },
          "name": "stdout",
          "output_type": "stream",
          "text": [
            "14/14 [==============================] - 0s 3ms/step\n"
          ]
        },
        {
          "metadata": {
            "tags": null
          },
          "name": "stderr",
          "output_type": "stream",
          "text": [
            "<ipython-input-30-84f19216e9c9>:14: FutureWarning: The frame.append method is deprecated and will be removed from pandas in a future version. Use pandas.concat instead.\n",
            "  ResultsCollection=ResultsCollection.append(IterResults, ignore_index=True)\n",
            "\r 56%|█████▌    | 565/1012 [1:30:42<1:35:50, 12.86s/it]"
          ]
        },
        {
          "metadata": {
            "tags": null
          },
          "name": "stdout",
          "output_type": "stream",
          "text": [
            "14/14 [==============================] - 0s 3ms/step\n"
          ]
        },
        {
          "metadata": {
            "tags": null
          },
          "name": "stderr",
          "output_type": "stream",
          "text": [
            "<ipython-input-30-84f19216e9c9>:14: FutureWarning: The frame.append method is deprecated and will be removed from pandas in a future version. Use pandas.concat instead.\n",
            "  ResultsCollection=ResultsCollection.append(IterResults, ignore_index=True)\n",
            "\r 56%|█████▌    | 566/1012 [1:30:55<1:35:35, 12.86s/it]"
          ]
        },
        {
          "metadata": {
            "tags": null
          },
          "name": "stdout",
          "output_type": "stream",
          "text": [
            "14/14 [==============================] - 0s 3ms/step\n"
          ]
        },
        {
          "metadata": {
            "tags": null
          },
          "name": "stderr",
          "output_type": "stream",
          "text": [
            "<ipython-input-30-84f19216e9c9>:14: FutureWarning: The frame.append method is deprecated and will be removed from pandas in a future version. Use pandas.concat instead.\n",
            "  ResultsCollection=ResultsCollection.append(IterResults, ignore_index=True)\n",
            "\r 56%|█████▌    | 567/1012 [1:31:08<1:35:42, 12.90s/it]"
          ]
        },
        {
          "metadata": {
            "tags": null
          },
          "name": "stdout",
          "output_type": "stream",
          "text": [
            "14/14 [==============================] - 0s 3ms/step\n"
          ]
        },
        {
          "metadata": {
            "tags": null
          },
          "name": "stderr",
          "output_type": "stream",
          "text": [
            "<ipython-input-30-84f19216e9c9>:14: FutureWarning: The frame.append method is deprecated and will be removed from pandas in a future version. Use pandas.concat instead.\n",
            "  ResultsCollection=ResultsCollection.append(IterResults, ignore_index=True)\n",
            "\r 56%|█████▌    | 568/1012 [1:31:21<1:35:38, 12.92s/it]"
          ]
        },
        {
          "metadata": {
            "tags": null
          },
          "name": "stdout",
          "output_type": "stream",
          "text": [
            "14/14 [==============================] - 0s 3ms/step\n"
          ]
        },
        {
          "metadata": {
            "tags": null
          },
          "name": "stderr",
          "output_type": "stream",
          "text": [
            "<ipython-input-30-84f19216e9c9>:14: FutureWarning: The frame.append method is deprecated and will be removed from pandas in a future version. Use pandas.concat instead.\n",
            "  ResultsCollection=ResultsCollection.append(IterResults, ignore_index=True)\n",
            "\r 56%|█████▌    | 569/1012 [1:31:34<1:35:49, 12.98s/it]"
          ]
        },
        {
          "metadata": {
            "tags": null
          },
          "name": "stdout",
          "output_type": "stream",
          "text": [
            "14/14 [==============================] - 0s 3ms/step\n"
          ]
        },
        {
          "metadata": {
            "tags": null
          },
          "name": "stderr",
          "output_type": "stream",
          "text": [
            "<ipython-input-30-84f19216e9c9>:14: FutureWarning: The frame.append method is deprecated and will be removed from pandas in a future version. Use pandas.concat instead.\n",
            "  ResultsCollection=ResultsCollection.append(IterResults, ignore_index=True)\n",
            "\r 56%|█████▋    | 570/1012 [1:31:47<1:35:27, 12.96s/it]"
          ]
        },
        {
          "metadata": {
            "tags": null
          },
          "name": "stdout",
          "output_type": "stream",
          "text": [
            "14/14 [==============================] - 0s 3ms/step\n"
          ]
        },
        {
          "metadata": {
            "tags": null
          },
          "name": "stderr",
          "output_type": "stream",
          "text": [
            "<ipython-input-30-84f19216e9c9>:14: FutureWarning: The frame.append method is deprecated and will be removed from pandas in a future version. Use pandas.concat instead.\n",
            "  ResultsCollection=ResultsCollection.append(IterResults, ignore_index=True)\n",
            "\r 56%|█████▋    | 571/1012 [1:32:00<1:35:02, 12.93s/it]"
          ]
        },
        {
          "metadata": {
            "tags": null
          },
          "name": "stdout",
          "output_type": "stream",
          "text": [
            "14/14 [==============================] - 0s 3ms/step\n"
          ]
        },
        {
          "metadata": {
            "tags": null
          },
          "name": "stderr",
          "output_type": "stream",
          "text": [
            "<ipython-input-30-84f19216e9c9>:14: FutureWarning: The frame.append method is deprecated and will be removed from pandas in a future version. Use pandas.concat instead.\n",
            "  ResultsCollection=ResultsCollection.append(IterResults, ignore_index=True)\n",
            "\r 57%|█████▋    | 572/1012 [1:32:13<1:34:46, 12.92s/it]"
          ]
        },
        {
          "metadata": {
            "tags": null
          },
          "name": "stdout",
          "output_type": "stream",
          "text": [
            "14/14 [==============================] - 0s 3ms/step\n"
          ]
        },
        {
          "metadata": {
            "tags": null
          },
          "name": "stderr",
          "output_type": "stream",
          "text": [
            "<ipython-input-30-84f19216e9c9>:14: FutureWarning: The frame.append method is deprecated and will be removed from pandas in a future version. Use pandas.concat instead.\n",
            "  ResultsCollection=ResultsCollection.append(IterResults, ignore_index=True)\n",
            "\r 57%|█████▋    | 573/1012 [1:32:26<1:34:48, 12.96s/it]"
          ]
        },
        {
          "metadata": {
            "tags": null
          },
          "name": "stdout",
          "output_type": "stream",
          "text": [
            "14/14 [==============================] - 0s 3ms/step\n"
          ]
        },
        {
          "metadata": {
            "tags": null
          },
          "name": "stderr",
          "output_type": "stream",
          "text": [
            "<ipython-input-30-84f19216e9c9>:14: FutureWarning: The frame.append method is deprecated and will be removed from pandas in a future version. Use pandas.concat instead.\n",
            "  ResultsCollection=ResultsCollection.append(IterResults, ignore_index=True)\n",
            "\r 57%|█████▋    | 574/1012 [1:32:39<1:34:45, 12.98s/it]"
          ]
        },
        {
          "metadata": {
            "tags": null
          },
          "name": "stdout",
          "output_type": "stream",
          "text": [
            "14/14 [==============================] - 0s 3ms/step\n"
          ]
        },
        {
          "metadata": {
            "tags": null
          },
          "name": "stderr",
          "output_type": "stream",
          "text": [
            "<ipython-input-30-84f19216e9c9>:14: FutureWarning: The frame.append method is deprecated and will be removed from pandas in a future version. Use pandas.concat instead.\n",
            "  ResultsCollection=ResultsCollection.append(IterResults, ignore_index=True)\n",
            "\r 57%|█████▋    | 575/1012 [1:32:52<1:34:40, 13.00s/it]"
          ]
        },
        {
          "metadata": {
            "tags": null
          },
          "name": "stdout",
          "output_type": "stream",
          "text": [
            "14/14 [==============================] - 0s 3ms/step\n"
          ]
        },
        {
          "metadata": {
            "tags": null
          },
          "name": "stderr",
          "output_type": "stream",
          "text": [
            "<ipython-input-30-84f19216e9c9>:14: FutureWarning: The frame.append method is deprecated and will be removed from pandas in a future version. Use pandas.concat instead.\n",
            "  ResultsCollection=ResultsCollection.append(IterResults, ignore_index=True)\n",
            "\r 57%|█████▋    | 576/1012 [1:33:05<1:34:52, 13.06s/it]"
          ]
        },
        {
          "metadata": {
            "tags": null
          },
          "name": "stdout",
          "output_type": "stream",
          "text": [
            "14/14 [==============================] - 0s 3ms/step\n"
          ]
        },
        {
          "metadata": {
            "tags": null
          },
          "name": "stderr",
          "output_type": "stream",
          "text": [
            "<ipython-input-30-84f19216e9c9>:14: FutureWarning: The frame.append method is deprecated and will be removed from pandas in a future version. Use pandas.concat instead.\n",
            "  ResultsCollection=ResultsCollection.append(IterResults, ignore_index=True)\n",
            "\r 57%|█████▋    | 577/1012 [1:33:18<1:34:25, 13.02s/it]"
          ]
        },
        {
          "metadata": {
            "tags": null
          },
          "name": "stdout",
          "output_type": "stream",
          "text": [
            "14/14 [==============================] - 0s 3ms/step\n"
          ]
        },
        {
          "metadata": {
            "tags": null
          },
          "name": "stderr",
          "output_type": "stream",
          "text": [
            "<ipython-input-30-84f19216e9c9>:14: FutureWarning: The frame.append method is deprecated and will be removed from pandas in a future version. Use pandas.concat instead.\n",
            "  ResultsCollection=ResultsCollection.append(IterResults, ignore_index=True)\n",
            "\r 57%|█████▋    | 578/1012 [1:33:31<1:34:19, 13.04s/it]"
          ]
        },
        {
          "metadata": {
            "tags": null
          },
          "name": "stdout",
          "output_type": "stream",
          "text": [
            "14/14 [==============================] - 0s 3ms/step\n"
          ]
        },
        {
          "metadata": {
            "tags": null
          },
          "name": "stderr",
          "output_type": "stream",
          "text": [
            "<ipython-input-30-84f19216e9c9>:14: FutureWarning: The frame.append method is deprecated and will be removed from pandas in a future version. Use pandas.concat instead.\n",
            "  ResultsCollection=ResultsCollection.append(IterResults, ignore_index=True)\n",
            "\r 57%|█████▋    | 579/1012 [1:33:44<1:34:40, 13.12s/it]"
          ]
        },
        {
          "metadata": {
            "tags": null
          },
          "name": "stdout",
          "output_type": "stream",
          "text": [
            "14/14 [==============================] - 0s 3ms/step\n"
          ]
        },
        {
          "metadata": {
            "tags": null
          },
          "name": "stderr",
          "output_type": "stream",
          "text": [
            "<ipython-input-30-84f19216e9c9>:14: FutureWarning: The frame.append method is deprecated and will be removed from pandas in a future version. Use pandas.concat instead.\n",
            "  ResultsCollection=ResultsCollection.append(IterResults, ignore_index=True)\n",
            "\r 57%|█████▋    | 580/1012 [1:33:58<1:34:52, 13.18s/it]"
          ]
        },
        {
          "metadata": {
            "tags": null
          },
          "name": "stdout",
          "output_type": "stream",
          "text": [
            "14/14 [==============================] - 0s 3ms/step\n"
          ]
        },
        {
          "metadata": {
            "tags": null
          },
          "name": "stderr",
          "output_type": "stream",
          "text": [
            "<ipython-input-30-84f19216e9c9>:14: FutureWarning: The frame.append method is deprecated and will be removed from pandas in a future version. Use pandas.concat instead.\n",
            "  ResultsCollection=ResultsCollection.append(IterResults, ignore_index=True)\n",
            "\r 57%|█████▋    | 581/1012 [1:34:11<1:34:14, 13.12s/it]"
          ]
        },
        {
          "metadata": {
            "tags": null
          },
          "name": "stdout",
          "output_type": "stream",
          "text": [
            "14/14 [==============================] - 1s 3ms/step\n"
          ]
        },
        {
          "metadata": {
            "tags": null
          },
          "name": "stderr",
          "output_type": "stream",
          "text": [
            "<ipython-input-30-84f19216e9c9>:14: FutureWarning: The frame.append method is deprecated and will be removed from pandas in a future version. Use pandas.concat instead.\n",
            "  ResultsCollection=ResultsCollection.append(IterResults, ignore_index=True)\n",
            "\r 58%|█████▊    | 582/1012 [1:34:24<1:33:58, 13.11s/it]"
          ]
        },
        {
          "metadata": {
            "tags": null
          },
          "name": "stdout",
          "output_type": "stream",
          "text": [
            "14/14 [==============================] - 0s 3ms/step\n"
          ]
        },
        {
          "metadata": {
            "tags": null
          },
          "name": "stderr",
          "output_type": "stream",
          "text": [
            "<ipython-input-30-84f19216e9c9>:14: FutureWarning: The frame.append method is deprecated and will be removed from pandas in a future version. Use pandas.concat instead.\n",
            "  ResultsCollection=ResultsCollection.append(IterResults, ignore_index=True)\n",
            "\r 58%|█████▊    | 583/1012 [1:34:37<1:34:00, 13.15s/it]"
          ]
        },
        {
          "metadata": {
            "tags": null
          },
          "name": "stdout",
          "output_type": "stream",
          "text": [
            "14/14 [==============================] - 0s 3ms/step\n"
          ]
        },
        {
          "metadata": {
            "tags": null
          },
          "name": "stderr",
          "output_type": "stream",
          "text": [
            "<ipython-input-30-84f19216e9c9>:14: FutureWarning: The frame.append method is deprecated and will be removed from pandas in a future version. Use pandas.concat instead.\n",
            "  ResultsCollection=ResultsCollection.append(IterResults, ignore_index=True)\n",
            "\r 58%|█████▊    | 584/1012 [1:34:50<1:34:15, 13.21s/it]"
          ]
        },
        {
          "metadata": {
            "tags": null
          },
          "name": "stdout",
          "output_type": "stream",
          "text": [
            "14/14 [==============================] - 0s 3ms/step\n"
          ]
        },
        {
          "metadata": {
            "tags": null
          },
          "name": "stderr",
          "output_type": "stream",
          "text": [
            "<ipython-input-30-84f19216e9c9>:14: FutureWarning: The frame.append method is deprecated and will be removed from pandas in a future version. Use pandas.concat instead.\n",
            "  ResultsCollection=ResultsCollection.append(IterResults, ignore_index=True)\n",
            "\r 58%|█████▊    | 585/1012 [1:35:04<1:34:06, 13.22s/it]"
          ]
        },
        {
          "metadata": {
            "tags": null
          },
          "name": "stdout",
          "output_type": "stream",
          "text": [
            "14/14 [==============================] - 0s 3ms/step\n"
          ]
        },
        {
          "metadata": {
            "tags": null
          },
          "name": "stderr",
          "output_type": "stream",
          "text": [
            "<ipython-input-30-84f19216e9c9>:14: FutureWarning: The frame.append method is deprecated and will be removed from pandas in a future version. Use pandas.concat instead.\n",
            "  ResultsCollection=ResultsCollection.append(IterResults, ignore_index=True)\n",
            "\r 58%|█████▊    | 586/1012 [1:35:17<1:33:47, 13.21s/it]"
          ]
        },
        {
          "metadata": {
            "tags": null
          },
          "name": "stdout",
          "output_type": "stream",
          "text": [
            "14/14 [==============================] - 0s 3ms/step\n"
          ]
        },
        {
          "metadata": {
            "tags": null
          },
          "name": "stderr",
          "output_type": "stream",
          "text": [
            "<ipython-input-30-84f19216e9c9>:14: FutureWarning: The frame.append method is deprecated and will be removed from pandas in a future version. Use pandas.concat instead.\n",
            "  ResultsCollection=ResultsCollection.append(IterResults, ignore_index=True)\n",
            "\r 58%|█████▊    | 587/1012 [1:35:30<1:33:22, 13.18s/it]"
          ]
        },
        {
          "metadata": {
            "tags": null
          },
          "name": "stdout",
          "output_type": "stream",
          "text": [
            "14/14 [==============================] - 0s 3ms/step\n"
          ]
        },
        {
          "metadata": {
            "tags": null
          },
          "name": "stderr",
          "output_type": "stream",
          "text": [
            "<ipython-input-30-84f19216e9c9>:14: FutureWarning: The frame.append method is deprecated and will be removed from pandas in a future version. Use pandas.concat instead.\n",
            "  ResultsCollection=ResultsCollection.append(IterResults, ignore_index=True)\n",
            "\r 58%|█████▊    | 588/1012 [1:35:43<1:33:11, 13.19s/it]"
          ]
        },
        {
          "metadata": {
            "tags": null
          },
          "name": "stdout",
          "output_type": "stream",
          "text": [
            "14/14 [==============================] - 1s 3ms/step\n"
          ]
        },
        {
          "metadata": {
            "tags": null
          },
          "name": "stderr",
          "output_type": "stream",
          "text": [
            "<ipython-input-30-84f19216e9c9>:14: FutureWarning: The frame.append method is deprecated and will be removed from pandas in a future version. Use pandas.concat instead.\n",
            "  ResultsCollection=ResultsCollection.append(IterResults, ignore_index=True)\n",
            "\r 58%|█████▊    | 589/1012 [1:35:56<1:33:30, 13.26s/it]"
          ]
        },
        {
          "metadata": {
            "tags": null
          },
          "name": "stdout",
          "output_type": "stream",
          "text": [
            "14/14 [==============================] - 0s 3ms/step\n"
          ]
        },
        {
          "metadata": {
            "tags": null
          },
          "name": "stderr",
          "output_type": "stream",
          "text": [
            "<ipython-input-30-84f19216e9c9>:14: FutureWarning: The frame.append method is deprecated and will be removed from pandas in a future version. Use pandas.concat instead.\n",
            "  ResultsCollection=ResultsCollection.append(IterResults, ignore_index=True)\n",
            "\r 58%|█████▊    | 590/1012 [1:36:10<1:33:28, 13.29s/it]"
          ]
        },
        {
          "metadata": {
            "tags": null
          },
          "name": "stdout",
          "output_type": "stream",
          "text": [
            "14/14 [==============================] - 0s 3ms/step\n"
          ]
        },
        {
          "metadata": {
            "tags": null
          },
          "name": "stderr",
          "output_type": "stream",
          "text": [
            "<ipython-input-30-84f19216e9c9>:14: FutureWarning: The frame.append method is deprecated and will be removed from pandas in a future version. Use pandas.concat instead.\n",
            "  ResultsCollection=ResultsCollection.append(IterResults, ignore_index=True)\n",
            "\r 58%|█████▊    | 591/1012 [1:36:23<1:33:13, 13.29s/it]"
          ]
        },
        {
          "metadata": {
            "tags": null
          },
          "name": "stdout",
          "output_type": "stream",
          "text": [
            "14/14 [==============================] - 0s 3ms/step\n"
          ]
        },
        {
          "metadata": {
            "tags": null
          },
          "name": "stderr",
          "output_type": "stream",
          "text": [
            "<ipython-input-30-84f19216e9c9>:14: FutureWarning: The frame.append method is deprecated and will be removed from pandas in a future version. Use pandas.concat instead.\n",
            "  ResultsCollection=ResultsCollection.append(IterResults, ignore_index=True)\n",
            "\r 58%|█████▊    | 592/1012 [1:36:36<1:33:05, 13.30s/it]"
          ]
        },
        {
          "metadata": {
            "tags": null
          },
          "name": "stdout",
          "output_type": "stream",
          "text": [
            "14/14 [==============================] - 0s 3ms/step\n"
          ]
        },
        {
          "metadata": {
            "tags": null
          },
          "name": "stderr",
          "output_type": "stream",
          "text": [
            "<ipython-input-30-84f19216e9c9>:14: FutureWarning: The frame.append method is deprecated and will be removed from pandas in a future version. Use pandas.concat instead.\n",
            "  ResultsCollection=ResultsCollection.append(IterResults, ignore_index=True)\n",
            "\r 59%|█████▊    | 593/1012 [1:36:50<1:33:04, 13.33s/it]"
          ]
        },
        {
          "metadata": {
            "tags": null
          },
          "name": "stdout",
          "output_type": "stream",
          "text": [
            "14/14 [==============================] - 0s 3ms/step\n"
          ]
        },
        {
          "metadata": {
            "tags": null
          },
          "name": "stderr",
          "output_type": "stream",
          "text": [
            "<ipython-input-30-84f19216e9c9>:14: FutureWarning: The frame.append method is deprecated and will be removed from pandas in a future version. Use pandas.concat instead.\n",
            "  ResultsCollection=ResultsCollection.append(IterResults, ignore_index=True)\n",
            "\r 59%|█████▊    | 594/1012 [1:37:03<1:32:25, 13.27s/it]"
          ]
        },
        {
          "metadata": {
            "tags": null
          },
          "name": "stdout",
          "output_type": "stream",
          "text": [
            "14/14 [==============================] - 0s 3ms/step\n"
          ]
        },
        {
          "metadata": {
            "tags": null
          },
          "name": "stderr",
          "output_type": "stream",
          "text": [
            "<ipython-input-30-84f19216e9c9>:14: FutureWarning: The frame.append method is deprecated and will be removed from pandas in a future version. Use pandas.concat instead.\n",
            "  ResultsCollection=ResultsCollection.append(IterResults, ignore_index=True)\n",
            "\r 59%|█████▉    | 595/1012 [1:37:16<1:32:42, 13.34s/it]"
          ]
        },
        {
          "metadata": {
            "tags": null
          },
          "name": "stdout",
          "output_type": "stream",
          "text": [
            "14/14 [==============================] - 0s 3ms/step\n"
          ]
        },
        {
          "metadata": {
            "tags": null
          },
          "name": "stderr",
          "output_type": "stream",
          "text": [
            "<ipython-input-30-84f19216e9c9>:14: FutureWarning: The frame.append method is deprecated and will be removed from pandas in a future version. Use pandas.concat instead.\n",
            "  ResultsCollection=ResultsCollection.append(IterResults, ignore_index=True)\n",
            "\r 59%|█████▉    | 596/1012 [1:37:30<1:32:22, 13.32s/it]"
          ]
        },
        {
          "metadata": {
            "tags": null
          },
          "name": "stdout",
          "output_type": "stream",
          "text": [
            "14/14 [==============================] - 0s 3ms/step\n"
          ]
        },
        {
          "metadata": {
            "tags": null
          },
          "name": "stderr",
          "output_type": "stream",
          "text": [
            "<ipython-input-30-84f19216e9c9>:14: FutureWarning: The frame.append method is deprecated and will be removed from pandas in a future version. Use pandas.concat instead.\n",
            "  ResultsCollection=ResultsCollection.append(IterResults, ignore_index=True)\n",
            "\r 59%|█████▉    | 597/1012 [1:37:43<1:32:11, 13.33s/it]"
          ]
        },
        {
          "metadata": {
            "tags": null
          },
          "name": "stdout",
          "output_type": "stream",
          "text": [
            "14/14 [==============================] - 0s 3ms/step\n"
          ]
        },
        {
          "metadata": {
            "tags": null
          },
          "name": "stderr",
          "output_type": "stream",
          "text": [
            "<ipython-input-30-84f19216e9c9>:14: FutureWarning: The frame.append method is deprecated and will be removed from pandas in a future version. Use pandas.concat instead.\n",
            "  ResultsCollection=ResultsCollection.append(IterResults, ignore_index=True)\n",
            "\r 59%|█████▉    | 598/1012 [1:37:57<1:32:21, 13.38s/it]"
          ]
        },
        {
          "metadata": {
            "tags": null
          },
          "name": "stdout",
          "output_type": "stream",
          "text": [
            "14/14 [==============================] - 0s 3ms/step\n"
          ]
        },
        {
          "metadata": {
            "tags": null
          },
          "name": "stderr",
          "output_type": "stream",
          "text": [
            "<ipython-input-30-84f19216e9c9>:14: FutureWarning: The frame.append method is deprecated and will be removed from pandas in a future version. Use pandas.concat instead.\n",
            "  ResultsCollection=ResultsCollection.append(IterResults, ignore_index=True)\n",
            "\r 59%|█████▉    | 599/1012 [1:38:10<1:32:21, 13.42s/it]"
          ]
        },
        {
          "metadata": {
            "tags": null
          },
          "name": "stdout",
          "output_type": "stream",
          "text": [
            "14/14 [==============================] - 0s 3ms/step\n"
          ]
        },
        {
          "metadata": {
            "tags": null
          },
          "name": "stderr",
          "output_type": "stream",
          "text": [
            "<ipython-input-30-84f19216e9c9>:14: FutureWarning: The frame.append method is deprecated and will be removed from pandas in a future version. Use pandas.concat instead.\n",
            "  ResultsCollection=ResultsCollection.append(IterResults, ignore_index=True)\n",
            "\r 59%|█████▉    | 600/1012 [1:38:23<1:31:46, 13.37s/it]"
          ]
        },
        {
          "metadata": {
            "tags": null
          },
          "name": "stdout",
          "output_type": "stream",
          "text": [
            "14/14 [==============================] - 1s 3ms/step\n"
          ]
        },
        {
          "metadata": {
            "tags": null
          },
          "name": "stderr",
          "output_type": "stream",
          "text": [
            "<ipython-input-30-84f19216e9c9>:14: FutureWarning: The frame.append method is deprecated and will be removed from pandas in a future version. Use pandas.concat instead.\n",
            "  ResultsCollection=ResultsCollection.append(IterResults, ignore_index=True)\n",
            "\r 59%|█████▉    | 601/1012 [1:38:37<1:31:29, 13.36s/it]"
          ]
        },
        {
          "metadata": {
            "tags": null
          },
          "name": "stdout",
          "output_type": "stream",
          "text": [
            "14/14 [==============================] - 0s 3ms/step\n"
          ]
        },
        {
          "metadata": {
            "tags": null
          },
          "name": "stderr",
          "output_type": "stream",
          "text": [
            "<ipython-input-30-84f19216e9c9>:14: FutureWarning: The frame.append method is deprecated and will be removed from pandas in a future version. Use pandas.concat instead.\n",
            "  ResultsCollection=ResultsCollection.append(IterResults, ignore_index=True)\n",
            "\r 59%|█████▉    | 602/1012 [1:38:50<1:31:24, 13.38s/it]"
          ]
        },
        {
          "metadata": {
            "tags": null
          },
          "name": "stdout",
          "output_type": "stream",
          "text": [
            "14/14 [==============================] - 0s 3ms/step\n"
          ]
        },
        {
          "metadata": {
            "tags": null
          },
          "name": "stderr",
          "output_type": "stream",
          "text": [
            "<ipython-input-30-84f19216e9c9>:14: FutureWarning: The frame.append method is deprecated and will be removed from pandas in a future version. Use pandas.concat instead.\n",
            "  ResultsCollection=ResultsCollection.append(IterResults, ignore_index=True)\n",
            "\r 60%|█████▉    | 603/1012 [1:39:03<1:31:12, 13.38s/it]"
          ]
        },
        {
          "metadata": {
            "tags": null
          },
          "name": "stdout",
          "output_type": "stream",
          "text": [
            "14/14 [==============================] - 0s 3ms/step\n"
          ]
        },
        {
          "metadata": {
            "tags": null
          },
          "name": "stderr",
          "output_type": "stream",
          "text": [
            "<ipython-input-30-84f19216e9c9>:14: FutureWarning: The frame.append method is deprecated and will be removed from pandas in a future version. Use pandas.concat instead.\n",
            "  ResultsCollection=ResultsCollection.append(IterResults, ignore_index=True)\n",
            "\r 60%|█████▉    | 604/1012 [1:39:17<1:31:02, 13.39s/it]"
          ]
        },
        {
          "metadata": {
            "tags": null
          },
          "name": "stdout",
          "output_type": "stream",
          "text": [
            "14/14 [==============================] - 0s 3ms/step\n"
          ]
        },
        {
          "metadata": {
            "tags": null
          },
          "name": "stderr",
          "output_type": "stream",
          "text": [
            "<ipython-input-30-84f19216e9c9>:14: FutureWarning: The frame.append method is deprecated and will be removed from pandas in a future version. Use pandas.concat instead.\n",
            "  ResultsCollection=ResultsCollection.append(IterResults, ignore_index=True)\n",
            "\r 60%|█████▉    | 605/1012 [1:39:30<1:30:40, 13.37s/it]"
          ]
        },
        {
          "metadata": {
            "tags": null
          },
          "name": "stdout",
          "output_type": "stream",
          "text": [
            "14/14 [==============================] - 0s 3ms/step\n"
          ]
        },
        {
          "metadata": {
            "tags": null
          },
          "name": "stderr",
          "output_type": "stream",
          "text": [
            "<ipython-input-30-84f19216e9c9>:14: FutureWarning: The frame.append method is deprecated and will be removed from pandas in a future version. Use pandas.concat instead.\n",
            "  ResultsCollection=ResultsCollection.append(IterResults, ignore_index=True)\n",
            "\r 60%|█████▉    | 606/1012 [1:39:44<1:30:30, 13.38s/it]"
          ]
        },
        {
          "metadata": {
            "tags": null
          },
          "name": "stdout",
          "output_type": "stream",
          "text": [
            "14/14 [==============================] - 0s 3ms/step\n"
          ]
        },
        {
          "metadata": {
            "tags": null
          },
          "name": "stderr",
          "output_type": "stream",
          "text": [
            "<ipython-input-30-84f19216e9c9>:14: FutureWarning: The frame.append method is deprecated and will be removed from pandas in a future version. Use pandas.concat instead.\n",
            "  ResultsCollection=ResultsCollection.append(IterResults, ignore_index=True)\n",
            "\r 60%|█████▉    | 607/1012 [1:39:57<1:30:19, 13.38s/it]"
          ]
        },
        {
          "metadata": {
            "tags": null
          },
          "name": "stdout",
          "output_type": "stream",
          "text": [
            "14/14 [==============================] - 0s 3ms/step\n"
          ]
        },
        {
          "metadata": {
            "tags": null
          },
          "name": "stderr",
          "output_type": "stream",
          "text": [
            "<ipython-input-30-84f19216e9c9>:14: FutureWarning: The frame.append method is deprecated and will be removed from pandas in a future version. Use pandas.concat instead.\n",
            "  ResultsCollection=ResultsCollection.append(IterResults, ignore_index=True)\n",
            "\r 60%|██████    | 608/1012 [1:40:11<1:30:40, 13.47s/it]"
          ]
        },
        {
          "metadata": {
            "tags": null
          },
          "name": "stdout",
          "output_type": "stream",
          "text": [
            "14/14 [==============================] - 0s 3ms/step\n"
          ]
        },
        {
          "metadata": {
            "tags": null
          },
          "name": "stderr",
          "output_type": "stream",
          "text": [
            "<ipython-input-30-84f19216e9c9>:14: FutureWarning: The frame.append method is deprecated and will be removed from pandas in a future version. Use pandas.concat instead.\n",
            "  ResultsCollection=ResultsCollection.append(IterResults, ignore_index=True)\n",
            "\r 60%|██████    | 609/1012 [1:40:24<1:31:08, 13.57s/it]"
          ]
        },
        {
          "metadata": {
            "tags": null
          },
          "name": "stdout",
          "output_type": "stream",
          "text": [
            "14/14 [==============================] - 0s 3ms/step\n"
          ]
        },
        {
          "metadata": {
            "tags": null
          },
          "name": "stderr",
          "output_type": "stream",
          "text": [
            "<ipython-input-30-84f19216e9c9>:14: FutureWarning: The frame.append method is deprecated and will be removed from pandas in a future version. Use pandas.concat instead.\n",
            "  ResultsCollection=ResultsCollection.append(IterResults, ignore_index=True)\n",
            "\r 60%|██████    | 610/1012 [1:40:38<1:31:02, 13.59s/it]"
          ]
        },
        {
          "metadata": {
            "tags": null
          },
          "name": "stdout",
          "output_type": "stream",
          "text": [
            "14/14 [==============================] - 0s 3ms/step\n"
          ]
        },
        {
          "metadata": {
            "tags": null
          },
          "name": "stderr",
          "output_type": "stream",
          "text": [
            "<ipython-input-30-84f19216e9c9>:14: FutureWarning: The frame.append method is deprecated and will be removed from pandas in a future version. Use pandas.concat instead.\n",
            "  ResultsCollection=ResultsCollection.append(IterResults, ignore_index=True)\n",
            "\r 60%|██████    | 611/1012 [1:40:51<1:30:26, 13.53s/it]"
          ]
        },
        {
          "metadata": {
            "tags": null
          },
          "name": "stdout",
          "output_type": "stream",
          "text": [
            "14/14 [==============================] - 0s 3ms/step\n"
          ]
        },
        {
          "metadata": {
            "tags": null
          },
          "name": "stderr",
          "output_type": "stream",
          "text": [
            "<ipython-input-30-84f19216e9c9>:14: FutureWarning: The frame.append method is deprecated and will be removed from pandas in a future version. Use pandas.concat instead.\n",
            "  ResultsCollection=ResultsCollection.append(IterResults, ignore_index=True)\n",
            "\r 60%|██████    | 612/1012 [1:41:05<1:30:08, 13.52s/it]"
          ]
        },
        {
          "metadata": {
            "tags": null
          },
          "name": "stdout",
          "output_type": "stream",
          "text": [
            "14/14 [==============================] - 0s 3ms/step\n"
          ]
        },
        {
          "metadata": {
            "tags": null
          },
          "name": "stderr",
          "output_type": "stream",
          "text": [
            "<ipython-input-30-84f19216e9c9>:14: FutureWarning: The frame.append method is deprecated and will be removed from pandas in a future version. Use pandas.concat instead.\n",
            "  ResultsCollection=ResultsCollection.append(IterResults, ignore_index=True)\n",
            "\r 61%|██████    | 613/1012 [1:41:19<1:30:10, 13.56s/it]"
          ]
        },
        {
          "metadata": {
            "tags": null
          },
          "name": "stdout",
          "output_type": "stream",
          "text": [
            "14/14 [==============================] - 0s 3ms/step\n"
          ]
        },
        {
          "metadata": {
            "tags": null
          },
          "name": "stderr",
          "output_type": "stream",
          "text": [
            "<ipython-input-30-84f19216e9c9>:14: FutureWarning: The frame.append method is deprecated and will be removed from pandas in a future version. Use pandas.concat instead.\n",
            "  ResultsCollection=ResultsCollection.append(IterResults, ignore_index=True)\n",
            "\r 61%|██████    | 614/1012 [1:41:32<1:30:00, 13.57s/it]"
          ]
        },
        {
          "metadata": {
            "tags": null
          },
          "name": "stdout",
          "output_type": "stream",
          "text": [
            "14/14 [==============================] - 0s 3ms/step\n"
          ]
        },
        {
          "metadata": {
            "tags": null
          },
          "name": "stderr",
          "output_type": "stream",
          "text": [
            "<ipython-input-30-84f19216e9c9>:14: FutureWarning: The frame.append method is deprecated and will be removed from pandas in a future version. Use pandas.concat instead.\n",
            "  ResultsCollection=ResultsCollection.append(IterResults, ignore_index=True)\n",
            "\r 61%|██████    | 615/1012 [1:41:46<1:29:53, 13.58s/it]"
          ]
        },
        {
          "metadata": {
            "tags": null
          },
          "name": "stdout",
          "output_type": "stream",
          "text": [
            "14/14 [==============================] - 0s 3ms/step\n"
          ]
        },
        {
          "metadata": {
            "tags": null
          },
          "name": "stderr",
          "output_type": "stream",
          "text": [
            "<ipython-input-30-84f19216e9c9>:14: FutureWarning: The frame.append method is deprecated and will be removed from pandas in a future version. Use pandas.concat instead.\n",
            "  ResultsCollection=ResultsCollection.append(IterResults, ignore_index=True)\n",
            "\r 61%|██████    | 616/1012 [1:42:00<1:29:53, 13.62s/it]"
          ]
        },
        {
          "metadata": {
            "tags": null
          },
          "name": "stdout",
          "output_type": "stream",
          "text": [
            "14/14 [==============================] - 0s 3ms/step\n"
          ]
        },
        {
          "metadata": {
            "tags": null
          },
          "name": "stderr",
          "output_type": "stream",
          "text": [
            "<ipython-input-30-84f19216e9c9>:14: FutureWarning: The frame.append method is deprecated and will be removed from pandas in a future version. Use pandas.concat instead.\n",
            "  ResultsCollection=ResultsCollection.append(IterResults, ignore_index=True)\n",
            "\r 61%|██████    | 617/1012 [1:42:13<1:29:39, 13.62s/it]"
          ]
        },
        {
          "metadata": {
            "tags": null
          },
          "name": "stdout",
          "output_type": "stream",
          "text": [
            "14/14 [==============================] - 1s 3ms/step\n"
          ]
        },
        {
          "metadata": {
            "tags": null
          },
          "name": "stderr",
          "output_type": "stream",
          "text": [
            "<ipython-input-30-84f19216e9c9>:14: FutureWarning: The frame.append method is deprecated and will be removed from pandas in a future version. Use pandas.concat instead.\n",
            "  ResultsCollection=ResultsCollection.append(IterResults, ignore_index=True)\n",
            "\r 61%|██████    | 618/1012 [1:42:27<1:30:02, 13.71s/it]"
          ]
        },
        {
          "metadata": {
            "tags": null
          },
          "name": "stdout",
          "output_type": "stream",
          "text": [
            "14/14 [==============================] - 0s 3ms/step\n"
          ]
        },
        {
          "metadata": {
            "tags": null
          },
          "name": "stderr",
          "output_type": "stream",
          "text": [
            "<ipython-input-30-84f19216e9c9>:14: FutureWarning: The frame.append method is deprecated and will be removed from pandas in a future version. Use pandas.concat instead.\n",
            "  ResultsCollection=ResultsCollection.append(IterResults, ignore_index=True)\n",
            "\r 61%|██████    | 619/1012 [1:42:44<1:35:17, 14.55s/it]"
          ]
        },
        {
          "metadata": {
            "tags": null
          },
          "name": "stdout",
          "output_type": "stream",
          "text": [
            "14/14 [==============================] - 0s 3ms/step\n"
          ]
        },
        {
          "metadata": {
            "tags": null
          },
          "name": "stderr",
          "output_type": "stream",
          "text": [
            "<ipython-input-30-84f19216e9c9>:14: FutureWarning: The frame.append method is deprecated and will be removed from pandas in a future version. Use pandas.concat instead.\n",
            "  ResultsCollection=ResultsCollection.append(IterResults, ignore_index=True)\n",
            "\r 61%|██████▏   | 620/1012 [1:42:57<1:33:30, 14.31s/it]"
          ]
        },
        {
          "metadata": {
            "tags": null
          },
          "name": "stdout",
          "output_type": "stream",
          "text": [
            "14/14 [==============================] - 1s 3ms/step\n"
          ]
        },
        {
          "metadata": {
            "tags": null
          },
          "name": "stderr",
          "output_type": "stream",
          "text": [
            "<ipython-input-30-84f19216e9c9>:14: FutureWarning: The frame.append method is deprecated and will be removed from pandas in a future version. Use pandas.concat instead.\n",
            "  ResultsCollection=ResultsCollection.append(IterResults, ignore_index=True)\n",
            "\r 61%|██████▏   | 621/1012 [1:43:11<1:32:20, 14.17s/it]"
          ]
        },
        {
          "metadata": {
            "tags": null
          },
          "name": "stdout",
          "output_type": "stream",
          "text": [
            "14/14 [==============================] - 0s 3ms/step\n"
          ]
        },
        {
          "metadata": {
            "tags": null
          },
          "name": "stderr",
          "output_type": "stream",
          "text": [
            "<ipython-input-30-84f19216e9c9>:14: FutureWarning: The frame.append method is deprecated and will be removed from pandas in a future version. Use pandas.concat instead.\n",
            "  ResultsCollection=ResultsCollection.append(IterResults, ignore_index=True)\n",
            "\r 61%|██████▏   | 622/1012 [1:43:25<1:31:14, 14.04s/it]"
          ]
        },
        {
          "metadata": {
            "tags": null
          },
          "name": "stdout",
          "output_type": "stream",
          "text": [
            "14/14 [==============================] - 0s 3ms/step\n"
          ]
        },
        {
          "metadata": {
            "tags": null
          },
          "name": "stderr",
          "output_type": "stream",
          "text": [
            "<ipython-input-30-84f19216e9c9>:14: FutureWarning: The frame.append method is deprecated and will be removed from pandas in a future version. Use pandas.concat instead.\n",
            "  ResultsCollection=ResultsCollection.append(IterResults, ignore_index=True)\n",
            "\r 62%|██████▏   | 623/1012 [1:43:39<1:30:45, 14.00s/it]"
          ]
        },
        {
          "metadata": {
            "tags": null
          },
          "name": "stdout",
          "output_type": "stream",
          "text": [
            "14/14 [==============================] - 0s 3ms/step\n"
          ]
        },
        {
          "metadata": {
            "tags": null
          },
          "name": "stderr",
          "output_type": "stream",
          "text": [
            "<ipython-input-30-84f19216e9c9>:14: FutureWarning: The frame.append method is deprecated and will be removed from pandas in a future version. Use pandas.concat instead.\n",
            "  ResultsCollection=ResultsCollection.append(IterResults, ignore_index=True)\n",
            "\r 62%|██████▏   | 624/1012 [1:43:53<1:30:05, 13.93s/it]"
          ]
        },
        {
          "metadata": {
            "tags": null
          },
          "name": "stdout",
          "output_type": "stream",
          "text": [
            "14/14 [==============================] - 0s 3ms/step\n"
          ]
        },
        {
          "metadata": {
            "tags": null
          },
          "name": "stderr",
          "output_type": "stream",
          "text": [
            "<ipython-input-30-84f19216e9c9>:14: FutureWarning: The frame.append method is deprecated and will be removed from pandas in a future version. Use pandas.concat instead.\n",
            "  ResultsCollection=ResultsCollection.append(IterResults, ignore_index=True)\n",
            "\r 62%|██████▏   | 625/1012 [1:44:06<1:29:41, 13.91s/it]"
          ]
        },
        {
          "metadata": {
            "tags": null
          },
          "name": "stdout",
          "output_type": "stream",
          "text": [
            "14/14 [==============================] - 1s 3ms/step\n"
          ]
        },
        {
          "metadata": {
            "tags": null
          },
          "name": "stderr",
          "output_type": "stream",
          "text": [
            "<ipython-input-30-84f19216e9c9>:14: FutureWarning: The frame.append method is deprecated and will be removed from pandas in a future version. Use pandas.concat instead.\n",
            "  ResultsCollection=ResultsCollection.append(IterResults, ignore_index=True)\n",
            "\r 62%|██████▏   | 626/1012 [1:44:20<1:29:18, 13.88s/it]"
          ]
        },
        {
          "metadata": {
            "tags": null
          },
          "name": "stdout",
          "output_type": "stream",
          "text": [
            "14/14 [==============================] - 1s 3ms/step\n"
          ]
        },
        {
          "metadata": {
            "tags": null
          },
          "name": "stderr",
          "output_type": "stream",
          "text": [
            "<ipython-input-30-84f19216e9c9>:14: FutureWarning: The frame.append method is deprecated and will be removed from pandas in a future version. Use pandas.concat instead.\n",
            "  ResultsCollection=ResultsCollection.append(IterResults, ignore_index=True)\n",
            "\r 62%|██████▏   | 627/1012 [1:44:34<1:28:54, 13.86s/it]"
          ]
        },
        {
          "metadata": {
            "tags": null
          },
          "name": "stdout",
          "output_type": "stream",
          "text": [
            "14/14 [==============================] - 0s 3ms/step\n"
          ]
        },
        {
          "metadata": {
            "tags": null
          },
          "name": "stderr",
          "output_type": "stream",
          "text": [
            "<ipython-input-30-84f19216e9c9>:14: FutureWarning: The frame.append method is deprecated and will be removed from pandas in a future version. Use pandas.concat instead.\n",
            "  ResultsCollection=ResultsCollection.append(IterResults, ignore_index=True)\n",
            "\r 62%|██████▏   | 628/1012 [1:44:48<1:28:27, 13.82s/it]"
          ]
        },
        {
          "metadata": {
            "tags": null
          },
          "name": "stdout",
          "output_type": "stream",
          "text": [
            "14/14 [==============================] - 0s 3ms/step\n"
          ]
        },
        {
          "metadata": {
            "tags": null
          },
          "name": "stderr",
          "output_type": "stream",
          "text": [
            "<ipython-input-30-84f19216e9c9>:14: FutureWarning: The frame.append method is deprecated and will be removed from pandas in a future version. Use pandas.concat instead.\n",
            "  ResultsCollection=ResultsCollection.append(IterResults, ignore_index=True)\n",
            "\r 62%|██████▏   | 629/1012 [1:45:02<1:28:22, 13.85s/it]"
          ]
        },
        {
          "metadata": {
            "tags": null
          },
          "name": "stdout",
          "output_type": "stream",
          "text": [
            "14/14 [==============================] - 0s 3ms/step\n"
          ]
        },
        {
          "metadata": {
            "tags": null
          },
          "name": "stderr",
          "output_type": "stream",
          "text": [
            "<ipython-input-30-84f19216e9c9>:14: FutureWarning: The frame.append method is deprecated and will be removed from pandas in a future version. Use pandas.concat instead.\n",
            "  ResultsCollection=ResultsCollection.append(IterResults, ignore_index=True)\n",
            "\r 62%|██████▏   | 630/1012 [1:45:15<1:27:58, 13.82s/it]"
          ]
        },
        {
          "metadata": {
            "tags": null
          },
          "name": "stdout",
          "output_type": "stream",
          "text": [
            "14/14 [==============================] - 0s 3ms/step\n"
          ]
        },
        {
          "metadata": {
            "tags": null
          },
          "name": "stderr",
          "output_type": "stream",
          "text": [
            "<ipython-input-30-84f19216e9c9>:14: FutureWarning: The frame.append method is deprecated and will be removed from pandas in a future version. Use pandas.concat instead.\n",
            "  ResultsCollection=ResultsCollection.append(IterResults, ignore_index=True)\n",
            "\r 62%|██████▏   | 631/1012 [1:45:29<1:27:40, 13.81s/it]"
          ]
        },
        {
          "metadata": {
            "tags": null
          },
          "name": "stdout",
          "output_type": "stream",
          "text": [
            "14/14 [==============================] - 0s 3ms/step\n"
          ]
        },
        {
          "metadata": {
            "tags": null
          },
          "name": "stderr",
          "output_type": "stream",
          "text": [
            "<ipython-input-30-84f19216e9c9>:14: FutureWarning: The frame.append method is deprecated and will be removed from pandas in a future version. Use pandas.concat instead.\n",
            "  ResultsCollection=ResultsCollection.append(IterResults, ignore_index=True)\n",
            "\r 62%|██████▏   | 632/1012 [1:45:43<1:27:27, 13.81s/it]"
          ]
        },
        {
          "metadata": {
            "tags": null
          },
          "name": "stdout",
          "output_type": "stream",
          "text": [
            "14/14 [==============================] - 0s 3ms/step\n"
          ]
        },
        {
          "metadata": {
            "tags": null
          },
          "name": "stderr",
          "output_type": "stream",
          "text": [
            "<ipython-input-30-84f19216e9c9>:14: FutureWarning: The frame.append method is deprecated and will be removed from pandas in a future version. Use pandas.concat instead.\n",
            "  ResultsCollection=ResultsCollection.append(IterResults, ignore_index=True)\n",
            "\r 63%|██████▎   | 633/1012 [1:45:57<1:27:08, 13.79s/it]"
          ]
        },
        {
          "metadata": {
            "tags": null
          },
          "name": "stdout",
          "output_type": "stream",
          "text": [
            "14/14 [==============================] - 0s 3ms/step\n"
          ]
        },
        {
          "metadata": {
            "tags": null
          },
          "name": "stderr",
          "output_type": "stream",
          "text": [
            "<ipython-input-30-84f19216e9c9>:14: FutureWarning: The frame.append method is deprecated and will be removed from pandas in a future version. Use pandas.concat instead.\n",
            "  ResultsCollection=ResultsCollection.append(IterResults, ignore_index=True)\n",
            "\r 63%|██████▎   | 634/1012 [1:46:11<1:26:53, 13.79s/it]"
          ]
        },
        {
          "metadata": {
            "tags": null
          },
          "name": "stdout",
          "output_type": "stream",
          "text": [
            "14/14 [==============================] - 0s 3ms/step\n"
          ]
        },
        {
          "metadata": {
            "tags": null
          },
          "name": "stderr",
          "output_type": "stream",
          "text": [
            "<ipython-input-30-84f19216e9c9>:14: FutureWarning: The frame.append method is deprecated and will be removed from pandas in a future version. Use pandas.concat instead.\n",
            "  ResultsCollection=ResultsCollection.append(IterResults, ignore_index=True)\n",
            "\r 63%|██████▎   | 635/1012 [1:46:25<1:27:04, 13.86s/it]"
          ]
        },
        {
          "metadata": {
            "tags": null
          },
          "name": "stdout",
          "output_type": "stream",
          "text": [
            "14/14 [==============================] - 1s 3ms/step\n"
          ]
        },
        {
          "metadata": {
            "tags": null
          },
          "name": "stderr",
          "output_type": "stream",
          "text": [
            "<ipython-input-30-84f19216e9c9>:14: FutureWarning: The frame.append method is deprecated and will be removed from pandas in a future version. Use pandas.concat instead.\n",
            "  ResultsCollection=ResultsCollection.append(IterResults, ignore_index=True)\n",
            "\r 63%|██████▎   | 636/1012 [1:46:38<1:26:50, 13.86s/it]"
          ]
        },
        {
          "metadata": {
            "tags": null
          },
          "name": "stdout",
          "output_type": "stream",
          "text": [
            "14/14 [==============================] - 1s 4ms/step\n"
          ]
        },
        {
          "metadata": {
            "tags": null
          },
          "name": "stderr",
          "output_type": "stream",
          "text": [
            "<ipython-input-30-84f19216e9c9>:14: FutureWarning: The frame.append method is deprecated and will be removed from pandas in a future version. Use pandas.concat instead.\n",
            "  ResultsCollection=ResultsCollection.append(IterResults, ignore_index=True)\n",
            "\r 63%|██████▎   | 637/1012 [1:46:55<1:31:52, 14.70s/it]"
          ]
        },
        {
          "metadata": {
            "tags": null
          },
          "name": "stdout",
          "output_type": "stream",
          "text": [
            "14/14 [==============================] - 1s 4ms/step\n"
          ]
        },
        {
          "metadata": {
            "tags": null
          },
          "name": "stderr",
          "output_type": "stream",
          "text": [
            "<ipython-input-30-84f19216e9c9>:14: FutureWarning: The frame.append method is deprecated and will be removed from pandas in a future version. Use pandas.concat instead.\n",
            "  ResultsCollection=ResultsCollection.append(IterResults, ignore_index=True)\n",
            "\r 63%|██████▎   | 638/1012 [1:47:09<1:30:27, 14.51s/it]"
          ]
        },
        {
          "metadata": {
            "tags": null
          },
          "name": "stdout",
          "output_type": "stream",
          "text": [
            "14/14 [==============================] - 1s 3ms/step\n"
          ]
        },
        {
          "metadata": {
            "tags": null
          },
          "name": "stderr",
          "output_type": "stream",
          "text": [
            "<ipython-input-30-84f19216e9c9>:14: FutureWarning: The frame.append method is deprecated and will be removed from pandas in a future version. Use pandas.concat instead.\n",
            "  ResultsCollection=ResultsCollection.append(IterResults, ignore_index=True)\n",
            "\r 63%|██████▎   | 639/1012 [1:47:26<1:34:15, 15.16s/it]"
          ]
        },
        {
          "metadata": {
            "tags": null
          },
          "name": "stdout",
          "output_type": "stream",
          "text": [
            "14/14 [==============================] - 0s 3ms/step\n"
          ]
        },
        {
          "metadata": {
            "tags": null
          },
          "name": "stderr",
          "output_type": "stream",
          "text": [
            "<ipython-input-30-84f19216e9c9>:14: FutureWarning: The frame.append method is deprecated and will be removed from pandas in a future version. Use pandas.concat instead.\n",
            "  ResultsCollection=ResultsCollection.append(IterResults, ignore_index=True)\n",
            "\r 63%|██████▎   | 640/1012 [1:47:40<1:31:30, 14.76s/it]"
          ]
        },
        {
          "metadata": {
            "tags": null
          },
          "name": "stdout",
          "output_type": "stream",
          "text": [
            "14/14 [==============================] - 1s 3ms/step\n"
          ]
        },
        {
          "metadata": {
            "tags": null
          },
          "name": "stderr",
          "output_type": "stream",
          "text": [
            "<ipython-input-30-84f19216e9c9>:14: FutureWarning: The frame.append method is deprecated and will be removed from pandas in a future version. Use pandas.concat instead.\n",
            "  ResultsCollection=ResultsCollection.append(IterResults, ignore_index=True)\n",
            "\r 63%|██████▎   | 641/1012 [1:47:54<1:30:08, 14.58s/it]"
          ]
        },
        {
          "metadata": {
            "tags": null
          },
          "name": "stdout",
          "output_type": "stream",
          "text": [
            "14/14 [==============================] - 0s 3ms/step\n"
          ]
        },
        {
          "metadata": {
            "tags": null
          },
          "name": "stderr",
          "output_type": "stream",
          "text": [
            "<ipython-input-30-84f19216e9c9>:14: FutureWarning: The frame.append method is deprecated and will be removed from pandas in a future version. Use pandas.concat instead.\n",
            "  ResultsCollection=ResultsCollection.append(IterResults, ignore_index=True)\n",
            "\r 63%|██████▎   | 642/1012 [1:48:08<1:28:28, 14.35s/it]"
          ]
        },
        {
          "metadata": {
            "tags": null
          },
          "name": "stdout",
          "output_type": "stream",
          "text": [
            "14/14 [==============================] - 1s 4ms/step\n"
          ]
        },
        {
          "metadata": {
            "tags": null
          },
          "name": "stderr",
          "output_type": "stream",
          "text": [
            "<ipython-input-30-84f19216e9c9>:14: FutureWarning: The frame.append method is deprecated and will be removed from pandas in a future version. Use pandas.concat instead.\n",
            "  ResultsCollection=ResultsCollection.append(IterResults, ignore_index=True)\n",
            "\r 64%|██████▎   | 643/1012 [1:48:22<1:27:52, 14.29s/it]"
          ]
        },
        {
          "metadata": {
            "tags": null
          },
          "name": "stdout",
          "output_type": "stream",
          "text": [
            "14/14 [==============================] - 0s 3ms/step\n"
          ]
        },
        {
          "metadata": {
            "tags": null
          },
          "name": "stderr",
          "output_type": "stream",
          "text": [
            "<ipython-input-30-84f19216e9c9>:14: FutureWarning: The frame.append method is deprecated and will be removed from pandas in a future version. Use pandas.concat instead.\n",
            "  ResultsCollection=ResultsCollection.append(IterResults, ignore_index=True)\n",
            "\r 64%|██████▎   | 644/1012 [1:48:36<1:27:11, 14.22s/it]"
          ]
        },
        {
          "metadata": {
            "tags": null
          },
          "name": "stdout",
          "output_type": "stream",
          "text": [
            "14/14 [==============================] - 0s 3ms/step\n"
          ]
        },
        {
          "metadata": {
            "tags": null
          },
          "name": "stderr",
          "output_type": "stream",
          "text": [
            "<ipython-input-30-84f19216e9c9>:14: FutureWarning: The frame.append method is deprecated and will be removed from pandas in a future version. Use pandas.concat instead.\n",
            "  ResultsCollection=ResultsCollection.append(IterResults, ignore_index=True)\n",
            "\r 64%|██████▎   | 645/1012 [1:48:50<1:26:46, 14.19s/it]"
          ]
        },
        {
          "metadata": {
            "tags": null
          },
          "name": "stdout",
          "output_type": "stream",
          "text": [
            "14/14 [==============================] - 0s 3ms/step\n"
          ]
        },
        {
          "metadata": {
            "tags": null
          },
          "name": "stderr",
          "output_type": "stream",
          "text": [
            "<ipython-input-30-84f19216e9c9>:14: FutureWarning: The frame.append method is deprecated and will be removed from pandas in a future version. Use pandas.concat instead.\n",
            "  ResultsCollection=ResultsCollection.append(IterResults, ignore_index=True)\n",
            "\r 64%|██████▍   | 646/1012 [1:49:04<1:26:14, 14.14s/it]"
          ]
        },
        {
          "metadata": {
            "tags": null
          },
          "name": "stdout",
          "output_type": "stream",
          "text": [
            "14/14 [==============================] - 0s 3ms/step\n"
          ]
        },
        {
          "metadata": {
            "tags": null
          },
          "name": "stderr",
          "output_type": "stream",
          "text": [
            "<ipython-input-30-84f19216e9c9>:14: FutureWarning: The frame.append method is deprecated and will be removed from pandas in a future version. Use pandas.concat instead.\n",
            "  ResultsCollection=ResultsCollection.append(IterResults, ignore_index=True)\n",
            "\r 64%|██████▍   | 647/1012 [1:49:18<1:25:38, 14.08s/it]"
          ]
        },
        {
          "metadata": {
            "tags": null
          },
          "name": "stdout",
          "output_type": "stream",
          "text": [
            "14/14 [==============================] - 0s 3ms/step\n"
          ]
        },
        {
          "metadata": {
            "tags": null
          },
          "name": "stderr",
          "output_type": "stream",
          "text": [
            "<ipython-input-30-84f19216e9c9>:14: FutureWarning: The frame.append method is deprecated and will be removed from pandas in a future version. Use pandas.concat instead.\n",
            "  ResultsCollection=ResultsCollection.append(IterResults, ignore_index=True)\n",
            "\r 64%|██████▍   | 648/1012 [1:49:32<1:25:31, 14.10s/it]"
          ]
        },
        {
          "metadata": {
            "tags": null
          },
          "name": "stdout",
          "output_type": "stream",
          "text": [
            "14/14 [==============================] - 0s 3ms/step\n"
          ]
        },
        {
          "metadata": {
            "tags": null
          },
          "name": "stderr",
          "output_type": "stream",
          "text": [
            "<ipython-input-30-84f19216e9c9>:14: FutureWarning: The frame.append method is deprecated and will be removed from pandas in a future version. Use pandas.concat instead.\n",
            "  ResultsCollection=ResultsCollection.append(IterResults, ignore_index=True)\n",
            "\r 64%|██████▍   | 649/1012 [1:49:46<1:25:21, 14.11s/it]"
          ]
        },
        {
          "metadata": {
            "tags": null
          },
          "name": "stdout",
          "output_type": "stream",
          "text": [
            "14/14 [==============================] - 0s 3ms/step\n"
          ]
        },
        {
          "metadata": {
            "tags": null
          },
          "name": "stderr",
          "output_type": "stream",
          "text": [
            "<ipython-input-30-84f19216e9c9>:14: FutureWarning: The frame.append method is deprecated and will be removed from pandas in a future version. Use pandas.concat instead.\n",
            "  ResultsCollection=ResultsCollection.append(IterResults, ignore_index=True)\n",
            "\r 64%|██████▍   | 650/1012 [1:50:00<1:25:12, 14.12s/it]"
          ]
        },
        {
          "metadata": {
            "tags": null
          },
          "name": "stdout",
          "output_type": "stream",
          "text": [
            "14/14 [==============================] - 0s 3ms/step\n"
          ]
        },
        {
          "metadata": {
            "tags": null
          },
          "name": "stderr",
          "output_type": "stream",
          "text": [
            "<ipython-input-30-84f19216e9c9>:14: FutureWarning: The frame.append method is deprecated and will be removed from pandas in a future version. Use pandas.concat instead.\n",
            "  ResultsCollection=ResultsCollection.append(IterResults, ignore_index=True)\n",
            "\r 64%|██████▍   | 651/1012 [1:50:15<1:25:05, 14.14s/it]"
          ]
        },
        {
          "metadata": {
            "tags": null
          },
          "name": "stdout",
          "output_type": "stream",
          "text": [
            "14/14 [==============================] - 0s 3ms/step\n"
          ]
        },
        {
          "metadata": {
            "tags": null
          },
          "name": "stderr",
          "output_type": "stream",
          "text": [
            "<ipython-input-30-84f19216e9c9>:14: FutureWarning: The frame.append method is deprecated and will be removed from pandas in a future version. Use pandas.concat instead.\n",
            "  ResultsCollection=ResultsCollection.append(IterResults, ignore_index=True)\n",
            "\r 64%|██████▍   | 652/1012 [1:50:29<1:24:35, 14.10s/it]"
          ]
        },
        {
          "metadata": {
            "tags": null
          },
          "name": "stdout",
          "output_type": "stream",
          "text": [
            "14/14 [==============================] - 0s 3ms/step\n"
          ]
        },
        {
          "metadata": {
            "tags": null
          },
          "name": "stderr",
          "output_type": "stream",
          "text": [
            "<ipython-input-30-84f19216e9c9>:14: FutureWarning: The frame.append method is deprecated and will be removed from pandas in a future version. Use pandas.concat instead.\n",
            "  ResultsCollection=ResultsCollection.append(IterResults, ignore_index=True)\n",
            "\r 65%|██████▍   | 653/1012 [1:50:43<1:24:33, 14.13s/it]"
          ]
        },
        {
          "metadata": {
            "tags": null
          },
          "name": "stdout",
          "output_type": "stream",
          "text": [
            "14/14 [==============================] - 0s 3ms/step\n"
          ]
        },
        {
          "metadata": {
            "tags": null
          },
          "name": "stderr",
          "output_type": "stream",
          "text": [
            "<ipython-input-30-84f19216e9c9>:14: FutureWarning: The frame.append method is deprecated and will be removed from pandas in a future version. Use pandas.concat instead.\n",
            "  ResultsCollection=ResultsCollection.append(IterResults, ignore_index=True)\n",
            "\r 65%|██████▍   | 654/1012 [1:50:57<1:24:20, 14.14s/it]"
          ]
        },
        {
          "metadata": {
            "tags": null
          },
          "name": "stdout",
          "output_type": "stream",
          "text": [
            "14/14 [==============================] - 0s 3ms/step\n"
          ]
        },
        {
          "metadata": {
            "tags": null
          },
          "name": "stderr",
          "output_type": "stream",
          "text": [
            "<ipython-input-30-84f19216e9c9>:14: FutureWarning: The frame.append method is deprecated and will be removed from pandas in a future version. Use pandas.concat instead.\n",
            "  ResultsCollection=ResultsCollection.append(IterResults, ignore_index=True)\n",
            "\r 65%|██████▍   | 655/1012 [1:51:11<1:24:20, 14.18s/it]"
          ]
        },
        {
          "metadata": {
            "tags": null
          },
          "name": "stdout",
          "output_type": "stream",
          "text": [
            "14/14 [==============================] - 1s 3ms/step\n"
          ]
        },
        {
          "metadata": {
            "tags": null
          },
          "name": "stderr",
          "output_type": "stream",
          "text": [
            "<ipython-input-30-84f19216e9c9>:14: FutureWarning: The frame.append method is deprecated and will be removed from pandas in a future version. Use pandas.concat instead.\n",
            "  ResultsCollection=ResultsCollection.append(IterResults, ignore_index=True)\n",
            "\r 65%|██████▍   | 656/1012 [1:51:26<1:24:24, 14.23s/it]"
          ]
        },
        {
          "metadata": {
            "tags": null
          },
          "name": "stdout",
          "output_type": "stream",
          "text": [
            "14/14 [==============================] - 0s 3ms/step\n"
          ]
        },
        {
          "metadata": {
            "tags": null
          },
          "name": "stderr",
          "output_type": "stream",
          "text": [
            "<ipython-input-30-84f19216e9c9>:14: FutureWarning: The frame.append method is deprecated and will be removed from pandas in a future version. Use pandas.concat instead.\n",
            "  ResultsCollection=ResultsCollection.append(IterResults, ignore_index=True)\n",
            "\r 65%|██████▍   | 657/1012 [1:51:40<1:24:00, 14.20s/it]"
          ]
        },
        {
          "metadata": {
            "tags": null
          },
          "name": "stdout",
          "output_type": "stream",
          "text": [
            "14/14 [==============================] - 0s 3ms/step\n"
          ]
        },
        {
          "metadata": {
            "tags": null
          },
          "name": "stderr",
          "output_type": "stream",
          "text": [
            "<ipython-input-30-84f19216e9c9>:14: FutureWarning: The frame.append method is deprecated and will be removed from pandas in a future version. Use pandas.concat instead.\n",
            "  ResultsCollection=ResultsCollection.append(IterResults, ignore_index=True)\n",
            "\r 65%|██████▌   | 658/1012 [1:51:54<1:23:52, 14.22s/it]"
          ]
        },
        {
          "metadata": {
            "tags": null
          },
          "name": "stdout",
          "output_type": "stream",
          "text": [
            "14/14 [==============================] - 1s 3ms/step\n"
          ]
        },
        {
          "metadata": {
            "tags": null
          },
          "name": "stderr",
          "output_type": "stream",
          "text": [
            "<ipython-input-30-84f19216e9c9>:14: FutureWarning: The frame.append method is deprecated and will be removed from pandas in a future version. Use pandas.concat instead.\n",
            "  ResultsCollection=ResultsCollection.append(IterResults, ignore_index=True)\n",
            "\r 65%|██████▌   | 659/1012 [1:52:08<1:23:57, 14.27s/it]"
          ]
        },
        {
          "metadata": {
            "tags": null
          },
          "name": "stdout",
          "output_type": "stream",
          "text": [
            "14/14 [==============================] - 1s 4ms/step\n"
          ]
        },
        {
          "metadata": {
            "tags": null
          },
          "name": "stderr",
          "output_type": "stream",
          "text": [
            "<ipython-input-30-84f19216e9c9>:14: FutureWarning: The frame.append method is deprecated and will be removed from pandas in a future version. Use pandas.concat instead.\n",
            "  ResultsCollection=ResultsCollection.append(IterResults, ignore_index=True)\n",
            "\r 65%|██████▌   | 660/1012 [1:52:23<1:23:57, 14.31s/it]"
          ]
        },
        {
          "metadata": {
            "tags": null
          },
          "name": "stdout",
          "output_type": "stream",
          "text": [
            "14/14 [==============================] - 0s 3ms/step\n"
          ]
        },
        {
          "metadata": {
            "tags": null
          },
          "name": "stderr",
          "output_type": "stream",
          "text": [
            "<ipython-input-30-84f19216e9c9>:14: FutureWarning: The frame.append method is deprecated and will be removed from pandas in a future version. Use pandas.concat instead.\n",
            "  ResultsCollection=ResultsCollection.append(IterResults, ignore_index=True)\n",
            "\r 65%|██████▌   | 661/1012 [1:52:37<1:24:06, 14.38s/it]"
          ]
        },
        {
          "metadata": {
            "tags": null
          },
          "name": "stdout",
          "output_type": "stream",
          "text": [
            "14/14 [==============================] - 0s 3ms/step\n"
          ]
        },
        {
          "metadata": {
            "tags": null
          },
          "name": "stderr",
          "output_type": "stream",
          "text": [
            "<ipython-input-30-84f19216e9c9>:14: FutureWarning: The frame.append method is deprecated and will be removed from pandas in a future version. Use pandas.concat instead.\n",
            "  ResultsCollection=ResultsCollection.append(IterResults, ignore_index=True)\n",
            "\r 65%|██████▌   | 662/1012 [1:52:52<1:23:53, 14.38s/it]"
          ]
        },
        {
          "metadata": {
            "tags": null
          },
          "name": "stdout",
          "output_type": "stream",
          "text": [
            "14/14 [==============================] - 0s 3ms/step\n"
          ]
        },
        {
          "metadata": {
            "tags": null
          },
          "name": "stderr",
          "output_type": "stream",
          "text": [
            "<ipython-input-30-84f19216e9c9>:14: FutureWarning: The frame.append method is deprecated and will be removed from pandas in a future version. Use pandas.concat instead.\n",
            "  ResultsCollection=ResultsCollection.append(IterResults, ignore_index=True)\n",
            "\r 66%|██████▌   | 663/1012 [1:53:06<1:23:20, 14.33s/it]"
          ]
        },
        {
          "metadata": {
            "tags": null
          },
          "name": "stdout",
          "output_type": "stream",
          "text": [
            "14/14 [==============================] - 1s 4ms/step\n"
          ]
        },
        {
          "metadata": {
            "tags": null
          },
          "name": "stderr",
          "output_type": "stream",
          "text": [
            "<ipython-input-30-84f19216e9c9>:14: FutureWarning: The frame.append method is deprecated and will be removed from pandas in a future version. Use pandas.concat instead.\n",
            "  ResultsCollection=ResultsCollection.append(IterResults, ignore_index=True)\n",
            "\r 66%|██████▌   | 664/1012 [1:53:20<1:23:06, 14.33s/it]"
          ]
        },
        {
          "metadata": {
            "tags": null
          },
          "name": "stdout",
          "output_type": "stream",
          "text": [
            "14/14 [==============================] - 0s 3ms/step\n"
          ]
        },
        {
          "metadata": {
            "tags": null
          },
          "name": "stderr",
          "output_type": "stream",
          "text": [
            "<ipython-input-30-84f19216e9c9>:14: FutureWarning: The frame.append method is deprecated and will be removed from pandas in a future version. Use pandas.concat instead.\n",
            "  ResultsCollection=ResultsCollection.append(IterResults, ignore_index=True)\n",
            "\r 66%|██████▌   | 665/1012 [1:53:35<1:23:04, 14.36s/it]"
          ]
        },
        {
          "metadata": {
            "tags": null
          },
          "name": "stdout",
          "output_type": "stream",
          "text": [
            "14/14 [==============================] - 0s 3ms/step\n"
          ]
        },
        {
          "metadata": {
            "tags": null
          },
          "name": "stderr",
          "output_type": "stream",
          "text": [
            "<ipython-input-30-84f19216e9c9>:14: FutureWarning: The frame.append method is deprecated and will be removed from pandas in a future version. Use pandas.concat instead.\n",
            "  ResultsCollection=ResultsCollection.append(IterResults, ignore_index=True)\n",
            "\r 66%|██████▌   | 666/1012 [1:53:49<1:22:40, 14.34s/it]"
          ]
        },
        {
          "metadata": {
            "tags": null
          },
          "name": "stdout",
          "output_type": "stream",
          "text": [
            "14/14 [==============================] - 0s 3ms/step\n"
          ]
        },
        {
          "metadata": {
            "tags": null
          },
          "name": "stderr",
          "output_type": "stream",
          "text": [
            "<ipython-input-30-84f19216e9c9>:14: FutureWarning: The frame.append method is deprecated and will be removed from pandas in a future version. Use pandas.concat instead.\n",
            "  ResultsCollection=ResultsCollection.append(IterResults, ignore_index=True)\n",
            "\r 66%|██████▌   | 667/1012 [1:54:03<1:22:24, 14.33s/it]"
          ]
        },
        {
          "metadata": {
            "tags": null
          },
          "name": "stdout",
          "output_type": "stream",
          "text": [
            "14/14 [==============================] - 0s 3ms/step\n"
          ]
        },
        {
          "metadata": {
            "tags": null
          },
          "name": "stderr",
          "output_type": "stream",
          "text": [
            "<ipython-input-30-84f19216e9c9>:14: FutureWarning: The frame.append method is deprecated and will be removed from pandas in a future version. Use pandas.concat instead.\n",
            "  ResultsCollection=ResultsCollection.append(IterResults, ignore_index=True)\n",
            "\r 66%|██████▌   | 668/1012 [1:54:17<1:22:00, 14.30s/it]"
          ]
        },
        {
          "metadata": {
            "tags": null
          },
          "name": "stdout",
          "output_type": "stream",
          "text": [
            "14/14 [==============================] - 1s 4ms/step\n"
          ]
        },
        {
          "metadata": {
            "tags": null
          },
          "name": "stderr",
          "output_type": "stream",
          "text": [
            "<ipython-input-30-84f19216e9c9>:14: FutureWarning: The frame.append method is deprecated and will be removed from pandas in a future version. Use pandas.concat instead.\n",
            "  ResultsCollection=ResultsCollection.append(IterResults, ignore_index=True)\n",
            "\r 66%|██████▌   | 669/1012 [1:54:35<1:26:25, 15.12s/it]"
          ]
        },
        {
          "metadata": {
            "tags": null
          },
          "name": "stdout",
          "output_type": "stream",
          "text": [
            "14/14 [==============================] - 0s 3ms/step\n"
          ]
        },
        {
          "metadata": {
            "tags": null
          },
          "name": "stderr",
          "output_type": "stream",
          "text": [
            "<ipython-input-30-84f19216e9c9>:14: FutureWarning: The frame.append method is deprecated and will be removed from pandas in a future version. Use pandas.concat instead.\n",
            "  ResultsCollection=ResultsCollection.append(IterResults, ignore_index=True)\n",
            "\r 66%|██████▌   | 670/1012 [1:54:49<1:25:07, 14.94s/it]"
          ]
        },
        {
          "metadata": {
            "tags": null
          },
          "name": "stdout",
          "output_type": "stream",
          "text": [
            "14/14 [==============================] - 1s 3ms/step\n"
          ]
        },
        {
          "metadata": {
            "tags": null
          },
          "name": "stderr",
          "output_type": "stream",
          "text": [
            "<ipython-input-30-84f19216e9c9>:14: FutureWarning: The frame.append method is deprecated and will be removed from pandas in a future version. Use pandas.concat instead.\n",
            "  ResultsCollection=ResultsCollection.append(IterResults, ignore_index=True)\n",
            "\r 66%|██████▋   | 671/1012 [1:55:03<1:23:57, 14.77s/it]"
          ]
        },
        {
          "metadata": {
            "tags": null
          },
          "name": "stdout",
          "output_type": "stream",
          "text": [
            "14/14 [==============================] - 1s 3ms/step\n"
          ]
        },
        {
          "metadata": {
            "tags": null
          },
          "name": "stderr",
          "output_type": "stream",
          "text": [
            "<ipython-input-30-84f19216e9c9>:14: FutureWarning: The frame.append method is deprecated and will be removed from pandas in a future version. Use pandas.concat instead.\n",
            "  ResultsCollection=ResultsCollection.append(IterResults, ignore_index=True)\n",
            "\r 66%|██████▋   | 672/1012 [1:55:18<1:23:15, 14.69s/it]"
          ]
        },
        {
          "metadata": {
            "tags": null
          },
          "name": "stdout",
          "output_type": "stream",
          "text": [
            "14/14 [==============================] - 0s 3ms/step\n"
          ]
        },
        {
          "metadata": {
            "tags": null
          },
          "name": "stderr",
          "output_type": "stream",
          "text": [
            "<ipython-input-30-84f19216e9c9>:14: FutureWarning: The frame.append method is deprecated and will be removed from pandas in a future version. Use pandas.concat instead.\n",
            "  ResultsCollection=ResultsCollection.append(IterResults, ignore_index=True)\n",
            "\r 67%|██████▋   | 673/1012 [1:55:32<1:22:21, 14.58s/it]"
          ]
        },
        {
          "metadata": {
            "tags": null
          },
          "name": "stdout",
          "output_type": "stream",
          "text": [
            "14/14 [==============================] - 0s 3ms/step\n"
          ]
        },
        {
          "metadata": {
            "tags": null
          },
          "name": "stderr",
          "output_type": "stream",
          "text": [
            "<ipython-input-30-84f19216e9c9>:14: FutureWarning: The frame.append method is deprecated and will be removed from pandas in a future version. Use pandas.concat instead.\n",
            "  ResultsCollection=ResultsCollection.append(IterResults, ignore_index=True)\n",
            "\r 67%|██████▋   | 674/1012 [1:55:47<1:21:48, 14.52s/it]"
          ]
        },
        {
          "metadata": {
            "tags": null
          },
          "name": "stdout",
          "output_type": "stream",
          "text": [
            "14/14 [==============================] - 0s 3ms/step\n"
          ]
        },
        {
          "metadata": {
            "tags": null
          },
          "name": "stderr",
          "output_type": "stream",
          "text": [
            "<ipython-input-30-84f19216e9c9>:14: FutureWarning: The frame.append method is deprecated and will be removed from pandas in a future version. Use pandas.concat instead.\n",
            "  ResultsCollection=ResultsCollection.append(IterResults, ignore_index=True)\n",
            "\r 67%|██████▋   | 675/1012 [1:56:01<1:21:33, 14.52s/it]"
          ]
        },
        {
          "metadata": {
            "tags": null
          },
          "name": "stdout",
          "output_type": "stream",
          "text": [
            "14/14 [==============================] - 0s 3ms/step\n"
          ]
        },
        {
          "metadata": {
            "tags": null
          },
          "name": "stderr",
          "output_type": "stream",
          "text": [
            "<ipython-input-30-84f19216e9c9>:14: FutureWarning: The frame.append method is deprecated and will be removed from pandas in a future version. Use pandas.concat instead.\n",
            "  ResultsCollection=ResultsCollection.append(IterResults, ignore_index=True)\n",
            "\r 67%|██████▋   | 676/1012 [1:56:18<1:25:47, 15.32s/it]"
          ]
        },
        {
          "metadata": {
            "tags": null
          },
          "name": "stdout",
          "output_type": "stream",
          "text": [
            "14/14 [==============================] - 0s 3ms/step\n"
          ]
        },
        {
          "metadata": {
            "tags": null
          },
          "name": "stderr",
          "output_type": "stream",
          "text": [
            "<ipython-input-30-84f19216e9c9>:14: FutureWarning: The frame.append method is deprecated and will be removed from pandas in a future version. Use pandas.concat instead.\n",
            "  ResultsCollection=ResultsCollection.append(IterResults, ignore_index=True)\n",
            "\r 67%|██████▋   | 677/1012 [1:56:33<1:24:12, 15.08s/it]"
          ]
        },
        {
          "metadata": {
            "tags": null
          },
          "name": "stdout",
          "output_type": "stream",
          "text": [
            "14/14 [==============================] - 0s 3ms/step\n"
          ]
        },
        {
          "metadata": {
            "tags": null
          },
          "name": "stderr",
          "output_type": "stream",
          "text": [
            "<ipython-input-30-84f19216e9c9>:14: FutureWarning: The frame.append method is deprecated and will be removed from pandas in a future version. Use pandas.concat instead.\n",
            "  ResultsCollection=ResultsCollection.append(IterResults, ignore_index=True)\n",
            "\r 67%|██████▋   | 678/1012 [1:56:47<1:23:01, 14.92s/it]"
          ]
        },
        {
          "metadata": {
            "tags": null
          },
          "name": "stdout",
          "output_type": "stream",
          "text": [
            "14/14 [==============================] - 0s 3ms/step\n"
          ]
        },
        {
          "metadata": {
            "tags": null
          },
          "name": "stderr",
          "output_type": "stream",
          "text": [
            "<ipython-input-30-84f19216e9c9>:14: FutureWarning: The frame.append method is deprecated and will be removed from pandas in a future version. Use pandas.concat instead.\n",
            "  ResultsCollection=ResultsCollection.append(IterResults, ignore_index=True)\n",
            "\r 67%|██████▋   | 679/1012 [1:57:02<1:21:56, 14.76s/it]"
          ]
        },
        {
          "metadata": {
            "tags": null
          },
          "name": "stdout",
          "output_type": "stream",
          "text": [
            "14/14 [==============================] - 0s 3ms/step\n"
          ]
        },
        {
          "metadata": {
            "tags": null
          },
          "name": "stderr",
          "output_type": "stream",
          "text": [
            "<ipython-input-30-84f19216e9c9>:14: FutureWarning: The frame.append method is deprecated and will be removed from pandas in a future version. Use pandas.concat instead.\n",
            "  ResultsCollection=ResultsCollection.append(IterResults, ignore_index=True)\n",
            "\r 67%|██████▋   | 680/1012 [1:57:16<1:21:12, 14.68s/it]"
          ]
        },
        {
          "metadata": {
            "tags": null
          },
          "name": "stdout",
          "output_type": "stream",
          "text": [
            "14/14 [==============================] - 0s 3ms/step\n"
          ]
        },
        {
          "metadata": {
            "tags": null
          },
          "name": "stderr",
          "output_type": "stream",
          "text": [
            "<ipython-input-30-84f19216e9c9>:14: FutureWarning: The frame.append method is deprecated and will be removed from pandas in a future version. Use pandas.concat instead.\n",
            "  ResultsCollection=ResultsCollection.append(IterResults, ignore_index=True)\n",
            "\r 67%|██████▋   | 681/1012 [1:57:31<1:20:38, 14.62s/it]"
          ]
        },
        {
          "metadata": {
            "tags": null
          },
          "name": "stdout",
          "output_type": "stream",
          "text": [
            "14/14 [==============================] - 1s 4ms/step\n"
          ]
        },
        {
          "metadata": {
            "tags": null
          },
          "name": "stderr",
          "output_type": "stream",
          "text": [
            "<ipython-input-30-84f19216e9c9>:14: FutureWarning: The frame.append method is deprecated and will be removed from pandas in a future version. Use pandas.concat instead.\n",
            "  ResultsCollection=ResultsCollection.append(IterResults, ignore_index=True)\n",
            "\r 67%|██████▋   | 682/1012 [1:57:45<1:20:17, 14.60s/it]"
          ]
        },
        {
          "metadata": {
            "tags": null
          },
          "name": "stdout",
          "output_type": "stream",
          "text": [
            "14/14 [==============================] - 0s 3ms/step\n"
          ]
        },
        {
          "metadata": {
            "tags": null
          },
          "name": "stderr",
          "output_type": "stream",
          "text": [
            "<ipython-input-30-84f19216e9c9>:14: FutureWarning: The frame.append method is deprecated and will be removed from pandas in a future version. Use pandas.concat instead.\n",
            "  ResultsCollection=ResultsCollection.append(IterResults, ignore_index=True)\n",
            "\r 67%|██████▋   | 683/1012 [1:58:03<1:24:30, 15.41s/it]"
          ]
        },
        {
          "metadata": {
            "tags": null
          },
          "name": "stdout",
          "output_type": "stream",
          "text": [
            "14/14 [==============================] - 1s 3ms/step\n"
          ]
        },
        {
          "metadata": {
            "tags": null
          },
          "name": "stderr",
          "output_type": "stream",
          "text": [
            "<ipython-input-30-84f19216e9c9>:14: FutureWarning: The frame.append method is deprecated and will be removed from pandas in a future version. Use pandas.concat instead.\n",
            "  ResultsCollection=ResultsCollection.append(IterResults, ignore_index=True)\n",
            "\r 68%|██████▊   | 684/1012 [1:58:17<1:22:56, 15.17s/it]"
          ]
        },
        {
          "metadata": {
            "tags": null
          },
          "name": "stdout",
          "output_type": "stream",
          "text": [
            "14/14 [==============================] - 1s 3ms/step\n"
          ]
        },
        {
          "metadata": {
            "tags": null
          },
          "name": "stderr",
          "output_type": "stream",
          "text": [
            "<ipython-input-30-84f19216e9c9>:14: FutureWarning: The frame.append method is deprecated and will be removed from pandas in a future version. Use pandas.concat instead.\n",
            "  ResultsCollection=ResultsCollection.append(IterResults, ignore_index=True)\n",
            "\r 68%|██████▊   | 685/1012 [1:58:32<1:21:47, 15.01s/it]"
          ]
        },
        {
          "metadata": {
            "tags": null
          },
          "name": "stdout",
          "output_type": "stream",
          "text": [
            "14/14 [==============================] - 0s 3ms/step\n"
          ]
        },
        {
          "metadata": {
            "tags": null
          },
          "name": "stderr",
          "output_type": "stream",
          "text": [
            "<ipython-input-30-84f19216e9c9>:14: FutureWarning: The frame.append method is deprecated and will be removed from pandas in a future version. Use pandas.concat instead.\n",
            "  ResultsCollection=ResultsCollection.append(IterResults, ignore_index=True)\n",
            "\r 68%|██████▊   | 686/1012 [1:58:46<1:20:42, 14.85s/it]"
          ]
        },
        {
          "metadata": {
            "tags": null
          },
          "name": "stdout",
          "output_type": "stream",
          "text": [
            "14/14 [==============================] - 0s 3ms/step\n"
          ]
        },
        {
          "metadata": {
            "tags": null
          },
          "name": "stderr",
          "output_type": "stream",
          "text": [
            "<ipython-input-30-84f19216e9c9>:14: FutureWarning: The frame.append method is deprecated and will be removed from pandas in a future version. Use pandas.concat instead.\n",
            "  ResultsCollection=ResultsCollection.append(IterResults, ignore_index=True)\n",
            "\r 68%|██████▊   | 687/1012 [1:59:01<1:20:08, 14.80s/it]"
          ]
        },
        {
          "metadata": {
            "tags": null
          },
          "name": "stdout",
          "output_type": "stream",
          "text": [
            "14/14 [==============================] - 1s 4ms/step\n"
          ]
        },
        {
          "metadata": {
            "tags": null
          },
          "name": "stderr",
          "output_type": "stream",
          "text": [
            "<ipython-input-30-84f19216e9c9>:14: FutureWarning: The frame.append method is deprecated and will be removed from pandas in a future version. Use pandas.concat instead.\n",
            "  ResultsCollection=ResultsCollection.append(IterResults, ignore_index=True)\n",
            "\r 68%|██████▊   | 688/1012 [1:59:16<1:19:55, 14.80s/it]"
          ]
        },
        {
          "metadata": {
            "tags": null
          },
          "name": "stdout",
          "output_type": "stream",
          "text": [
            "14/14 [==============================] - 1s 3ms/step\n"
          ]
        },
        {
          "metadata": {
            "tags": null
          },
          "name": "stderr",
          "output_type": "stream",
          "text": [
            "<ipython-input-30-84f19216e9c9>:14: FutureWarning: The frame.append method is deprecated and will be removed from pandas in a future version. Use pandas.concat instead.\n",
            "  ResultsCollection=ResultsCollection.append(IterResults, ignore_index=True)\n",
            "\r 68%|██████▊   | 689/1012 [1:59:33<1:23:57, 15.59s/it]"
          ]
        },
        {
          "metadata": {
            "tags": null
          },
          "name": "stdout",
          "output_type": "stream",
          "text": [
            "14/14 [==============================] - 1s 3ms/step\n"
          ]
        },
        {
          "metadata": {
            "tags": null
          },
          "name": "stderr",
          "output_type": "stream",
          "text": [
            "<ipython-input-30-84f19216e9c9>:14: FutureWarning: The frame.append method is deprecated and will be removed from pandas in a future version. Use pandas.concat instead.\n",
            "  ResultsCollection=ResultsCollection.append(IterResults, ignore_index=True)\n",
            "\r 68%|██████▊   | 690/1012 [1:59:51<1:26:34, 16.13s/it]"
          ]
        },
        {
          "metadata": {
            "tags": null
          },
          "name": "stdout",
          "output_type": "stream",
          "text": [
            "14/14 [==============================] - 0s 3ms/step\n"
          ]
        },
        {
          "metadata": {
            "tags": null
          },
          "name": "stderr",
          "output_type": "stream",
          "text": [
            "<ipython-input-30-84f19216e9c9>:14: FutureWarning: The frame.append method is deprecated and will be removed from pandas in a future version. Use pandas.concat instead.\n",
            "  ResultsCollection=ResultsCollection.append(IterResults, ignore_index=True)\n",
            "\r 68%|██████▊   | 691/1012 [2:00:05<1:23:56, 15.69s/it]"
          ]
        },
        {
          "metadata": {
            "tags": null
          },
          "name": "stdout",
          "output_type": "stream",
          "text": [
            "14/14 [==============================] - 0s 3ms/step\n"
          ]
        },
        {
          "metadata": {
            "tags": null
          },
          "name": "stderr",
          "output_type": "stream",
          "text": [
            "<ipython-input-30-84f19216e9c9>:14: FutureWarning: The frame.append method is deprecated and will be removed from pandas in a future version. Use pandas.concat instead.\n",
            "  ResultsCollection=ResultsCollection.append(IterResults, ignore_index=True)\n",
            "\r 68%|██████▊   | 692/1012 [2:00:20<1:22:05, 15.39s/it]"
          ]
        },
        {
          "metadata": {
            "tags": null
          },
          "name": "stdout",
          "output_type": "stream",
          "text": [
            "14/14 [==============================] - 0s 3ms/step\n"
          ]
        },
        {
          "metadata": {
            "tags": null
          },
          "name": "stderr",
          "output_type": "stream",
          "text": [
            "<ipython-input-30-84f19216e9c9>:14: FutureWarning: The frame.append method is deprecated and will be removed from pandas in a future version. Use pandas.concat instead.\n",
            "  ResultsCollection=ResultsCollection.append(IterResults, ignore_index=True)\n",
            "\r 68%|██████▊   | 693/1012 [2:00:35<1:20:31, 15.14s/it]"
          ]
        },
        {
          "metadata": {
            "tags": null
          },
          "name": "stdout",
          "output_type": "stream",
          "text": [
            "14/14 [==============================] - 0s 3ms/step\n"
          ]
        },
        {
          "metadata": {
            "tags": null
          },
          "name": "stderr",
          "output_type": "stream",
          "text": [
            "<ipython-input-30-84f19216e9c9>:14: FutureWarning: The frame.append method is deprecated and will be removed from pandas in a future version. Use pandas.concat instead.\n",
            "  ResultsCollection=ResultsCollection.append(IterResults, ignore_index=True)\n",
            "\r 69%|██████▊   | 694/1012 [2:00:49<1:19:30, 15.00s/it]"
          ]
        },
        {
          "metadata": {
            "tags": null
          },
          "name": "stdout",
          "output_type": "stream",
          "text": [
            "14/14 [==============================] - 0s 3ms/step\n"
          ]
        },
        {
          "metadata": {
            "tags": null
          },
          "name": "stderr",
          "output_type": "stream",
          "text": [
            "<ipython-input-30-84f19216e9c9>:14: FutureWarning: The frame.append method is deprecated and will be removed from pandas in a future version. Use pandas.concat instead.\n",
            "  ResultsCollection=ResultsCollection.append(IterResults, ignore_index=True)\n",
            "\r 69%|██████▊   | 695/1012 [2:01:04<1:18:47, 14.91s/it]"
          ]
        },
        {
          "metadata": {
            "tags": null
          },
          "name": "stdout",
          "output_type": "stream",
          "text": [
            "14/14 [==============================] - 0s 3ms/step\n"
          ]
        },
        {
          "metadata": {
            "tags": null
          },
          "name": "stderr",
          "output_type": "stream",
          "text": [
            "<ipython-input-30-84f19216e9c9>:14: FutureWarning: The frame.append method is deprecated and will be removed from pandas in a future version. Use pandas.concat instead.\n",
            "  ResultsCollection=ResultsCollection.append(IterResults, ignore_index=True)\n",
            "\r 69%|██████▉   | 696/1012 [2:01:19<1:18:19, 14.87s/it]"
          ]
        },
        {
          "metadata": {
            "tags": null
          },
          "name": "stdout",
          "output_type": "stream",
          "text": [
            "14/14 [==============================] - 0s 3ms/step\n"
          ]
        },
        {
          "metadata": {
            "tags": null
          },
          "name": "stderr",
          "output_type": "stream",
          "text": [
            "<ipython-input-30-84f19216e9c9>:14: FutureWarning: The frame.append method is deprecated and will be removed from pandas in a future version. Use pandas.concat instead.\n",
            "  ResultsCollection=ResultsCollection.append(IterResults, ignore_index=True)\n",
            "\r 69%|██████▉   | 697/1012 [2:01:33<1:17:46, 14.82s/it]"
          ]
        },
        {
          "metadata": {
            "tags": null
          },
          "name": "stdout",
          "output_type": "stream",
          "text": [
            "14/14 [==============================] - 0s 3ms/step\n"
          ]
        },
        {
          "metadata": {
            "tags": null
          },
          "name": "stderr",
          "output_type": "stream",
          "text": [
            "<ipython-input-30-84f19216e9c9>:14: FutureWarning: The frame.append method is deprecated and will be removed from pandas in a future version. Use pandas.concat instead.\n",
            "  ResultsCollection=ResultsCollection.append(IterResults, ignore_index=True)\n",
            "\r 69%|██████▉   | 698/1012 [2:01:48<1:17:25, 14.79s/it]"
          ]
        },
        {
          "metadata": {
            "tags": null
          },
          "name": "stdout",
          "output_type": "stream",
          "text": [
            "14/14 [==============================] - 0s 3ms/step\n"
          ]
        },
        {
          "metadata": {
            "tags": null
          },
          "name": "stderr",
          "output_type": "stream",
          "text": [
            "<ipython-input-30-84f19216e9c9>:14: FutureWarning: The frame.append method is deprecated and will be removed from pandas in a future version. Use pandas.concat instead.\n",
            "  ResultsCollection=ResultsCollection.append(IterResults, ignore_index=True)\n",
            "\r 69%|██████▉   | 699/1012 [2:02:03<1:16:48, 14.72s/it]"
          ]
        },
        {
          "metadata": {
            "tags": null
          },
          "name": "stdout",
          "output_type": "stream",
          "text": [
            "14/14 [==============================] - 0s 3ms/step\n"
          ]
        },
        {
          "metadata": {
            "tags": null
          },
          "name": "stderr",
          "output_type": "stream",
          "text": [
            "<ipython-input-30-84f19216e9c9>:14: FutureWarning: The frame.append method is deprecated and will be removed from pandas in a future version. Use pandas.concat instead.\n",
            "  ResultsCollection=ResultsCollection.append(IterResults, ignore_index=True)\n",
            "\r 69%|██████▉   | 700/1012 [2:02:17<1:16:27, 14.70s/it]"
          ]
        },
        {
          "metadata": {
            "tags": null
          },
          "name": "stdout",
          "output_type": "stream",
          "text": [
            "14/14 [==============================] - 1s 3ms/step\n"
          ]
        },
        {
          "metadata": {
            "tags": null
          },
          "name": "stderr",
          "output_type": "stream",
          "text": [
            "<ipython-input-30-84f19216e9c9>:14: FutureWarning: The frame.append method is deprecated and will be removed from pandas in a future version. Use pandas.concat instead.\n",
            "  ResultsCollection=ResultsCollection.append(IterResults, ignore_index=True)\n",
            "\r 69%|██████▉   | 701/1012 [2:02:32<1:16:25, 14.74s/it]"
          ]
        },
        {
          "metadata": {
            "tags": null
          },
          "name": "stdout",
          "output_type": "stream",
          "text": [
            "14/14 [==============================] - 0s 3ms/step\n"
          ]
        },
        {
          "metadata": {
            "tags": null
          },
          "name": "stderr",
          "output_type": "stream",
          "text": [
            "<ipython-input-30-84f19216e9c9>:14: FutureWarning: The frame.append method is deprecated and will be removed from pandas in a future version. Use pandas.concat instead.\n",
            "  ResultsCollection=ResultsCollection.append(IterResults, ignore_index=True)\n",
            "\r 69%|██████▉   | 702/1012 [2:02:47<1:16:23, 14.79s/it]"
          ]
        },
        {
          "metadata": {
            "tags": null
          },
          "name": "stdout",
          "output_type": "stream",
          "text": [
            "14/14 [==============================] - 0s 3ms/step\n"
          ]
        },
        {
          "metadata": {
            "tags": null
          },
          "name": "stderr",
          "output_type": "stream",
          "text": [
            "<ipython-input-30-84f19216e9c9>:14: FutureWarning: The frame.append method is deprecated and will be removed from pandas in a future version. Use pandas.concat instead.\n",
            "  ResultsCollection=ResultsCollection.append(IterResults, ignore_index=True)\n",
            "\r 69%|██████▉   | 703/1012 [2:03:02<1:16:23, 14.83s/it]"
          ]
        },
        {
          "metadata": {
            "tags": null
          },
          "name": "stdout",
          "output_type": "stream",
          "text": [
            "14/14 [==============================] - 1s 3ms/step\n"
          ]
        },
        {
          "metadata": {
            "tags": null
          },
          "name": "stderr",
          "output_type": "stream",
          "text": [
            "<ipython-input-30-84f19216e9c9>:14: FutureWarning: The frame.append method is deprecated and will be removed from pandas in a future version. Use pandas.concat instead.\n",
            "  ResultsCollection=ResultsCollection.append(IterResults, ignore_index=True)\n",
            "\r 70%|██████▉   | 704/1012 [2:03:17<1:16:39, 14.93s/it]"
          ]
        },
        {
          "metadata": {
            "tags": null
          },
          "name": "stdout",
          "output_type": "stream",
          "text": [
            "14/14 [==============================] - 0s 3ms/step\n"
          ]
        },
        {
          "metadata": {
            "tags": null
          },
          "name": "stderr",
          "output_type": "stream",
          "text": [
            "<ipython-input-30-84f19216e9c9>:14: FutureWarning: The frame.append method is deprecated and will be removed from pandas in a future version. Use pandas.concat instead.\n",
            "  ResultsCollection=ResultsCollection.append(IterResults, ignore_index=True)\n",
            "\r 70%|██████▉   | 705/1012 [2:03:32<1:16:31, 14.96s/it]"
          ]
        },
        {
          "metadata": {
            "tags": null
          },
          "name": "stdout",
          "output_type": "stream",
          "text": [
            "14/14 [==============================] - 1s 3ms/step\n"
          ]
        },
        {
          "metadata": {
            "tags": null
          },
          "name": "stderr",
          "output_type": "stream",
          "text": [
            "<ipython-input-30-84f19216e9c9>:14: FutureWarning: The frame.append method is deprecated and will be removed from pandas in a future version. Use pandas.concat instead.\n",
            "  ResultsCollection=ResultsCollection.append(IterResults, ignore_index=True)\n",
            "\r 70%|██████▉   | 706/1012 [2:03:47<1:16:24, 14.98s/it]"
          ]
        },
        {
          "metadata": {
            "tags": null
          },
          "name": "stdout",
          "output_type": "stream",
          "text": [
            "14/14 [==============================] - 0s 3ms/step\n"
          ]
        },
        {
          "metadata": {
            "tags": null
          },
          "name": "stderr",
          "output_type": "stream",
          "text": [
            "<ipython-input-30-84f19216e9c9>:14: FutureWarning: The frame.append method is deprecated and will be removed from pandas in a future version. Use pandas.concat instead.\n",
            "  ResultsCollection=ResultsCollection.append(IterResults, ignore_index=True)\n",
            "\r 70%|██████▉   | 707/1012 [2:04:02<1:16:00, 14.95s/it]"
          ]
        },
        {
          "metadata": {
            "tags": null
          },
          "name": "stdout",
          "output_type": "stream",
          "text": [
            "14/14 [==============================] - 1s 3ms/step\n"
          ]
        },
        {
          "metadata": {
            "tags": null
          },
          "name": "stderr",
          "output_type": "stream",
          "text": [
            "<ipython-input-30-84f19216e9c9>:14: FutureWarning: The frame.append method is deprecated and will be removed from pandas in a future version. Use pandas.concat instead.\n",
            "  ResultsCollection=ResultsCollection.append(IterResults, ignore_index=True)\n",
            "\r 70%|██████▉   | 708/1012 [2:04:17<1:15:43, 14.95s/it]"
          ]
        },
        {
          "metadata": {
            "tags": null
          },
          "name": "stdout",
          "output_type": "stream",
          "text": [
            "14/14 [==============================] - 1s 4ms/step\n"
          ]
        },
        {
          "metadata": {
            "tags": null
          },
          "name": "stderr",
          "output_type": "stream",
          "text": [
            "<ipython-input-30-84f19216e9c9>:14: FutureWarning: The frame.append method is deprecated and will be removed from pandas in a future version. Use pandas.concat instead.\n",
            "  ResultsCollection=ResultsCollection.append(IterResults, ignore_index=True)\n",
            "\r 70%|███████   | 709/1012 [2:04:32<1:15:29, 14.95s/it]"
          ]
        },
        {
          "metadata": {
            "tags": null
          },
          "name": "stdout",
          "output_type": "stream",
          "text": [
            "14/14 [==============================] - 0s 3ms/step\n"
          ]
        },
        {
          "metadata": {
            "tags": null
          },
          "name": "stderr",
          "output_type": "stream",
          "text": [
            "<ipython-input-30-84f19216e9c9>:14: FutureWarning: The frame.append method is deprecated and will be removed from pandas in a future version. Use pandas.concat instead.\n",
            "  ResultsCollection=ResultsCollection.append(IterResults, ignore_index=True)\n",
            "\r 70%|███████   | 710/1012 [2:04:47<1:15:31, 15.00s/it]"
          ]
        },
        {
          "metadata": {
            "tags": null
          },
          "name": "stdout",
          "output_type": "stream",
          "text": [
            "14/14 [==============================] - 1s 3ms/step\n"
          ]
        },
        {
          "metadata": {
            "tags": null
          },
          "name": "stderr",
          "output_type": "stream",
          "text": [
            "<ipython-input-30-84f19216e9c9>:14: FutureWarning: The frame.append method is deprecated and will be removed from pandas in a future version. Use pandas.concat instead.\n",
            "  ResultsCollection=ResultsCollection.append(IterResults, ignore_index=True)\n",
            "\r 70%|███████   | 711/1012 [2:05:02<1:15:18, 15.01s/it]"
          ]
        },
        {
          "metadata": {
            "tags": null
          },
          "name": "stdout",
          "output_type": "stream",
          "text": [
            "14/14 [==============================] - 0s 3ms/step\n"
          ]
        },
        {
          "metadata": {
            "tags": null
          },
          "name": "stderr",
          "output_type": "stream",
          "text": [
            "<ipython-input-30-84f19216e9c9>:14: FutureWarning: The frame.append method is deprecated and will be removed from pandas in a future version. Use pandas.concat instead.\n",
            "  ResultsCollection=ResultsCollection.append(IterResults, ignore_index=True)\n",
            "\r 70%|███████   | 712/1012 [2:05:17<1:15:00, 15.00s/it]"
          ]
        },
        {
          "metadata": {
            "tags": null
          },
          "name": "stdout",
          "output_type": "stream",
          "text": [
            "14/14 [==============================] - 0s 3ms/step\n"
          ]
        },
        {
          "metadata": {
            "tags": null
          },
          "name": "stderr",
          "output_type": "stream",
          "text": [
            "<ipython-input-30-84f19216e9c9>:14: FutureWarning: The frame.append method is deprecated and will be removed from pandas in a future version. Use pandas.concat instead.\n",
            "  ResultsCollection=ResultsCollection.append(IterResults, ignore_index=True)\n",
            "\r 70%|███████   | 713/1012 [2:05:32<1:14:41, 14.99s/it]"
          ]
        },
        {
          "metadata": {
            "tags": null
          },
          "name": "stdout",
          "output_type": "stream",
          "text": [
            "14/14 [==============================] - 0s 3ms/step\n"
          ]
        },
        {
          "metadata": {
            "tags": null
          },
          "name": "stderr",
          "output_type": "stream",
          "text": [
            "<ipython-input-30-84f19216e9c9>:14: FutureWarning: The frame.append method is deprecated and will be removed from pandas in a future version. Use pandas.concat instead.\n",
            "  ResultsCollection=ResultsCollection.append(IterResults, ignore_index=True)\n",
            "\r 71%|███████   | 714/1012 [2:05:47<1:14:29, 15.00s/it]"
          ]
        },
        {
          "metadata": {
            "tags": null
          },
          "name": "stdout",
          "output_type": "stream",
          "text": [
            "14/14 [==============================] - 0s 4ms/step\n"
          ]
        },
        {
          "metadata": {
            "tags": null
          },
          "name": "stderr",
          "output_type": "stream",
          "text": [
            "<ipython-input-30-84f19216e9c9>:14: FutureWarning: The frame.append method is deprecated and will be removed from pandas in a future version. Use pandas.concat instead.\n",
            "  ResultsCollection=ResultsCollection.append(IterResults, ignore_index=True)\n",
            "\r 71%|███████   | 715/1012 [2:06:02<1:14:15, 15.00s/it]"
          ]
        },
        {
          "metadata": {
            "tags": null
          },
          "name": "stdout",
          "output_type": "stream",
          "text": [
            "14/14 [==============================] - 0s 3ms/step\n"
          ]
        },
        {
          "metadata": {
            "tags": null
          },
          "name": "stderr",
          "output_type": "stream",
          "text": [
            "<ipython-input-30-84f19216e9c9>:14: FutureWarning: The frame.append method is deprecated and will be removed from pandas in a future version. Use pandas.concat instead.\n",
            "  ResultsCollection=ResultsCollection.append(IterResults, ignore_index=True)\n",
            "\r 71%|███████   | 716/1012 [2:06:17<1:13:53, 14.98s/it]"
          ]
        },
        {
          "metadata": {
            "tags": null
          },
          "name": "stdout",
          "output_type": "stream",
          "text": [
            "14/14 [==============================] - 0s 3ms/step\n"
          ]
        },
        {
          "metadata": {
            "tags": null
          },
          "name": "stderr",
          "output_type": "stream",
          "text": [
            "<ipython-input-30-84f19216e9c9>:14: FutureWarning: The frame.append method is deprecated and will be removed from pandas in a future version. Use pandas.concat instead.\n",
            "  ResultsCollection=ResultsCollection.append(IterResults, ignore_index=True)\n",
            "\r 71%|███████   | 717/1012 [2:06:32<1:13:36, 14.97s/it]"
          ]
        },
        {
          "metadata": {
            "tags": null
          },
          "name": "stdout",
          "output_type": "stream",
          "text": [
            "14/14 [==============================] - 0s 3ms/step\n"
          ]
        },
        {
          "metadata": {
            "tags": null
          },
          "name": "stderr",
          "output_type": "stream",
          "text": [
            "<ipython-input-30-84f19216e9c9>:14: FutureWarning: The frame.append method is deprecated and will be removed from pandas in a future version. Use pandas.concat instead.\n",
            "  ResultsCollection=ResultsCollection.append(IterResults, ignore_index=True)\n",
            "\r 71%|███████   | 718/1012 [2:06:49<1:17:02, 15.72s/it]"
          ]
        },
        {
          "metadata": {
            "tags": null
          },
          "name": "stdout",
          "output_type": "stream",
          "text": [
            "14/14 [==============================] - 0s 3ms/step\n"
          ]
        },
        {
          "metadata": {
            "tags": null
          },
          "name": "stderr",
          "output_type": "stream",
          "text": [
            "<ipython-input-30-84f19216e9c9>:14: FutureWarning: The frame.append method is deprecated and will be removed from pandas in a future version. Use pandas.concat instead.\n",
            "  ResultsCollection=ResultsCollection.append(IterResults, ignore_index=True)\n",
            "\r 71%|███████   | 719/1012 [2:07:04<1:15:30, 15.46s/it]"
          ]
        },
        {
          "metadata": {
            "tags": null
          },
          "name": "stdout",
          "output_type": "stream",
          "text": [
            "14/14 [==============================] - 1s 3ms/step\n"
          ]
        },
        {
          "metadata": {
            "tags": null
          },
          "name": "stderr",
          "output_type": "stream",
          "text": [
            "<ipython-input-30-84f19216e9c9>:14: FutureWarning: The frame.append method is deprecated and will be removed from pandas in a future version. Use pandas.concat instead.\n",
            "  ResultsCollection=ResultsCollection.append(IterResults, ignore_index=True)\n",
            "\r 71%|███████   | 720/1012 [2:07:19<1:14:25, 15.29s/it]"
          ]
        },
        {
          "metadata": {
            "tags": null
          },
          "name": "stdout",
          "output_type": "stream",
          "text": [
            "14/14 [==============================] - 0s 3ms/step\n"
          ]
        },
        {
          "metadata": {
            "tags": null
          },
          "name": "stderr",
          "output_type": "stream",
          "text": [
            "<ipython-input-30-84f19216e9c9>:14: FutureWarning: The frame.append method is deprecated and will be removed from pandas in a future version. Use pandas.concat instead.\n",
            "  ResultsCollection=ResultsCollection.append(IterResults, ignore_index=True)\n",
            "\r 71%|███████   | 721/1012 [2:07:37<1:17:32, 15.99s/it]"
          ]
        },
        {
          "metadata": {
            "tags": null
          },
          "name": "stdout",
          "output_type": "stream",
          "text": [
            "14/14 [==============================] - 0s 3ms/step\n"
          ]
        },
        {
          "metadata": {
            "tags": null
          },
          "name": "stderr",
          "output_type": "stream",
          "text": [
            "<ipython-input-30-84f19216e9c9>:14: FutureWarning: The frame.append method is deprecated and will be removed from pandas in a future version. Use pandas.concat instead.\n",
            "  ResultsCollection=ResultsCollection.append(IterResults, ignore_index=True)\n",
            "\r 71%|███████▏  | 722/1012 [2:07:52<1:16:04, 15.74s/it]"
          ]
        },
        {
          "metadata": {
            "tags": null
          },
          "name": "stdout",
          "output_type": "stream",
          "text": [
            "14/14 [==============================] - 0s 3ms/step\n"
          ]
        },
        {
          "metadata": {
            "tags": null
          },
          "name": "stderr",
          "output_type": "stream",
          "text": [
            "<ipython-input-30-84f19216e9c9>:14: FutureWarning: The frame.append method is deprecated and will be removed from pandas in a future version. Use pandas.concat instead.\n",
            "  ResultsCollection=ResultsCollection.append(IterResults, ignore_index=True)\n",
            "\r 71%|███████▏  | 723/1012 [2:08:07<1:14:42, 15.51s/it]"
          ]
        },
        {
          "metadata": {
            "tags": null
          },
          "name": "stdout",
          "output_type": "stream",
          "text": [
            "14/14 [==============================] - 1s 3ms/step\n"
          ]
        },
        {
          "metadata": {
            "tags": null
          },
          "name": "stderr",
          "output_type": "stream",
          "text": [
            "<ipython-input-30-84f19216e9c9>:14: FutureWarning: The frame.append method is deprecated and will be removed from pandas in a future version. Use pandas.concat instead.\n",
            "  ResultsCollection=ResultsCollection.append(IterResults, ignore_index=True)\n",
            "\r 72%|███████▏  | 724/1012 [2:08:22<1:13:59, 15.41s/it]"
          ]
        },
        {
          "metadata": {
            "tags": null
          },
          "name": "stdout",
          "output_type": "stream",
          "text": [
            "14/14 [==============================] - 0s 4ms/step\n"
          ]
        },
        {
          "metadata": {
            "tags": null
          },
          "name": "stderr",
          "output_type": "stream",
          "text": [
            "<ipython-input-30-84f19216e9c9>:14: FutureWarning: The frame.append method is deprecated and will be removed from pandas in a future version. Use pandas.concat instead.\n",
            "  ResultsCollection=ResultsCollection.append(IterResults, ignore_index=True)\n",
            "\r 72%|███████▏  | 725/1012 [2:08:37<1:13:17, 15.32s/it]"
          ]
        },
        {
          "metadata": {
            "tags": null
          },
          "name": "stdout",
          "output_type": "stream",
          "text": [
            "14/14 [==============================] - 1s 3ms/step\n"
          ]
        },
        {
          "metadata": {
            "tags": null
          },
          "name": "stderr",
          "output_type": "stream",
          "text": [
            "<ipython-input-30-84f19216e9c9>:14: FutureWarning: The frame.append method is deprecated and will be removed from pandas in a future version. Use pandas.concat instead.\n",
            "  ResultsCollection=ResultsCollection.append(IterResults, ignore_index=True)\n",
            "\r 72%|███████▏  | 726/1012 [2:08:52<1:12:46, 15.27s/it]"
          ]
        },
        {
          "metadata": {
            "tags": null
          },
          "name": "stdout",
          "output_type": "stream",
          "text": [
            "14/14 [==============================] - 0s 3ms/step\n"
          ]
        },
        {
          "metadata": {
            "tags": null
          },
          "name": "stderr",
          "output_type": "stream",
          "text": [
            "<ipython-input-30-84f19216e9c9>:14: FutureWarning: The frame.append method is deprecated and will be removed from pandas in a future version. Use pandas.concat instead.\n",
            "  ResultsCollection=ResultsCollection.append(IterResults, ignore_index=True)\n",
            "\r 72%|███████▏  | 727/1012 [2:09:07<1:11:57, 15.15s/it]"
          ]
        },
        {
          "metadata": {
            "tags": null
          },
          "name": "stdout",
          "output_type": "stream",
          "text": [
            "14/14 [==============================] - 0s 4ms/step\n"
          ]
        },
        {
          "metadata": {
            "tags": null
          },
          "name": "stderr",
          "output_type": "stream",
          "text": [
            "<ipython-input-30-84f19216e9c9>:14: FutureWarning: The frame.append method is deprecated and will be removed from pandas in a future version. Use pandas.concat instead.\n",
            "  ResultsCollection=ResultsCollection.append(IterResults, ignore_index=True)\n",
            "\r 72%|███████▏  | 728/1012 [2:09:22<1:11:45, 15.16s/it]"
          ]
        },
        {
          "metadata": {
            "tags": null
          },
          "name": "stdout",
          "output_type": "stream",
          "text": [
            "14/14 [==============================] - 1s 3ms/step\n"
          ]
        },
        {
          "metadata": {
            "tags": null
          },
          "name": "stderr",
          "output_type": "stream",
          "text": [
            "<ipython-input-30-84f19216e9c9>:14: FutureWarning: The frame.append method is deprecated and will be removed from pandas in a future version. Use pandas.concat instead.\n",
            "  ResultsCollection=ResultsCollection.append(IterResults, ignore_index=True)\n",
            "\r 72%|███████▏  | 729/1012 [2:09:38<1:11:44, 15.21s/it]"
          ]
        },
        {
          "metadata": {
            "tags": null
          },
          "name": "stdout",
          "output_type": "stream",
          "text": [
            "14/14 [==============================] - 0s 3ms/step\n"
          ]
        },
        {
          "metadata": {
            "tags": null
          },
          "name": "stderr",
          "output_type": "stream",
          "text": [
            "<ipython-input-30-84f19216e9c9>:14: FutureWarning: The frame.append method is deprecated and will be removed from pandas in a future version. Use pandas.concat instead.\n",
            "  ResultsCollection=ResultsCollection.append(IterResults, ignore_index=True)\n",
            "\r 72%|███████▏  | 730/1012 [2:09:53<1:11:39, 15.25s/it]"
          ]
        },
        {
          "metadata": {
            "tags": null
          },
          "name": "stdout",
          "output_type": "stream",
          "text": [
            "14/14 [==============================] - 1s 3ms/step\n"
          ]
        },
        {
          "metadata": {
            "tags": null
          },
          "name": "stderr",
          "output_type": "stream",
          "text": [
            "<ipython-input-30-84f19216e9c9>:14: FutureWarning: The frame.append method is deprecated and will be removed from pandas in a future version. Use pandas.concat instead.\n",
            "  ResultsCollection=ResultsCollection.append(IterResults, ignore_index=True)\n",
            "\r 72%|███████▏  | 731/1012 [2:10:08<1:11:33, 15.28s/it]"
          ]
        },
        {
          "metadata": {
            "tags": null
          },
          "name": "stdout",
          "output_type": "stream",
          "text": [
            "14/14 [==============================] - 1s 3ms/step\n"
          ]
        },
        {
          "metadata": {
            "tags": null
          },
          "name": "stderr",
          "output_type": "stream",
          "text": [
            "<ipython-input-30-84f19216e9c9>:14: FutureWarning: The frame.append method is deprecated and will be removed from pandas in a future version. Use pandas.concat instead.\n",
            "  ResultsCollection=ResultsCollection.append(IterResults, ignore_index=True)\n",
            "\r 72%|███████▏  | 732/1012 [2:10:24<1:11:29, 15.32s/it]"
          ]
        },
        {
          "metadata": {
            "tags": null
          },
          "name": "stdout",
          "output_type": "stream",
          "text": [
            "14/14 [==============================] - 0s 3ms/step\n"
          ]
        },
        {
          "metadata": {
            "tags": null
          },
          "name": "stderr",
          "output_type": "stream",
          "text": [
            "<ipython-input-30-84f19216e9c9>:14: FutureWarning: The frame.append method is deprecated and will be removed from pandas in a future version. Use pandas.concat instead.\n",
            "  ResultsCollection=ResultsCollection.append(IterResults, ignore_index=True)\n",
            "\r 72%|███████▏  | 733/1012 [2:10:39<1:11:21, 15.35s/it]"
          ]
        },
        {
          "metadata": {
            "tags": null
          },
          "name": "stdout",
          "output_type": "stream",
          "text": [
            "14/14 [==============================] - 0s 3ms/step\n"
          ]
        },
        {
          "metadata": {
            "tags": null
          },
          "name": "stderr",
          "output_type": "stream",
          "text": [
            "<ipython-input-30-84f19216e9c9>:14: FutureWarning: The frame.append method is deprecated and will be removed from pandas in a future version. Use pandas.concat instead.\n",
            "  ResultsCollection=ResultsCollection.append(IterResults, ignore_index=True)\n",
            "\r 73%|███████▎  | 734/1012 [2:10:55<1:11:17, 15.39s/it]"
          ]
        },
        {
          "metadata": {
            "tags": null
          },
          "name": "stdout",
          "output_type": "stream",
          "text": [
            "14/14 [==============================] - 1s 4ms/step\n"
          ]
        },
        {
          "metadata": {
            "tags": null
          },
          "name": "stderr",
          "output_type": "stream",
          "text": [
            "<ipython-input-30-84f19216e9c9>:14: FutureWarning: The frame.append method is deprecated and will be removed from pandas in a future version. Use pandas.concat instead.\n",
            "  ResultsCollection=ResultsCollection.append(IterResults, ignore_index=True)\n",
            "\r 73%|███████▎  | 735/1012 [2:11:11<1:11:29, 15.48s/it]"
          ]
        },
        {
          "metadata": {
            "tags": null
          },
          "name": "stdout",
          "output_type": "stream",
          "text": [
            "14/14 [==============================] - 1s 3ms/step\n"
          ]
        },
        {
          "metadata": {
            "tags": null
          },
          "name": "stderr",
          "output_type": "stream",
          "text": [
            "<ipython-input-30-84f19216e9c9>:14: FutureWarning: The frame.append method is deprecated and will be removed from pandas in a future version. Use pandas.concat instead.\n",
            "  ResultsCollection=ResultsCollection.append(IterResults, ignore_index=True)\n",
            "\r 73%|███████▎  | 736/1012 [2:11:26<1:11:37, 15.57s/it]"
          ]
        },
        {
          "metadata": {
            "tags": null
          },
          "name": "stdout",
          "output_type": "stream",
          "text": [
            "14/14 [==============================] - 1s 3ms/step\n"
          ]
        },
        {
          "metadata": {
            "tags": null
          },
          "name": "stderr",
          "output_type": "stream",
          "text": [
            "<ipython-input-30-84f19216e9c9>:14: FutureWarning: The frame.append method is deprecated and will be removed from pandas in a future version. Use pandas.concat instead.\n",
            "  ResultsCollection=ResultsCollection.append(IterResults, ignore_index=True)\n",
            "\r 73%|███████▎  | 737/1012 [2:11:42<1:11:40, 15.64s/it]/usr/local/lib/python3.10/dist-packages/arch/univariate/base.py:766: ConvergenceWarning: The optimizer returned code 9. The message is:\n",
            "Iteration limit reached\n",
            "See scipy.optimize.fmin_slsqp for code meaning.\n",
            "\n",
            "  warnings.warn(\n"
          ]
        },
        {
          "metadata": {
            "tags": null
          },
          "name": "stdout",
          "output_type": "stream",
          "text": [
            "14/14 [==============================] - 1s 3ms/step\n"
          ]
        },
        {
          "metadata": {
            "tags": null
          },
          "name": "stderr",
          "output_type": "stream",
          "text": [
            "<ipython-input-30-84f19216e9c9>:14: FutureWarning: The frame.append method is deprecated and will be removed from pandas in a future version. Use pandas.concat instead.\n",
            "  ResultsCollection=ResultsCollection.append(IterResults, ignore_index=True)\n",
            "\r 73%|███████▎  | 738/1012 [2:11:58<1:11:10, 15.58s/it]/usr/local/lib/python3.10/dist-packages/arch/univariate/base.py:766: ConvergenceWarning: The optimizer returned code 9. The message is:\n",
            "Iteration limit reached\n",
            "See scipy.optimize.fmin_slsqp for code meaning.\n",
            "\n",
            "  warnings.warn(\n"
          ]
        },
        {
          "metadata": {
            "tags": null
          },
          "name": "stdout",
          "output_type": "stream",
          "text": [
            "14/14 [==============================] - 0s 3ms/step\n"
          ]
        },
        {
          "metadata": {
            "tags": null
          },
          "name": "stderr",
          "output_type": "stream",
          "text": [
            "<ipython-input-30-84f19216e9c9>:14: FutureWarning: The frame.append method is deprecated and will be removed from pandas in a future version. Use pandas.concat instead.\n",
            "  ResultsCollection=ResultsCollection.append(IterResults, ignore_index=True)\n",
            "\r 73%|███████▎  | 739/1012 [2:12:13<1:11:09, 15.64s/it]"
          ]
        },
        {
          "metadata": {
            "tags": null
          },
          "name": "stdout",
          "output_type": "stream",
          "text": [
            "14/14 [==============================] - 1s 3ms/step\n"
          ]
        },
        {
          "metadata": {
            "tags": null
          },
          "name": "stderr",
          "output_type": "stream",
          "text": [
            "<ipython-input-30-84f19216e9c9>:14: FutureWarning: The frame.append method is deprecated and will be removed from pandas in a future version. Use pandas.concat instead.\n",
            "  ResultsCollection=ResultsCollection.append(IterResults, ignore_index=True)\n",
            "\r 73%|███████▎  | 740/1012 [2:12:29<1:11:10, 15.70s/it]"
          ]
        },
        {
          "metadata": {
            "tags": null
          },
          "name": "stdout",
          "output_type": "stream",
          "text": [
            "14/14 [==============================] - 0s 4ms/step\n"
          ]
        },
        {
          "metadata": {
            "tags": null
          },
          "name": "stderr",
          "output_type": "stream",
          "text": [
            "<ipython-input-30-84f19216e9c9>:14: FutureWarning: The frame.append method is deprecated and will be removed from pandas in a future version. Use pandas.concat instead.\n",
            "  ResultsCollection=ResultsCollection.append(IterResults, ignore_index=True)\n",
            "\r 73%|███████▎  | 741/1012 [2:12:45<1:11:17, 15.78s/it]/usr/local/lib/python3.10/dist-packages/arch/univariate/base.py:766: ConvergenceWarning: The optimizer returned code 9. The message is:\n",
            "Iteration limit reached\n",
            "See scipy.optimize.fmin_slsqp for code meaning.\n",
            "\n",
            "  warnings.warn(\n"
          ]
        },
        {
          "metadata": {
            "tags": null
          },
          "name": "stdout",
          "output_type": "stream",
          "text": [
            "14/14 [==============================] - 1s 3ms/step\n"
          ]
        },
        {
          "metadata": {
            "tags": null
          },
          "name": "stderr",
          "output_type": "stream",
          "text": [
            "<ipython-input-30-84f19216e9c9>:14: FutureWarning: The frame.append method is deprecated and will be removed from pandas in a future version. Use pandas.concat instead.\n",
            "  ResultsCollection=ResultsCollection.append(IterResults, ignore_index=True)\n",
            "\r 73%|███████▎  | 742/1012 [2:13:01<1:11:13, 15.83s/it]"
          ]
        },
        {
          "metadata": {
            "tags": null
          },
          "name": "stdout",
          "output_type": "stream",
          "text": [
            "14/14 [==============================] - 1s 4ms/step\n"
          ]
        },
        {
          "metadata": {
            "tags": null
          },
          "name": "stderr",
          "output_type": "stream",
          "text": [
            "<ipython-input-30-84f19216e9c9>:14: FutureWarning: The frame.append method is deprecated and will be removed from pandas in a future version. Use pandas.concat instead.\n",
            "  ResultsCollection=ResultsCollection.append(IterResults, ignore_index=True)\n",
            "\r 73%|███████▎  | 743/1012 [2:13:17<1:10:32, 15.73s/it]"
          ]
        },
        {
          "metadata": {
            "tags": null
          },
          "name": "stdout",
          "output_type": "stream",
          "text": [
            "14/14 [==============================] - 0s 3ms/step\n"
          ]
        },
        {
          "metadata": {
            "tags": null
          },
          "name": "stderr",
          "output_type": "stream",
          "text": [
            "<ipython-input-30-84f19216e9c9>:14: FutureWarning: The frame.append method is deprecated and will be removed from pandas in a future version. Use pandas.concat instead.\n",
            "  ResultsCollection=ResultsCollection.append(IterResults, ignore_index=True)\n",
            "\r 74%|███████▎  | 744/1012 [2:13:32<1:09:50, 15.63s/it]"
          ]
        },
        {
          "metadata": {
            "tags": null
          },
          "name": "stdout",
          "output_type": "stream",
          "text": [
            "14/14 [==============================] - 0s 3ms/step\n"
          ]
        },
        {
          "metadata": {
            "tags": null
          },
          "name": "stderr",
          "output_type": "stream",
          "text": [
            "<ipython-input-30-84f19216e9c9>:14: FutureWarning: The frame.append method is deprecated and will be removed from pandas in a future version. Use pandas.concat instead.\n",
            "  ResultsCollection=ResultsCollection.append(IterResults, ignore_index=True)\n",
            "\r 74%|███████▎  | 745/1012 [2:13:48<1:09:33, 15.63s/it]"
          ]
        },
        {
          "metadata": {
            "tags": null
          },
          "name": "stdout",
          "output_type": "stream",
          "text": [
            "14/14 [==============================] - 1s 3ms/step\n"
          ]
        },
        {
          "metadata": {
            "tags": null
          },
          "name": "stderr",
          "output_type": "stream",
          "text": [
            "<ipython-input-30-84f19216e9c9>:14: FutureWarning: The frame.append method is deprecated and will be removed from pandas in a future version. Use pandas.concat instead.\n",
            "  ResultsCollection=ResultsCollection.append(IterResults, ignore_index=True)\n",
            "\r 74%|███████▎  | 746/1012 [2:14:03<1:09:06, 15.59s/it]"
          ]
        },
        {
          "metadata": {
            "tags": null
          },
          "name": "stdout",
          "output_type": "stream",
          "text": [
            "14/14 [==============================] - 0s 3ms/step\n"
          ]
        },
        {
          "metadata": {
            "tags": null
          },
          "name": "stderr",
          "output_type": "stream",
          "text": [
            "<ipython-input-30-84f19216e9c9>:14: FutureWarning: The frame.append method is deprecated and will be removed from pandas in a future version. Use pandas.concat instead.\n",
            "  ResultsCollection=ResultsCollection.append(IterResults, ignore_index=True)\n",
            "\r 74%|███████▍  | 747/1012 [2:14:18<1:08:29, 15.51s/it]/usr/local/lib/python3.10/dist-packages/arch/univariate/base.py:766: ConvergenceWarning: The optimizer returned code 9. The message is:\n",
            "Iteration limit reached\n",
            "See scipy.optimize.fmin_slsqp for code meaning.\n",
            "\n",
            "  warnings.warn(\n"
          ]
        },
        {
          "metadata": {
            "tags": null
          },
          "name": "stdout",
          "output_type": "stream",
          "text": [
            "14/14 [==============================] - 0s 3ms/step\n"
          ]
        },
        {
          "metadata": {
            "tags": null
          },
          "name": "stderr",
          "output_type": "stream",
          "text": [
            "<ipython-input-30-84f19216e9c9>:14: FutureWarning: The frame.append method is deprecated and will be removed from pandas in a future version. Use pandas.concat instead.\n",
            "  ResultsCollection=ResultsCollection.append(IterResults, ignore_index=True)\n",
            "\r 74%|███████▍  | 748/1012 [2:14:34<1:08:20, 15.53s/it]"
          ]
        },
        {
          "metadata": {
            "tags": null
          },
          "name": "stdout",
          "output_type": "stream",
          "text": [
            "14/14 [==============================] - 1s 4ms/step\n"
          ]
        },
        {
          "metadata": {
            "tags": null
          },
          "name": "stderr",
          "output_type": "stream",
          "text": [
            "<ipython-input-30-84f19216e9c9>:14: FutureWarning: The frame.append method is deprecated and will be removed from pandas in a future version. Use pandas.concat instead.\n",
            "  ResultsCollection=ResultsCollection.append(IterResults, ignore_index=True)\n",
            "\r 74%|███████▍  | 749/1012 [2:14:49<1:07:46, 15.46s/it]"
          ]
        },
        {
          "metadata": {
            "tags": null
          },
          "name": "stdout",
          "output_type": "stream",
          "text": [
            "14/14 [==============================] - 0s 3ms/step\n"
          ]
        },
        {
          "metadata": {
            "tags": null
          },
          "name": "stderr",
          "output_type": "stream",
          "text": [
            "<ipython-input-30-84f19216e9c9>:14: FutureWarning: The frame.append method is deprecated and will be removed from pandas in a future version. Use pandas.concat instead.\n",
            "  ResultsCollection=ResultsCollection.append(IterResults, ignore_index=True)\n",
            "\r 74%|███████▍  | 750/1012 [2:15:05<1:07:25, 15.44s/it]"
          ]
        },
        {
          "metadata": {
            "tags": null
          },
          "name": "stdout",
          "output_type": "stream",
          "text": [
            "14/14 [==============================] - 0s 3ms/step\n"
          ]
        },
        {
          "metadata": {
            "tags": null
          },
          "name": "stderr",
          "output_type": "stream",
          "text": [
            "<ipython-input-30-84f19216e9c9>:14: FutureWarning: The frame.append method is deprecated and will be removed from pandas in a future version. Use pandas.concat instead.\n",
            "  ResultsCollection=ResultsCollection.append(IterResults, ignore_index=True)\n",
            "\r 74%|███████▍  | 751/1012 [2:15:20<1:07:12, 15.45s/it]"
          ]
        },
        {
          "metadata": {
            "tags": null
          },
          "name": "stdout",
          "output_type": "stream",
          "text": [
            "14/14 [==============================] - 0s 3ms/step\n"
          ]
        },
        {
          "metadata": {
            "tags": null
          },
          "name": "stderr",
          "output_type": "stream",
          "text": [
            "<ipython-input-30-84f19216e9c9>:14: FutureWarning: The frame.append method is deprecated and will be removed from pandas in a future version. Use pandas.concat instead.\n",
            "  ResultsCollection=ResultsCollection.append(IterResults, ignore_index=True)\n",
            "\r 74%|███████▍  | 752/1012 [2:15:36<1:06:57, 15.45s/it]"
          ]
        },
        {
          "metadata": {
            "tags": null
          },
          "name": "stdout",
          "output_type": "stream",
          "text": [
            "14/14 [==============================] - 0s 3ms/step\n"
          ]
        },
        {
          "metadata": {
            "tags": null
          },
          "name": "stderr",
          "output_type": "stream",
          "text": [
            "<ipython-input-30-84f19216e9c9>:14: FutureWarning: The frame.append method is deprecated and will be removed from pandas in a future version. Use pandas.concat instead.\n",
            "  ResultsCollection=ResultsCollection.append(IterResults, ignore_index=True)\n",
            "\r 74%|███████▍  | 753/1012 [2:15:51<1:06:15, 15.35s/it]"
          ]
        },
        {
          "metadata": {
            "tags": null
          },
          "name": "stdout",
          "output_type": "stream",
          "text": [
            "14/14 [==============================] - 0s 3ms/step\n"
          ]
        },
        {
          "metadata": {
            "tags": null
          },
          "name": "stderr",
          "output_type": "stream",
          "text": [
            "<ipython-input-30-84f19216e9c9>:14: FutureWarning: The frame.append method is deprecated and will be removed from pandas in a future version. Use pandas.concat instead.\n",
            "  ResultsCollection=ResultsCollection.append(IterResults, ignore_index=True)\n",
            "\r 75%|███████▍  | 754/1012 [2:16:06<1:05:59, 15.35s/it]"
          ]
        },
        {
          "metadata": {
            "tags": null
          },
          "name": "stdout",
          "output_type": "stream",
          "text": [
            "14/14 [==============================] - 0s 3ms/step\n"
          ]
        },
        {
          "metadata": {
            "tags": null
          },
          "name": "stderr",
          "output_type": "stream",
          "text": [
            "<ipython-input-30-84f19216e9c9>:14: FutureWarning: The frame.append method is deprecated and will be removed from pandas in a future version. Use pandas.concat instead.\n",
            "  ResultsCollection=ResultsCollection.append(IterResults, ignore_index=True)\n",
            "\r 75%|███████▍  | 755/1012 [2:16:22<1:05:53, 15.38s/it]"
          ]
        },
        {
          "metadata": {
            "tags": null
          },
          "name": "stdout",
          "output_type": "stream",
          "text": [
            "14/14 [==============================] - 0s 3ms/step\n"
          ]
        },
        {
          "metadata": {
            "tags": null
          },
          "name": "stderr",
          "output_type": "stream",
          "text": [
            "<ipython-input-30-84f19216e9c9>:14: FutureWarning: The frame.append method is deprecated and will be removed from pandas in a future version. Use pandas.concat instead.\n",
            "  ResultsCollection=ResultsCollection.append(IterResults, ignore_index=True)\n",
            "\r 75%|███████▍  | 756/1012 [2:16:37<1:05:17, 15.30s/it]"
          ]
        },
        {
          "metadata": {
            "tags": null
          },
          "name": "stdout",
          "output_type": "stream",
          "text": [
            "14/14 [==============================] - 0s 3ms/step\n"
          ]
        },
        {
          "metadata": {
            "tags": null
          },
          "name": "stderr",
          "output_type": "stream",
          "text": [
            "<ipython-input-30-84f19216e9c9>:14: FutureWarning: The frame.append method is deprecated and will be removed from pandas in a future version. Use pandas.concat instead.\n",
            "  ResultsCollection=ResultsCollection.append(IterResults, ignore_index=True)\n",
            "\r 75%|███████▍  | 757/1012 [2:16:52<1:05:01, 15.30s/it]"
          ]
        },
        {
          "metadata": {
            "tags": null
          },
          "name": "stdout",
          "output_type": "stream",
          "text": [
            "14/14 [==============================] - 0s 3ms/step\n"
          ]
        },
        {
          "metadata": {
            "tags": null
          },
          "name": "stderr",
          "output_type": "stream",
          "text": [
            "<ipython-input-30-84f19216e9c9>:14: FutureWarning: The frame.append method is deprecated and will be removed from pandas in a future version. Use pandas.concat instead.\n",
            "  ResultsCollection=ResultsCollection.append(IterResults, ignore_index=True)\n",
            "\r 75%|███████▍  | 758/1012 [2:17:07<1:04:50, 15.32s/it]"
          ]
        },
        {
          "metadata": {
            "tags": null
          },
          "name": "stdout",
          "output_type": "stream",
          "text": [
            "14/14 [==============================] - 0s 3ms/step\n"
          ]
        },
        {
          "metadata": {
            "tags": null
          },
          "name": "stderr",
          "output_type": "stream",
          "text": [
            "<ipython-input-30-84f19216e9c9>:14: FutureWarning: The frame.append method is deprecated and will be removed from pandas in a future version. Use pandas.concat instead.\n",
            "  ResultsCollection=ResultsCollection.append(IterResults, ignore_index=True)\n",
            "\r 75%|███████▌  | 759/1012 [2:17:23<1:04:30, 15.30s/it]"
          ]
        },
        {
          "metadata": {
            "tags": null
          },
          "name": "stdout",
          "output_type": "stream",
          "text": [
            "14/14 [==============================] - 0s 3ms/step\n"
          ]
        },
        {
          "metadata": {
            "tags": null
          },
          "name": "stderr",
          "output_type": "stream",
          "text": [
            "<ipython-input-30-84f19216e9c9>:14: FutureWarning: The frame.append method is deprecated and will be removed from pandas in a future version. Use pandas.concat instead.\n",
            "  ResultsCollection=ResultsCollection.append(IterResults, ignore_index=True)\n",
            "\r 75%|███████▌  | 760/1012 [2:17:38<1:04:09, 15.28s/it]"
          ]
        },
        {
          "metadata": {
            "tags": null
          },
          "name": "stdout",
          "output_type": "stream",
          "text": [
            "14/14 [==============================] - 0s 3ms/step\n"
          ]
        },
        {
          "metadata": {
            "tags": null
          },
          "name": "stderr",
          "output_type": "stream",
          "text": [
            "<ipython-input-30-84f19216e9c9>:14: FutureWarning: The frame.append method is deprecated and will be removed from pandas in a future version. Use pandas.concat instead.\n",
            "  ResultsCollection=ResultsCollection.append(IterResults, ignore_index=True)\n",
            "\r 75%|███████▌  | 761/1012 [2:17:53<1:03:37, 15.21s/it]"
          ]
        },
        {
          "metadata": {
            "tags": null
          },
          "name": "stdout",
          "output_type": "stream",
          "text": [
            "14/14 [==============================] - 0s 3ms/step\n"
          ]
        },
        {
          "metadata": {
            "tags": null
          },
          "name": "stderr",
          "output_type": "stream",
          "text": [
            "<ipython-input-30-84f19216e9c9>:14: FutureWarning: The frame.append method is deprecated and will be removed from pandas in a future version. Use pandas.concat instead.\n",
            "  ResultsCollection=ResultsCollection.append(IterResults, ignore_index=True)\n",
            "\r 75%|███████▌  | 762/1012 [2:18:08<1:03:23, 15.21s/it]"
          ]
        },
        {
          "metadata": {
            "tags": null
          },
          "name": "stdout",
          "output_type": "stream",
          "text": [
            "14/14 [==============================] - 0s 3ms/step\n"
          ]
        },
        {
          "metadata": {
            "tags": null
          },
          "name": "stderr",
          "output_type": "stream",
          "text": [
            "<ipython-input-30-84f19216e9c9>:14: FutureWarning: The frame.append method is deprecated and will be removed from pandas in a future version. Use pandas.concat instead.\n",
            "  ResultsCollection=ResultsCollection.append(IterResults, ignore_index=True)\n",
            "\r 75%|███████▌  | 763/1012 [2:18:23<1:03:16, 15.25s/it]"
          ]
        },
        {
          "metadata": {
            "tags": null
          },
          "name": "stdout",
          "output_type": "stream",
          "text": [
            "14/14 [==============================] - 0s 3ms/step\n"
          ]
        },
        {
          "metadata": {
            "tags": null
          },
          "name": "stderr",
          "output_type": "stream",
          "text": [
            "<ipython-input-30-84f19216e9c9>:14: FutureWarning: The frame.append method is deprecated and will be removed from pandas in a future version. Use pandas.concat instead.\n",
            "  ResultsCollection=ResultsCollection.append(IterResults, ignore_index=True)\n",
            "\r 75%|███████▌  | 764/1012 [2:18:39<1:02:55, 15.22s/it]"
          ]
        },
        {
          "metadata": {
            "tags": null
          },
          "name": "stdout",
          "output_type": "stream",
          "text": [
            "14/14 [==============================] - 0s 3ms/step\n"
          ]
        },
        {
          "metadata": {
            "tags": null
          },
          "name": "stderr",
          "output_type": "stream",
          "text": [
            "<ipython-input-30-84f19216e9c9>:14: FutureWarning: The frame.append method is deprecated and will be removed from pandas in a future version. Use pandas.concat instead.\n",
            "  ResultsCollection=ResultsCollection.append(IterResults, ignore_index=True)\n",
            "\r 76%|███████▌  | 765/1012 [2:18:54<1:02:50, 15.27s/it]"
          ]
        },
        {
          "metadata": {
            "tags": null
          },
          "name": "stdout",
          "output_type": "stream",
          "text": [
            "14/14 [==============================] - 0s 3ms/step\n"
          ]
        },
        {
          "metadata": {
            "tags": null
          },
          "name": "stderr",
          "output_type": "stream",
          "text": [
            "<ipython-input-30-84f19216e9c9>:14: FutureWarning: The frame.append method is deprecated and will be removed from pandas in a future version. Use pandas.concat instead.\n",
            "  ResultsCollection=ResultsCollection.append(IterResults, ignore_index=True)\n",
            "\r 76%|███████▌  | 766/1012 [2:19:09<1:02:38, 15.28s/it]"
          ]
        },
        {
          "metadata": {
            "tags": null
          },
          "name": "stdout",
          "output_type": "stream",
          "text": [
            "14/14 [==============================] - 1s 3ms/step\n"
          ]
        },
        {
          "metadata": {
            "tags": null
          },
          "name": "stderr",
          "output_type": "stream",
          "text": [
            "<ipython-input-30-84f19216e9c9>:14: FutureWarning: The frame.append method is deprecated and will be removed from pandas in a future version. Use pandas.concat instead.\n",
            "  ResultsCollection=ResultsCollection.append(IterResults, ignore_index=True)\n",
            "\r 76%|███████▌  | 767/1012 [2:19:25<1:02:26, 15.29s/it]/usr/local/lib/python3.10/dist-packages/arch/univariate/base.py:766: ConvergenceWarning: The optimizer returned code 9. The message is:\n",
            "Iteration limit reached\n",
            "See scipy.optimize.fmin_slsqp for code meaning.\n",
            "\n",
            "  warnings.warn(\n"
          ]
        },
        {
          "metadata": {
            "tags": null
          },
          "name": "stdout",
          "output_type": "stream",
          "text": [
            "14/14 [==============================] - 0s 3ms/step\n"
          ]
        },
        {
          "metadata": {
            "tags": null
          },
          "name": "stderr",
          "output_type": "stream",
          "text": [
            "<ipython-input-30-84f19216e9c9>:14: FutureWarning: The frame.append method is deprecated and will be removed from pandas in a future version. Use pandas.concat instead.\n",
            "  ResultsCollection=ResultsCollection.append(IterResults, ignore_index=True)\n",
            "\r 76%|███████▌  | 768/1012 [2:19:40<1:02:38, 15.40s/it]"
          ]
        },
        {
          "metadata": {
            "tags": null
          },
          "name": "stdout",
          "output_type": "stream",
          "text": [
            "14/14 [==============================] - 0s 3ms/step\n"
          ]
        },
        {
          "metadata": {
            "tags": null
          },
          "name": "stderr",
          "output_type": "stream",
          "text": [
            "<ipython-input-30-84f19216e9c9>:14: FutureWarning: The frame.append method is deprecated and will be removed from pandas in a future version. Use pandas.concat instead.\n",
            "  ResultsCollection=ResultsCollection.append(IterResults, ignore_index=True)\n",
            "\r 76%|███████▌  | 769/1012 [2:19:55<1:02:05, 15.33s/it]"
          ]
        },
        {
          "metadata": {
            "tags": null
          },
          "name": "stdout",
          "output_type": "stream",
          "text": [
            "14/14 [==============================] - 1s 3ms/step\n"
          ]
        },
        {
          "metadata": {
            "tags": null
          },
          "name": "stderr",
          "output_type": "stream",
          "text": [
            "<ipython-input-30-84f19216e9c9>:14: FutureWarning: The frame.append method is deprecated and will be removed from pandas in a future version. Use pandas.concat instead.\n",
            "  ResultsCollection=ResultsCollection.append(IterResults, ignore_index=True)\n",
            "\r 76%|███████▌  | 770/1012 [2:20:11<1:01:53, 15.34s/it]"
          ]
        },
        {
          "metadata": {
            "tags": null
          },
          "name": "stdout",
          "output_type": "stream",
          "text": [
            "14/14 [==============================] - 0s 3ms/step\n"
          ]
        },
        {
          "metadata": {
            "tags": null
          },
          "name": "stderr",
          "output_type": "stream",
          "text": [
            "<ipython-input-30-84f19216e9c9>:14: FutureWarning: The frame.append method is deprecated and will be removed from pandas in a future version. Use pandas.concat instead.\n",
            "  ResultsCollection=ResultsCollection.append(IterResults, ignore_index=True)\n",
            "\r 76%|███████▌  | 771/1012 [2:20:26<1:01:30, 15.31s/it]"
          ]
        },
        {
          "metadata": {
            "tags": null
          },
          "name": "stdout",
          "output_type": "stream",
          "text": [
            "14/14 [==============================] - 0s 3ms/step\n"
          ]
        },
        {
          "metadata": {
            "tags": null
          },
          "name": "stderr",
          "output_type": "stream",
          "text": [
            "<ipython-input-30-84f19216e9c9>:14: FutureWarning: The frame.append method is deprecated and will be removed from pandas in a future version. Use pandas.concat instead.\n",
            "  ResultsCollection=ResultsCollection.append(IterResults, ignore_index=True)\n",
            "\r 76%|███████▋  | 772/1012 [2:20:41<1:01:12, 15.30s/it]"
          ]
        },
        {
          "metadata": {
            "tags": null
          },
          "name": "stdout",
          "output_type": "stream",
          "text": [
            "14/14 [==============================] - 0s 3ms/step\n"
          ]
        },
        {
          "metadata": {
            "tags": null
          },
          "name": "stderr",
          "output_type": "stream",
          "text": [
            "<ipython-input-30-84f19216e9c9>:14: FutureWarning: The frame.append method is deprecated and will be removed from pandas in a future version. Use pandas.concat instead.\n",
            "  ResultsCollection=ResultsCollection.append(IterResults, ignore_index=True)\n",
            "\r 76%|███████▋  | 773/1012 [2:20:57<1:01:03, 15.33s/it]"
          ]
        },
        {
          "metadata": {
            "tags": null
          },
          "name": "stdout",
          "output_type": "stream",
          "text": [
            "14/14 [==============================] - 0s 3ms/step\n"
          ]
        },
        {
          "metadata": {
            "tags": null
          },
          "name": "stderr",
          "output_type": "stream",
          "text": [
            "<ipython-input-30-84f19216e9c9>:14: FutureWarning: The frame.append method is deprecated and will be removed from pandas in a future version. Use pandas.concat instead.\n",
            "  ResultsCollection=ResultsCollection.append(IterResults, ignore_index=True)\n",
            "\r 76%|███████▋  | 774/1012 [2:21:12<1:00:44, 15.31s/it]"
          ]
        },
        {
          "metadata": {
            "tags": null
          },
          "name": "stdout",
          "output_type": "stream",
          "text": [
            "14/14 [==============================] - 0s 3ms/step\n"
          ]
        },
        {
          "metadata": {
            "tags": null
          },
          "name": "stderr",
          "output_type": "stream",
          "text": [
            "<ipython-input-30-84f19216e9c9>:14: FutureWarning: The frame.append method is deprecated and will be removed from pandas in a future version. Use pandas.concat instead.\n",
            "  ResultsCollection=ResultsCollection.append(IterResults, ignore_index=True)\n",
            "\r 77%|███████▋  | 775/1012 [2:21:27<1:00:29, 15.32s/it]/usr/local/lib/python3.10/dist-packages/arch/univariate/base.py:766: ConvergenceWarning: The optimizer returned code 9. The message is:\n",
            "Iteration limit reached\n",
            "See scipy.optimize.fmin_slsqp for code meaning.\n",
            "\n",
            "  warnings.warn(\n"
          ]
        },
        {
          "metadata": {
            "tags": null
          },
          "name": "stdout",
          "output_type": "stream",
          "text": [
            "14/14 [==============================] - 0s 3ms/step\n"
          ]
        },
        {
          "metadata": {
            "tags": null
          },
          "name": "stderr",
          "output_type": "stream",
          "text": [
            "<ipython-input-30-84f19216e9c9>:14: FutureWarning: The frame.append method is deprecated and will be removed from pandas in a future version. Use pandas.concat instead.\n",
            "  ResultsCollection=ResultsCollection.append(IterResults, ignore_index=True)\n",
            "\r 77%|███████▋  | 776/1012 [2:21:43<1:00:40, 15.43s/it]"
          ]
        },
        {
          "metadata": {
            "tags": null
          },
          "name": "stdout",
          "output_type": "stream",
          "text": [
            "14/14 [==============================] - 0s 3ms/step\n"
          ]
        },
        {
          "metadata": {
            "tags": null
          },
          "name": "stderr",
          "output_type": "stream",
          "text": [
            "<ipython-input-30-84f19216e9c9>:14: FutureWarning: The frame.append method is deprecated and will be removed from pandas in a future version. Use pandas.concat instead.\n",
            "  ResultsCollection=ResultsCollection.append(IterResults, ignore_index=True)\n",
            "\r 77%|███████▋  | 777/1012 [2:21:58<1:00:13, 15.38s/it]"
          ]
        },
        {
          "metadata": {
            "tags": null
          },
          "name": "stdout",
          "output_type": "stream",
          "text": [
            "14/14 [==============================] - 0s 3ms/step\n"
          ]
        },
        {
          "metadata": {
            "tags": null
          },
          "name": "stderr",
          "output_type": "stream",
          "text": [
            "<ipython-input-30-84f19216e9c9>:14: FutureWarning: The frame.append method is deprecated and will be removed from pandas in a future version. Use pandas.concat instead.\n",
            "  ResultsCollection=ResultsCollection.append(IterResults, ignore_index=True)\n",
            "\r 77%|███████▋  | 778/1012 [2:22:13<59:51, 15.35s/it]  /usr/local/lib/python3.10/dist-packages/arch/univariate/base.py:766: ConvergenceWarning: The optimizer returned code 9. The message is:\n",
            "Iteration limit reached\n",
            "See scipy.optimize.fmin_slsqp for code meaning.\n",
            "\n",
            "  warnings.warn(\n"
          ]
        },
        {
          "metadata": {
            "tags": null
          },
          "name": "stdout",
          "output_type": "stream",
          "text": [
            "14/14 [==============================] - 0s 3ms/step\n"
          ]
        },
        {
          "metadata": {
            "tags": null
          },
          "name": "stderr",
          "output_type": "stream",
          "text": [
            "<ipython-input-30-84f19216e9c9>:14: FutureWarning: The frame.append method is deprecated and will be removed from pandas in a future version. Use pandas.concat instead.\n",
            "  ResultsCollection=ResultsCollection.append(IterResults, ignore_index=True)\n",
            "\r 77%|███████▋  | 779/1012 [2:22:29<59:44, 15.39s/it]"
          ]
        },
        {
          "metadata": {
            "tags": null
          },
          "name": "stdout",
          "output_type": "stream",
          "text": [
            "14/14 [==============================] - 0s 3ms/step\n"
          ]
        },
        {
          "metadata": {
            "tags": null
          },
          "name": "stderr",
          "output_type": "stream",
          "text": [
            "<ipython-input-30-84f19216e9c9>:14: FutureWarning: The frame.append method is deprecated and will be removed from pandas in a future version. Use pandas.concat instead.\n",
            "  ResultsCollection=ResultsCollection.append(IterResults, ignore_index=True)\n",
            "\r 77%|███████▋  | 780/1012 [2:22:44<59:39, 15.43s/it]"
          ]
        },
        {
          "metadata": {
            "tags": null
          },
          "name": "stdout",
          "output_type": "stream",
          "text": [
            "14/14 [==============================] - 0s 3ms/step\n"
          ]
        },
        {
          "metadata": {
            "tags": null
          },
          "name": "stderr",
          "output_type": "stream",
          "text": [
            "<ipython-input-30-84f19216e9c9>:14: FutureWarning: The frame.append method is deprecated and will be removed from pandas in a future version. Use pandas.concat instead.\n",
            "  ResultsCollection=ResultsCollection.append(IterResults, ignore_index=True)\n",
            "\r 77%|███████▋  | 781/1012 [2:23:00<59:22, 15.42s/it]"
          ]
        },
        {
          "metadata": {
            "tags": null
          },
          "name": "stdout",
          "output_type": "stream",
          "text": [
            "14/14 [==============================] - 0s 3ms/step\n"
          ]
        },
        {
          "metadata": {
            "tags": null
          },
          "name": "stderr",
          "output_type": "stream",
          "text": [
            "<ipython-input-30-84f19216e9c9>:14: FutureWarning: The frame.append method is deprecated and will be removed from pandas in a future version. Use pandas.concat instead.\n",
            "  ResultsCollection=ResultsCollection.append(IterResults, ignore_index=True)\n",
            "\r 77%|███████▋  | 782/1012 [2:23:15<59:09, 15.43s/it]/usr/local/lib/python3.10/dist-packages/arch/univariate/base.py:766: ConvergenceWarning: The optimizer returned code 9. The message is:\n",
            "Iteration limit reached\n",
            "See scipy.optimize.fmin_slsqp for code meaning.\n",
            "\n",
            "  warnings.warn(\n"
          ]
        },
        {
          "metadata": {
            "tags": null
          },
          "name": "stdout",
          "output_type": "stream",
          "text": [
            "14/14 [==============================] - 1s 3ms/step\n"
          ]
        },
        {
          "metadata": {
            "tags": null
          },
          "name": "stderr",
          "output_type": "stream",
          "text": [
            "<ipython-input-30-84f19216e9c9>:14: FutureWarning: The frame.append method is deprecated and will be removed from pandas in a future version. Use pandas.concat instead.\n",
            "  ResultsCollection=ResultsCollection.append(IterResults, ignore_index=True)\n",
            "\r 77%|███████▋  | 783/1012 [2:23:31<59:30, 15.59s/it]"
          ]
        },
        {
          "metadata": {
            "tags": null
          },
          "name": "stdout",
          "output_type": "stream",
          "text": [
            "14/14 [==============================] - 0s 3ms/step\n"
          ]
        },
        {
          "metadata": {
            "tags": null
          },
          "name": "stderr",
          "output_type": "stream",
          "text": [
            "<ipython-input-30-84f19216e9c9>:14: FutureWarning: The frame.append method is deprecated and will be removed from pandas in a future version. Use pandas.concat instead.\n",
            "  ResultsCollection=ResultsCollection.append(IterResults, ignore_index=True)\n",
            "\r 77%|███████▋  | 784/1012 [2:23:47<58:51, 15.49s/it]"
          ]
        },
        {
          "metadata": {
            "tags": null
          },
          "name": "stdout",
          "output_type": "stream",
          "text": [
            "14/14 [==============================] - 0s 3ms/step\n"
          ]
        },
        {
          "metadata": {
            "tags": null
          },
          "name": "stderr",
          "output_type": "stream",
          "text": [
            "<ipython-input-30-84f19216e9c9>:14: FutureWarning: The frame.append method is deprecated and will be removed from pandas in a future version. Use pandas.concat instead.\n",
            "  ResultsCollection=ResultsCollection.append(IterResults, ignore_index=True)\n",
            "\r 78%|███████▊  | 785/1012 [2:24:02<58:31, 15.47s/it]"
          ]
        },
        {
          "metadata": {
            "tags": null
          },
          "name": "stdout",
          "output_type": "stream",
          "text": [
            "14/14 [==============================] - 0s 3ms/step\n"
          ]
        },
        {
          "metadata": {
            "tags": null
          },
          "name": "stderr",
          "output_type": "stream",
          "text": [
            "<ipython-input-30-84f19216e9c9>:14: FutureWarning: The frame.append method is deprecated and will be removed from pandas in a future version. Use pandas.concat instead.\n",
            "  ResultsCollection=ResultsCollection.append(IterResults, ignore_index=True)\n",
            "\r 78%|███████▊  | 786/1012 [2:24:17<58:12, 15.45s/it]"
          ]
        },
        {
          "metadata": {
            "tags": null
          },
          "name": "stdout",
          "output_type": "stream",
          "text": [
            "14/14 [==============================] - 0s 4ms/step\n"
          ]
        },
        {
          "metadata": {
            "tags": null
          },
          "name": "stderr",
          "output_type": "stream",
          "text": [
            "<ipython-input-30-84f19216e9c9>:14: FutureWarning: The frame.append method is deprecated and will be removed from pandas in a future version. Use pandas.concat instead.\n",
            "  ResultsCollection=ResultsCollection.append(IterResults, ignore_index=True)\n",
            "\r 78%|███████▊  | 787/1012 [2:24:33<58:05, 15.49s/it]"
          ]
        },
        {
          "metadata": {
            "tags": null
          },
          "name": "stdout",
          "output_type": "stream",
          "text": [
            "14/14 [==============================] - 0s 3ms/step\n"
          ]
        },
        {
          "metadata": {
            "tags": null
          },
          "name": "stderr",
          "output_type": "stream",
          "text": [
            "<ipython-input-30-84f19216e9c9>:14: FutureWarning: The frame.append method is deprecated and will be removed from pandas in a future version. Use pandas.concat instead.\n",
            "  ResultsCollection=ResultsCollection.append(IterResults, ignore_index=True)\n",
            "\r 78%|███████▊  | 788/1012 [2:24:49<57:56, 15.52s/it]"
          ]
        },
        {
          "metadata": {
            "tags": null
          },
          "name": "stdout",
          "output_type": "stream",
          "text": [
            "14/14 [==============================] - 0s 3ms/step\n"
          ]
        },
        {
          "metadata": {
            "tags": null
          },
          "name": "stderr",
          "output_type": "stream",
          "text": [
            "<ipython-input-30-84f19216e9c9>:14: FutureWarning: The frame.append method is deprecated and will be removed from pandas in a future version. Use pandas.concat instead.\n",
            "  ResultsCollection=ResultsCollection.append(IterResults, ignore_index=True)\n",
            "\r 78%|███████▊  | 789/1012 [2:25:04<57:55, 15.59s/it]/usr/local/lib/python3.10/dist-packages/arch/univariate/base.py:766: ConvergenceWarning: The optimizer returned code 9. The message is:\n",
            "Iteration limit reached\n",
            "See scipy.optimize.fmin_slsqp for code meaning.\n",
            "\n",
            "  warnings.warn(\n"
          ]
        },
        {
          "metadata": {
            "tags": null
          },
          "name": "stdout",
          "output_type": "stream",
          "text": [
            "14/14 [==============================] - 1s 3ms/step\n"
          ]
        },
        {
          "metadata": {
            "tags": null
          },
          "name": "stderr",
          "output_type": "stream",
          "text": [
            "<ipython-input-30-84f19216e9c9>:14: FutureWarning: The frame.append method is deprecated and will be removed from pandas in a future version. Use pandas.concat instead.\n",
            "  ResultsCollection=ResultsCollection.append(IterResults, ignore_index=True)\n",
            "\r 78%|███████▊  | 790/1012 [2:25:20<58:08, 15.72s/it]"
          ]
        },
        {
          "metadata": {
            "tags": null
          },
          "name": "stdout",
          "output_type": "stream",
          "text": [
            "14/14 [==============================] - 1s 3ms/step\n"
          ]
        },
        {
          "metadata": {
            "tags": null
          },
          "name": "stderr",
          "output_type": "stream",
          "text": [
            "<ipython-input-30-84f19216e9c9>:14: FutureWarning: The frame.append method is deprecated and will be removed from pandas in a future version. Use pandas.concat instead.\n",
            "  ResultsCollection=ResultsCollection.append(IterResults, ignore_index=True)\n",
            "\r 78%|███████▊  | 791/1012 [2:25:36<58:00, 15.75s/it]/usr/local/lib/python3.10/dist-packages/arch/univariate/base.py:766: ConvergenceWarning: The optimizer returned code 9. The message is:\n",
            "Iteration limit reached\n",
            "See scipy.optimize.fmin_slsqp for code meaning.\n",
            "\n",
            "  warnings.warn(\n"
          ]
        },
        {
          "metadata": {
            "tags": null
          },
          "name": "stdout",
          "output_type": "stream",
          "text": [
            "14/14 [==============================] - 0s 3ms/step\n"
          ]
        },
        {
          "metadata": {
            "tags": null
          },
          "name": "stderr",
          "output_type": "stream",
          "text": [
            "<ipython-input-30-84f19216e9c9>:14: FutureWarning: The frame.append method is deprecated and will be removed from pandas in a future version. Use pandas.concat instead.\n",
            "  ResultsCollection=ResultsCollection.append(IterResults, ignore_index=True)\n",
            "\r 78%|███████▊  | 792/1012 [2:25:52<57:52, 15.79s/it]"
          ]
        },
        {
          "metadata": {
            "tags": null
          },
          "name": "stdout",
          "output_type": "stream",
          "text": [
            "14/14 [==============================] - 1s 4ms/step\n"
          ]
        },
        {
          "metadata": {
            "tags": null
          },
          "name": "stderr",
          "output_type": "stream",
          "text": [
            "<ipython-input-30-84f19216e9c9>:14: FutureWarning: The frame.append method is deprecated and will be removed from pandas in a future version. Use pandas.concat instead.\n",
            "  ResultsCollection=ResultsCollection.append(IterResults, ignore_index=True)\n",
            "\r 78%|███████▊  | 793/1012 [2:26:08<57:44, 15.82s/it]"
          ]
        },
        {
          "metadata": {
            "tags": null
          },
          "name": "stdout",
          "output_type": "stream",
          "text": [
            "14/14 [==============================] - 1s 4ms/step\n"
          ]
        },
        {
          "metadata": {
            "tags": null
          },
          "name": "stderr",
          "output_type": "stream",
          "text": [
            "<ipython-input-30-84f19216e9c9>:14: FutureWarning: The frame.append method is deprecated and will be removed from pandas in a future version. Use pandas.concat instead.\n",
            "  ResultsCollection=ResultsCollection.append(IterResults, ignore_index=True)\n",
            "\r 78%|███████▊  | 794/1012 [2:26:24<57:54, 15.94s/it]"
          ]
        },
        {
          "metadata": {
            "tags": null
          },
          "name": "stdout",
          "output_type": "stream",
          "text": [
            "14/14 [==============================] - 1s 3ms/step\n"
          ]
        },
        {
          "metadata": {
            "tags": null
          },
          "name": "stderr",
          "output_type": "stream",
          "text": [
            "<ipython-input-30-84f19216e9c9>:14: FutureWarning: The frame.append method is deprecated and will be removed from pandas in a future version. Use pandas.concat instead.\n",
            "  ResultsCollection=ResultsCollection.append(IterResults, ignore_index=True)\n",
            "\r 79%|███████▊  | 795/1012 [2:26:40<58:06, 16.07s/it]"
          ]
        },
        {
          "metadata": {
            "tags": null
          },
          "name": "stdout",
          "output_type": "stream",
          "text": [
            "14/14 [==============================] - 1s 4ms/step\n"
          ]
        },
        {
          "metadata": {
            "tags": null
          },
          "name": "stderr",
          "output_type": "stream",
          "text": [
            "<ipython-input-30-84f19216e9c9>:14: FutureWarning: The frame.append method is deprecated and will be removed from pandas in a future version. Use pandas.concat instead.\n",
            "  ResultsCollection=ResultsCollection.append(IterResults, ignore_index=True)\n",
            "\r 79%|███████▊  | 796/1012 [2:26:57<58:05, 16.13s/it]"
          ]
        },
        {
          "metadata": {
            "tags": null
          },
          "name": "stdout",
          "output_type": "stream",
          "text": [
            "14/14 [==============================] - 0s 4ms/step\n"
          ]
        },
        {
          "metadata": {
            "tags": null
          },
          "name": "stderr",
          "output_type": "stream",
          "text": [
            "<ipython-input-30-84f19216e9c9>:14: FutureWarning: The frame.append method is deprecated and will be removed from pandas in a future version. Use pandas.concat instead.\n",
            "  ResultsCollection=ResultsCollection.append(IterResults, ignore_index=True)\n",
            "\r 79%|███████▉  | 797/1012 [2:27:13<58:04, 16.21s/it]/usr/local/lib/python3.10/dist-packages/arch/univariate/base.py:766: ConvergenceWarning: The optimizer returned code 9. The message is:\n",
            "Iteration limit reached\n",
            "See scipy.optimize.fmin_slsqp for code meaning.\n",
            "\n",
            "  warnings.warn(\n"
          ]
        },
        {
          "metadata": {
            "tags": null
          },
          "name": "stdout",
          "output_type": "stream",
          "text": [
            "14/14 [==============================] - 0s 3ms/step\n"
          ]
        },
        {
          "metadata": {
            "tags": null
          },
          "name": "stderr",
          "output_type": "stream",
          "text": [
            "<ipython-input-30-84f19216e9c9>:14: FutureWarning: The frame.append method is deprecated and will be removed from pandas in a future version. Use pandas.concat instead.\n",
            "  ResultsCollection=ResultsCollection.append(IterResults, ignore_index=True)\n",
            "\r 79%|███████▉  | 798/1012 [2:27:29<57:22, 16.09s/it]"
          ]
        },
        {
          "metadata": {
            "tags": null
          },
          "name": "stdout",
          "output_type": "stream",
          "text": [
            "14/14 [==============================] - 0s 3ms/step\n"
          ]
        },
        {
          "metadata": {
            "tags": null
          },
          "name": "stderr",
          "output_type": "stream",
          "text": [
            "<ipython-input-30-84f19216e9c9>:14: FutureWarning: The frame.append method is deprecated and will be removed from pandas in a future version. Use pandas.concat instead.\n",
            "  ResultsCollection=ResultsCollection.append(IterResults, ignore_index=True)\n",
            "\r 79%|███████▉  | 799/1012 [2:27:45<56:43, 15.98s/it]"
          ]
        },
        {
          "metadata": {
            "tags": null
          },
          "name": "stdout",
          "output_type": "stream",
          "text": [
            "14/14 [==============================] - 0s 3ms/step\n"
          ]
        },
        {
          "metadata": {
            "tags": null
          },
          "name": "stderr",
          "output_type": "stream",
          "text": [
            "<ipython-input-30-84f19216e9c9>:14: FutureWarning: The frame.append method is deprecated and will be removed from pandas in a future version. Use pandas.concat instead.\n",
            "  ResultsCollection=ResultsCollection.append(IterResults, ignore_index=True)\n",
            "\r 79%|███████▉  | 800/1012 [2:28:00<56:12, 15.91s/it]"
          ]
        },
        {
          "metadata": {
            "tags": null
          },
          "name": "stdout",
          "output_type": "stream",
          "text": [
            "14/14 [==============================] - 0s 3ms/step\n"
          ]
        },
        {
          "metadata": {
            "tags": null
          },
          "name": "stderr",
          "output_type": "stream",
          "text": [
            "<ipython-input-30-84f19216e9c9>:14: FutureWarning: The frame.append method is deprecated and will be removed from pandas in a future version. Use pandas.concat instead.\n",
            "  ResultsCollection=ResultsCollection.append(IterResults, ignore_index=True)\n",
            "\r 79%|███████▉  | 801/1012 [2:28:16<55:44, 15.85s/it]"
          ]
        },
        {
          "metadata": {
            "tags": null
          },
          "name": "stdout",
          "output_type": "stream",
          "text": [
            "14/14 [==============================] - 0s 3ms/step\n"
          ]
        },
        {
          "metadata": {
            "tags": null
          },
          "name": "stderr",
          "output_type": "stream",
          "text": [
            "<ipython-input-30-84f19216e9c9>:14: FutureWarning: The frame.append method is deprecated and will be removed from pandas in a future version. Use pandas.concat instead.\n",
            "  ResultsCollection=ResultsCollection.append(IterResults, ignore_index=True)\n",
            "\r 79%|███████▉  | 802/1012 [2:28:32<55:24, 15.83s/it]"
          ]
        },
        {
          "metadata": {
            "tags": null
          },
          "name": "stdout",
          "output_type": "stream",
          "text": [
            "14/14 [==============================] - 0s 3ms/step\n"
          ]
        },
        {
          "metadata": {
            "tags": null
          },
          "name": "stderr",
          "output_type": "stream",
          "text": [
            "<ipython-input-30-84f19216e9c9>:14: FutureWarning: The frame.append method is deprecated and will be removed from pandas in a future version. Use pandas.concat instead.\n",
            "  ResultsCollection=ResultsCollection.append(IterResults, ignore_index=True)\n",
            "\r 79%|███████▉  | 803/1012 [2:28:51<58:00, 16.65s/it]"
          ]
        },
        {
          "metadata": {
            "tags": null
          },
          "name": "stdout",
          "output_type": "stream",
          "text": [
            "14/14 [==============================] - 0s 3ms/step\n"
          ]
        },
        {
          "metadata": {
            "tags": null
          },
          "name": "stderr",
          "output_type": "stream",
          "text": [
            "<ipython-input-30-84f19216e9c9>:14: FutureWarning: The frame.append method is deprecated and will be removed from pandas in a future version. Use pandas.concat instead.\n",
            "  ResultsCollection=ResultsCollection.append(IterResults, ignore_index=True)\n",
            "\r 79%|███████▉  | 804/1012 [2:29:06<56:50, 16.39s/it]"
          ]
        },
        {
          "metadata": {
            "tags": null
          },
          "name": "stdout",
          "output_type": "stream",
          "text": [
            "14/14 [==============================] - 0s 3ms/step\n"
          ]
        },
        {
          "metadata": {
            "tags": null
          },
          "name": "stderr",
          "output_type": "stream",
          "text": [
            "<ipython-input-30-84f19216e9c9>:14: FutureWarning: The frame.append method is deprecated and will be removed from pandas in a future version. Use pandas.concat instead.\n",
            "  ResultsCollection=ResultsCollection.append(IterResults, ignore_index=True)\n",
            "\r 80%|███████▉  | 805/1012 [2:29:22<55:57, 16.22s/it]"
          ]
        },
        {
          "metadata": {
            "tags": null
          },
          "name": "stdout",
          "output_type": "stream",
          "text": [
            "14/14 [==============================] - 0s 3ms/step\n"
          ]
        },
        {
          "metadata": {
            "tags": null
          },
          "name": "stderr",
          "output_type": "stream",
          "text": [
            "<ipython-input-30-84f19216e9c9>:14: FutureWarning: The frame.append method is deprecated and will be removed from pandas in a future version. Use pandas.concat instead.\n",
            "  ResultsCollection=ResultsCollection.append(IterResults, ignore_index=True)\n",
            "\r 80%|███████▉  | 806/1012 [2:29:38<55:12, 16.08s/it]"
          ]
        },
        {
          "metadata": {
            "tags": null
          },
          "name": "stdout",
          "output_type": "stream",
          "text": [
            "14/14 [==============================] - 0s 3ms/step\n"
          ]
        },
        {
          "metadata": {
            "tags": null
          },
          "name": "stderr",
          "output_type": "stream",
          "text": [
            "<ipython-input-30-84f19216e9c9>:14: FutureWarning: The frame.append method is deprecated and will be removed from pandas in a future version. Use pandas.concat instead.\n",
            "  ResultsCollection=ResultsCollection.append(IterResults, ignore_index=True)\n",
            "\r 80%|███████▉  | 807/1012 [2:29:54<54:41, 16.00s/it]"
          ]
        },
        {
          "metadata": {
            "tags": null
          },
          "name": "stdout",
          "output_type": "stream",
          "text": [
            "14/14 [==============================] - 0s 3ms/step\n"
          ]
        },
        {
          "metadata": {
            "tags": null
          },
          "name": "stderr",
          "output_type": "stream",
          "text": [
            "<ipython-input-30-84f19216e9c9>:14: FutureWarning: The frame.append method is deprecated and will be removed from pandas in a future version. Use pandas.concat instead.\n",
            "  ResultsCollection=ResultsCollection.append(IterResults, ignore_index=True)\n",
            "\r 80%|███████▉  | 808/1012 [2:30:09<54:10, 15.93s/it]"
          ]
        },
        {
          "metadata": {
            "tags": null
          },
          "name": "stdout",
          "output_type": "stream",
          "text": [
            "14/14 [==============================] - 0s 3ms/step\n"
          ]
        },
        {
          "metadata": {
            "tags": null
          },
          "name": "stderr",
          "output_type": "stream",
          "text": [
            "<ipython-input-30-84f19216e9c9>:14: FutureWarning: The frame.append method is deprecated and will be removed from pandas in a future version. Use pandas.concat instead.\n",
            "  ResultsCollection=ResultsCollection.append(IterResults, ignore_index=True)\n",
            "\r 80%|███████▉  | 809/1012 [2:30:25<53:46, 15.89s/it]"
          ]
        },
        {
          "metadata": {
            "tags": null
          },
          "name": "stdout",
          "output_type": "stream",
          "text": [
            "14/14 [==============================] - 1s 3ms/step\n"
          ]
        },
        {
          "metadata": {
            "tags": null
          },
          "name": "stderr",
          "output_type": "stream",
          "text": [
            "<ipython-input-30-84f19216e9c9>:14: FutureWarning: The frame.append method is deprecated and will be removed from pandas in a future version. Use pandas.concat instead.\n",
            "  ResultsCollection=ResultsCollection.append(IterResults, ignore_index=True)\n",
            "\r 80%|████████  | 810/1012 [2:30:41<53:26, 15.88s/it]"
          ]
        },
        {
          "metadata": {
            "tags": null
          },
          "name": "stdout",
          "output_type": "stream",
          "text": [
            "14/14 [==============================] - 0s 3ms/step\n"
          ]
        },
        {
          "metadata": {
            "tags": null
          },
          "name": "stderr",
          "output_type": "stream",
          "text": [
            "<ipython-input-30-84f19216e9c9>:14: FutureWarning: The frame.append method is deprecated and will be removed from pandas in a future version. Use pandas.concat instead.\n",
            "  ResultsCollection=ResultsCollection.append(IterResults, ignore_index=True)\n",
            "\r 80%|████████  | 811/1012 [2:30:57<53:18, 15.91s/it]"
          ]
        },
        {
          "metadata": {
            "tags": null
          },
          "name": "stdout",
          "output_type": "stream",
          "text": [
            "14/14 [==============================] - 0s 3ms/step\n"
          ]
        },
        {
          "metadata": {
            "tags": null
          },
          "name": "stderr",
          "output_type": "stream",
          "text": [
            "<ipython-input-30-84f19216e9c9>:14: FutureWarning: The frame.append method is deprecated and will be removed from pandas in a future version. Use pandas.concat instead.\n",
            "  ResultsCollection=ResultsCollection.append(IterResults, ignore_index=True)\n",
            "\r 80%|████████  | 812/1012 [2:31:13<52:54, 15.87s/it]"
          ]
        },
        {
          "metadata": {
            "tags": null
          },
          "name": "stdout",
          "output_type": "stream",
          "text": [
            "14/14 [==============================] - 0s 3ms/step\n"
          ]
        },
        {
          "metadata": {
            "tags": null
          },
          "name": "stderr",
          "output_type": "stream",
          "text": [
            "<ipython-input-30-84f19216e9c9>:14: FutureWarning: The frame.append method is deprecated and will be removed from pandas in a future version. Use pandas.concat instead.\n",
            "  ResultsCollection=ResultsCollection.append(IterResults, ignore_index=True)\n",
            "\r 80%|████████  | 813/1012 [2:31:29<52:45, 15.91s/it]"
          ]
        },
        {
          "metadata": {
            "tags": null
          },
          "name": "stdout",
          "output_type": "stream",
          "text": [
            "14/14 [==============================] - 0s 3ms/step\n"
          ]
        },
        {
          "metadata": {
            "tags": null
          },
          "name": "stderr",
          "output_type": "stream",
          "text": [
            "<ipython-input-30-84f19216e9c9>:14: FutureWarning: The frame.append method is deprecated and will be removed from pandas in a future version. Use pandas.concat instead.\n",
            "  ResultsCollection=ResultsCollection.append(IterResults, ignore_index=True)\n",
            "\r 80%|████████  | 814/1012 [2:31:45<52:21, 15.87s/it]"
          ]
        },
        {
          "metadata": {
            "tags": null
          },
          "name": "stdout",
          "output_type": "stream",
          "text": [
            "14/14 [==============================] - 0s 3ms/step\n"
          ]
        },
        {
          "metadata": {
            "tags": null
          },
          "name": "stderr",
          "output_type": "stream",
          "text": [
            "<ipython-input-30-84f19216e9c9>:14: FutureWarning: The frame.append method is deprecated and will be removed from pandas in a future version. Use pandas.concat instead.\n",
            "  ResultsCollection=ResultsCollection.append(IterResults, ignore_index=True)\n",
            "\r 81%|████████  | 815/1012 [2:32:01<52:05, 15.86s/it]"
          ]
        },
        {
          "metadata": {
            "tags": null
          },
          "name": "stdout",
          "output_type": "stream",
          "text": [
            "14/14 [==============================] - 0s 3ms/step\n"
          ]
        },
        {
          "metadata": {
            "tags": null
          },
          "name": "stderr",
          "output_type": "stream",
          "text": [
            "<ipython-input-30-84f19216e9c9>:14: FutureWarning: The frame.append method is deprecated and will be removed from pandas in a future version. Use pandas.concat instead.\n",
            "  ResultsCollection=ResultsCollection.append(IterResults, ignore_index=True)\n",
            "\r 81%|████████  | 816/1012 [2:32:16<51:39, 15.81s/it]"
          ]
        },
        {
          "metadata": {
            "tags": null
          },
          "name": "stdout",
          "output_type": "stream",
          "text": [
            "14/14 [==============================] - 0s 3ms/step\n"
          ]
        },
        {
          "metadata": {
            "tags": null
          },
          "name": "stderr",
          "output_type": "stream",
          "text": [
            "<ipython-input-30-84f19216e9c9>:14: FutureWarning: The frame.append method is deprecated and will be removed from pandas in a future version. Use pandas.concat instead.\n",
            "  ResultsCollection=ResultsCollection.append(IterResults, ignore_index=True)\n",
            "\r 81%|████████  | 817/1012 [2:32:32<51:30, 15.85s/it]"
          ]
        },
        {
          "metadata": {
            "tags": null
          },
          "name": "stdout",
          "output_type": "stream",
          "text": [
            "14/14 [==============================] - 1s 3ms/step\n"
          ]
        },
        {
          "metadata": {
            "tags": null
          },
          "name": "stderr",
          "output_type": "stream",
          "text": [
            "<ipython-input-30-84f19216e9c9>:14: FutureWarning: The frame.append method is deprecated and will be removed from pandas in a future version. Use pandas.concat instead.\n",
            "  ResultsCollection=ResultsCollection.append(IterResults, ignore_index=True)\n",
            "\r 81%|████████  | 818/1012 [2:32:48<51:17, 15.86s/it]"
          ]
        },
        {
          "metadata": {
            "tags": null
          },
          "name": "stdout",
          "output_type": "stream",
          "text": [
            "14/14 [==============================] - 0s 3ms/step\n"
          ]
        },
        {
          "metadata": {
            "tags": null
          },
          "name": "stderr",
          "output_type": "stream",
          "text": [
            "<ipython-input-30-84f19216e9c9>:14: FutureWarning: The frame.append method is deprecated and will be removed from pandas in a future version. Use pandas.concat instead.\n",
            "  ResultsCollection=ResultsCollection.append(IterResults, ignore_index=True)\n",
            "\r 81%|████████  | 819/1012 [2:33:04<50:58, 15.85s/it]"
          ]
        },
        {
          "metadata": {
            "tags": null
          },
          "name": "stdout",
          "output_type": "stream",
          "text": [
            "14/14 [==============================] - 0s 3ms/step\n"
          ]
        },
        {
          "metadata": {
            "tags": null
          },
          "name": "stderr",
          "output_type": "stream",
          "text": [
            "<ipython-input-30-84f19216e9c9>:14: FutureWarning: The frame.append method is deprecated and will be removed from pandas in a future version. Use pandas.concat instead.\n",
            "  ResultsCollection=ResultsCollection.append(IterResults, ignore_index=True)\n",
            "\r 81%|████████  | 820/1012 [2:33:20<50:44, 15.86s/it]"
          ]
        },
        {
          "metadata": {
            "tags": null
          },
          "name": "stdout",
          "output_type": "stream",
          "text": [
            "14/14 [==============================] - 0s 3ms/step\n"
          ]
        },
        {
          "metadata": {
            "tags": null
          },
          "name": "stderr",
          "output_type": "stream",
          "text": [
            "<ipython-input-30-84f19216e9c9>:14: FutureWarning: The frame.append method is deprecated and will be removed from pandas in a future version. Use pandas.concat instead.\n",
            "  ResultsCollection=ResultsCollection.append(IterResults, ignore_index=True)\n",
            "\r 81%|████████  | 821/1012 [2:33:36<50:32, 15.88s/it]"
          ]
        },
        {
          "metadata": {
            "tags": null
          },
          "name": "stdout",
          "output_type": "stream",
          "text": [
            "14/14 [==============================] - 0s 3ms/step\n"
          ]
        },
        {
          "metadata": {
            "tags": null
          },
          "name": "stderr",
          "output_type": "stream",
          "text": [
            "<ipython-input-30-84f19216e9c9>:14: FutureWarning: The frame.append method is deprecated and will be removed from pandas in a future version. Use pandas.concat instead.\n",
            "  ResultsCollection=ResultsCollection.append(IterResults, ignore_index=True)\n",
            "\r 81%|████████  | 822/1012 [2:33:52<50:32, 15.96s/it]"
          ]
        },
        {
          "metadata": {
            "tags": null
          },
          "name": "stdout",
          "output_type": "stream",
          "text": [
            "14/14 [==============================] - 1s 3ms/step\n"
          ]
        },
        {
          "metadata": {
            "tags": null
          },
          "name": "stderr",
          "output_type": "stream",
          "text": [
            "<ipython-input-30-84f19216e9c9>:14: FutureWarning: The frame.append method is deprecated and will be removed from pandas in a future version. Use pandas.concat instead.\n",
            "  ResultsCollection=ResultsCollection.append(IterResults, ignore_index=True)\n",
            "\r 81%|████████▏ | 823/1012 [2:34:08<50:17, 15.96s/it]"
          ]
        },
        {
          "metadata": {
            "tags": null
          },
          "name": "stdout",
          "output_type": "stream",
          "text": [
            "14/14 [==============================] - 0s 3ms/step\n"
          ]
        },
        {
          "metadata": {
            "tags": null
          },
          "name": "stderr",
          "output_type": "stream",
          "text": [
            "<ipython-input-30-84f19216e9c9>:14: FutureWarning: The frame.append method is deprecated and will be removed from pandas in a future version. Use pandas.concat instead.\n",
            "  ResultsCollection=ResultsCollection.append(IterResults, ignore_index=True)\n",
            "\r 81%|████████▏ | 824/1012 [2:34:24<50:00, 15.96s/it]"
          ]
        },
        {
          "metadata": {
            "tags": null
          },
          "name": "stdout",
          "output_type": "stream",
          "text": [
            "14/14 [==============================] - 0s 3ms/step\n"
          ]
        },
        {
          "metadata": {
            "tags": null
          },
          "name": "stderr",
          "output_type": "stream",
          "text": [
            "<ipython-input-30-84f19216e9c9>:14: FutureWarning: The frame.append method is deprecated and will be removed from pandas in a future version. Use pandas.concat instead.\n",
            "  ResultsCollection=ResultsCollection.append(IterResults, ignore_index=True)\n",
            "\r 82%|████████▏ | 825/1012 [2:34:40<49:47, 15.98s/it]"
          ]
        },
        {
          "metadata": {
            "tags": null
          },
          "name": "stdout",
          "output_type": "stream",
          "text": [
            "14/14 [==============================] - 0s 3ms/step\n"
          ]
        },
        {
          "metadata": {
            "tags": null
          },
          "name": "stderr",
          "output_type": "stream",
          "text": [
            "<ipython-input-30-84f19216e9c9>:14: FutureWarning: The frame.append method is deprecated and will be removed from pandas in a future version. Use pandas.concat instead.\n",
            "  ResultsCollection=ResultsCollection.append(IterResults, ignore_index=True)\n",
            "\r 82%|████████▏ | 826/1012 [2:34:56<49:32, 15.98s/it]"
          ]
        },
        {
          "metadata": {
            "tags": null
          },
          "name": "stdout",
          "output_type": "stream",
          "text": [
            "14/14 [==============================] - 0s 3ms/step\n"
          ]
        },
        {
          "metadata": {
            "tags": null
          },
          "name": "stderr",
          "output_type": "stream",
          "text": [
            "<ipython-input-30-84f19216e9c9>:14: FutureWarning: The frame.append method is deprecated and will be removed from pandas in a future version. Use pandas.concat instead.\n",
            "  ResultsCollection=ResultsCollection.append(IterResults, ignore_index=True)\n",
            "\r 82%|████████▏ | 827/1012 [2:35:12<49:11, 15.96s/it]"
          ]
        },
        {
          "metadata": {
            "tags": null
          },
          "name": "stdout",
          "output_type": "stream",
          "text": [
            "14/14 [==============================] - 0s 3ms/step\n"
          ]
        },
        {
          "metadata": {
            "tags": null
          },
          "name": "stderr",
          "output_type": "stream",
          "text": [
            "<ipython-input-30-84f19216e9c9>:14: FutureWarning: The frame.append method is deprecated and will be removed from pandas in a future version. Use pandas.concat instead.\n",
            "  ResultsCollection=ResultsCollection.append(IterResults, ignore_index=True)\n",
            "\r 82%|████████▏ | 828/1012 [2:35:28<48:58, 15.97s/it]"
          ]
        },
        {
          "metadata": {
            "tags": null
          },
          "name": "stdout",
          "output_type": "stream",
          "text": [
            "14/14 [==============================] - 0s 3ms/step\n"
          ]
        },
        {
          "metadata": {
            "tags": null
          },
          "name": "stderr",
          "output_type": "stream",
          "text": [
            "<ipython-input-30-84f19216e9c9>:14: FutureWarning: The frame.append method is deprecated and will be removed from pandas in a future version. Use pandas.concat instead.\n",
            "  ResultsCollection=ResultsCollection.append(IterResults, ignore_index=True)\n",
            "\r 82%|████████▏ | 829/1012 [2:35:44<48:42, 15.97s/it]"
          ]
        },
        {
          "metadata": {
            "tags": null
          },
          "name": "stdout",
          "output_type": "stream",
          "text": [
            "14/14 [==============================] - 0s 3ms/step\n"
          ]
        },
        {
          "metadata": {
            "tags": null
          },
          "name": "stderr",
          "output_type": "stream",
          "text": [
            "<ipython-input-30-84f19216e9c9>:14: FutureWarning: The frame.append method is deprecated and will be removed from pandas in a future version. Use pandas.concat instead.\n",
            "  ResultsCollection=ResultsCollection.append(IterResults, ignore_index=True)\n",
            "\r 82%|████████▏ | 830/1012 [2:35:59<48:20, 15.93s/it]"
          ]
        },
        {
          "metadata": {
            "tags": null
          },
          "name": "stdout",
          "output_type": "stream",
          "text": [
            "14/14 [==============================] - 0s 3ms/step\n"
          ]
        },
        {
          "metadata": {
            "tags": null
          },
          "name": "stderr",
          "output_type": "stream",
          "text": [
            "<ipython-input-30-84f19216e9c9>:14: FutureWarning: The frame.append method is deprecated and will be removed from pandas in a future version. Use pandas.concat instead.\n",
            "  ResultsCollection=ResultsCollection.append(IterResults, ignore_index=True)\n",
            "\r 82%|████████▏ | 831/1012 [2:36:15<48:09, 15.96s/it]"
          ]
        },
        {
          "metadata": {
            "tags": null
          },
          "name": "stdout",
          "output_type": "stream",
          "text": [
            "14/14 [==============================] - 0s 3ms/step\n"
          ]
        },
        {
          "metadata": {
            "tags": null
          },
          "name": "stderr",
          "output_type": "stream",
          "text": [
            "<ipython-input-30-84f19216e9c9>:14: FutureWarning: The frame.append method is deprecated and will be removed from pandas in a future version. Use pandas.concat instead.\n",
            "  ResultsCollection=ResultsCollection.append(IterResults, ignore_index=True)\n",
            "\r 82%|████████▏ | 832/1012 [2:36:32<48:01, 16.01s/it]"
          ]
        },
        {
          "metadata": {
            "tags": null
          },
          "name": "stdout",
          "output_type": "stream",
          "text": [
            "14/14 [==============================] - 0s 3ms/step\n"
          ]
        },
        {
          "metadata": {
            "tags": null
          },
          "name": "stderr",
          "output_type": "stream",
          "text": [
            "<ipython-input-30-84f19216e9c9>:14: FutureWarning: The frame.append method is deprecated and will be removed from pandas in a future version. Use pandas.concat instead.\n",
            "  ResultsCollection=ResultsCollection.append(IterResults, ignore_index=True)\n",
            "\r 82%|████████▏ | 833/1012 [2:36:48<47:53, 16.06s/it]"
          ]
        },
        {
          "metadata": {
            "tags": null
          },
          "name": "stdout",
          "output_type": "stream",
          "text": [
            "14/14 [==============================] - 0s 3ms/step\n"
          ]
        },
        {
          "metadata": {
            "tags": null
          },
          "name": "stderr",
          "output_type": "stream",
          "text": [
            "<ipython-input-30-84f19216e9c9>:14: FutureWarning: The frame.append method is deprecated and will be removed from pandas in a future version. Use pandas.concat instead.\n",
            "  ResultsCollection=ResultsCollection.append(IterResults, ignore_index=True)\n",
            "\r 82%|████████▏ | 834/1012 [2:37:04<47:45, 16.10s/it]"
          ]
        },
        {
          "metadata": {
            "tags": null
          },
          "name": "stdout",
          "output_type": "stream",
          "text": [
            "14/14 [==============================] - 0s 3ms/step\n"
          ]
        },
        {
          "metadata": {
            "tags": null
          },
          "name": "stderr",
          "output_type": "stream",
          "text": [
            "<ipython-input-30-84f19216e9c9>:14: FutureWarning: The frame.append method is deprecated and will be removed from pandas in a future version. Use pandas.concat instead.\n",
            "  ResultsCollection=ResultsCollection.append(IterResults, ignore_index=True)\n",
            "\r 83%|████████▎ | 835/1012 [2:37:20<47:25, 16.07s/it]"
          ]
        },
        {
          "metadata": {
            "tags": null
          },
          "name": "stdout",
          "output_type": "stream",
          "text": [
            "14/14 [==============================] - 0s 3ms/step\n"
          ]
        },
        {
          "metadata": {
            "tags": null
          },
          "name": "stderr",
          "output_type": "stream",
          "text": [
            "<ipython-input-30-84f19216e9c9>:14: FutureWarning: The frame.append method is deprecated and will be removed from pandas in a future version. Use pandas.concat instead.\n",
            "  ResultsCollection=ResultsCollection.append(IterResults, ignore_index=True)\n",
            "\r 83%|████████▎ | 836/1012 [2:37:36<47:17, 16.12s/it]"
          ]
        },
        {
          "metadata": {
            "tags": null
          },
          "name": "stdout",
          "output_type": "stream",
          "text": [
            "14/14 [==============================] - 0s 3ms/step\n"
          ]
        },
        {
          "metadata": {
            "tags": null
          },
          "name": "stderr",
          "output_type": "stream",
          "text": [
            "<ipython-input-30-84f19216e9c9>:14: FutureWarning: The frame.append method is deprecated and will be removed from pandas in a future version. Use pandas.concat instead.\n",
            "  ResultsCollection=ResultsCollection.append(IterResults, ignore_index=True)\n",
            "\r 83%|████████▎ | 837/1012 [2:37:52<46:57, 16.10s/it]"
          ]
        },
        {
          "metadata": {
            "tags": null
          },
          "name": "stdout",
          "output_type": "stream",
          "text": [
            "14/14 [==============================] - 0s 3ms/step\n"
          ]
        },
        {
          "metadata": {
            "tags": null
          },
          "name": "stderr",
          "output_type": "stream",
          "text": [
            "<ipython-input-30-84f19216e9c9>:14: FutureWarning: The frame.append method is deprecated and will be removed from pandas in a future version. Use pandas.concat instead.\n",
            "  ResultsCollection=ResultsCollection.append(IterResults, ignore_index=True)\n",
            "\r 83%|████████▎ | 838/1012 [2:38:08<46:37, 16.07s/it]"
          ]
        },
        {
          "metadata": {
            "tags": null
          },
          "name": "stdout",
          "output_type": "stream",
          "text": [
            "14/14 [==============================] - 0s 3ms/step\n"
          ]
        },
        {
          "metadata": {
            "tags": null
          },
          "name": "stderr",
          "output_type": "stream",
          "text": [
            "<ipython-input-30-84f19216e9c9>:14: FutureWarning: The frame.append method is deprecated and will be removed from pandas in a future version. Use pandas.concat instead.\n",
            "  ResultsCollection=ResultsCollection.append(IterResults, ignore_index=True)\n",
            "\r 83%|████████▎ | 839/1012 [2:38:24<46:20, 16.07s/it]"
          ]
        },
        {
          "metadata": {
            "tags": null
          },
          "name": "stdout",
          "output_type": "stream",
          "text": [
            "14/14 [==============================] - 0s 3ms/step\n"
          ]
        },
        {
          "metadata": {
            "tags": null
          },
          "name": "stderr",
          "output_type": "stream",
          "text": [
            "<ipython-input-30-84f19216e9c9>:14: FutureWarning: The frame.append method is deprecated and will be removed from pandas in a future version. Use pandas.concat instead.\n",
            "  ResultsCollection=ResultsCollection.append(IterResults, ignore_index=True)\n",
            "\r 83%|████████▎ | 840/1012 [2:38:40<46:03, 16.07s/it]"
          ]
        },
        {
          "metadata": {
            "tags": null
          },
          "name": "stdout",
          "output_type": "stream",
          "text": [
            "14/14 [==============================] - 0s 3ms/step\n"
          ]
        },
        {
          "metadata": {
            "tags": null
          },
          "name": "stderr",
          "output_type": "stream",
          "text": [
            "<ipython-input-30-84f19216e9c9>:14: FutureWarning: The frame.append method is deprecated and will be removed from pandas in a future version. Use pandas.concat instead.\n",
            "  ResultsCollection=ResultsCollection.append(IterResults, ignore_index=True)\n",
            "\r 83%|████████▎ | 841/1012 [2:38:57<45:54, 16.11s/it]"
          ]
        },
        {
          "metadata": {
            "tags": null
          },
          "name": "stdout",
          "output_type": "stream",
          "text": [
            "14/14 [==============================] - 0s 3ms/step\n"
          ]
        },
        {
          "metadata": {
            "tags": null
          },
          "name": "stderr",
          "output_type": "stream",
          "text": [
            "<ipython-input-30-84f19216e9c9>:14: FutureWarning: The frame.append method is deprecated and will be removed from pandas in a future version. Use pandas.concat instead.\n",
            "  ResultsCollection=ResultsCollection.append(IterResults, ignore_index=True)\n",
            "\r 83%|████████▎ | 842/1012 [2:39:13<45:53, 16.20s/it]"
          ]
        },
        {
          "metadata": {
            "tags": null
          },
          "name": "stdout",
          "output_type": "stream",
          "text": [
            "14/14 [==============================] - 1s 3ms/step\n"
          ]
        },
        {
          "metadata": {
            "tags": null
          },
          "name": "stderr",
          "output_type": "stream",
          "text": [
            "<ipython-input-30-84f19216e9c9>:14: FutureWarning: The frame.append method is deprecated and will be removed from pandas in a future version. Use pandas.concat instead.\n",
            "  ResultsCollection=ResultsCollection.append(IterResults, ignore_index=True)\n",
            "\r 83%|████████▎ | 843/1012 [2:39:29<45:41, 16.22s/it]"
          ]
        },
        {
          "metadata": {
            "tags": null
          },
          "name": "stdout",
          "output_type": "stream",
          "text": [
            "14/14 [==============================] - 1s 3ms/step\n"
          ]
        },
        {
          "metadata": {
            "tags": null
          },
          "name": "stderr",
          "output_type": "stream",
          "text": [
            "<ipython-input-30-84f19216e9c9>:14: FutureWarning: The frame.append method is deprecated and will be removed from pandas in a future version. Use pandas.concat instead.\n",
            "  ResultsCollection=ResultsCollection.append(IterResults, ignore_index=True)\n",
            "\r 83%|████████▎ | 844/1012 [2:39:45<45:21, 16.20s/it]"
          ]
        },
        {
          "metadata": {
            "tags": null
          },
          "name": "stdout",
          "output_type": "stream",
          "text": [
            "14/14 [==============================] - 0s 3ms/step\n"
          ]
        },
        {
          "metadata": {
            "tags": null
          },
          "name": "stderr",
          "output_type": "stream",
          "text": [
            "<ipython-input-30-84f19216e9c9>:14: FutureWarning: The frame.append method is deprecated and will be removed from pandas in a future version. Use pandas.concat instead.\n",
            "  ResultsCollection=ResultsCollection.append(IterResults, ignore_index=True)\n",
            "\r 83%|████████▎ | 845/1012 [2:40:02<45:05, 16.20s/it]"
          ]
        },
        {
          "metadata": {
            "tags": null
          },
          "name": "stdout",
          "output_type": "stream",
          "text": [
            "14/14 [==============================] - 0s 3ms/step\n"
          ]
        },
        {
          "metadata": {
            "tags": null
          },
          "name": "stderr",
          "output_type": "stream",
          "text": [
            "<ipython-input-30-84f19216e9c9>:14: FutureWarning: The frame.append method is deprecated and will be removed from pandas in a future version. Use pandas.concat instead.\n",
            "  ResultsCollection=ResultsCollection.append(IterResults, ignore_index=True)\n",
            "\r 84%|████████▎ | 846/1012 [2:40:18<44:58, 16.25s/it]"
          ]
        },
        {
          "metadata": {
            "tags": null
          },
          "name": "stdout",
          "output_type": "stream",
          "text": [
            "14/14 [==============================] - 0s 3ms/step\n"
          ]
        },
        {
          "metadata": {
            "tags": null
          },
          "name": "stderr",
          "output_type": "stream",
          "text": [
            "<ipython-input-30-84f19216e9c9>:14: FutureWarning: The frame.append method is deprecated and will be removed from pandas in a future version. Use pandas.concat instead.\n",
            "  ResultsCollection=ResultsCollection.append(IterResults, ignore_index=True)\n",
            "\r 84%|████████▎ | 847/1012 [2:40:34<44:43, 16.26s/it]"
          ]
        },
        {
          "metadata": {
            "tags": null
          },
          "name": "stdout",
          "output_type": "stream",
          "text": [
            "14/14 [==============================] - 0s 3ms/step\n"
          ]
        },
        {
          "metadata": {
            "tags": null
          },
          "name": "stderr",
          "output_type": "stream",
          "text": [
            "<ipython-input-30-84f19216e9c9>:14: FutureWarning: The frame.append method is deprecated and will be removed from pandas in a future version. Use pandas.concat instead.\n",
            "  ResultsCollection=ResultsCollection.append(IterResults, ignore_index=True)\n",
            "\r 84%|████████▍ | 848/1012 [2:40:51<44:30, 16.28s/it]"
          ]
        },
        {
          "metadata": {
            "tags": null
          },
          "name": "stdout",
          "output_type": "stream",
          "text": [
            "14/14 [==============================] - 0s 3ms/step\n"
          ]
        },
        {
          "metadata": {
            "tags": null
          },
          "name": "stderr",
          "output_type": "stream",
          "text": [
            "<ipython-input-30-84f19216e9c9>:14: FutureWarning: The frame.append method is deprecated and will be removed from pandas in a future version. Use pandas.concat instead.\n",
            "  ResultsCollection=ResultsCollection.append(IterResults, ignore_index=True)\n",
            "\r 84%|████████▍ | 849/1012 [2:41:07<44:26, 16.36s/it]"
          ]
        },
        {
          "metadata": {
            "tags": null
          },
          "name": "stdout",
          "output_type": "stream",
          "text": [
            "14/14 [==============================] - 0s 3ms/step\n"
          ]
        },
        {
          "metadata": {
            "tags": null
          },
          "name": "stderr",
          "output_type": "stream",
          "text": [
            "<ipython-input-30-84f19216e9c9>:14: FutureWarning: The frame.append method is deprecated and will be removed from pandas in a future version. Use pandas.concat instead.\n",
            "  ResultsCollection=ResultsCollection.append(IterResults, ignore_index=True)\n",
            "\r 84%|████████▍ | 850/1012 [2:41:24<44:19, 16.42s/it]"
          ]
        },
        {
          "metadata": {
            "tags": null
          },
          "name": "stdout",
          "output_type": "stream",
          "text": [
            "14/14 [==============================] - 0s 3ms/step\n"
          ]
        },
        {
          "metadata": {
            "tags": null
          },
          "name": "stderr",
          "output_type": "stream",
          "text": [
            "<ipython-input-30-84f19216e9c9>:14: FutureWarning: The frame.append method is deprecated and will be removed from pandas in a future version. Use pandas.concat instead.\n",
            "  ResultsCollection=ResultsCollection.append(IterResults, ignore_index=True)\n",
            "\r 84%|████████▍ | 851/1012 [2:41:40<43:58, 16.39s/it]"
          ]
        },
        {
          "metadata": {
            "tags": null
          },
          "name": "stdout",
          "output_type": "stream",
          "text": [
            "14/14 [==============================] - 0s 3ms/step\n"
          ]
        },
        {
          "metadata": {
            "tags": null
          },
          "name": "stderr",
          "output_type": "stream",
          "text": [
            "<ipython-input-30-84f19216e9c9>:14: FutureWarning: The frame.append method is deprecated and will be removed from pandas in a future version. Use pandas.concat instead.\n",
            "  ResultsCollection=ResultsCollection.append(IterResults, ignore_index=True)\n",
            "\r 84%|████████▍ | 852/1012 [2:41:56<43:35, 16.35s/it]"
          ]
        },
        {
          "metadata": {
            "tags": null
          },
          "name": "stdout",
          "output_type": "stream",
          "text": [
            "14/14 [==============================] - 0s 3ms/step\n"
          ]
        },
        {
          "metadata": {
            "tags": null
          },
          "name": "stderr",
          "output_type": "stream",
          "text": [
            "<ipython-input-30-84f19216e9c9>:14: FutureWarning: The frame.append method is deprecated and will be removed from pandas in a future version. Use pandas.concat instead.\n",
            "  ResultsCollection=ResultsCollection.append(IterResults, ignore_index=True)\n",
            "\r 84%|████████▍ | 853/1012 [2:42:13<43:27, 16.40s/it]"
          ]
        },
        {
          "metadata": {
            "tags": null
          },
          "name": "stdout",
          "output_type": "stream",
          "text": [
            "14/14 [==============================] - 0s 3ms/step\n"
          ]
        },
        {
          "metadata": {
            "tags": null
          },
          "name": "stderr",
          "output_type": "stream",
          "text": [
            "<ipython-input-30-84f19216e9c9>:14: FutureWarning: The frame.append method is deprecated and will be removed from pandas in a future version. Use pandas.concat instead.\n",
            "  ResultsCollection=ResultsCollection.append(IterResults, ignore_index=True)\n",
            "\r 84%|████████▍ | 854/1012 [2:42:29<43:19, 16.45s/it]"
          ]
        },
        {
          "metadata": {
            "tags": null
          },
          "name": "stdout",
          "output_type": "stream",
          "text": [
            "14/14 [==============================] - 1s 4ms/step\n"
          ]
        },
        {
          "metadata": {
            "tags": null
          },
          "name": "stderr",
          "output_type": "stream",
          "text": [
            "<ipython-input-30-84f19216e9c9>:14: FutureWarning: The frame.append method is deprecated and will be removed from pandas in a future version. Use pandas.concat instead.\n",
            "  ResultsCollection=ResultsCollection.append(IterResults, ignore_index=True)\n",
            "\r 84%|████████▍ | 855/1012 [2:42:46<43:26, 16.60s/it]"
          ]
        },
        {
          "metadata": {
            "tags": null
          },
          "name": "stdout",
          "output_type": "stream",
          "text": [
            "14/14 [==============================] - 0s 3ms/step\n"
          ]
        },
        {
          "metadata": {
            "tags": null
          },
          "name": "stderr",
          "output_type": "stream",
          "text": [
            "<ipython-input-30-84f19216e9c9>:14: FutureWarning: The frame.append method is deprecated and will be removed from pandas in a future version. Use pandas.concat instead.\n",
            "  ResultsCollection=ResultsCollection.append(IterResults, ignore_index=True)\n",
            "\r 85%|████████▍ | 856/1012 [2:43:03<43:23, 16.69s/it]"
          ]
        },
        {
          "metadata": {
            "tags": null
          },
          "name": "stdout",
          "output_type": "stream",
          "text": [
            "14/14 [==============================] - 0s 3ms/step\n"
          ]
        },
        {
          "metadata": {
            "tags": null
          },
          "name": "stderr",
          "output_type": "stream",
          "text": [
            "<ipython-input-30-84f19216e9c9>:14: FutureWarning: The frame.append method is deprecated and will be removed from pandas in a future version. Use pandas.concat instead.\n",
            "  ResultsCollection=ResultsCollection.append(IterResults, ignore_index=True)\n",
            "\r 85%|████████▍ | 857/1012 [2:43:20<43:08, 16.70s/it]"
          ]
        },
        {
          "metadata": {
            "tags": null
          },
          "name": "stdout",
          "output_type": "stream",
          "text": [
            "14/14 [==============================] - 0s 3ms/step\n"
          ]
        },
        {
          "metadata": {
            "tags": null
          },
          "name": "stderr",
          "output_type": "stream",
          "text": [
            "<ipython-input-30-84f19216e9c9>:14: FutureWarning: The frame.append method is deprecated and will be removed from pandas in a future version. Use pandas.concat instead.\n",
            "  ResultsCollection=ResultsCollection.append(IterResults, ignore_index=True)\n",
            "\r 85%|████████▍ | 858/1012 [2:43:37<42:53, 16.71s/it]"
          ]
        },
        {
          "metadata": {
            "tags": null
          },
          "name": "stdout",
          "output_type": "stream",
          "text": [
            "14/14 [==============================] - 1s 3ms/step\n"
          ]
        },
        {
          "metadata": {
            "tags": null
          },
          "name": "stderr",
          "output_type": "stream",
          "text": [
            "<ipython-input-30-84f19216e9c9>:14: FutureWarning: The frame.append method is deprecated and will be removed from pandas in a future version. Use pandas.concat instead.\n",
            "  ResultsCollection=ResultsCollection.append(IterResults, ignore_index=True)\n",
            "\r 85%|████████▍ | 859/1012 [2:43:53<42:38, 16.73s/it]"
          ]
        },
        {
          "metadata": {
            "tags": null
          },
          "name": "stdout",
          "output_type": "stream",
          "text": [
            "14/14 [==============================] - 0s 3ms/step\n"
          ]
        },
        {
          "metadata": {
            "tags": null
          },
          "name": "stderr",
          "output_type": "stream",
          "text": [
            "<ipython-input-30-84f19216e9c9>:14: FutureWarning: The frame.append method is deprecated and will be removed from pandas in a future version. Use pandas.concat instead.\n",
            "  ResultsCollection=ResultsCollection.append(IterResults, ignore_index=True)\n",
            "\r 85%|████████▍ | 860/1012 [2:44:10<42:22, 16.72s/it]"
          ]
        },
        {
          "metadata": {
            "tags": null
          },
          "name": "stdout",
          "output_type": "stream",
          "text": [
            "14/14 [==============================] - 1s 3ms/step\n"
          ]
        },
        {
          "metadata": {
            "tags": null
          },
          "name": "stderr",
          "output_type": "stream",
          "text": [
            "<ipython-input-30-84f19216e9c9>:14: FutureWarning: The frame.append method is deprecated and will be removed from pandas in a future version. Use pandas.concat instead.\n",
            "  ResultsCollection=ResultsCollection.append(IterResults, ignore_index=True)\n",
            "\r 85%|████████▌ | 861/1012 [2:44:27<41:55, 16.66s/it]"
          ]
        },
        {
          "metadata": {
            "tags": null
          },
          "name": "stdout",
          "output_type": "stream",
          "text": [
            "14/14 [==============================] - 0s 3ms/step\n"
          ]
        },
        {
          "metadata": {
            "tags": null
          },
          "name": "stderr",
          "output_type": "stream",
          "text": [
            "<ipython-input-30-84f19216e9c9>:14: FutureWarning: The frame.append method is deprecated and will be removed from pandas in a future version. Use pandas.concat instead.\n",
            "  ResultsCollection=ResultsCollection.append(IterResults, ignore_index=True)\n",
            "\r 85%|████████▌ | 862/1012 [2:44:43<41:35, 16.63s/it]"
          ]
        },
        {
          "metadata": {
            "tags": null
          },
          "name": "stdout",
          "output_type": "stream",
          "text": [
            "14/14 [==============================] - 1s 3ms/step\n"
          ]
        },
        {
          "metadata": {
            "tags": null
          },
          "name": "stderr",
          "output_type": "stream",
          "text": [
            "<ipython-input-30-84f19216e9c9>:14: FutureWarning: The frame.append method is deprecated and will be removed from pandas in a future version. Use pandas.concat instead.\n",
            "  ResultsCollection=ResultsCollection.append(IterResults, ignore_index=True)\n",
            "\r 85%|████████▌ | 863/1012 [2:45:00<41:07, 16.56s/it]"
          ]
        },
        {
          "metadata": {
            "tags": null
          },
          "name": "stdout",
          "output_type": "stream",
          "text": [
            "14/14 [==============================] - 0s 3ms/step\n"
          ]
        },
        {
          "metadata": {
            "tags": null
          },
          "name": "stderr",
          "output_type": "stream",
          "text": [
            "<ipython-input-30-84f19216e9c9>:14: FutureWarning: The frame.append method is deprecated and will be removed from pandas in a future version. Use pandas.concat instead.\n",
            "  ResultsCollection=ResultsCollection.append(IterResults, ignore_index=True)\n",
            "\r 85%|████████▌ | 864/1012 [2:45:16<40:51, 16.56s/it]"
          ]
        },
        {
          "metadata": {
            "tags": null
          },
          "name": "stdout",
          "output_type": "stream",
          "text": [
            "14/14 [==============================] - 0s 3ms/step\n"
          ]
        },
        {
          "metadata": {
            "tags": null
          },
          "name": "stderr",
          "output_type": "stream",
          "text": [
            "<ipython-input-30-84f19216e9c9>:14: FutureWarning: The frame.append method is deprecated and will be removed from pandas in a future version. Use pandas.concat instead.\n",
            "  ResultsCollection=ResultsCollection.append(IterResults, ignore_index=True)\n",
            "\r 85%|████████▌ | 865/1012 [2:45:33<40:31, 16.54s/it]"
          ]
        },
        {
          "metadata": {
            "tags": null
          },
          "name": "stdout",
          "output_type": "stream",
          "text": [
            "14/14 [==============================] - 0s 3ms/step\n"
          ]
        },
        {
          "metadata": {
            "tags": null
          },
          "name": "stderr",
          "output_type": "stream",
          "text": [
            "<ipython-input-30-84f19216e9c9>:14: FutureWarning: The frame.append method is deprecated and will be removed from pandas in a future version. Use pandas.concat instead.\n",
            "  ResultsCollection=ResultsCollection.append(IterResults, ignore_index=True)\n",
            "\r 86%|████████▌ | 866/1012 [2:45:49<40:19, 16.57s/it]"
          ]
        },
        {
          "metadata": {
            "tags": null
          },
          "name": "stdout",
          "output_type": "stream",
          "text": [
            "14/14 [==============================] - 0s 3ms/step\n"
          ]
        },
        {
          "metadata": {
            "tags": null
          },
          "name": "stderr",
          "output_type": "stream",
          "text": [
            "<ipython-input-30-84f19216e9c9>:14: FutureWarning: The frame.append method is deprecated and will be removed from pandas in a future version. Use pandas.concat instead.\n",
            "  ResultsCollection=ResultsCollection.append(IterResults, ignore_index=True)\n",
            "\r 86%|████████▌ | 867/1012 [2:46:06<40:03, 16.58s/it]"
          ]
        },
        {
          "metadata": {
            "tags": null
          },
          "name": "stdout",
          "output_type": "stream",
          "text": [
            "14/14 [==============================] - 0s 4ms/step\n"
          ]
        },
        {
          "metadata": {
            "tags": null
          },
          "name": "stderr",
          "output_type": "stream",
          "text": [
            "<ipython-input-30-84f19216e9c9>:14: FutureWarning: The frame.append method is deprecated and will be removed from pandas in a future version. Use pandas.concat instead.\n",
            "  ResultsCollection=ResultsCollection.append(IterResults, ignore_index=True)\n",
            "\r 86%|████████▌ | 868/1012 [2:46:22<39:44, 16.56s/it]"
          ]
        },
        {
          "metadata": {
            "tags": null
          },
          "name": "stdout",
          "output_type": "stream",
          "text": [
            "14/14 [==============================] - 0s 3ms/step\n"
          ]
        },
        {
          "metadata": {
            "tags": null
          },
          "name": "stderr",
          "output_type": "stream",
          "text": [
            "<ipython-input-30-84f19216e9c9>:14: FutureWarning: The frame.append method is deprecated and will be removed from pandas in a future version. Use pandas.concat instead.\n",
            "  ResultsCollection=ResultsCollection.append(IterResults, ignore_index=True)\n",
            "\r 86%|████████▌ | 869/1012 [2:46:39<39:30, 16.57s/it]"
          ]
        },
        {
          "metadata": {
            "tags": null
          },
          "name": "stdout",
          "output_type": "stream",
          "text": [
            "14/14 [==============================] - 0s 3ms/step\n"
          ]
        },
        {
          "metadata": {
            "tags": null
          },
          "name": "stderr",
          "output_type": "stream",
          "text": [
            "<ipython-input-30-84f19216e9c9>:14: FutureWarning: The frame.append method is deprecated and will be removed from pandas in a future version. Use pandas.concat instead.\n",
            "  ResultsCollection=ResultsCollection.append(IterResults, ignore_index=True)\n",
            "\r 86%|████████▌ | 870/1012 [2:46:55<39:04, 16.51s/it]"
          ]
        },
        {
          "metadata": {
            "tags": null
          },
          "name": "stdout",
          "output_type": "stream",
          "text": [
            "14/14 [==============================] - 0s 3ms/step\n"
          ]
        },
        {
          "metadata": {
            "tags": null
          },
          "name": "stderr",
          "output_type": "stream",
          "text": [
            "<ipython-input-30-84f19216e9c9>:14: FutureWarning: The frame.append method is deprecated and will be removed from pandas in a future version. Use pandas.concat instead.\n",
            "  ResultsCollection=ResultsCollection.append(IterResults, ignore_index=True)\n",
            "\r 86%|████████▌ | 871/1012 [2:47:12<38:44, 16.49s/it]"
          ]
        },
        {
          "metadata": {
            "tags": null
          },
          "name": "stdout",
          "output_type": "stream",
          "text": [
            "14/14 [==============================] - 0s 3ms/step\n"
          ]
        },
        {
          "metadata": {
            "tags": null
          },
          "name": "stderr",
          "output_type": "stream",
          "text": [
            "<ipython-input-30-84f19216e9c9>:14: FutureWarning: The frame.append method is deprecated and will be removed from pandas in a future version. Use pandas.concat instead.\n",
            "  ResultsCollection=ResultsCollection.append(IterResults, ignore_index=True)\n",
            "\r 86%|████████▌ | 872/1012 [2:47:28<38:30, 16.50s/it]"
          ]
        },
        {
          "metadata": {
            "tags": null
          },
          "name": "stdout",
          "output_type": "stream",
          "text": [
            "14/14 [==============================] - 0s 3ms/step\n"
          ]
        },
        {
          "metadata": {
            "tags": null
          },
          "name": "stderr",
          "output_type": "stream",
          "text": [
            "<ipython-input-30-84f19216e9c9>:14: FutureWarning: The frame.append method is deprecated and will be removed from pandas in a future version. Use pandas.concat instead.\n",
            "  ResultsCollection=ResultsCollection.append(IterResults, ignore_index=True)\n",
            "\r 86%|████████▋ | 873/1012 [2:47:45<38:12, 16.49s/it]"
          ]
        },
        {
          "metadata": {
            "tags": null
          },
          "name": "stdout",
          "output_type": "stream",
          "text": [
            "14/14 [==============================] - 0s 3ms/step\n"
          ]
        },
        {
          "metadata": {
            "tags": null
          },
          "name": "stderr",
          "output_type": "stream",
          "text": [
            "<ipython-input-30-84f19216e9c9>:14: FutureWarning: The frame.append method is deprecated and will be removed from pandas in a future version. Use pandas.concat instead.\n",
            "  ResultsCollection=ResultsCollection.append(IterResults, ignore_index=True)\n",
            "\r 86%|████████▋ | 874/1012 [2:48:01<37:56, 16.50s/it]"
          ]
        },
        {
          "metadata": {
            "tags": null
          },
          "name": "stdout",
          "output_type": "stream",
          "text": [
            "14/14 [==============================] - 0s 3ms/step\n"
          ]
        },
        {
          "metadata": {
            "tags": null
          },
          "name": "stderr",
          "output_type": "stream",
          "text": [
            "<ipython-input-30-84f19216e9c9>:14: FutureWarning: The frame.append method is deprecated and will be removed from pandas in a future version. Use pandas.concat instead.\n",
            "  ResultsCollection=ResultsCollection.append(IterResults, ignore_index=True)\n",
            "\r 86%|████████▋ | 875/1012 [2:48:18<37:51, 16.58s/it]"
          ]
        },
        {
          "metadata": {
            "tags": null
          },
          "name": "stdout",
          "output_type": "stream",
          "text": [
            "14/14 [==============================] - 0s 3ms/step\n"
          ]
        },
        {
          "metadata": {
            "tags": null
          },
          "name": "stderr",
          "output_type": "stream",
          "text": [
            "<ipython-input-30-84f19216e9c9>:14: FutureWarning: The frame.append method is deprecated and will be removed from pandas in a future version. Use pandas.concat instead.\n",
            "  ResultsCollection=ResultsCollection.append(IterResults, ignore_index=True)\n",
            "\r 87%|████████▋ | 876/1012 [2:48:35<37:31, 16.55s/it]"
          ]
        },
        {
          "metadata": {
            "tags": null
          },
          "name": "stdout",
          "output_type": "stream",
          "text": [
            "14/14 [==============================] - 0s 3ms/step\n"
          ]
        },
        {
          "metadata": {
            "tags": null
          },
          "name": "stderr",
          "output_type": "stream",
          "text": [
            "<ipython-input-30-84f19216e9c9>:14: FutureWarning: The frame.append method is deprecated and will be removed from pandas in a future version. Use pandas.concat instead.\n",
            "  ResultsCollection=ResultsCollection.append(IterResults, ignore_index=True)\n",
            "\r 87%|████████▋ | 877/1012 [2:48:51<37:25, 16.63s/it]"
          ]
        },
        {
          "metadata": {
            "tags": null
          },
          "name": "stdout",
          "output_type": "stream",
          "text": [
            "14/14 [==============================] - 0s 3ms/step\n"
          ]
        },
        {
          "metadata": {
            "tags": null
          },
          "name": "stderr",
          "output_type": "stream",
          "text": [
            "<ipython-input-30-84f19216e9c9>:14: FutureWarning: The frame.append method is deprecated and will be removed from pandas in a future version. Use pandas.concat instead.\n",
            "  ResultsCollection=ResultsCollection.append(IterResults, ignore_index=True)\n",
            "\r 87%|████████▋ | 878/1012 [2:49:08<37:08, 16.63s/it]"
          ]
        },
        {
          "metadata": {
            "tags": null
          },
          "name": "stdout",
          "output_type": "stream",
          "text": [
            "14/14 [==============================] - 1s 3ms/step\n"
          ]
        },
        {
          "metadata": {
            "tags": null
          },
          "name": "stderr",
          "output_type": "stream",
          "text": [
            "<ipython-input-30-84f19216e9c9>:14: FutureWarning: The frame.append method is deprecated and will be removed from pandas in a future version. Use pandas.concat instead.\n",
            "  ResultsCollection=ResultsCollection.append(IterResults, ignore_index=True)\n",
            "\r 87%|████████▋ | 879/1012 [2:49:25<36:55, 16.66s/it]"
          ]
        },
        {
          "metadata": {
            "tags": null
          },
          "name": "stdout",
          "output_type": "stream",
          "text": [
            "14/14 [==============================] - 0s 3ms/step\n"
          ]
        },
        {
          "metadata": {
            "tags": null
          },
          "name": "stderr",
          "output_type": "stream",
          "text": [
            "<ipython-input-30-84f19216e9c9>:14: FutureWarning: The frame.append method is deprecated and will be removed from pandas in a future version. Use pandas.concat instead.\n",
            "  ResultsCollection=ResultsCollection.append(IterResults, ignore_index=True)\n",
            "\r 87%|████████▋ | 880/1012 [2:49:42<36:45, 16.71s/it]"
          ]
        },
        {
          "metadata": {
            "tags": null
          },
          "name": "stdout",
          "output_type": "stream",
          "text": [
            "14/14 [==============================] - 0s 3ms/step\n"
          ]
        },
        {
          "metadata": {
            "tags": null
          },
          "name": "stderr",
          "output_type": "stream",
          "text": [
            "<ipython-input-30-84f19216e9c9>:14: FutureWarning: The frame.append method is deprecated and will be removed from pandas in a future version. Use pandas.concat instead.\n",
            "  ResultsCollection=ResultsCollection.append(IterResults, ignore_index=True)\n",
            "\r 87%|████████▋ | 881/1012 [2:49:58<36:28, 16.71s/it]"
          ]
        },
        {
          "metadata": {
            "tags": null
          },
          "name": "stdout",
          "output_type": "stream",
          "text": [
            "14/14 [==============================] - 0s 3ms/step\n"
          ]
        },
        {
          "metadata": {
            "tags": null
          },
          "name": "stderr",
          "output_type": "stream",
          "text": [
            "<ipython-input-30-84f19216e9c9>:14: FutureWarning: The frame.append method is deprecated and will be removed from pandas in a future version. Use pandas.concat instead.\n",
            "  ResultsCollection=ResultsCollection.append(IterResults, ignore_index=True)\n",
            "\r 87%|████████▋ | 882/1012 [2:50:15<36:13, 16.72s/it]"
          ]
        },
        {
          "metadata": {
            "tags": null
          },
          "name": "stdout",
          "output_type": "stream",
          "text": [
            "14/14 [==============================] - 0s 3ms/step\n"
          ]
        },
        {
          "metadata": {
            "tags": null
          },
          "name": "stderr",
          "output_type": "stream",
          "text": [
            "<ipython-input-30-84f19216e9c9>:14: FutureWarning: The frame.append method is deprecated and will be removed from pandas in a future version. Use pandas.concat instead.\n",
            "  ResultsCollection=ResultsCollection.append(IterResults, ignore_index=True)\n",
            "\r 87%|████████▋ | 883/1012 [2:50:32<35:50, 16.67s/it]"
          ]
        },
        {
          "metadata": {
            "tags": null
          },
          "name": "stdout",
          "output_type": "stream",
          "text": [
            "14/14 [==============================] - 0s 3ms/step\n"
          ]
        },
        {
          "metadata": {
            "tags": null
          },
          "name": "stderr",
          "output_type": "stream",
          "text": [
            "<ipython-input-30-84f19216e9c9>:14: FutureWarning: The frame.append method is deprecated and will be removed from pandas in a future version. Use pandas.concat instead.\n",
            "  ResultsCollection=ResultsCollection.append(IterResults, ignore_index=True)\n",
            "\r 87%|████████▋ | 884/1012 [2:50:48<35:32, 16.66s/it]"
          ]
        },
        {
          "metadata": {
            "tags": null
          },
          "name": "stdout",
          "output_type": "stream",
          "text": [
            "14/14 [==============================] - 0s 3ms/step\n"
          ]
        },
        {
          "metadata": {
            "tags": null
          },
          "name": "stderr",
          "output_type": "stream",
          "text": [
            "<ipython-input-30-84f19216e9c9>:14: FutureWarning: The frame.append method is deprecated and will be removed from pandas in a future version. Use pandas.concat instead.\n",
            "  ResultsCollection=ResultsCollection.append(IterResults, ignore_index=True)\n",
            "\r 87%|████████▋ | 885/1012 [2:51:05<35:16, 16.67s/it]"
          ]
        },
        {
          "metadata": {
            "tags": null
          },
          "name": "stdout",
          "output_type": "stream",
          "text": [
            "14/14 [==============================] - 0s 3ms/step\n"
          ]
        },
        {
          "metadata": {
            "tags": null
          },
          "name": "stderr",
          "output_type": "stream",
          "text": [
            "<ipython-input-30-84f19216e9c9>:14: FutureWarning: The frame.append method is deprecated and will be removed from pandas in a future version. Use pandas.concat instead.\n",
            "  ResultsCollection=ResultsCollection.append(IterResults, ignore_index=True)\n",
            "\r 88%|████████▊ | 886/1012 [2:51:22<35:04, 16.70s/it]"
          ]
        },
        {
          "metadata": {
            "tags": null
          },
          "name": "stdout",
          "output_type": "stream",
          "text": [
            "14/14 [==============================] - 0s 3ms/step\n"
          ]
        },
        {
          "metadata": {
            "tags": null
          },
          "name": "stderr",
          "output_type": "stream",
          "text": [
            "<ipython-input-30-84f19216e9c9>:14: FutureWarning: The frame.append method is deprecated and will be removed from pandas in a future version. Use pandas.concat instead.\n",
            "  ResultsCollection=ResultsCollection.append(IterResults, ignore_index=True)\n",
            "\r 88%|████████▊ | 887/1012 [2:51:38<34:38, 16.62s/it]"
          ]
        },
        {
          "metadata": {
            "tags": null
          },
          "name": "stdout",
          "output_type": "stream",
          "text": [
            "14/14 [==============================] - 1s 4ms/step\n"
          ]
        },
        {
          "metadata": {
            "tags": null
          },
          "name": "stderr",
          "output_type": "stream",
          "text": [
            "<ipython-input-30-84f19216e9c9>:14: FutureWarning: The frame.append method is deprecated and will be removed from pandas in a future version. Use pandas.concat instead.\n",
            "  ResultsCollection=ResultsCollection.append(IterResults, ignore_index=True)\n",
            "\r 88%|████████▊ | 888/1012 [2:51:55<34:23, 16.64s/it]"
          ]
        },
        {
          "metadata": {
            "tags": null
          },
          "name": "stdout",
          "output_type": "stream",
          "text": [
            "14/14 [==============================] - 0s 3ms/step\n"
          ]
        },
        {
          "metadata": {
            "tags": null
          },
          "name": "stderr",
          "output_type": "stream",
          "text": [
            "<ipython-input-30-84f19216e9c9>:14: FutureWarning: The frame.append method is deprecated and will be removed from pandas in a future version. Use pandas.concat instead.\n",
            "  ResultsCollection=ResultsCollection.append(IterResults, ignore_index=True)\n",
            "\r 88%|████████▊ | 889/1012 [2:52:12<34:10, 16.67s/it]"
          ]
        },
        {
          "metadata": {
            "tags": null
          },
          "name": "stdout",
          "output_type": "stream",
          "text": [
            "14/14 [==============================] - 1s 4ms/step\n"
          ]
        },
        {
          "metadata": {
            "tags": null
          },
          "name": "stderr",
          "output_type": "stream",
          "text": [
            "<ipython-input-30-84f19216e9c9>:14: FutureWarning: The frame.append method is deprecated and will be removed from pandas in a future version. Use pandas.concat instead.\n",
            "  ResultsCollection=ResultsCollection.append(IterResults, ignore_index=True)\n",
            "\r 88%|████████▊ | 890/1012 [2:52:28<33:52, 16.66s/it]"
          ]
        },
        {
          "metadata": {
            "tags": null
          },
          "name": "stdout",
          "output_type": "stream",
          "text": [
            "14/14 [==============================] - 1s 3ms/step\n"
          ]
        },
        {
          "metadata": {
            "tags": null
          },
          "name": "stderr",
          "output_type": "stream",
          "text": [
            "<ipython-input-30-84f19216e9c9>:14: FutureWarning: The frame.append method is deprecated and will be removed from pandas in a future version. Use pandas.concat instead.\n",
            "  ResultsCollection=ResultsCollection.append(IterResults, ignore_index=True)\n",
            "\r 88%|████████▊ | 891/1012 [2:52:45<33:41, 16.71s/it]"
          ]
        },
        {
          "metadata": {
            "tags": null
          },
          "name": "stdout",
          "output_type": "stream",
          "text": [
            "14/14 [==============================] - 0s 3ms/step\n"
          ]
        },
        {
          "metadata": {
            "tags": null
          },
          "name": "stderr",
          "output_type": "stream",
          "text": [
            "<ipython-input-30-84f19216e9c9>:14: FutureWarning: The frame.append method is deprecated and will be removed from pandas in a future version. Use pandas.concat instead.\n",
            "  ResultsCollection=ResultsCollection.append(IterResults, ignore_index=True)\n",
            "\r 88%|████████▊ | 892/1012 [2:53:02<33:25, 16.71s/it]"
          ]
        },
        {
          "metadata": {
            "tags": null
          },
          "name": "stdout",
          "output_type": "stream",
          "text": [
            "14/14 [==============================] - 0s 3ms/step\n"
          ]
        },
        {
          "metadata": {
            "tags": null
          },
          "name": "stderr",
          "output_type": "stream",
          "text": [
            "<ipython-input-30-84f19216e9c9>:14: FutureWarning: The frame.append method is deprecated and will be removed from pandas in a future version. Use pandas.concat instead.\n",
            "  ResultsCollection=ResultsCollection.append(IterResults, ignore_index=True)\n",
            "\r 88%|████████▊ | 893/1012 [2:53:19<33:09, 16.72s/it]"
          ]
        },
        {
          "metadata": {
            "tags": null
          },
          "name": "stdout",
          "output_type": "stream",
          "text": [
            "14/14 [==============================] - 0s 3ms/step\n"
          ]
        },
        {
          "metadata": {
            "tags": null
          },
          "name": "stderr",
          "output_type": "stream",
          "text": [
            "<ipython-input-30-84f19216e9c9>:14: FutureWarning: The frame.append method is deprecated and will be removed from pandas in a future version. Use pandas.concat instead.\n",
            "  ResultsCollection=ResultsCollection.append(IterResults, ignore_index=True)\n",
            "\r 88%|████████▊ | 894/1012 [2:53:35<32:55, 16.74s/it]"
          ]
        },
        {
          "metadata": {
            "tags": null
          },
          "name": "stdout",
          "output_type": "stream",
          "text": [
            "14/14 [==============================] - 1s 3ms/step\n"
          ]
        },
        {
          "metadata": {
            "tags": null
          },
          "name": "stderr",
          "output_type": "stream",
          "text": [
            "<ipython-input-30-84f19216e9c9>:14: FutureWarning: The frame.append method is deprecated and will be removed from pandas in a future version. Use pandas.concat instead.\n",
            "  ResultsCollection=ResultsCollection.append(IterResults, ignore_index=True)\n",
            "\r 88%|████████▊ | 895/1012 [2:53:52<32:48, 16.82s/it]"
          ]
        },
        {
          "metadata": {
            "tags": null
          },
          "name": "stdout",
          "output_type": "stream",
          "text": [
            "14/14 [==============================] - 1s 3ms/step\n"
          ]
        },
        {
          "metadata": {
            "tags": null
          },
          "name": "stderr",
          "output_type": "stream",
          "text": [
            "<ipython-input-30-84f19216e9c9>:14: FutureWarning: The frame.append method is deprecated and will be removed from pandas in a future version. Use pandas.concat instead.\n",
            "  ResultsCollection=ResultsCollection.append(IterResults, ignore_index=True)\n",
            "\r 89%|████████▊ | 896/1012 [2:54:09<32:37, 16.87s/it]"
          ]
        },
        {
          "metadata": {
            "tags": null
          },
          "name": "stdout",
          "output_type": "stream",
          "text": [
            "14/14 [==============================] - 1s 3ms/step\n"
          ]
        },
        {
          "metadata": {
            "tags": null
          },
          "name": "stderr",
          "output_type": "stream",
          "text": [
            "<ipython-input-30-84f19216e9c9>:14: FutureWarning: The frame.append method is deprecated and will be removed from pandas in a future version. Use pandas.concat instead.\n",
            "  ResultsCollection=ResultsCollection.append(IterResults, ignore_index=True)\n",
            "\r 89%|████████▊ | 897/1012 [2:54:26<32:21, 16.89s/it]"
          ]
        },
        {
          "metadata": {
            "tags": null
          },
          "name": "stdout",
          "output_type": "stream",
          "text": [
            "14/14 [==============================] - 0s 3ms/step\n"
          ]
        },
        {
          "metadata": {
            "tags": null
          },
          "name": "stderr",
          "output_type": "stream",
          "text": [
            "<ipython-input-30-84f19216e9c9>:14: FutureWarning: The frame.append method is deprecated and will be removed from pandas in a future version. Use pandas.concat instead.\n",
            "  ResultsCollection=ResultsCollection.append(IterResults, ignore_index=True)\n",
            "\r 89%|████████▊ | 898/1012 [2:54:43<32:02, 16.87s/it]"
          ]
        },
        {
          "metadata": {
            "tags": null
          },
          "name": "stdout",
          "output_type": "stream",
          "text": [
            "14/14 [==============================] - 0s 3ms/step\n"
          ]
        },
        {
          "metadata": {
            "tags": null
          },
          "name": "stderr",
          "output_type": "stream",
          "text": [
            "<ipython-input-30-84f19216e9c9>:14: FutureWarning: The frame.append method is deprecated and will be removed from pandas in a future version. Use pandas.concat instead.\n",
            "  ResultsCollection=ResultsCollection.append(IterResults, ignore_index=True)\n",
            "\r 89%|████████▉ | 899/1012 [2:55:00<31:46, 16.87s/it]"
          ]
        },
        {
          "metadata": {
            "tags": null
          },
          "name": "stdout",
          "output_type": "stream",
          "text": [
            "14/14 [==============================] - 0s 3ms/step\n"
          ]
        },
        {
          "metadata": {
            "tags": null
          },
          "name": "stderr",
          "output_type": "stream",
          "text": [
            "<ipython-input-30-84f19216e9c9>:14: FutureWarning: The frame.append method is deprecated and will be removed from pandas in a future version. Use pandas.concat instead.\n",
            "  ResultsCollection=ResultsCollection.append(IterResults, ignore_index=True)\n",
            "\r 89%|████████▉ | 900/1012 [2:55:17<31:30, 16.88s/it]"
          ]
        },
        {
          "metadata": {
            "tags": null
          },
          "name": "stdout",
          "output_type": "stream",
          "text": [
            "14/14 [==============================] - 0s 3ms/step\n"
          ]
        },
        {
          "metadata": {
            "tags": null
          },
          "name": "stderr",
          "output_type": "stream",
          "text": [
            "<ipython-input-30-84f19216e9c9>:14: FutureWarning: The frame.append method is deprecated and will be removed from pandas in a future version. Use pandas.concat instead.\n",
            "  ResultsCollection=ResultsCollection.append(IterResults, ignore_index=True)\n",
            "\r 89%|████████▉ | 901/1012 [2:55:34<31:20, 16.94s/it]"
          ]
        },
        {
          "metadata": {
            "tags": null
          },
          "name": "stdout",
          "output_type": "stream",
          "text": [
            "14/14 [==============================] - 0s 3ms/step\n"
          ]
        },
        {
          "metadata": {
            "tags": null
          },
          "name": "stderr",
          "output_type": "stream",
          "text": [
            "<ipython-input-30-84f19216e9c9>:14: FutureWarning: The frame.append method is deprecated and will be removed from pandas in a future version. Use pandas.concat instead.\n",
            "  ResultsCollection=ResultsCollection.append(IterResults, ignore_index=True)\n",
            "\r 89%|████████▉ | 902/1012 [2:55:51<31:07, 16.97s/it]"
          ]
        },
        {
          "metadata": {
            "tags": null
          },
          "name": "stdout",
          "output_type": "stream",
          "text": [
            "14/14 [==============================] - 0s 3ms/step\n"
          ]
        },
        {
          "metadata": {
            "tags": null
          },
          "name": "stderr",
          "output_type": "stream",
          "text": [
            "<ipython-input-30-84f19216e9c9>:14: FutureWarning: The frame.append method is deprecated and will be removed from pandas in a future version. Use pandas.concat instead.\n",
            "  ResultsCollection=ResultsCollection.append(IterResults, ignore_index=True)\n",
            "\r 89%|████████▉ | 903/1012 [2:56:08<30:49, 16.97s/it]"
          ]
        },
        {
          "metadata": {
            "tags": null
          },
          "name": "stdout",
          "output_type": "stream",
          "text": [
            "14/14 [==============================] - 0s 3ms/step\n"
          ]
        },
        {
          "metadata": {
            "tags": null
          },
          "name": "stderr",
          "output_type": "stream",
          "text": [
            "<ipython-input-30-84f19216e9c9>:14: FutureWarning: The frame.append method is deprecated and will be removed from pandas in a future version. Use pandas.concat instead.\n",
            "  ResultsCollection=ResultsCollection.append(IterResults, ignore_index=True)\n",
            "\r 89%|████████▉ | 904/1012 [2:56:25<30:32, 16.97s/it]"
          ]
        },
        {
          "metadata": {
            "tags": null
          },
          "name": "stdout",
          "output_type": "stream",
          "text": [
            "14/14 [==============================] - 0s 3ms/step\n"
          ]
        },
        {
          "metadata": {
            "tags": null
          },
          "name": "stderr",
          "output_type": "stream",
          "text": [
            "<ipython-input-30-84f19216e9c9>:14: FutureWarning: The frame.append method is deprecated and will be removed from pandas in a future version. Use pandas.concat instead.\n",
            "  ResultsCollection=ResultsCollection.append(IterResults, ignore_index=True)\n",
            "\r 89%|████████▉ | 905/1012 [2:56:42<30:10, 16.92s/it]"
          ]
        },
        {
          "metadata": {
            "tags": null
          },
          "name": "stdout",
          "output_type": "stream",
          "text": [
            "14/14 [==============================] - 0s 3ms/step\n"
          ]
        },
        {
          "metadata": {
            "tags": null
          },
          "name": "stderr",
          "output_type": "stream",
          "text": [
            "<ipython-input-30-84f19216e9c9>:14: FutureWarning: The frame.append method is deprecated and will be removed from pandas in a future version. Use pandas.concat instead.\n",
            "  ResultsCollection=ResultsCollection.append(IterResults, ignore_index=True)\n",
            "\r 90%|████████▉ | 906/1012 [2:56:59<29:55, 16.94s/it]"
          ]
        },
        {
          "metadata": {
            "tags": null
          },
          "name": "stdout",
          "output_type": "stream",
          "text": [
            "14/14 [==============================] - 1s 4ms/step\n"
          ]
        },
        {
          "metadata": {
            "tags": null
          },
          "name": "stderr",
          "output_type": "stream",
          "text": [
            "<ipython-input-30-84f19216e9c9>:14: FutureWarning: The frame.append method is deprecated and will be removed from pandas in a future version. Use pandas.concat instead.\n",
            "  ResultsCollection=ResultsCollection.append(IterResults, ignore_index=True)\n",
            "\r 90%|████████▉ | 907/1012 [2:57:16<29:40, 16.96s/it]"
          ]
        },
        {
          "metadata": {
            "tags": null
          },
          "name": "stdout",
          "output_type": "stream",
          "text": [
            "14/14 [==============================] - 0s 3ms/step\n"
          ]
        },
        {
          "metadata": {
            "tags": null
          },
          "name": "stderr",
          "output_type": "stream",
          "text": [
            "<ipython-input-30-84f19216e9c9>:14: FutureWarning: The frame.append method is deprecated and will be removed from pandas in a future version. Use pandas.concat instead.\n",
            "  ResultsCollection=ResultsCollection.append(IterResults, ignore_index=True)\n",
            "\r 90%|████████▉ | 908/1012 [2:57:33<29:28, 17.01s/it]"
          ]
        },
        {
          "metadata": {
            "tags": null
          },
          "name": "stdout",
          "output_type": "stream",
          "text": [
            "14/14 [==============================] - 1s 3ms/step\n"
          ]
        },
        {
          "metadata": {
            "tags": null
          },
          "name": "stderr",
          "output_type": "stream",
          "text": [
            "<ipython-input-30-84f19216e9c9>:14: FutureWarning: The frame.append method is deprecated and will be removed from pandas in a future version. Use pandas.concat instead.\n",
            "  ResultsCollection=ResultsCollection.append(IterResults, ignore_index=True)\n",
            "\r 90%|████████▉ | 909/1012 [2:57:50<29:23, 17.12s/it]/usr/local/lib/python3.10/dist-packages/arch/univariate/base.py:766: ConvergenceWarning: The optimizer returned code 9. The message is:\n",
            "Iteration limit reached\n",
            "See scipy.optimize.fmin_slsqp for code meaning.\n",
            "\n",
            "  warnings.warn(\n"
          ]
        },
        {
          "metadata": {
            "tags": null
          },
          "name": "stdout",
          "output_type": "stream",
          "text": [
            "14/14 [==============================] - 0s 3ms/step\n"
          ]
        },
        {
          "metadata": {
            "tags": null
          },
          "name": "stderr",
          "output_type": "stream",
          "text": [
            "<ipython-input-30-84f19216e9c9>:14: FutureWarning: The frame.append method is deprecated and will be removed from pandas in a future version. Use pandas.concat instead.\n",
            "  ResultsCollection=ResultsCollection.append(IterResults, ignore_index=True)\n",
            "\r 90%|████████▉ | 910/1012 [2:58:08<29:16, 17.22s/it]"
          ]
        },
        {
          "metadata": {
            "tags": null
          },
          "name": "stdout",
          "output_type": "stream",
          "text": [
            "14/14 [==============================] - 1s 4ms/step\n"
          ]
        },
        {
          "metadata": {
            "tags": null
          },
          "name": "stderr",
          "output_type": "stream",
          "text": [
            "<ipython-input-30-84f19216e9c9>:14: FutureWarning: The frame.append method is deprecated and will be removed from pandas in a future version. Use pandas.concat instead.\n",
            "  ResultsCollection=ResultsCollection.append(IterResults, ignore_index=True)\n",
            "\r 90%|█████████ | 911/1012 [2:58:25<28:59, 17.23s/it]"
          ]
        },
        {
          "metadata": {
            "tags": null
          },
          "name": "stdout",
          "output_type": "stream",
          "text": [
            "14/14 [==============================] - 0s 3ms/step\n"
          ]
        },
        {
          "metadata": {
            "tags": null
          },
          "name": "stderr",
          "output_type": "stream",
          "text": [
            "<ipython-input-30-84f19216e9c9>:14: FutureWarning: The frame.append method is deprecated and will be removed from pandas in a future version. Use pandas.concat instead.\n",
            "  ResultsCollection=ResultsCollection.append(IterResults, ignore_index=True)\n",
            "\r 90%|█████████ | 912/1012 [2:58:42<28:50, 17.30s/it]"
          ]
        },
        {
          "metadata": {
            "tags": null
          },
          "name": "stdout",
          "output_type": "stream",
          "text": [
            "14/14 [==============================] - 0s 3ms/step\n"
          ]
        },
        {
          "metadata": {
            "tags": null
          },
          "name": "stderr",
          "output_type": "stream",
          "text": [
            "<ipython-input-30-84f19216e9c9>:14: FutureWarning: The frame.append method is deprecated and will be removed from pandas in a future version. Use pandas.concat instead.\n",
            "  ResultsCollection=ResultsCollection.append(IterResults, ignore_index=True)\n",
            "\r 90%|█████████ | 913/1012 [2:59:00<28:30, 17.27s/it]"
          ]
        },
        {
          "metadata": {
            "tags": null
          },
          "name": "stdout",
          "output_type": "stream",
          "text": [
            "14/14 [==============================] - 0s 3ms/step\n"
          ]
        },
        {
          "metadata": {
            "tags": null
          },
          "name": "stderr",
          "output_type": "stream",
          "text": [
            "<ipython-input-30-84f19216e9c9>:14: FutureWarning: The frame.append method is deprecated and will be removed from pandas in a future version. Use pandas.concat instead.\n",
            "  ResultsCollection=ResultsCollection.append(IterResults, ignore_index=True)\n",
            "\r 90%|█████████ | 914/1012 [2:59:16<28:00, 17.15s/it]"
          ]
        },
        {
          "metadata": {
            "tags": null
          },
          "name": "stdout",
          "output_type": "stream",
          "text": [
            "14/14 [==============================] - 0s 3ms/step\n"
          ]
        },
        {
          "metadata": {
            "tags": null
          },
          "name": "stderr",
          "output_type": "stream",
          "text": [
            "<ipython-input-30-84f19216e9c9>:14: FutureWarning: The frame.append method is deprecated and will be removed from pandas in a future version. Use pandas.concat instead.\n",
            "  ResultsCollection=ResultsCollection.append(IterResults, ignore_index=True)\n",
            "\r 90%|█████████ | 915/1012 [2:59:34<27:49, 17.21s/it]"
          ]
        },
        {
          "metadata": {
            "tags": null
          },
          "name": "stdout",
          "output_type": "stream",
          "text": [
            "14/14 [==============================] - 0s 3ms/step\n"
          ]
        },
        {
          "metadata": {
            "tags": null
          },
          "name": "stderr",
          "output_type": "stream",
          "text": [
            "<ipython-input-30-84f19216e9c9>:14: FutureWarning: The frame.append method is deprecated and will be removed from pandas in a future version. Use pandas.concat instead.\n",
            "  ResultsCollection=ResultsCollection.append(IterResults, ignore_index=True)\n",
            "\r 91%|█████████ | 916/1012 [2:59:51<27:33, 17.22s/it]"
          ]
        },
        {
          "metadata": {
            "tags": null
          },
          "name": "stdout",
          "output_type": "stream",
          "text": [
            "14/14 [==============================] - 1s 3ms/step\n"
          ]
        },
        {
          "metadata": {
            "tags": null
          },
          "name": "stderr",
          "output_type": "stream",
          "text": [
            "<ipython-input-30-84f19216e9c9>:14: FutureWarning: The frame.append method is deprecated and will be removed from pandas in a future version. Use pandas.concat instead.\n",
            "  ResultsCollection=ResultsCollection.append(IterResults, ignore_index=True)\n",
            "\r 91%|█████████ | 917/1012 [3:00:08<27:18, 17.24s/it]"
          ]
        },
        {
          "metadata": {
            "tags": null
          },
          "name": "stdout",
          "output_type": "stream",
          "text": [
            "14/14 [==============================] - 0s 3ms/step\n"
          ]
        },
        {
          "metadata": {
            "tags": null
          },
          "name": "stderr",
          "output_type": "stream",
          "text": [
            "<ipython-input-30-84f19216e9c9>:14: FutureWarning: The frame.append method is deprecated and will be removed from pandas in a future version. Use pandas.concat instead.\n",
            "  ResultsCollection=ResultsCollection.append(IterResults, ignore_index=True)\n",
            "\r 91%|█████████ | 918/1012 [3:00:25<26:55, 17.19s/it]"
          ]
        },
        {
          "metadata": {
            "tags": null
          },
          "name": "stdout",
          "output_type": "stream",
          "text": [
            "14/14 [==============================] - 1s 3ms/step\n"
          ]
        },
        {
          "metadata": {
            "tags": null
          },
          "name": "stderr",
          "output_type": "stream",
          "text": [
            "<ipython-input-30-84f19216e9c9>:14: FutureWarning: The frame.append method is deprecated and will be removed from pandas in a future version. Use pandas.concat instead.\n",
            "  ResultsCollection=ResultsCollection.append(IterResults, ignore_index=True)\n",
            "\r 91%|█████████ | 919/1012 [3:00:43<26:41, 17.22s/it]"
          ]
        },
        {
          "metadata": {
            "tags": null
          },
          "name": "stdout",
          "output_type": "stream",
          "text": [
            "14/14 [==============================] - 0s 3ms/step\n"
          ]
        },
        {
          "metadata": {
            "tags": null
          },
          "name": "stderr",
          "output_type": "stream",
          "text": [
            "<ipython-input-30-84f19216e9c9>:14: FutureWarning: The frame.append method is deprecated and will be removed from pandas in a future version. Use pandas.concat instead.\n",
            "  ResultsCollection=ResultsCollection.append(IterResults, ignore_index=True)\n",
            "\r 91%|█████████ | 920/1012 [3:01:00<26:28, 17.27s/it]"
          ]
        },
        {
          "metadata": {
            "tags": null
          },
          "name": "stdout",
          "output_type": "stream",
          "text": [
            "14/14 [==============================] - 0s 3ms/step\n"
          ]
        },
        {
          "metadata": {
            "tags": null
          },
          "name": "stderr",
          "output_type": "stream",
          "text": [
            "<ipython-input-30-84f19216e9c9>:14: FutureWarning: The frame.append method is deprecated and will be removed from pandas in a future version. Use pandas.concat instead.\n",
            "  ResultsCollection=ResultsCollection.append(IterResults, ignore_index=True)\n",
            "\r 91%|█████████ | 921/1012 [3:01:18<26:16, 17.32s/it]"
          ]
        },
        {
          "metadata": {
            "tags": null
          },
          "name": "stdout",
          "output_type": "stream",
          "text": [
            "14/14 [==============================] - 0s 3ms/step\n"
          ]
        },
        {
          "metadata": {
            "tags": null
          },
          "name": "stderr",
          "output_type": "stream",
          "text": [
            "<ipython-input-30-84f19216e9c9>:14: FutureWarning: The frame.append method is deprecated and will be removed from pandas in a future version. Use pandas.concat instead.\n",
            "  ResultsCollection=ResultsCollection.append(IterResults, ignore_index=True)\n",
            "\r 91%|█████████ | 922/1012 [3:01:35<25:50, 17.23s/it]/usr/local/lib/python3.10/dist-packages/arch/univariate/base.py:766: ConvergenceWarning: The optimizer returned code 9. The message is:\n",
            "Iteration limit reached\n",
            "See scipy.optimize.fmin_slsqp for code meaning.\n",
            "\n",
            "  warnings.warn(\n",
            "/usr/local/lib/python3.10/dist-packages/tensorflow/python/framework/constant_op.py:103: RuntimeWarning: overflow encountered in cast\n",
            "  return ops.EagerTensor(value, ctx.device_name, dtype)\n"
          ]
        },
        {
          "metadata": {
            "tags": null
          },
          "name": "stdout",
          "output_type": "stream",
          "text": [
            "14/14 [==============================] - 1s 3ms/step\n"
          ]
        },
        {
          "metadata": {
            "tags": null
          },
          "name": "stderr",
          "output_type": "stream",
          "text": [
            "<ipython-input-30-84f19216e9c9>:14: FutureWarning: The frame.append method is deprecated and will be removed from pandas in a future version. Use pandas.concat instead.\n",
            "  ResultsCollection=ResultsCollection.append(IterResults, ignore_index=True)\n",
            "\r 91%|█████████ | 923/1012 [3:01:52<25:35, 17.25s/it]"
          ]
        },
        {
          "metadata": {
            "tags": null
          },
          "name": "stdout",
          "output_type": "stream",
          "text": [
            "14/14 [==============================] - 0s 3ms/step\n"
          ]
        },
        {
          "metadata": {
            "tags": null
          },
          "name": "stderr",
          "output_type": "stream",
          "text": [
            "<ipython-input-30-84f19216e9c9>:14: FutureWarning: The frame.append method is deprecated and will be removed from pandas in a future version. Use pandas.concat instead.\n",
            "  ResultsCollection=ResultsCollection.append(IterResults, ignore_index=True)\n",
            "\r 91%|█████████▏| 924/1012 [3:02:09<25:19, 17.27s/it]"
          ]
        },
        {
          "metadata": {
            "tags": null
          },
          "name": "stdout",
          "output_type": "stream",
          "text": [
            "14/14 [==============================] - 1s 4ms/step\n"
          ]
        },
        {
          "metadata": {
            "tags": null
          },
          "name": "stderr",
          "output_type": "stream",
          "text": [
            "<ipython-input-30-84f19216e9c9>:14: FutureWarning: The frame.append method is deprecated and will be removed from pandas in a future version. Use pandas.concat instead.\n",
            "  ResultsCollection=ResultsCollection.append(IterResults, ignore_index=True)\n",
            "\r 91%|█████████▏| 925/1012 [3:02:26<25:04, 17.29s/it]"
          ]
        },
        {
          "metadata": {
            "tags": null
          },
          "name": "stdout",
          "output_type": "stream",
          "text": [
            "14/14 [==============================] - 0s 3ms/step\n"
          ]
        },
        {
          "metadata": {
            "tags": null
          },
          "name": "stderr",
          "output_type": "stream",
          "text": [
            "<ipython-input-30-84f19216e9c9>:14: FutureWarning: The frame.append method is deprecated and will be removed from pandas in a future version. Use pandas.concat instead.\n",
            "  ResultsCollection=ResultsCollection.append(IterResults, ignore_index=True)\n",
            "\r 92%|█████████▏| 926/1012 [3:02:44<24:48, 17.31s/it]"
          ]
        },
        {
          "metadata": {
            "tags": null
          },
          "name": "stdout",
          "output_type": "stream",
          "text": [
            "14/14 [==============================] - 1s 3ms/step\n"
          ]
        },
        {
          "metadata": {
            "tags": null
          },
          "name": "stderr",
          "output_type": "stream",
          "text": [
            "<ipython-input-30-84f19216e9c9>:14: FutureWarning: The frame.append method is deprecated and will be removed from pandas in a future version. Use pandas.concat instead.\n",
            "  ResultsCollection=ResultsCollection.append(IterResults, ignore_index=True)\n",
            "\r 92%|█████████▏| 927/1012 [3:03:01<24:31, 17.31s/it]"
          ]
        },
        {
          "metadata": {
            "tags": null
          },
          "name": "stdout",
          "output_type": "stream",
          "text": [
            "14/14 [==============================] - 0s 3ms/step\n"
          ]
        },
        {
          "metadata": {
            "tags": null
          },
          "name": "stderr",
          "output_type": "stream",
          "text": [
            "<ipython-input-30-84f19216e9c9>:14: FutureWarning: The frame.append method is deprecated and will be removed from pandas in a future version. Use pandas.concat instead.\n",
            "  ResultsCollection=ResultsCollection.append(IterResults, ignore_index=True)\n",
            "\r 92%|█████████▏| 928/1012 [3:03:19<24:18, 17.36s/it]"
          ]
        },
        {
          "metadata": {
            "tags": null
          },
          "name": "stdout",
          "output_type": "stream",
          "text": [
            "14/14 [==============================] - 1s 3ms/step\n"
          ]
        },
        {
          "metadata": {
            "tags": null
          },
          "name": "stderr",
          "output_type": "stream",
          "text": [
            "<ipython-input-30-84f19216e9c9>:14: FutureWarning: The frame.append method is deprecated and will be removed from pandas in a future version. Use pandas.concat instead.\n",
            "  ResultsCollection=ResultsCollection.append(IterResults, ignore_index=True)\n",
            "\r 92%|█████████▏| 929/1012 [3:03:36<24:03, 17.39s/it]"
          ]
        },
        {
          "metadata": {
            "tags": null
          },
          "name": "stdout",
          "output_type": "stream",
          "text": [
            "14/14 [==============================] - 1s 3ms/step\n"
          ]
        },
        {
          "metadata": {
            "tags": null
          },
          "name": "stderr",
          "output_type": "stream",
          "text": [
            "<ipython-input-30-84f19216e9c9>:14: FutureWarning: The frame.append method is deprecated and will be removed from pandas in a future version. Use pandas.concat instead.\n",
            "  ResultsCollection=ResultsCollection.append(IterResults, ignore_index=True)\n",
            "\r 92%|█████████▏| 930/1012 [3:03:54<23:46, 17.40s/it]"
          ]
        },
        {
          "metadata": {
            "tags": null
          },
          "name": "stdout",
          "output_type": "stream",
          "text": [
            "14/14 [==============================] - 0s 3ms/step\n"
          ]
        },
        {
          "metadata": {
            "tags": null
          },
          "name": "stderr",
          "output_type": "stream",
          "text": [
            "<ipython-input-30-84f19216e9c9>:14: FutureWarning: The frame.append method is deprecated and will be removed from pandas in a future version. Use pandas.concat instead.\n",
            "  ResultsCollection=ResultsCollection.append(IterResults, ignore_index=True)\n",
            "\r 92%|█████████▏| 931/1012 [3:04:11<23:37, 17.50s/it]"
          ]
        },
        {
          "metadata": {
            "tags": null
          },
          "name": "stdout",
          "output_type": "stream",
          "text": [
            "14/14 [==============================] - 1s 3ms/step\n"
          ]
        },
        {
          "metadata": {
            "tags": null
          },
          "name": "stderr",
          "output_type": "stream",
          "text": [
            "<ipython-input-30-84f19216e9c9>:14: FutureWarning: The frame.append method is deprecated and will be removed from pandas in a future version. Use pandas.concat instead.\n",
            "  ResultsCollection=ResultsCollection.append(IterResults, ignore_index=True)\n",
            "\r 92%|█████████▏| 932/1012 [3:04:29<23:24, 17.56s/it]"
          ]
        },
        {
          "metadata": {
            "tags": null
          },
          "name": "stdout",
          "output_type": "stream",
          "text": [
            "14/14 [==============================] - 0s 3ms/step\n"
          ]
        },
        {
          "metadata": {
            "tags": null
          },
          "name": "stderr",
          "output_type": "stream",
          "text": [
            "<ipython-input-30-84f19216e9c9>:14: FutureWarning: The frame.append method is deprecated and will be removed from pandas in a future version. Use pandas.concat instead.\n",
            "  ResultsCollection=ResultsCollection.append(IterResults, ignore_index=True)\n",
            "\r 92%|█████████▏| 933/1012 [3:04:46<23:00, 17.47s/it]"
          ]
        },
        {
          "metadata": {
            "tags": null
          },
          "name": "stdout",
          "output_type": "stream",
          "text": [
            "14/14 [==============================] - 1s 3ms/step\n"
          ]
        },
        {
          "metadata": {
            "tags": null
          },
          "name": "stderr",
          "output_type": "stream",
          "text": [
            "<ipython-input-30-84f19216e9c9>:14: FutureWarning: The frame.append method is deprecated and will be removed from pandas in a future version. Use pandas.concat instead.\n",
            "  ResultsCollection=ResultsCollection.append(IterResults, ignore_index=True)\n",
            "\r 92%|█████████▏| 934/1012 [3:05:04<22:43, 17.49s/it]"
          ]
        },
        {
          "metadata": {
            "tags": null
          },
          "name": "stdout",
          "output_type": "stream",
          "text": [
            "14/14 [==============================] - 0s 3ms/step\n"
          ]
        },
        {
          "metadata": {
            "tags": null
          },
          "name": "stderr",
          "output_type": "stream",
          "text": [
            "<ipython-input-30-84f19216e9c9>:14: FutureWarning: The frame.append method is deprecated and will be removed from pandas in a future version. Use pandas.concat instead.\n",
            "  ResultsCollection=ResultsCollection.append(IterResults, ignore_index=True)\n",
            "\r 92%|█████████▏| 935/1012 [3:05:21<22:28, 17.52s/it]"
          ]
        },
        {
          "metadata": {
            "tags": null
          },
          "name": "stdout",
          "output_type": "stream",
          "text": [
            "14/14 [==============================] - 1s 4ms/step\n"
          ]
        },
        {
          "metadata": {
            "tags": null
          },
          "name": "stderr",
          "output_type": "stream",
          "text": [
            "<ipython-input-30-84f19216e9c9>:14: FutureWarning: The frame.append method is deprecated and will be removed from pandas in a future version. Use pandas.concat instead.\n",
            "  ResultsCollection=ResultsCollection.append(IterResults, ignore_index=True)\n",
            "\r 92%|█████████▏| 936/1012 [3:05:42<23:29, 18.55s/it]"
          ]
        },
        {
          "metadata": {
            "tags": null
          },
          "name": "stdout",
          "output_type": "stream",
          "text": [
            "14/14 [==============================] - 1s 4ms/step\n"
          ]
        },
        {
          "metadata": {
            "tags": null
          },
          "name": "stderr",
          "output_type": "stream",
          "text": [
            "<ipython-input-30-84f19216e9c9>:14: FutureWarning: The frame.append method is deprecated and will be removed from pandas in a future version. Use pandas.concat instead.\n",
            "  ResultsCollection=ResultsCollection.append(IterResults, ignore_index=True)\n",
            "\r 93%|█████████▎| 937/1012 [3:06:02<23:28, 18.78s/it]"
          ]
        },
        {
          "metadata": {
            "tags": null
          },
          "name": "stdout",
          "output_type": "stream",
          "text": [
            "14/14 [==============================] - 1s 3ms/step\n"
          ]
        },
        {
          "metadata": {
            "tags": null
          },
          "name": "stderr",
          "output_type": "stream",
          "text": [
            "<ipython-input-30-84f19216e9c9>:14: FutureWarning: The frame.append method is deprecated and will be removed from pandas in a future version. Use pandas.concat instead.\n",
            "  ResultsCollection=ResultsCollection.append(IterResults, ignore_index=True)\n",
            "\r 93%|█████████▎| 938/1012 [3:06:19<22:44, 18.43s/it]"
          ]
        },
        {
          "metadata": {
            "tags": null
          },
          "name": "stdout",
          "output_type": "stream",
          "text": [
            "14/14 [==============================] - 1s 3ms/step\n"
          ]
        },
        {
          "metadata": {
            "tags": null
          },
          "name": "stderr",
          "output_type": "stream",
          "text": [
            "<ipython-input-30-84f19216e9c9>:14: FutureWarning: The frame.append method is deprecated and will be removed from pandas in a future version. Use pandas.concat instead.\n",
            "  ResultsCollection=ResultsCollection.append(IterResults, ignore_index=True)\n",
            "\r 93%|█████████▎| 939/1012 [3:06:37<22:02, 18.12s/it]"
          ]
        },
        {
          "metadata": {
            "tags": null
          },
          "name": "stdout",
          "output_type": "stream",
          "text": [
            "14/14 [==============================] - 0s 3ms/step\n"
          ]
        },
        {
          "metadata": {
            "tags": null
          },
          "name": "stderr",
          "output_type": "stream",
          "text": [
            "<ipython-input-30-84f19216e9c9>:14: FutureWarning: The frame.append method is deprecated and will be removed from pandas in a future version. Use pandas.concat instead.\n",
            "  ResultsCollection=ResultsCollection.append(IterResults, ignore_index=True)\n",
            "\r 93%|█████████▎| 940/1012 [3:06:54<21:29, 17.91s/it]"
          ]
        },
        {
          "metadata": {
            "tags": null
          },
          "name": "stdout",
          "output_type": "stream",
          "text": [
            "14/14 [==============================] - 1s 3ms/step\n"
          ]
        },
        {
          "metadata": {
            "tags": null
          },
          "name": "stderr",
          "output_type": "stream",
          "text": [
            "<ipython-input-30-84f19216e9c9>:14: FutureWarning: The frame.append method is deprecated and will be removed from pandas in a future version. Use pandas.concat instead.\n",
            "  ResultsCollection=ResultsCollection.append(IterResults, ignore_index=True)\n",
            "\r 93%|█████████▎| 941/1012 [3:07:11<20:57, 17.71s/it]"
          ]
        },
        {
          "metadata": {
            "tags": null
          },
          "name": "stdout",
          "output_type": "stream",
          "text": [
            "14/14 [==============================] - 0s 3ms/step\n"
          ]
        },
        {
          "metadata": {
            "tags": null
          },
          "name": "stderr",
          "output_type": "stream",
          "text": [
            "<ipython-input-30-84f19216e9c9>:14: FutureWarning: The frame.append method is deprecated and will be removed from pandas in a future version. Use pandas.concat instead.\n",
            "  ResultsCollection=ResultsCollection.append(IterResults, ignore_index=True)\n",
            "\r 93%|█████████▎| 942/1012 [3:07:29<20:31, 17.59s/it]"
          ]
        },
        {
          "metadata": {
            "tags": null
          },
          "name": "stdout",
          "output_type": "stream",
          "text": [
            "14/14 [==============================] - 0s 3ms/step\n"
          ]
        },
        {
          "metadata": {
            "tags": null
          },
          "name": "stderr",
          "output_type": "stream",
          "text": [
            "<ipython-input-30-84f19216e9c9>:14: FutureWarning: The frame.append method is deprecated and will be removed from pandas in a future version. Use pandas.concat instead.\n",
            "  ResultsCollection=ResultsCollection.append(IterResults, ignore_index=True)\n",
            "\r 93%|█████████▎| 943/1012 [3:07:46<20:08, 17.51s/it]"
          ]
        },
        {
          "metadata": {
            "tags": null
          },
          "name": "stdout",
          "output_type": "stream",
          "text": [
            "14/14 [==============================] - 1s 3ms/step\n"
          ]
        },
        {
          "metadata": {
            "tags": null
          },
          "name": "stderr",
          "output_type": "stream",
          "text": [
            "<ipython-input-30-84f19216e9c9>:14: FutureWarning: The frame.append method is deprecated and will be removed from pandas in a future version. Use pandas.concat instead.\n",
            "  ResultsCollection=ResultsCollection.append(IterResults, ignore_index=True)\n",
            "\r 93%|█████████▎| 944/1012 [3:08:03<19:50, 17.51s/it]"
          ]
        },
        {
          "metadata": {
            "tags": null
          },
          "name": "stdout",
          "output_type": "stream",
          "text": [
            "14/14 [==============================] - 0s 3ms/step\n"
          ]
        },
        {
          "metadata": {
            "tags": null
          },
          "name": "stderr",
          "output_type": "stream",
          "text": [
            "<ipython-input-30-84f19216e9c9>:14: FutureWarning: The frame.append method is deprecated and will be removed from pandas in a future version. Use pandas.concat instead.\n",
            "  ResultsCollection=ResultsCollection.append(IterResults, ignore_index=True)\n",
            "\r 93%|█████████▎| 945/1012 [3:08:21<19:30, 17.47s/it]"
          ]
        },
        {
          "metadata": {
            "tags": null
          },
          "name": "stdout",
          "output_type": "stream",
          "text": [
            "14/14 [==============================] - 1s 3ms/step\n"
          ]
        },
        {
          "metadata": {
            "tags": null
          },
          "name": "stderr",
          "output_type": "stream",
          "text": [
            "<ipython-input-30-84f19216e9c9>:14: FutureWarning: The frame.append method is deprecated and will be removed from pandas in a future version. Use pandas.concat instead.\n",
            "  ResultsCollection=ResultsCollection.append(IterResults, ignore_index=True)\n",
            "\r 93%|█████████▎| 946/1012 [3:08:38<19:11, 17.45s/it]"
          ]
        },
        {
          "metadata": {
            "tags": null
          },
          "name": "stdout",
          "output_type": "stream",
          "text": [
            "14/14 [==============================] - 1s 3ms/step\n"
          ]
        },
        {
          "metadata": {
            "tags": null
          },
          "name": "stderr",
          "output_type": "stream",
          "text": [
            "<ipython-input-30-84f19216e9c9>:14: FutureWarning: The frame.append method is deprecated and will be removed from pandas in a future version. Use pandas.concat instead.\n",
            "  ResultsCollection=ResultsCollection.append(IterResults, ignore_index=True)\n",
            "\r 94%|█████████▎| 947/1012 [3:08:56<18:57, 17.50s/it]"
          ]
        },
        {
          "metadata": {
            "tags": null
          },
          "name": "stdout",
          "output_type": "stream",
          "text": [
            "14/14 [==============================] - 0s 3ms/step\n"
          ]
        },
        {
          "metadata": {
            "tags": null
          },
          "name": "stderr",
          "output_type": "stream",
          "text": [
            "<ipython-input-30-84f19216e9c9>:14: FutureWarning: The frame.append method is deprecated and will be removed from pandas in a future version. Use pandas.concat instead.\n",
            "  ResultsCollection=ResultsCollection.append(IterResults, ignore_index=True)\n",
            "\r 94%|█████████▎| 948/1012 [3:09:13<18:42, 17.54s/it]"
          ]
        },
        {
          "metadata": {
            "tags": null
          },
          "name": "stdout",
          "output_type": "stream",
          "text": [
            "14/14 [==============================] - 1s 3ms/step\n"
          ]
        },
        {
          "metadata": {
            "tags": null
          },
          "name": "stderr",
          "output_type": "stream",
          "text": [
            "<ipython-input-30-84f19216e9c9>:14: FutureWarning: The frame.append method is deprecated and will be removed from pandas in a future version. Use pandas.concat instead.\n",
            "  ResultsCollection=ResultsCollection.append(IterResults, ignore_index=True)\n",
            "\r 94%|█████████▍| 949/1012 [3:09:31<18:25, 17.55s/it]"
          ]
        },
        {
          "metadata": {
            "tags": null
          },
          "name": "stdout",
          "output_type": "stream",
          "text": [
            "14/14 [==============================] - 0s 3ms/step\n"
          ]
        },
        {
          "metadata": {
            "tags": null
          },
          "name": "stderr",
          "output_type": "stream",
          "text": [
            "<ipython-input-30-84f19216e9c9>:14: FutureWarning: The frame.append method is deprecated and will be removed from pandas in a future version. Use pandas.concat instead.\n",
            "  ResultsCollection=ResultsCollection.append(IterResults, ignore_index=True)\n",
            "\r 94%|█████████▍| 950/1012 [3:09:50<18:28, 17.88s/it]"
          ]
        },
        {
          "metadata": {
            "tags": null
          },
          "name": "stdout",
          "output_type": "stream",
          "text": [
            "14/14 [==============================] - 1s 3ms/step\n"
          ]
        },
        {
          "metadata": {
            "tags": null
          },
          "name": "stderr",
          "output_type": "stream",
          "text": [
            "<ipython-input-30-84f19216e9c9>:14: FutureWarning: The frame.append method is deprecated and will be removed from pandas in a future version. Use pandas.concat instead.\n",
            "  ResultsCollection=ResultsCollection.append(IterResults, ignore_index=True)\n",
            "\r 94%|█████████▍| 951/1012 [3:10:11<19:10, 18.86s/it]"
          ]
        },
        {
          "metadata": {
            "tags": null
          },
          "name": "stdout",
          "output_type": "stream",
          "text": [
            "14/14 [==============================] - 1s 3ms/step\n"
          ]
        },
        {
          "metadata": {
            "tags": null
          },
          "name": "stderr",
          "output_type": "stream",
          "text": [
            "<ipython-input-30-84f19216e9c9>:14: FutureWarning: The frame.append method is deprecated and will be removed from pandas in a future version. Use pandas.concat instead.\n",
            "  ResultsCollection=ResultsCollection.append(IterResults, ignore_index=True)\n",
            "\r 94%|█████████▍| 952/1012 [3:10:29<18:44, 18.74s/it]"
          ]
        },
        {
          "metadata": {
            "tags": null
          },
          "name": "stdout",
          "output_type": "stream",
          "text": [
            "14/14 [==============================] - 1s 5ms/step\n"
          ]
        },
        {
          "metadata": {
            "tags": null
          },
          "name": "stderr",
          "output_type": "stream",
          "text": [
            "<ipython-input-30-84f19216e9c9>:14: FutureWarning: The frame.append method is deprecated and will be removed from pandas in a future version. Use pandas.concat instead.\n",
            "  ResultsCollection=ResultsCollection.append(IterResults, ignore_index=True)\n",
            "\r 94%|█████████▍| 953/1012 [3:10:48<18:29, 18.81s/it]"
          ]
        },
        {
          "metadata": {
            "tags": null
          },
          "name": "stdout",
          "output_type": "stream",
          "text": [
            "14/14 [==============================] - 1s 4ms/step\n"
          ]
        },
        {
          "metadata": {
            "tags": null
          },
          "name": "stderr",
          "output_type": "stream",
          "text": [
            "<ipython-input-30-84f19216e9c9>:14: FutureWarning: The frame.append method is deprecated and will be removed from pandas in a future version. Use pandas.concat instead.\n",
            "  ResultsCollection=ResultsCollection.append(IterResults, ignore_index=True)\n",
            "\r 94%|█████████▍| 954/1012 [3:11:06<18:00, 18.64s/it]"
          ]
        },
        {
          "metadata": {
            "tags": null
          },
          "name": "stdout",
          "output_type": "stream",
          "text": [
            "14/14 [==============================] - 1s 4ms/step\n"
          ]
        },
        {
          "metadata": {
            "tags": null
          },
          "name": "stderr",
          "output_type": "stream",
          "text": [
            "<ipython-input-30-84f19216e9c9>:14: FutureWarning: The frame.append method is deprecated and will be removed from pandas in a future version. Use pandas.concat instead.\n",
            "  ResultsCollection=ResultsCollection.append(IterResults, ignore_index=True)\n",
            "\r 94%|█████████▍| 955/1012 [3:11:24<17:28, 18.40s/it]"
          ]
        },
        {
          "metadata": {
            "tags": null
          },
          "name": "stdout",
          "output_type": "stream",
          "text": [
            "14/14 [==============================] - 0s 3ms/step\n"
          ]
        },
        {
          "metadata": {
            "tags": null
          },
          "name": "stderr",
          "output_type": "stream",
          "text": [
            "<ipython-input-30-84f19216e9c9>:14: FutureWarning: The frame.append method is deprecated and will be removed from pandas in a future version. Use pandas.concat instead.\n",
            "  ResultsCollection=ResultsCollection.append(IterResults, ignore_index=True)\n",
            "\r 94%|█████████▍| 956/1012 [3:11:42<16:59, 18.21s/it]"
          ]
        },
        {
          "metadata": {
            "tags": null
          },
          "name": "stdout",
          "output_type": "stream",
          "text": [
            "14/14 [==============================] - 0s 3ms/step\n"
          ]
        },
        {
          "metadata": {
            "tags": null
          },
          "name": "stderr",
          "output_type": "stream",
          "text": [
            "<ipython-input-30-84f19216e9c9>:14: FutureWarning: The frame.append method is deprecated and will be removed from pandas in a future version. Use pandas.concat instead.\n",
            "  ResultsCollection=ResultsCollection.append(IterResults, ignore_index=True)\n",
            "\r 95%|█████████▍| 957/1012 [3:12:00<16:33, 18.06s/it]"
          ]
        },
        {
          "metadata": {
            "tags": null
          },
          "name": "stdout",
          "output_type": "stream",
          "text": [
            "14/14 [==============================] - 0s 3ms/step\n"
          ]
        },
        {
          "metadata": {
            "tags": null
          },
          "name": "stderr",
          "output_type": "stream",
          "text": [
            "<ipython-input-30-84f19216e9c9>:14: FutureWarning: The frame.append method is deprecated and will be removed from pandas in a future version. Use pandas.concat instead.\n",
            "  ResultsCollection=ResultsCollection.append(IterResults, ignore_index=True)\n",
            "\r 95%|█████████▍| 958/1012 [3:12:18<16:09, 17.95s/it]"
          ]
        },
        {
          "metadata": {
            "tags": null
          },
          "name": "stdout",
          "output_type": "stream",
          "text": [
            "14/14 [==============================] - 1s 3ms/step\n"
          ]
        },
        {
          "metadata": {
            "tags": null
          },
          "name": "stderr",
          "output_type": "stream",
          "text": [
            "<ipython-input-30-84f19216e9c9>:14: FutureWarning: The frame.append method is deprecated and will be removed from pandas in a future version. Use pandas.concat instead.\n",
            "  ResultsCollection=ResultsCollection.append(IterResults, ignore_index=True)\n",
            "\r 95%|█████████▍| 959/1012 [3:12:35<15:51, 17.94s/it]"
          ]
        },
        {
          "metadata": {
            "tags": null
          },
          "name": "stdout",
          "output_type": "stream",
          "text": [
            "14/14 [==============================] - 1s 3ms/step\n"
          ]
        },
        {
          "metadata": {
            "tags": null
          },
          "name": "stderr",
          "output_type": "stream",
          "text": [
            "<ipython-input-30-84f19216e9c9>:14: FutureWarning: The frame.append method is deprecated and will be removed from pandas in a future version. Use pandas.concat instead.\n",
            "  ResultsCollection=ResultsCollection.append(IterResults, ignore_index=True)\n",
            "\r 95%|█████████▍| 960/1012 [3:12:53<15:31, 17.91s/it]"
          ]
        },
        {
          "metadata": {
            "tags": null
          },
          "name": "stdout",
          "output_type": "stream",
          "text": [
            "14/14 [==============================] - 1s 4ms/step\n"
          ]
        },
        {
          "metadata": {
            "tags": null
          },
          "name": "stderr",
          "output_type": "stream",
          "text": [
            "<ipython-input-30-84f19216e9c9>:14: FutureWarning: The frame.append method is deprecated and will be removed from pandas in a future version. Use pandas.concat instead.\n",
            "  ResultsCollection=ResultsCollection.append(IterResults, ignore_index=True)\n",
            "\r 95%|█████████▍| 961/1012 [3:13:11<15:13, 17.92s/it]"
          ]
        },
        {
          "metadata": {
            "tags": null
          },
          "name": "stdout",
          "output_type": "stream",
          "text": [
            "14/14 [==============================] - 1s 3ms/step\n"
          ]
        },
        {
          "metadata": {
            "tags": null
          },
          "name": "stderr",
          "output_type": "stream",
          "text": [
            "<ipython-input-30-84f19216e9c9>:14: FutureWarning: The frame.append method is deprecated and will be removed from pandas in a future version. Use pandas.concat instead.\n",
            "  ResultsCollection=ResultsCollection.append(IterResults, ignore_index=True)\n",
            "\r 95%|█████████▌| 962/1012 [3:13:29<14:51, 17.84s/it]"
          ]
        },
        {
          "metadata": {
            "tags": null
          },
          "name": "stdout",
          "output_type": "stream",
          "text": [
            "14/14 [==============================] - 0s 3ms/step\n"
          ]
        },
        {
          "metadata": {
            "tags": null
          },
          "name": "stderr",
          "output_type": "stream",
          "text": [
            "<ipython-input-30-84f19216e9c9>:14: FutureWarning: The frame.append method is deprecated and will be removed from pandas in a future version. Use pandas.concat instead.\n",
            "  ResultsCollection=ResultsCollection.append(IterResults, ignore_index=True)\n",
            "\r 95%|█████████▌| 963/1012 [3:13:47<14:36, 17.90s/it]"
          ]
        },
        {
          "metadata": {
            "tags": null
          },
          "name": "stdout",
          "output_type": "stream",
          "text": [
            "14/14 [==============================] - 0s 3ms/step\n"
          ]
        },
        {
          "metadata": {
            "tags": null
          },
          "name": "stderr",
          "output_type": "stream",
          "text": [
            "<ipython-input-30-84f19216e9c9>:14: FutureWarning: The frame.append method is deprecated and will be removed from pandas in a future version. Use pandas.concat instead.\n",
            "  ResultsCollection=ResultsCollection.append(IterResults, ignore_index=True)\n",
            "\r 95%|█████████▌| 964/1012 [3:14:05<14:20, 17.93s/it]"
          ]
        },
        {
          "metadata": {
            "tags": null
          },
          "name": "stdout",
          "output_type": "stream",
          "text": [
            "14/14 [==============================] - 0s 3ms/step\n"
          ]
        },
        {
          "metadata": {
            "tags": null
          },
          "name": "stderr",
          "output_type": "stream",
          "text": [
            "<ipython-input-30-84f19216e9c9>:14: FutureWarning: The frame.append method is deprecated and will be removed from pandas in a future version. Use pandas.concat instead.\n",
            "  ResultsCollection=ResultsCollection.append(IterResults, ignore_index=True)\n",
            "\r 95%|█████████▌| 965/1012 [3:14:23<14:01, 17.90s/it]"
          ]
        },
        {
          "metadata": {
            "tags": null
          },
          "name": "stdout",
          "output_type": "stream",
          "text": [
            "14/14 [==============================] - 0s 3ms/step\n"
          ]
        },
        {
          "metadata": {
            "tags": null
          },
          "name": "stderr",
          "output_type": "stream",
          "text": [
            "<ipython-input-30-84f19216e9c9>:14: FutureWarning: The frame.append method is deprecated and will be removed from pandas in a future version. Use pandas.concat instead.\n",
            "  ResultsCollection=ResultsCollection.append(IterResults, ignore_index=True)\n",
            "\r 95%|█████████▌| 966/1012 [3:14:41<13:42, 17.89s/it]"
          ]
        },
        {
          "metadata": {
            "tags": null
          },
          "name": "stdout",
          "output_type": "stream",
          "text": [
            "14/14 [==============================] - 1s 3ms/step\n"
          ]
        },
        {
          "metadata": {
            "tags": null
          },
          "name": "stderr",
          "output_type": "stream",
          "text": [
            "<ipython-input-30-84f19216e9c9>:14: FutureWarning: The frame.append method is deprecated and will be removed from pandas in a future version. Use pandas.concat instead.\n",
            "  ResultsCollection=ResultsCollection.append(IterResults, ignore_index=True)\n",
            "\r 96%|█████████▌| 967/1012 [3:14:59<13:26, 17.93s/it]"
          ]
        },
        {
          "metadata": {
            "tags": null
          },
          "name": "stdout",
          "output_type": "stream",
          "text": [
            "14/14 [==============================] - 1s 4ms/step\n"
          ]
        },
        {
          "metadata": {
            "tags": null
          },
          "name": "stderr",
          "output_type": "stream",
          "text": [
            "<ipython-input-30-84f19216e9c9>:14: FutureWarning: The frame.append method is deprecated and will be removed from pandas in a future version. Use pandas.concat instead.\n",
            "  ResultsCollection=ResultsCollection.append(IterResults, ignore_index=True)\n",
            "\r 96%|█████████▌| 968/1012 [3:15:17<13:10, 17.97s/it]"
          ]
        },
        {
          "metadata": {
            "tags": null
          },
          "name": "stdout",
          "output_type": "stream",
          "text": [
            "14/14 [==============================] - 0s 3ms/step\n"
          ]
        },
        {
          "metadata": {
            "tags": null
          },
          "name": "stderr",
          "output_type": "stream",
          "text": [
            "<ipython-input-30-84f19216e9c9>:14: FutureWarning: The frame.append method is deprecated and will be removed from pandas in a future version. Use pandas.concat instead.\n",
            "  ResultsCollection=ResultsCollection.append(IterResults, ignore_index=True)\n",
            "\r 96%|█████████▌| 969/1012 [3:15:35<12:52, 17.97s/it]"
          ]
        },
        {
          "metadata": {
            "tags": null
          },
          "name": "stdout",
          "output_type": "stream",
          "text": [
            "14/14 [==============================] - 0s 3ms/step\n"
          ]
        },
        {
          "metadata": {
            "tags": null
          },
          "name": "stderr",
          "output_type": "stream",
          "text": [
            "<ipython-input-30-84f19216e9c9>:14: FutureWarning: The frame.append method is deprecated and will be removed from pandas in a future version. Use pandas.concat instead.\n",
            "  ResultsCollection=ResultsCollection.append(IterResults, ignore_index=True)\n",
            "\r 96%|█████████▌| 970/1012 [3:15:53<12:33, 17.95s/it]"
          ]
        },
        {
          "metadata": {
            "tags": null
          },
          "name": "stdout",
          "output_type": "stream",
          "text": [
            "14/14 [==============================] - 0s 3ms/step\n"
          ]
        },
        {
          "metadata": {
            "tags": null
          },
          "name": "stderr",
          "output_type": "stream",
          "text": [
            "<ipython-input-30-84f19216e9c9>:14: FutureWarning: The frame.append method is deprecated and will be removed from pandas in a future version. Use pandas.concat instead.\n",
            "  ResultsCollection=ResultsCollection.append(IterResults, ignore_index=True)\n",
            "\r 96%|█████████▌| 971/1012 [3:16:10<12:14, 17.92s/it]"
          ]
        },
        {
          "metadata": {
            "tags": null
          },
          "name": "stdout",
          "output_type": "stream",
          "text": [
            "14/14 [==============================] - 0s 3ms/step\n"
          ]
        },
        {
          "metadata": {
            "tags": null
          },
          "name": "stderr",
          "output_type": "stream",
          "text": [
            "<ipython-input-30-84f19216e9c9>:14: FutureWarning: The frame.append method is deprecated and will be removed from pandas in a future version. Use pandas.concat instead.\n",
            "  ResultsCollection=ResultsCollection.append(IterResults, ignore_index=True)\n",
            "\r 96%|█████████▌| 972/1012 [3:16:28<11:58, 17.96s/it]"
          ]
        },
        {
          "metadata": {
            "tags": null
          },
          "name": "stdout",
          "output_type": "stream",
          "text": [
            "14/14 [==============================] - 0s 3ms/step\n"
          ]
        },
        {
          "metadata": {
            "tags": null
          },
          "name": "stderr",
          "output_type": "stream",
          "text": [
            "<ipython-input-30-84f19216e9c9>:14: FutureWarning: The frame.append method is deprecated and will be removed from pandas in a future version. Use pandas.concat instead.\n",
            "  ResultsCollection=ResultsCollection.append(IterResults, ignore_index=True)\n",
            "\r 96%|█████████▌| 973/1012 [3:16:46<11:39, 17.94s/it]"
          ]
        },
        {
          "metadata": {
            "tags": null
          },
          "name": "stdout",
          "output_type": "stream",
          "text": [
            "14/14 [==============================] - 0s 3ms/step\n"
          ]
        },
        {
          "metadata": {
            "tags": null
          },
          "name": "stderr",
          "output_type": "stream",
          "text": [
            "<ipython-input-30-84f19216e9c9>:14: FutureWarning: The frame.append method is deprecated and will be removed from pandas in a future version. Use pandas.concat instead.\n",
            "  ResultsCollection=ResultsCollection.append(IterResults, ignore_index=True)\n",
            "\r 96%|█████████▌| 974/1012 [3:17:04<11:21, 17.94s/it]"
          ]
        },
        {
          "metadata": {
            "tags": null
          },
          "name": "stdout",
          "output_type": "stream",
          "text": [
            "14/14 [==============================] - 1s 4ms/step\n"
          ]
        },
        {
          "metadata": {
            "tags": null
          },
          "name": "stderr",
          "output_type": "stream",
          "text": [
            "<ipython-input-30-84f19216e9c9>:14: FutureWarning: The frame.append method is deprecated and will be removed from pandas in a future version. Use pandas.concat instead.\n",
            "  ResultsCollection=ResultsCollection.append(IterResults, ignore_index=True)\n",
            "\r 96%|█████████▋| 975/1012 [3:17:22<11:03, 17.93s/it]"
          ]
        },
        {
          "metadata": {
            "tags": null
          },
          "name": "stdout",
          "output_type": "stream",
          "text": [
            "14/14 [==============================] - 0s 3ms/step\n"
          ]
        },
        {
          "metadata": {
            "tags": null
          },
          "name": "stderr",
          "output_type": "stream",
          "text": [
            "<ipython-input-30-84f19216e9c9>:14: FutureWarning: The frame.append method is deprecated and will be removed from pandas in a future version. Use pandas.concat instead.\n",
            "  ResultsCollection=ResultsCollection.append(IterResults, ignore_index=True)\n",
            "\r 96%|█████████▋| 976/1012 [3:17:40<10:43, 17.89s/it]"
          ]
        },
        {
          "metadata": {
            "tags": null
          },
          "name": "stdout",
          "output_type": "stream",
          "text": [
            "14/14 [==============================] - 0s 3ms/step\n"
          ]
        },
        {
          "metadata": {
            "tags": null
          },
          "name": "stderr",
          "output_type": "stream",
          "text": [
            "<ipython-input-30-84f19216e9c9>:14: FutureWarning: The frame.append method is deprecated and will be removed from pandas in a future version. Use pandas.concat instead.\n",
            "  ResultsCollection=ResultsCollection.append(IterResults, ignore_index=True)\n",
            "\r 97%|█████████▋| 977/1012 [3:17:58<10:27, 17.92s/it]"
          ]
        },
        {
          "metadata": {
            "tags": null
          },
          "name": "stdout",
          "output_type": "stream",
          "text": [
            "14/14 [==============================] - 0s 3ms/step\n"
          ]
        },
        {
          "metadata": {
            "tags": null
          },
          "name": "stderr",
          "output_type": "stream",
          "text": [
            "<ipython-input-30-84f19216e9c9>:14: FutureWarning: The frame.append method is deprecated and will be removed from pandas in a future version. Use pandas.concat instead.\n",
            "  ResultsCollection=ResultsCollection.append(IterResults, ignore_index=True)\n",
            "\r 97%|█████████▋| 978/1012 [3:18:16<10:07, 17.87s/it]"
          ]
        },
        {
          "metadata": {
            "tags": null
          },
          "name": "stdout",
          "output_type": "stream",
          "text": [
            "14/14 [==============================] - 1s 4ms/step\n"
          ]
        },
        {
          "metadata": {
            "tags": null
          },
          "name": "stderr",
          "output_type": "stream",
          "text": [
            "<ipython-input-30-84f19216e9c9>:14: FutureWarning: The frame.append method is deprecated and will be removed from pandas in a future version. Use pandas.concat instead.\n",
            "  ResultsCollection=ResultsCollection.append(IterResults, ignore_index=True)\n",
            "\r 97%|█████████▋| 979/1012 [3:18:34<09:49, 17.87s/it]"
          ]
        },
        {
          "metadata": {
            "tags": null
          },
          "name": "stdout",
          "output_type": "stream",
          "text": [
            "14/14 [==============================] - 0s 3ms/step\n"
          ]
        },
        {
          "metadata": {
            "tags": null
          },
          "name": "stderr",
          "output_type": "stream",
          "text": [
            "<ipython-input-30-84f19216e9c9>:14: FutureWarning: The frame.append method is deprecated and will be removed from pandas in a future version. Use pandas.concat instead.\n",
            "  ResultsCollection=ResultsCollection.append(IterResults, ignore_index=True)\n",
            "\r 97%|█████████▋| 980/1012 [3:18:51<09:31, 17.85s/it]"
          ]
        },
        {
          "metadata": {
            "tags": null
          },
          "name": "stdout",
          "output_type": "stream",
          "text": [
            "14/14 [==============================] - 0s 3ms/step\n"
          ]
        },
        {
          "metadata": {
            "tags": null
          },
          "name": "stderr",
          "output_type": "stream",
          "text": [
            "<ipython-input-30-84f19216e9c9>:14: FutureWarning: The frame.append method is deprecated and will be removed from pandas in a future version. Use pandas.concat instead.\n",
            "  ResultsCollection=ResultsCollection.append(IterResults, ignore_index=True)\n",
            "\r 97%|█████████▋| 981/1012 [3:19:09<09:13, 17.87s/it]"
          ]
        },
        {
          "metadata": {
            "tags": null
          },
          "name": "stdout",
          "output_type": "stream",
          "text": [
            "14/14 [==============================] - 0s 3ms/step\n"
          ]
        },
        {
          "metadata": {
            "tags": null
          },
          "name": "stderr",
          "output_type": "stream",
          "text": [
            "<ipython-input-30-84f19216e9c9>:14: FutureWarning: The frame.append method is deprecated and will be removed from pandas in a future version. Use pandas.concat instead.\n",
            "  ResultsCollection=ResultsCollection.append(IterResults, ignore_index=True)\n",
            "\r 97%|█████████▋| 982/1012 [3:19:27<08:55, 17.86s/it]"
          ]
        },
        {
          "metadata": {
            "tags": null
          },
          "name": "stdout",
          "output_type": "stream",
          "text": [
            "14/14 [==============================] - 0s 3ms/step\n"
          ]
        },
        {
          "metadata": {
            "tags": null
          },
          "name": "stderr",
          "output_type": "stream",
          "text": [
            "<ipython-input-30-84f19216e9c9>:14: FutureWarning: The frame.append method is deprecated and will be removed from pandas in a future version. Use pandas.concat instead.\n",
            "  ResultsCollection=ResultsCollection.append(IterResults, ignore_index=True)\n",
            "\r 97%|█████████▋| 983/1012 [3:19:45<08:39, 17.93s/it]"
          ]
        },
        {
          "metadata": {
            "tags": null
          },
          "name": "stdout",
          "output_type": "stream",
          "text": [
            "14/14 [==============================] - 1s 3ms/step\n"
          ]
        },
        {
          "metadata": {
            "tags": null
          },
          "name": "stderr",
          "output_type": "stream",
          "text": [
            "<ipython-input-30-84f19216e9c9>:14: FutureWarning: The frame.append method is deprecated and will be removed from pandas in a future version. Use pandas.concat instead.\n",
            "  ResultsCollection=ResultsCollection.append(IterResults, ignore_index=True)\n",
            "\r 97%|█████████▋| 984/1012 [3:20:03<08:22, 17.96s/it]"
          ]
        },
        {
          "metadata": {
            "tags": null
          },
          "name": "stdout",
          "output_type": "stream",
          "text": [
            "14/14 [==============================] - 1s 3ms/step\n"
          ]
        },
        {
          "metadata": {
            "tags": null
          },
          "name": "stderr",
          "output_type": "stream",
          "text": [
            "<ipython-input-30-84f19216e9c9>:14: FutureWarning: The frame.append method is deprecated and will be removed from pandas in a future version. Use pandas.concat instead.\n",
            "  ResultsCollection=ResultsCollection.append(IterResults, ignore_index=True)\n",
            "\r 97%|█████████▋| 985/1012 [3:20:21<08:05, 17.98s/it]"
          ]
        },
        {
          "metadata": {
            "tags": null
          },
          "name": "stdout",
          "output_type": "stream",
          "text": [
            "14/14 [==============================] - 0s 3ms/step\n"
          ]
        },
        {
          "metadata": {
            "tags": null
          },
          "name": "stderr",
          "output_type": "stream",
          "text": [
            "<ipython-input-30-84f19216e9c9>:14: FutureWarning: The frame.append method is deprecated and will be removed from pandas in a future version. Use pandas.concat instead.\n",
            "  ResultsCollection=ResultsCollection.append(IterResults, ignore_index=True)\n",
            "\r 97%|█████████▋| 986/1012 [3:20:39<07:47, 17.98s/it]"
          ]
        },
        {
          "metadata": {
            "tags": null
          },
          "name": "stdout",
          "output_type": "stream",
          "text": [
            "14/14 [==============================] - 0s 3ms/step\n"
          ]
        },
        {
          "metadata": {
            "tags": null
          },
          "name": "stderr",
          "output_type": "stream",
          "text": [
            "<ipython-input-30-84f19216e9c9>:14: FutureWarning: The frame.append method is deprecated and will be removed from pandas in a future version. Use pandas.concat instead.\n",
            "  ResultsCollection=ResultsCollection.append(IterResults, ignore_index=True)\n",
            "\r 98%|█████████▊| 987/1012 [3:20:57<07:27, 17.91s/it]"
          ]
        },
        {
          "metadata": {
            "tags": null
          },
          "name": "stdout",
          "output_type": "stream",
          "text": [
            "14/14 [==============================] - 0s 3ms/step\n"
          ]
        },
        {
          "metadata": {
            "tags": null
          },
          "name": "stderr",
          "output_type": "stream",
          "text": [
            "<ipython-input-30-84f19216e9c9>:14: FutureWarning: The frame.append method is deprecated and will be removed from pandas in a future version. Use pandas.concat instead.\n",
            "  ResultsCollection=ResultsCollection.append(IterResults, ignore_index=True)\n",
            "\r 98%|█████████▊| 988/1012 [3:21:15<07:09, 17.90s/it]"
          ]
        },
        {
          "metadata": {
            "tags": null
          },
          "name": "stdout",
          "output_type": "stream",
          "text": [
            "14/14 [==============================] - 0s 3ms/step\n"
          ]
        },
        {
          "metadata": {
            "tags": null
          },
          "name": "stderr",
          "output_type": "stream",
          "text": [
            "<ipython-input-30-84f19216e9c9>:14: FutureWarning: The frame.append method is deprecated and will be removed from pandas in a future version. Use pandas.concat instead.\n",
            "  ResultsCollection=ResultsCollection.append(IterResults, ignore_index=True)\n",
            "\r 98%|█████████▊| 989/1012 [3:21:33<06:51, 17.88s/it]"
          ]
        },
        {
          "metadata": {
            "tags": null
          },
          "name": "stdout",
          "output_type": "stream",
          "text": [
            "14/14 [==============================] - 0s 3ms/step\n"
          ]
        },
        {
          "metadata": {
            "tags": null
          },
          "name": "stderr",
          "output_type": "stream",
          "text": [
            "<ipython-input-30-84f19216e9c9>:14: FutureWarning: The frame.append method is deprecated and will be removed from pandas in a future version. Use pandas.concat instead.\n",
            "  ResultsCollection=ResultsCollection.append(IterResults, ignore_index=True)\n",
            "\r 98%|█████████▊| 990/1012 [3:21:51<06:33, 17.86s/it]"
          ]
        },
        {
          "metadata": {
            "tags": null
          },
          "name": "stdout",
          "output_type": "stream",
          "text": [
            "14/14 [==============================] - 0s 3ms/step\n"
          ]
        },
        {
          "metadata": {
            "tags": null
          },
          "name": "stderr",
          "output_type": "stream",
          "text": [
            "<ipython-input-30-84f19216e9c9>:14: FutureWarning: The frame.append method is deprecated and will be removed from pandas in a future version. Use pandas.concat instead.\n",
            "  ResultsCollection=ResultsCollection.append(IterResults, ignore_index=True)\n",
            "\r 98%|█████████▊| 991/1012 [3:22:08<06:13, 17.79s/it]"
          ]
        },
        {
          "metadata": {
            "tags": null
          },
          "name": "stdout",
          "output_type": "stream",
          "text": [
            "14/14 [==============================] - 0s 3ms/step\n"
          ]
        },
        {
          "metadata": {
            "tags": null
          },
          "name": "stderr",
          "output_type": "stream",
          "text": [
            "<ipython-input-30-84f19216e9c9>:14: FutureWarning: The frame.append method is deprecated and will be removed from pandas in a future version. Use pandas.concat instead.\n",
            "  ResultsCollection=ResultsCollection.append(IterResults, ignore_index=True)\n",
            "\r 98%|█████████▊| 992/1012 [3:22:26<05:55, 17.77s/it]"
          ]
        },
        {
          "metadata": {
            "tags": null
          },
          "name": "stdout",
          "output_type": "stream",
          "text": [
            "14/14 [==============================] - 0s 3ms/step\n"
          ]
        },
        {
          "metadata": {
            "tags": null
          },
          "name": "stderr",
          "output_type": "stream",
          "text": [
            "<ipython-input-30-84f19216e9c9>:14: FutureWarning: The frame.append method is deprecated and will be removed from pandas in a future version. Use pandas.concat instead.\n",
            "  ResultsCollection=ResultsCollection.append(IterResults, ignore_index=True)\n",
            "\r 98%|█████████▊| 993/1012 [3:22:44<05:37, 17.78s/it]"
          ]
        },
        {
          "metadata": {
            "tags": null
          },
          "name": "stdout",
          "output_type": "stream",
          "text": [
            "14/14 [==============================] - 0s 3ms/step\n"
          ]
        },
        {
          "metadata": {
            "tags": null
          },
          "name": "stderr",
          "output_type": "stream",
          "text": [
            "<ipython-input-30-84f19216e9c9>:14: FutureWarning: The frame.append method is deprecated and will be removed from pandas in a future version. Use pandas.concat instead.\n",
            "  ResultsCollection=ResultsCollection.append(IterResults, ignore_index=True)\n",
            "\r 98%|█████████▊| 994/1012 [3:23:02<05:20, 17.78s/it]"
          ]
        },
        {
          "metadata": {
            "tags": null
          },
          "name": "stdout",
          "output_type": "stream",
          "text": [
            "14/14 [==============================] - 0s 3ms/step\n"
          ]
        },
        {
          "metadata": {
            "tags": null
          },
          "name": "stderr",
          "output_type": "stream",
          "text": [
            "<ipython-input-30-84f19216e9c9>:14: FutureWarning: The frame.append method is deprecated and will be removed from pandas in a future version. Use pandas.concat instead.\n",
            "  ResultsCollection=ResultsCollection.append(IterResults, ignore_index=True)\n",
            "\r 98%|█████████▊| 995/1012 [3:23:20<05:03, 17.85s/it]"
          ]
        },
        {
          "metadata": {
            "tags": null
          },
          "name": "stdout",
          "output_type": "stream",
          "text": [
            "14/14 [==============================] - 1s 3ms/step\n"
          ]
        },
        {
          "metadata": {
            "tags": null
          },
          "name": "stderr",
          "output_type": "stream",
          "text": [
            "<ipython-input-30-84f19216e9c9>:14: FutureWarning: The frame.append method is deprecated and will be removed from pandas in a future version. Use pandas.concat instead.\n",
            "  ResultsCollection=ResultsCollection.append(IterResults, ignore_index=True)\n",
            "\r 98%|█████████▊| 996/1012 [3:23:38<04:46, 17.91s/it]"
          ]
        },
        {
          "metadata": {
            "tags": null
          },
          "name": "stdout",
          "output_type": "stream",
          "text": [
            "14/14 [==============================] - 1s 3ms/step\n"
          ]
        },
        {
          "metadata": {
            "tags": null
          },
          "name": "stderr",
          "output_type": "stream",
          "text": [
            "<ipython-input-30-84f19216e9c9>:14: FutureWarning: The frame.append method is deprecated and will be removed from pandas in a future version. Use pandas.concat instead.\n",
            "  ResultsCollection=ResultsCollection.append(IterResults, ignore_index=True)\n",
            "\r 99%|█████████▊| 997/1012 [3:23:56<04:29, 17.94s/it]"
          ]
        },
        {
          "metadata": {
            "tags": null
          },
          "name": "stdout",
          "output_type": "stream",
          "text": [
            "14/14 [==============================] - 0s 3ms/step\n"
          ]
        },
        {
          "metadata": {
            "tags": null
          },
          "name": "stderr",
          "output_type": "stream",
          "text": [
            "<ipython-input-30-84f19216e9c9>:14: FutureWarning: The frame.append method is deprecated and will be removed from pandas in a future version. Use pandas.concat instead.\n",
            "  ResultsCollection=ResultsCollection.append(IterResults, ignore_index=True)\n",
            "\r 99%|█████████▊| 998/1012 [3:24:14<04:11, 17.95s/it]"
          ]
        },
        {
          "metadata": {
            "tags": null
          },
          "name": "stdout",
          "output_type": "stream",
          "text": [
            "14/14 [==============================] - 0s 3ms/step\n"
          ]
        },
        {
          "metadata": {
            "tags": null
          },
          "name": "stderr",
          "output_type": "stream",
          "text": [
            "<ipython-input-30-84f19216e9c9>:14: FutureWarning: The frame.append method is deprecated and will be removed from pandas in a future version. Use pandas.concat instead.\n",
            "  ResultsCollection=ResultsCollection.append(IterResults, ignore_index=True)\n",
            "\r 99%|█████████▊| 999/1012 [3:24:32<03:53, 17.94s/it]"
          ]
        },
        {
          "metadata": {
            "tags": null
          },
          "name": "stdout",
          "output_type": "stream",
          "text": [
            "14/14 [==============================] - 1s 3ms/step\n"
          ]
        },
        {
          "output_type": "stream",
          "name": "stderr",
          "text": [
            "<ipython-input-30-84f19216e9c9>:14: FutureWarning: The frame.append method is deprecated and will be removed from pandas in a future version. Use pandas.concat instead.\n",
            "  ResultsCollection=ResultsCollection.append(IterResults, ignore_index=True)\n",
            "\r 99%|█████████▉| 1000/1012 [3:24:50<03:35, 17.99s/it]"
          ]
        },
        {
          "output_type": "stream",
          "name": "stdout",
          "text": [
            "14/14 [==============================] - 0s 3ms/step\n"
          ]
        },
        {
          "output_type": "stream",
          "name": "stderr",
          "text": [
            "<ipython-input-30-84f19216e9c9>:14: FutureWarning: The frame.append method is deprecated and will be removed from pandas in a future version. Use pandas.concat instead.\n",
            "  ResultsCollection=ResultsCollection.append(IterResults, ignore_index=True)\n",
            "\r 99%|█████████▉| 1001/1012 [3:25:07<03:17, 17.93s/it]"
          ]
        },
        {
          "output_type": "stream",
          "name": "stdout",
          "text": [
            "14/14 [==============================] - 0s 3ms/step\n"
          ]
        },
        {
          "output_type": "stream",
          "name": "stderr",
          "text": [
            "<ipython-input-30-84f19216e9c9>:14: FutureWarning: The frame.append method is deprecated and will be removed from pandas in a future version. Use pandas.concat instead.\n",
            "  ResultsCollection=ResultsCollection.append(IterResults, ignore_index=True)\n",
            "\r 99%|█████████▉| 1002/1012 [3:25:25<02:59, 17.94s/it]"
          ]
        },
        {
          "output_type": "stream",
          "name": "stdout",
          "text": [
            "14/14 [==============================] - 0s 4ms/step\n"
          ]
        },
        {
          "output_type": "stream",
          "name": "stderr",
          "text": [
            "<ipython-input-30-84f19216e9c9>:14: FutureWarning: The frame.append method is deprecated and will be removed from pandas in a future version. Use pandas.concat instead.\n",
            "  ResultsCollection=ResultsCollection.append(IterResults, ignore_index=True)\n",
            "\r 99%|█████████▉| 1003/1012 [3:25:43<02:41, 17.94s/it]"
          ]
        },
        {
          "output_type": "stream",
          "name": "stdout",
          "text": [
            "14/14 [==============================] - 0s 3ms/step\n"
          ]
        },
        {
          "output_type": "stream",
          "name": "stderr",
          "text": [
            "<ipython-input-30-84f19216e9c9>:14: FutureWarning: The frame.append method is deprecated and will be removed from pandas in a future version. Use pandas.concat instead.\n",
            "  ResultsCollection=ResultsCollection.append(IterResults, ignore_index=True)\n",
            "\r 99%|█████████▉| 1004/1012 [3:26:01<02:23, 17.98s/it]"
          ]
        },
        {
          "output_type": "stream",
          "name": "stdout",
          "text": [
            "14/14 [==============================] - 0s 3ms/step\n"
          ]
        },
        {
          "output_type": "stream",
          "name": "stderr",
          "text": [
            "<ipython-input-30-84f19216e9c9>:14: FutureWarning: The frame.append method is deprecated and will be removed from pandas in a future version. Use pandas.concat instead.\n",
            "  ResultsCollection=ResultsCollection.append(IterResults, ignore_index=True)\n",
            "\r 99%|█████████▉| 1005/1012 [3:26:20<02:06, 18.04s/it]"
          ]
        },
        {
          "output_type": "stream",
          "name": "stdout",
          "text": [
            "14/14 [==============================] - 1s 4ms/step\n"
          ]
        },
        {
          "output_type": "stream",
          "name": "stderr",
          "text": [
            "<ipython-input-30-84f19216e9c9>:14: FutureWarning: The frame.append method is deprecated and will be removed from pandas in a future version. Use pandas.concat instead.\n",
            "  ResultsCollection=ResultsCollection.append(IterResults, ignore_index=True)\n",
            "\r 99%|█████████▉| 1006/1012 [3:26:37<01:48, 18.01s/it]"
          ]
        },
        {
          "output_type": "stream",
          "name": "stdout",
          "text": [
            "14/14 [==============================] - 0s 3ms/step\n"
          ]
        },
        {
          "output_type": "stream",
          "name": "stderr",
          "text": [
            "<ipython-input-30-84f19216e9c9>:14: FutureWarning: The frame.append method is deprecated and will be removed from pandas in a future version. Use pandas.concat instead.\n",
            "  ResultsCollection=ResultsCollection.append(IterResults, ignore_index=True)\n",
            "\r100%|█████████▉| 1007/1012 [3:26:55<01:30, 18.01s/it]"
          ]
        },
        {
          "output_type": "stream",
          "name": "stdout",
          "text": [
            "14/14 [==============================] - 0s 3ms/step\n"
          ]
        },
        {
          "output_type": "stream",
          "name": "stderr",
          "text": [
            "<ipython-input-30-84f19216e9c9>:14: FutureWarning: The frame.append method is deprecated and will be removed from pandas in a future version. Use pandas.concat instead.\n",
            "  ResultsCollection=ResultsCollection.append(IterResults, ignore_index=True)\n",
            "\r100%|█████████▉| 1008/1012 [3:27:13<01:12, 18.01s/it]"
          ]
        },
        {
          "output_type": "stream",
          "name": "stdout",
          "text": [
            "14/14 [==============================] - 0s 3ms/step\n"
          ]
        },
        {
          "output_type": "stream",
          "name": "stderr",
          "text": [
            "<ipython-input-30-84f19216e9c9>:14: FutureWarning: The frame.append method is deprecated and will be removed from pandas in a future version. Use pandas.concat instead.\n",
            "  ResultsCollection=ResultsCollection.append(IterResults, ignore_index=True)\n",
            "\r100%|█████████▉| 1009/1012 [3:27:31<00:53, 17.99s/it]"
          ]
        },
        {
          "output_type": "stream",
          "name": "stdout",
          "text": [
            "14/14 [==============================] - 0s 3ms/step\n"
          ]
        },
        {
          "output_type": "stream",
          "name": "stderr",
          "text": [
            "<ipython-input-30-84f19216e9c9>:14: FutureWarning: The frame.append method is deprecated and will be removed from pandas in a future version. Use pandas.concat instead.\n",
            "  ResultsCollection=ResultsCollection.append(IterResults, ignore_index=True)\n",
            "\r100%|█████████▉| 1010/1012 [3:27:50<00:36, 18.04s/it]"
          ]
        },
        {
          "output_type": "stream",
          "name": "stdout",
          "text": [
            "14/14 [==============================] - 0s 3ms/step\n"
          ]
        },
        {
          "output_type": "stream",
          "name": "stderr",
          "text": [
            "<ipython-input-30-84f19216e9c9>:14: FutureWarning: The frame.append method is deprecated and will be removed from pandas in a future version. Use pandas.concat instead.\n",
            "  ResultsCollection=ResultsCollection.append(IterResults, ignore_index=True)\n",
            "\r100%|█████████▉| 1011/1012 [3:28:08<00:18, 18.07s/it]"
          ]
        },
        {
          "output_type": "stream",
          "name": "stdout",
          "text": [
            "14/14 [==============================] - 0s 3ms/step\n"
          ]
        },
        {
          "output_type": "stream",
          "name": "stderr",
          "text": [
            "<ipython-input-30-84f19216e9c9>:14: FutureWarning: The frame.append method is deprecated and will be removed from pandas in a future version. Use pandas.concat instead.\n",
            "  ResultsCollection=ResultsCollection.append(IterResults, ignore_index=True)\n",
            "100%|██████████| 1012/1012 [3:28:26<00:00, 12.36s/it]\n"
          ]
        }
      ]
    },
    {
      "cell_type": "code",
      "source": [],
      "metadata": {
        "id": "WSyxRAU5QU3r"
      },
      "execution_count": null,
      "outputs": []
    }
  ],
  "metadata": {
    "colab": {
      "provenance": [],
      "machine_shape": "hm"
    },
    "kernelspec": {
      "display_name": "Python 3",
      "name": "python3"
    },
    "language_info": {
      "name": "python"
    }
  },
  "nbformat": 4,
  "nbformat_minor": 0
}